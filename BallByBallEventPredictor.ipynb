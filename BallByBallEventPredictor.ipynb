{
 "cells": [
  {
   "cell_type": "markdown",
   "metadata": {},
   "source": [
    "---\n",
    "title: \"Project Step II\"\n",
    "subtitle: \"Group 11 - Ball by Ball Event Predictor\"\n",
    "date: 10/17/2023\n",
    "date-modified: last-modified\n",
    "date-format: long\n",
    "format:\n",
    "  html:\n",
    "    theme: [cosmo, theme.scss]\n",
    "    toc: true\n",
    "    embed-resources: true\n",
    "    number-sections: true\n",
    "author:\n",
    "  - name: Tegveer Ghura\n",
    "    affiliations:\n",
    "      - id: gu\n",
    "        name: Georgetown University\n",
    "        city: Washington\n",
    "        state: DC\n",
    "---"
   ]
  },
  {
   "cell_type": "markdown",
   "metadata": {},
   "source": [
    "# Data Preparation "
   ]
  },
  {
   "cell_type": "markdown",
   "metadata": {},
   "source": [
    "## Import the necessary libraries"
   ]
  },
  {
   "cell_type": "code",
   "execution_count": 120,
   "metadata": {},
   "outputs": [],
   "source": [
    "import random\n",
    "random.seed(1310)\n",
    "from seaborn.palettes import color_palette\n",
    "import pandas as pd\n",
    "import numpy as np\n",
    "import seaborn as sns\n",
    "import matplotlib.pyplot as plt\n",
    "%matplotlib inline\n",
    "from sklearn.preprocessing import LabelEncoder\n",
    "import re\n",
    "import plotly.express as px\n",
    "import plotly.io as pio\n",
    "#pio.renderers.default = \"notebook\"\n",
    "pio.renderers.default = \"plotly_mimetype+notebook_connected\"\n",
    "from sklearn.metrics import classification_report, confusion_matrix, ConfusionMatrixDisplay\n",
    "from sklearn.exceptions import ConvergenceWarning\n",
    "from sklearn.exceptions import DataConversionWarning\n",
    "ConvergenceWarning('ignore')\n",
    "DataConversionWarning('ignore')\n",
    "from sklearn.model_selection import cross_val_score, RepeatedKFold, GridSearchCV, RandomizedSearchCV\n",
    "from sklearn.linear_model import LogisticRegression\n",
    "from sklearn.tree import DecisionTreeClassifier\n",
    "from sklearn.naive_bayes import GaussianNB\n",
    "from sklearn.ensemble import GradientBoostingClassifier, BaggingClassifier, RandomForestClassifier, StackingClassifier, AdaBoostClassifier\n",
    "from xgboost import XGBClassifier\n",
    "from catboost import CatBoostClassifier\n",
    "import pickle\n",
    "import joblib\n",
    "import json\n",
    "import sys\n",
    "import os\n",
    "import shutil\n",
    "import warnings"
   ]
  },
  {
   "cell_type": "markdown",
   "metadata": {},
   "source": [
    "# Load the dataset and display the dataframe "
   ]
  },
  {
   "cell_type": "code",
   "execution_count": 61,
   "metadata": {},
   "outputs": [],
   "source": [
    "df = pd.read_csv('data/raw/deliveries.csv', encoding = \"ISO-8859-1\", na_filter=False)"
   ]
  },
  {
   "cell_type": "code",
   "execution_count": 62,
   "metadata": {},
   "outputs": [
    {
     "data": {
      "text/html": [
       "<div>\n",
       "<style scoped>\n",
       "    .dataframe tbody tr th:only-of-type {\n",
       "        vertical-align: middle;\n",
       "    }\n",
       "\n",
       "    .dataframe tbody tr th {\n",
       "        vertical-align: top;\n",
       "    }\n",
       "\n",
       "    .dataframe thead th {\n",
       "        text-align: right;\n",
       "    }\n",
       "</style>\n",
       "<table border=\"1\" class=\"dataframe\">\n",
       "  <thead>\n",
       "    <tr style=\"text-align: right;\">\n",
       "      <th></th>\n",
       "      <th>season</th>\n",
       "      <th>match_id</th>\n",
       "      <th>venue</th>\n",
       "      <th>inning</th>\n",
       "      <th>batting_team</th>\n",
       "      <th>bowling_team</th>\n",
       "      <th>batsman</th>\n",
       "      <th>non_striker</th>\n",
       "      <th>bowler</th>\n",
       "      <th>ball</th>\n",
       "      <th>...</th>\n",
       "      <th>noball_runs</th>\n",
       "      <th>penalty_runs</th>\n",
       "      <th>batsman_runs</th>\n",
       "      <th>extra_runs</th>\n",
       "      <th>total_runs</th>\n",
       "      <th>player_dismissed</th>\n",
       "      <th>dismissal_kind</th>\n",
       "      <th>fielder</th>\n",
       "      <th>wickets</th>\n",
       "      <th>commentary</th>\n",
       "    </tr>\n",
       "  </thead>\n",
       "  <tbody>\n",
       "    <tr>\n",
       "      <th>0</th>\n",
       "      <td>2008</td>\n",
       "      <td>1</td>\n",
       "      <td>Bangalore</td>\n",
       "      <td>1</td>\n",
       "      <td>Kolkata Knight Riders</td>\n",
       "      <td>Royal Challengers Bangalore</td>\n",
       "      <td>SC Ganguly</td>\n",
       "      <td>BB McCullum</td>\n",
       "      <td>P Kumar</td>\n",
       "      <td>0.1</td>\n",
       "      <td>...</td>\n",
       "      <td>0</td>\n",
       "      <td>0</td>\n",
       "      <td>0</td>\n",
       "      <td>1</td>\n",
       "      <td>1</td>\n",
       "      <td></td>\n",
       "      <td></td>\n",
       "      <td></td>\n",
       "      <td>0</td>\n",
       "      <td>Kumar to Ganguly, 1 leg bye, and thats runs im...</td>\n",
       "    </tr>\n",
       "    <tr>\n",
       "      <th>1</th>\n",
       "      <td>2008</td>\n",
       "      <td>1</td>\n",
       "      <td>Bangalore</td>\n",
       "      <td>1</td>\n",
       "      <td>Kolkata Knight Riders</td>\n",
       "      <td>Royal Challengers Bangalore</td>\n",
       "      <td>BB McCullum</td>\n",
       "      <td>SC Ganguly</td>\n",
       "      <td>P Kumar</td>\n",
       "      <td>0.2</td>\n",
       "      <td>...</td>\n",
       "      <td>0</td>\n",
       "      <td>0</td>\n",
       "      <td>0</td>\n",
       "      <td>0</td>\n",
       "      <td>0</td>\n",
       "      <td></td>\n",
       "      <td></td>\n",
       "      <td></td>\n",
       "      <td>0</td>\n",
       "      <td>Kumar to McCullum, no run, this one nips back ...</td>\n",
       "    </tr>\n",
       "    <tr>\n",
       "      <th>2</th>\n",
       "      <td>2008</td>\n",
       "      <td>1</td>\n",
       "      <td>Bangalore</td>\n",
       "      <td>1</td>\n",
       "      <td>Kolkata Knight Riders</td>\n",
       "      <td>Royal Challengers Bangalore</td>\n",
       "      <td>BB McCullum</td>\n",
       "      <td>SC Ganguly</td>\n",
       "      <td>P Kumar</td>\n",
       "      <td>0.3</td>\n",
       "      <td>...</td>\n",
       "      <td>0</td>\n",
       "      <td>0</td>\n",
       "      <td>0</td>\n",
       "      <td>1</td>\n",
       "      <td>1</td>\n",
       "      <td></td>\n",
       "      <td></td>\n",
       "      <td></td>\n",
       "      <td>0</td>\n",
       "      <td>Kumar to McCullum, 1 wide, thats wide, as Prav...</td>\n",
       "    </tr>\n",
       "    <tr>\n",
       "      <th>3</th>\n",
       "      <td>2008</td>\n",
       "      <td>1</td>\n",
       "      <td>Bangalore</td>\n",
       "      <td>1</td>\n",
       "      <td>Kolkata Knight Riders</td>\n",
       "      <td>Royal Challengers Bangalore</td>\n",
       "      <td>BB McCullum</td>\n",
       "      <td>SC Ganguly</td>\n",
       "      <td>P Kumar</td>\n",
       "      <td>0.3</td>\n",
       "      <td>...</td>\n",
       "      <td>0</td>\n",
       "      <td>0</td>\n",
       "      <td>0</td>\n",
       "      <td>0</td>\n",
       "      <td>0</td>\n",
       "      <td></td>\n",
       "      <td></td>\n",
       "      <td></td>\n",
       "      <td>0</td>\n",
       "      <td>Kumar to McCullum, no run, too straight, McCul...</td>\n",
       "    </tr>\n",
       "    <tr>\n",
       "      <th>4</th>\n",
       "      <td>2008</td>\n",
       "      <td>1</td>\n",
       "      <td>Bangalore</td>\n",
       "      <td>1</td>\n",
       "      <td>Kolkata Knight Riders</td>\n",
       "      <td>Royal Challengers Bangalore</td>\n",
       "      <td>BB McCullum</td>\n",
       "      <td>SC Ganguly</td>\n",
       "      <td>P Kumar</td>\n",
       "      <td>0.4</td>\n",
       "      <td>...</td>\n",
       "      <td>0</td>\n",
       "      <td>0</td>\n",
       "      <td>0</td>\n",
       "      <td>0</td>\n",
       "      <td>0</td>\n",
       "      <td></td>\n",
       "      <td></td>\n",
       "      <td></td>\n",
       "      <td>0</td>\n",
       "      <td>Kumar to McCullum, no run, steps down the trac...</td>\n",
       "    </tr>\n",
       "  </tbody>\n",
       "</table>\n",
       "<p>5 rows × 23 columns</p>\n",
       "</div>"
      ],
      "text/plain": [
       "   season match_id      venue  inning           batting_team  \\\n",
       "0    2008        1  Bangalore       1  Kolkata Knight Riders   \n",
       "1    2008        1  Bangalore       1  Kolkata Knight Riders   \n",
       "2    2008        1  Bangalore       1  Kolkata Knight Riders   \n",
       "3    2008        1  Bangalore       1  Kolkata Knight Riders   \n",
       "4    2008        1  Bangalore       1  Kolkata Knight Riders   \n",
       "\n",
       "                  bowling_team      batsman  non_striker   bowler  ball  ...  \\\n",
       "0  Royal Challengers Bangalore   SC Ganguly  BB McCullum  P Kumar   0.1  ...   \n",
       "1  Royal Challengers Bangalore  BB McCullum   SC Ganguly  P Kumar   0.2  ...   \n",
       "2  Royal Challengers Bangalore  BB McCullum   SC Ganguly  P Kumar   0.3  ...   \n",
       "3  Royal Challengers Bangalore  BB McCullum   SC Ganguly  P Kumar   0.3  ...   \n",
       "4  Royal Challengers Bangalore  BB McCullum   SC Ganguly  P Kumar   0.4  ...   \n",
       "\n",
       "   noball_runs  penalty_runs  batsman_runs  extra_runs  total_runs  \\\n",
       "0            0             0             0           1           1   \n",
       "1            0             0             0           0           0   \n",
       "2            0             0             0           1           1   \n",
       "3            0             0             0           0           0   \n",
       "4            0             0             0           0           0   \n",
       "\n",
       "   player_dismissed  dismissal_kind  fielder wickets  \\\n",
       "0                                                  0   \n",
       "1                                                  0   \n",
       "2                                                  0   \n",
       "3                                                  0   \n",
       "4                                                  0   \n",
       "\n",
       "                                          commentary  \n",
       "0  Kumar to Ganguly, 1 leg bye, and thats runs im...  \n",
       "1  Kumar to McCullum, no run, this one nips back ...  \n",
       "2  Kumar to McCullum, 1 wide, thats wide, as Prav...  \n",
       "3  Kumar to McCullum, no run, too straight, McCul...  \n",
       "4  Kumar to McCullum, no run, steps down the trac...  \n",
       "\n",
       "[5 rows x 23 columns]"
      ]
     },
     "execution_count": 62,
     "metadata": {},
     "output_type": "execute_result"
    }
   ],
   "source": [
    "df.head()"
   ]
  },
  {
   "cell_type": "code",
   "execution_count": 63,
   "metadata": {},
   "outputs": [
    {
     "data": {
      "text/html": [
       "<div>\n",
       "<style scoped>\n",
       "    .dataframe tbody tr th:only-of-type {\n",
       "        vertical-align: middle;\n",
       "    }\n",
       "\n",
       "    .dataframe tbody tr th {\n",
       "        vertical-align: top;\n",
       "    }\n",
       "\n",
       "    .dataframe thead th {\n",
       "        text-align: right;\n",
       "    }\n",
       "</style>\n",
       "<table border=\"1\" class=\"dataframe\">\n",
       "  <thead>\n",
       "    <tr style=\"text-align: right;\">\n",
       "      <th></th>\n",
       "      <th>season</th>\n",
       "      <th>match_id</th>\n",
       "      <th>venue</th>\n",
       "      <th>inning</th>\n",
       "      <th>batting_team</th>\n",
       "      <th>bowling_team</th>\n",
       "      <th>batsman</th>\n",
       "      <th>non_striker</th>\n",
       "      <th>bowler</th>\n",
       "      <th>ball</th>\n",
       "      <th>...</th>\n",
       "      <th>noball_runs</th>\n",
       "      <th>penalty_runs</th>\n",
       "      <th>batsman_runs</th>\n",
       "      <th>extra_runs</th>\n",
       "      <th>total_runs</th>\n",
       "      <th>player_dismissed</th>\n",
       "      <th>dismissal_kind</th>\n",
       "      <th>fielder</th>\n",
       "      <th>wickets</th>\n",
       "      <th>commentary</th>\n",
       "    </tr>\n",
       "  </thead>\n",
       "  <tbody>\n",
       "    <tr>\n",
       "      <th>131996</th>\n",
       "      <td>2019</td>\n",
       "      <td>final</td>\n",
       "      <td>Hyderabad</td>\n",
       "      <td>2</td>\n",
       "      <td>Chennai Super Kings</td>\n",
       "      <td>Mumbai Indians</td>\n",
       "      <td>RA Jadeja</td>\n",
       "      <td>SR Watson</td>\n",
       "      <td>SL Malinga</td>\n",
       "      <td>19.2</td>\n",
       "      <td>...</td>\n",
       "      <td>0</td>\n",
       "      <td>0</td>\n",
       "      <td>1</td>\n",
       "      <td>0</td>\n",
       "      <td>1</td>\n",
       "      <td></td>\n",
       "      <td></td>\n",
       "      <td></td>\n",
       "      <td>5</td>\n",
       "      <td>Malinga to Jadeja, 1 run, low full toss on mid...</td>\n",
       "    </tr>\n",
       "    <tr>\n",
       "      <th>131997</th>\n",
       "      <td>2019</td>\n",
       "      <td>final</td>\n",
       "      <td>Hyderabad</td>\n",
       "      <td>2</td>\n",
       "      <td>Chennai Super Kings</td>\n",
       "      <td>Mumbai Indians</td>\n",
       "      <td>SR Watson</td>\n",
       "      <td>RA Jadeja</td>\n",
       "      <td>SL Malinga</td>\n",
       "      <td>19.3</td>\n",
       "      <td>...</td>\n",
       "      <td>0</td>\n",
       "      <td>0</td>\n",
       "      <td>2</td>\n",
       "      <td>0</td>\n",
       "      <td>2</td>\n",
       "      <td></td>\n",
       "      <td></td>\n",
       "      <td></td>\n",
       "      <td>5</td>\n",
       "      <td>Malinga to Watson, 2 runs, yorker, just outsid...</td>\n",
       "    </tr>\n",
       "    <tr>\n",
       "      <th>131998</th>\n",
       "      <td>2019</td>\n",
       "      <td>final</td>\n",
       "      <td>Hyderabad</td>\n",
       "      <td>2</td>\n",
       "      <td>Chennai Super Kings</td>\n",
       "      <td>Mumbai Indians</td>\n",
       "      <td>SR Watson</td>\n",
       "      <td>RA Jadeja</td>\n",
       "      <td>SL Malinga</td>\n",
       "      <td>19.4</td>\n",
       "      <td>...</td>\n",
       "      <td>0</td>\n",
       "      <td>0</td>\n",
       "      <td>1</td>\n",
       "      <td>0</td>\n",
       "      <td>1</td>\n",
       "      <td>SR Watson</td>\n",
       "      <td>run out</td>\n",
       "      <td>KH Pandya</td>\n",
       "      <td>6</td>\n",
       "      <td>Malinga to Watson, 1 run, OUT, yorker, just ou...</td>\n",
       "    </tr>\n",
       "    <tr>\n",
       "      <th>131999</th>\n",
       "      <td>2019</td>\n",
       "      <td>final</td>\n",
       "      <td>Hyderabad</td>\n",
       "      <td>2</td>\n",
       "      <td>Chennai Super Kings</td>\n",
       "      <td>Mumbai Indians</td>\n",
       "      <td>SN Thakur</td>\n",
       "      <td>RA Jadeja</td>\n",
       "      <td>SL Malinga</td>\n",
       "      <td>19.5</td>\n",
       "      <td>...</td>\n",
       "      <td>0</td>\n",
       "      <td>0</td>\n",
       "      <td>2</td>\n",
       "      <td>0</td>\n",
       "      <td>2</td>\n",
       "      <td></td>\n",
       "      <td></td>\n",
       "      <td></td>\n",
       "      <td>6</td>\n",
       "      <td>Malinga to Thakur, 2 runs, full toss on leg, a...</td>\n",
       "    </tr>\n",
       "    <tr>\n",
       "      <th>132000</th>\n",
       "      <td>2019</td>\n",
       "      <td>final</td>\n",
       "      <td>Hyderabad</td>\n",
       "      <td>2</td>\n",
       "      <td>Chennai Super Kings</td>\n",
       "      <td>Mumbai Indians</td>\n",
       "      <td>SN Thakur</td>\n",
       "      <td>RA Jadeja</td>\n",
       "      <td>SL Malinga</td>\n",
       "      <td>19.6</td>\n",
       "      <td>...</td>\n",
       "      <td>0</td>\n",
       "      <td>0</td>\n",
       "      <td>0</td>\n",
       "      <td>0</td>\n",
       "      <td>0</td>\n",
       "      <td>SN Thakur</td>\n",
       "      <td>lbw</td>\n",
       "      <td></td>\n",
       "      <td>7</td>\n",
       "      <td>Malinga to Thakur, OUT, Mumbai Indians win IPL...</td>\n",
       "    </tr>\n",
       "  </tbody>\n",
       "</table>\n",
       "<p>5 rows × 23 columns</p>\n",
       "</div>"
      ],
      "text/plain": [
       "        season match_id      venue  inning         batting_team  \\\n",
       "131996    2019    final  Hyderabad       2  Chennai Super Kings   \n",
       "131997    2019    final  Hyderabad       2  Chennai Super Kings   \n",
       "131998    2019    final  Hyderabad       2  Chennai Super Kings   \n",
       "131999    2019    final  Hyderabad       2  Chennai Super Kings   \n",
       "132000    2019    final  Hyderabad       2  Chennai Super Kings   \n",
       "\n",
       "          bowling_team    batsman non_striker      bowler  ball  ...  \\\n",
       "131996  Mumbai Indians  RA Jadeja   SR Watson  SL Malinga  19.2  ...   \n",
       "131997  Mumbai Indians  SR Watson   RA Jadeja  SL Malinga  19.3  ...   \n",
       "131998  Mumbai Indians  SR Watson   RA Jadeja  SL Malinga  19.4  ...   \n",
       "131999  Mumbai Indians  SN Thakur   RA Jadeja  SL Malinga  19.5  ...   \n",
       "132000  Mumbai Indians  SN Thakur   RA Jadeja  SL Malinga  19.6  ...   \n",
       "\n",
       "        noball_runs  penalty_runs  batsman_runs  extra_runs  total_runs  \\\n",
       "131996            0             0             1           0           1   \n",
       "131997            0             0             2           0           2   \n",
       "131998            0             0             1           0           1   \n",
       "131999            0             0             2           0           2   \n",
       "132000            0             0             0           0           0   \n",
       "\n",
       "        player_dismissed  dismissal_kind    fielder wickets  \\\n",
       "131996                                                    5   \n",
       "131997                                                    5   \n",
       "131998         SR Watson         run out  KH Pandya       6   \n",
       "131999                                                    6   \n",
       "132000         SN Thakur             lbw                  7   \n",
       "\n",
       "                                               commentary  \n",
       "131996  Malinga to Jadeja, 1 run, low full toss on mid...  \n",
       "131997  Malinga to Watson, 2 runs, yorker, just outsid...  \n",
       "131998  Malinga to Watson, 1 run, OUT, yorker, just ou...  \n",
       "131999  Malinga to Thakur, 2 runs, full toss on leg, a...  \n",
       "132000  Malinga to Thakur, OUT, Mumbai Indians win IPL...  \n",
       "\n",
       "[5 rows x 23 columns]"
      ]
     },
     "execution_count": 63,
     "metadata": {},
     "output_type": "execute_result"
    }
   ],
   "source": [
    "df.tail()"
   ]
  },
  {
   "cell_type": "code",
   "execution_count": 64,
   "metadata": {},
   "outputs": [
    {
     "data": {
      "text/plain": [
       "(132001, 23)"
      ]
     },
     "execution_count": 64,
     "metadata": {},
     "output_type": "execute_result"
    }
   ],
   "source": [
    "df.shape"
   ]
  },
  {
   "cell_type": "code",
   "execution_count": 65,
   "metadata": {},
   "outputs": [
    {
     "data": {
      "text/plain": [
       "Index(['season', 'match_id', 'venue', 'inning', 'batting_team', 'bowling_team',\n",
       "       'batsman', 'non_striker', 'bowler', 'ball', 'wide_runs', 'bye_runs',\n",
       "       'legbye_runs', 'noball_runs', 'penalty_runs', 'batsman_runs',\n",
       "       'extra_runs', 'total_runs', 'player_dismissed', 'dismissal_kind',\n",
       "       'fielder', 'wickets', 'commentary'],\n",
       "      dtype='object')"
      ]
     },
     "execution_count": 65,
     "metadata": {},
     "output_type": "execute_result"
    }
   ],
   "source": [
    "df.columns"
   ]
  },
  {
   "cell_type": "markdown",
   "metadata": {},
   "source": [
    "## Check for Missing Values/NAs"
   ]
  },
  {
   "cell_type": "code",
   "execution_count": 66,
   "metadata": {},
   "outputs": [
    {
     "data": {
      "text/plain": [
       "season              0\n",
       "match_id            0\n",
       "venue               0\n",
       "inning              0\n",
       "batting_team        0\n",
       "bowling_team        0\n",
       "batsman             0\n",
       "non_striker         0\n",
       "bowler              0\n",
       "ball                0\n",
       "wide_runs           0\n",
       "bye_runs            0\n",
       "legbye_runs         0\n",
       "noball_runs         0\n",
       "penalty_runs        0\n",
       "batsman_runs        0\n",
       "extra_runs          0\n",
       "total_runs          0\n",
       "player_dismissed    0\n",
       "dismissal_kind      0\n",
       "fielder             0\n",
       "wickets             0\n",
       "commentary          0\n",
       "dtype: int64"
      ]
     },
     "execution_count": 66,
     "metadata": {},
     "output_type": "execute_result"
    }
   ],
   "source": [
    "df.isna().sum()"
   ]
  },
  {
   "cell_type": "markdown",
   "metadata": {},
   "source": [
    "## Remove Unnecessary Columns"
   ]
  },
  {
   "cell_type": "code",
   "execution_count": 67,
   "metadata": {
    "scrolled": true
   },
   "outputs": [],
   "source": [
    "columns_to_remove = ['player_dismissed', 'fielder', 'penalty_runs']\n",
    "df.drop(labels=columns_to_remove, axis=1, inplace=True)"
   ]
  },
  {
   "cell_type": "code",
   "execution_count": 68,
   "metadata": {},
   "outputs": [
    {
     "data": {
      "text/html": [
       "<div>\n",
       "<style scoped>\n",
       "    .dataframe tbody tr th:only-of-type {\n",
       "        vertical-align: middle;\n",
       "    }\n",
       "\n",
       "    .dataframe tbody tr th {\n",
       "        vertical-align: top;\n",
       "    }\n",
       "\n",
       "    .dataframe thead th {\n",
       "        text-align: right;\n",
       "    }\n",
       "</style>\n",
       "<table border=\"1\" class=\"dataframe\">\n",
       "  <thead>\n",
       "    <tr style=\"text-align: right;\">\n",
       "      <th></th>\n",
       "      <th>season</th>\n",
       "      <th>match_id</th>\n",
       "      <th>venue</th>\n",
       "      <th>inning</th>\n",
       "      <th>batting_team</th>\n",
       "      <th>bowling_team</th>\n",
       "      <th>batsman</th>\n",
       "      <th>non_striker</th>\n",
       "      <th>bowler</th>\n",
       "      <th>ball</th>\n",
       "      <th>wide_runs</th>\n",
       "      <th>bye_runs</th>\n",
       "      <th>legbye_runs</th>\n",
       "      <th>noball_runs</th>\n",
       "      <th>batsman_runs</th>\n",
       "      <th>extra_runs</th>\n",
       "      <th>total_runs</th>\n",
       "      <th>dismissal_kind</th>\n",
       "      <th>wickets</th>\n",
       "      <th>commentary</th>\n",
       "    </tr>\n",
       "  </thead>\n",
       "  <tbody>\n",
       "    <tr>\n",
       "      <th>0</th>\n",
       "      <td>2008</td>\n",
       "      <td>1</td>\n",
       "      <td>Bangalore</td>\n",
       "      <td>1</td>\n",
       "      <td>Kolkata Knight Riders</td>\n",
       "      <td>Royal Challengers Bangalore</td>\n",
       "      <td>SC Ganguly</td>\n",
       "      <td>BB McCullum</td>\n",
       "      <td>P Kumar</td>\n",
       "      <td>0.1</td>\n",
       "      <td>0</td>\n",
       "      <td>0</td>\n",
       "      <td>1</td>\n",
       "      <td>0</td>\n",
       "      <td>0</td>\n",
       "      <td>1</td>\n",
       "      <td>1</td>\n",
       "      <td></td>\n",
       "      <td>0</td>\n",
       "      <td>Kumar to Ganguly, 1 leg bye, and thats runs im...</td>\n",
       "    </tr>\n",
       "    <tr>\n",
       "      <th>1</th>\n",
       "      <td>2008</td>\n",
       "      <td>1</td>\n",
       "      <td>Bangalore</td>\n",
       "      <td>1</td>\n",
       "      <td>Kolkata Knight Riders</td>\n",
       "      <td>Royal Challengers Bangalore</td>\n",
       "      <td>BB McCullum</td>\n",
       "      <td>SC Ganguly</td>\n",
       "      <td>P Kumar</td>\n",
       "      <td>0.2</td>\n",
       "      <td>0</td>\n",
       "      <td>0</td>\n",
       "      <td>0</td>\n",
       "      <td>0</td>\n",
       "      <td>0</td>\n",
       "      <td>0</td>\n",
       "      <td>0</td>\n",
       "      <td></td>\n",
       "      <td>0</td>\n",
       "      <td>Kumar to McCullum, no run, this one nips back ...</td>\n",
       "    </tr>\n",
       "    <tr>\n",
       "      <th>2</th>\n",
       "      <td>2008</td>\n",
       "      <td>1</td>\n",
       "      <td>Bangalore</td>\n",
       "      <td>1</td>\n",
       "      <td>Kolkata Knight Riders</td>\n",
       "      <td>Royal Challengers Bangalore</td>\n",
       "      <td>BB McCullum</td>\n",
       "      <td>SC Ganguly</td>\n",
       "      <td>P Kumar</td>\n",
       "      <td>0.3</td>\n",
       "      <td>1</td>\n",
       "      <td>0</td>\n",
       "      <td>0</td>\n",
       "      <td>0</td>\n",
       "      <td>0</td>\n",
       "      <td>1</td>\n",
       "      <td>1</td>\n",
       "      <td></td>\n",
       "      <td>0</td>\n",
       "      <td>Kumar to McCullum, 1 wide, thats wide, as Prav...</td>\n",
       "    </tr>\n",
       "    <tr>\n",
       "      <th>3</th>\n",
       "      <td>2008</td>\n",
       "      <td>1</td>\n",
       "      <td>Bangalore</td>\n",
       "      <td>1</td>\n",
       "      <td>Kolkata Knight Riders</td>\n",
       "      <td>Royal Challengers Bangalore</td>\n",
       "      <td>BB McCullum</td>\n",
       "      <td>SC Ganguly</td>\n",
       "      <td>P Kumar</td>\n",
       "      <td>0.3</td>\n",
       "      <td>0</td>\n",
       "      <td>0</td>\n",
       "      <td>0</td>\n",
       "      <td>0</td>\n",
       "      <td>0</td>\n",
       "      <td>0</td>\n",
       "      <td>0</td>\n",
       "      <td></td>\n",
       "      <td>0</td>\n",
       "      <td>Kumar to McCullum, no run, too straight, McCul...</td>\n",
       "    </tr>\n",
       "    <tr>\n",
       "      <th>4</th>\n",
       "      <td>2008</td>\n",
       "      <td>1</td>\n",
       "      <td>Bangalore</td>\n",
       "      <td>1</td>\n",
       "      <td>Kolkata Knight Riders</td>\n",
       "      <td>Royal Challengers Bangalore</td>\n",
       "      <td>BB McCullum</td>\n",
       "      <td>SC Ganguly</td>\n",
       "      <td>P Kumar</td>\n",
       "      <td>0.4</td>\n",
       "      <td>0</td>\n",
       "      <td>0</td>\n",
       "      <td>0</td>\n",
       "      <td>0</td>\n",
       "      <td>0</td>\n",
       "      <td>0</td>\n",
       "      <td>0</td>\n",
       "      <td></td>\n",
       "      <td>0</td>\n",
       "      <td>Kumar to McCullum, no run, steps down the trac...</td>\n",
       "    </tr>\n",
       "  </tbody>\n",
       "</table>\n",
       "</div>"
      ],
      "text/plain": [
       "   season match_id      venue  inning           batting_team  \\\n",
       "0    2008        1  Bangalore       1  Kolkata Knight Riders   \n",
       "1    2008        1  Bangalore       1  Kolkata Knight Riders   \n",
       "2    2008        1  Bangalore       1  Kolkata Knight Riders   \n",
       "3    2008        1  Bangalore       1  Kolkata Knight Riders   \n",
       "4    2008        1  Bangalore       1  Kolkata Knight Riders   \n",
       "\n",
       "                  bowling_team      batsman  non_striker   bowler  ball  \\\n",
       "0  Royal Challengers Bangalore   SC Ganguly  BB McCullum  P Kumar   0.1   \n",
       "1  Royal Challengers Bangalore  BB McCullum   SC Ganguly  P Kumar   0.2   \n",
       "2  Royal Challengers Bangalore  BB McCullum   SC Ganguly  P Kumar   0.3   \n",
       "3  Royal Challengers Bangalore  BB McCullum   SC Ganguly  P Kumar   0.3   \n",
       "4  Royal Challengers Bangalore  BB McCullum   SC Ganguly  P Kumar   0.4   \n",
       "\n",
       "   wide_runs  bye_runs  legbye_runs  noball_runs  batsman_runs  extra_runs  \\\n",
       "0          0         0            1            0             0           1   \n",
       "1          0         0            0            0             0           0   \n",
       "2          1         0            0            0             0           1   \n",
       "3          0         0            0            0             0           0   \n",
       "4          0         0            0            0             0           0   \n",
       "\n",
       "   total_runs dismissal_kind  wickets  \\\n",
       "0           1                       0   \n",
       "1           0                       0   \n",
       "2           1                       0   \n",
       "3           0                       0   \n",
       "4           0                       0   \n",
       "\n",
       "                                          commentary  \n",
       "0  Kumar to Ganguly, 1 leg bye, and thats runs im...  \n",
       "1  Kumar to McCullum, no run, this one nips back ...  \n",
       "2  Kumar to McCullum, 1 wide, thats wide, as Prav...  \n",
       "3  Kumar to McCullum, no run, too straight, McCul...  \n",
       "4  Kumar to McCullum, no run, steps down the trac...  "
      ]
     },
     "execution_count": 68,
     "metadata": {},
     "output_type": "execute_result"
    }
   ],
   "source": [
    "df.head()"
   ]
  },
  {
   "cell_type": "markdown",
   "metadata": {},
   "source": [
    "## Feature Engineering Bowler Type"
   ]
  },
  {
   "cell_type": "markdown",
   "metadata": {},
   "source": [
    "In the code cell below, we have created a custom list of all spin bowlers for each team. We have then modified the `bowler` column in the dataframe which will be used to identify the type of bowler, either \"spinner\" or \"pacer\". Therefore, instead of dropping the `bowler` column, we have created a new column `bowler_type` which will be used for our analysis and enhance the predictive power of our models."
   ]
  },
  {
   "cell_type": "code",
   "execution_count": 69,
   "metadata": {},
   "outputs": [],
   "source": [
    "# Replacing all spinner names with 'spinner' and all pacer names with 'pacer' under `bowler` column\n",
    "\n",
    "rcb_spin = ['SB Joshi', 'KP Appanna', 'A Kumble', 'J Arunkumar', 'Abdur Razzak', 'CL White', 'TM Dilshan',\n",
    "            'KP Pietersen', 'RE van der Merwe', 'S Sriram', 'DL Vettori', 'KB Arun Karthik', 'CH Gayle', 'S Sriram',\n",
    "            'AA Kazi', 'R Ninan', 'J Syed Mohammad', 'M Muralitharan', 'M Kartik', 'P R Barman', 'Sachin Baby',\n",
    "            'YS Chahal', 'Yuvraj Singh', 'SB Jakati', 'Iqbal Abdulla', 'T Shamsi', 'Parvez Rasool',\n",
    "            'S Baby', 'TM Head', 'KM Jadhav', 'P Negi', 'S Badree', 'Washington Sundar', 'M Ali', 'M Ashwin']\n",
    "\n",
    "mi_spin = ['A Dananjaya', 'AG Murtaza', 'A Roy', 'GJ Maxwell', 'Harbhajan Singh', 'J Suchith', 'J Yadav',\n",
    "           'JP Duminy', 'KH Pandya', 'KV Sharma', 'M Markande', 'N Rana', 'PP Ojha', 'RD Chahar', 'RG Sharma',\n",
    "           'RJ Peterson', 'RW Price', 'S Gopal', 'SD Chitnis', 'ST Jayasuriya', 'TL Suman', 'VS Yeligati']\n",
    "\n",
    "kkr_spin = ['BAW Mendis','BJ Hodge', 'DJ Hussey', 'GB Hogg', 'J Botha', 'KC Cariappa', 'M Kartik', 'CH Gayle',\n",
    "            'Iqbal Abdulla', 'Kuldeep Yadav', 'MB Parmar', 'MK Tiwary', 'Mohammad Hafeez', 'N Rana',\n",
    "            'PP Chawla', 'RS Gavaskar', 'S Ladda', 'Shakib Al Hasan', 'SMSM Senanayake', 'SP Narine', 'YK Pathan']\n",
    "\n",
    "csk_spin = ['DJ Hussey', 'F du Plessis', 'Harbhajan Singh', 'Imran Tahir', 'RA Jadeja', 'KV Sharma', 'M Santner',\n",
    "            'M Muralitharan', 'P Negi', 'R Ashwin', 'S Badree', 'S Randiv', 'S Vidyut', 'SB Jakati', 'SK Raina',\n",
    "            'SMSM Senanayake']\n",
    "\n",
    "dc_spin = ['A Mishra', 'AA Jhunjhunwala', 'Ankit Sharma', 'CL White', 'PP Ojha', 'DB Ravi Teja', 'JP Duminy',\n",
    "           'LPC Silva', 'R Sharma', 'RG Sharma', 'S Dhawan', 'Shahid Afridi', 'TL Suman', 'Y Venugopal Rao']\n",
    "\n",
    "dd_spin = ['A Mishra', 'AJ Finch', 'AR Patel', 'BMAJ Mendis', 'DL Vettori', 'GJ Maxwell', 'H Vihari', 'Imran Tahir',\n",
    "           'J Suchith', 'J Botha', 'J Yadav', 'JP Duminy', 'KP Pietersen', 'MK Tiwary', 'P Negi', 'R Sharma',\n",
    "           'R Tewatia', 'RE van der Merwe', 'S Ladda', 'S Lamichhane', 'S Nadeem', 'S Sriram', 'Shoaib Malik',\n",
    "           'TM Dilshan', 'Sunny Gupta', 'V Sehwag', 'Y Venugopal Rao', 'Yuvraj Singh', 'Y Nagar']\n",
    "\n",
    "srh_spin = ['A Mishra', 'Ankit Sharma', 'Bipul Sharma', 'CL White', 'DJ Hooda', 'KS Williamson', 'KV Sharma',\n",
    "            'Mohammad Nabi', 'Parvez Rasool', 'Rashid Khan', 'S Nadeem', 'Shakib Al Hasan', 'Y Venugopal Rao', 'YK Pathan',\n",
    "            'Yuvraj Singh']\n",
    "\n",
    "rr_spin = ['A Chandila', 'AA Chavan', 'AA Jhunjhunwala', 'AC Voges', 'AJ Finch', 'AL Menaria', 'Ankit Sharma',\n",
    "           'AS Raut', 'BJ Hodge', 'D Short', 'DJ Hooda', 'D Salunkhe', 'GB Hogg', 'I Sodhi', 'J Botha', 'K Gowtham',\n",
    "           'L Livingstone', 'LRPL Taylor', 'M Lomror', 'PV Tambe', 'ND Doshi', 'R Parag', 'R Tewatia', 'S Badree',\n",
    "           'S Gopal', 'RA Jadeja', 'S Midhun', 'SK Warne', 'YK Pathan']\n",
    "\n",
    "punj_spin = ['AC Gilchrist', 'AR Patel', 'BA Bhatt', 'Bipul Sharma', 'DJ Hussey', 'GJ Maxwell', 'Gurkeerat Singh'\n",
    "            'H Brar', 'Karanveer Singh', 'KC Cariappa', 'M Ashwin', 'M Kartik', 'M Ur Rahman', 'M Vijay', 'MK Tiwary',\n",
    "             'P Sahu', 'PP Chawla', 'R Ashwin', 'R Tewatia', 'RR Powar', 'Shivam Sharma', 'SN Khan', 'Swapnil Singh',\n",
    "             'V Chakravarthy', 'Yuvraj Singh']"
   ]
  },
  {
   "cell_type": "code",
   "execution_count": 70,
   "metadata": {},
   "outputs": [],
   "source": [
    "# Replacing all spin bowlers' names with 'spinner' under `bowler` column\n",
    "\n",
    "df.loc[(df.bowling_team=='Royal Challengers Bangalore')&(df.bowler.isin(rcb_spin)),'bowler'] = 'spinner'\n",
    "df.loc[(df.bowling_team=='Delhi Capitals')&(df.bowler.isin(dd_spin)),'bowler'] = 'spinner'\n",
    "df.loc[(df.bowling_team=='Delhi Daredevils')&(df.bowler.isin(dd_spin)),'bowler'] = 'spinner'\n",
    "df.loc[(df.bowling_team=='Mumbai Indians')&(df.bowler.isin(mi_spin)),'bowler'] = 'spinner'\n",
    "df.loc[(df.bowling_team=='Chennai Super Kings')&(df.bowler.isin(csk_spin)),'bowler'] = 'spinner'\n",
    "df.loc[(df.bowling_team=='Kings XI Punjab')&(df.bowler.isin(punj_spin)),'bowler'] = 'spinner'\n",
    "df.loc[(df.bowling_team=='Sunrisers Hyderabad')&(df.bowler.isin(srh_spin)),'bowler'] = 'spinner'\n",
    "df.loc[(df.bowling_team=='Kolkata Knight Riders')&(df.bowler.isin(kkr_spin)),'bowler'] = 'spinner'\n",
    "df.loc[(df.bowling_team=='Deccan Chargers')&(df.bowler.isin(dc_spin)),'bowler'] = 'spinner'\n",
    "df.loc[(df.bowling_team=='Rajasthan Royals')&(df.bowler.isin(rr_spin)),'bowler'] = 'spinner'"
   ]
  },
  {
   "cell_type": "code",
   "execution_count": 71,
   "metadata": {},
   "outputs": [],
   "source": [
    "# Replacing all fast/pace bowlers' names with 'pacer' under `bowler` column\n",
    "\n",
    "l = ['spinner']\n",
    "df.loc[~df.bowler.isin(l),'bowler'] = 'pacer'"
   ]
  },
  {
   "cell_type": "code",
   "execution_count": 72,
   "metadata": {},
   "outputs": [
    {
     "data": {
      "text/html": [
       "<div>\n",
       "<style scoped>\n",
       "    .dataframe tbody tr th:only-of-type {\n",
       "        vertical-align: middle;\n",
       "    }\n",
       "\n",
       "    .dataframe tbody tr th {\n",
       "        vertical-align: top;\n",
       "    }\n",
       "\n",
       "    .dataframe thead th {\n",
       "        text-align: right;\n",
       "    }\n",
       "</style>\n",
       "<table border=\"1\" class=\"dataframe\">\n",
       "  <thead>\n",
       "    <tr style=\"text-align: right;\">\n",
       "      <th></th>\n",
       "      <th>season</th>\n",
       "      <th>match_id</th>\n",
       "      <th>venue</th>\n",
       "      <th>inning</th>\n",
       "      <th>batting_team</th>\n",
       "      <th>bowling_team</th>\n",
       "      <th>batsman</th>\n",
       "      <th>non_striker</th>\n",
       "      <th>bowler</th>\n",
       "      <th>ball</th>\n",
       "      <th>wide_runs</th>\n",
       "      <th>bye_runs</th>\n",
       "      <th>legbye_runs</th>\n",
       "      <th>noball_runs</th>\n",
       "      <th>batsman_runs</th>\n",
       "      <th>extra_runs</th>\n",
       "      <th>total_runs</th>\n",
       "      <th>dismissal_kind</th>\n",
       "      <th>wickets</th>\n",
       "      <th>commentary</th>\n",
       "    </tr>\n",
       "  </thead>\n",
       "  <tbody>\n",
       "    <tr>\n",
       "      <th>0</th>\n",
       "      <td>2008</td>\n",
       "      <td>1</td>\n",
       "      <td>Bangalore</td>\n",
       "      <td>1</td>\n",
       "      <td>Kolkata Knight Riders</td>\n",
       "      <td>Royal Challengers Bangalore</td>\n",
       "      <td>SC Ganguly</td>\n",
       "      <td>BB McCullum</td>\n",
       "      <td>pacer</td>\n",
       "      <td>0.1</td>\n",
       "      <td>0</td>\n",
       "      <td>0</td>\n",
       "      <td>1</td>\n",
       "      <td>0</td>\n",
       "      <td>0</td>\n",
       "      <td>1</td>\n",
       "      <td>1</td>\n",
       "      <td></td>\n",
       "      <td>0</td>\n",
       "      <td>Kumar to Ganguly, 1 leg bye, and thats runs im...</td>\n",
       "    </tr>\n",
       "    <tr>\n",
       "      <th>1</th>\n",
       "      <td>2008</td>\n",
       "      <td>1</td>\n",
       "      <td>Bangalore</td>\n",
       "      <td>1</td>\n",
       "      <td>Kolkata Knight Riders</td>\n",
       "      <td>Royal Challengers Bangalore</td>\n",
       "      <td>BB McCullum</td>\n",
       "      <td>SC Ganguly</td>\n",
       "      <td>pacer</td>\n",
       "      <td>0.2</td>\n",
       "      <td>0</td>\n",
       "      <td>0</td>\n",
       "      <td>0</td>\n",
       "      <td>0</td>\n",
       "      <td>0</td>\n",
       "      <td>0</td>\n",
       "      <td>0</td>\n",
       "      <td></td>\n",
       "      <td>0</td>\n",
       "      <td>Kumar to McCullum, no run, this one nips back ...</td>\n",
       "    </tr>\n",
       "    <tr>\n",
       "      <th>2</th>\n",
       "      <td>2008</td>\n",
       "      <td>1</td>\n",
       "      <td>Bangalore</td>\n",
       "      <td>1</td>\n",
       "      <td>Kolkata Knight Riders</td>\n",
       "      <td>Royal Challengers Bangalore</td>\n",
       "      <td>BB McCullum</td>\n",
       "      <td>SC Ganguly</td>\n",
       "      <td>pacer</td>\n",
       "      <td>0.3</td>\n",
       "      <td>1</td>\n",
       "      <td>0</td>\n",
       "      <td>0</td>\n",
       "      <td>0</td>\n",
       "      <td>0</td>\n",
       "      <td>1</td>\n",
       "      <td>1</td>\n",
       "      <td></td>\n",
       "      <td>0</td>\n",
       "      <td>Kumar to McCullum, 1 wide, thats wide, as Prav...</td>\n",
       "    </tr>\n",
       "    <tr>\n",
       "      <th>3</th>\n",
       "      <td>2008</td>\n",
       "      <td>1</td>\n",
       "      <td>Bangalore</td>\n",
       "      <td>1</td>\n",
       "      <td>Kolkata Knight Riders</td>\n",
       "      <td>Royal Challengers Bangalore</td>\n",
       "      <td>BB McCullum</td>\n",
       "      <td>SC Ganguly</td>\n",
       "      <td>pacer</td>\n",
       "      <td>0.3</td>\n",
       "      <td>0</td>\n",
       "      <td>0</td>\n",
       "      <td>0</td>\n",
       "      <td>0</td>\n",
       "      <td>0</td>\n",
       "      <td>0</td>\n",
       "      <td>0</td>\n",
       "      <td></td>\n",
       "      <td>0</td>\n",
       "      <td>Kumar to McCullum, no run, too straight, McCul...</td>\n",
       "    </tr>\n",
       "    <tr>\n",
       "      <th>4</th>\n",
       "      <td>2008</td>\n",
       "      <td>1</td>\n",
       "      <td>Bangalore</td>\n",
       "      <td>1</td>\n",
       "      <td>Kolkata Knight Riders</td>\n",
       "      <td>Royal Challengers Bangalore</td>\n",
       "      <td>BB McCullum</td>\n",
       "      <td>SC Ganguly</td>\n",
       "      <td>pacer</td>\n",
       "      <td>0.4</td>\n",
       "      <td>0</td>\n",
       "      <td>0</td>\n",
       "      <td>0</td>\n",
       "      <td>0</td>\n",
       "      <td>0</td>\n",
       "      <td>0</td>\n",
       "      <td>0</td>\n",
       "      <td></td>\n",
       "      <td>0</td>\n",
       "      <td>Kumar to McCullum, no run, steps down the trac...</td>\n",
       "    </tr>\n",
       "    <tr>\n",
       "      <th>...</th>\n",
       "      <td>...</td>\n",
       "      <td>...</td>\n",
       "      <td>...</td>\n",
       "      <td>...</td>\n",
       "      <td>...</td>\n",
       "      <td>...</td>\n",
       "      <td>...</td>\n",
       "      <td>...</td>\n",
       "      <td>...</td>\n",
       "      <td>...</td>\n",
       "      <td>...</td>\n",
       "      <td>...</td>\n",
       "      <td>...</td>\n",
       "      <td>...</td>\n",
       "      <td>...</td>\n",
       "      <td>...</td>\n",
       "      <td>...</td>\n",
       "      <td>...</td>\n",
       "      <td>...</td>\n",
       "      <td>...</td>\n",
       "    </tr>\n",
       "    <tr>\n",
       "      <th>131996</th>\n",
       "      <td>2019</td>\n",
       "      <td>final</td>\n",
       "      <td>Hyderabad</td>\n",
       "      <td>2</td>\n",
       "      <td>Chennai Super Kings</td>\n",
       "      <td>Mumbai Indians</td>\n",
       "      <td>RA Jadeja</td>\n",
       "      <td>SR Watson</td>\n",
       "      <td>pacer</td>\n",
       "      <td>19.2</td>\n",
       "      <td>0</td>\n",
       "      <td>0</td>\n",
       "      <td>0</td>\n",
       "      <td>0</td>\n",
       "      <td>1</td>\n",
       "      <td>0</td>\n",
       "      <td>1</td>\n",
       "      <td></td>\n",
       "      <td>5</td>\n",
       "      <td>Malinga to Jadeja, 1 run, low full toss on mid...</td>\n",
       "    </tr>\n",
       "    <tr>\n",
       "      <th>131997</th>\n",
       "      <td>2019</td>\n",
       "      <td>final</td>\n",
       "      <td>Hyderabad</td>\n",
       "      <td>2</td>\n",
       "      <td>Chennai Super Kings</td>\n",
       "      <td>Mumbai Indians</td>\n",
       "      <td>SR Watson</td>\n",
       "      <td>RA Jadeja</td>\n",
       "      <td>pacer</td>\n",
       "      <td>19.3</td>\n",
       "      <td>0</td>\n",
       "      <td>0</td>\n",
       "      <td>0</td>\n",
       "      <td>0</td>\n",
       "      <td>2</td>\n",
       "      <td>0</td>\n",
       "      <td>2</td>\n",
       "      <td></td>\n",
       "      <td>5</td>\n",
       "      <td>Malinga to Watson, 2 runs, yorker, just outsid...</td>\n",
       "    </tr>\n",
       "    <tr>\n",
       "      <th>131998</th>\n",
       "      <td>2019</td>\n",
       "      <td>final</td>\n",
       "      <td>Hyderabad</td>\n",
       "      <td>2</td>\n",
       "      <td>Chennai Super Kings</td>\n",
       "      <td>Mumbai Indians</td>\n",
       "      <td>SR Watson</td>\n",
       "      <td>RA Jadeja</td>\n",
       "      <td>pacer</td>\n",
       "      <td>19.4</td>\n",
       "      <td>0</td>\n",
       "      <td>0</td>\n",
       "      <td>0</td>\n",
       "      <td>0</td>\n",
       "      <td>1</td>\n",
       "      <td>0</td>\n",
       "      <td>1</td>\n",
       "      <td>run out</td>\n",
       "      <td>6</td>\n",
       "      <td>Malinga to Watson, 1 run, OUT, yorker, just ou...</td>\n",
       "    </tr>\n",
       "    <tr>\n",
       "      <th>131999</th>\n",
       "      <td>2019</td>\n",
       "      <td>final</td>\n",
       "      <td>Hyderabad</td>\n",
       "      <td>2</td>\n",
       "      <td>Chennai Super Kings</td>\n",
       "      <td>Mumbai Indians</td>\n",
       "      <td>SN Thakur</td>\n",
       "      <td>RA Jadeja</td>\n",
       "      <td>pacer</td>\n",
       "      <td>19.5</td>\n",
       "      <td>0</td>\n",
       "      <td>0</td>\n",
       "      <td>0</td>\n",
       "      <td>0</td>\n",
       "      <td>2</td>\n",
       "      <td>0</td>\n",
       "      <td>2</td>\n",
       "      <td></td>\n",
       "      <td>6</td>\n",
       "      <td>Malinga to Thakur, 2 runs, full toss on leg, a...</td>\n",
       "    </tr>\n",
       "    <tr>\n",
       "      <th>132000</th>\n",
       "      <td>2019</td>\n",
       "      <td>final</td>\n",
       "      <td>Hyderabad</td>\n",
       "      <td>2</td>\n",
       "      <td>Chennai Super Kings</td>\n",
       "      <td>Mumbai Indians</td>\n",
       "      <td>SN Thakur</td>\n",
       "      <td>RA Jadeja</td>\n",
       "      <td>pacer</td>\n",
       "      <td>19.6</td>\n",
       "      <td>0</td>\n",
       "      <td>0</td>\n",
       "      <td>0</td>\n",
       "      <td>0</td>\n",
       "      <td>0</td>\n",
       "      <td>0</td>\n",
       "      <td>0</td>\n",
       "      <td>lbw</td>\n",
       "      <td>7</td>\n",
       "      <td>Malinga to Thakur, OUT, Mumbai Indians win IPL...</td>\n",
       "    </tr>\n",
       "  </tbody>\n",
       "</table>\n",
       "<p>86617 rows × 20 columns</p>\n",
       "</div>"
      ],
      "text/plain": [
       "        season match_id      venue  inning           batting_team  \\\n",
       "0         2008        1  Bangalore       1  Kolkata Knight Riders   \n",
       "1         2008        1  Bangalore       1  Kolkata Knight Riders   \n",
       "2         2008        1  Bangalore       1  Kolkata Knight Riders   \n",
       "3         2008        1  Bangalore       1  Kolkata Knight Riders   \n",
       "4         2008        1  Bangalore       1  Kolkata Knight Riders   \n",
       "...        ...      ...        ...     ...                    ...   \n",
       "131996    2019    final  Hyderabad       2    Chennai Super Kings   \n",
       "131997    2019    final  Hyderabad       2    Chennai Super Kings   \n",
       "131998    2019    final  Hyderabad       2    Chennai Super Kings   \n",
       "131999    2019    final  Hyderabad       2    Chennai Super Kings   \n",
       "132000    2019    final  Hyderabad       2    Chennai Super Kings   \n",
       "\n",
       "                       bowling_team      batsman  non_striker bowler  ball  \\\n",
       "0       Royal Challengers Bangalore   SC Ganguly  BB McCullum  pacer   0.1   \n",
       "1       Royal Challengers Bangalore  BB McCullum   SC Ganguly  pacer   0.2   \n",
       "2       Royal Challengers Bangalore  BB McCullum   SC Ganguly  pacer   0.3   \n",
       "3       Royal Challengers Bangalore  BB McCullum   SC Ganguly  pacer   0.3   \n",
       "4       Royal Challengers Bangalore  BB McCullum   SC Ganguly  pacer   0.4   \n",
       "...                             ...          ...          ...    ...   ...   \n",
       "131996               Mumbai Indians    RA Jadeja    SR Watson  pacer  19.2   \n",
       "131997               Mumbai Indians    SR Watson    RA Jadeja  pacer  19.3   \n",
       "131998               Mumbai Indians    SR Watson    RA Jadeja  pacer  19.4   \n",
       "131999               Mumbai Indians    SN Thakur    RA Jadeja  pacer  19.5   \n",
       "132000               Mumbai Indians    SN Thakur    RA Jadeja  pacer  19.6   \n",
       "\n",
       "        wide_runs  bye_runs  legbye_runs  noball_runs  batsman_runs  \\\n",
       "0               0         0            1            0             0   \n",
       "1               0         0            0            0             0   \n",
       "2               1         0            0            0             0   \n",
       "3               0         0            0            0             0   \n",
       "4               0         0            0            0             0   \n",
       "...           ...       ...          ...          ...           ...   \n",
       "131996          0         0            0            0             1   \n",
       "131997          0         0            0            0             2   \n",
       "131998          0         0            0            0             1   \n",
       "131999          0         0            0            0             2   \n",
       "132000          0         0            0            0             0   \n",
       "\n",
       "        extra_runs  total_runs dismissal_kind  wickets  \\\n",
       "0                1           1                       0   \n",
       "1                0           0                       0   \n",
       "2                1           1                       0   \n",
       "3                0           0                       0   \n",
       "4                0           0                       0   \n",
       "...            ...         ...            ...      ...   \n",
       "131996           0           1                       5   \n",
       "131997           0           2                       5   \n",
       "131998           0           1        run out        6   \n",
       "131999           0           2                       6   \n",
       "132000           0           0            lbw        7   \n",
       "\n",
       "                                               commentary  \n",
       "0       Kumar to Ganguly, 1 leg bye, and thats runs im...  \n",
       "1       Kumar to McCullum, no run, this one nips back ...  \n",
       "2       Kumar to McCullum, 1 wide, thats wide, as Prav...  \n",
       "3       Kumar to McCullum, no run, too straight, McCul...  \n",
       "4       Kumar to McCullum, no run, steps down the trac...  \n",
       "...                                                   ...  \n",
       "131996  Malinga to Jadeja, 1 run, low full toss on mid...  \n",
       "131997  Malinga to Watson, 2 runs, yorker, just outsid...  \n",
       "131998  Malinga to Watson, 1 run, OUT, yorker, just ou...  \n",
       "131999  Malinga to Thakur, 2 runs, full toss on leg, a...  \n",
       "132000  Malinga to Thakur, OUT, Mumbai Indians win IPL...  \n",
       "\n",
       "[86617 rows x 20 columns]"
      ]
     },
     "execution_count": 72,
     "metadata": {},
     "output_type": "execute_result"
    }
   ],
   "source": [
    "df.loc[df.bowler=='pacer']"
   ]
  },
  {
   "cell_type": "code",
   "execution_count": 73,
   "metadata": {},
   "outputs": [
    {
     "data": {
      "text/html": [
       "<div>\n",
       "<style scoped>\n",
       "    .dataframe tbody tr th:only-of-type {\n",
       "        vertical-align: middle;\n",
       "    }\n",
       "\n",
       "    .dataframe tbody tr th {\n",
       "        vertical-align: top;\n",
       "    }\n",
       "\n",
       "    .dataframe thead th {\n",
       "        text-align: right;\n",
       "    }\n",
       "</style>\n",
       "<table border=\"1\" class=\"dataframe\">\n",
       "  <thead>\n",
       "    <tr style=\"text-align: right;\">\n",
       "      <th></th>\n",
       "      <th>season</th>\n",
       "      <th>match_id</th>\n",
       "      <th>venue</th>\n",
       "      <th>inning</th>\n",
       "      <th>batting_team</th>\n",
       "      <th>bowling_team</th>\n",
       "      <th>batsman</th>\n",
       "      <th>non_striker</th>\n",
       "      <th>bowler</th>\n",
       "      <th>ball</th>\n",
       "      <th>wide_runs</th>\n",
       "      <th>bye_runs</th>\n",
       "      <th>legbye_runs</th>\n",
       "      <th>noball_runs</th>\n",
       "      <th>batsman_runs</th>\n",
       "      <th>extra_runs</th>\n",
       "      <th>total_runs</th>\n",
       "      <th>dismissal_kind</th>\n",
       "      <th>wickets</th>\n",
       "      <th>commentary</th>\n",
       "    </tr>\n",
       "  </thead>\n",
       "  <tbody>\n",
       "    <tr>\n",
       "      <th>56</th>\n",
       "      <td>2008</td>\n",
       "      <td>1</td>\n",
       "      <td>Bangalore</td>\n",
       "      <td>1</td>\n",
       "      <td>Kolkata Knight Riders</td>\n",
       "      <td>Royal Challengers Bangalore</td>\n",
       "      <td>RT Ponting</td>\n",
       "      <td>BB McCullum</td>\n",
       "      <td>spinner</td>\n",
       "      <td>9.1</td>\n",
       "      <td>0</td>\n",
       "      <td>0</td>\n",
       "      <td>0</td>\n",
       "      <td>0</td>\n",
       "      <td>1</td>\n",
       "      <td>0</td>\n",
       "      <td>1</td>\n",
       "      <td></td>\n",
       "      <td>1</td>\n",
       "      <td>Joshi to Ponting, 1 run, some good turn, spins...</td>\n",
       "    </tr>\n",
       "    <tr>\n",
       "      <th>57</th>\n",
       "      <td>2008</td>\n",
       "      <td>1</td>\n",
       "      <td>Bangalore</td>\n",
       "      <td>1</td>\n",
       "      <td>Kolkata Knight Riders</td>\n",
       "      <td>Royal Challengers Bangalore</td>\n",
       "      <td>BB McCullum</td>\n",
       "      <td>RT Ponting</td>\n",
       "      <td>spinner</td>\n",
       "      <td>9.2</td>\n",
       "      <td>0</td>\n",
       "      <td>0</td>\n",
       "      <td>0</td>\n",
       "      <td>0</td>\n",
       "      <td>1</td>\n",
       "      <td>0</td>\n",
       "      <td>1</td>\n",
       "      <td></td>\n",
       "      <td>1</td>\n",
       "      <td>Joshi to McCullum, 1 run, too straight and fla...</td>\n",
       "    </tr>\n",
       "    <tr>\n",
       "      <th>58</th>\n",
       "      <td>2008</td>\n",
       "      <td>1</td>\n",
       "      <td>Bangalore</td>\n",
       "      <td>1</td>\n",
       "      <td>Kolkata Knight Riders</td>\n",
       "      <td>Royal Challengers Bangalore</td>\n",
       "      <td>RT Ponting</td>\n",
       "      <td>BB McCullum</td>\n",
       "      <td>spinner</td>\n",
       "      <td>9.3</td>\n",
       "      <td>0</td>\n",
       "      <td>0</td>\n",
       "      <td>0</td>\n",
       "      <td>0</td>\n",
       "      <td>1</td>\n",
       "      <td>0</td>\n",
       "      <td>1</td>\n",
       "      <td></td>\n",
       "      <td>1</td>\n",
       "      <td>Joshi to Ponting, 1 run, fired on leg again an...</td>\n",
       "    </tr>\n",
       "    <tr>\n",
       "      <th>59</th>\n",
       "      <td>2008</td>\n",
       "      <td>1</td>\n",
       "      <td>Bangalore</td>\n",
       "      <td>1</td>\n",
       "      <td>Kolkata Knight Riders</td>\n",
       "      <td>Royal Challengers Bangalore</td>\n",
       "      <td>BB McCullum</td>\n",
       "      <td>RT Ponting</td>\n",
       "      <td>spinner</td>\n",
       "      <td>9.4</td>\n",
       "      <td>0</td>\n",
       "      <td>0</td>\n",
       "      <td>0</td>\n",
       "      <td>0</td>\n",
       "      <td>0</td>\n",
       "      <td>0</td>\n",
       "      <td>0</td>\n",
       "      <td></td>\n",
       "      <td>1</td>\n",
       "      <td>Joshi to McCullum, no run, bit of flight there...</td>\n",
       "    </tr>\n",
       "    <tr>\n",
       "      <th>60</th>\n",
       "      <td>2008</td>\n",
       "      <td>1</td>\n",
       "      <td>Bangalore</td>\n",
       "      <td>1</td>\n",
       "      <td>Kolkata Knight Riders</td>\n",
       "      <td>Royal Challengers Bangalore</td>\n",
       "      <td>BB McCullum</td>\n",
       "      <td>RT Ponting</td>\n",
       "      <td>spinner</td>\n",
       "      <td>9.5</td>\n",
       "      <td>0</td>\n",
       "      <td>0</td>\n",
       "      <td>0</td>\n",
       "      <td>0</td>\n",
       "      <td>6</td>\n",
       "      <td>0</td>\n",
       "      <td>6</td>\n",
       "      <td></td>\n",
       "      <td>1</td>\n",
       "      <td>Joshi to McCullum, SIX runs, snuff is snuff, s...</td>\n",
       "    </tr>\n",
       "    <tr>\n",
       "      <th>...</th>\n",
       "      <td>...</td>\n",
       "      <td>...</td>\n",
       "      <td>...</td>\n",
       "      <td>...</td>\n",
       "      <td>...</td>\n",
       "      <td>...</td>\n",
       "      <td>...</td>\n",
       "      <td>...</td>\n",
       "      <td>...</td>\n",
       "      <td>...</td>\n",
       "      <td>...</td>\n",
       "      <td>...</td>\n",
       "      <td>...</td>\n",
       "      <td>...</td>\n",
       "      <td>...</td>\n",
       "      <td>...</td>\n",
       "      <td>...</td>\n",
       "      <td>...</td>\n",
       "      <td>...</td>\n",
       "      <td>...</td>\n",
       "    </tr>\n",
       "    <tr>\n",
       "      <th>131984</th>\n",
       "      <td>2019</td>\n",
       "      <td>final</td>\n",
       "      <td>Hyderabad</td>\n",
       "      <td>2</td>\n",
       "      <td>Chennai Super Kings</td>\n",
       "      <td>Mumbai Indians</td>\n",
       "      <td>SR Watson</td>\n",
       "      <td>DJ Bravo</td>\n",
       "      <td>spinner</td>\n",
       "      <td>17.2</td>\n",
       "      <td>0</td>\n",
       "      <td>0</td>\n",
       "      <td>0</td>\n",
       "      <td>0</td>\n",
       "      <td>6</td>\n",
       "      <td>0</td>\n",
       "      <td>6</td>\n",
       "      <td></td>\n",
       "      <td>4</td>\n",
       "      <td>KH Pandya to Watson, SIX runs, hammered! Full,...</td>\n",
       "    </tr>\n",
       "    <tr>\n",
       "      <th>131985</th>\n",
       "      <td>2019</td>\n",
       "      <td>final</td>\n",
       "      <td>Hyderabad</td>\n",
       "      <td>2</td>\n",
       "      <td>Chennai Super Kings</td>\n",
       "      <td>Mumbai Indians</td>\n",
       "      <td>SR Watson</td>\n",
       "      <td>DJ Bravo</td>\n",
       "      <td>spinner</td>\n",
       "      <td>17.3</td>\n",
       "      <td>0</td>\n",
       "      <td>0</td>\n",
       "      <td>0</td>\n",
       "      <td>0</td>\n",
       "      <td>6</td>\n",
       "      <td>0</td>\n",
       "      <td>6</td>\n",
       "      <td></td>\n",
       "      <td>4</td>\n",
       "      <td>KH Pandya to Watson, SIX runs, over Krunal's h...</td>\n",
       "    </tr>\n",
       "    <tr>\n",
       "      <th>131986</th>\n",
       "      <td>2019</td>\n",
       "      <td>final</td>\n",
       "      <td>Hyderabad</td>\n",
       "      <td>2</td>\n",
       "      <td>Chennai Super Kings</td>\n",
       "      <td>Mumbai Indians</td>\n",
       "      <td>SR Watson</td>\n",
       "      <td>DJ Bravo</td>\n",
       "      <td>spinner</td>\n",
       "      <td>17.4</td>\n",
       "      <td>0</td>\n",
       "      <td>0</td>\n",
       "      <td>0</td>\n",
       "      <td>0</td>\n",
       "      <td>6</td>\n",
       "      <td>0</td>\n",
       "      <td>6</td>\n",
       "      <td></td>\n",
       "      <td>4</td>\n",
       "      <td>KH Pandya to Watson, SIX runs, into the second...</td>\n",
       "    </tr>\n",
       "    <tr>\n",
       "      <th>131987</th>\n",
       "      <td>2019</td>\n",
       "      <td>final</td>\n",
       "      <td>Hyderabad</td>\n",
       "      <td>2</td>\n",
       "      <td>Chennai Super Kings</td>\n",
       "      <td>Mumbai Indians</td>\n",
       "      <td>SR Watson</td>\n",
       "      <td>DJ Bravo</td>\n",
       "      <td>spinner</td>\n",
       "      <td>17.5</td>\n",
       "      <td>0</td>\n",
       "      <td>0</td>\n",
       "      <td>0</td>\n",
       "      <td>0</td>\n",
       "      <td>0</td>\n",
       "      <td>0</td>\n",
       "      <td>0</td>\n",
       "      <td></td>\n",
       "      <td>4</td>\n",
       "      <td>KH Pandya to Watson, no run, full, fast, and w...</td>\n",
       "    </tr>\n",
       "    <tr>\n",
       "      <th>131988</th>\n",
       "      <td>2019</td>\n",
       "      <td>final</td>\n",
       "      <td>Hyderabad</td>\n",
       "      <td>2</td>\n",
       "      <td>Chennai Super Kings</td>\n",
       "      <td>Mumbai Indians</td>\n",
       "      <td>SR Watson</td>\n",
       "      <td>DJ Bravo</td>\n",
       "      <td>spinner</td>\n",
       "      <td>17.6</td>\n",
       "      <td>0</td>\n",
       "      <td>0</td>\n",
       "      <td>0</td>\n",
       "      <td>0</td>\n",
       "      <td>1</td>\n",
       "      <td>0</td>\n",
       "      <td>1</td>\n",
       "      <td></td>\n",
       "      <td>4</td>\n",
       "      <td>KH Pandya to Watson, 1 run, overpitched just o...</td>\n",
       "    </tr>\n",
       "  </tbody>\n",
       "</table>\n",
       "<p>45384 rows × 20 columns</p>\n",
       "</div>"
      ],
      "text/plain": [
       "        season match_id      venue  inning           batting_team  \\\n",
       "56        2008        1  Bangalore       1  Kolkata Knight Riders   \n",
       "57        2008        1  Bangalore       1  Kolkata Knight Riders   \n",
       "58        2008        1  Bangalore       1  Kolkata Knight Riders   \n",
       "59        2008        1  Bangalore       1  Kolkata Knight Riders   \n",
       "60        2008        1  Bangalore       1  Kolkata Knight Riders   \n",
       "...        ...      ...        ...     ...                    ...   \n",
       "131984    2019    final  Hyderabad       2    Chennai Super Kings   \n",
       "131985    2019    final  Hyderabad       2    Chennai Super Kings   \n",
       "131986    2019    final  Hyderabad       2    Chennai Super Kings   \n",
       "131987    2019    final  Hyderabad       2    Chennai Super Kings   \n",
       "131988    2019    final  Hyderabad       2    Chennai Super Kings   \n",
       "\n",
       "                       bowling_team      batsman  non_striker   bowler  ball  \\\n",
       "56      Royal Challengers Bangalore   RT Ponting  BB McCullum  spinner   9.1   \n",
       "57      Royal Challengers Bangalore  BB McCullum   RT Ponting  spinner   9.2   \n",
       "58      Royal Challengers Bangalore   RT Ponting  BB McCullum  spinner   9.3   \n",
       "59      Royal Challengers Bangalore  BB McCullum   RT Ponting  spinner   9.4   \n",
       "60      Royal Challengers Bangalore  BB McCullum   RT Ponting  spinner   9.5   \n",
       "...                             ...          ...          ...      ...   ...   \n",
       "131984               Mumbai Indians    SR Watson     DJ Bravo  spinner  17.2   \n",
       "131985               Mumbai Indians    SR Watson     DJ Bravo  spinner  17.3   \n",
       "131986               Mumbai Indians    SR Watson     DJ Bravo  spinner  17.4   \n",
       "131987               Mumbai Indians    SR Watson     DJ Bravo  spinner  17.5   \n",
       "131988               Mumbai Indians    SR Watson     DJ Bravo  spinner  17.6   \n",
       "\n",
       "        wide_runs  bye_runs  legbye_runs  noball_runs  batsman_runs  \\\n",
       "56              0         0            0            0             1   \n",
       "57              0         0            0            0             1   \n",
       "58              0         0            0            0             1   \n",
       "59              0         0            0            0             0   \n",
       "60              0         0            0            0             6   \n",
       "...           ...       ...          ...          ...           ...   \n",
       "131984          0         0            0            0             6   \n",
       "131985          0         0            0            0             6   \n",
       "131986          0         0            0            0             6   \n",
       "131987          0         0            0            0             0   \n",
       "131988          0         0            0            0             1   \n",
       "\n",
       "        extra_runs  total_runs dismissal_kind  wickets  \\\n",
       "56               0           1                       1   \n",
       "57               0           1                       1   \n",
       "58               0           1                       1   \n",
       "59               0           0                       1   \n",
       "60               0           6                       1   \n",
       "...            ...         ...            ...      ...   \n",
       "131984           0           6                       4   \n",
       "131985           0           6                       4   \n",
       "131986           0           6                       4   \n",
       "131987           0           0                       4   \n",
       "131988           0           1                       4   \n",
       "\n",
       "                                               commentary  \n",
       "56      Joshi to Ponting, 1 run, some good turn, spins...  \n",
       "57      Joshi to McCullum, 1 run, too straight and fla...  \n",
       "58      Joshi to Ponting, 1 run, fired on leg again an...  \n",
       "59      Joshi to McCullum, no run, bit of flight there...  \n",
       "60      Joshi to McCullum, SIX runs, snuff is snuff, s...  \n",
       "...                                                   ...  \n",
       "131984  KH Pandya to Watson, SIX runs, hammered! Full,...  \n",
       "131985  KH Pandya to Watson, SIX runs, over Krunal's h...  \n",
       "131986  KH Pandya to Watson, SIX runs, into the second...  \n",
       "131987  KH Pandya to Watson, no run, full, fast, and w...  \n",
       "131988  KH Pandya to Watson, 1 run, overpitched just o...  \n",
       "\n",
       "[45384 rows x 20 columns]"
      ]
     },
     "execution_count": 73,
     "metadata": {},
     "output_type": "execute_result"
    }
   ],
   "source": [
    "df.loc[df.bowler=='spinner']"
   ]
  },
  {
   "cell_type": "code",
   "execution_count": 74,
   "metadata": {},
   "outputs": [
    {
     "data": {
      "text/plain": [
       "0"
      ]
     },
     "execution_count": 74,
     "metadata": {},
     "output_type": "execute_result"
    }
   ],
   "source": [
    "# sanity check - check for NaN values in `bowler` column\n",
    "\n",
    "df.bowler.isna().sum()"
   ]
  },
  {
   "cell_type": "markdown",
   "metadata": {},
   "source": [
    "## Feature Engineering `batsman` and `non_striker` Type"
   ]
  },
  {
   "cell_type": "markdown",
   "metadata": {},
   "source": [
    "In cricket, the batting order is the sequence in which batters play through their team's innings, there always being two batters taking part at any one time. All eleven players in a team are required to bat if the innings is completed (i.e., if the innings does not close early due to a declaration or other factor).\n",
    "\n",
    "The batting order is colloquially subdivided into:\n",
    "\n",
    "1. Top order (batters one to three)\n",
    "2. Middle order (batters four to eight)\n",
    "3. Tail enders (batters nine to eleven) \n",
    "\n",
    "In the code cell below, we have created a custom list of all top order batsman and tail enders for each team. We have then modified the `batsman` and `non_striker` columns in the dataframe which will be used to identify the type of batsman, \"top_order\", \"middle_order\" or \"tail_ender\". This column, we belive, should lend to the predictive power of our models. For example, a top order batsman is more likely to score a boundary than a tail ender, purely based on batting skill. Moreover, if given the scenario that a top order batsman bats till the last 5 overs of the game with a tail ender at the non-striker's end, the top order batsman is more likely to retain strike to maximize the number of runs scored in the last 5 overs.\n",
    "\n",
    "We deliberately chose not to take the easier route of engineering these columns column based on the `wickets` column. Doing so would induce multicollinearity in the data and, more importantly, alter the `batsman` and `non_striker` columns in a way that would compromise the integrity of our data.\n",
    "\n",
    "**Note:** It is not uncommon in cricket that an opening batsman may play in the middle order or vice-versa, given various factors such as recent form of the batsman or captain's/coach's discretion. Therefore, we have categorized individual batters with regards to their ideal batting position. For example, Robin Uthappa started off as a middle order batsman in 2008 with Mumbai Indians, but was promoted to the top order when he joined Royal Challengers Bangalore and Kolkata Knight Riders in 2010 and 2014 respectively."
   ]
  },
  {
   "cell_type": "code",
   "execution_count": 75,
   "metadata": {},
   "outputs": [],
   "source": [
    "# Creating a list of all top order batsmen and tail enders for each team\n",
    "\n",
    "rcb_top_order = ['TM Dilshan', 'KP Pietersen', 'CH Gayle', 'PA Patel', 'V Kohli', 'AB de Villiers', 'R Dravid',\n",
    "                'JH Kallis', 'MK Pandey', 'W Jaffer', 'S Chanderpaul', 'LRPL Taylor', 'SR Watson', 'Mandeep Singh',\n",
    "                'A Mukund', 'BB McCullum', 'CA Pujara', 'MA Agarwal', 'KL Rahul', 'Q de Kock', 'J Arunkumar', 'S Sriram']\n",
    "\n",
    "rcb_tail_enders = ['SB Joshi', 'KP Appanna', 'A Kumble', 'Abdur Razzak', 'DL Vettori', 'KB Arun Karthik', 'S Sriram', 'AA Kazi', 'R Ninan',\n",
    "                   'J Syed Mohammad', 'M Muralitharan', 'M Kartik', 'P R Barman', 'YS Chahal', 'SB Jakati', 'T Shamsi', 'Parvez Rasool',\n",
    "                   'P Kumar', 'Z Khan', 'R Vinay Kumar', 'DW Steyn', 'ND Doshi', 'DP Nannes', 'JJ van der Wath', 'S Aravind', 'S Badree',\n",
    "                   'CK Langeveldt', 'RR Bhatkal', 'P Parameswaran', 'JD Unadkat', 'RP Singh', 'R Rampaul', 'MA Starc', 'M Ashwin'\n",
    "                   'AB Dinda', 'VR Aaron', 'AN Ahmed', 'AF Milne', 'KW Richardson', 'CJ Jordan', 'TS Mills', 'A Choudhary',\n",
    "                   'B Stanlake', 'Avesh Khan', 'UT Yadav', 'K Khejroliya', 'Mohammed Siraj', 'TG Southee', 'N Saini']\n",
    "\n",
    "mi_top_order = ['N Rana', 'RG Sharma', 'ST Jayasuriya', 'SR Tendulkar', 'YV Takawale', 'AM Rahane', 'DR Smith', 'L Ronchi',\n",
    "                'AC Blizzard', 'RV Uthappa', 'AT Rayudu', 'DJ Jacobs', 'S Dhawan', 'SS Tiwary', 'JP Duminy', 'AP Tare',\n",
    "                'AJ Finch', 'E Lewis', 'Ishan Kishan', 'Q de Kock', 'AM Rahane', 'LMP Simmons', 'CM Gautam', 'C Madan',\n",
    "                'PA Patel', 'BR Dunk', 'JC Buttler', 'SM Pollock', 'AS Yadav', 'HH Gibbs', 'UBT Chand', 'GJ Maxwell',\n",
    "                'MJ Guptill', 'RE Levi']\n",
    "\n",
    "mi_tail_enders = ['A Dananjaya', 'AG Murtaza', 'Harbhajan Singh', 'J Yadav', 'M Markande', 'PP Ojha', 'RD Chahar', 'RW Price',\n",
    "                  'VS Yeligati', 'Z Khan', 'SL Malinga', 'JJ Bumrah', 'MG Johnson', 'P Suyal', 'A Nehra', 'DS Kulkarni',\n",
    "                  'MA Khote', 'CRD Fernando', 'DJ Thornely', 'RR Raje', 'DR Smith', 'RP Singh', 'CJ McKay', 'NLTC Perera', 'R Shukla',\n",
    "                  'A Nel', 'Z Khan', 'R McLaren', 'AN Ahmed', 'MM Patel', 'YS Chahal', 'P Kumar', 'K Santokie', 'M de Lange', 'R Vinay Kumar',\n",
    "                'MJ McClenaghan', 'TG Southee', 'Mustafizur Rahman', 'PJ Sangwan', 'R Salam', 'J Behrendorff', 'A Joseph', 'BB Sran']\n",
    "\n",
    "kkr_top_order = ['SC Ganguly', 'BB McCullum', 'RT Ponting', 'WP Saha', 'Salman Butt', 'AB Agarkar', 'Mohammad Hafeez', 'A Chopra', 'BJ Hodge',\n",
    "                 'MK Tiwary', 'CA Pujara', 'CH Gayle', 'OA Shah', 'Mandeep Singh', 'AD Mathews', 'DJ Hussey', 'MS Bisla', 'JH Kallis', 'YK Pathan',\n",
    "                 'G Gambhir', 'BJ Haddin', 'SP Goswami', 'EJG Morgan', 'RV Uthappa', 'MK Pandey', 'CA Lynn', 'C Munro', 'SP Narine', 'N Rana', 'S Gill',\n",
    "                 'N Naik', 'J Denly']\n",
    "\n",
    "kkr_tail_enders = ['BAW Mendis', 'GB Hogg', 'KC Cariappa', 'M Kartik', 'Kuldeep Yadav', 'MB Parmar', 'R Vinay Kumar',\n",
    "                   'PP Chawla',  'SMSM Senanayake', 'AB Dinda', 'I Sharma', 'AB Agarkar', 'Umar Gul', 'Shoaib Akhtar',\n",
    "                   'CK Langeveldt', 'SE Bond', 'JD Unadkat', 'L Balaji', 'B Lee', 'M de Lange', 'PJ Sangwan', 'M Morkel',\n",
    "                   'Mohammed Shami', 'R McLaren', 'Shami Ahmed', 'AS Rajpoot', 'TA Boult', 'MG Johnson', 'T Curran',\n",
    "                   'S Mavi', 'P Krishna', 'J Searles', 'L Ferguson', 'H Gurney', 'P Raj', 'S Warrier', 'UT Yadav']\n",
    "\n",
    "csk_top_order = ['F du Plessis', 'SK Raina', 'M Vijay', 'ML Hayden', 'PA Patel', 'MEK Hussey', 'BB McCullum', 'S Vidyut',\n",
    "                 'AT Rayudu', 'SP Fleming', 'DR Smith', 'S Anirudha', 'WP Saha', 'SR Watson', 'GJ Bailey']\n",
    "\n",
    "csk_tail_enders = ['Imran Tahir', 'M Muralitharan', 'R Ashwin', 'S Badree', 'S Randiv', 'S Vidyut', 'SB Jakati',\n",
    "                   'P Amarnath', 'Joginder Sharma', 'M Ntini', 'L Balaji', 'S Tyagi', 'NLTC Perera', 'C Ganapathy',\n",
    "                   'DE Bollinger', 'TG Southee', 'VY Mahesh', 'BW Hilfenhaus', 'DP Nannes',  'AS Rajpoot', 'B Laughlin', 'MM Sharma',\n",
    "                   'IC Pandey', 'V Shankar', 'A Nehra', 'RG More', 'DL Chahar', 'M Wood', 'L Ngidi', 'KM Asif', 'S Kuggeleijn']\n",
    "\n",
    "dc_top_order = ['AC Gilchrist', 'VVS Laxman', 'HH Gibbs', 'LPC Silva', 'SB Styris',\n",
    "                'MD Mishra', 'TL Suman', 'Anirudh Singh', 'S Dhawan', 'IR Jaggi', 'KC Sangakkara', 'S Sohal',\n",
    "                'MJ Lumb', 'DJ Harris', 'PA Patel', 'PA Reddy']\n",
    "\n",
    "dc_tail_enders = ['A Mishra', 'Ankit Sharma', 'PP Ojha', 'WPUJC Vaas', 'RP Singh', 'D Kalyankrishna', 'DP Vijaykumar',\n",
    "                  'PM Sarvesh Kumar', 'Jaskaran Singh', 'KAJ Roach', 'Harmeet Singh', 'RJ Harris', 'DW Steyn', 'I Sharma',\n",
    "                  'Anand Rajan', 'DJ Harris', 'TP Sudhindra', 'V Pratap Singh', 'J Theron']\n",
    "\n",
    "dd_top_order = ['G Gambhir', 'V Sehwag', 'S Dhawan', 'AB de Villiers', 'TM Dilshan', 'DA Warner', 'KD Karthik',\n",
    "                'UBT Chand', 'AJ Finch', 'NV Ojha', 'CA Ingram', 'KP Pietersen', 'DPMD Jayawardene', 'MC Juneja',\n",
    "                'Q de Kock', 'M Vijay', 'MA Agarwal', 'SS Iyer', 'JP Duminy', 'MK Tiwary', 'SV Samson',\n",
    "                'KK Nair', 'AP Tare', 'C Munro', 'JJ Roy', 'P Shaw', 'S Dhawan']\n",
    "\n",
    "dd_tail_enders = ['A Mishra', 'Imran Tahir', 'J Yadav', 'R Sharma', 'S Lamichhane', 'S Nadeem', 'S Sriram',\n",
    "                  'Sunny Gupta', 'GD McGrath', 'B Geeves', 'Mohammad Asif', 'VY Mahesh', 'PJ Sangwan', 'DP Nannes',\n",
    "                  'UT Yadav', 'Y Nagar', 'A Nehra', 'AB Dinda', 'M Morkel', 'S Nadeem', 'VR Aaron', 'AM Salvi', 'DAJ Bracewell',\n",
    "                  'Sunny Gupta', 'S Kaul', 'Mohammed Shami', 'WD Parnell', 'JD Unadkat', 'R Sharma',\n",
    "                  'JA Morkel', 'DJ Muthuswami', 'Z Khan', 'GS Sandhu', 'J Yadav', 'K Rabada', 'TA Boult', 'Avesh Khan', 'L Plunkett', 'J Dala']\n",
    "\n",
    "srh_top_order = ['PA Reddy', 'PA Patel', 'CL White', 'KC Sangakkara', 'Q de Kock', 'GH Vihari', 'S Dhawan', 'A Ashish Reddy', 'AJ Finch', 'KL Rahul',\n",
    "                 'NV Ojha', 'DA Warner', 'KS Williamson', 'RS Bopara', 'MC Henriques', 'DJ Hooda', 'WP Saha', 'R Bhui', 'MK Pandey',\n",
    "                 'A Hales', 'SP Goswami', 'J Bairstow', 'V Shankar', 'MJ Guptill']\n",
    "\n",
    "srh_tail_enders = ['DW Steyn', 'I Sharma', 'A Ashish Reddy', 'Anand Rajan', 'B Kumar', 'TA Boult', 'Sandeep Sharma',\n",
    "                   'P Kumar', 'A Nehra', 'Mustafizur Rahman', 'BB Sran', 'S Kaul', 'Mohammed Siraj', 'B Stanlake',\n",
    "                   'Basil Thampi', 'K Ahmed', 'S Sharma', 'A Mishra', 'Ankit Sharma', 'Parvez Rasool', 'S Nadeem']\n",
    "\n",
    "rr_top_order = ['T Kohli', 'YK Pathan', 'SR Watson', 'M Kaif', 'Kamran Akmal', 'GC Smith', 'M Rawat', 'SA Asnodkar', 'NK Patel', 'Younis Khan',\n",
    "                'NV Ojha', 'MJ Lumb', 'DR Martyn', 'AA Jhunjhunwala', 'FY Fazal', 'AG Paunikar', 'R Dravid',\n",
    "                'AM Rahane', 'SP Goswami', 'OA Shah', 'BJ Hodge', 'MDKJ Perera', 'DH Yagnik', 'SV Samson',\n",
    "                'KK Nair', 'Ankit Sharma', 'KK Cooper', 'UBT Chand', 'SPD Smith', 'DJ Hooda', 'D Short', 'H Klaasen', 'RA Tripathi', 'JC Buttler']\n",
    "\n",
    "rr_tail_enders = ['A Chandila', 'AA Chavan', 'AS Raut', 'GB Hogg', 'I Sodhi', 'PV Tambe', 'ND Doshi', 'S Badree',\n",
    "                  'S Gopal', 'S Midhun', 'SK Warne', 'MM Patel', 'SK Trivedi', 'Pankaj Singh', 'SW Tait', 'Kamran Khan',\n",
    "                  'A Uniyal', 'M Morkel', 'S Narwal', 'SB Wagh', 'AP Dole', 'FY Fazal', 'A Singh',\n",
    "                  'S Sreesanth', 'R Shukla', 'VS Malik', 'KW Richardson', 'DS Kulkarni', 'R Bhatia', 'TG Southee',\n",
    "                  'J Theron', 'B Brainder Sran', 'JD Unadkat', 'B Laughlin', 'J Archer', 'Anureet Singh', 'VR Aaron', 'O Thomas']\n",
    "\n",
    "punj_top_order = ['K Goel', 'JR Hopes', 'KC Sangakkara', 'DPMD Jayawardene', 'Yuvraj Singh', 'SM Katich', 'SE Marsh',\n",
    "                  'LA Pomersbach', 'RS Bopara', 'MS Bisla', 'PC Valthaty', 'AC Gilchrist', 'Mandeep Singh',\n",
    "                  'N Saini', 'M Vohra', 'Gurkeerat Singh', 'CA Pujara', 'V Sehwag', 'WP Saha', 'KK Nair'\n",
    "                  'M Vijay', 'HM Amla', 'EJG Morgan', 'MJ Guptill', 'KL Rahul', 'MA Agarwal', 'CH Gayle', 'AJ Finch'\n",
    "                  ]\n",
    "\n",
    "punj_tail_enders = ['BA Bhatt', 'H Brar', 'Karanveer Singh', 'KC Cariappa', 'M Ashwin', 'M Kartik', 'M Ur Rahman', 'RJ Harris',\n",
    "                    'P Sahu', 'RR Powar', 'Shivam Sharma', 'Swapnil Singh', 'J Theron', 'VS Malik', 'L Ablish', 'P Kumar',\n",
    "                    'V Chakravarthy', 'B Lee', 'S Sreesanth', 'VRV Singh', 'Gagandeep Singh', 'YA Abdulla', 'R McLaren',\n",
    "                    'Harmeet Singh', 'P Awana', 'MS Gony', 'Sandeep Sharma (1)', 'MG Neser', 'Sandeep Sharma', 'L Balaji', 'MG Johnson',\n",
    "                    'BE Hendricks', 'Anureet Singh', 'MM Sharma', 'KJ Abbott', 'VR Aaron', 'T Natarajan', 'I Sharma', 'MJ Henry',\n",
    "                    'BB Sran', 'AS Rajpoot', 'Mohammed Shami', 'H Viljoen', 'A Singh', 'AJ Tye']"
   ]
  },
  {
   "cell_type": "code",
   "execution_count": 76,
   "metadata": {},
   "outputs": [],
   "source": [
    "# Replacing all batsman and non_striker names with \"top\"\n",
    "\n",
    "df.loc[(df.batting_team=='Royal Challengers Bangalore')&(df.batsman.isin(rcb_top_order)),'batsman'] = 'top'\n",
    "df.loc[(df.batting_team=='Delhi Capitals')&(df.batsman.isin(dd_top_order)),'batsman'] = 'top'\n",
    "df.loc[(df.batting_team=='Delhi Daredevils')&(df.batsman.isin(dd_top_order)),'batsman'] = 'top'\n",
    "df.loc[(df.batting_team=='Chennai Super Kings')&(df.batsman.isin(csk_top_order)),'batsman'] = 'top'\n",
    "df.loc[(df.batting_team=='Kings XI Punjab')&(df.batsman.isin(punj_top_order)),'batsman'] = 'top'\n",
    "df.loc[(df.batting_team=='Sunrisers Hyderabad')&(df.batsman.isin(srh_top_order)),'batsman'] = 'top'\n",
    "df.loc[(df.batting_team=='Kolkata Knight Riders')&(df.batsman.isin(kkr_top_order)),'batsman'] = 'top'\n",
    "df.loc[(df.batting_team=='Deccan Chargers')&(df.batsman.isin(dc_top_order)),'batsman'] = 'top'\n",
    "df.loc[(df.batting_team=='Rajasthan Royals')&(df.batsman.isin(rr_top_order)),'batsman'] = 'top'\n",
    "df.loc[(df.batting_team=='Mumbai Indians')&(df.batsman.isin(mi_top_order)),'batsman'] = 'top'\n",
    "\n",
    "\n",
    "df.loc[(df.batting_team=='Royal Challengers Bangalore')&(df.non_striker.isin(rcb_top_order)),'non_striker'] = 'top'\n",
    "df.loc[(df.batting_team=='Delhi Capitals')&(df.non_striker.isin(dd_top_order)),'non_striker'] = 'top'\n",
    "df.loc[(df.batting_team=='Delhi Daredevils')&(df.non_striker.isin(dd_top_order)),'non_striker'] = 'top'\n",
    "df.loc[(df.batting_team=='Chennai Super Kings')&(df.non_striker.isin(csk_top_order)),'non_striker'] = 'top'\n",
    "df.loc[(df.batting_team=='Kings XI Punjab')&(df.non_striker.isin(punj_top_order)),'non_striker'] = 'top'\n",
    "df.loc[(df.batting_team=='Sunrisers Hyderabad')&(df.non_striker.isin(srh_top_order)),'non_striker'] = 'top'\n",
    "df.loc[(df.batting_team=='Kolkata Knight Riders')&(df.non_striker.isin(kkr_top_order)),'non_striker'] = 'top'\n",
    "df.loc[(df.batting_team=='Deccan Chargers')&(df.non_striker.isin(dc_top_order)),'non_striker'] = 'top'\n",
    "df.loc[(df.batting_team=='Rajasthan Royals')&(df.non_striker.isin(rr_top_order)),'non_striker'] = 'top'\n",
    "df.loc[(df.batting_team=='Mumbai Indians')&(df.non_striker.isin(mi_top_order)),'non_striker'] = 'top'\n"
   ]
  },
  {
   "cell_type": "code",
   "execution_count": 77,
   "metadata": {},
   "outputs": [],
   "source": [
    "# Replacing all batsman and non_striker names with \"tail\"\n",
    "\n",
    "df.loc[(df.batting_team=='Royal Challengers Bangalore')&(df.batsman.isin(rcb_tail_enders)),'batsman'] = 'tail'\n",
    "df.loc[(df.batting_team=='Delhi Capitals')&(df.batsman.isin(dd_tail_enders)),'batsman'] = 'tail'\n",
    "df.loc[(df.batting_team=='Delhi Daredevils')&(df.batsman.isin(dd_tail_enders)),'batsman'] = 'tail'\n",
    "df.loc[(df.batting_team=='Chennai Super Kings')&(df.batsman.isin(csk_tail_enders)),'batsman'] = 'tail'\n",
    "df.loc[(df.batting_team=='Kings XI Punjab')&(df.batsman.isin(punj_tail_enders)),'batsman'] = 'tail'\n",
    "df.loc[(df.batting_team=='Sunrisers Hyderabad')&(df.batsman.isin(srh_tail_enders)),'batsman'] = 'tail'\n",
    "df.loc[(df.batting_team=='Kolkata Knight Riders')&(df.batsman.isin(kkr_tail_enders)),'batsman'] = 'tail'\n",
    "df.loc[(df.batting_team=='Deccan Chargers')&(df.batsman.isin(dc_tail_enders)),'batsman'] = 'tail'\n",
    "df.loc[(df.batting_team=='Rajasthan Royals')&(df.batsman.isin(rr_tail_enders)),'batsman'] = 'tail'\n",
    "df.loc[(df.batting_team=='Mumbai Indians')&(df.batsman.isin(mi_tail_enders)),'batsman'] = 'tail'\n",
    "\n",
    "df.loc[(df.batting_team=='Royal Challengers Bangalore')&(df.non_striker.isin(rcb_tail_enders)),'non_striker'] = 'tail'\n",
    "df.loc[(df.batting_team=='Delhi Capitals')&(df.non_striker.isin(dd_tail_enders)),'non_striker'] = 'tail'\n",
    "df.loc[(df.batting_team=='Delhi Daredevils')&(df.non_striker.isin(dd_tail_enders)),'non_striker'] = 'tail'\n",
    "df.loc[(df.batting_team=='Chennai Super Kings')&(df.non_striker.isin(csk_tail_enders)),'non_striker'] = 'tail'\n",
    "df.loc[(df.batting_team=='Kings XI Punjab')&(df.non_striker.isin(punj_tail_enders)),'non_striker'] = 'tail'\n",
    "df.loc[(df.batting_team=='Sunrisers Hyderabad')&(df.non_striker.isin(srh_tail_enders)),'non_striker'] = 'tail'\n",
    "df.loc[(df.batting_team=='Kolkata Knight Riders')&(df.non_striker.isin(kkr_tail_enders)),'non_striker'] = 'tail'\n",
    "df.loc[(df.batting_team=='Deccan Chargers')&(df.non_striker.isin(dc_tail_enders)),'non_striker'] = 'tail'\n",
    "df.loc[(df.batting_team=='Rajasthan Royals')&(df.non_striker.isin(rr_tail_enders)),'non_striker'] = 'tail'\n",
    "df.loc[(df.batting_team=='Mumbai Indians')&(df.non_striker.isin(mi_tail_enders)),'non_striker'] = 'tail'\n"
   ]
  },
  {
   "cell_type": "code",
   "execution_count": 78,
   "metadata": {},
   "outputs": [],
   "source": [
    "# replace remaining names with \"middle\"\n",
    "\n",
    "l = ['top', 'tail']\n",
    "df.loc[~df.batsman.isin(l),'batsman'] = 'middle'\n",
    "df.loc[~df.non_striker.isin(l),'non_striker'] = 'middle'"
   ]
  },
  {
   "cell_type": "code",
   "execution_count": 79,
   "metadata": {},
   "outputs": [
    {
     "name": "stdout",
     "output_type": "stream",
     "text": [
      "0\n",
      "0\n"
     ]
    }
   ],
   "source": [
    "# sanity check for nulls\n",
    "\n",
    "print(df.batsman.isna().sum())\n",
    "print(df.non_striker.isna().sum())"
   ]
  },
  {
   "cell_type": "code",
   "execution_count": 80,
   "metadata": {},
   "outputs": [
    {
     "data": {
      "text/plain": [
       "(89893, 20)"
      ]
     },
     "execution_count": 80,
     "metadata": {},
     "output_type": "execute_result"
    }
   ],
   "source": [
    "df.loc[df.batsman=='top'].shape"
   ]
  },
  {
   "cell_type": "code",
   "execution_count": 81,
   "metadata": {},
   "outputs": [
    {
     "data": {
      "text/plain": [
       "(36128, 20)"
      ]
     },
     "execution_count": 81,
     "metadata": {},
     "output_type": "execute_result"
    }
   ],
   "source": [
    "df.loc[df.batsman=='middle'].shape"
   ]
  },
  {
   "cell_type": "code",
   "execution_count": 82,
   "metadata": {},
   "outputs": [
    {
     "data": {
      "text/plain": [
       "(5980, 20)"
      ]
     },
     "execution_count": 82,
     "metadata": {},
     "output_type": "execute_result"
    }
   ],
   "source": [
    "df.loc[df.batsman=='tail'].shape"
   ]
  },
  {
   "cell_type": "markdown",
   "metadata": {},
   "source": [
    "## Renaming Old Team Names To Current Names"
   ]
  },
  {
   "cell_type": "code",
   "execution_count": 83,
   "metadata": {},
   "outputs": [
    {
     "name": "stdout",
     "output_type": "stream",
     "text": [
      "Empty DataFrame\n",
      "Columns: [season, match_id, venue, inning, batting_team, bowling_team, batsman, non_striker, bowler, ball, wide_runs, bye_runs, legbye_runs, noball_runs, batsman_runs, extra_runs, total_runs, dismissal_kind, wickets, commentary]\n",
      "Index: []\n",
      "Empty DataFrame\n",
      "Columns: [season, match_id, venue, inning, batting_team, bowling_team, batsman, non_striker, bowler, ball, wide_runs, bye_runs, legbye_runs, noball_runs, batsman_runs, extra_runs, total_runs, dismissal_kind, wickets, commentary]\n",
      "Index: []\n"
     ]
    }
   ],
   "source": [
    "# Renaming the teams with their latest names\n",
    "\n",
    "df.loc[(df.batting_team=='Delhi Daredevils'),'batting_team'] = 'Delhi Capitals'\n",
    "df.loc[(df.bowling_team=='Delhi Daredevils'),'bowling_team'] = 'Delhi Capitals'\n",
    "\n",
    "df.loc[(df.batting_team=='Deccan Chargers'),'batting_team'] = 'Sunrisers Hyderabad'\n",
    "df.loc[(df.bowling_team=='Deccan Chargers'),'bowling_team'] = 'Sunrisers Hyderabad'\n",
    "\n",
    "# sanity check\n",
    "print(df.loc[(df.batting_team=='Delhi Daredevils')|(df.bowling_team=='Delhi Daredevils')])\n",
    "print(df.loc[(df.batting_team=='Deccan Chargers')|(df.bowling_team=='Deccan Chargers')])"
   ]
  },
  {
   "cell_type": "markdown",
   "metadata": {},
   "source": [
    "## Cleaning `match_id` Column  "
   ]
  },
  {
   "cell_type": "code",
   "execution_count": 84,
   "metadata": {},
   "outputs": [],
   "source": [
    "playoff = ['3rd Place Playoff', 'eliminator', 'final', 'semi-final1', 'semi-final2', 'semi-final']\n",
    "df.loc[df.match_id.isin(playoff), 'match_id'] = 'playoffs'"
   ]
  },
  {
   "cell_type": "code",
   "execution_count": 85,
   "metadata": {},
   "outputs": [
    {
     "data": {
      "text/html": [
       "<div>\n",
       "<style scoped>\n",
       "    .dataframe tbody tr th:only-of-type {\n",
       "        vertical-align: middle;\n",
       "    }\n",
       "\n",
       "    .dataframe tbody tr th {\n",
       "        vertical-align: top;\n",
       "    }\n",
       "\n",
       "    .dataframe thead th {\n",
       "        text-align: right;\n",
       "    }\n",
       "</style>\n",
       "<table border=\"1\" class=\"dataframe\">\n",
       "  <thead>\n",
       "    <tr style=\"text-align: right;\">\n",
       "      <th></th>\n",
       "      <th>season</th>\n",
       "      <th>match_id</th>\n",
       "      <th>venue</th>\n",
       "      <th>inning</th>\n",
       "      <th>batting_team</th>\n",
       "      <th>bowling_team</th>\n",
       "      <th>batsman</th>\n",
       "      <th>non_striker</th>\n",
       "      <th>bowler</th>\n",
       "      <th>ball</th>\n",
       "      <th>wide_runs</th>\n",
       "      <th>bye_runs</th>\n",
       "      <th>legbye_runs</th>\n",
       "      <th>noball_runs</th>\n",
       "      <th>batsman_runs</th>\n",
       "      <th>extra_runs</th>\n",
       "      <th>total_runs</th>\n",
       "      <th>dismissal_kind</th>\n",
       "      <th>wickets</th>\n",
       "      <th>commentary</th>\n",
       "    </tr>\n",
       "  </thead>\n",
       "  <tbody>\n",
       "    <tr>\n",
       "      <th>12801</th>\n",
       "      <td>2008</td>\n",
       "      <td>playoffs</td>\n",
       "      <td>Mumbai</td>\n",
       "      <td>1</td>\n",
       "      <td>Rajasthan Royals</td>\n",
       "      <td>Delhi Capitals</td>\n",
       "      <td>top</td>\n",
       "      <td>top</td>\n",
       "      <td>pacer</td>\n",
       "      <td>0.1</td>\n",
       "      <td>0</td>\n",
       "      <td>0</td>\n",
       "      <td>0</td>\n",
       "      <td>0</td>\n",
       "      <td>0</td>\n",
       "      <td>0</td>\n",
       "      <td>0</td>\n",
       "      <td></td>\n",
       "      <td>0</td>\n",
       "      <td>McGrath to Smith, no run, a peach from McGrath...</td>\n",
       "    </tr>\n",
       "    <tr>\n",
       "      <th>12802</th>\n",
       "      <td>2008</td>\n",
       "      <td>playoffs</td>\n",
       "      <td>Mumbai</td>\n",
       "      <td>1</td>\n",
       "      <td>Rajasthan Royals</td>\n",
       "      <td>Delhi Capitals</td>\n",
       "      <td>top</td>\n",
       "      <td>top</td>\n",
       "      <td>pacer</td>\n",
       "      <td>0.2</td>\n",
       "      <td>1</td>\n",
       "      <td>0</td>\n",
       "      <td>0</td>\n",
       "      <td>0</td>\n",
       "      <td>0</td>\n",
       "      <td>1</td>\n",
       "      <td>1</td>\n",
       "      <td></td>\n",
       "      <td>0</td>\n",
       "      <td>McGrath to Smith, 1 wide, and this one is wide...</td>\n",
       "    </tr>\n",
       "    <tr>\n",
       "      <th>12803</th>\n",
       "      <td>2008</td>\n",
       "      <td>playoffs</td>\n",
       "      <td>Mumbai</td>\n",
       "      <td>1</td>\n",
       "      <td>Rajasthan Royals</td>\n",
       "      <td>Delhi Capitals</td>\n",
       "      <td>top</td>\n",
       "      <td>top</td>\n",
       "      <td>pacer</td>\n",
       "      <td>0.2</td>\n",
       "      <td>0</td>\n",
       "      <td>0</td>\n",
       "      <td>0</td>\n",
       "      <td>0</td>\n",
       "      <td>0</td>\n",
       "      <td>0</td>\n",
       "      <td>0</td>\n",
       "      <td></td>\n",
       "      <td>0</td>\n",
       "      <td>McGrath to Smith, no run, tight line and lengt...</td>\n",
       "    </tr>\n",
       "    <tr>\n",
       "      <th>12804</th>\n",
       "      <td>2008</td>\n",
       "      <td>playoffs</td>\n",
       "      <td>Mumbai</td>\n",
       "      <td>1</td>\n",
       "      <td>Rajasthan Royals</td>\n",
       "      <td>Delhi Capitals</td>\n",
       "      <td>top</td>\n",
       "      <td>top</td>\n",
       "      <td>pacer</td>\n",
       "      <td>0.3</td>\n",
       "      <td>0</td>\n",
       "      <td>0</td>\n",
       "      <td>0</td>\n",
       "      <td>0</td>\n",
       "      <td>0</td>\n",
       "      <td>0</td>\n",
       "      <td>0</td>\n",
       "      <td></td>\n",
       "      <td>0</td>\n",
       "      <td>McGrath to Smith, no run, good length once aga...</td>\n",
       "    </tr>\n",
       "    <tr>\n",
       "      <th>12805</th>\n",
       "      <td>2008</td>\n",
       "      <td>playoffs</td>\n",
       "      <td>Mumbai</td>\n",
       "      <td>1</td>\n",
       "      <td>Rajasthan Royals</td>\n",
       "      <td>Delhi Capitals</td>\n",
       "      <td>top</td>\n",
       "      <td>top</td>\n",
       "      <td>pacer</td>\n",
       "      <td>0.4</td>\n",
       "      <td>0</td>\n",
       "      <td>0</td>\n",
       "      <td>0</td>\n",
       "      <td>0</td>\n",
       "      <td>0</td>\n",
       "      <td>0</td>\n",
       "      <td>0</td>\n",
       "      <td></td>\n",
       "      <td>0</td>\n",
       "      <td>McGrath to Smith, no run, Smith tries to flick...</td>\n",
       "    </tr>\n",
       "    <tr>\n",
       "      <th>...</th>\n",
       "      <td>...</td>\n",
       "      <td>...</td>\n",
       "      <td>...</td>\n",
       "      <td>...</td>\n",
       "      <td>...</td>\n",
       "      <td>...</td>\n",
       "      <td>...</td>\n",
       "      <td>...</td>\n",
       "      <td>...</td>\n",
       "      <td>...</td>\n",
       "      <td>...</td>\n",
       "      <td>...</td>\n",
       "      <td>...</td>\n",
       "      <td>...</td>\n",
       "      <td>...</td>\n",
       "      <td>...</td>\n",
       "      <td>...</td>\n",
       "      <td>...</td>\n",
       "      <td>...</td>\n",
       "      <td>...</td>\n",
       "    </tr>\n",
       "    <tr>\n",
       "      <th>131996</th>\n",
       "      <td>2019</td>\n",
       "      <td>playoffs</td>\n",
       "      <td>Hyderabad</td>\n",
       "      <td>2</td>\n",
       "      <td>Chennai Super Kings</td>\n",
       "      <td>Mumbai Indians</td>\n",
       "      <td>middle</td>\n",
       "      <td>top</td>\n",
       "      <td>pacer</td>\n",
       "      <td>19.2</td>\n",
       "      <td>0</td>\n",
       "      <td>0</td>\n",
       "      <td>0</td>\n",
       "      <td>0</td>\n",
       "      <td>1</td>\n",
       "      <td>0</td>\n",
       "      <td>1</td>\n",
       "      <td></td>\n",
       "      <td>5</td>\n",
       "      <td>Malinga to Jadeja, 1 run, low full toss on mid...</td>\n",
       "    </tr>\n",
       "    <tr>\n",
       "      <th>131997</th>\n",
       "      <td>2019</td>\n",
       "      <td>playoffs</td>\n",
       "      <td>Hyderabad</td>\n",
       "      <td>2</td>\n",
       "      <td>Chennai Super Kings</td>\n",
       "      <td>Mumbai Indians</td>\n",
       "      <td>top</td>\n",
       "      <td>middle</td>\n",
       "      <td>pacer</td>\n",
       "      <td>19.3</td>\n",
       "      <td>0</td>\n",
       "      <td>0</td>\n",
       "      <td>0</td>\n",
       "      <td>0</td>\n",
       "      <td>2</td>\n",
       "      <td>0</td>\n",
       "      <td>2</td>\n",
       "      <td></td>\n",
       "      <td>5</td>\n",
       "      <td>Malinga to Watson, 2 runs, yorker, just outsid...</td>\n",
       "    </tr>\n",
       "    <tr>\n",
       "      <th>131998</th>\n",
       "      <td>2019</td>\n",
       "      <td>playoffs</td>\n",
       "      <td>Hyderabad</td>\n",
       "      <td>2</td>\n",
       "      <td>Chennai Super Kings</td>\n",
       "      <td>Mumbai Indians</td>\n",
       "      <td>top</td>\n",
       "      <td>middle</td>\n",
       "      <td>pacer</td>\n",
       "      <td>19.4</td>\n",
       "      <td>0</td>\n",
       "      <td>0</td>\n",
       "      <td>0</td>\n",
       "      <td>0</td>\n",
       "      <td>1</td>\n",
       "      <td>0</td>\n",
       "      <td>1</td>\n",
       "      <td>run out</td>\n",
       "      <td>6</td>\n",
       "      <td>Malinga to Watson, 1 run, OUT, yorker, just ou...</td>\n",
       "    </tr>\n",
       "    <tr>\n",
       "      <th>131999</th>\n",
       "      <td>2019</td>\n",
       "      <td>playoffs</td>\n",
       "      <td>Hyderabad</td>\n",
       "      <td>2</td>\n",
       "      <td>Chennai Super Kings</td>\n",
       "      <td>Mumbai Indians</td>\n",
       "      <td>middle</td>\n",
       "      <td>middle</td>\n",
       "      <td>pacer</td>\n",
       "      <td>19.5</td>\n",
       "      <td>0</td>\n",
       "      <td>0</td>\n",
       "      <td>0</td>\n",
       "      <td>0</td>\n",
       "      <td>2</td>\n",
       "      <td>0</td>\n",
       "      <td>2</td>\n",
       "      <td></td>\n",
       "      <td>6</td>\n",
       "      <td>Malinga to Thakur, 2 runs, full toss on leg, a...</td>\n",
       "    </tr>\n",
       "    <tr>\n",
       "      <th>132000</th>\n",
       "      <td>2019</td>\n",
       "      <td>playoffs</td>\n",
       "      <td>Hyderabad</td>\n",
       "      <td>2</td>\n",
       "      <td>Chennai Super Kings</td>\n",
       "      <td>Mumbai Indians</td>\n",
       "      <td>middle</td>\n",
       "      <td>middle</td>\n",
       "      <td>pacer</td>\n",
       "      <td>19.6</td>\n",
       "      <td>0</td>\n",
       "      <td>0</td>\n",
       "      <td>0</td>\n",
       "      <td>0</td>\n",
       "      <td>0</td>\n",
       "      <td>0</td>\n",
       "      <td>0</td>\n",
       "      <td>lbw</td>\n",
       "      <td>7</td>\n",
       "      <td>Malinga to Thakur, OUT, Mumbai Indians win IPL...</td>\n",
       "    </tr>\n",
       "  </tbody>\n",
       "</table>\n",
       "<p>9186 rows × 20 columns</p>\n",
       "</div>"
      ],
      "text/plain": [
       "        season  match_id      venue  inning         batting_team  \\\n",
       "12801     2008  playoffs     Mumbai       1     Rajasthan Royals   \n",
       "12802     2008  playoffs     Mumbai       1     Rajasthan Royals   \n",
       "12803     2008  playoffs     Mumbai       1     Rajasthan Royals   \n",
       "12804     2008  playoffs     Mumbai       1     Rajasthan Royals   \n",
       "12805     2008  playoffs     Mumbai       1     Rajasthan Royals   \n",
       "...        ...       ...        ...     ...                  ...   \n",
       "131996    2019  playoffs  Hyderabad       2  Chennai Super Kings   \n",
       "131997    2019  playoffs  Hyderabad       2  Chennai Super Kings   \n",
       "131998    2019  playoffs  Hyderabad       2  Chennai Super Kings   \n",
       "131999    2019  playoffs  Hyderabad       2  Chennai Super Kings   \n",
       "132000    2019  playoffs  Hyderabad       2  Chennai Super Kings   \n",
       "\n",
       "          bowling_team batsman non_striker bowler  ball  wide_runs  bye_runs  \\\n",
       "12801   Delhi Capitals     top         top  pacer   0.1          0         0   \n",
       "12802   Delhi Capitals     top         top  pacer   0.2          1         0   \n",
       "12803   Delhi Capitals     top         top  pacer   0.2          0         0   \n",
       "12804   Delhi Capitals     top         top  pacer   0.3          0         0   \n",
       "12805   Delhi Capitals     top         top  pacer   0.4          0         0   \n",
       "...                ...     ...         ...    ...   ...        ...       ...   \n",
       "131996  Mumbai Indians  middle         top  pacer  19.2          0         0   \n",
       "131997  Mumbai Indians     top      middle  pacer  19.3          0         0   \n",
       "131998  Mumbai Indians     top      middle  pacer  19.4          0         0   \n",
       "131999  Mumbai Indians  middle      middle  pacer  19.5          0         0   \n",
       "132000  Mumbai Indians  middle      middle  pacer  19.6          0         0   \n",
       "\n",
       "        legbye_runs  noball_runs  batsman_runs  extra_runs  total_runs  \\\n",
       "12801             0            0             0           0           0   \n",
       "12802             0            0             0           1           1   \n",
       "12803             0            0             0           0           0   \n",
       "12804             0            0             0           0           0   \n",
       "12805             0            0             0           0           0   \n",
       "...             ...          ...           ...         ...         ...   \n",
       "131996            0            0             1           0           1   \n",
       "131997            0            0             2           0           2   \n",
       "131998            0            0             1           0           1   \n",
       "131999            0            0             2           0           2   \n",
       "132000            0            0             0           0           0   \n",
       "\n",
       "       dismissal_kind  wickets  \\\n",
       "12801                        0   \n",
       "12802                        0   \n",
       "12803                        0   \n",
       "12804                        0   \n",
       "12805                        0   \n",
       "...               ...      ...   \n",
       "131996                       5   \n",
       "131997                       5   \n",
       "131998        run out        6   \n",
       "131999                       6   \n",
       "132000            lbw        7   \n",
       "\n",
       "                                               commentary  \n",
       "12801   McGrath to Smith, no run, a peach from McGrath...  \n",
       "12802   McGrath to Smith, 1 wide, and this one is wide...  \n",
       "12803   McGrath to Smith, no run, tight line and lengt...  \n",
       "12804   McGrath to Smith, no run, good length once aga...  \n",
       "12805   McGrath to Smith, no run, Smith tries to flick...  \n",
       "...                                                   ...  \n",
       "131996  Malinga to Jadeja, 1 run, low full toss on mid...  \n",
       "131997  Malinga to Watson, 2 runs, yorker, just outsid...  \n",
       "131998  Malinga to Watson, 1 run, OUT, yorker, just ou...  \n",
       "131999  Malinga to Thakur, 2 runs, full toss on leg, a...  \n",
       "132000  Malinga to Thakur, OUT, Mumbai Indians win IPL...  \n",
       "\n",
       "[9186 rows x 20 columns]"
      ]
     },
     "execution_count": 85,
     "metadata": {},
     "output_type": "execute_result"
    }
   ],
   "source": [
    "df.loc[df.match_id=='playoffs']"
   ]
  },
  {
   "cell_type": "code",
   "execution_count": 86,
   "metadata": {},
   "outputs": [],
   "source": [
    "p = ['playoffs']\n",
    "df.loc[~df.match_id.isin(p),'match_id'] = 'round-robin'"
   ]
  },
  {
   "cell_type": "code",
   "execution_count": 87,
   "metadata": {},
   "outputs": [
    {
     "data": {
      "text/html": [
       "<div>\n",
       "<style scoped>\n",
       "    .dataframe tbody tr th:only-of-type {\n",
       "        vertical-align: middle;\n",
       "    }\n",
       "\n",
       "    .dataframe tbody tr th {\n",
       "        vertical-align: top;\n",
       "    }\n",
       "\n",
       "    .dataframe thead th {\n",
       "        text-align: right;\n",
       "    }\n",
       "</style>\n",
       "<table border=\"1\" class=\"dataframe\">\n",
       "  <thead>\n",
       "    <tr style=\"text-align: right;\">\n",
       "      <th></th>\n",
       "      <th>season</th>\n",
       "      <th>match_id</th>\n",
       "      <th>venue</th>\n",
       "      <th>inning</th>\n",
       "      <th>batting_team</th>\n",
       "      <th>bowling_team</th>\n",
       "      <th>batsman</th>\n",
       "      <th>non_striker</th>\n",
       "      <th>bowler</th>\n",
       "      <th>ball</th>\n",
       "      <th>wide_runs</th>\n",
       "      <th>bye_runs</th>\n",
       "      <th>legbye_runs</th>\n",
       "      <th>noball_runs</th>\n",
       "      <th>batsman_runs</th>\n",
       "      <th>extra_runs</th>\n",
       "      <th>total_runs</th>\n",
       "      <th>dismissal_kind</th>\n",
       "      <th>wickets</th>\n",
       "      <th>commentary</th>\n",
       "    </tr>\n",
       "  </thead>\n",
       "  <tbody>\n",
       "    <tr>\n",
       "      <th>0</th>\n",
       "      <td>2008</td>\n",
       "      <td>round-robin</td>\n",
       "      <td>Bangalore</td>\n",
       "      <td>1</td>\n",
       "      <td>Kolkata Knight Riders</td>\n",
       "      <td>Royal Challengers Bangalore</td>\n",
       "      <td>top</td>\n",
       "      <td>top</td>\n",
       "      <td>pacer</td>\n",
       "      <td>0.1</td>\n",
       "      <td>0</td>\n",
       "      <td>0</td>\n",
       "      <td>1</td>\n",
       "      <td>0</td>\n",
       "      <td>0</td>\n",
       "      <td>1</td>\n",
       "      <td>1</td>\n",
       "      <td></td>\n",
       "      <td>0</td>\n",
       "      <td>Kumar to Ganguly, 1 leg bye, and thats runs im...</td>\n",
       "    </tr>\n",
       "    <tr>\n",
       "      <th>1</th>\n",
       "      <td>2008</td>\n",
       "      <td>round-robin</td>\n",
       "      <td>Bangalore</td>\n",
       "      <td>1</td>\n",
       "      <td>Kolkata Knight Riders</td>\n",
       "      <td>Royal Challengers Bangalore</td>\n",
       "      <td>top</td>\n",
       "      <td>top</td>\n",
       "      <td>pacer</td>\n",
       "      <td>0.2</td>\n",
       "      <td>0</td>\n",
       "      <td>0</td>\n",
       "      <td>0</td>\n",
       "      <td>0</td>\n",
       "      <td>0</td>\n",
       "      <td>0</td>\n",
       "      <td>0</td>\n",
       "      <td></td>\n",
       "      <td>0</td>\n",
       "      <td>Kumar to McCullum, no run, this one nips back ...</td>\n",
       "    </tr>\n",
       "    <tr>\n",
       "      <th>2</th>\n",
       "      <td>2008</td>\n",
       "      <td>round-robin</td>\n",
       "      <td>Bangalore</td>\n",
       "      <td>1</td>\n",
       "      <td>Kolkata Knight Riders</td>\n",
       "      <td>Royal Challengers Bangalore</td>\n",
       "      <td>top</td>\n",
       "      <td>top</td>\n",
       "      <td>pacer</td>\n",
       "      <td>0.3</td>\n",
       "      <td>1</td>\n",
       "      <td>0</td>\n",
       "      <td>0</td>\n",
       "      <td>0</td>\n",
       "      <td>0</td>\n",
       "      <td>1</td>\n",
       "      <td>1</td>\n",
       "      <td></td>\n",
       "      <td>0</td>\n",
       "      <td>Kumar to McCullum, 1 wide, thats wide, as Prav...</td>\n",
       "    </tr>\n",
       "    <tr>\n",
       "      <th>3</th>\n",
       "      <td>2008</td>\n",
       "      <td>round-robin</td>\n",
       "      <td>Bangalore</td>\n",
       "      <td>1</td>\n",
       "      <td>Kolkata Knight Riders</td>\n",
       "      <td>Royal Challengers Bangalore</td>\n",
       "      <td>top</td>\n",
       "      <td>top</td>\n",
       "      <td>pacer</td>\n",
       "      <td>0.3</td>\n",
       "      <td>0</td>\n",
       "      <td>0</td>\n",
       "      <td>0</td>\n",
       "      <td>0</td>\n",
       "      <td>0</td>\n",
       "      <td>0</td>\n",
       "      <td>0</td>\n",
       "      <td></td>\n",
       "      <td>0</td>\n",
       "      <td>Kumar to McCullum, no run, too straight, McCul...</td>\n",
       "    </tr>\n",
       "    <tr>\n",
       "      <th>4</th>\n",
       "      <td>2008</td>\n",
       "      <td>round-robin</td>\n",
       "      <td>Bangalore</td>\n",
       "      <td>1</td>\n",
       "      <td>Kolkata Knight Riders</td>\n",
       "      <td>Royal Challengers Bangalore</td>\n",
       "      <td>top</td>\n",
       "      <td>top</td>\n",
       "      <td>pacer</td>\n",
       "      <td>0.4</td>\n",
       "      <td>0</td>\n",
       "      <td>0</td>\n",
       "      <td>0</td>\n",
       "      <td>0</td>\n",
       "      <td>0</td>\n",
       "      <td>0</td>\n",
       "      <td>0</td>\n",
       "      <td></td>\n",
       "      <td>0</td>\n",
       "      <td>Kumar to McCullum, no run, steps down the trac...</td>\n",
       "    </tr>\n",
       "    <tr>\n",
       "      <th>...</th>\n",
       "      <td>...</td>\n",
       "      <td>...</td>\n",
       "      <td>...</td>\n",
       "      <td>...</td>\n",
       "      <td>...</td>\n",
       "      <td>...</td>\n",
       "      <td>...</td>\n",
       "      <td>...</td>\n",
       "      <td>...</td>\n",
       "      <td>...</td>\n",
       "      <td>...</td>\n",
       "      <td>...</td>\n",
       "      <td>...</td>\n",
       "      <td>...</td>\n",
       "      <td>...</td>\n",
       "      <td>...</td>\n",
       "      <td>...</td>\n",
       "      <td>...</td>\n",
       "      <td>...</td>\n",
       "      <td>...</td>\n",
       "    </tr>\n",
       "    <tr>\n",
       "      <th>131021</th>\n",
       "      <td>2019</td>\n",
       "      <td>round-robin</td>\n",
       "      <td>Mumbai</td>\n",
       "      <td>2</td>\n",
       "      <td>Mumbai Indians</td>\n",
       "      <td>Kolkata Knight Riders</td>\n",
       "      <td>top</td>\n",
       "      <td>top</td>\n",
       "      <td>pacer</td>\n",
       "      <td>15.3</td>\n",
       "      <td>0</td>\n",
       "      <td>0</td>\n",
       "      <td>0</td>\n",
       "      <td>0</td>\n",
       "      <td>0</td>\n",
       "      <td>0</td>\n",
       "      <td>0</td>\n",
       "      <td></td>\n",
       "      <td>1</td>\n",
       "      <td>Prasidh Krishna to Sharma, no run,Ê</td>\n",
       "    </tr>\n",
       "    <tr>\n",
       "      <th>131022</th>\n",
       "      <td>2019</td>\n",
       "      <td>round-robin</td>\n",
       "      <td>Mumbai</td>\n",
       "      <td>2</td>\n",
       "      <td>Mumbai Indians</td>\n",
       "      <td>Kolkata Knight Riders</td>\n",
       "      <td>top</td>\n",
       "      <td>top</td>\n",
       "      <td>pacer</td>\n",
       "      <td>15.4</td>\n",
       "      <td>0</td>\n",
       "      <td>0</td>\n",
       "      <td>0</td>\n",
       "      <td>0</td>\n",
       "      <td>4</td>\n",
       "      <td>0</td>\n",
       "      <td>4</td>\n",
       "      <td></td>\n",
       "      <td>1</td>\n",
       "      <td>Prasidh Krishna to Sharma, FOUR runs, chipped ...</td>\n",
       "    </tr>\n",
       "    <tr>\n",
       "      <th>131023</th>\n",
       "      <td>2019</td>\n",
       "      <td>round-robin</td>\n",
       "      <td>Mumbai</td>\n",
       "      <td>2</td>\n",
       "      <td>Mumbai Indians</td>\n",
       "      <td>Kolkata Knight Riders</td>\n",
       "      <td>top</td>\n",
       "      <td>top</td>\n",
       "      <td>pacer</td>\n",
       "      <td>15.5</td>\n",
       "      <td>0</td>\n",
       "      <td>0</td>\n",
       "      <td>0</td>\n",
       "      <td>0</td>\n",
       "      <td>1</td>\n",
       "      <td>0</td>\n",
       "      <td>1</td>\n",
       "      <td></td>\n",
       "      <td>1</td>\n",
       "      <td>Prasidh Krishna to Sharma, 1 run, very full, j...</td>\n",
       "    </tr>\n",
       "    <tr>\n",
       "      <th>131024</th>\n",
       "      <td>2019</td>\n",
       "      <td>round-robin</td>\n",
       "      <td>Mumbai</td>\n",
       "      <td>2</td>\n",
       "      <td>Mumbai Indians</td>\n",
       "      <td>Kolkata Knight Riders</td>\n",
       "      <td>top</td>\n",
       "      <td>top</td>\n",
       "      <td>pacer</td>\n",
       "      <td>15.6</td>\n",
       "      <td>0</td>\n",
       "      <td>0</td>\n",
       "      <td>0</td>\n",
       "      <td>0</td>\n",
       "      <td>1</td>\n",
       "      <td>0</td>\n",
       "      <td>1</td>\n",
       "      <td></td>\n",
       "      <td>1</td>\n",
       "      <td>Prasidh Krishna to Yadav, 1 run, Prasidh digs ...</td>\n",
       "    </tr>\n",
       "    <tr>\n",
       "      <th>131025</th>\n",
       "      <td>2019</td>\n",
       "      <td>round-robin</td>\n",
       "      <td>Mumbai</td>\n",
       "      <td>2</td>\n",
       "      <td>Mumbai Indians</td>\n",
       "      <td>Kolkata Knight Riders</td>\n",
       "      <td>top</td>\n",
       "      <td>top</td>\n",
       "      <td>pacer</td>\n",
       "      <td>16.1</td>\n",
       "      <td>0</td>\n",
       "      <td>0</td>\n",
       "      <td>0</td>\n",
       "      <td>0</td>\n",
       "      <td>6</td>\n",
       "      <td>0</td>\n",
       "      <td>6</td>\n",
       "      <td></td>\n",
       "      <td>1</td>\n",
       "      <td>Russell to Yadav, SIX runs, and the match ends...</td>\n",
       "    </tr>\n",
       "  </tbody>\n",
       "</table>\n",
       "<p>122815 rows × 20 columns</p>\n",
       "</div>"
      ],
      "text/plain": [
       "        season     match_id      venue  inning           batting_team  \\\n",
       "0         2008  round-robin  Bangalore       1  Kolkata Knight Riders   \n",
       "1         2008  round-robin  Bangalore       1  Kolkata Knight Riders   \n",
       "2         2008  round-robin  Bangalore       1  Kolkata Knight Riders   \n",
       "3         2008  round-robin  Bangalore       1  Kolkata Knight Riders   \n",
       "4         2008  round-robin  Bangalore       1  Kolkata Knight Riders   \n",
       "...        ...          ...        ...     ...                    ...   \n",
       "131021    2019  round-robin     Mumbai       2         Mumbai Indians   \n",
       "131022    2019  round-robin     Mumbai       2         Mumbai Indians   \n",
       "131023    2019  round-robin     Mumbai       2         Mumbai Indians   \n",
       "131024    2019  round-robin     Mumbai       2         Mumbai Indians   \n",
       "131025    2019  round-robin     Mumbai       2         Mumbai Indians   \n",
       "\n",
       "                       bowling_team batsman non_striker bowler  ball  \\\n",
       "0       Royal Challengers Bangalore     top         top  pacer   0.1   \n",
       "1       Royal Challengers Bangalore     top         top  pacer   0.2   \n",
       "2       Royal Challengers Bangalore     top         top  pacer   0.3   \n",
       "3       Royal Challengers Bangalore     top         top  pacer   0.3   \n",
       "4       Royal Challengers Bangalore     top         top  pacer   0.4   \n",
       "...                             ...     ...         ...    ...   ...   \n",
       "131021        Kolkata Knight Riders     top         top  pacer  15.3   \n",
       "131022        Kolkata Knight Riders     top         top  pacer  15.4   \n",
       "131023        Kolkata Knight Riders     top         top  pacer  15.5   \n",
       "131024        Kolkata Knight Riders     top         top  pacer  15.6   \n",
       "131025        Kolkata Knight Riders     top         top  pacer  16.1   \n",
       "\n",
       "        wide_runs  bye_runs  legbye_runs  noball_runs  batsman_runs  \\\n",
       "0               0         0            1            0             0   \n",
       "1               0         0            0            0             0   \n",
       "2               1         0            0            0             0   \n",
       "3               0         0            0            0             0   \n",
       "4               0         0            0            0             0   \n",
       "...           ...       ...          ...          ...           ...   \n",
       "131021          0         0            0            0             0   \n",
       "131022          0         0            0            0             4   \n",
       "131023          0         0            0            0             1   \n",
       "131024          0         0            0            0             1   \n",
       "131025          0         0            0            0             6   \n",
       "\n",
       "        extra_runs  total_runs dismissal_kind  wickets  \\\n",
       "0                1           1                       0   \n",
       "1                0           0                       0   \n",
       "2                1           1                       0   \n",
       "3                0           0                       0   \n",
       "4                0           0                       0   \n",
       "...            ...         ...            ...      ...   \n",
       "131021           0           0                       1   \n",
       "131022           0           4                       1   \n",
       "131023           0           1                       1   \n",
       "131024           0           1                       1   \n",
       "131025           0           6                       1   \n",
       "\n",
       "                                               commentary  \n",
       "0       Kumar to Ganguly, 1 leg bye, and thats runs im...  \n",
       "1       Kumar to McCullum, no run, this one nips back ...  \n",
       "2       Kumar to McCullum, 1 wide, thats wide, as Prav...  \n",
       "3       Kumar to McCullum, no run, too straight, McCul...  \n",
       "4       Kumar to McCullum, no run, steps down the trac...  \n",
       "...                                                   ...  \n",
       "131021                Prasidh Krishna to Sharma, no run,Ê  \n",
       "131022  Prasidh Krishna to Sharma, FOUR runs, chipped ...  \n",
       "131023  Prasidh Krishna to Sharma, 1 run, very full, j...  \n",
       "131024  Prasidh Krishna to Yadav, 1 run, Prasidh digs ...  \n",
       "131025  Russell to Yadav, SIX runs, and the match ends...  \n",
       "\n",
       "[122815 rows x 20 columns]"
      ]
     },
     "execution_count": 87,
     "metadata": {},
     "output_type": "execute_result"
    }
   ],
   "source": [
    "df.loc[df.match_id=='round-robin']"
   ]
  },
  {
   "cell_type": "code",
   "execution_count": 88,
   "metadata": {},
   "outputs": [],
   "source": [
    "df.rename(columns={\"match_id\": \"match_type\", \"bowler\": \"bowler_type\"}, inplace=True)"
   ]
  },
  {
   "cell_type": "code",
   "execution_count": 89,
   "metadata": {
    "scrolled": true
   },
   "outputs": [
    {
     "data": {
      "text/html": [
       "<div>\n",
       "<style scoped>\n",
       "    .dataframe tbody tr th:only-of-type {\n",
       "        vertical-align: middle;\n",
       "    }\n",
       "\n",
       "    .dataframe tbody tr th {\n",
       "        vertical-align: top;\n",
       "    }\n",
       "\n",
       "    .dataframe thead th {\n",
       "        text-align: right;\n",
       "    }\n",
       "</style>\n",
       "<table border=\"1\" class=\"dataframe\">\n",
       "  <thead>\n",
       "    <tr style=\"text-align: right;\">\n",
       "      <th></th>\n",
       "      <th>season</th>\n",
       "      <th>match_type</th>\n",
       "      <th>venue</th>\n",
       "      <th>inning</th>\n",
       "      <th>batting_team</th>\n",
       "      <th>bowling_team</th>\n",
       "      <th>batsman</th>\n",
       "      <th>non_striker</th>\n",
       "      <th>bowler_type</th>\n",
       "      <th>ball</th>\n",
       "      <th>wide_runs</th>\n",
       "      <th>bye_runs</th>\n",
       "      <th>legbye_runs</th>\n",
       "      <th>noball_runs</th>\n",
       "      <th>batsman_runs</th>\n",
       "      <th>extra_runs</th>\n",
       "      <th>total_runs</th>\n",
       "      <th>dismissal_kind</th>\n",
       "      <th>wickets</th>\n",
       "      <th>commentary</th>\n",
       "    </tr>\n",
       "  </thead>\n",
       "  <tbody>\n",
       "    <tr>\n",
       "      <th>0</th>\n",
       "      <td>2008</td>\n",
       "      <td>round-robin</td>\n",
       "      <td>Bangalore</td>\n",
       "      <td>1</td>\n",
       "      <td>Kolkata Knight Riders</td>\n",
       "      <td>Royal Challengers Bangalore</td>\n",
       "      <td>top</td>\n",
       "      <td>top</td>\n",
       "      <td>pacer</td>\n",
       "      <td>0.1</td>\n",
       "      <td>0</td>\n",
       "      <td>0</td>\n",
       "      <td>1</td>\n",
       "      <td>0</td>\n",
       "      <td>0</td>\n",
       "      <td>1</td>\n",
       "      <td>1</td>\n",
       "      <td></td>\n",
       "      <td>0</td>\n",
       "      <td>Kumar to Ganguly, 1 leg bye, and thats runs im...</td>\n",
       "    </tr>\n",
       "    <tr>\n",
       "      <th>1</th>\n",
       "      <td>2008</td>\n",
       "      <td>round-robin</td>\n",
       "      <td>Bangalore</td>\n",
       "      <td>1</td>\n",
       "      <td>Kolkata Knight Riders</td>\n",
       "      <td>Royal Challengers Bangalore</td>\n",
       "      <td>top</td>\n",
       "      <td>top</td>\n",
       "      <td>pacer</td>\n",
       "      <td>0.2</td>\n",
       "      <td>0</td>\n",
       "      <td>0</td>\n",
       "      <td>0</td>\n",
       "      <td>0</td>\n",
       "      <td>0</td>\n",
       "      <td>0</td>\n",
       "      <td>0</td>\n",
       "      <td></td>\n",
       "      <td>0</td>\n",
       "      <td>Kumar to McCullum, no run, this one nips back ...</td>\n",
       "    </tr>\n",
       "    <tr>\n",
       "      <th>2</th>\n",
       "      <td>2008</td>\n",
       "      <td>round-robin</td>\n",
       "      <td>Bangalore</td>\n",
       "      <td>1</td>\n",
       "      <td>Kolkata Knight Riders</td>\n",
       "      <td>Royal Challengers Bangalore</td>\n",
       "      <td>top</td>\n",
       "      <td>top</td>\n",
       "      <td>pacer</td>\n",
       "      <td>0.3</td>\n",
       "      <td>1</td>\n",
       "      <td>0</td>\n",
       "      <td>0</td>\n",
       "      <td>0</td>\n",
       "      <td>0</td>\n",
       "      <td>1</td>\n",
       "      <td>1</td>\n",
       "      <td></td>\n",
       "      <td>0</td>\n",
       "      <td>Kumar to McCullum, 1 wide, thats wide, as Prav...</td>\n",
       "    </tr>\n",
       "    <tr>\n",
       "      <th>3</th>\n",
       "      <td>2008</td>\n",
       "      <td>round-robin</td>\n",
       "      <td>Bangalore</td>\n",
       "      <td>1</td>\n",
       "      <td>Kolkata Knight Riders</td>\n",
       "      <td>Royal Challengers Bangalore</td>\n",
       "      <td>top</td>\n",
       "      <td>top</td>\n",
       "      <td>pacer</td>\n",
       "      <td>0.3</td>\n",
       "      <td>0</td>\n",
       "      <td>0</td>\n",
       "      <td>0</td>\n",
       "      <td>0</td>\n",
       "      <td>0</td>\n",
       "      <td>0</td>\n",
       "      <td>0</td>\n",
       "      <td></td>\n",
       "      <td>0</td>\n",
       "      <td>Kumar to McCullum, no run, too straight, McCul...</td>\n",
       "    </tr>\n",
       "    <tr>\n",
       "      <th>4</th>\n",
       "      <td>2008</td>\n",
       "      <td>round-robin</td>\n",
       "      <td>Bangalore</td>\n",
       "      <td>1</td>\n",
       "      <td>Kolkata Knight Riders</td>\n",
       "      <td>Royal Challengers Bangalore</td>\n",
       "      <td>top</td>\n",
       "      <td>top</td>\n",
       "      <td>pacer</td>\n",
       "      <td>0.4</td>\n",
       "      <td>0</td>\n",
       "      <td>0</td>\n",
       "      <td>0</td>\n",
       "      <td>0</td>\n",
       "      <td>0</td>\n",
       "      <td>0</td>\n",
       "      <td>0</td>\n",
       "      <td></td>\n",
       "      <td>0</td>\n",
       "      <td>Kumar to McCullum, no run, steps down the trac...</td>\n",
       "    </tr>\n",
       "  </tbody>\n",
       "</table>\n",
       "</div>"
      ],
      "text/plain": [
       "   season   match_type      venue  inning           batting_team  \\\n",
       "0    2008  round-robin  Bangalore       1  Kolkata Knight Riders   \n",
       "1    2008  round-robin  Bangalore       1  Kolkata Knight Riders   \n",
       "2    2008  round-robin  Bangalore       1  Kolkata Knight Riders   \n",
       "3    2008  round-robin  Bangalore       1  Kolkata Knight Riders   \n",
       "4    2008  round-robin  Bangalore       1  Kolkata Knight Riders   \n",
       "\n",
       "                  bowling_team batsman non_striker bowler_type  ball  \\\n",
       "0  Royal Challengers Bangalore     top         top       pacer   0.1   \n",
       "1  Royal Challengers Bangalore     top         top       pacer   0.2   \n",
       "2  Royal Challengers Bangalore     top         top       pacer   0.3   \n",
       "3  Royal Challengers Bangalore     top         top       pacer   0.3   \n",
       "4  Royal Challengers Bangalore     top         top       pacer   0.4   \n",
       "\n",
       "   wide_runs  bye_runs  legbye_runs  noball_runs  batsman_runs  extra_runs  \\\n",
       "0          0         0            1            0             0           1   \n",
       "1          0         0            0            0             0           0   \n",
       "2          1         0            0            0             0           1   \n",
       "3          0         0            0            0             0           0   \n",
       "4          0         0            0            0             0           0   \n",
       "\n",
       "   total_runs dismissal_kind  wickets  \\\n",
       "0           1                       0   \n",
       "1           0                       0   \n",
       "2           1                       0   \n",
       "3           0                       0   \n",
       "4           0                       0   \n",
       "\n",
       "                                          commentary  \n",
       "0  Kumar to Ganguly, 1 leg bye, and thats runs im...  \n",
       "1  Kumar to McCullum, no run, this one nips back ...  \n",
       "2  Kumar to McCullum, 1 wide, thats wide, as Prav...  \n",
       "3  Kumar to McCullum, no run, too straight, McCul...  \n",
       "4  Kumar to McCullum, no run, steps down the trac...  "
      ]
     },
     "execution_count": 89,
     "metadata": {},
     "output_type": "execute_result"
    }
   ],
   "source": [
    "df.head()"
   ]
  },
  {
   "cell_type": "markdown",
   "metadata": {},
   "source": [
    "## Feature Engineering `ball_length` Column from `commentary` Column"
   ]
  },
  {
   "cell_type": "code",
   "execution_count": 90,
   "metadata": {},
   "outputs": [],
   "source": [
    "def lower_comm(x):\n",
    "    return x.lower()\n",
    "df['commentary'] = df['commentary'].apply(lower_comm)"
   ]
  },
  {
   "cell_type": "code",
   "execution_count": 91,
   "metadata": {},
   "outputs": [],
   "source": [
    "full_toss_length = ['full toss', 'beamer', 'full-toss', 'fulltoss']\n",
    "yorker_length = ['yorker', 'yorker length', 'yorker-ish', 'blockhole', 'block-hole', 'block hole', 'toe-crusher', 'toe crusher']\n",
    "full_length = ['full', 'full and straight', 'full length', 'fullish', 'full-ish', 'fuller', 'very full', 'full ball', 'full delivery', 'forward', 'front foot', 'flicked off the pads', 'glanced off the pads', 'flicks off the pad', 'off the pads', 'off the pad',\n",
    "               'clips', 'clipped', 'pads', 'on the pad', 'into the pads', 'cover drive', 'front', 'beaten', 'beaten on the drive','pitches it up', 'full on', 'slog', 'slogs', 'flat and quick',\n",
    "               'onto the pads', 'aimed at leg stump', 'aimed at leg-stump', 'pitched at leg stump', 'floated up', 'floats', 'floating', 'flights', 'flight', 'inside out', 'in the slot', 'slot delivery', 'long on', 'long-on',\n",
    "               'flighted', 'flighting', 'tossed up', 'overpitched', 'overpitching', 'overpitches', 'pitched up', 'half-volley', 'half volley', 'loopy', 'looping', 'reverse sweep', 'down the ground',\n",
    "               'reverse-sweep', 'sweep', 'sweeping', 'paddled', 'paddle', 'paddles', 'slog swept', 'slog-sweep', 'off-drive', 'straight-drive', 'worked', 'works', 'meeting the pitch', 'lunges forward', 'cover-drive', 'cover drive',\n",
    "               'off drive', 'slog-sweeps', 'straight drive', 'on-drive', 'on drive', 'helicopter shot', 'helicopter', 'over cover', 'over extra cover', 'pitch of the ball', 'to the pitch', 'slower full', 'slower, full']\n",
    "good_length = ['length ball', 'good length', 'length delivery', 'at a length', ', length,', 'length', 'peach', 'corridor of uncertainty', 'punched', 'googly', 'cramped', 'cramps', 'cramping', 'thigh pad', 'cramp',\n",
    "               'goodish', 'good-ish', 'nudges', 'driven on the up', 'slower length ball', 'slower, good length', 'on the up', 'length outside', 'length on', 'tight length']\n",
    "short_length = ['short', 'short ball', 'short delivery', 'bouncer', 'pulled', 'hooked', 'pulling', 'hooking', 'pull', 'hook',\n",
    "                'back of a length', 'back of length', 'back of good length', 'back foot', 'back-foot', 'heaved', 'hoicked',\n",
    "                'short of good length', 'short length', 'shortish', 'short-ish', 'cuts', 'cut', 'cutting it', 'cutting the', 'dragged back', 'drags his length back',\n",
    "                'back-of-a-length', 'holding back the length']"
   ]
  },
  {
   "cell_type": "code",
   "execution_count": 92,
   "metadata": {},
   "outputs": [
    {
     "data": {
      "text/html": [
       "<div>\n",
       "<style scoped>\n",
       "    .dataframe tbody tr th:only-of-type {\n",
       "        vertical-align: middle;\n",
       "    }\n",
       "\n",
       "    .dataframe tbody tr th {\n",
       "        vertical-align: top;\n",
       "    }\n",
       "\n",
       "    .dataframe thead th {\n",
       "        text-align: right;\n",
       "    }\n",
       "</style>\n",
       "<table border=\"1\" class=\"dataframe\">\n",
       "  <thead>\n",
       "    <tr style=\"text-align: right;\">\n",
       "      <th></th>\n",
       "      <th>season</th>\n",
       "      <th>match_type</th>\n",
       "      <th>venue</th>\n",
       "      <th>inning</th>\n",
       "      <th>batting_team</th>\n",
       "      <th>bowling_team</th>\n",
       "      <th>batsman</th>\n",
       "      <th>non_striker</th>\n",
       "      <th>bowler_type</th>\n",
       "      <th>ball</th>\n",
       "      <th>...</th>\n",
       "      <th>bye_runs</th>\n",
       "      <th>legbye_runs</th>\n",
       "      <th>noball_runs</th>\n",
       "      <th>batsman_runs</th>\n",
       "      <th>extra_runs</th>\n",
       "      <th>total_runs</th>\n",
       "      <th>dismissal_kind</th>\n",
       "      <th>wickets</th>\n",
       "      <th>commentary</th>\n",
       "      <th>ball_length</th>\n",
       "    </tr>\n",
       "  </thead>\n",
       "  <tbody>\n",
       "    <tr>\n",
       "      <th>0</th>\n",
       "      <td>2008</td>\n",
       "      <td>round-robin</td>\n",
       "      <td>Bangalore</td>\n",
       "      <td>1</td>\n",
       "      <td>Kolkata Knight Riders</td>\n",
       "      <td>Royal Challengers Bangalore</td>\n",
       "      <td>top</td>\n",
       "      <td>top</td>\n",
       "      <td>pacer</td>\n",
       "      <td>0.1</td>\n",
       "      <td>...</td>\n",
       "      <td>0</td>\n",
       "      <td>1</td>\n",
       "      <td>0</td>\n",
       "      <td>0</td>\n",
       "      <td>1</td>\n",
       "      <td>1</td>\n",
       "      <td></td>\n",
       "      <td>0</td>\n",
       "      <td>kumar to ganguly, 1 leg bye, and thats runs im...</td>\n",
       "      <td>full</td>\n",
       "    </tr>\n",
       "    <tr>\n",
       "      <th>1</th>\n",
       "      <td>2008</td>\n",
       "      <td>round-robin</td>\n",
       "      <td>Bangalore</td>\n",
       "      <td>1</td>\n",
       "      <td>Kolkata Knight Riders</td>\n",
       "      <td>Royal Challengers Bangalore</td>\n",
       "      <td>top</td>\n",
       "      <td>top</td>\n",
       "      <td>pacer</td>\n",
       "      <td>0.2</td>\n",
       "      <td>...</td>\n",
       "      <td>0</td>\n",
       "      <td>0</td>\n",
       "      <td>0</td>\n",
       "      <td>0</td>\n",
       "      <td>0</td>\n",
       "      <td>0</td>\n",
       "      <td></td>\n",
       "      <td>0</td>\n",
       "      <td>kumar to mccullum, no run, this one nips back ...</td>\n",
       "      <td>good</td>\n",
       "    </tr>\n",
       "    <tr>\n",
       "      <th>2</th>\n",
       "      <td>2008</td>\n",
       "      <td>round-robin</td>\n",
       "      <td>Bangalore</td>\n",
       "      <td>1</td>\n",
       "      <td>Kolkata Knight Riders</td>\n",
       "      <td>Royal Challengers Bangalore</td>\n",
       "      <td>top</td>\n",
       "      <td>top</td>\n",
       "      <td>pacer</td>\n",
       "      <td>0.3</td>\n",
       "      <td>...</td>\n",
       "      <td>0</td>\n",
       "      <td>0</td>\n",
       "      <td>0</td>\n",
       "      <td>0</td>\n",
       "      <td>1</td>\n",
       "      <td>1</td>\n",
       "      <td></td>\n",
       "      <td>0</td>\n",
       "      <td>kumar to mccullum, 1 wide, thats wide, as prav...</td>\n",
       "      <td>nan</td>\n",
       "    </tr>\n",
       "    <tr>\n",
       "      <th>3</th>\n",
       "      <td>2008</td>\n",
       "      <td>round-robin</td>\n",
       "      <td>Bangalore</td>\n",
       "      <td>1</td>\n",
       "      <td>Kolkata Knight Riders</td>\n",
       "      <td>Royal Challengers Bangalore</td>\n",
       "      <td>top</td>\n",
       "      <td>top</td>\n",
       "      <td>pacer</td>\n",
       "      <td>0.3</td>\n",
       "      <td>...</td>\n",
       "      <td>0</td>\n",
       "      <td>0</td>\n",
       "      <td>0</td>\n",
       "      <td>0</td>\n",
       "      <td>0</td>\n",
       "      <td>0</td>\n",
       "      <td></td>\n",
       "      <td>0</td>\n",
       "      <td>kumar to mccullum, no run, too straight, mccul...</td>\n",
       "      <td>nan</td>\n",
       "    </tr>\n",
       "    <tr>\n",
       "      <th>4</th>\n",
       "      <td>2008</td>\n",
       "      <td>round-robin</td>\n",
       "      <td>Bangalore</td>\n",
       "      <td>1</td>\n",
       "      <td>Kolkata Knight Riders</td>\n",
       "      <td>Royal Challengers Bangalore</td>\n",
       "      <td>top</td>\n",
       "      <td>top</td>\n",
       "      <td>pacer</td>\n",
       "      <td>0.4</td>\n",
       "      <td>...</td>\n",
       "      <td>0</td>\n",
       "      <td>0</td>\n",
       "      <td>0</td>\n",
       "      <td>0</td>\n",
       "      <td>0</td>\n",
       "      <td>0</td>\n",
       "      <td></td>\n",
       "      <td>0</td>\n",
       "      <td>kumar to mccullum, no run, steps down the trac...</td>\n",
       "      <td>good</td>\n",
       "    </tr>\n",
       "  </tbody>\n",
       "</table>\n",
       "<p>5 rows × 21 columns</p>\n",
       "</div>"
      ],
      "text/plain": [
       "   season   match_type      venue  inning           batting_team  \\\n",
       "0    2008  round-robin  Bangalore       1  Kolkata Knight Riders   \n",
       "1    2008  round-robin  Bangalore       1  Kolkata Knight Riders   \n",
       "2    2008  round-robin  Bangalore       1  Kolkata Knight Riders   \n",
       "3    2008  round-robin  Bangalore       1  Kolkata Knight Riders   \n",
       "4    2008  round-robin  Bangalore       1  Kolkata Knight Riders   \n",
       "\n",
       "                  bowling_team batsman non_striker bowler_type  ball  ...  \\\n",
       "0  Royal Challengers Bangalore     top         top       pacer   0.1  ...   \n",
       "1  Royal Challengers Bangalore     top         top       pacer   0.2  ...   \n",
       "2  Royal Challengers Bangalore     top         top       pacer   0.3  ...   \n",
       "3  Royal Challengers Bangalore     top         top       pacer   0.3  ...   \n",
       "4  Royal Challengers Bangalore     top         top       pacer   0.4  ...   \n",
       "\n",
       "   bye_runs  legbye_runs  noball_runs  batsman_runs  extra_runs  total_runs  \\\n",
       "0         0            1            0             0           1           1   \n",
       "1         0            0            0             0           0           0   \n",
       "2         0            0            0             0           1           1   \n",
       "3         0            0            0             0           0           0   \n",
       "4         0            0            0             0           0           0   \n",
       "\n",
       "   dismissal_kind wickets                                         commentary  \\\n",
       "0                       0  kumar to ganguly, 1 leg bye, and thats runs im...   \n",
       "1                       0  kumar to mccullum, no run, this one nips back ...   \n",
       "2                       0  kumar to mccullum, 1 wide, thats wide, as prav...   \n",
       "3                       0  kumar to mccullum, no run, too straight, mccul...   \n",
       "4                       0  kumar to mccullum, no run, steps down the trac...   \n",
       "\n",
       "  ball_length  \n",
       "0        full  \n",
       "1        good  \n",
       "2         nan  \n",
       "3         nan  \n",
       "4        good  \n",
       "\n",
       "[5 rows x 21 columns]"
      ]
     },
     "execution_count": 92,
     "metadata": {},
     "output_type": "execute_result"
    }
   ],
   "source": [
    "conditions  = [df.commentary.str.contains('|'.join(full_toss_length)), df.commentary.str.contains('|'.join(yorker_length)), df.commentary.str.contains('|'.join(full_length)), df.commentary.str.contains('|'.join(good_length)), df.commentary.str.contains('|'.join(short_length))]\n",
    "choices = [\"full toss\", \"yorker\", \"full\", \"good\", \"short\"]\n",
    "\n",
    "df[\"ball_length\"] = np.select(conditions, choices, default=np.nan)\n",
    "df.head()"
   ]
  },
  {
   "cell_type": "code",
   "execution_count": 93,
   "metadata": {},
   "outputs": [],
   "source": [
    "df.loc[df.ball_length=='nan'].shape[0]\n",
    "# df.loc[df.ball_length=='nan']['commentary'].to_csv('commentary_nan.csv')\n",
    "\n",
    "# replace all NaN values in `ball_length` column with 'Unknown'\n",
    "\n",
    "df.loc[df.ball_length=='nan','ball_length'] = 'Unknown'"
   ]
  },
  {
   "cell_type": "code",
   "execution_count": 94,
   "metadata": {},
   "outputs": [
    {
     "data": {
      "text/plain": [
       "(0, 21)"
      ]
     },
     "execution_count": 94,
     "metadata": {},
     "output_type": "execute_result"
    }
   ],
   "source": [
    "df.loc[(df.ball_length=='nan')].shape"
   ]
  },
  {
   "cell_type": "markdown",
   "metadata": {},
   "source": [
    "## Feature Engineering `cumulative_runs` from `total_runs` per ball "
   ]
  },
  {
   "cell_type": "code",
   "execution_count": 95,
   "metadata": {},
   "outputs": [],
   "source": [
    "# sum total_runs until `inning` doesn't change\n",
    "\n",
    "df['cumulative_runs'] = df.groupby(['season', 'match_type', 'venue', 'inning', 'batting_team', 'bowling_team'])['total_runs'].cumsum()"
   ]
  },
  {
   "cell_type": "code",
   "execution_count": 96,
   "metadata": {},
   "outputs": [
    {
     "data": {
      "text/plain": [
       "0           1\n",
       "1           1\n",
       "2           2\n",
       "3           2\n",
       "4           2\n",
       "         ... \n",
       "131996    143\n",
       "131997    145\n",
       "131998    146\n",
       "131999    148\n",
       "132000    148\n",
       "Name: cumulative_runs, Length: 132001, dtype: int64"
      ]
     },
     "execution_count": 96,
     "metadata": {},
     "output_type": "execute_result"
    }
   ],
   "source": [
    "df['cumulative_runs']"
   ]
  },
  {
   "cell_type": "markdown",
   "metadata": {},
   "source": [
    "## Feature Engineering `Event` Response Variable"
   ]
  },
  {
   "cell_type": "code",
   "execution_count": 97,
   "metadata": {},
   "outputs": [],
   "source": [
    "df['batsman_runs'] = df['batsman_runs'].astype('int64')\n",
    "df['total_runs'] = df['total_runs'].astype('int64')\n",
    "df['extra_runs'] = df['extra_runs'].astype('int64')\n",
    "df['noball_runs'] = df['noball_runs'].astype('int64')\n",
    "df['legbye_runs'] = df['legbye_runs'].astype('int64')\n",
    "df['bye_runs'] = df['bye_runs'].astype('int64')\n",
    "df['wide_runs'] = df['wide_runs'].astype('int64')\n",
    "\n",
    "def event_pred(row):\n",
    "    if row['batsman_runs']==0 and row['extra_runs']== 0 and row['total_runs'] == 0 and row['dismissal_kind']!='bowled' and row['dismissal_kind']!='caught' and row['dismissal_kind']!='caught and bowled' and row['dismissal_kind']!='hit wicket' and row['dismissal_kind']!='lbw' and row['dismissal_kind']!='obstructing the field' and row['dismissal_kind']!='retired hurt' and row['dismissal_kind']!='run out' and row['dismissal_kind']!='stumped':\n",
    "        return 'Dot'\n",
    "    if row['batsman_runs']>0 and row['extra_runs']== 0 and row['total_runs'] > 0 and row['dismissal_kind']!='bowled' and row['dismissal_kind']!='caught' and row['dismissal_kind']!='caught and bowled' and row['dismissal_kind']!='hit wicket' and row['dismissal_kind']!='lbw' and row['dismissal_kind']!='obstructing the field' and row['dismissal_kind']!='retired hurt' and row['dismissal_kind']!='run out' and row['dismissal_kind']!='stumped':\n",
    "        return 'Runs'\n",
    "    if row['wide_runs']>0 or row['bye_runs']>0 or row['legbye_runs']>0 or row['noball_runs']>0 or row['batsman_runs']>=0 and row['extra_runs']>0 and row['total_runs']>0 and row['dismissal_kind']!='bowled' and row['dismissal_kind']!='caught' and row['dismissal_kind']!='caught and bowled' and row['dismissal_kind']!='hit wicket' and row['dismissal_kind']!='lbw' and row['dismissal_kind']!='obstructing the field' and row['dismissal_kind']!='retired hurt' and row['dismissal_kind']!='run out' and row['dismissal_kind']!='stumped':\n",
    "        return 'Extras'\n",
    "    if row['dismissal_kind']=='bowled' or row['dismissal_kind']=='caught' or row['dismissal_kind']=='caught and bowled' or row['dismissal_kind']=='hit wicket' or row['dismissal_kind']=='lbw' or row['dismissal_kind']=='obstructing the field' or row['dismissal_kind']=='retired hurt' or row['dismissal_kind']=='run out' or row['dismissal_kind']=='stumped':\n",
    "        return 'WICKET!'"
   ]
  },
  {
   "cell_type": "code",
   "execution_count": 98,
   "metadata": {},
   "outputs": [],
   "source": [
    "df['event'] = df.apply(lambda row: event_pred(row), axis=1)"
   ]
  },
  {
   "cell_type": "code",
   "execution_count": 99,
   "metadata": {},
   "outputs": [
    {
     "data": {
      "text/plain": [
       "39868"
      ]
     },
     "execution_count": 99,
     "metadata": {},
     "output_type": "execute_result"
    }
   ],
   "source": [
    "df.loc[df.event=='Dot'].shape[0]"
   ]
  },
  {
   "cell_type": "code",
   "execution_count": 100,
   "metadata": {},
   "outputs": [
    {
     "data": {
      "text/plain": [
       "78597"
      ]
     },
     "execution_count": 100,
     "metadata": {},
     "output_type": "execute_result"
    }
   ],
   "source": [
    "df.loc[df.event=='Runs'].shape[0]"
   ]
  },
  {
   "cell_type": "code",
   "execution_count": 101,
   "metadata": {},
   "outputs": [
    {
     "data": {
      "text/plain": [
       "7080"
      ]
     },
     "execution_count": 101,
     "metadata": {},
     "output_type": "execute_result"
    }
   ],
   "source": [
    "df.loc[df.event=='Extras'].shape[0]"
   ]
  },
  {
   "cell_type": "code",
   "execution_count": 102,
   "metadata": {},
   "outputs": [
    {
     "data": {
      "text/plain": [
       "6456"
      ]
     },
     "execution_count": 102,
     "metadata": {},
     "output_type": "execute_result"
    }
   ],
   "source": [
    "df.loc[df.event=='WICKET!'].shape[0]"
   ]
  },
  {
   "cell_type": "code",
   "execution_count": 103,
   "metadata": {
    "scrolled": true
   },
   "outputs": [
    {
     "data": {
      "text/plain": [
       "season               int64\n",
       "match_type          object\n",
       "venue               object\n",
       "inning               int64\n",
       "batting_team        object\n",
       "bowling_team        object\n",
       "batsman             object\n",
       "non_striker         object\n",
       "bowler_type         object\n",
       "ball               float64\n",
       "wide_runs            int64\n",
       "bye_runs             int64\n",
       "legbye_runs          int64\n",
       "noball_runs          int64\n",
       "batsman_runs         int64\n",
       "extra_runs           int64\n",
       "total_runs           int64\n",
       "dismissal_kind      object\n",
       "wickets              int64\n",
       "commentary          object\n",
       "ball_length         object\n",
       "cumulative_runs      int64\n",
       "event               object\n",
       "dtype: object"
      ]
     },
     "execution_count": 103,
     "metadata": {},
     "output_type": "execute_result"
    }
   ],
   "source": [
    "df.dtypes"
   ]
  },
  {
   "cell_type": "markdown",
   "metadata": {},
   "source": [
    "## Dropping Unnecessary Columns "
   ]
  },
  {
   "cell_type": "code",
   "execution_count": 104,
   "metadata": {},
   "outputs": [
    {
     "data": {
      "text/html": [
       "<div>\n",
       "<style scoped>\n",
       "    .dataframe tbody tr th:only-of-type {\n",
       "        vertical-align: middle;\n",
       "    }\n",
       "\n",
       "    .dataframe tbody tr th {\n",
       "        vertical-align: top;\n",
       "    }\n",
       "\n",
       "    .dataframe thead th {\n",
       "        text-align: right;\n",
       "    }\n",
       "</style>\n",
       "<table border=\"1\" class=\"dataframe\">\n",
       "  <thead>\n",
       "    <tr style=\"text-align: right;\">\n",
       "      <th></th>\n",
       "      <th>season</th>\n",
       "      <th>match_type</th>\n",
       "      <th>venue</th>\n",
       "      <th>inning</th>\n",
       "      <th>batting_team</th>\n",
       "      <th>bowling_team</th>\n",
       "      <th>batsman</th>\n",
       "      <th>non_striker</th>\n",
       "      <th>bowler_type</th>\n",
       "      <th>ball</th>\n",
       "      <th>wickets</th>\n",
       "      <th>ball_length</th>\n",
       "      <th>cumulative_runs</th>\n",
       "      <th>event</th>\n",
       "    </tr>\n",
       "  </thead>\n",
       "  <tbody>\n",
       "    <tr>\n",
       "      <th>0</th>\n",
       "      <td>2008</td>\n",
       "      <td>round-robin</td>\n",
       "      <td>Bangalore</td>\n",
       "      <td>1</td>\n",
       "      <td>Kolkata Knight Riders</td>\n",
       "      <td>Royal Challengers Bangalore</td>\n",
       "      <td>top</td>\n",
       "      <td>top</td>\n",
       "      <td>pacer</td>\n",
       "      <td>0.1</td>\n",
       "      <td>0</td>\n",
       "      <td>full</td>\n",
       "      <td>1</td>\n",
       "      <td>Extras</td>\n",
       "    </tr>\n",
       "    <tr>\n",
       "      <th>1</th>\n",
       "      <td>2008</td>\n",
       "      <td>round-robin</td>\n",
       "      <td>Bangalore</td>\n",
       "      <td>1</td>\n",
       "      <td>Kolkata Knight Riders</td>\n",
       "      <td>Royal Challengers Bangalore</td>\n",
       "      <td>top</td>\n",
       "      <td>top</td>\n",
       "      <td>pacer</td>\n",
       "      <td>0.2</td>\n",
       "      <td>0</td>\n",
       "      <td>good</td>\n",
       "      <td>1</td>\n",
       "      <td>Dot</td>\n",
       "    </tr>\n",
       "    <tr>\n",
       "      <th>2</th>\n",
       "      <td>2008</td>\n",
       "      <td>round-robin</td>\n",
       "      <td>Bangalore</td>\n",
       "      <td>1</td>\n",
       "      <td>Kolkata Knight Riders</td>\n",
       "      <td>Royal Challengers Bangalore</td>\n",
       "      <td>top</td>\n",
       "      <td>top</td>\n",
       "      <td>pacer</td>\n",
       "      <td>0.3</td>\n",
       "      <td>0</td>\n",
       "      <td>Unknown</td>\n",
       "      <td>2</td>\n",
       "      <td>Extras</td>\n",
       "    </tr>\n",
       "    <tr>\n",
       "      <th>3</th>\n",
       "      <td>2008</td>\n",
       "      <td>round-robin</td>\n",
       "      <td>Bangalore</td>\n",
       "      <td>1</td>\n",
       "      <td>Kolkata Knight Riders</td>\n",
       "      <td>Royal Challengers Bangalore</td>\n",
       "      <td>top</td>\n",
       "      <td>top</td>\n",
       "      <td>pacer</td>\n",
       "      <td>0.3</td>\n",
       "      <td>0</td>\n",
       "      <td>Unknown</td>\n",
       "      <td>2</td>\n",
       "      <td>Dot</td>\n",
       "    </tr>\n",
       "    <tr>\n",
       "      <th>4</th>\n",
       "      <td>2008</td>\n",
       "      <td>round-robin</td>\n",
       "      <td>Bangalore</td>\n",
       "      <td>1</td>\n",
       "      <td>Kolkata Knight Riders</td>\n",
       "      <td>Royal Challengers Bangalore</td>\n",
       "      <td>top</td>\n",
       "      <td>top</td>\n",
       "      <td>pacer</td>\n",
       "      <td>0.4</td>\n",
       "      <td>0</td>\n",
       "      <td>good</td>\n",
       "      <td>2</td>\n",
       "      <td>Dot</td>\n",
       "    </tr>\n",
       "  </tbody>\n",
       "</table>\n",
       "</div>"
      ],
      "text/plain": [
       "   season   match_type      venue inning           batting_team  \\\n",
       "0    2008  round-robin  Bangalore      1  Kolkata Knight Riders   \n",
       "1    2008  round-robin  Bangalore      1  Kolkata Knight Riders   \n",
       "2    2008  round-robin  Bangalore      1  Kolkata Knight Riders   \n",
       "3    2008  round-robin  Bangalore      1  Kolkata Knight Riders   \n",
       "4    2008  round-robin  Bangalore      1  Kolkata Knight Riders   \n",
       "\n",
       "                  bowling_team batsman non_striker bowler_type  ball  wickets  \\\n",
       "0  Royal Challengers Bangalore     top         top       pacer   0.1        0   \n",
       "1  Royal Challengers Bangalore     top         top       pacer   0.2        0   \n",
       "2  Royal Challengers Bangalore     top         top       pacer   0.3        0   \n",
       "3  Royal Challengers Bangalore     top         top       pacer   0.3        0   \n",
       "4  Royal Challengers Bangalore     top         top       pacer   0.4        0   \n",
       "\n",
       "  ball_length  cumulative_runs   event  \n",
       "0        full                1  Extras  \n",
       "1        good                1     Dot  \n",
       "2     Unknown                2  Extras  \n",
       "3     Unknown                2     Dot  \n",
       "4        good                2     Dot  "
      ]
     },
     "execution_count": 104,
     "metadata": {},
     "output_type": "execute_result"
    }
   ],
   "source": [
    "df['match_type'] = df['match_type'].astype('category')\n",
    "df['venue'] = df['venue'].astype('category')\n",
    "df['inning'] = df['inning'].astype('category')\n",
    "df['batting_team'] = df['batting_team'].astype('category')\n",
    "df['bowling_team'] = df['bowling_team'].astype('category')\n",
    "df['batsman'] = df['batsman'].astype('category')\n",
    "df['non_striker'] = df['non_striker'].astype('category')\n",
    "df['bowler_type'] = df['bowler_type'].astype('category')\n",
    "df['ball_length'] = df['ball_length'].astype('category')\n",
    "df['ball'] = df['ball'].astype('float64')\n",
    "df['wickets'] = df['wickets'].astype('int64')\n",
    "df['cumulative_runs'] = df['cumulative_runs'].astype('int64')\n",
    "\n",
    "df['event'] = df['event'].astype('object')\n",
    "\n",
    "df.drop(labels='commentary', axis=1, inplace=True)\n",
    "df.drop(labels='wide_runs', axis=1, inplace=True)\n",
    "df.drop(labels='bye_runs', axis=1, inplace=True)\n",
    "df.drop(labels='legbye_runs', axis=1, inplace=True)\n",
    "df.drop(labels='noball_runs', axis=1, inplace=True)\n",
    "df.drop(labels='batsman_runs', axis=1, inplace=True)\n",
    "df.drop(labels='extra_runs', axis=1, inplace=True)\n",
    "df.drop(labels='dismissal_kind', axis=1, inplace=True)\n",
    "df.drop(labels='total_runs', axis=1, inplace=True)\n",
    "\n",
    "df.to_csv('data/clean/deliveries_clean.csv', index=False)\n",
    "\n",
    "df.head()"
   ]
  },
  {
   "cell_type": "code",
   "execution_count": 105,
   "metadata": {},
   "outputs": [
    {
     "data": {
      "text/plain": [
       "season                int64\n",
       "match_type         category\n",
       "venue              category\n",
       "inning             category\n",
       "batting_team       category\n",
       "bowling_team       category\n",
       "batsman            category\n",
       "non_striker        category\n",
       "bowler_type        category\n",
       "ball                float64\n",
       "wickets               int64\n",
       "ball_length        category\n",
       "cumulative_runs       int64\n",
       "event                object\n",
       "dtype: object"
      ]
     },
     "execution_count": 105,
     "metadata": {},
     "output_type": "execute_result"
    }
   ],
   "source": [
    "df.dtypes"
   ]
  },
  {
   "cell_type": "code",
   "execution_count": 106,
   "metadata": {},
   "outputs": [
    {
     "data": {
      "text/html": [
       "<div>\n",
       "<style scoped>\n",
       "    .dataframe tbody tr th:only-of-type {\n",
       "        vertical-align: middle;\n",
       "    }\n",
       "\n",
       "    .dataframe tbody tr th {\n",
       "        vertical-align: top;\n",
       "    }\n",
       "\n",
       "    .dataframe thead th {\n",
       "        text-align: right;\n",
       "    }\n",
       "</style>\n",
       "<table border=\"1\" class=\"dataframe\">\n",
       "  <thead>\n",
       "    <tr style=\"text-align: right;\">\n",
       "      <th></th>\n",
       "      <th>season</th>\n",
       "      <th>ball</th>\n",
       "      <th>wickets</th>\n",
       "      <th>cumulative_runs</th>\n",
       "    </tr>\n",
       "  </thead>\n",
       "  <tbody>\n",
       "    <tr>\n",
       "      <th>count</th>\n",
       "      <td>132001.000000</td>\n",
       "      <td>132001.00000</td>\n",
       "      <td>132001.000000</td>\n",
       "      <td>132001.000000</td>\n",
       "    </tr>\n",
       "    <tr>\n",
       "      <th>mean</th>\n",
       "      <td>2013.725282</td>\n",
       "      <td>9.54708</td>\n",
       "      <td>2.379959</td>\n",
       "      <td>76.555299</td>\n",
       "    </tr>\n",
       "    <tr>\n",
       "      <th>std</th>\n",
       "      <td>3.435976</td>\n",
       "      <td>5.67526</td>\n",
       "      <td>2.061046</td>\n",
       "      <td>50.147480</td>\n",
       "    </tr>\n",
       "    <tr>\n",
       "      <th>min</th>\n",
       "      <td>2008.000000</td>\n",
       "      <td>0.10000</td>\n",
       "      <td>0.000000</td>\n",
       "      <td>0.000000</td>\n",
       "    </tr>\n",
       "    <tr>\n",
       "      <th>25%</th>\n",
       "      <td>2011.000000</td>\n",
       "      <td>4.50000</td>\n",
       "      <td>1.000000</td>\n",
       "      <td>35.000000</td>\n",
       "    </tr>\n",
       "    <tr>\n",
       "      <th>50%</th>\n",
       "      <td>2013.000000</td>\n",
       "      <td>9.40000</td>\n",
       "      <td>2.000000</td>\n",
       "      <td>72.000000</td>\n",
       "    </tr>\n",
       "    <tr>\n",
       "      <th>75%</th>\n",
       "      <td>2017.000000</td>\n",
       "      <td>14.40000</td>\n",
       "      <td>4.000000</td>\n",
       "      <td>112.000000</td>\n",
       "    </tr>\n",
       "    <tr>\n",
       "      <th>max</th>\n",
       "      <td>2019.000000</td>\n",
       "      <td>19.60000</td>\n",
       "      <td>10.000000</td>\n",
       "      <td>355.000000</td>\n",
       "    </tr>\n",
       "  </tbody>\n",
       "</table>\n",
       "</div>"
      ],
      "text/plain": [
       "              season          ball        wickets  cumulative_runs\n",
       "count  132001.000000  132001.00000  132001.000000    132001.000000\n",
       "mean     2013.725282       9.54708       2.379959        76.555299\n",
       "std         3.435976       5.67526       2.061046        50.147480\n",
       "min      2008.000000       0.10000       0.000000         0.000000\n",
       "25%      2011.000000       4.50000       1.000000        35.000000\n",
       "50%      2013.000000       9.40000       2.000000        72.000000\n",
       "75%      2017.000000      14.40000       4.000000       112.000000\n",
       "max      2019.000000      19.60000      10.000000       355.000000"
      ]
     },
     "execution_count": 106,
     "metadata": {},
     "output_type": "execute_result"
    }
   ],
   "source": [
    "df.describe()"
   ]
  },
  {
   "cell_type": "markdown",
   "metadata": {},
   "source": [
    "## Train-Test Split"
   ]
  },
  {
   "cell_type": "markdown",
   "metadata": {},
   "source": [
    "Since the dataset resembles a time-series, the test set has all ball by ball data for the last season (2019) and the training set has all ball by ball data for the seasons prior to 2019. Although recent data is more relevant to the current state of the game, we believe that the training set should have more data to train the model on. Therefore, we have chosen to split the data in this manner."
   ]
  },
  {
   "cell_type": "code",
   "execution_count": 107,
   "metadata": {},
   "outputs": [
    {
     "name": "stderr",
     "output_type": "stream",
     "text": [
      "/var/folders/r6/q0qh39ts70582wth4g1dhjhm0000gn/T/ipykernel_17020/1023219970.py:13: SettingWithCopyWarning:\n",
      "\n",
      "\n",
      "A value is trying to be set on a copy of a slice from a DataFrame\n",
      "\n",
      "See the caveats in the documentation: https://pandas.pydata.org/pandas-docs/stable/user_guide/indexing.html#returning-a-view-versus-a-copy\n",
      "\n",
      "/var/folders/r6/q0qh39ts70582wth4g1dhjhm0000gn/T/ipykernel_17020/1023219970.py:14: SettingWithCopyWarning:\n",
      "\n",
      "\n",
      "A value is trying to be set on a copy of a slice from a DataFrame\n",
      "\n",
      "See the caveats in the documentation: https://pandas.pydata.org/pandas-docs/stable/user_guide/indexing.html#returning-a-view-versus-a-copy\n",
      "\n"
     ]
    }
   ],
   "source": [
    "# split the dataset into train and test sets by season\n",
    "\n",
    "train = df.loc[df.season <= 2018]\n",
    "\n",
    "train.to_csv('data/clean/train.csv', index=False)\n",
    "\n",
    "test = df.loc[df.season == 2019]\n",
    "\n",
    "test.to_csv('data/clean/test.csv', index=False)\n",
    "\n",
    "# drop `season` column from train and test sets\n",
    "\n",
    "train.drop(labels='season', axis=1, inplace=True)\n",
    "test.drop(labels='season', axis=1, inplace=True)"
   ]
  },
  {
   "cell_type": "markdown",
   "metadata": {},
   "source": [
    "## Encoding Categorical Features"
   ]
  },
  {
   "cell_type": "code",
   "execution_count": 108,
   "metadata": {},
   "outputs": [],
   "source": [
    "#from sklearn.preprocessing import minmax_scale\n",
    "#df[['ball','wickets']] = minmax_scale(df[['ball','wickets']])\n",
    "\n",
    "encoded_df_train = pd.get_dummies(data=train, columns=['match_type', 'venue', 'inning', 'batting_team', 'bowling_team', 'batsman', 'non_striker', 'bowler_type', 'ball_length'])\n",
    "\n",
    "encoded_df_test = pd.get_dummies(data=test, columns=['match_type', 'venue', 'inning', 'batting_team', 'bowling_team', 'batsman', 'non_striker', 'bowler_type', 'ball_length'])"
   ]
  },
  {
   "cell_type": "code",
   "execution_count": 109,
   "metadata": {
    "scrolled": true
   },
   "outputs": [
    {
     "data": {
      "text/plain": [
       "Index(['ball', 'wickets', 'cumulative_runs', 'event', 'match_type_playoffs',\n",
       "       'match_type_round-robin', 'venue_Ahmedabad', 'venue_Bangalore',\n",
       "       'venue_Chennai', 'venue_Cuttack', 'venue_Delhi', 'venue_Dharamsala',\n",
       "       'venue_Hyderabad', 'venue_Indore', 'venue_Kolkata', 'venue_Mohali',\n",
       "       'venue_Mumbai', 'venue_Nagpur', 'venue_Pune', 'venue_Raipur',\n",
       "       'venue_Rajasthan', 'venue_Ranchi', 'venue_Visakhapatnam', 'inning_1',\n",
       "       'inning_2', 'batting_team_Chennai Super Kings',\n",
       "       'batting_team_Delhi Capitals', 'batting_team_Kings XI Punjab',\n",
       "       'batting_team_Kolkata Knight Riders', 'batting_team_Mumbai Indians',\n",
       "       'batting_team_Rajasthan Royals',\n",
       "       'batting_team_Royal Challengers Bangalore',\n",
       "       'batting_team_Sunrisers Hyderabad', 'bowling_team_Chennai Super Kings',\n",
       "       'bowling_team_Delhi Capitals', 'bowling_team_Kings XI Punjab',\n",
       "       'bowling_team_Kolkata Knight Riders', 'bowling_team_Mumbai Indians',\n",
       "       'bowling_team_Rajasthan Royals',\n",
       "       'bowling_team_Royal Challengers Bangalore',\n",
       "       'bowling_team_Sunrisers Hyderabad', 'batsman_middle', 'batsman_tail',\n",
       "       'batsman_top', 'non_striker_middle', 'non_striker_tail',\n",
       "       'non_striker_top', 'bowler_type_pacer', 'bowler_type_spinner',\n",
       "       'ball_length_Unknown', 'ball_length_full', 'ball_length_full toss',\n",
       "       'ball_length_good', 'ball_length_short', 'ball_length_yorker'],\n",
       "      dtype='object')"
      ]
     },
     "execution_count": 109,
     "metadata": {},
     "output_type": "execute_result"
    }
   ],
   "source": [
    "encoded_df_train.columns"
   ]
  },
  {
   "cell_type": "code",
   "execution_count": 110,
   "metadata": {},
   "outputs": [
    {
     "name": "stdout",
     "output_type": "stream",
     "text": [
      "(117757, 55)\n",
      "(14244, 55)\n"
     ]
    }
   ],
   "source": [
    "print(encoded_df_train.shape)\n",
    "print(encoded_df_test.shape)\n",
    "\n",
    "# 88-12 train-test split"
   ]
  },
  {
   "cell_type": "markdown",
   "metadata": {},
   "source": [
    "## Rearranging Columns"
   ]
  },
  {
   "cell_type": "code",
   "execution_count": 111,
   "metadata": {},
   "outputs": [],
   "source": [
    "encoded_df_train = encoded_df_train[['ball', 'wickets', 'cumulative_runs', 'match_type_playoffs',\n",
    "       'match_type_round-robin', 'venue_Ahmedabad', 'venue_Bangalore',\n",
    "       'venue_Chennai', 'venue_Cuttack', 'venue_Delhi', 'venue_Dharamsala',\n",
    "       'venue_Hyderabad', 'venue_Indore', 'venue_Kolkata', 'venue_Mohali',\n",
    "       'venue_Mumbai', 'venue_Nagpur', 'venue_Pune', 'venue_Raipur',\n",
    "       'venue_Rajasthan', 'venue_Ranchi', 'venue_Visakhapatnam', 'inning_1',\n",
    "       'inning_2', 'batting_team_Chennai Super Kings',\n",
    "       'batting_team_Delhi Capitals', 'batting_team_Kings XI Punjab',\n",
    "       'batting_team_Kolkata Knight Riders', 'batting_team_Mumbai Indians',\n",
    "       'batting_team_Rajasthan Royals',\n",
    "       'batting_team_Royal Challengers Bangalore',\n",
    "       'batting_team_Sunrisers Hyderabad', 'bowling_team_Chennai Super Kings',\n",
    "       'bowling_team_Delhi Capitals', 'bowling_team_Kings XI Punjab',\n",
    "       'bowling_team_Kolkata Knight Riders', 'bowling_team_Mumbai Indians',\n",
    "       'bowling_team_Rajasthan Royals',\n",
    "       'bowling_team_Royal Challengers Bangalore',\n",
    "       'bowling_team_Sunrisers Hyderabad', 'batsman_top', 'batsman_middle', 'batsman_tail',\n",
    "       'non_striker_middle', 'non_striker_tail',\n",
    "       'non_striker_top', 'bowler_type_pacer', 'bowler_type_spinner',\n",
    "       'ball_length_Unknown', 'ball_length_full', 'ball_length_full toss',\n",
    "       'ball_length_good', 'ball_length_short', 'ball_length_yorker', 'event']]\n",
    "\n",
    "encoded_df_test = encoded_df_test[['ball', 'wickets', 'cumulative_runs', 'match_type_playoffs',\n",
    "       'match_type_round-robin', 'venue_Ahmedabad', 'venue_Bangalore',\n",
    "       'venue_Chennai', 'venue_Cuttack', 'venue_Delhi', 'venue_Dharamsala',\n",
    "       'venue_Hyderabad', 'venue_Indore', 'venue_Kolkata', 'venue_Mohali',\n",
    "       'venue_Mumbai', 'venue_Nagpur', 'venue_Pune', 'venue_Raipur',\n",
    "       'venue_Rajasthan', 'venue_Ranchi', 'venue_Visakhapatnam', 'inning_1',\n",
    "       'inning_2', 'batting_team_Chennai Super Kings',\n",
    "       'batting_team_Delhi Capitals', 'batting_team_Kings XI Punjab',\n",
    "       'batting_team_Kolkata Knight Riders', 'batting_team_Mumbai Indians',\n",
    "       'batting_team_Rajasthan Royals',\n",
    "       'batting_team_Royal Challengers Bangalore',\n",
    "       'batting_team_Sunrisers Hyderabad', 'bowling_team_Chennai Super Kings',\n",
    "       'bowling_team_Delhi Capitals', 'bowling_team_Kings XI Punjab',\n",
    "       'bowling_team_Kolkata Knight Riders', 'bowling_team_Mumbai Indians',\n",
    "       'bowling_team_Rajasthan Royals',\n",
    "       'bowling_team_Royal Challengers Bangalore',\n",
    "       'bowling_team_Sunrisers Hyderabad', 'batsman_top', 'batsman_middle', 'batsman_tail',\n",
    "       'non_striker_middle', 'non_striker_tail',\n",
    "       'non_striker_top', 'bowler_type_pacer', 'bowler_type_spinner',\n",
    "       'ball_length_Unknown', 'ball_length_full', 'ball_length_full toss',\n",
    "       'ball_length_good', 'ball_length_short', 'ball_length_yorker', 'event']]"
   ]
  },
  {
   "cell_type": "code",
   "execution_count": 112,
   "metadata": {
    "scrolled": true
   },
   "outputs": [
    {
     "data": {
      "text/plain": [
       "array(['Extras', 'Dot', 'Runs', 'WICKET!'], dtype=object)"
      ]
     },
     "execution_count": 112,
     "metadata": {},
     "output_type": "execute_result"
    }
   ],
   "source": [
    "encoded_df_train['event'].unique()"
   ]
  },
  {
   "cell_type": "markdown",
   "metadata": {},
   "source": [
    "## Extracting Features and Response Variable for Training and Testing"
   ]
  },
  {
   "cell_type": "code",
   "execution_count": 113,
   "metadata": {},
   "outputs": [
    {
     "name": "stdout",
     "output_type": "stream",
     "text": [
      "X_train shape: (117757, 54)\n",
      "y_train shape: (117757,)\n",
      "X_test shape: (14244, 54)\n",
      "y_test shape: (14244,)\n"
     ]
    }
   ],
   "source": [
    "X_train = encoded_df_train.iloc[:,:-1].values\n",
    "print(\"X_train shape:\", X_train.shape)\n",
    "\n",
    "y_train = encoded_df_train.iloc[:,-1].values\n",
    "print(\"y_train shape:\",y_train.shape)\n",
    "\n",
    "X_test = encoded_df_test.iloc[:,:-1].values\n",
    "print(\"X_test shape:\",X_test.shape)\n",
    "\n",
    "y_test = encoded_df_test.iloc[:,-1].values\n",
    "print(\"y_test shape:\",y_test.shape)\n"
   ]
  },
  {
   "cell_type": "markdown",
   "metadata": {},
   "source": [
    "## Encoding `y_train` and `y_test` "
   ]
  },
  {
   "cell_type": "code",
   "execution_count": 117,
   "metadata": {},
   "outputs": [
    {
     "name": "stdout",
     "output_type": "stream",
     "text": [
      "X_train shape: (117757, 54)\n",
      "y_train shape: (117757,)\n",
      "X_test shape: (14244, 54)\n",
      "y_test shape: (14244,)\n"
     ]
    }
   ],
   "source": [
    "encoder = LabelEncoder()\n",
    "\n",
    "y_train = encoder.fit_transform(y_train)\n",
    "\n",
    "y_test = encoder.fit_transform(y_test)\n",
    "\n",
    "y_train = y_train.reshape(len(y_train),)\n",
    "\n",
    "y_test = y_test.reshape(len(y_test),)"
   ]
  },
  {
   "cell_type": "markdown",
   "metadata": {},
   "source": [
    "# Perform `RepeatedKFold` Classification Routine"
   ]
  },
  {
   "cell_type": "code",
   "execution_count": 161,
   "metadata": {},
   "outputs": [
    {
     "data": {
      "text/plain": [
       "count    132001.000000\n",
       "mean         76.555299\n",
       "std          50.147480\n",
       "min           0.000000\n",
       "25%          35.000000\n",
       "50%          72.000000\n",
       "75%         112.000000\n",
       "max         355.000000\n",
       "Name: cumulative_runs, dtype: float64"
      ]
     },
     "execution_count": 161,
     "metadata": {},
     "output_type": "execute_result"
    }
   ],
   "source": [
    "df.cumulative_runs.describe()"
   ]
  },
  {
   "cell_type": "code",
   "execution_count": 168,
   "metadata": {},
   "outputs": [
    {
     "name": "stderr",
     "output_type": "stream",
     "text": [
      "  0%|          | 0/9 [00:00<?, ?it/s]"
     ]
    },
    {
     "name": "stdout",
     "output_type": "stream",
     "text": [
      ">LR Accuracy: 0.608 Weighted F1: 0.529\n"
     ]
    },
    {
     "name": "stderr",
     "output_type": "stream",
     "text": [
      " 11%|█         | 1/9 [02:22<18:56, 142.11s/it]"
     ]
    },
    {
     "name": "stdout",
     "output_type": "stream",
     "text": [
      ">Tree Accuracy: 0.490 Weighted F1: 0.494\n"
     ]
    },
    {
     "name": "stderr",
     "output_type": "stream",
     "text": [
      " 22%|██▏       | 2/9 [02:28<07:16, 62.41s/it] "
     ]
    },
    {
     "name": "stdout",
     "output_type": "stream",
     "text": [
      ">GNB Accuracy: 0.483 Weighted F1: 0.493\n"
     ]
    },
    {
     "name": "stderr",
     "output_type": "stream",
     "text": [
      " 33%|███▎      | 3/9 [02:33<03:35, 35.93s/it]"
     ]
    },
    {
     "name": "stdout",
     "output_type": "stream",
     "text": [
      ">RF Accuracy: 0.552 Weighted F1: 0.528\n"
     ]
    },
    {
     "name": "stderr",
     "output_type": "stream",
     "text": [
      " 44%|████▍     | 4/9 [03:26<03:34, 42.93s/it]"
     ]
    },
    {
     "name": "stdout",
     "output_type": "stream",
     "text": [
      ">AdaBoost Accuracy: 0.615 Weighted F1: 0.544\n"
     ]
    },
    {
     "name": "stderr",
     "output_type": "stream",
     "text": [
      " 56%|█████▌    | 5/9 [04:33<03:25, 51.39s/it]"
     ]
    },
    {
     "name": "stdout",
     "output_type": "stream",
     "text": [
      ">Bagging Accuracy: 0.549 Weighted F1: 0.532\n"
     ]
    },
    {
     "name": "stderr",
     "output_type": "stream",
     "text": [
      " 67%|██████▋   | 6/9 [05:01<02:10, 43.47s/it]"
     ]
    },
    {
     "name": "stdout",
     "output_type": "stream",
     "text": [
      ">GBM Accuracy: 0.622 Weighted F1: 0.544\n"
     ]
    },
    {
     "name": "stderr",
     "output_type": "stream",
     "text": [
      " 78%|███████▊  | 7/9 [10:07<04:18, 129.49s/it]"
     ]
    },
    {
     "name": "stdout",
     "output_type": "stream",
     "text": [
      ">XGB Accuracy: 0.622 Weighted F1: 0.553\n"
     ]
    },
    {
     "name": "stderr",
     "output_type": "stream",
     "text": [
      " 89%|████████▉ | 8/9 [10:22<01:32, 92.98s/it] "
     ]
    },
    {
     "name": "stdout",
     "output_type": "stream",
     "text": [
      ">CatBoost Accuracy: 0.624 Weighted F1: 0.556\n"
     ]
    },
    {
     "name": "stderr",
     "output_type": "stream",
     "text": [
      "100%|██████████| 9/9 [12:56<00:00, 86.22s/it] "
     ]
    },
    {
     "name": "stdout",
     "output_type": "stream",
     "text": [
      "CPU times: total: 2min 20s\n",
      "Wall time: 12min 56s\n"
     ]
    },
    {
     "name": "stderr",
     "output_type": "stream",
     "text": [
      "\n"
     ]
    }
   ],
   "source": [
    "%%time\n",
    "\n",
    "from sklearn.exceptions import ConvergenceWarning\n",
    "from sklearn.exceptions import DataConversionWarning\n",
    "from tqdm import tqdm  # Import tqdm\n",
    "# Assuming other necessary imports like LogisticRegression, DecisionTreeClassifier, etc., are already made\n",
    "\n",
    "ConvergenceWarning('ignore')\n",
    "warnings.filterwarnings(action='ignore', category=DataConversionWarning)\n",
    "\n",
    "def base_models():\n",
    "    models = dict()\n",
    "    models[\"LR\"] = LogisticRegression(verbose=0, max_iter=3000)\n",
    "    models[\"Tree\"] = DecisionTreeClassifier()\n",
    "    models[\"GNB\"] = GaussianNB()\n",
    "    models[\"RF\"] = RandomForestClassifier(verbose=0)\n",
    "    models[\"AdaBoost\"] = AdaBoostClassifier()\n",
    "    models[\"Bagging\"] = BaggingClassifier(verbose=0)\n",
    "    models[\"GBM\"] = GradientBoostingClassifier(verbose=0)\n",
    "    models[\"XGB\"] = XGBClassifier(verbosity=0)\n",
    "    models[\"CatBoost\"] = CatBoostClassifier(verbose=0)\n",
    "    return models\n",
    "\n",
    "# Function to evaluate the list of models\n",
    "def eval_models(model):\n",
    "    cv = RepeatedKFold(n_splits=5, n_repeats=2, random_state=1)\n",
    "    accuracy = cross_val_score(model, X_train, y_train, scoring='accuracy', cv=cv, n_jobs=-1, error_score='raise')\n",
    "    weighted_f1 = cross_val_score(model, X_train, y_train, scoring='f1_weighted', cv=cv, n_jobs=-1, error_score='raise')\n",
    "    return accuracy, weighted_f1\n",
    "\n",
    "models = base_models()\n",
    "\n",
    "# evaluate the models and store results\n",
    "results = {}\n",
    "names = list()\n",
    "accuracies = []\n",
    "weighted_f1s = []\n",
    "\n",
    "final_models = {}  # Create a dictionary to store the fitted models\n",
    "\n",
    "for name, model in tqdm(models.items()):  # Wrap models.items() with tqdm to get a progress bar\n",
    "    accuracy, weighted_f1 = eval_models(model)\n",
    "    accuracies.extend(accuracy)\n",
    "    weighted_f1s.extend(weighted_f1)\n",
    "    names.extend([name] * len(accuracy))\n",
    "    print('>%s Accuracy: %.3f Weighted F1: %.3f' % (name, accuracy.mean(), weighted_f1.mean()))\n",
    "\n",
    "    # Fit the model with the training data\n",
    "    fitted_model = model.fit(X_train, y_train)\n",
    "\n",
    "    # Save the fitted model as a pickle file\n",
    "    pkl_filename = f\"products/pickle_files/{name}.pkl\"\n",
    "    with open(pkl_filename, 'wb') as file:\n",
    "        pickle.dump(fitted_model, file)\n",
    "\n",
    "    # Store the fitted model in the final_models dictionary\n",
    "    final_models[name] = fitted_model\n"
   ]
  },
  {
   "cell_type": "code",
   "execution_count": 169,
   "metadata": {},
   "outputs": [
    {
     "name": "stderr",
     "output_type": "stream",
     "text": [
      "c:\\Program Files\\Python310\\lib\\site-packages\\sklearn\\metrics\\_classification.py:1469: UndefinedMetricWarning:\n",
      "\n",
      "Precision and F-score are ill-defined and being set to 0.0 in labels with no predicted samples. Use `zero_division` parameter to control this behavior.\n",
      "\n",
      "c:\\Program Files\\Python310\\lib\\site-packages\\sklearn\\metrics\\_classification.py:1469: UndefinedMetricWarning:\n",
      "\n",
      "Precision and F-score are ill-defined and being set to 0.0 in labels with no predicted samples. Use `zero_division` parameter to control this behavior.\n",
      "\n",
      "c:\\Program Files\\Python310\\lib\\site-packages\\sklearn\\metrics\\_classification.py:1469: UndefinedMetricWarning:\n",
      "\n",
      "Precision and F-score are ill-defined and being set to 0.0 in labels with no predicted samples. Use `zero_division` parameter to control this behavior.\n",
      "\n",
      "c:\\Program Files\\Python310\\lib\\site-packages\\sklearn\\metrics\\_classification.py:1469: UndefinedMetricWarning:\n",
      "\n",
      "Precision and F-score are ill-defined and being set to 0.0 in labels with no predicted samples. Use `zero_division` parameter to control this behavior.\n",
      "\n",
      "c:\\Program Files\\Python310\\lib\\site-packages\\sklearn\\metrics\\_classification.py:1469: UndefinedMetricWarning:\n",
      "\n",
      "Precision and F-score are ill-defined and being set to 0.0 in labels with no predicted samples. Use `zero_division` parameter to control this behavior.\n",
      "\n",
      "c:\\Program Files\\Python310\\lib\\site-packages\\sklearn\\metrics\\_classification.py:1469: UndefinedMetricWarning:\n",
      "\n",
      "Precision and F-score are ill-defined and being set to 0.0 in labels with no predicted samples. Use `zero_division` parameter to control this behavior.\n",
      "\n",
      "c:\\Program Files\\Python310\\lib\\site-packages\\sklearn\\metrics\\_classification.py:1469: UndefinedMetricWarning:\n",
      "\n",
      "Precision and F-score are ill-defined and being set to 0.0 in labels with no predicted samples. Use `zero_division` parameter to control this behavior.\n",
      "\n",
      "c:\\Program Files\\Python310\\lib\\site-packages\\sklearn\\metrics\\_classification.py:1469: UndefinedMetricWarning:\n",
      "\n",
      "Precision and F-score are ill-defined and being set to 0.0 in labels with no predicted samples. Use `zero_division` parameter to control this behavior.\n",
      "\n",
      "c:\\Program Files\\Python310\\lib\\site-packages\\sklearn\\metrics\\_classification.py:1469: UndefinedMetricWarning:\n",
      "\n",
      "Precision and F-score are ill-defined and being set to 0.0 in labels with no predicted samples. Use `zero_division` parameter to control this behavior.\n",
      "\n"
     ]
    }
   ],
   "source": [
    "# delete catboost_info folder\n",
    "\n",
    "shutil.rmtree('catboost_info')\n",
    "\n",
    "# Save accuracy and weighted_f1 scores for each model in a dataframe\n",
    "\n",
    "results['Model'] = names\n",
    "results['Accuracy'] = accuracies\n",
    "results['Weighted_F1'] = weighted_f1s\n",
    "\n",
    "classifmod = pd.DataFrame(results)\n",
    "\n",
    "# Generate confusion matrices and reports for each final model\n",
    "confusion_matrices = {}\n",
    "classification_reports = {}\n",
    "for name, model in final_models.items():\n",
    "    y_pred = model.predict(X_test)\n",
    "    confusion_matrices[name] = confusion_matrix(y_test, y_pred)\n",
    "    classification_reports[name] = classification_report(y_test, y_pred, zero_division=0)"
   ]
  },
  {
   "cell_type": "code",
   "execution_count": 170,
   "metadata": {},
   "outputs": [],
   "source": [
    "for name, model in models.items():\n",
    "    pkl_filename = f\"products/pickle_files/{name}.pkl\"\n",
    "    # open pickle file\n",
    "    with open(pkl_filename, 'rb') as infile:\n",
    "        obj = pickle.load(infile)\n",
    "\n",
    "    # convert pickle object to json object\n",
    "    json_obj = json.loads(json.dumps(obj, default=str))\n",
    "    json_filename = f\"products/json_files/{name}.json\"\n",
    "    # write the json file\n",
    "    with open(\n",
    "            json_filename,\n",
    "            'w',\n",
    "            encoding='utf-8'\n",
    "        ) as outfile:\n",
    "        json.dump(json_obj, outfile, ensure_ascii=False, indent=4)\n",
    "\n",
    "# delete all pickle files for smooth git push\n",
    "\n",
    "for name, model in models.items():\n",
    "    pkl_filename = f\"products/pickle_files/{name}.pkl\"\n",
    "    os.remove(pkl_filename)"
   ]
  },
  {
   "cell_type": "markdown",
   "metadata": {},
   "source": [
    "## Training Performance Boxplots"
   ]
  },
  {
   "cell_type": "code",
   "execution_count": 171,
   "metadata": {},
   "outputs": [
    {
     "data": {
      "text/html": [
       "        <script type=\"text/javascript\">\n",
       "        window.PlotlyConfig = {MathJaxConfig: 'local'};\n",
       "        if (window.MathJax && window.MathJax.Hub && window.MathJax.Hub.Config) {window.MathJax.Hub.Config({SVG: {font: \"STIX-Web\"}});}\n",
       "        if (typeof require !== 'undefined') {\n",
       "        require.undef(\"plotly\");\n",
       "        requirejs.config({\n",
       "            paths: {\n",
       "                'plotly': ['https://cdn.plot.ly/plotly-2.26.0.min']\n",
       "            }\n",
       "        });\n",
       "        require(['plotly'], function(Plotly) {\n",
       "            window._Plotly = Plotly;\n",
       "        });\n",
       "        }\n",
       "        </script>\n",
       "        "
      ]
     },
     "metadata": {},
     "output_type": "display_data"
    },
    {
     "data": {
      "application/vnd.plotly.v1+json": {
       "config": {
        "plotlyServerURL": "https://plot.ly"
       },
       "data": [
        {
         "alignmentgroup": "True",
         "boxpoints": "all",
         "hovertemplate": "Machine Learning Model=%{x}<br>Accuracy=%{y}<extra></extra>",
         "legendgroup": "LR",
         "marker": {
          "color": "#636efa"
         },
         "name": "LR",
         "notched": false,
         "offsetgroup": "LR",
         "orientation": "v",
         "showlegend": true,
         "type": "box",
         "x": [
          "LR",
          "LR",
          "LR",
          "LR",
          "LR",
          "LR",
          "LR",
          "LR",
          "LR",
          "LR"
         ],
         "x0": " ",
         "xaxis": "x",
         "y": [
          0.6075492527173914,
          0.609969429347826,
          0.6069805953038088,
          0.6092734915714831,
          0.6076175109337183,
          0.6137907608695652,
          0.6111158288043478,
          0.6046452379941404,
          0.6111417774192178,
          0.6009935883826589
         ],
         "y0": " ",
         "yaxis": "y"
        },
        {
         "alignmentgroup": "True",
         "boxpoints": "all",
         "hovertemplate": "Machine Learning Model=%{x}<br>Accuracy=%{y}<extra></extra>",
         "legendgroup": "Tree",
         "marker": {
          "color": "#EF553B"
         },
         "name": "Tree",
         "notched": false,
         "offsetgroup": "Tree",
         "orientation": "v",
         "showlegend": true,
         "type": "box",
         "x": [
          "Tree",
          "Tree",
          "Tree",
          "Tree",
          "Tree",
          "Tree",
          "Tree",
          "Tree",
          "Tree",
          "Tree"
         ],
         "x0": " ",
         "xaxis": "x",
         "y": [
          0.487601902173913,
          0.4862007472826087,
          0.49573266527960597,
          0.49186871045815467,
          0.4921659377521124,
          0.4898097826086957,
          0.4893851902173913,
          0.49212347671011847,
          0.48995796356842597,
          0.48940597002250436
         ],
         "y0": " ",
         "yaxis": "y"
        },
        {
         "alignmentgroup": "True",
         "boxpoints": "all",
         "hovertemplate": "Machine Learning Model=%{x}<br>Accuracy=%{y}<extra></extra>",
         "legendgroup": "GNB",
         "marker": {
          "color": "#00cc96"
         },
         "name": "GNB",
         "notched": false,
         "offsetgroup": "GNB",
         "orientation": "v",
         "showlegend": true,
         "type": "box",
         "x": [
          "GNB",
          "GNB",
          "GNB",
          "GNB",
          "GNB",
          "GNB",
          "GNB",
          "GNB",
          "GNB",
          "GNB"
         ],
         "x0": " ",
         "xaxis": "x",
         "y": [
          0.48063858695652173,
          0.4782608695652174,
          0.4919111715001486,
          0.47747441722219863,
          0.4830368137234088,
          0.48191236413043476,
          0.48276154891304346,
          0.49114687274425717,
          0.4781537938941022,
          0.4809562226657042
         ],
         "y0": " ",
         "yaxis": "y"
        },
        {
         "alignmentgroup": "True",
         "boxpoints": "all",
         "hovertemplate": "Machine Learning Model=%{x}<br>Accuracy=%{y}<extra></extra>",
         "legendgroup": "RF",
         "marker": {
          "color": "#ab63fa"
         },
         "name": "RF",
         "notched": false,
         "offsetgroup": "RF",
         "orientation": "v",
         "showlegend": true,
         "type": "box",
         "x": [
          "RF",
          "RF",
          "RF",
          "RF",
          "RF",
          "RF",
          "RF",
          "RF",
          "RF",
          "RF"
         ],
         "x0": " ",
         "xaxis": "x",
         "y": [
          0.5503141983695652,
          0.5491677989130435,
          0.5581503970107426,
          0.5511443250817375,
          0.5585750074306823,
          0.5508661684782609,
          0.548233695652174,
          0.5491486561080209,
          0.5524606173835506,
          0.5535221434333999
         ],
         "y0": " ",
         "yaxis": "y"
        },
        {
         "alignmentgroup": "True",
         "boxpoints": "all",
         "hovertemplate": "Machine Learning Model=%{x}<br>Accuracy=%{y}<extra></extra>",
         "legendgroup": "AdaBoost",
         "marker": {
          "color": "#FFA15A"
         },
         "name": "AdaBoost",
         "notched": false,
         "offsetgroup": "AdaBoost",
         "orientation": "v",
         "showlegend": true,
         "type": "box",
         "x": [
          "AdaBoost",
          "AdaBoost",
          "AdaBoost",
          "AdaBoost",
          "AdaBoost",
          "AdaBoost",
          "AdaBoost",
          "AdaBoost",
          "AdaBoost",
          "AdaBoost"
         ],
         "x0": " ",
         "xaxis": "x",
         "y": [
          0.6149796195652174,
          0.6162109375,
          0.6131374463929344,
          0.6159398751645365,
          0.6132648295189164,
          0.6196076766304348,
          0.6169752038043478,
          0.6137319009808501,
          0.6195066026920301,
          0.6079996603116641
         ],
         "y0": " ",
         "yaxis": "y"
        },
        {
         "alignmentgroup": "True",
         "boxpoints": "all",
         "hovertemplate": "Machine Learning Model=%{x}<br>Accuracy=%{y}<extra></extra>",
         "legendgroup": "Bagging",
         "marker": {
          "color": "#19d3f3"
         },
         "name": "Bagging",
         "notched": false,
         "offsetgroup": "Bagging",
         "orientation": "v",
         "showlegend": true,
         "type": "box",
         "x": [
          "Bagging",
          "Bagging",
          "Bagging",
          "Bagging",
          "Bagging",
          "Bagging",
          "Bagging",
          "Bagging",
          "Bagging",
          "Bagging"
         ],
         "x0": " ",
         "xaxis": "x",
         "y": [
          0.5479364809782609,
          0.5471297554347826,
          0.5505923315358159,
          0.5478323638062078,
          0.5545412084412551,
          0.5498046875,
          0.5519276494565217,
          0.5500827990318883,
          0.5467283767143646,
          0.5457942337904972
         ],
         "y0": " ",
         "yaxis": "y"
        },
        {
         "alignmentgroup": "True",
         "boxpoints": "all",
         "hovertemplate": "Machine Learning Model=%{x}<br>Accuracy=%{y}<extra></extra>",
         "legendgroup": "GBM",
         "marker": {
          "color": "#FF6692"
         },
         "name": "GBM",
         "notched": false,
         "offsetgroup": "GBM",
         "orientation": "v",
         "showlegend": true,
         "type": "box",
         "x": [
          "GBM",
          "GBM",
          "GBM",
          "GBM",
          "GBM",
          "GBM",
          "GBM",
          "GBM",
          "GBM",
          "GBM"
         ],
         "x0": " ",
         "xaxis": "x",
         "y": [
          0.6227496603260869,
          0.625,
          0.6229884081355357,
          0.6215871937497346,
          0.6209502781198251,
          0.6255519701086957,
          0.6257218070652174,
          0.6202709014479215,
          0.6220118041696743,
          0.6179355441382531
         ],
         "y0": " ",
         "yaxis": "y"
        },
        {
         "alignmentgroup": "True",
         "boxpoints": "all",
         "hovertemplate": "Machine Learning Model=%{x}<br>Accuracy=%{y}<extra></extra>",
         "legendgroup": "XGB",
         "marker": {
          "color": "#B6E880"
         },
         "name": "XGB",
         "notched": false,
         "offsetgroup": "XGB",
         "orientation": "v",
         "showlegend": true,
         "type": "box",
         "x": [
          "XGB",
          "XGB",
          "XGB",
          "XGB",
          "XGB",
          "XGB",
          "XGB",
          "XGB",
          "XGB",
          "XGB"
         ],
         "x0": " ",
         "xaxis": "x",
         "y": [
          0.6230893342391305,
          0.6224099864130435,
          0.6204407456158975,
          0.6231582523035115,
          0.6203133624899155,
          0.6266559103260869,
          0.625,
          0.6166192518364401,
          0.622478875631608,
          0.6170863232983738
         ],
         "y0": " ",
         "yaxis": "y"
        },
        {
         "alignmentgroup": "True",
         "boxpoints": "all",
         "hovertemplate": "Machine Learning Model=%{x}<br>Accuracy=%{y}<extra></extra>",
         "legendgroup": "CatBoost",
         "marker": {
          "color": "#FF97FF"
         },
         "name": "CatBoost",
         "notched": false,
         "offsetgroup": "CatBoost",
         "orientation": "v",
         "showlegend": true,
         "type": "box",
         "x": [
          "CatBoost",
          "CatBoost",
          "CatBoost",
          "CatBoost",
          "CatBoost",
          "CatBoost",
          "CatBoost",
          "CatBoost",
          "CatBoost",
          "CatBoost"
         ],
         "x0": " ",
         "xaxis": "x",
         "y": [
          0.6238536005434783,
          0.6233440896739131,
          0.6232856354294934,
          0.6247293108572884,
          0.6231582523035115,
          0.6278023097826086,
          0.6280146059782609,
          0.6184026156001868,
          0.6240923952273789,
          0.6184450766421808
         ],
         "y0": " ",
         "yaxis": "y"
        }
       ],
       "layout": {
        "boxmode": "overlay",
        "legend": {
         "title": {
          "text": "Machine Learning Model"
         },
         "tracegroupgap": 0
        },
        "template": {
         "data": {
          "bar": [
           {
            "error_x": {
             "color": "#2a3f5f"
            },
            "error_y": {
             "color": "#2a3f5f"
            },
            "marker": {
             "line": {
              "color": "#E5ECF6",
              "width": 0.5
             },
             "pattern": {
              "fillmode": "overlay",
              "size": 10,
              "solidity": 0.2
             }
            },
            "type": "bar"
           }
          ],
          "barpolar": [
           {
            "marker": {
             "line": {
              "color": "#E5ECF6",
              "width": 0.5
             },
             "pattern": {
              "fillmode": "overlay",
              "size": 10,
              "solidity": 0.2
             }
            },
            "type": "barpolar"
           }
          ],
          "carpet": [
           {
            "aaxis": {
             "endlinecolor": "#2a3f5f",
             "gridcolor": "white",
             "linecolor": "white",
             "minorgridcolor": "white",
             "startlinecolor": "#2a3f5f"
            },
            "baxis": {
             "endlinecolor": "#2a3f5f",
             "gridcolor": "white",
             "linecolor": "white",
             "minorgridcolor": "white",
             "startlinecolor": "#2a3f5f"
            },
            "type": "carpet"
           }
          ],
          "choropleth": [
           {
            "colorbar": {
             "outlinewidth": 0,
             "ticks": ""
            },
            "type": "choropleth"
           }
          ],
          "contour": [
           {
            "colorbar": {
             "outlinewidth": 0,
             "ticks": ""
            },
            "colorscale": [
             [
              0,
              "#0d0887"
             ],
             [
              0.1111111111111111,
              "#46039f"
             ],
             [
              0.2222222222222222,
              "#7201a8"
             ],
             [
              0.3333333333333333,
              "#9c179e"
             ],
             [
              0.4444444444444444,
              "#bd3786"
             ],
             [
              0.5555555555555556,
              "#d8576b"
             ],
             [
              0.6666666666666666,
              "#ed7953"
             ],
             [
              0.7777777777777778,
              "#fb9f3a"
             ],
             [
              0.8888888888888888,
              "#fdca26"
             ],
             [
              1,
              "#f0f921"
             ]
            ],
            "type": "contour"
           }
          ],
          "contourcarpet": [
           {
            "colorbar": {
             "outlinewidth": 0,
             "ticks": ""
            },
            "type": "contourcarpet"
           }
          ],
          "heatmap": [
           {
            "colorbar": {
             "outlinewidth": 0,
             "ticks": ""
            },
            "colorscale": [
             [
              0,
              "#0d0887"
             ],
             [
              0.1111111111111111,
              "#46039f"
             ],
             [
              0.2222222222222222,
              "#7201a8"
             ],
             [
              0.3333333333333333,
              "#9c179e"
             ],
             [
              0.4444444444444444,
              "#bd3786"
             ],
             [
              0.5555555555555556,
              "#d8576b"
             ],
             [
              0.6666666666666666,
              "#ed7953"
             ],
             [
              0.7777777777777778,
              "#fb9f3a"
             ],
             [
              0.8888888888888888,
              "#fdca26"
             ],
             [
              1,
              "#f0f921"
             ]
            ],
            "type": "heatmap"
           }
          ],
          "heatmapgl": [
           {
            "colorbar": {
             "outlinewidth": 0,
             "ticks": ""
            },
            "colorscale": [
             [
              0,
              "#0d0887"
             ],
             [
              0.1111111111111111,
              "#46039f"
             ],
             [
              0.2222222222222222,
              "#7201a8"
             ],
             [
              0.3333333333333333,
              "#9c179e"
             ],
             [
              0.4444444444444444,
              "#bd3786"
             ],
             [
              0.5555555555555556,
              "#d8576b"
             ],
             [
              0.6666666666666666,
              "#ed7953"
             ],
             [
              0.7777777777777778,
              "#fb9f3a"
             ],
             [
              0.8888888888888888,
              "#fdca26"
             ],
             [
              1,
              "#f0f921"
             ]
            ],
            "type": "heatmapgl"
           }
          ],
          "histogram": [
           {
            "marker": {
             "pattern": {
              "fillmode": "overlay",
              "size": 10,
              "solidity": 0.2
             }
            },
            "type": "histogram"
           }
          ],
          "histogram2d": [
           {
            "colorbar": {
             "outlinewidth": 0,
             "ticks": ""
            },
            "colorscale": [
             [
              0,
              "#0d0887"
             ],
             [
              0.1111111111111111,
              "#46039f"
             ],
             [
              0.2222222222222222,
              "#7201a8"
             ],
             [
              0.3333333333333333,
              "#9c179e"
             ],
             [
              0.4444444444444444,
              "#bd3786"
             ],
             [
              0.5555555555555556,
              "#d8576b"
             ],
             [
              0.6666666666666666,
              "#ed7953"
             ],
             [
              0.7777777777777778,
              "#fb9f3a"
             ],
             [
              0.8888888888888888,
              "#fdca26"
             ],
             [
              1,
              "#f0f921"
             ]
            ],
            "type": "histogram2d"
           }
          ],
          "histogram2dcontour": [
           {
            "colorbar": {
             "outlinewidth": 0,
             "ticks": ""
            },
            "colorscale": [
             [
              0,
              "#0d0887"
             ],
             [
              0.1111111111111111,
              "#46039f"
             ],
             [
              0.2222222222222222,
              "#7201a8"
             ],
             [
              0.3333333333333333,
              "#9c179e"
             ],
             [
              0.4444444444444444,
              "#bd3786"
             ],
             [
              0.5555555555555556,
              "#d8576b"
             ],
             [
              0.6666666666666666,
              "#ed7953"
             ],
             [
              0.7777777777777778,
              "#fb9f3a"
             ],
             [
              0.8888888888888888,
              "#fdca26"
             ],
             [
              1,
              "#f0f921"
             ]
            ],
            "type": "histogram2dcontour"
           }
          ],
          "mesh3d": [
           {
            "colorbar": {
             "outlinewidth": 0,
             "ticks": ""
            },
            "type": "mesh3d"
           }
          ],
          "parcoords": [
           {
            "line": {
             "colorbar": {
              "outlinewidth": 0,
              "ticks": ""
             }
            },
            "type": "parcoords"
           }
          ],
          "pie": [
           {
            "automargin": true,
            "type": "pie"
           }
          ],
          "scatter": [
           {
            "fillpattern": {
             "fillmode": "overlay",
             "size": 10,
             "solidity": 0.2
            },
            "type": "scatter"
           }
          ],
          "scatter3d": [
           {
            "line": {
             "colorbar": {
              "outlinewidth": 0,
              "ticks": ""
             }
            },
            "marker": {
             "colorbar": {
              "outlinewidth": 0,
              "ticks": ""
             }
            },
            "type": "scatter3d"
           }
          ],
          "scattercarpet": [
           {
            "marker": {
             "colorbar": {
              "outlinewidth": 0,
              "ticks": ""
             }
            },
            "type": "scattercarpet"
           }
          ],
          "scattergeo": [
           {
            "marker": {
             "colorbar": {
              "outlinewidth": 0,
              "ticks": ""
             }
            },
            "type": "scattergeo"
           }
          ],
          "scattergl": [
           {
            "marker": {
             "colorbar": {
              "outlinewidth": 0,
              "ticks": ""
             }
            },
            "type": "scattergl"
           }
          ],
          "scattermapbox": [
           {
            "marker": {
             "colorbar": {
              "outlinewidth": 0,
              "ticks": ""
             }
            },
            "type": "scattermapbox"
           }
          ],
          "scatterpolar": [
           {
            "marker": {
             "colorbar": {
              "outlinewidth": 0,
              "ticks": ""
             }
            },
            "type": "scatterpolar"
           }
          ],
          "scatterpolargl": [
           {
            "marker": {
             "colorbar": {
              "outlinewidth": 0,
              "ticks": ""
             }
            },
            "type": "scatterpolargl"
           }
          ],
          "scatterternary": [
           {
            "marker": {
             "colorbar": {
              "outlinewidth": 0,
              "ticks": ""
             }
            },
            "type": "scatterternary"
           }
          ],
          "surface": [
           {
            "colorbar": {
             "outlinewidth": 0,
             "ticks": ""
            },
            "colorscale": [
             [
              0,
              "#0d0887"
             ],
             [
              0.1111111111111111,
              "#46039f"
             ],
             [
              0.2222222222222222,
              "#7201a8"
             ],
             [
              0.3333333333333333,
              "#9c179e"
             ],
             [
              0.4444444444444444,
              "#bd3786"
             ],
             [
              0.5555555555555556,
              "#d8576b"
             ],
             [
              0.6666666666666666,
              "#ed7953"
             ],
             [
              0.7777777777777778,
              "#fb9f3a"
             ],
             [
              0.8888888888888888,
              "#fdca26"
             ],
             [
              1,
              "#f0f921"
             ]
            ],
            "type": "surface"
           }
          ],
          "table": [
           {
            "cells": {
             "fill": {
              "color": "#EBF0F8"
             },
             "line": {
              "color": "white"
             }
            },
            "header": {
             "fill": {
              "color": "#C8D4E3"
             },
             "line": {
              "color": "white"
             }
            },
            "type": "table"
           }
          ]
         },
         "layout": {
          "annotationdefaults": {
           "arrowcolor": "#2a3f5f",
           "arrowhead": 0,
           "arrowwidth": 1
          },
          "autotypenumbers": "strict",
          "coloraxis": {
           "colorbar": {
            "outlinewidth": 0,
            "ticks": ""
           }
          },
          "colorscale": {
           "diverging": [
            [
             0,
             "#8e0152"
            ],
            [
             0.1,
             "#c51b7d"
            ],
            [
             0.2,
             "#de77ae"
            ],
            [
             0.3,
             "#f1b6da"
            ],
            [
             0.4,
             "#fde0ef"
            ],
            [
             0.5,
             "#f7f7f7"
            ],
            [
             0.6,
             "#e6f5d0"
            ],
            [
             0.7,
             "#b8e186"
            ],
            [
             0.8,
             "#7fbc41"
            ],
            [
             0.9,
             "#4d9221"
            ],
            [
             1,
             "#276419"
            ]
           ],
           "sequential": [
            [
             0,
             "#0d0887"
            ],
            [
             0.1111111111111111,
             "#46039f"
            ],
            [
             0.2222222222222222,
             "#7201a8"
            ],
            [
             0.3333333333333333,
             "#9c179e"
            ],
            [
             0.4444444444444444,
             "#bd3786"
            ],
            [
             0.5555555555555556,
             "#d8576b"
            ],
            [
             0.6666666666666666,
             "#ed7953"
            ],
            [
             0.7777777777777778,
             "#fb9f3a"
            ],
            [
             0.8888888888888888,
             "#fdca26"
            ],
            [
             1,
             "#f0f921"
            ]
           ],
           "sequentialminus": [
            [
             0,
             "#0d0887"
            ],
            [
             0.1111111111111111,
             "#46039f"
            ],
            [
             0.2222222222222222,
             "#7201a8"
            ],
            [
             0.3333333333333333,
             "#9c179e"
            ],
            [
             0.4444444444444444,
             "#bd3786"
            ],
            [
             0.5555555555555556,
             "#d8576b"
            ],
            [
             0.6666666666666666,
             "#ed7953"
            ],
            [
             0.7777777777777778,
             "#fb9f3a"
            ],
            [
             0.8888888888888888,
             "#fdca26"
            ],
            [
             1,
             "#f0f921"
            ]
           ]
          },
          "colorway": [
           "#636efa",
           "#EF553B",
           "#00cc96",
           "#ab63fa",
           "#FFA15A",
           "#19d3f3",
           "#FF6692",
           "#B6E880",
           "#FF97FF",
           "#FECB52"
          ],
          "font": {
           "color": "#2a3f5f"
          },
          "geo": {
           "bgcolor": "white",
           "lakecolor": "white",
           "landcolor": "#E5ECF6",
           "showlakes": true,
           "showland": true,
           "subunitcolor": "white"
          },
          "hoverlabel": {
           "align": "left"
          },
          "hovermode": "closest",
          "mapbox": {
           "style": "light"
          },
          "paper_bgcolor": "white",
          "plot_bgcolor": "#E5ECF6",
          "polar": {
           "angularaxis": {
            "gridcolor": "white",
            "linecolor": "white",
            "ticks": ""
           },
           "bgcolor": "#E5ECF6",
           "radialaxis": {
            "gridcolor": "white",
            "linecolor": "white",
            "ticks": ""
           }
          },
          "scene": {
           "xaxis": {
            "backgroundcolor": "#E5ECF6",
            "gridcolor": "white",
            "gridwidth": 2,
            "linecolor": "white",
            "showbackground": true,
            "ticks": "",
            "zerolinecolor": "white"
           },
           "yaxis": {
            "backgroundcolor": "#E5ECF6",
            "gridcolor": "white",
            "gridwidth": 2,
            "linecolor": "white",
            "showbackground": true,
            "ticks": "",
            "zerolinecolor": "white"
           },
           "zaxis": {
            "backgroundcolor": "#E5ECF6",
            "gridcolor": "white",
            "gridwidth": 2,
            "linecolor": "white",
            "showbackground": true,
            "ticks": "",
            "zerolinecolor": "white"
           }
          },
          "shapedefaults": {
           "line": {
            "color": "#2a3f5f"
           }
          },
          "ternary": {
           "aaxis": {
            "gridcolor": "white",
            "linecolor": "white",
            "ticks": ""
           },
           "baxis": {
            "gridcolor": "white",
            "linecolor": "white",
            "ticks": ""
           },
           "bgcolor": "#E5ECF6",
           "caxis": {
            "gridcolor": "white",
            "linecolor": "white",
            "ticks": ""
           }
          },
          "title": {
           "x": 0.05
          },
          "xaxis": {
           "automargin": true,
           "gridcolor": "white",
           "linecolor": "white",
           "ticks": "",
           "title": {
            "standoff": 15
           },
           "zerolinecolor": "white",
           "zerolinewidth": 2
          },
          "yaxis": {
           "automargin": true,
           "gridcolor": "white",
           "linecolor": "white",
           "ticks": "",
           "title": {
            "standoff": 15
           },
           "zerolinecolor": "white",
           "zerolinewidth": 2
          }
         }
        },
        "title": {
         "text": "Model Accuracy Performance"
        },
        "xaxis": {
         "anchor": "y",
         "categoryarray": [
          "LR",
          "Tree",
          "GNB",
          "RF",
          "AdaBoost",
          "Bagging",
          "GBM",
          "XGB",
          "CatBoost"
         ],
         "categoryorder": "array",
         "domain": [
          0,
          1
         ],
         "title": {
          "text": "Machine Learning Model"
         }
        },
        "yaxis": {
         "anchor": "x",
         "domain": [
          0,
          1
         ],
         "title": {
          "text": "Accuracy"
         }
        }
       }
      },
      "text/html": [
       "<div>                            <div id=\"b7f5cfeb-3950-456c-9e66-5b3c41c8888e\" class=\"plotly-graph-div\" style=\"height:525px; width:100%;\"></div>            <script type=\"text/javascript\">                require([\"plotly\"], function(Plotly) {                    window.PLOTLYENV=window.PLOTLYENV || {};                                    if (document.getElementById(\"b7f5cfeb-3950-456c-9e66-5b3c41c8888e\")) {                    Plotly.newPlot(                        \"b7f5cfeb-3950-456c-9e66-5b3c41c8888e\",                        [{\"alignmentgroup\":\"True\",\"boxpoints\":\"all\",\"hovertemplate\":\"Machine Learning Model=%{x}\\u003cbr\\u003eAccuracy=%{y}\\u003cextra\\u003e\\u003c\\u002fextra\\u003e\",\"legendgroup\":\"LR\",\"marker\":{\"color\":\"#636efa\"},\"name\":\"LR\",\"notched\":false,\"offsetgroup\":\"LR\",\"orientation\":\"v\",\"showlegend\":true,\"x\":[\"LR\",\"LR\",\"LR\",\"LR\",\"LR\",\"LR\",\"LR\",\"LR\",\"LR\",\"LR\"],\"x0\":\" \",\"xaxis\":\"x\",\"y\":[0.6075492527173914,0.609969429347826,0.6069805953038088,0.6092734915714831,0.6076175109337183,0.6137907608695652,0.6111158288043478,0.6046452379941404,0.6111417774192178,0.6009935883826589],\"y0\":\" \",\"yaxis\":\"y\",\"type\":\"box\"},{\"alignmentgroup\":\"True\",\"boxpoints\":\"all\",\"hovertemplate\":\"Machine Learning Model=%{x}\\u003cbr\\u003eAccuracy=%{y}\\u003cextra\\u003e\\u003c\\u002fextra\\u003e\",\"legendgroup\":\"Tree\",\"marker\":{\"color\":\"#EF553B\"},\"name\":\"Tree\",\"notched\":false,\"offsetgroup\":\"Tree\",\"orientation\":\"v\",\"showlegend\":true,\"x\":[\"Tree\",\"Tree\",\"Tree\",\"Tree\",\"Tree\",\"Tree\",\"Tree\",\"Tree\",\"Tree\",\"Tree\"],\"x0\":\" \",\"xaxis\":\"x\",\"y\":[0.487601902173913,0.4862007472826087,0.49573266527960597,0.49186871045815467,0.4921659377521124,0.4898097826086957,0.4893851902173913,0.49212347671011847,0.48995796356842597,0.48940597002250436],\"y0\":\" \",\"yaxis\":\"y\",\"type\":\"box\"},{\"alignmentgroup\":\"True\",\"boxpoints\":\"all\",\"hovertemplate\":\"Machine Learning Model=%{x}\\u003cbr\\u003eAccuracy=%{y}\\u003cextra\\u003e\\u003c\\u002fextra\\u003e\",\"legendgroup\":\"GNB\",\"marker\":{\"color\":\"#00cc96\"},\"name\":\"GNB\",\"notched\":false,\"offsetgroup\":\"GNB\",\"orientation\":\"v\",\"showlegend\":true,\"x\":[\"GNB\",\"GNB\",\"GNB\",\"GNB\",\"GNB\",\"GNB\",\"GNB\",\"GNB\",\"GNB\",\"GNB\"],\"x0\":\" \",\"xaxis\":\"x\",\"y\":[0.48063858695652173,0.4782608695652174,0.4919111715001486,0.47747441722219863,0.4830368137234088,0.48191236413043476,0.48276154891304346,0.49114687274425717,0.4781537938941022,0.4809562226657042],\"y0\":\" \",\"yaxis\":\"y\",\"type\":\"box\"},{\"alignmentgroup\":\"True\",\"boxpoints\":\"all\",\"hovertemplate\":\"Machine Learning Model=%{x}\\u003cbr\\u003eAccuracy=%{y}\\u003cextra\\u003e\\u003c\\u002fextra\\u003e\",\"legendgroup\":\"RF\",\"marker\":{\"color\":\"#ab63fa\"},\"name\":\"RF\",\"notched\":false,\"offsetgroup\":\"RF\",\"orientation\":\"v\",\"showlegend\":true,\"x\":[\"RF\",\"RF\",\"RF\",\"RF\",\"RF\",\"RF\",\"RF\",\"RF\",\"RF\",\"RF\"],\"x0\":\" \",\"xaxis\":\"x\",\"y\":[0.5503141983695652,0.5491677989130435,0.5581503970107426,0.5511443250817375,0.5585750074306823,0.5508661684782609,0.548233695652174,0.5491486561080209,0.5524606173835506,0.5535221434333999],\"y0\":\" \",\"yaxis\":\"y\",\"type\":\"box\"},{\"alignmentgroup\":\"True\",\"boxpoints\":\"all\",\"hovertemplate\":\"Machine Learning Model=%{x}\\u003cbr\\u003eAccuracy=%{y}\\u003cextra\\u003e\\u003c\\u002fextra\\u003e\",\"legendgroup\":\"AdaBoost\",\"marker\":{\"color\":\"#FFA15A\"},\"name\":\"AdaBoost\",\"notched\":false,\"offsetgroup\":\"AdaBoost\",\"orientation\":\"v\",\"showlegend\":true,\"x\":[\"AdaBoost\",\"AdaBoost\",\"AdaBoost\",\"AdaBoost\",\"AdaBoost\",\"AdaBoost\",\"AdaBoost\",\"AdaBoost\",\"AdaBoost\",\"AdaBoost\"],\"x0\":\" \",\"xaxis\":\"x\",\"y\":[0.6149796195652174,0.6162109375,0.6131374463929344,0.6159398751645365,0.6132648295189164,0.6196076766304348,0.6169752038043478,0.6137319009808501,0.6195066026920301,0.6079996603116641],\"y0\":\" \",\"yaxis\":\"y\",\"type\":\"box\"},{\"alignmentgroup\":\"True\",\"boxpoints\":\"all\",\"hovertemplate\":\"Machine Learning Model=%{x}\\u003cbr\\u003eAccuracy=%{y}\\u003cextra\\u003e\\u003c\\u002fextra\\u003e\",\"legendgroup\":\"Bagging\",\"marker\":{\"color\":\"#19d3f3\"},\"name\":\"Bagging\",\"notched\":false,\"offsetgroup\":\"Bagging\",\"orientation\":\"v\",\"showlegend\":true,\"x\":[\"Bagging\",\"Bagging\",\"Bagging\",\"Bagging\",\"Bagging\",\"Bagging\",\"Bagging\",\"Bagging\",\"Bagging\",\"Bagging\"],\"x0\":\" \",\"xaxis\":\"x\",\"y\":[0.5479364809782609,0.5471297554347826,0.5505923315358159,0.5478323638062078,0.5545412084412551,0.5498046875,0.5519276494565217,0.5500827990318883,0.5467283767143646,0.5457942337904972],\"y0\":\" \",\"yaxis\":\"y\",\"type\":\"box\"},{\"alignmentgroup\":\"True\",\"boxpoints\":\"all\",\"hovertemplate\":\"Machine Learning Model=%{x}\\u003cbr\\u003eAccuracy=%{y}\\u003cextra\\u003e\\u003c\\u002fextra\\u003e\",\"legendgroup\":\"GBM\",\"marker\":{\"color\":\"#FF6692\"},\"name\":\"GBM\",\"notched\":false,\"offsetgroup\":\"GBM\",\"orientation\":\"v\",\"showlegend\":true,\"x\":[\"GBM\",\"GBM\",\"GBM\",\"GBM\",\"GBM\",\"GBM\",\"GBM\",\"GBM\",\"GBM\",\"GBM\"],\"x0\":\" \",\"xaxis\":\"x\",\"y\":[0.6227496603260869,0.625,0.6229884081355357,0.6215871937497346,0.6209502781198251,0.6255519701086957,0.6257218070652174,0.6202709014479215,0.6220118041696743,0.6179355441382531],\"y0\":\" \",\"yaxis\":\"y\",\"type\":\"box\"},{\"alignmentgroup\":\"True\",\"boxpoints\":\"all\",\"hovertemplate\":\"Machine Learning Model=%{x}\\u003cbr\\u003eAccuracy=%{y}\\u003cextra\\u003e\\u003c\\u002fextra\\u003e\",\"legendgroup\":\"XGB\",\"marker\":{\"color\":\"#B6E880\"},\"name\":\"XGB\",\"notched\":false,\"offsetgroup\":\"XGB\",\"orientation\":\"v\",\"showlegend\":true,\"x\":[\"XGB\",\"XGB\",\"XGB\",\"XGB\",\"XGB\",\"XGB\",\"XGB\",\"XGB\",\"XGB\",\"XGB\"],\"x0\":\" \",\"xaxis\":\"x\",\"y\":[0.6230893342391305,0.6224099864130435,0.6204407456158975,0.6231582523035115,0.6203133624899155,0.6266559103260869,0.625,0.6166192518364401,0.622478875631608,0.6170863232983738],\"y0\":\" \",\"yaxis\":\"y\",\"type\":\"box\"},{\"alignmentgroup\":\"True\",\"boxpoints\":\"all\",\"hovertemplate\":\"Machine Learning Model=%{x}\\u003cbr\\u003eAccuracy=%{y}\\u003cextra\\u003e\\u003c\\u002fextra\\u003e\",\"legendgroup\":\"CatBoost\",\"marker\":{\"color\":\"#FF97FF\"},\"name\":\"CatBoost\",\"notched\":false,\"offsetgroup\":\"CatBoost\",\"orientation\":\"v\",\"showlegend\":true,\"x\":[\"CatBoost\",\"CatBoost\",\"CatBoost\",\"CatBoost\",\"CatBoost\",\"CatBoost\",\"CatBoost\",\"CatBoost\",\"CatBoost\",\"CatBoost\"],\"x0\":\" \",\"xaxis\":\"x\",\"y\":[0.6238536005434783,0.6233440896739131,0.6232856354294934,0.6247293108572884,0.6231582523035115,0.6278023097826086,0.6280146059782609,0.6184026156001868,0.6240923952273789,0.6184450766421808],\"y0\":\" \",\"yaxis\":\"y\",\"type\":\"box\"}],                        {\"template\":{\"data\":{\"histogram2dcontour\":[{\"type\":\"histogram2dcontour\",\"colorbar\":{\"outlinewidth\":0,\"ticks\":\"\"},\"colorscale\":[[0.0,\"#0d0887\"],[0.1111111111111111,\"#46039f\"],[0.2222222222222222,\"#7201a8\"],[0.3333333333333333,\"#9c179e\"],[0.4444444444444444,\"#bd3786\"],[0.5555555555555556,\"#d8576b\"],[0.6666666666666666,\"#ed7953\"],[0.7777777777777778,\"#fb9f3a\"],[0.8888888888888888,\"#fdca26\"],[1.0,\"#f0f921\"]]}],\"choropleth\":[{\"type\":\"choropleth\",\"colorbar\":{\"outlinewidth\":0,\"ticks\":\"\"}}],\"histogram2d\":[{\"type\":\"histogram2d\",\"colorbar\":{\"outlinewidth\":0,\"ticks\":\"\"},\"colorscale\":[[0.0,\"#0d0887\"],[0.1111111111111111,\"#46039f\"],[0.2222222222222222,\"#7201a8\"],[0.3333333333333333,\"#9c179e\"],[0.4444444444444444,\"#bd3786\"],[0.5555555555555556,\"#d8576b\"],[0.6666666666666666,\"#ed7953\"],[0.7777777777777778,\"#fb9f3a\"],[0.8888888888888888,\"#fdca26\"],[1.0,\"#f0f921\"]]}],\"heatmap\":[{\"type\":\"heatmap\",\"colorbar\":{\"outlinewidth\":0,\"ticks\":\"\"},\"colorscale\":[[0.0,\"#0d0887\"],[0.1111111111111111,\"#46039f\"],[0.2222222222222222,\"#7201a8\"],[0.3333333333333333,\"#9c179e\"],[0.4444444444444444,\"#bd3786\"],[0.5555555555555556,\"#d8576b\"],[0.6666666666666666,\"#ed7953\"],[0.7777777777777778,\"#fb9f3a\"],[0.8888888888888888,\"#fdca26\"],[1.0,\"#f0f921\"]]}],\"heatmapgl\":[{\"type\":\"heatmapgl\",\"colorbar\":{\"outlinewidth\":0,\"ticks\":\"\"},\"colorscale\":[[0.0,\"#0d0887\"],[0.1111111111111111,\"#46039f\"],[0.2222222222222222,\"#7201a8\"],[0.3333333333333333,\"#9c179e\"],[0.4444444444444444,\"#bd3786\"],[0.5555555555555556,\"#d8576b\"],[0.6666666666666666,\"#ed7953\"],[0.7777777777777778,\"#fb9f3a\"],[0.8888888888888888,\"#fdca26\"],[1.0,\"#f0f921\"]]}],\"contourcarpet\":[{\"type\":\"contourcarpet\",\"colorbar\":{\"outlinewidth\":0,\"ticks\":\"\"}}],\"contour\":[{\"type\":\"contour\",\"colorbar\":{\"outlinewidth\":0,\"ticks\":\"\"},\"colorscale\":[[0.0,\"#0d0887\"],[0.1111111111111111,\"#46039f\"],[0.2222222222222222,\"#7201a8\"],[0.3333333333333333,\"#9c179e\"],[0.4444444444444444,\"#bd3786\"],[0.5555555555555556,\"#d8576b\"],[0.6666666666666666,\"#ed7953\"],[0.7777777777777778,\"#fb9f3a\"],[0.8888888888888888,\"#fdca26\"],[1.0,\"#f0f921\"]]}],\"surface\":[{\"type\":\"surface\",\"colorbar\":{\"outlinewidth\":0,\"ticks\":\"\"},\"colorscale\":[[0.0,\"#0d0887\"],[0.1111111111111111,\"#46039f\"],[0.2222222222222222,\"#7201a8\"],[0.3333333333333333,\"#9c179e\"],[0.4444444444444444,\"#bd3786\"],[0.5555555555555556,\"#d8576b\"],[0.6666666666666666,\"#ed7953\"],[0.7777777777777778,\"#fb9f3a\"],[0.8888888888888888,\"#fdca26\"],[1.0,\"#f0f921\"]]}],\"mesh3d\":[{\"type\":\"mesh3d\",\"colorbar\":{\"outlinewidth\":0,\"ticks\":\"\"}}],\"scatter\":[{\"fillpattern\":{\"fillmode\":\"overlay\",\"size\":10,\"solidity\":0.2},\"type\":\"scatter\"}],\"parcoords\":[{\"type\":\"parcoords\",\"line\":{\"colorbar\":{\"outlinewidth\":0,\"ticks\":\"\"}}}],\"scatterpolargl\":[{\"type\":\"scatterpolargl\",\"marker\":{\"colorbar\":{\"outlinewidth\":0,\"ticks\":\"\"}}}],\"bar\":[{\"error_x\":{\"color\":\"#2a3f5f\"},\"error_y\":{\"color\":\"#2a3f5f\"},\"marker\":{\"line\":{\"color\":\"#E5ECF6\",\"width\":0.5},\"pattern\":{\"fillmode\":\"overlay\",\"size\":10,\"solidity\":0.2}},\"type\":\"bar\"}],\"scattergeo\":[{\"type\":\"scattergeo\",\"marker\":{\"colorbar\":{\"outlinewidth\":0,\"ticks\":\"\"}}}],\"scatterpolar\":[{\"type\":\"scatterpolar\",\"marker\":{\"colorbar\":{\"outlinewidth\":0,\"ticks\":\"\"}}}],\"histogram\":[{\"marker\":{\"pattern\":{\"fillmode\":\"overlay\",\"size\":10,\"solidity\":0.2}},\"type\":\"histogram\"}],\"scattergl\":[{\"type\":\"scattergl\",\"marker\":{\"colorbar\":{\"outlinewidth\":0,\"ticks\":\"\"}}}],\"scatter3d\":[{\"type\":\"scatter3d\",\"line\":{\"colorbar\":{\"outlinewidth\":0,\"ticks\":\"\"}},\"marker\":{\"colorbar\":{\"outlinewidth\":0,\"ticks\":\"\"}}}],\"scattermapbox\":[{\"type\":\"scattermapbox\",\"marker\":{\"colorbar\":{\"outlinewidth\":0,\"ticks\":\"\"}}}],\"scatterternary\":[{\"type\":\"scatterternary\",\"marker\":{\"colorbar\":{\"outlinewidth\":0,\"ticks\":\"\"}}}],\"scattercarpet\":[{\"type\":\"scattercarpet\",\"marker\":{\"colorbar\":{\"outlinewidth\":0,\"ticks\":\"\"}}}],\"carpet\":[{\"aaxis\":{\"endlinecolor\":\"#2a3f5f\",\"gridcolor\":\"white\",\"linecolor\":\"white\",\"minorgridcolor\":\"white\",\"startlinecolor\":\"#2a3f5f\"},\"baxis\":{\"endlinecolor\":\"#2a3f5f\",\"gridcolor\":\"white\",\"linecolor\":\"white\",\"minorgridcolor\":\"white\",\"startlinecolor\":\"#2a3f5f\"},\"type\":\"carpet\"}],\"table\":[{\"cells\":{\"fill\":{\"color\":\"#EBF0F8\"},\"line\":{\"color\":\"white\"}},\"header\":{\"fill\":{\"color\":\"#C8D4E3\"},\"line\":{\"color\":\"white\"}},\"type\":\"table\"}],\"barpolar\":[{\"marker\":{\"line\":{\"color\":\"#E5ECF6\",\"width\":0.5},\"pattern\":{\"fillmode\":\"overlay\",\"size\":10,\"solidity\":0.2}},\"type\":\"barpolar\"}],\"pie\":[{\"automargin\":true,\"type\":\"pie\"}]},\"layout\":{\"autotypenumbers\":\"strict\",\"colorway\":[\"#636efa\",\"#EF553B\",\"#00cc96\",\"#ab63fa\",\"#FFA15A\",\"#19d3f3\",\"#FF6692\",\"#B6E880\",\"#FF97FF\",\"#FECB52\"],\"font\":{\"color\":\"#2a3f5f\"},\"hovermode\":\"closest\",\"hoverlabel\":{\"align\":\"left\"},\"paper_bgcolor\":\"white\",\"plot_bgcolor\":\"#E5ECF6\",\"polar\":{\"bgcolor\":\"#E5ECF6\",\"angularaxis\":{\"gridcolor\":\"white\",\"linecolor\":\"white\",\"ticks\":\"\"},\"radialaxis\":{\"gridcolor\":\"white\",\"linecolor\":\"white\",\"ticks\":\"\"}},\"ternary\":{\"bgcolor\":\"#E5ECF6\",\"aaxis\":{\"gridcolor\":\"white\",\"linecolor\":\"white\",\"ticks\":\"\"},\"baxis\":{\"gridcolor\":\"white\",\"linecolor\":\"white\",\"ticks\":\"\"},\"caxis\":{\"gridcolor\":\"white\",\"linecolor\":\"white\",\"ticks\":\"\"}},\"coloraxis\":{\"colorbar\":{\"outlinewidth\":0,\"ticks\":\"\"}},\"colorscale\":{\"sequential\":[[0.0,\"#0d0887\"],[0.1111111111111111,\"#46039f\"],[0.2222222222222222,\"#7201a8\"],[0.3333333333333333,\"#9c179e\"],[0.4444444444444444,\"#bd3786\"],[0.5555555555555556,\"#d8576b\"],[0.6666666666666666,\"#ed7953\"],[0.7777777777777778,\"#fb9f3a\"],[0.8888888888888888,\"#fdca26\"],[1.0,\"#f0f921\"]],\"sequentialminus\":[[0.0,\"#0d0887\"],[0.1111111111111111,\"#46039f\"],[0.2222222222222222,\"#7201a8\"],[0.3333333333333333,\"#9c179e\"],[0.4444444444444444,\"#bd3786\"],[0.5555555555555556,\"#d8576b\"],[0.6666666666666666,\"#ed7953\"],[0.7777777777777778,\"#fb9f3a\"],[0.8888888888888888,\"#fdca26\"],[1.0,\"#f0f921\"]],\"diverging\":[[0,\"#8e0152\"],[0.1,\"#c51b7d\"],[0.2,\"#de77ae\"],[0.3,\"#f1b6da\"],[0.4,\"#fde0ef\"],[0.5,\"#f7f7f7\"],[0.6,\"#e6f5d0\"],[0.7,\"#b8e186\"],[0.8,\"#7fbc41\"],[0.9,\"#4d9221\"],[1,\"#276419\"]]},\"xaxis\":{\"gridcolor\":\"white\",\"linecolor\":\"white\",\"ticks\":\"\",\"title\":{\"standoff\":15},\"zerolinecolor\":\"white\",\"automargin\":true,\"zerolinewidth\":2},\"yaxis\":{\"gridcolor\":\"white\",\"linecolor\":\"white\",\"ticks\":\"\",\"title\":{\"standoff\":15},\"zerolinecolor\":\"white\",\"automargin\":true,\"zerolinewidth\":2},\"scene\":{\"xaxis\":{\"backgroundcolor\":\"#E5ECF6\",\"gridcolor\":\"white\",\"linecolor\":\"white\",\"showbackground\":true,\"ticks\":\"\",\"zerolinecolor\":\"white\",\"gridwidth\":2},\"yaxis\":{\"backgroundcolor\":\"#E5ECF6\",\"gridcolor\":\"white\",\"linecolor\":\"white\",\"showbackground\":true,\"ticks\":\"\",\"zerolinecolor\":\"white\",\"gridwidth\":2},\"zaxis\":{\"backgroundcolor\":\"#E5ECF6\",\"gridcolor\":\"white\",\"linecolor\":\"white\",\"showbackground\":true,\"ticks\":\"\",\"zerolinecolor\":\"white\",\"gridwidth\":2}},\"shapedefaults\":{\"line\":{\"color\":\"#2a3f5f\"}},\"annotationdefaults\":{\"arrowcolor\":\"#2a3f5f\",\"arrowhead\":0,\"arrowwidth\":1},\"geo\":{\"bgcolor\":\"white\",\"landcolor\":\"#E5ECF6\",\"subunitcolor\":\"white\",\"showland\":true,\"showlakes\":true,\"lakecolor\":\"white\"},\"title\":{\"x\":0.05},\"mapbox\":{\"style\":\"light\"}}},\"xaxis\":{\"anchor\":\"y\",\"domain\":[0.0,1.0],\"title\":{\"text\":\"Machine Learning Model\"},\"categoryorder\":\"array\",\"categoryarray\":[\"LR\",\"Tree\",\"GNB\",\"RF\",\"AdaBoost\",\"Bagging\",\"GBM\",\"XGB\",\"CatBoost\"]},\"yaxis\":{\"anchor\":\"x\",\"domain\":[0.0,1.0],\"title\":{\"text\":\"Accuracy\"}},\"legend\":{\"title\":{\"text\":\"Machine Learning Model\"},\"tracegroupgap\":0},\"title\":{\"text\":\"Model Accuracy Performance\"},\"boxmode\":\"overlay\"},                        {\"responsive\": true}                    ).then(function(){\n",
       "                            \n",
       "var gd = document.getElementById('b7f5cfeb-3950-456c-9e66-5b3c41c8888e');\n",
       "var x = new MutationObserver(function (mutations, observer) {{\n",
       "        var display = window.getComputedStyle(gd).display;\n",
       "        if (!display || display === 'none') {{\n",
       "            console.log([gd, 'removed!']);\n",
       "            Plotly.purge(gd);\n",
       "            observer.disconnect();\n",
       "        }}\n",
       "}});\n",
       "\n",
       "// Listen for the removal of the full notebook cells\n",
       "var notebookContainer = gd.closest('#notebook-container');\n",
       "if (notebookContainer) {{\n",
       "    x.observe(notebookContainer, {childList: true});\n",
       "}}\n",
       "\n",
       "// Listen for the clearing of the current output cell\n",
       "var outputEl = gd.closest('.output');\n",
       "if (outputEl) {{\n",
       "    x.observe(outputEl, {childList: true});\n",
       "}}\n",
       "\n",
       "                        })                };                });            </script>        </div>"
      ]
     },
     "metadata": {},
     "output_type": "display_data"
    }
   ],
   "source": [
    "fig = px.box(classifmod, x=\"Model\", y=\"Accuracy\", color=\"Model\", points='all',\n",
    "             labels={\"Model\": \"Machine Learning Model\",\n",
    "                     \"Accuracy\": \"Accuracy\"},\n",
    "             title=\"Model Accuracy Performance\")\n",
    "fig.show()\n",
    "fig.write_html(\"products/plots/model_train_accuracies.html\")"
   ]
  },
  {
   "cell_type": "code",
   "execution_count": 172,
   "metadata": {},
   "outputs": [
    {
     "data": {
      "application/vnd.plotly.v1+json": {
       "config": {
        "plotlyServerURL": "https://plot.ly"
       },
       "data": [
        {
         "alignmentgroup": "True",
         "boxpoints": "all",
         "hovertemplate": "Machine Learning Model=%{x}<br>Weighted f1-Score=%{y}<extra></extra>",
         "legendgroup": "LR",
         "marker": {
          "color": "#636efa"
         },
         "name": "LR",
         "notched": false,
         "offsetgroup": "LR",
         "orientation": "v",
         "showlegend": true,
         "type": "box",
         "x": [
          "LR",
          "LR",
          "LR",
          "LR",
          "LR",
          "LR",
          "LR",
          "LR",
          "LR",
          "LR"
         ],
         "x0": " ",
         "xaxis": "x",
         "y": [
          0.529315156924634,
          0.5306194751542238,
          0.5274614115532804,
          0.5309122011717069,
          0.5281860072240818,
          0.5357514853604065,
          0.5320014984491771,
          0.5247633406329142,
          0.5340439383346065,
          0.5202066689397552
         ],
         "y0": " ",
         "yaxis": "y"
        },
        {
         "alignmentgroup": "True",
         "boxpoints": "all",
         "hovertemplate": "Machine Learning Model=%{x}<br>Weighted f1-Score=%{y}<extra></extra>",
         "legendgroup": "Tree",
         "marker": {
          "color": "#EF553B"
         },
         "name": "Tree",
         "notched": false,
         "offsetgroup": "Tree",
         "orientation": "v",
         "showlegend": true,
         "type": "box",
         "x": [
          "Tree",
          "Tree",
          "Tree",
          "Tree",
          "Tree",
          "Tree",
          "Tree",
          "Tree",
          "Tree",
          "Tree"
         ],
         "x0": " ",
         "xaxis": "x",
         "y": [
          0.4931682122860172,
          0.49245632787237165,
          0.49863916840600114,
          0.49515786041850346,
          0.49706625376776825,
          0.4920432533466739,
          0.4927424671230026,
          0.49341554575850777,
          0.49501867373143904,
          0.4917873403880771
         ],
         "y0": " ",
         "yaxis": "y"
        },
        {
         "alignmentgroup": "True",
         "boxpoints": "all",
         "hovertemplate": "Machine Learning Model=%{x}<br>Weighted f1-Score=%{y}<extra></extra>",
         "legendgroup": "GNB",
         "marker": {
          "color": "#00cc96"
         },
         "name": "GNB",
         "notched": false,
         "offsetgroup": "GNB",
         "orientation": "v",
         "showlegend": true,
         "type": "box",
         "x": [
          "GNB",
          "GNB",
          "GNB",
          "GNB",
          "GNB",
          "GNB",
          "GNB",
          "GNB",
          "GNB",
          "GNB"
         ],
         "x0": " ",
         "xaxis": "x",
         "y": [
          0.49021277923226114,
          0.48816174819698194,
          0.5016366850721734,
          0.4890656186573671,
          0.4937436255807292,
          0.4931294872578772,
          0.4949186105771983,
          0.4991549262764149,
          0.4883404620898014,
          0.4896592647365606
         ],
         "y0": " ",
         "yaxis": "y"
        },
        {
         "alignmentgroup": "True",
         "boxpoints": "all",
         "hovertemplate": "Machine Learning Model=%{x}<br>Weighted f1-Score=%{y}<extra></extra>",
         "legendgroup": "RF",
         "marker": {
          "color": "#ab63fa"
         },
         "name": "RF",
         "notched": false,
         "offsetgroup": "RF",
         "orientation": "v",
         "showlegend": true,
         "type": "box",
         "x": [
          "RF",
          "RF",
          "RF",
          "RF",
          "RF",
          "RF",
          "RF",
          "RF",
          "RF",
          "RF"
         ],
         "x0": " ",
         "xaxis": "x",
         "y": [
          0.5268325348619712,
          0.5278785608223694,
          0.5314309640067054,
          0.5279490923600485,
          0.5334489168226807,
          0.5265398940423172,
          0.5270847651884205,
          0.5254781228876413,
          0.5300933358293413,
          0.525503486035438
         ],
         "y0": " ",
         "yaxis": "y"
        },
        {
         "alignmentgroup": "True",
         "boxpoints": "all",
         "hovertemplate": "Machine Learning Model=%{x}<br>Weighted f1-Score=%{y}<extra></extra>",
         "legendgroup": "AdaBoost",
         "marker": {
          "color": "#FFA15A"
         },
         "name": "AdaBoost",
         "notched": false,
         "offsetgroup": "AdaBoost",
         "orientation": "v",
         "showlegend": true,
         "type": "box",
         "x": [
          "AdaBoost",
          "AdaBoost",
          "AdaBoost",
          "AdaBoost",
          "AdaBoost",
          "AdaBoost",
          "AdaBoost",
          "AdaBoost",
          "AdaBoost",
          "AdaBoost"
         ],
         "x0": " ",
         "xaxis": "x",
         "y": [
          0.5458887905205806,
          0.5443515434955455,
          0.5438014129339345,
          0.5457740045623706,
          0.544170721306452,
          0.5481335068557304,
          0.5445097441306007,
          0.5414457151388743,
          0.5476941801042945,
          0.5344464846537132
         ],
         "y0": " ",
         "yaxis": "y"
        },
        {
         "alignmentgroup": "True",
         "boxpoints": "all",
         "hovertemplate": "Machine Learning Model=%{x}<br>Weighted f1-Score=%{y}<extra></extra>",
         "legendgroup": "Bagging",
         "marker": {
          "color": "#19d3f3"
         },
         "name": "Bagging",
         "notched": false,
         "offsetgroup": "Bagging",
         "orientation": "v",
         "showlegend": true,
         "type": "box",
         "x": [
          "Bagging",
          "Bagging",
          "Bagging",
          "Bagging",
          "Bagging",
          "Bagging",
          "Bagging",
          "Bagging",
          "Bagging",
          "Bagging"
         ],
         "x0": " ",
         "xaxis": "x",
         "y": [
          0.5305162332083325,
          0.529254402470678,
          0.535750880472209,
          0.5343105303701804,
          0.53521067593583,
          0.5325000819195643,
          0.5307217992851458,
          0.5307436891982389,
          0.5323009230045123,
          0.5291765004838385
         ],
         "y0": " ",
         "yaxis": "y"
        },
        {
         "alignmentgroup": "True",
         "boxpoints": "all",
         "hovertemplate": "Machine Learning Model=%{x}<br>Weighted f1-Score=%{y}<extra></extra>",
         "legendgroup": "GBM",
         "marker": {
          "color": "#FF6692"
         },
         "name": "GBM",
         "notched": false,
         "offsetgroup": "GBM",
         "orientation": "v",
         "showlegend": true,
         "type": "box",
         "x": [
          "GBM",
          "GBM",
          "GBM",
          "GBM",
          "GBM",
          "GBM",
          "GBM",
          "GBM",
          "GBM",
          "GBM"
         ],
         "x0": " ",
         "xaxis": "x",
         "y": [
          0.5441353739471555,
          0.5470166197593085,
          0.5438445633803343,
          0.5440758616000112,
          0.5415806113775892,
          0.5469897919920323,
          0.5486940445436167,
          0.5411420098538201,
          0.5439204630045,
          0.5379000128471751
         ],
         "y0": " ",
         "yaxis": "y"
        },
        {
         "alignmentgroup": "True",
         "boxpoints": "all",
         "hovertemplate": "Machine Learning Model=%{x}<br>Weighted f1-Score=%{y}<extra></extra>",
         "legendgroup": "XGB",
         "marker": {
          "color": "#B6E880"
         },
         "name": "XGB",
         "notched": false,
         "offsetgroup": "XGB",
         "orientation": "v",
         "showlegend": true,
         "type": "box",
         "x": [
          "XGB",
          "XGB",
          "XGB",
          "XGB",
          "XGB",
          "XGB",
          "XGB",
          "XGB",
          "XGB",
          "XGB"
         ],
         "x0": " ",
         "xaxis": "x",
         "y": [
          0.5559134871731306,
          0.5536083694618409,
          0.5512097489754343,
          0.5551107100753496,
          0.5516901629328173,
          0.5590246002838755,
          0.5580970876343704,
          0.5472750973416809,
          0.555179334886721,
          0.5469519120204224
         ],
         "y0": " ",
         "yaxis": "y"
        },
        {
         "alignmentgroup": "True",
         "boxpoints": "all",
         "hovertemplate": "Machine Learning Model=%{x}<br>Weighted f1-Score=%{y}<extra></extra>",
         "legendgroup": "CatBoost",
         "marker": {
          "color": "#FF97FF"
         },
         "name": "CatBoost",
         "notched": false,
         "offsetgroup": "CatBoost",
         "orientation": "v",
         "showlegend": true,
         "type": "box",
         "x": [
          "CatBoost",
          "CatBoost",
          "CatBoost",
          "CatBoost",
          "CatBoost",
          "CatBoost",
          "CatBoost",
          "CatBoost",
          "CatBoost",
          "CatBoost"
         ],
         "x0": " ",
         "xaxis": "x",
         "y": [
          0.5572887775047468,
          0.5548840542216787,
          0.555143535218354,
          0.5576191335741069,
          0.555139943217971,
          0.5621122287357855,
          0.560766905924603,
          0.549894267547524,
          0.5565083125332195,
          0.5492683442810192
         ],
         "y0": " ",
         "yaxis": "y"
        }
       ],
       "layout": {
        "boxmode": "overlay",
        "legend": {
         "title": {
          "text": "Machine Learning Model"
         },
         "tracegroupgap": 0
        },
        "template": {
         "data": {
          "bar": [
           {
            "error_x": {
             "color": "#2a3f5f"
            },
            "error_y": {
             "color": "#2a3f5f"
            },
            "marker": {
             "line": {
              "color": "#E5ECF6",
              "width": 0.5
             },
             "pattern": {
              "fillmode": "overlay",
              "size": 10,
              "solidity": 0.2
             }
            },
            "type": "bar"
           }
          ],
          "barpolar": [
           {
            "marker": {
             "line": {
              "color": "#E5ECF6",
              "width": 0.5
             },
             "pattern": {
              "fillmode": "overlay",
              "size": 10,
              "solidity": 0.2
             }
            },
            "type": "barpolar"
           }
          ],
          "carpet": [
           {
            "aaxis": {
             "endlinecolor": "#2a3f5f",
             "gridcolor": "white",
             "linecolor": "white",
             "minorgridcolor": "white",
             "startlinecolor": "#2a3f5f"
            },
            "baxis": {
             "endlinecolor": "#2a3f5f",
             "gridcolor": "white",
             "linecolor": "white",
             "minorgridcolor": "white",
             "startlinecolor": "#2a3f5f"
            },
            "type": "carpet"
           }
          ],
          "choropleth": [
           {
            "colorbar": {
             "outlinewidth": 0,
             "ticks": ""
            },
            "type": "choropleth"
           }
          ],
          "contour": [
           {
            "colorbar": {
             "outlinewidth": 0,
             "ticks": ""
            },
            "colorscale": [
             [
              0,
              "#0d0887"
             ],
             [
              0.1111111111111111,
              "#46039f"
             ],
             [
              0.2222222222222222,
              "#7201a8"
             ],
             [
              0.3333333333333333,
              "#9c179e"
             ],
             [
              0.4444444444444444,
              "#bd3786"
             ],
             [
              0.5555555555555556,
              "#d8576b"
             ],
             [
              0.6666666666666666,
              "#ed7953"
             ],
             [
              0.7777777777777778,
              "#fb9f3a"
             ],
             [
              0.8888888888888888,
              "#fdca26"
             ],
             [
              1,
              "#f0f921"
             ]
            ],
            "type": "contour"
           }
          ],
          "contourcarpet": [
           {
            "colorbar": {
             "outlinewidth": 0,
             "ticks": ""
            },
            "type": "contourcarpet"
           }
          ],
          "heatmap": [
           {
            "colorbar": {
             "outlinewidth": 0,
             "ticks": ""
            },
            "colorscale": [
             [
              0,
              "#0d0887"
             ],
             [
              0.1111111111111111,
              "#46039f"
             ],
             [
              0.2222222222222222,
              "#7201a8"
             ],
             [
              0.3333333333333333,
              "#9c179e"
             ],
             [
              0.4444444444444444,
              "#bd3786"
             ],
             [
              0.5555555555555556,
              "#d8576b"
             ],
             [
              0.6666666666666666,
              "#ed7953"
             ],
             [
              0.7777777777777778,
              "#fb9f3a"
             ],
             [
              0.8888888888888888,
              "#fdca26"
             ],
             [
              1,
              "#f0f921"
             ]
            ],
            "type": "heatmap"
           }
          ],
          "heatmapgl": [
           {
            "colorbar": {
             "outlinewidth": 0,
             "ticks": ""
            },
            "colorscale": [
             [
              0,
              "#0d0887"
             ],
             [
              0.1111111111111111,
              "#46039f"
             ],
             [
              0.2222222222222222,
              "#7201a8"
             ],
             [
              0.3333333333333333,
              "#9c179e"
             ],
             [
              0.4444444444444444,
              "#bd3786"
             ],
             [
              0.5555555555555556,
              "#d8576b"
             ],
             [
              0.6666666666666666,
              "#ed7953"
             ],
             [
              0.7777777777777778,
              "#fb9f3a"
             ],
             [
              0.8888888888888888,
              "#fdca26"
             ],
             [
              1,
              "#f0f921"
             ]
            ],
            "type": "heatmapgl"
           }
          ],
          "histogram": [
           {
            "marker": {
             "pattern": {
              "fillmode": "overlay",
              "size": 10,
              "solidity": 0.2
             }
            },
            "type": "histogram"
           }
          ],
          "histogram2d": [
           {
            "colorbar": {
             "outlinewidth": 0,
             "ticks": ""
            },
            "colorscale": [
             [
              0,
              "#0d0887"
             ],
             [
              0.1111111111111111,
              "#46039f"
             ],
             [
              0.2222222222222222,
              "#7201a8"
             ],
             [
              0.3333333333333333,
              "#9c179e"
             ],
             [
              0.4444444444444444,
              "#bd3786"
             ],
             [
              0.5555555555555556,
              "#d8576b"
             ],
             [
              0.6666666666666666,
              "#ed7953"
             ],
             [
              0.7777777777777778,
              "#fb9f3a"
             ],
             [
              0.8888888888888888,
              "#fdca26"
             ],
             [
              1,
              "#f0f921"
             ]
            ],
            "type": "histogram2d"
           }
          ],
          "histogram2dcontour": [
           {
            "colorbar": {
             "outlinewidth": 0,
             "ticks": ""
            },
            "colorscale": [
             [
              0,
              "#0d0887"
             ],
             [
              0.1111111111111111,
              "#46039f"
             ],
             [
              0.2222222222222222,
              "#7201a8"
             ],
             [
              0.3333333333333333,
              "#9c179e"
             ],
             [
              0.4444444444444444,
              "#bd3786"
             ],
             [
              0.5555555555555556,
              "#d8576b"
             ],
             [
              0.6666666666666666,
              "#ed7953"
             ],
             [
              0.7777777777777778,
              "#fb9f3a"
             ],
             [
              0.8888888888888888,
              "#fdca26"
             ],
             [
              1,
              "#f0f921"
             ]
            ],
            "type": "histogram2dcontour"
           }
          ],
          "mesh3d": [
           {
            "colorbar": {
             "outlinewidth": 0,
             "ticks": ""
            },
            "type": "mesh3d"
           }
          ],
          "parcoords": [
           {
            "line": {
             "colorbar": {
              "outlinewidth": 0,
              "ticks": ""
             }
            },
            "type": "parcoords"
           }
          ],
          "pie": [
           {
            "automargin": true,
            "type": "pie"
           }
          ],
          "scatter": [
           {
            "fillpattern": {
             "fillmode": "overlay",
             "size": 10,
             "solidity": 0.2
            },
            "type": "scatter"
           }
          ],
          "scatter3d": [
           {
            "line": {
             "colorbar": {
              "outlinewidth": 0,
              "ticks": ""
             }
            },
            "marker": {
             "colorbar": {
              "outlinewidth": 0,
              "ticks": ""
             }
            },
            "type": "scatter3d"
           }
          ],
          "scattercarpet": [
           {
            "marker": {
             "colorbar": {
              "outlinewidth": 0,
              "ticks": ""
             }
            },
            "type": "scattercarpet"
           }
          ],
          "scattergeo": [
           {
            "marker": {
             "colorbar": {
              "outlinewidth": 0,
              "ticks": ""
             }
            },
            "type": "scattergeo"
           }
          ],
          "scattergl": [
           {
            "marker": {
             "colorbar": {
              "outlinewidth": 0,
              "ticks": ""
             }
            },
            "type": "scattergl"
           }
          ],
          "scattermapbox": [
           {
            "marker": {
             "colorbar": {
              "outlinewidth": 0,
              "ticks": ""
             }
            },
            "type": "scattermapbox"
           }
          ],
          "scatterpolar": [
           {
            "marker": {
             "colorbar": {
              "outlinewidth": 0,
              "ticks": ""
             }
            },
            "type": "scatterpolar"
           }
          ],
          "scatterpolargl": [
           {
            "marker": {
             "colorbar": {
              "outlinewidth": 0,
              "ticks": ""
             }
            },
            "type": "scatterpolargl"
           }
          ],
          "scatterternary": [
           {
            "marker": {
             "colorbar": {
              "outlinewidth": 0,
              "ticks": ""
             }
            },
            "type": "scatterternary"
           }
          ],
          "surface": [
           {
            "colorbar": {
             "outlinewidth": 0,
             "ticks": ""
            },
            "colorscale": [
             [
              0,
              "#0d0887"
             ],
             [
              0.1111111111111111,
              "#46039f"
             ],
             [
              0.2222222222222222,
              "#7201a8"
             ],
             [
              0.3333333333333333,
              "#9c179e"
             ],
             [
              0.4444444444444444,
              "#bd3786"
             ],
             [
              0.5555555555555556,
              "#d8576b"
             ],
             [
              0.6666666666666666,
              "#ed7953"
             ],
             [
              0.7777777777777778,
              "#fb9f3a"
             ],
             [
              0.8888888888888888,
              "#fdca26"
             ],
             [
              1,
              "#f0f921"
             ]
            ],
            "type": "surface"
           }
          ],
          "table": [
           {
            "cells": {
             "fill": {
              "color": "#EBF0F8"
             },
             "line": {
              "color": "white"
             }
            },
            "header": {
             "fill": {
              "color": "#C8D4E3"
             },
             "line": {
              "color": "white"
             }
            },
            "type": "table"
           }
          ]
         },
         "layout": {
          "annotationdefaults": {
           "arrowcolor": "#2a3f5f",
           "arrowhead": 0,
           "arrowwidth": 1
          },
          "autotypenumbers": "strict",
          "coloraxis": {
           "colorbar": {
            "outlinewidth": 0,
            "ticks": ""
           }
          },
          "colorscale": {
           "diverging": [
            [
             0,
             "#8e0152"
            ],
            [
             0.1,
             "#c51b7d"
            ],
            [
             0.2,
             "#de77ae"
            ],
            [
             0.3,
             "#f1b6da"
            ],
            [
             0.4,
             "#fde0ef"
            ],
            [
             0.5,
             "#f7f7f7"
            ],
            [
             0.6,
             "#e6f5d0"
            ],
            [
             0.7,
             "#b8e186"
            ],
            [
             0.8,
             "#7fbc41"
            ],
            [
             0.9,
             "#4d9221"
            ],
            [
             1,
             "#276419"
            ]
           ],
           "sequential": [
            [
             0,
             "#0d0887"
            ],
            [
             0.1111111111111111,
             "#46039f"
            ],
            [
             0.2222222222222222,
             "#7201a8"
            ],
            [
             0.3333333333333333,
             "#9c179e"
            ],
            [
             0.4444444444444444,
             "#bd3786"
            ],
            [
             0.5555555555555556,
             "#d8576b"
            ],
            [
             0.6666666666666666,
             "#ed7953"
            ],
            [
             0.7777777777777778,
             "#fb9f3a"
            ],
            [
             0.8888888888888888,
             "#fdca26"
            ],
            [
             1,
             "#f0f921"
            ]
           ],
           "sequentialminus": [
            [
             0,
             "#0d0887"
            ],
            [
             0.1111111111111111,
             "#46039f"
            ],
            [
             0.2222222222222222,
             "#7201a8"
            ],
            [
             0.3333333333333333,
             "#9c179e"
            ],
            [
             0.4444444444444444,
             "#bd3786"
            ],
            [
             0.5555555555555556,
             "#d8576b"
            ],
            [
             0.6666666666666666,
             "#ed7953"
            ],
            [
             0.7777777777777778,
             "#fb9f3a"
            ],
            [
             0.8888888888888888,
             "#fdca26"
            ],
            [
             1,
             "#f0f921"
            ]
           ]
          },
          "colorway": [
           "#636efa",
           "#EF553B",
           "#00cc96",
           "#ab63fa",
           "#FFA15A",
           "#19d3f3",
           "#FF6692",
           "#B6E880",
           "#FF97FF",
           "#FECB52"
          ],
          "font": {
           "color": "#2a3f5f"
          },
          "geo": {
           "bgcolor": "white",
           "lakecolor": "white",
           "landcolor": "#E5ECF6",
           "showlakes": true,
           "showland": true,
           "subunitcolor": "white"
          },
          "hoverlabel": {
           "align": "left"
          },
          "hovermode": "closest",
          "mapbox": {
           "style": "light"
          },
          "paper_bgcolor": "white",
          "plot_bgcolor": "#E5ECF6",
          "polar": {
           "angularaxis": {
            "gridcolor": "white",
            "linecolor": "white",
            "ticks": ""
           },
           "bgcolor": "#E5ECF6",
           "radialaxis": {
            "gridcolor": "white",
            "linecolor": "white",
            "ticks": ""
           }
          },
          "scene": {
           "xaxis": {
            "backgroundcolor": "#E5ECF6",
            "gridcolor": "white",
            "gridwidth": 2,
            "linecolor": "white",
            "showbackground": true,
            "ticks": "",
            "zerolinecolor": "white"
           },
           "yaxis": {
            "backgroundcolor": "#E5ECF6",
            "gridcolor": "white",
            "gridwidth": 2,
            "linecolor": "white",
            "showbackground": true,
            "ticks": "",
            "zerolinecolor": "white"
           },
           "zaxis": {
            "backgroundcolor": "#E5ECF6",
            "gridcolor": "white",
            "gridwidth": 2,
            "linecolor": "white",
            "showbackground": true,
            "ticks": "",
            "zerolinecolor": "white"
           }
          },
          "shapedefaults": {
           "line": {
            "color": "#2a3f5f"
           }
          },
          "ternary": {
           "aaxis": {
            "gridcolor": "white",
            "linecolor": "white",
            "ticks": ""
           },
           "baxis": {
            "gridcolor": "white",
            "linecolor": "white",
            "ticks": ""
           },
           "bgcolor": "#E5ECF6",
           "caxis": {
            "gridcolor": "white",
            "linecolor": "white",
            "ticks": ""
           }
          },
          "title": {
           "x": 0.05
          },
          "xaxis": {
           "automargin": true,
           "gridcolor": "white",
           "linecolor": "white",
           "ticks": "",
           "title": {
            "standoff": 15
           },
           "zerolinecolor": "white",
           "zerolinewidth": 2
          },
          "yaxis": {
           "automargin": true,
           "gridcolor": "white",
           "linecolor": "white",
           "ticks": "",
           "title": {
            "standoff": 15
           },
           "zerolinecolor": "white",
           "zerolinewidth": 2
          }
         }
        },
        "title": {
         "text": "Model Weighted f1-Score Performance"
        },
        "xaxis": {
         "anchor": "y",
         "categoryarray": [
          "LR",
          "Tree",
          "GNB",
          "RF",
          "AdaBoost",
          "Bagging",
          "GBM",
          "XGB",
          "CatBoost"
         ],
         "categoryorder": "array",
         "domain": [
          0,
          1
         ],
         "title": {
          "text": "Machine Learning Model"
         }
        },
        "yaxis": {
         "anchor": "x",
         "domain": [
          0,
          1
         ],
         "title": {
          "text": "Weighted f1-Score"
         }
        }
       }
      },
      "text/html": [
       "<div>                            <div id=\"be542832-86b9-4370-bffa-73038f8e33d1\" class=\"plotly-graph-div\" style=\"height:525px; width:100%;\"></div>            <script type=\"text/javascript\">                require([\"plotly\"], function(Plotly) {                    window.PLOTLYENV=window.PLOTLYENV || {};                                    if (document.getElementById(\"be542832-86b9-4370-bffa-73038f8e33d1\")) {                    Plotly.newPlot(                        \"be542832-86b9-4370-bffa-73038f8e33d1\",                        [{\"alignmentgroup\":\"True\",\"boxpoints\":\"all\",\"hovertemplate\":\"Machine Learning Model=%{x}\\u003cbr\\u003eWeighted f1-Score=%{y}\\u003cextra\\u003e\\u003c\\u002fextra\\u003e\",\"legendgroup\":\"LR\",\"marker\":{\"color\":\"#636efa\"},\"name\":\"LR\",\"notched\":false,\"offsetgroup\":\"LR\",\"orientation\":\"v\",\"showlegend\":true,\"x\":[\"LR\",\"LR\",\"LR\",\"LR\",\"LR\",\"LR\",\"LR\",\"LR\",\"LR\",\"LR\"],\"x0\":\" \",\"xaxis\":\"x\",\"y\":[0.529315156924634,0.5306194751542238,0.5274614115532804,0.5309122011717069,0.5281860072240818,0.5357514853604065,0.5320014984491771,0.5247633406329142,0.5340439383346065,0.5202066689397552],\"y0\":\" \",\"yaxis\":\"y\",\"type\":\"box\"},{\"alignmentgroup\":\"True\",\"boxpoints\":\"all\",\"hovertemplate\":\"Machine Learning Model=%{x}\\u003cbr\\u003eWeighted f1-Score=%{y}\\u003cextra\\u003e\\u003c\\u002fextra\\u003e\",\"legendgroup\":\"Tree\",\"marker\":{\"color\":\"#EF553B\"},\"name\":\"Tree\",\"notched\":false,\"offsetgroup\":\"Tree\",\"orientation\":\"v\",\"showlegend\":true,\"x\":[\"Tree\",\"Tree\",\"Tree\",\"Tree\",\"Tree\",\"Tree\",\"Tree\",\"Tree\",\"Tree\",\"Tree\"],\"x0\":\" \",\"xaxis\":\"x\",\"y\":[0.4931682122860172,0.49245632787237165,0.49863916840600114,0.49515786041850346,0.49706625376776825,0.4920432533466739,0.4927424671230026,0.49341554575850777,0.49501867373143904,0.4917873403880771],\"y0\":\" \",\"yaxis\":\"y\",\"type\":\"box\"},{\"alignmentgroup\":\"True\",\"boxpoints\":\"all\",\"hovertemplate\":\"Machine Learning Model=%{x}\\u003cbr\\u003eWeighted f1-Score=%{y}\\u003cextra\\u003e\\u003c\\u002fextra\\u003e\",\"legendgroup\":\"GNB\",\"marker\":{\"color\":\"#00cc96\"},\"name\":\"GNB\",\"notched\":false,\"offsetgroup\":\"GNB\",\"orientation\":\"v\",\"showlegend\":true,\"x\":[\"GNB\",\"GNB\",\"GNB\",\"GNB\",\"GNB\",\"GNB\",\"GNB\",\"GNB\",\"GNB\",\"GNB\"],\"x0\":\" \",\"xaxis\":\"x\",\"y\":[0.49021277923226114,0.48816174819698194,0.5016366850721734,0.4890656186573671,0.4937436255807292,0.4931294872578772,0.4949186105771983,0.4991549262764149,0.4883404620898014,0.4896592647365606],\"y0\":\" \",\"yaxis\":\"y\",\"type\":\"box\"},{\"alignmentgroup\":\"True\",\"boxpoints\":\"all\",\"hovertemplate\":\"Machine Learning Model=%{x}\\u003cbr\\u003eWeighted f1-Score=%{y}\\u003cextra\\u003e\\u003c\\u002fextra\\u003e\",\"legendgroup\":\"RF\",\"marker\":{\"color\":\"#ab63fa\"},\"name\":\"RF\",\"notched\":false,\"offsetgroup\":\"RF\",\"orientation\":\"v\",\"showlegend\":true,\"x\":[\"RF\",\"RF\",\"RF\",\"RF\",\"RF\",\"RF\",\"RF\",\"RF\",\"RF\",\"RF\"],\"x0\":\" \",\"xaxis\":\"x\",\"y\":[0.5268325348619712,0.5278785608223694,0.5314309640067054,0.5279490923600485,0.5334489168226807,0.5265398940423172,0.5270847651884205,0.5254781228876413,0.5300933358293413,0.525503486035438],\"y0\":\" \",\"yaxis\":\"y\",\"type\":\"box\"},{\"alignmentgroup\":\"True\",\"boxpoints\":\"all\",\"hovertemplate\":\"Machine Learning Model=%{x}\\u003cbr\\u003eWeighted f1-Score=%{y}\\u003cextra\\u003e\\u003c\\u002fextra\\u003e\",\"legendgroup\":\"AdaBoost\",\"marker\":{\"color\":\"#FFA15A\"},\"name\":\"AdaBoost\",\"notched\":false,\"offsetgroup\":\"AdaBoost\",\"orientation\":\"v\",\"showlegend\":true,\"x\":[\"AdaBoost\",\"AdaBoost\",\"AdaBoost\",\"AdaBoost\",\"AdaBoost\",\"AdaBoost\",\"AdaBoost\",\"AdaBoost\",\"AdaBoost\",\"AdaBoost\"],\"x0\":\" \",\"xaxis\":\"x\",\"y\":[0.5458887905205806,0.5443515434955455,0.5438014129339345,0.5457740045623706,0.544170721306452,0.5481335068557304,0.5445097441306007,0.5414457151388743,0.5476941801042945,0.5344464846537132],\"y0\":\" \",\"yaxis\":\"y\",\"type\":\"box\"},{\"alignmentgroup\":\"True\",\"boxpoints\":\"all\",\"hovertemplate\":\"Machine Learning Model=%{x}\\u003cbr\\u003eWeighted f1-Score=%{y}\\u003cextra\\u003e\\u003c\\u002fextra\\u003e\",\"legendgroup\":\"Bagging\",\"marker\":{\"color\":\"#19d3f3\"},\"name\":\"Bagging\",\"notched\":false,\"offsetgroup\":\"Bagging\",\"orientation\":\"v\",\"showlegend\":true,\"x\":[\"Bagging\",\"Bagging\",\"Bagging\",\"Bagging\",\"Bagging\",\"Bagging\",\"Bagging\",\"Bagging\",\"Bagging\",\"Bagging\"],\"x0\":\" \",\"xaxis\":\"x\",\"y\":[0.5305162332083325,0.529254402470678,0.535750880472209,0.5343105303701804,0.53521067593583,0.5325000819195643,0.5307217992851458,0.5307436891982389,0.5323009230045123,0.5291765004838385],\"y0\":\" \",\"yaxis\":\"y\",\"type\":\"box\"},{\"alignmentgroup\":\"True\",\"boxpoints\":\"all\",\"hovertemplate\":\"Machine Learning Model=%{x}\\u003cbr\\u003eWeighted f1-Score=%{y}\\u003cextra\\u003e\\u003c\\u002fextra\\u003e\",\"legendgroup\":\"GBM\",\"marker\":{\"color\":\"#FF6692\"},\"name\":\"GBM\",\"notched\":false,\"offsetgroup\":\"GBM\",\"orientation\":\"v\",\"showlegend\":true,\"x\":[\"GBM\",\"GBM\",\"GBM\",\"GBM\",\"GBM\",\"GBM\",\"GBM\",\"GBM\",\"GBM\",\"GBM\"],\"x0\":\" \",\"xaxis\":\"x\",\"y\":[0.5441353739471555,0.5470166197593085,0.5438445633803343,0.5440758616000112,0.5415806113775892,0.5469897919920323,0.5486940445436167,0.5411420098538201,0.5439204630045,0.5379000128471751],\"y0\":\" \",\"yaxis\":\"y\",\"type\":\"box\"},{\"alignmentgroup\":\"True\",\"boxpoints\":\"all\",\"hovertemplate\":\"Machine Learning Model=%{x}\\u003cbr\\u003eWeighted f1-Score=%{y}\\u003cextra\\u003e\\u003c\\u002fextra\\u003e\",\"legendgroup\":\"XGB\",\"marker\":{\"color\":\"#B6E880\"},\"name\":\"XGB\",\"notched\":false,\"offsetgroup\":\"XGB\",\"orientation\":\"v\",\"showlegend\":true,\"x\":[\"XGB\",\"XGB\",\"XGB\",\"XGB\",\"XGB\",\"XGB\",\"XGB\",\"XGB\",\"XGB\",\"XGB\"],\"x0\":\" \",\"xaxis\":\"x\",\"y\":[0.5559134871731306,0.5536083694618409,0.5512097489754343,0.5551107100753496,0.5516901629328173,0.5590246002838755,0.5580970876343704,0.5472750973416809,0.555179334886721,0.5469519120204224],\"y0\":\" \",\"yaxis\":\"y\",\"type\":\"box\"},{\"alignmentgroup\":\"True\",\"boxpoints\":\"all\",\"hovertemplate\":\"Machine Learning Model=%{x}\\u003cbr\\u003eWeighted f1-Score=%{y}\\u003cextra\\u003e\\u003c\\u002fextra\\u003e\",\"legendgroup\":\"CatBoost\",\"marker\":{\"color\":\"#FF97FF\"},\"name\":\"CatBoost\",\"notched\":false,\"offsetgroup\":\"CatBoost\",\"orientation\":\"v\",\"showlegend\":true,\"x\":[\"CatBoost\",\"CatBoost\",\"CatBoost\",\"CatBoost\",\"CatBoost\",\"CatBoost\",\"CatBoost\",\"CatBoost\",\"CatBoost\",\"CatBoost\"],\"x0\":\" \",\"xaxis\":\"x\",\"y\":[0.5572887775047468,0.5548840542216787,0.555143535218354,0.5576191335741069,0.555139943217971,0.5621122287357855,0.560766905924603,0.549894267547524,0.5565083125332195,0.5492683442810192],\"y0\":\" \",\"yaxis\":\"y\",\"type\":\"box\"}],                        {\"template\":{\"data\":{\"histogram2dcontour\":[{\"type\":\"histogram2dcontour\",\"colorbar\":{\"outlinewidth\":0,\"ticks\":\"\"},\"colorscale\":[[0.0,\"#0d0887\"],[0.1111111111111111,\"#46039f\"],[0.2222222222222222,\"#7201a8\"],[0.3333333333333333,\"#9c179e\"],[0.4444444444444444,\"#bd3786\"],[0.5555555555555556,\"#d8576b\"],[0.6666666666666666,\"#ed7953\"],[0.7777777777777778,\"#fb9f3a\"],[0.8888888888888888,\"#fdca26\"],[1.0,\"#f0f921\"]]}],\"choropleth\":[{\"type\":\"choropleth\",\"colorbar\":{\"outlinewidth\":0,\"ticks\":\"\"}}],\"histogram2d\":[{\"type\":\"histogram2d\",\"colorbar\":{\"outlinewidth\":0,\"ticks\":\"\"},\"colorscale\":[[0.0,\"#0d0887\"],[0.1111111111111111,\"#46039f\"],[0.2222222222222222,\"#7201a8\"],[0.3333333333333333,\"#9c179e\"],[0.4444444444444444,\"#bd3786\"],[0.5555555555555556,\"#d8576b\"],[0.6666666666666666,\"#ed7953\"],[0.7777777777777778,\"#fb9f3a\"],[0.8888888888888888,\"#fdca26\"],[1.0,\"#f0f921\"]]}],\"heatmap\":[{\"type\":\"heatmap\",\"colorbar\":{\"outlinewidth\":0,\"ticks\":\"\"},\"colorscale\":[[0.0,\"#0d0887\"],[0.1111111111111111,\"#46039f\"],[0.2222222222222222,\"#7201a8\"],[0.3333333333333333,\"#9c179e\"],[0.4444444444444444,\"#bd3786\"],[0.5555555555555556,\"#d8576b\"],[0.6666666666666666,\"#ed7953\"],[0.7777777777777778,\"#fb9f3a\"],[0.8888888888888888,\"#fdca26\"],[1.0,\"#f0f921\"]]}],\"heatmapgl\":[{\"type\":\"heatmapgl\",\"colorbar\":{\"outlinewidth\":0,\"ticks\":\"\"},\"colorscale\":[[0.0,\"#0d0887\"],[0.1111111111111111,\"#46039f\"],[0.2222222222222222,\"#7201a8\"],[0.3333333333333333,\"#9c179e\"],[0.4444444444444444,\"#bd3786\"],[0.5555555555555556,\"#d8576b\"],[0.6666666666666666,\"#ed7953\"],[0.7777777777777778,\"#fb9f3a\"],[0.8888888888888888,\"#fdca26\"],[1.0,\"#f0f921\"]]}],\"contourcarpet\":[{\"type\":\"contourcarpet\",\"colorbar\":{\"outlinewidth\":0,\"ticks\":\"\"}}],\"contour\":[{\"type\":\"contour\",\"colorbar\":{\"outlinewidth\":0,\"ticks\":\"\"},\"colorscale\":[[0.0,\"#0d0887\"],[0.1111111111111111,\"#46039f\"],[0.2222222222222222,\"#7201a8\"],[0.3333333333333333,\"#9c179e\"],[0.4444444444444444,\"#bd3786\"],[0.5555555555555556,\"#d8576b\"],[0.6666666666666666,\"#ed7953\"],[0.7777777777777778,\"#fb9f3a\"],[0.8888888888888888,\"#fdca26\"],[1.0,\"#f0f921\"]]}],\"surface\":[{\"type\":\"surface\",\"colorbar\":{\"outlinewidth\":0,\"ticks\":\"\"},\"colorscale\":[[0.0,\"#0d0887\"],[0.1111111111111111,\"#46039f\"],[0.2222222222222222,\"#7201a8\"],[0.3333333333333333,\"#9c179e\"],[0.4444444444444444,\"#bd3786\"],[0.5555555555555556,\"#d8576b\"],[0.6666666666666666,\"#ed7953\"],[0.7777777777777778,\"#fb9f3a\"],[0.8888888888888888,\"#fdca26\"],[1.0,\"#f0f921\"]]}],\"mesh3d\":[{\"type\":\"mesh3d\",\"colorbar\":{\"outlinewidth\":0,\"ticks\":\"\"}}],\"scatter\":[{\"fillpattern\":{\"fillmode\":\"overlay\",\"size\":10,\"solidity\":0.2},\"type\":\"scatter\"}],\"parcoords\":[{\"type\":\"parcoords\",\"line\":{\"colorbar\":{\"outlinewidth\":0,\"ticks\":\"\"}}}],\"scatterpolargl\":[{\"type\":\"scatterpolargl\",\"marker\":{\"colorbar\":{\"outlinewidth\":0,\"ticks\":\"\"}}}],\"bar\":[{\"error_x\":{\"color\":\"#2a3f5f\"},\"error_y\":{\"color\":\"#2a3f5f\"},\"marker\":{\"line\":{\"color\":\"#E5ECF6\",\"width\":0.5},\"pattern\":{\"fillmode\":\"overlay\",\"size\":10,\"solidity\":0.2}},\"type\":\"bar\"}],\"scattergeo\":[{\"type\":\"scattergeo\",\"marker\":{\"colorbar\":{\"outlinewidth\":0,\"ticks\":\"\"}}}],\"scatterpolar\":[{\"type\":\"scatterpolar\",\"marker\":{\"colorbar\":{\"outlinewidth\":0,\"ticks\":\"\"}}}],\"histogram\":[{\"marker\":{\"pattern\":{\"fillmode\":\"overlay\",\"size\":10,\"solidity\":0.2}},\"type\":\"histogram\"}],\"scattergl\":[{\"type\":\"scattergl\",\"marker\":{\"colorbar\":{\"outlinewidth\":0,\"ticks\":\"\"}}}],\"scatter3d\":[{\"type\":\"scatter3d\",\"line\":{\"colorbar\":{\"outlinewidth\":0,\"ticks\":\"\"}},\"marker\":{\"colorbar\":{\"outlinewidth\":0,\"ticks\":\"\"}}}],\"scattermapbox\":[{\"type\":\"scattermapbox\",\"marker\":{\"colorbar\":{\"outlinewidth\":0,\"ticks\":\"\"}}}],\"scatterternary\":[{\"type\":\"scatterternary\",\"marker\":{\"colorbar\":{\"outlinewidth\":0,\"ticks\":\"\"}}}],\"scattercarpet\":[{\"type\":\"scattercarpet\",\"marker\":{\"colorbar\":{\"outlinewidth\":0,\"ticks\":\"\"}}}],\"carpet\":[{\"aaxis\":{\"endlinecolor\":\"#2a3f5f\",\"gridcolor\":\"white\",\"linecolor\":\"white\",\"minorgridcolor\":\"white\",\"startlinecolor\":\"#2a3f5f\"},\"baxis\":{\"endlinecolor\":\"#2a3f5f\",\"gridcolor\":\"white\",\"linecolor\":\"white\",\"minorgridcolor\":\"white\",\"startlinecolor\":\"#2a3f5f\"},\"type\":\"carpet\"}],\"table\":[{\"cells\":{\"fill\":{\"color\":\"#EBF0F8\"},\"line\":{\"color\":\"white\"}},\"header\":{\"fill\":{\"color\":\"#C8D4E3\"},\"line\":{\"color\":\"white\"}},\"type\":\"table\"}],\"barpolar\":[{\"marker\":{\"line\":{\"color\":\"#E5ECF6\",\"width\":0.5},\"pattern\":{\"fillmode\":\"overlay\",\"size\":10,\"solidity\":0.2}},\"type\":\"barpolar\"}],\"pie\":[{\"automargin\":true,\"type\":\"pie\"}]},\"layout\":{\"autotypenumbers\":\"strict\",\"colorway\":[\"#636efa\",\"#EF553B\",\"#00cc96\",\"#ab63fa\",\"#FFA15A\",\"#19d3f3\",\"#FF6692\",\"#B6E880\",\"#FF97FF\",\"#FECB52\"],\"font\":{\"color\":\"#2a3f5f\"},\"hovermode\":\"closest\",\"hoverlabel\":{\"align\":\"left\"},\"paper_bgcolor\":\"white\",\"plot_bgcolor\":\"#E5ECF6\",\"polar\":{\"bgcolor\":\"#E5ECF6\",\"angularaxis\":{\"gridcolor\":\"white\",\"linecolor\":\"white\",\"ticks\":\"\"},\"radialaxis\":{\"gridcolor\":\"white\",\"linecolor\":\"white\",\"ticks\":\"\"}},\"ternary\":{\"bgcolor\":\"#E5ECF6\",\"aaxis\":{\"gridcolor\":\"white\",\"linecolor\":\"white\",\"ticks\":\"\"},\"baxis\":{\"gridcolor\":\"white\",\"linecolor\":\"white\",\"ticks\":\"\"},\"caxis\":{\"gridcolor\":\"white\",\"linecolor\":\"white\",\"ticks\":\"\"}},\"coloraxis\":{\"colorbar\":{\"outlinewidth\":0,\"ticks\":\"\"}},\"colorscale\":{\"sequential\":[[0.0,\"#0d0887\"],[0.1111111111111111,\"#46039f\"],[0.2222222222222222,\"#7201a8\"],[0.3333333333333333,\"#9c179e\"],[0.4444444444444444,\"#bd3786\"],[0.5555555555555556,\"#d8576b\"],[0.6666666666666666,\"#ed7953\"],[0.7777777777777778,\"#fb9f3a\"],[0.8888888888888888,\"#fdca26\"],[1.0,\"#f0f921\"]],\"sequentialminus\":[[0.0,\"#0d0887\"],[0.1111111111111111,\"#46039f\"],[0.2222222222222222,\"#7201a8\"],[0.3333333333333333,\"#9c179e\"],[0.4444444444444444,\"#bd3786\"],[0.5555555555555556,\"#d8576b\"],[0.6666666666666666,\"#ed7953\"],[0.7777777777777778,\"#fb9f3a\"],[0.8888888888888888,\"#fdca26\"],[1.0,\"#f0f921\"]],\"diverging\":[[0,\"#8e0152\"],[0.1,\"#c51b7d\"],[0.2,\"#de77ae\"],[0.3,\"#f1b6da\"],[0.4,\"#fde0ef\"],[0.5,\"#f7f7f7\"],[0.6,\"#e6f5d0\"],[0.7,\"#b8e186\"],[0.8,\"#7fbc41\"],[0.9,\"#4d9221\"],[1,\"#276419\"]]},\"xaxis\":{\"gridcolor\":\"white\",\"linecolor\":\"white\",\"ticks\":\"\",\"title\":{\"standoff\":15},\"zerolinecolor\":\"white\",\"automargin\":true,\"zerolinewidth\":2},\"yaxis\":{\"gridcolor\":\"white\",\"linecolor\":\"white\",\"ticks\":\"\",\"title\":{\"standoff\":15},\"zerolinecolor\":\"white\",\"automargin\":true,\"zerolinewidth\":2},\"scene\":{\"xaxis\":{\"backgroundcolor\":\"#E5ECF6\",\"gridcolor\":\"white\",\"linecolor\":\"white\",\"showbackground\":true,\"ticks\":\"\",\"zerolinecolor\":\"white\",\"gridwidth\":2},\"yaxis\":{\"backgroundcolor\":\"#E5ECF6\",\"gridcolor\":\"white\",\"linecolor\":\"white\",\"showbackground\":true,\"ticks\":\"\",\"zerolinecolor\":\"white\",\"gridwidth\":2},\"zaxis\":{\"backgroundcolor\":\"#E5ECF6\",\"gridcolor\":\"white\",\"linecolor\":\"white\",\"showbackground\":true,\"ticks\":\"\",\"zerolinecolor\":\"white\",\"gridwidth\":2}},\"shapedefaults\":{\"line\":{\"color\":\"#2a3f5f\"}},\"annotationdefaults\":{\"arrowcolor\":\"#2a3f5f\",\"arrowhead\":0,\"arrowwidth\":1},\"geo\":{\"bgcolor\":\"white\",\"landcolor\":\"#E5ECF6\",\"subunitcolor\":\"white\",\"showland\":true,\"showlakes\":true,\"lakecolor\":\"white\"},\"title\":{\"x\":0.05},\"mapbox\":{\"style\":\"light\"}}},\"xaxis\":{\"anchor\":\"y\",\"domain\":[0.0,1.0],\"title\":{\"text\":\"Machine Learning Model\"},\"categoryorder\":\"array\",\"categoryarray\":[\"LR\",\"Tree\",\"GNB\",\"RF\",\"AdaBoost\",\"Bagging\",\"GBM\",\"XGB\",\"CatBoost\"]},\"yaxis\":{\"anchor\":\"x\",\"domain\":[0.0,1.0],\"title\":{\"text\":\"Weighted f1-Score\"}},\"legend\":{\"title\":{\"text\":\"Machine Learning Model\"},\"tracegroupgap\":0},\"title\":{\"text\":\"Model Weighted f1-Score Performance\"},\"boxmode\":\"overlay\"},                        {\"responsive\": true}                    ).then(function(){\n",
       "                            \n",
       "var gd = document.getElementById('be542832-86b9-4370-bffa-73038f8e33d1');\n",
       "var x = new MutationObserver(function (mutations, observer) {{\n",
       "        var display = window.getComputedStyle(gd).display;\n",
       "        if (!display || display === 'none') {{\n",
       "            console.log([gd, 'removed!']);\n",
       "            Plotly.purge(gd);\n",
       "            observer.disconnect();\n",
       "        }}\n",
       "}});\n",
       "\n",
       "// Listen for the removal of the full notebook cells\n",
       "var notebookContainer = gd.closest('#notebook-container');\n",
       "if (notebookContainer) {{\n",
       "    x.observe(notebookContainer, {childList: true});\n",
       "}}\n",
       "\n",
       "// Listen for the clearing of the current output cell\n",
       "var outputEl = gd.closest('.output');\n",
       "if (outputEl) {{\n",
       "    x.observe(outputEl, {childList: true});\n",
       "}}\n",
       "\n",
       "                        })                };                });            </script>        </div>"
      ]
     },
     "metadata": {},
     "output_type": "display_data"
    }
   ],
   "source": [
    "results['Model'] = names\n",
    "results['Accuracy'] = accuracies\n",
    "results['Weighted F1'] = weighted_f1s\n",
    "\n",
    "classifmod = pd.DataFrame(results)\n",
    "\n",
    "fig = px.box(classifmod, x=\"Model\", y=\"Weighted_F1\", color=\"Model\", points='all',\n",
    "             labels={\"Model\": \"Machine Learning Model\",\n",
    "                     \"Weighted_F1\": \"Weighted f1-Score\"},\n",
    "             title=\"Model Weighted f1-Score Performance\")\n",
    "fig.show()\n",
    "fig.write_html(\"products/plots/model_train_weighted_f1.html\")"
   ]
  },
  {
   "cell_type": "markdown",
   "metadata": {},
   "source": [
    "## Testing Performance Confusion Matrices"
   ]
  },
  {
   "cell_type": "code",
   "execution_count": 173,
   "metadata": {},
   "outputs": [
    {
     "data": {
      "image/png": "[encoded data removed]",
      "text/plain": [
       "<Figure size 500x500 with 1 Axes>"
      ]
     },
     "metadata": {},
     "output_type": "display_data"
    },
    {
     "data": {
      "image/png": "[encoded data removed]",
      "text/plain": [
       "<Figure size 500x500 with 1 Axes>"
      ]
     },
     "metadata": {},
     "output_type": "display_data"
    },
    {
     "data": {
      "image/png": "[encoded data removed]",
      "text/plain": [
       "<Figure size 500x500 with 1 Axes>"
      ]
     },
     "metadata": {},
     "output_type": "display_data"
    },
    {
     "data": {
      "image/png": "[encoded data removed]",
      "text/plain": [
       "<Figure size 500x500 with 1 Axes>"
      ]
     },
     "metadata": {},
     "output_type": "display_data"
    },
    {
     "data": {
      "image/png": "[encoded data removed]",
      "text/plain": [
       "<Figure size 500x500 with 1 Axes>"
      ]
     },
     "metadata": {},
     "output_type": "display_data"
    },
    {
     "data": {
      "image/png": "[encoded data removed]",
      "text/plain": [
       "<Figure size 500x500 with 1 Axes>"
      ]
     },
     "metadata": {},
     "output_type": "display_data"
    },
    {
     "data": {
      "image/png": "[encoded data removed]",
      "text/plain": [
       "<Figure size 500x500 with 1 Axes>"
      ]
     },
     "metadata": {},
     "output_type": "display_data"
    },
    {
     "data": {
      "image/png": "[encoded data removed]",
      "text/plain": [
       "<Figure size 500x500 with 1 Axes>"
      ]
     },
     "metadata": {},
     "output_type": "display_data"
    },
    {
     "data": {
      "image/png": "[encoded data removed]",
      "text/plain": [
       "<Figure size 500x500 with 1 Axes>"
      ]
     },
     "metadata": {},
     "output_type": "display_data"
    }
   ],
   "source": [
    "# Plot confusion matrices\n",
    "for name, matrix in confusion_matrices.items():\n",
    "    plt.figure(figsize=(5, 5))\n",
    "    sns.heatmap(matrix, annot=True, fmt=\"d\", cmap=\"YlGnBu\", cbar=False,\n",
    "                xticklabels=[\"Extras\", \"Dot\", \"Runs\", \"Wicket\"],\n",
    "                yticklabels=[\"Extras\", \"Dot\", \"Runs\", \"Wicket\"])\n",
    "    plt.xlabel(\"Predicted\")\n",
    "    plt.ylabel(\"Actual\")\n",
    "    plt.title(f\"Confusion Matrix - {name}\")\n",
    "    plt.savefig(f\"products/plots/confusion_matrix_{name}.png\")\n",
    "    plt.show()"
   ]
  },
  {
   "cell_type": "markdown",
   "metadata": {},
   "source": [
    "In our multi-class classification project of predicting ball outcomes in cricket, we evaluated several algorithms, including boosting  (Adaboost, XGBoost, Gradient Boosting, and CatBoost), Gaussian Naive Bayes, Logistic Regression, and Decision Trees. Each of these algorithms exhibit unique strengths and weaknesses, and the choice between them involves striking a balance between different aspects of performance that are discussed below.\n",
    "\n",
    "**Accuracy vs. Precision and Recall**:\n",
    "\n",
    "Accuracy, while an essential metric, might not be the sole measure of a model's effectiveness, especially in this imbalanced dataset, where two classes, Extras and Runs, significantly outnumber the others, Dots and Wickets. As can be seen from the confusion matrices above, majority classes dominate the accuracy metric, leading to a misrespresentative view of holistic model performance. In cricket, especially in the scenario of betting, correctly predicting the minority class, Wickets, is of paramount importance.\n",
    "\n",
    "Precision and recall are crucial metrics in such cases. Precision measures the accuracy of positive predictions, while recall gauges the model's ability to find all the relevant cases in a dataset. From the confusion matrices, we observed that Naive Bayes and Decision Tree (DTree) models exhibited better precision and recall for minority classes. This means that when these models predict a wicket or a boundary ball, they are more likely to be correct. In a business or real-world setting, this could translate to better decision-making and assist organizations that are trying to track illegal betting activity.\n",
    "\n",
    "**Assessing Trade-Offs and Choosing the Right Model**:\n",
    "\n",
    "Machine learning models often involve trade-offs. Boosting algorithms, while achieving high overall accuracy and weighted F1 scores, might sometimes sacrifice precision and recall for minority classes in favor of generalizing patterns across the majority class. On the other hand, Naive Bayes and Decision Tree models, being less complex, can capture intricate details in minority classes but might not generalize as well on the majority class.\n",
    "\n",
    "Therefore, choosing the right model depends on the specific objectives of our prediction task and, eventually, the user who will be utilizing our deployed application. If the focus is on correctly identifying wickets and boundary balls, we might prioritize models like Naive Bayes or Decision Trees. However, if a more balanced performance across all classes is desired, as showcased by Weighted F1-Score, the boosting algorithms could be a better choice.\n",
    "\n",
    "**Next Steps**:\n",
    "\n",
    "Next, we shall implement a simple `LGBMClassifier` to see if we can improve the performance of our models. We shall also try tuning the parameters of selected boosting models using `RandomizedSearchCV` to obtain better generalization performance on the minority classes. Fianlly, we will build a stacked classifier with Naive Bayes and Decision Tree as the base estimators and CatBoost as the meta-estimator. We shall then compare the performance of these models with the ones we have already built."
   ]
  },
  {
   "cell_type": "markdown",
   "metadata": {},
   "source": [
    "## LightGBM Experiment "
   ]
  },
  {
   "cell_type": "code",
   "execution_count": 176,
   "metadata": {},
   "outputs": [
    {
     "name": "stdout",
     "output_type": "stream",
     "text": [
      "[LightGBM] [Info] Auto-choosing row-wise multi-threading, the overhead of testing was 0.001597 seconds.\n",
      "You can set `force_row_wise=true` to remove the overhead.\n",
      "And if memory is not enough, you can set `force_col_wise=true`.\n",
      "[LightGBM] [Info] Total Bins 489\n",
      "[LightGBM] [Info] Number of data points in the train set: 117757, number of used features: 54\n",
      "[LightGBM] [Info] Start training from score -1.196053\n",
      "[LightGBM] [Info] Start training from score -2.908271\n",
      "[LightGBM] [Info] Start training from score -0.521043\n",
      "[LightGBM] [Info] Start training from score -3.013009\n",
      "Accuracy Score:  0.6345127773097444\n",
      "Weighted F1 Score:  0.5581512338764404\n",
      "Classification Report: \n",
      "               precision    recall  f1-score   support\n",
      "\n",
      "           0       0.58      0.21      0.31      4260\n",
      "           1       0.00      0.00      0.00       654\n",
      "           2       0.64      0.94      0.76      8661\n",
      "           3       0.73      0.04      0.08       669\n",
      "\n",
      "    accuracy                           0.63     14244\n",
      "   macro avg       0.49      0.30      0.29     14244\n",
      "weighted avg       0.60      0.63      0.56     14244\n",
      "\n",
      "Confusion Matrix: \n",
      " [[ 886    0 3369    5]\n",
      " [  44    0  610    0]\n",
      " [ 531    0 8125    5]\n",
      " [  64    0  578   27]]\n"
     ]
    },
    {
     "name": "stderr",
     "output_type": "stream",
     "text": [
      "c:\\Program Files\\Python310\\lib\\site-packages\\sklearn\\metrics\\_classification.py:1469: UndefinedMetricWarning:\n",
      "\n",
      "Precision and F-score are ill-defined and being set to 0.0 in labels with no predicted samples. Use `zero_division` parameter to control this behavior.\n",
      "\n",
      "c:\\Program Files\\Python310\\lib\\site-packages\\sklearn\\metrics\\_classification.py:1469: UndefinedMetricWarning:\n",
      "\n",
      "Precision and F-score are ill-defined and being set to 0.0 in labels with no predicted samples. Use `zero_division` parameter to control this behavior.\n",
      "\n",
      "c:\\Program Files\\Python310\\lib\\site-packages\\sklearn\\metrics\\_classification.py:1469: UndefinedMetricWarning:\n",
      "\n",
      "Precision and F-score are ill-defined and being set to 0.0 in labels with no predicted samples. Use `zero_division` parameter to control this behavior.\n",
      "\n"
     ]
    }
   ],
   "source": [
    "from sklearn.metrics import accuracy_score, f1_score\n",
    "from lightgbm import LGBMClassifier\n",
    "LGBM = LGBMClassifier()\n",
    "\n",
    "LGBM.fit(X_train, y_train)\n",
    "\n",
    "y_pred = LGBM.predict(X_test)\n",
    "\n",
    "print('Accuracy Score: ', accuracy_score(y_test, y_pred))\n",
    "\n",
    "print('Weighted F1 Score: ', f1_score(y_test, y_pred, average='weighted'))\n",
    "\n",
    "print('Classification Report: \\n', classification_report(y_test, y_pred))\n",
    "\n",
    "print('Confusion Matrix: \\n', confusion_matrix(y_test, y_pred))"
   ]
  },
  {
   "cell_type": "markdown",
   "metadata": {},
   "source": [
    "# Hyperparameter Tuning With `RandomizedSearchCV`\n",
    "\n",
    "## XGBoost"
   ]
  },
  {
   "cell_type": "code",
   "execution_count": 118,
   "metadata": {},
   "outputs": [
    {
     "name": "stderr",
     "output_type": "stream",
     "text": [
      "/Users/Tegveer/miniforge3/envs/ANLY501/lib/python3.9/site-packages/joblib/externals/loky/process_executor.py:752: UserWarning:\n",
      "\n",
      "A worker stopped while some jobs were given to the executor. This can be caused by a too short worker timeout or by a memory leak.\n",
      "\n"
     ]
    },
    {
     "name": "stdout",
     "output_type": "stream",
     "text": [
      "The best parameters after tuning are:  {'learning_rate': 1, 'gamma': 2, 'booster': 'dart'}\n",
      "The best model after tuning looks like:  XGBClassifier(base_score=None, booster='dart', callbacks=None,\n",
      "              colsample_bylevel=None, colsample_bynode=None,\n",
      "              colsample_bytree=None, device=None, early_stopping_rounds=None,\n",
      "              enable_categorical=False, eval_metric=None, feature_types=None,\n",
      "              gamma=2, grow_policy=None, importance_type=None,\n",
      "              interaction_constraints=None, learning_rate=1, max_bin=None,\n",
      "              max_cat_threshold=None, max_cat_to_onehot=None,\n",
      "              max_delta_step=None, max_depth=None, max_leaves=None,\n",
      "              min_child_weight=None, missing=nan, monotone_constraints=None,\n",
      "              multi_strategy=None, n_estimators=None, n_jobs=None,\n",
      "              num_parallel_tree=None, objective='multi:softprob', ...)\n",
      "Grid-Search Tuned XGBoost Test Set Accuracy: 55.88 %\n"
     ]
    }
   ],
   "source": [
    "# defining parameter range\n",
    "param_search = {\n",
    "    #'max_depth': [2, 5, 10, 20],\n",
    "    #'max_leaves': [0, 1, 3, 5],\n",
    "    'learning_rate': [1, 0.1, 0.01],\n",
    "    #'n_estimators': [50, 100],\n",
    "    'booster': ['gbtree', 'gblinear', 'dart'],\n",
    "    'gamma': [0, 0.5, 2, 5],\n",
    "    #'min_child_weight': [0, 1, 3, 5],\n",
    "}\n",
    "\n",
    "search = RandomizedSearchCV(XGBClassifier(verbosity=0), param_search, refit = True, verbose = 0, n_iter=25, scoring='f1_weighted', cv = 5, n_jobs=-1)\n",
    "\n",
    "search.fit(X_train, y_train)\n",
    "\n",
    "# print best parameter after tuning\n",
    "print(\"The best parameters after tuning are: \", search.best_params_)\n",
    "\n",
    "# print how our model looks after hyper-parameter tuning\n",
    "print(\"The best model after tuning looks like: \",search.best_estimator_)\n",
    "\n",
    "# Save to file in the current working directory\n",
    "pkl_filename = \"products/pickle_files/XGB_Rand_Tuned.pkl\"\n",
    "with open(pkl_filename, 'wb') as file:\n",
    "  pickle.dump(search, file)\n",
    "\n",
    "# Load from file\n",
    "with open(pkl_filename, 'rb') as file:\n",
    "  pickle_model = pickle.load(file)\n",
    "  score = pickle_model.score(X_test, y_test)\n",
    "  print(\"Grid-Search Tuned XGBoost Test Set Accuracy: {0:.2f} %\".format(100 * score))\n",
    "  search_predictions = pickle_model.predict(X_test)"
   ]
  },
  {
   "cell_type": "code",
   "execution_count": 121,
   "metadata": {},
   "outputs": [
    {
     "data": {
      "image/png": "[encoded data removed]",
      "text/plain": [
       "<Figure size 640x480 with 2 Axes>"
      ]
     },
     "metadata": {},
     "output_type": "display_data"
    }
   ],
   "source": [
    "conf_matrix = confusion_matrix(y_test, search_predictions)\n",
    "disp = ConfusionMatrixDisplay(confusion_matrix=conf_matrix, display_labels=[\"Extras\", \"Dot\", \"Runs\", \"Wicket\"], )\n",
    "\n",
    "# save the plot\n",
    "\n",
    "disp.plot(cmap='YlGnBu',values_format='d',ax=None)\n",
    "plt.title('Test Set Confusion Matrix for Random-Search Tuned XGBoost', fontsize=15, color='#336699',loc='center')\n",
    "plt.savefig('products/plots/confusion_matrix_XGB_Rand_Tuned.png')"
   ]
  },
  {
   "cell_type": "markdown",
   "metadata": {},
   "source": [
    "## AdaBoost"
   ]
  },
  {
   "cell_type": "code",
   "execution_count": 128,
   "metadata": {},
   "outputs": [
    {
     "name": "stderr",
     "output_type": "stream",
     "text": [
      "/Users/Tegveer/miniforge3/envs/ANLY501/lib/python3.9/site-packages/sklearn/model_selection/_search.py:307: UserWarning:\n",
      "\n",
      "The total space of parameters 1 is smaller than n_iter=25. Running 1 iterations. For exhaustive searches, use GridSearchCV.\n",
      "\n"
     ]
    },
    {
     "name": "stdout",
     "output_type": "stream",
     "text": [
      "The best parameters after tuning are:  {'n_estimators': 500, 'learning_rate': 1}\n",
      "The best model after tuning looks like:  AdaBoostClassifier(learning_rate=1, n_estimators=500)\n",
      "Grid-Search Tuned XGBoost Test Set Accuracy: 55.67 %\n"
     ]
    }
   ],
   "source": [
    "    # defining parameter range\n",
    "param_search = {\n",
    "    'learning_rate': [1, 0.1, 0.01],\n",
    "    'n_estimators': [50, 100, 200],\n",
    "    'estimator': [DecisionTreeClassifier(), Sup],\n",
    "}\n",
    "\n",
    "search = RandomizedSearchCV(AdaBoostClassifier(), param_search, refit = True, verbose = 0, n_iter=25, scoring='f1_weighted', cv = 5, n_jobs=-1)\n",
    "\n",
    "search.fit(X_train, y_train)\n",
    "\n",
    "# print best parameter after tuning\n",
    "print(\"The best parameters after tuning are: \", search.best_params_)\n",
    "\n",
    "# print how our model looks after hyper-parameter tuning\n",
    "print(\"The best model after tuning looks like: \",search.best_estimator_)\n",
    "\n",
    "# Save to file in the current working directory\n",
    "pkl_filename = \"products/pickle_files/Ada_Rand_Tuned.pkl\"\n",
    "with open(pkl_filename, 'wb') as file:\n",
    "  pickle.dump(search, file)\n",
    "\n",
    "# Load from file\n",
    "with open(pkl_filename, 'rb') as file:\n",
    "  pickle_model = pickle.load(file)\n",
    "  score = pickle_model.score(X_test, y_test)\n",
    "  print(\"Grid-Search Tuned XGBoost Test Set Accuracy: {0:.2f} %\".format(100 * score))\n",
    "  search_predictions = pickle_model.predict(X_test)"
   ]
  },
  {
   "cell_type": "code",
   "execution_count": 140,
   "metadata": {},
   "outputs": [
    {
     "data": {
      "image/png": "[encoded data removed]",
      "text/plain": [
       "<Figure size 640x480 with 2 Axes>"
      ]
     },
     "metadata": {},
     "output_type": "display_data"
    }
   ],
   "source": [
    "conf_matrix = confusion_matrix(y_test, search_predictions)\n",
    "disp = ConfusionMatrixDisplay(confusion_matrix=conf_matrix, display_labels=[\"Extras\", \"Dot\", \"Runs\", \"Wicket\"], )\n",
    "\n",
    "# save the plot\n",
    "\n",
    "disp.plot(cmap='YlGnBu',values_format='d',ax=None)\n",
    "plt.title('Test Set Confusion Matrix for Random-Search Tuned AdaBoost', fontsize=15, color='#336699',loc='center')\n",
    "plt.savefig('products/plots/confusion_matrix_Ada_Rand_Tuned.png')"
   ]
  },
  {
   "cell_type": "code",
   "execution_count": null,
   "metadata": {},
   "outputs": [],
   "source": [
    "# remove all pickle files for smooth git push\n",
    "\n",
    "for name, model in models.items():\n",
    "    pkl_filename = f\"products/pickle_files/{name}.pkl\"\n",
    "    os.remove(pkl_filename)"
   ]
  },
  {
   "cell_type": "markdown",
   "metadata": {},
   "source": [
    "Hyperparameter tuning, unfortunately, resulted in worse performing models. The default parameters of the boosting algorithms seem to be the best fit for our data. Let's now build a `StackingClassifier` with Naive Bayes and Decision Tree as the base estimators and CatBoost as the meta-estimator."
   ]
  },
  {
   "cell_type": "markdown",
   "metadata": {},
   "source": [
    "# Creating The Stacked Classifier"
   ]
  },
  {
   "cell_type": "code",
   "execution_count": 153,
   "metadata": {},
   "outputs": [],
   "source": [
    "def get_stacking():\n",
    "    # define the base models\n",
    "    level0 = list()\n",
    "    level0.append((\"GNB\", GaussianNB()))\n",
    "    level0.append((\"Tree\", DecisionTreeClassifier()))\n",
    "    # define meta learner model\n",
    "\n",
    "    level1 = CatBoostClassifier(verbose=0)\n",
    "\n",
    "    # define the stacking ensemble\n",
    "    model = StackingClassifier(estimators=level0, final_estimator=level1, cv=10)\n",
    "\n",
    "    return model\n",
    "\n",
    "def base_models():\n",
    "    models = dict()\n",
    "    models[\"GNB\"] = GaussianNB()\n",
    "    models[\"Tree\"] = DecisionTreeClassifier()\n",
    "    models[\"XGB\"] = XGBClassifier(verbosity=0)\n",
    "    models[\"Stacked Model\"] = get_stacking()\n",
    "    return models\n",
    "\n",
    "# Function to evaluate the list of models\n",
    "def eval_models(model):\n",
    "    cv = RepeatedKFold(n_splits=5, n_repeats=2, random_state=1)\n",
    "    accuracy = cross_val_score(model, X_train, y_train, scoring='accuracy', cv=cv, n_jobs=-1, error_score='raise')\n",
    "    weighted_f1 = cross_val_score(model, X_train, y_train, scoring='f1_weighted', cv=cv, n_jobs=-1, error_score='raise')\n",
    "    return accuracy, weighted_f1"
   ]
  },
  {
   "cell_type": "code",
   "execution_count": 154,
   "metadata": {},
   "outputs": [
    {
     "name": "stdout",
     "output_type": "stream",
     "text": [
      ">GNB Accuracy: 0.483 Weighted F1: 0.493\n",
      ">Tree Accuracy: 0.491 Weighted F1: 0.494\n",
      ">XGB Accuracy: 0.622 Weighted F1: 0.553\n"
     ]
    },
    {
     "name": "stderr",
     "output_type": "stream",
     "text": [
      "/Users/Tegveer/miniforge3/envs/ANLY501/lib/python3.9/site-packages/sklearn/preprocessing/_label.py:153: DataConversionWarning: A column-vector y was passed when a 1d array was expected. Please change the shape of y to (n_samples, ), for example using ravel().\n",
      "  y = column_or_1d(y, warn=True)\n",
      "/Users/Tegveer/miniforge3/envs/ANLY501/lib/python3.9/site-packages/sklearn/preprocessing/_label.py:153: DataConversionWarning: A column-vector y was passed when a 1d array was expected. Please change the shape of y to (n_samples, ), for example using ravel().\n",
      "  y = column_or_1d(y, warn=True)\n",
      "/Users/Tegveer/miniforge3/envs/ANLY501/lib/python3.9/site-packages/sklearn/preprocessing/_label.py:153: DataConversionWarning: A column-vector y was passed when a 1d array was expected. Please change the shape of y to (n_samples, ), for example using ravel().\n",
      "  y = column_or_1d(y, warn=True)\n",
      "/Users/Tegveer/miniforge3/envs/ANLY501/lib/python3.9/site-packages/sklearn/preprocessing/_label.py:153: DataConversionWarning: A column-vector y was passed when a 1d array was expected. Please change the shape of y to (n_samples, ), for example using ravel().\n",
      "  y = column_or_1d(y, warn=True)\n",
      "/Users/Tegveer/miniforge3/envs/ANLY501/lib/python3.9/site-packages/sklearn/preprocessing/_label.py:153: DataConversionWarning: A column-vector y was passed when a 1d array was expected. Please change the shape of y to (n_samples, ), for example using ravel().\n",
      "  y = column_or_1d(y, warn=True)\n",
      "/Users/Tegveer/miniforge3/envs/ANLY501/lib/python3.9/site-packages/sklearn/preprocessing/_label.py:153: DataConversionWarning: A column-vector y was passed when a 1d array was expected. Please change the shape of y to (n_samples, ), for example using ravel().\n",
      "  y = column_or_1d(y, warn=True)\n",
      "/Users/Tegveer/miniforge3/envs/ANLY501/lib/python3.9/site-packages/sklearn/preprocessing/_label.py:153: DataConversionWarning: A column-vector y was passed when a 1d array was expected. Please change the shape of y to (n_samples, ), for example using ravel().\n",
      "  y = column_or_1d(y, warn=True)\n",
      "/Users/Tegveer/miniforge3/envs/ANLY501/lib/python3.9/site-packages/sklearn/preprocessing/_label.py:153: DataConversionWarning: A column-vector y was passed when a 1d array was expected. Please change the shape of y to (n_samples, ), for example using ravel().\n",
      "  y = column_or_1d(y, warn=True)\n",
      "/Users/Tegveer/miniforge3/envs/ANLY501/lib/python3.9/site-packages/sklearn/preprocessing/_label.py:153: DataConversionWarning: A column-vector y was passed when a 1d array was expected. Please change the shape of y to (n_samples, ), for example using ravel().\n",
      "  y = column_or_1d(y, warn=True)\n",
      "/Users/Tegveer/miniforge3/envs/ANLY501/lib/python3.9/site-packages/sklearn/preprocessing/_label.py:153: DataConversionWarning: A column-vector y was passed when a 1d array was expected. Please change the shape of y to (n_samples, ), for example using ravel().\n",
      "  y = column_or_1d(y, warn=True)\n",
      "/Users/Tegveer/miniforge3/envs/ANLY501/lib/python3.9/site-packages/sklearn/preprocessing/_label.py:153: DataConversionWarning: A column-vector y was passed when a 1d array was expected. Please change the shape of y to (n_samples, ), for example using ravel().\n",
      "  y = column_or_1d(y, warn=True)\n",
      "/Users/Tegveer/miniforge3/envs/ANLY501/lib/python3.9/site-packages/sklearn/preprocessing/_label.py:153: DataConversionWarning: A column-vector y was passed when a 1d array was expected. Please change the shape of y to (n_samples, ), for example using ravel().\n",
      "  y = column_or_1d(y, warn=True)\n",
      "/Users/Tegveer/miniforge3/envs/ANLY501/lib/python3.9/site-packages/sklearn/preprocessing/_label.py:153: DataConversionWarning: A column-vector y was passed when a 1d array was expected. Please change the shape of y to (n_samples, ), for example using ravel().\n",
      "  y = column_or_1d(y, warn=True)\n",
      "/Users/Tegveer/miniforge3/envs/ANLY501/lib/python3.9/site-packages/sklearn/preprocessing/_label.py:153: DataConversionWarning: A column-vector y was passed when a 1d array was expected. Please change the shape of y to (n_samples, ), for example using ravel().\n",
      "  y = column_or_1d(y, warn=True)\n",
      "/Users/Tegveer/miniforge3/envs/ANLY501/lib/python3.9/site-packages/sklearn/preprocessing/_label.py:153: DataConversionWarning: A column-vector y was passed when a 1d array was expected. Please change the shape of y to (n_samples, ), for example using ravel().\n",
      "  y = column_or_1d(y, warn=True)\n",
      "/Users/Tegveer/miniforge3/envs/ANLY501/lib/python3.9/site-packages/sklearn/preprocessing/_label.py:153: DataConversionWarning: A column-vector y was passed when a 1d array was expected. Please change the shape of y to (n_samples, ), for example using ravel().\n",
      "  y = column_or_1d(y, warn=True)\n",
      "/Users/Tegveer/miniforge3/envs/ANLY501/lib/python3.9/site-packages/sklearn/preprocessing/_label.py:153: DataConversionWarning: A column-vector y was passed when a 1d array was expected. Please change the shape of y to (n_samples, ), for example using ravel().\n",
      "  y = column_or_1d(y, warn=True)\n",
      "/Users/Tegveer/miniforge3/envs/ANLY501/lib/python3.9/site-packages/sklearn/preprocessing/_label.py:153: DataConversionWarning: A column-vector y was passed when a 1d array was expected. Please change the shape of y to (n_samples, ), for example using ravel().\n",
      "  y = column_or_1d(y, warn=True)\n",
      "/Users/Tegveer/miniforge3/envs/ANLY501/lib/python3.9/site-packages/sklearn/preprocessing/_label.py:153: DataConversionWarning: A column-vector y was passed when a 1d array was expected. Please change the shape of y to (n_samples, ), for example using ravel().\n",
      "  y = column_or_1d(y, warn=True)\n"
     ]
    },
    {
     "name": "stdout",
     "output_type": "stream",
     "text": [
      ">Stacked Model Accuracy: 0.597 Weighted F1: 0.507\n",
      "CPU times: user 630 ms, sys: 460 ms, total: 1.09 s\n",
      "Wall time: 3min 11s\n"
     ]
    },
    {
     "name": "stderr",
     "output_type": "stream",
     "text": [
      "/Users/Tegveer/miniforge3/envs/ANLY501/lib/python3.9/site-packages/sklearn/preprocessing/_label.py:153: DataConversionWarning: A column-vector y was passed when a 1d array was expected. Please change the shape of y to (n_samples, ), for example using ravel().\n",
      "  y = column_or_1d(y, warn=True)\n"
     ]
    }
   ],
   "source": [
    "%%time\n",
    "\n",
    "models = base_models()\n",
    "# evaluate the models and store results\n",
    "results = {}\n",
    "names = list()\n",
    "accuracies = []\n",
    "weighted_f1s = []\n",
    "\n",
    "for name, model in models.items():\n",
    "    accuracy, weighted_f1 = eval_models(model)\n",
    "    accuracies.extend(accuracy)\n",
    "    weighted_f1s.extend(weighted_f1)\n",
    "    names.extend([name] * len(accuracy))\n",
    "    print('>%s Accuracy: %.3f Weighted F1: %.3f' % (name, accuracy.mean(), weighted_f1.mean()))"
   ]
  },
  {
   "cell_type": "markdown",
   "metadata": {},
   "source": [
    "## Store Results "
   ]
  },
  {
   "cell_type": "code",
   "execution_count": 158,
   "metadata": {},
   "outputs": [],
   "source": [
    "results['Model'] = names\n",
    "results['Accuracy'] = accuracies\n",
    "results['Weighted_F1'] = weighted_f1s\n",
    "\n",
    "classifmod1 = pd.DataFrame(results)"
   ]
  },
  {
   "cell_type": "markdown",
   "metadata": {},
   "source": [
    "## Visualize Train Set Accuracies"
   ]
  },
  {
   "cell_type": "code",
   "execution_count": 159,
   "metadata": {},
   "outputs": [
    {
     "data": {
      "application/vnd.plotly.v1+json": {
       "config": {
        "plotlyServerURL": "https://plotly.com"
       },
       "data": [
        {
         "alignmentgroup": "True",
         "boxpoints": "all",
         "hovertemplate": "Machine Learning Model=%{x}<br>Accuracy=%{y}<extra></extra>",
         "legendgroup": "GNB",
         "marker": {
          "color": "#636efa"
         },
         "name": "GNB",
         "notched": false,
         "offsetgroup": "GNB",
         "orientation": "v",
         "showlegend": true,
         "type": "box",
         "x": [
          "GNB",
          "GNB",
          "GNB",
          "GNB",
          "GNB",
          "GNB",
          "GNB",
          "GNB",
          "GNB",
          "GNB"
         ],
         "x0": " ",
         "xaxis": "x",
         "y": [
          0.48063858695652173,
          0.4782608695652174,
          0.4919111715001486,
          0.47747441722219863,
          0.4830368137234088,
          0.48191236413043476,
          0.48276154891304346,
          0.49114687274425717,
          0.4781537938941022,
          0.4809562226657042
         ],
         "y0": " ",
         "yaxis": "y"
        },
        {
         "alignmentgroup": "True",
         "boxpoints": "all",
         "hovertemplate": "Machine Learning Model=%{x}<br>Accuracy=%{y}<extra></extra>",
         "legendgroup": "Tree",
         "marker": {
          "color": "#EF553B"
         },
         "name": "Tree",
         "notched": false,
         "offsetgroup": "Tree",
         "orientation": "v",
         "showlegend": true,
         "type": "box",
         "x": [
          "Tree",
          "Tree",
          "Tree",
          "Tree",
          "Tree",
          "Tree",
          "Tree",
          "Tree",
          "Tree",
          "Tree"
         ],
         "x0": " ",
         "xaxis": "x",
         "y": [
          0.48904551630434784,
          0.48904551630434784,
          0.49662434716147935,
          0.4910619506602692,
          0.4928877754660099,
          0.48934273097826086,
          0.48713485054347827,
          0.49157148316419685,
          0.4909770285762813,
          0.49182624941616065
         ],
         "y0": " ",
         "yaxis": "y"
        },
        {
         "alignmentgroup": "True",
         "boxpoints": "all",
         "hovertemplate": "Machine Learning Model=%{x}<br>Accuracy=%{y}<extra></extra>",
         "legendgroup": "XGB",
         "marker": {
          "color": "#00cc96"
         },
         "name": "XGB",
         "notched": false,
         "offsetgroup": "XGB",
         "orientation": "v",
         "showlegend": true,
         "type": "box",
         "x": [
          "XGB",
          "XGB",
          "XGB",
          "XGB",
          "XGB",
          "XGB",
          "XGB",
          "XGB",
          "XGB",
          "XGB"
         ],
         "x0": " ",
         "xaxis": "x",
         "y": [
          0.6230893342391305,
          0.6224099864130435,
          0.6204407456158975,
          0.6231582523035115,
          0.6203133624899155,
          0.6266559103260869,
          0.625,
          0.6166192518364401,
          0.622478875631608,
          0.6170863232983738
         ],
         "y0": " ",
         "yaxis": "y"
        },
        {
         "alignmentgroup": "True",
         "boxpoints": "all",
         "hovertemplate": "Machine Learning Model=%{x}<br>Accuracy=%{y}<extra></extra>",
         "legendgroup": "Stacked Model",
         "marker": {
          "color": "#ab63fa"
         },
         "name": "Stacked Model",
         "notched": false,
         "offsetgroup": "Stacked Model",
         "orientation": "v",
         "showlegend": true,
         "type": "box",
         "x": [
          "Stacked Model",
          "Stacked Model",
          "Stacked Model",
          "Stacked Model",
          "Stacked Model",
          "Stacked Model",
          "Stacked Model",
          "Stacked Model",
          "Stacked Model",
          "Stacked Model"
         ],
         "x0": " ",
         "xaxis": "x",
         "y": [
          0.5955757472826086,
          0.600968070652174,
          0.5953887308394548,
          0.5985308479470086,
          0.5981911596110568,
          0.5978260869565217,
          0.5979534646739131,
          0.5949641204195151,
          0.5989129973249544,
          0.5927986072778226
         ],
         "y0": " ",
         "yaxis": "y"
        }
       ],
       "layout": {
        "boxmode": "overlay",
        "legend": {
         "title": {
          "text": "Machine Learning Model"
         },
         "tracegroupgap": 0
        },
        "template": {
         "data": {
          "bar": [
           {
            "error_x": {
             "color": "#2a3f5f"
            },
            "error_y": {
             "color": "#2a3f5f"
            },
            "marker": {
             "line": {
              "color": "#E5ECF6",
              "width": 0.5
             },
             "pattern": {
              "fillmode": "overlay",
              "size": 10,
              "solidity": 0.2
             }
            },
            "type": "bar"
           }
          ],
          "barpolar": [
           {
            "marker": {
             "line": {
              "color": "#E5ECF6",
              "width": 0.5
             },
             "pattern": {
              "fillmode": "overlay",
              "size": 10,
              "solidity": 0.2
             }
            },
            "type": "barpolar"
           }
          ],
          "carpet": [
           {
            "aaxis": {
             "endlinecolor": "#2a3f5f",
             "gridcolor": "white",
             "linecolor": "white",
             "minorgridcolor": "white",
             "startlinecolor": "#2a3f5f"
            },
            "baxis": {
             "endlinecolor": "#2a3f5f",
             "gridcolor": "white",
             "linecolor": "white",
             "minorgridcolor": "white",
             "startlinecolor": "#2a3f5f"
            },
            "type": "carpet"
           }
          ],
          "choropleth": [
           {
            "colorbar": {
             "outlinewidth": 0,
             "ticks": ""
            },
            "type": "choropleth"
           }
          ],
          "contour": [
           {
            "colorbar": {
             "outlinewidth": 0,
             "ticks": ""
            },
            "colorscale": [
             [
              0,
              "#0d0887"
             ],
             [
              0.1111111111111111,
              "#46039f"
             ],
             [
              0.2222222222222222,
              "#7201a8"
             ],
             [
              0.3333333333333333,
              "#9c179e"
             ],
             [
              0.4444444444444444,
              "#bd3786"
             ],
             [
              0.5555555555555556,
              "#d8576b"
             ],
             [
              0.6666666666666666,
              "#ed7953"
             ],
             [
              0.7777777777777778,
              "#fb9f3a"
             ],
             [
              0.8888888888888888,
              "#fdca26"
             ],
             [
              1,
              "#f0f921"
             ]
            ],
            "type": "contour"
           }
          ],
          "contourcarpet": [
           {
            "colorbar": {
             "outlinewidth": 0,
             "ticks": ""
            },
            "type": "contourcarpet"
           }
          ],
          "heatmap": [
           {
            "colorbar": {
             "outlinewidth": 0,
             "ticks": ""
            },
            "colorscale": [
             [
              0,
              "#0d0887"
             ],
             [
              0.1111111111111111,
              "#46039f"
             ],
             [
              0.2222222222222222,
              "#7201a8"
             ],
             [
              0.3333333333333333,
              "#9c179e"
             ],
             [
              0.4444444444444444,
              "#bd3786"
             ],
             [
              0.5555555555555556,
              "#d8576b"
             ],
             [
              0.6666666666666666,
              "#ed7953"
             ],
             [
              0.7777777777777778,
              "#fb9f3a"
             ],
             [
              0.8888888888888888,
              "#fdca26"
             ],
             [
              1,
              "#f0f921"
             ]
            ],
            "type": "heatmap"
           }
          ],
          "heatmapgl": [
           {
            "colorbar": {
             "outlinewidth": 0,
             "ticks": ""
            },
            "colorscale": [
             [
              0,
              "#0d0887"
             ],
             [
              0.1111111111111111,
              "#46039f"
             ],
             [
              0.2222222222222222,
              "#7201a8"
             ],
             [
              0.3333333333333333,
              "#9c179e"
             ],
             [
              0.4444444444444444,
              "#bd3786"
             ],
             [
              0.5555555555555556,
              "#d8576b"
             ],
             [
              0.6666666666666666,
              "#ed7953"
             ],
             [
              0.7777777777777778,
              "#fb9f3a"
             ],
             [
              0.8888888888888888,
              "#fdca26"
             ],
             [
              1,
              "#f0f921"
             ]
            ],
            "type": "heatmapgl"
           }
          ],
          "histogram": [
           {
            "marker": {
             "pattern": {
              "fillmode": "overlay",
              "size": 10,
              "solidity": 0.2
             }
            },
            "type": "histogram"
           }
          ],
          "histogram2d": [
           {
            "colorbar": {
             "outlinewidth": 0,
             "ticks": ""
            },
            "colorscale": [
             [
              0,
              "#0d0887"
             ],
             [
              0.1111111111111111,
              "#46039f"
             ],
             [
              0.2222222222222222,
              "#7201a8"
             ],
             [
              0.3333333333333333,
              "#9c179e"
             ],
             [
              0.4444444444444444,
              "#bd3786"
             ],
             [
              0.5555555555555556,
              "#d8576b"
             ],
             [
              0.6666666666666666,
              "#ed7953"
             ],
             [
              0.7777777777777778,
              "#fb9f3a"
             ],
             [
              0.8888888888888888,
              "#fdca26"
             ],
             [
              1,
              "#f0f921"
             ]
            ],
            "type": "histogram2d"
           }
          ],
          "histogram2dcontour": [
           {
            "colorbar": {
             "outlinewidth": 0,
             "ticks": ""
            },
            "colorscale": [
             [
              0,
              "#0d0887"
             ],
             [
              0.1111111111111111,
              "#46039f"
             ],
             [
              0.2222222222222222,
              "#7201a8"
             ],
             [
              0.3333333333333333,
              "#9c179e"
             ],
             [
              0.4444444444444444,
              "#bd3786"
             ],
             [
              0.5555555555555556,
              "#d8576b"
             ],
             [
              0.6666666666666666,
              "#ed7953"
             ],
             [
              0.7777777777777778,
              "#fb9f3a"
             ],
             [
              0.8888888888888888,
              "#fdca26"
             ],
             [
              1,
              "#f0f921"
             ]
            ],
            "type": "histogram2dcontour"
           }
          ],
          "mesh3d": [
           {
            "colorbar": {
             "outlinewidth": 0,
             "ticks": ""
            },
            "type": "mesh3d"
           }
          ],
          "parcoords": [
           {
            "line": {
             "colorbar": {
              "outlinewidth": 0,
              "ticks": ""
             }
            },
            "type": "parcoords"
           }
          ],
          "pie": [
           {
            "automargin": true,
            "type": "pie"
           }
          ],
          "scatter": [
           {
            "fillpattern": {
             "fillmode": "overlay",
             "size": 10,
             "solidity": 0.2
            },
            "type": "scatter"
           }
          ],
          "scatter3d": [
           {
            "line": {
             "colorbar": {
              "outlinewidth": 0,
              "ticks": ""
             }
            },
            "marker": {
             "colorbar": {
              "outlinewidth": 0,
              "ticks": ""
             }
            },
            "type": "scatter3d"
           }
          ],
          "scattercarpet": [
           {
            "marker": {
             "colorbar": {
              "outlinewidth": 0,
              "ticks": ""
             }
            },
            "type": "scattercarpet"
           }
          ],
          "scattergeo": [
           {
            "marker": {
             "colorbar": {
              "outlinewidth": 0,
              "ticks": ""
             }
            },
            "type": "scattergeo"
           }
          ],
          "scattergl": [
           {
            "marker": {
             "colorbar": {
              "outlinewidth": 0,
              "ticks": ""
             }
            },
            "type": "scattergl"
           }
          ],
          "scattermapbox": [
           {
            "marker": {
             "colorbar": {
              "outlinewidth": 0,
              "ticks": ""
             }
            },
            "type": "scattermapbox"
           }
          ],
          "scatterpolar": [
           {
            "marker": {
             "colorbar": {
              "outlinewidth": 0,
              "ticks": ""
             }
            },
            "type": "scatterpolar"
           }
          ],
          "scatterpolargl": [
           {
            "marker": {
             "colorbar": {
              "outlinewidth": 0,
              "ticks": ""
             }
            },
            "type": "scatterpolargl"
           }
          ],
          "scatterternary": [
           {
            "marker": {
             "colorbar": {
              "outlinewidth": 0,
              "ticks": ""
             }
            },
            "type": "scatterternary"
           }
          ],
          "surface": [
           {
            "colorbar": {
             "outlinewidth": 0,
             "ticks": ""
            },
            "colorscale": [
             [
              0,
              "#0d0887"
             ],
             [
              0.1111111111111111,
              "#46039f"
             ],
             [
              0.2222222222222222,
              "#7201a8"
             ],
             [
              0.3333333333333333,
              "#9c179e"
             ],
             [
              0.4444444444444444,
              "#bd3786"
             ],
             [
              0.5555555555555556,
              "#d8576b"
             ],
             [
              0.6666666666666666,
              "#ed7953"
             ],
             [
              0.7777777777777778,
              "#fb9f3a"
             ],
             [
              0.8888888888888888,
              "#fdca26"
             ],
             [
              1,
              "#f0f921"
             ]
            ],
            "type": "surface"
           }
          ],
          "table": [
           {
            "cells": {
             "fill": {
              "color": "#EBF0F8"
             },
             "line": {
              "color": "white"
             }
            },
            "header": {
             "fill": {
              "color": "#C8D4E3"
             },
             "line": {
              "color": "white"
             }
            },
            "type": "table"
           }
          ]
         },
         "layout": {
          "annotationdefaults": {
           "arrowcolor": "#2a3f5f",
           "arrowhead": 0,
           "arrowwidth": 1
          },
          "autotypenumbers": "strict",
          "coloraxis": {
           "colorbar": {
            "outlinewidth": 0,
            "ticks": ""
           }
          },
          "colorscale": {
           "diverging": [
            [
             0,
             "#8e0152"
            ],
            [
             0.1,
             "#c51b7d"
            ],
            [
             0.2,
             "#de77ae"
            ],
            [
             0.3,
             "#f1b6da"
            ],
            [
             0.4,
             "#fde0ef"
            ],
            [
             0.5,
             "#f7f7f7"
            ],
            [
             0.6,
             "#e6f5d0"
            ],
            [
             0.7,
             "#b8e186"
            ],
            [
             0.8,
             "#7fbc41"
            ],
            [
             0.9,
             "#4d9221"
            ],
            [
             1,
             "#276419"
            ]
           ],
           "sequential": [
            [
             0,
             "#0d0887"
            ],
            [
             0.1111111111111111,
             "#46039f"
            ],
            [
             0.2222222222222222,
             "#7201a8"
            ],
            [
             0.3333333333333333,
             "#9c179e"
            ],
            [
             0.4444444444444444,
             "#bd3786"
            ],
            [
             0.5555555555555556,
             "#d8576b"
            ],
            [
             0.6666666666666666,
             "#ed7953"
            ],
            [
             0.7777777777777778,
             "#fb9f3a"
            ],
            [
             0.8888888888888888,
             "#fdca26"
            ],
            [
             1,
             "#f0f921"
            ]
           ],
           "sequentialminus": [
            [
             0,
             "#0d0887"
            ],
            [
             0.1111111111111111,
             "#46039f"
            ],
            [
             0.2222222222222222,
             "#7201a8"
            ],
            [
             0.3333333333333333,
             "#9c179e"
            ],
            [
             0.4444444444444444,
             "#bd3786"
            ],
            [
             0.5555555555555556,
             "#d8576b"
            ],
            [
             0.6666666666666666,
             "#ed7953"
            ],
            [
             0.7777777777777778,
             "#fb9f3a"
            ],
            [
             0.8888888888888888,
             "#fdca26"
            ],
            [
             1,
             "#f0f921"
            ]
           ]
          },
          "colorway": [
           "#636efa",
           "#EF553B",
           "#00cc96",
           "#ab63fa",
           "#FFA15A",
           "#19d3f3",
           "#FF6692",
           "#B6E880",
           "#FF97FF",
           "#FECB52"
          ],
          "font": {
           "color": "#2a3f5f"
          },
          "geo": {
           "bgcolor": "white",
           "lakecolor": "white",
           "landcolor": "#E5ECF6",
           "showlakes": true,
           "showland": true,
           "subunitcolor": "white"
          },
          "hoverlabel": {
           "align": "left"
          },
          "hovermode": "closest",
          "mapbox": {
           "style": "light"
          },
          "paper_bgcolor": "white",
          "plot_bgcolor": "#E5ECF6",
          "polar": {
           "angularaxis": {
            "gridcolor": "white",
            "linecolor": "white",
            "ticks": ""
           },
           "bgcolor": "#E5ECF6",
           "radialaxis": {
            "gridcolor": "white",
            "linecolor": "white",
            "ticks": ""
           }
          },
          "scene": {
           "xaxis": {
            "backgroundcolor": "#E5ECF6",
            "gridcolor": "white",
            "gridwidth": 2,
            "linecolor": "white",
            "showbackground": true,
            "ticks": "",
            "zerolinecolor": "white"
           },
           "yaxis": {
            "backgroundcolor": "#E5ECF6",
            "gridcolor": "white",
            "gridwidth": 2,
            "linecolor": "white",
            "showbackground": true,
            "ticks": "",
            "zerolinecolor": "white"
           },
           "zaxis": {
            "backgroundcolor": "#E5ECF6",
            "gridcolor": "white",
            "gridwidth": 2,
            "linecolor": "white",
            "showbackground": true,
            "ticks": "",
            "zerolinecolor": "white"
           }
          },
          "shapedefaults": {
           "line": {
            "color": "#2a3f5f"
           }
          },
          "ternary": {
           "aaxis": {
            "gridcolor": "white",
            "linecolor": "white",
            "ticks": ""
           },
           "baxis": {
            "gridcolor": "white",
            "linecolor": "white",
            "ticks": ""
           },
           "bgcolor": "#E5ECF6",
           "caxis": {
            "gridcolor": "white",
            "linecolor": "white",
            "ticks": ""
           }
          },
          "title": {
           "x": 0.05
          },
          "xaxis": {
           "automargin": true,
           "gridcolor": "white",
           "linecolor": "white",
           "ticks": "",
           "title": {
            "standoff": 15
           },
           "zerolinecolor": "white",
           "zerolinewidth": 2
          },
          "yaxis": {
           "automargin": true,
           "gridcolor": "white",
           "linecolor": "white",
           "ticks": "",
           "title": {
            "standoff": 15
           },
           "zerolinecolor": "white",
           "zerolinewidth": 2
          }
         }
        },
        "title": {
         "text": "Model Accuracy Performance"
        },
        "xaxis": {
         "anchor": "y",
         "categoryarray": [
          "GNB",
          "Tree",
          "XGB",
          "Stacked Model"
         ],
         "categoryorder": "array",
         "domain": [
          0,
          1
         ],
         "title": {
          "text": "Machine Learning Model"
         }
        },
        "yaxis": {
         "anchor": "x",
         "domain": [
          0,
          1
         ],
         "title": {
          "text": "Accuracy"
         }
        }
       }
      },
      "text/html": [
       "<div>                            <div id=\"cce56d44-8739-45d2-91d5-a1e59cc8b7e2\" class=\"plotly-graph-div\" style=\"height:525px; width:100%;\"></div>            <script type=\"text/javascript\">                require([\"plotly\"], function(Plotly) {                    window.PLOTLYENV=window.PLOTLYENV || {};                                    if (document.getElementById(\"cce56d44-8739-45d2-91d5-a1e59cc8b7e2\")) {                    Plotly.newPlot(                        \"cce56d44-8739-45d2-91d5-a1e59cc8b7e2\",                        [{\"alignmentgroup\":\"True\",\"boxpoints\":\"all\",\"hovertemplate\":\"Machine Learning Model=%{x}<br>Accuracy=%{y}<extra></extra>\",\"legendgroup\":\"GNB\",\"marker\":{\"color\":\"#636efa\"},\"name\":\"GNB\",\"notched\":false,\"offsetgroup\":\"GNB\",\"orientation\":\"v\",\"showlegend\":true,\"x\":[\"GNB\",\"GNB\",\"GNB\",\"GNB\",\"GNB\",\"GNB\",\"GNB\",\"GNB\",\"GNB\",\"GNB\"],\"x0\":\" \",\"xaxis\":\"x\",\"y\":[0.48063858695652173,0.4782608695652174,0.4919111715001486,0.47747441722219863,0.4830368137234088,0.48191236413043476,0.48276154891304346,0.49114687274425717,0.4781537938941022,0.4809562226657042],\"y0\":\" \",\"yaxis\":\"y\",\"type\":\"box\"},{\"alignmentgroup\":\"True\",\"boxpoints\":\"all\",\"hovertemplate\":\"Machine Learning Model=%{x}<br>Accuracy=%{y}<extra></extra>\",\"legendgroup\":\"Tree\",\"marker\":{\"color\":\"#EF553B\"},\"name\":\"Tree\",\"notched\":false,\"offsetgroup\":\"Tree\",\"orientation\":\"v\",\"showlegend\":true,\"x\":[\"Tree\",\"Tree\",\"Tree\",\"Tree\",\"Tree\",\"Tree\",\"Tree\",\"Tree\",\"Tree\",\"Tree\"],\"x0\":\" \",\"xaxis\":\"x\",\"y\":[0.48904551630434784,0.48904551630434784,0.49662434716147935,0.4910619506602692,0.4928877754660099,0.48934273097826086,0.48713485054347827,0.49157148316419685,0.4909770285762813,0.49182624941616065],\"y0\":\" \",\"yaxis\":\"y\",\"type\":\"box\"},{\"alignmentgroup\":\"True\",\"boxpoints\":\"all\",\"hovertemplate\":\"Machine Learning Model=%{x}<br>Accuracy=%{y}<extra></extra>\",\"legendgroup\":\"XGB\",\"marker\":{\"color\":\"#00cc96\"},\"name\":\"XGB\",\"notched\":false,\"offsetgroup\":\"XGB\",\"orientation\":\"v\",\"showlegend\":true,\"x\":[\"XGB\",\"XGB\",\"XGB\",\"XGB\",\"XGB\",\"XGB\",\"XGB\",\"XGB\",\"XGB\",\"XGB\"],\"x0\":\" \",\"xaxis\":\"x\",\"y\":[0.6230893342391305,0.6224099864130435,0.6204407456158975,0.6231582523035115,0.6203133624899155,0.6266559103260869,0.625,0.6166192518364401,0.622478875631608,0.6170863232983738],\"y0\":\" \",\"yaxis\":\"y\",\"type\":\"box\"},{\"alignmentgroup\":\"True\",\"boxpoints\":\"all\",\"hovertemplate\":\"Machine Learning Model=%{x}<br>Accuracy=%{y}<extra></extra>\",\"legendgroup\":\"Stacked Model\",\"marker\":{\"color\":\"#ab63fa\"},\"name\":\"Stacked Model\",\"notched\":false,\"offsetgroup\":\"Stacked Model\",\"orientation\":\"v\",\"showlegend\":true,\"x\":[\"Stacked Model\",\"Stacked Model\",\"Stacked Model\",\"Stacked Model\",\"Stacked Model\",\"Stacked Model\",\"Stacked Model\",\"Stacked Model\",\"Stacked Model\",\"Stacked Model\"],\"x0\":\" \",\"xaxis\":\"x\",\"y\":[0.5955757472826086,0.600968070652174,0.5953887308394548,0.5985308479470086,0.5981911596110568,0.5978260869565217,0.5979534646739131,0.5949641204195151,0.5989129973249544,0.5927986072778226],\"y0\":\" \",\"yaxis\":\"y\",\"type\":\"box\"}],                        {\"template\":{\"data\":{\"histogram2dcontour\":[{\"type\":\"histogram2dcontour\",\"colorbar\":{\"outlinewidth\":0,\"ticks\":\"\"},\"colorscale\":[[0.0,\"#0d0887\"],[0.1111111111111111,\"#46039f\"],[0.2222222222222222,\"#7201a8\"],[0.3333333333333333,\"#9c179e\"],[0.4444444444444444,\"#bd3786\"],[0.5555555555555556,\"#d8576b\"],[0.6666666666666666,\"#ed7953\"],[0.7777777777777778,\"#fb9f3a\"],[0.8888888888888888,\"#fdca26\"],[1.0,\"#f0f921\"]]}],\"choropleth\":[{\"type\":\"choropleth\",\"colorbar\":{\"outlinewidth\":0,\"ticks\":\"\"}}],\"histogram2d\":[{\"type\":\"histogram2d\",\"colorbar\":{\"outlinewidth\":0,\"ticks\":\"\"},\"colorscale\":[[0.0,\"#0d0887\"],[0.1111111111111111,\"#46039f\"],[0.2222222222222222,\"#7201a8\"],[0.3333333333333333,\"#9c179e\"],[0.4444444444444444,\"#bd3786\"],[0.5555555555555556,\"#d8576b\"],[0.6666666666666666,\"#ed7953\"],[0.7777777777777778,\"#fb9f3a\"],[0.8888888888888888,\"#fdca26\"],[1.0,\"#f0f921\"]]}],\"heatmap\":[{\"type\":\"heatmap\",\"colorbar\":{\"outlinewidth\":0,\"ticks\":\"\"},\"colorscale\":[[0.0,\"#0d0887\"],[0.1111111111111111,\"#46039f\"],[0.2222222222222222,\"#7201a8\"],[0.3333333333333333,\"#9c179e\"],[0.4444444444444444,\"#bd3786\"],[0.5555555555555556,\"#d8576b\"],[0.6666666666666666,\"#ed7953\"],[0.7777777777777778,\"#fb9f3a\"],[0.8888888888888888,\"#fdca26\"],[1.0,\"#f0f921\"]]}],\"heatmapgl\":[{\"type\":\"heatmapgl\",\"colorbar\":{\"outlinewidth\":0,\"ticks\":\"\"},\"colorscale\":[[0.0,\"#0d0887\"],[0.1111111111111111,\"#46039f\"],[0.2222222222222222,\"#7201a8\"],[0.3333333333333333,\"#9c179e\"],[0.4444444444444444,\"#bd3786\"],[0.5555555555555556,\"#d8576b\"],[0.6666666666666666,\"#ed7953\"],[0.7777777777777778,\"#fb9f3a\"],[0.8888888888888888,\"#fdca26\"],[1.0,\"#f0f921\"]]}],\"contourcarpet\":[{\"type\":\"contourcarpet\",\"colorbar\":{\"outlinewidth\":0,\"ticks\":\"\"}}],\"contour\":[{\"type\":\"contour\",\"colorbar\":{\"outlinewidth\":0,\"ticks\":\"\"},\"colorscale\":[[0.0,\"#0d0887\"],[0.1111111111111111,\"#46039f\"],[0.2222222222222222,\"#7201a8\"],[0.3333333333333333,\"#9c179e\"],[0.4444444444444444,\"#bd3786\"],[0.5555555555555556,\"#d8576b\"],[0.6666666666666666,\"#ed7953\"],[0.7777777777777778,\"#fb9f3a\"],[0.8888888888888888,\"#fdca26\"],[1.0,\"#f0f921\"]]}],\"surface\":[{\"type\":\"surface\",\"colorbar\":{\"outlinewidth\":0,\"ticks\":\"\"},\"colorscale\":[[0.0,\"#0d0887\"],[0.1111111111111111,\"#46039f\"],[0.2222222222222222,\"#7201a8\"],[0.3333333333333333,\"#9c179e\"],[0.4444444444444444,\"#bd3786\"],[0.5555555555555556,\"#d8576b\"],[0.6666666666666666,\"#ed7953\"],[0.7777777777777778,\"#fb9f3a\"],[0.8888888888888888,\"#fdca26\"],[1.0,\"#f0f921\"]]}],\"mesh3d\":[{\"type\":\"mesh3d\",\"colorbar\":{\"outlinewidth\":0,\"ticks\":\"\"}}],\"scatter\":[{\"fillpattern\":{\"fillmode\":\"overlay\",\"size\":10,\"solidity\":0.2},\"type\":\"scatter\"}],\"parcoords\":[{\"type\":\"parcoords\",\"line\":{\"colorbar\":{\"outlinewidth\":0,\"ticks\":\"\"}}}],\"scatterpolargl\":[{\"type\":\"scatterpolargl\",\"marker\":{\"colorbar\":{\"outlinewidth\":0,\"ticks\":\"\"}}}],\"bar\":[{\"error_x\":{\"color\":\"#2a3f5f\"},\"error_y\":{\"color\":\"#2a3f5f\"},\"marker\":{\"line\":{\"color\":\"#E5ECF6\",\"width\":0.5},\"pattern\":{\"fillmode\":\"overlay\",\"size\":10,\"solidity\":0.2}},\"type\":\"bar\"}],\"scattergeo\":[{\"type\":\"scattergeo\",\"marker\":{\"colorbar\":{\"outlinewidth\":0,\"ticks\":\"\"}}}],\"scatterpolar\":[{\"type\":\"scatterpolar\",\"marker\":{\"colorbar\":{\"outlinewidth\":0,\"ticks\":\"\"}}}],\"histogram\":[{\"marker\":{\"pattern\":{\"fillmode\":\"overlay\",\"size\":10,\"solidity\":0.2}},\"type\":\"histogram\"}],\"scattergl\":[{\"type\":\"scattergl\",\"marker\":{\"colorbar\":{\"outlinewidth\":0,\"ticks\":\"\"}}}],\"scatter3d\":[{\"type\":\"scatter3d\",\"line\":{\"colorbar\":{\"outlinewidth\":0,\"ticks\":\"\"}},\"marker\":{\"colorbar\":{\"outlinewidth\":0,\"ticks\":\"\"}}}],\"scattermapbox\":[{\"type\":\"scattermapbox\",\"marker\":{\"colorbar\":{\"outlinewidth\":0,\"ticks\":\"\"}}}],\"scatterternary\":[{\"type\":\"scatterternary\",\"marker\":{\"colorbar\":{\"outlinewidth\":0,\"ticks\":\"\"}}}],\"scattercarpet\":[{\"type\":\"scattercarpet\",\"marker\":{\"colorbar\":{\"outlinewidth\":0,\"ticks\":\"\"}}}],\"carpet\":[{\"aaxis\":{\"endlinecolor\":\"#2a3f5f\",\"gridcolor\":\"white\",\"linecolor\":\"white\",\"minorgridcolor\":\"white\",\"startlinecolor\":\"#2a3f5f\"},\"baxis\":{\"endlinecolor\":\"#2a3f5f\",\"gridcolor\":\"white\",\"linecolor\":\"white\",\"minorgridcolor\":\"white\",\"startlinecolor\":\"#2a3f5f\"},\"type\":\"carpet\"}],\"table\":[{\"cells\":{\"fill\":{\"color\":\"#EBF0F8\"},\"line\":{\"color\":\"white\"}},\"header\":{\"fill\":{\"color\":\"#C8D4E3\"},\"line\":{\"color\":\"white\"}},\"type\":\"table\"}],\"barpolar\":[{\"marker\":{\"line\":{\"color\":\"#E5ECF6\",\"width\":0.5},\"pattern\":{\"fillmode\":\"overlay\",\"size\":10,\"solidity\":0.2}},\"type\":\"barpolar\"}],\"pie\":[{\"automargin\":true,\"type\":\"pie\"}]},\"layout\":{\"autotypenumbers\":\"strict\",\"colorway\":[\"#636efa\",\"#EF553B\",\"#00cc96\",\"#ab63fa\",\"#FFA15A\",\"#19d3f3\",\"#FF6692\",\"#B6E880\",\"#FF97FF\",\"#FECB52\"],\"font\":{\"color\":\"#2a3f5f\"},\"hovermode\":\"closest\",\"hoverlabel\":{\"align\":\"left\"},\"paper_bgcolor\":\"white\",\"plot_bgcolor\":\"#E5ECF6\",\"polar\":{\"bgcolor\":\"#E5ECF6\",\"angularaxis\":{\"gridcolor\":\"white\",\"linecolor\":\"white\",\"ticks\":\"\"},\"radialaxis\":{\"gridcolor\":\"white\",\"linecolor\":\"white\",\"ticks\":\"\"}},\"ternary\":{\"bgcolor\":\"#E5ECF6\",\"aaxis\":{\"gridcolor\":\"white\",\"linecolor\":\"white\",\"ticks\":\"\"},\"baxis\":{\"gridcolor\":\"white\",\"linecolor\":\"white\",\"ticks\":\"\"},\"caxis\":{\"gridcolor\":\"white\",\"linecolor\":\"white\",\"ticks\":\"\"}},\"coloraxis\":{\"colorbar\":{\"outlinewidth\":0,\"ticks\":\"\"}},\"colorscale\":{\"sequential\":[[0.0,\"#0d0887\"],[0.1111111111111111,\"#46039f\"],[0.2222222222222222,\"#7201a8\"],[0.3333333333333333,\"#9c179e\"],[0.4444444444444444,\"#bd3786\"],[0.5555555555555556,\"#d8576b\"],[0.6666666666666666,\"#ed7953\"],[0.7777777777777778,\"#fb9f3a\"],[0.8888888888888888,\"#fdca26\"],[1.0,\"#f0f921\"]],\"sequentialminus\":[[0.0,\"#0d0887\"],[0.1111111111111111,\"#46039f\"],[0.2222222222222222,\"#7201a8\"],[0.3333333333333333,\"#9c179e\"],[0.4444444444444444,\"#bd3786\"],[0.5555555555555556,\"#d8576b\"],[0.6666666666666666,\"#ed7953\"],[0.7777777777777778,\"#fb9f3a\"],[0.8888888888888888,\"#fdca26\"],[1.0,\"#f0f921\"]],\"diverging\":[[0,\"#8e0152\"],[0.1,\"#c51b7d\"],[0.2,\"#de77ae\"],[0.3,\"#f1b6da\"],[0.4,\"#fde0ef\"],[0.5,\"#f7f7f7\"],[0.6,\"#e6f5d0\"],[0.7,\"#b8e186\"],[0.8,\"#7fbc41\"],[0.9,\"#4d9221\"],[1,\"#276419\"]]},\"xaxis\":{\"gridcolor\":\"white\",\"linecolor\":\"white\",\"ticks\":\"\",\"title\":{\"standoff\":15},\"zerolinecolor\":\"white\",\"automargin\":true,\"zerolinewidth\":2},\"yaxis\":{\"gridcolor\":\"white\",\"linecolor\":\"white\",\"ticks\":\"\",\"title\":{\"standoff\":15},\"zerolinecolor\":\"white\",\"automargin\":true,\"zerolinewidth\":2},\"scene\":{\"xaxis\":{\"backgroundcolor\":\"#E5ECF6\",\"gridcolor\":\"white\",\"linecolor\":\"white\",\"showbackground\":true,\"ticks\":\"\",\"zerolinecolor\":\"white\",\"gridwidth\":2},\"yaxis\":{\"backgroundcolor\":\"#E5ECF6\",\"gridcolor\":\"white\",\"linecolor\":\"white\",\"showbackground\":true,\"ticks\":\"\",\"zerolinecolor\":\"white\",\"gridwidth\":2},\"zaxis\":{\"backgroundcolor\":\"#E5ECF6\",\"gridcolor\":\"white\",\"linecolor\":\"white\",\"showbackground\":true,\"ticks\":\"\",\"zerolinecolor\":\"white\",\"gridwidth\":2}},\"shapedefaults\":{\"line\":{\"color\":\"#2a3f5f\"}},\"annotationdefaults\":{\"arrowcolor\":\"#2a3f5f\",\"arrowhead\":0,\"arrowwidth\":1},\"geo\":{\"bgcolor\":\"white\",\"landcolor\":\"#E5ECF6\",\"subunitcolor\":\"white\",\"showland\":true,\"showlakes\":true,\"lakecolor\":\"white\"},\"title\":{\"x\":0.05},\"mapbox\":{\"style\":\"light\"}}},\"xaxis\":{\"anchor\":\"y\",\"domain\":[0.0,1.0],\"title\":{\"text\":\"Machine Learning Model\"},\"categoryorder\":\"array\",\"categoryarray\":[\"GNB\",\"Tree\",\"XGB\",\"Stacked Model\"]},\"yaxis\":{\"anchor\":\"x\",\"domain\":[0.0,1.0],\"title\":{\"text\":\"Accuracy\"}},\"legend\":{\"title\":{\"text\":\"Machine Learning Model\"},\"tracegroupgap\":0},\"title\":{\"text\":\"Model Accuracy Performance\"},\"boxmode\":\"overlay\"},                        {\"responsive\": true}                    ).then(function(){\n",
       "                            \n",
       "var gd = document.getElementById('cce56d44-8739-45d2-91d5-a1e59cc8b7e2');\n",
       "var x = new MutationObserver(function (mutations, observer) {{\n",
       "        var display = window.getComputedStyle(gd).display;\n",
       "        if (!display || display === 'none') {{\n",
       "            console.log([gd, 'removed!']);\n",
       "            Plotly.purge(gd);\n",
       "            observer.disconnect();\n",
       "        }}\n",
       "}});\n",
       "\n",
       "// Listen for the removal of the full notebook cells\n",
       "var notebookContainer = gd.closest('#notebook-container');\n",
       "if (notebookContainer) {{\n",
       "    x.observe(notebookContainer, {childList: true});\n",
       "}}\n",
       "\n",
       "// Listen for the clearing of the current output cell\n",
       "var outputEl = gd.closest('.output');\n",
       "if (outputEl) {{\n",
       "    x.observe(outputEl, {childList: true});\n",
       "}}\n",
       "\n",
       "                        })                };                });            </script>        </div>"
      ]
     },
     "metadata": {},
     "output_type": "display_data"
    }
   ],
   "source": [
    "fig = px.box(classifmod1, x=\"Model\", y=\"Accuracy\", color=\"Model\", points='all',\n",
    "             labels={\"Model\": \"Machine Learning Model\",\n",
    "                     \"Accuracy\": \"Accuracy\"},\n",
    "             title=\"Model Accuracy Performance\")\n",
    "fig.show()\n",
    "fig.write_html(\"products/plots/stacked_train_accuracies.html\")"
   ]
  },
  {
   "cell_type": "markdown",
   "metadata": {},
   "source": [
    "## Visualize Train Set Weighted f1-Scores"
   ]
  },
  {
   "cell_type": "code",
   "execution_count": 160,
   "metadata": {},
   "outputs": [
    {
     "data": {
      "application/vnd.plotly.v1+json": {
       "config": {
        "plotlyServerURL": "https://plotly.com"
       },
       "data": [
        {
         "alignmentgroup": "True",
         "boxpoints": "all",
         "hovertemplate": "Machine Learning Model=%{x}<br>Weighted f1-Score=%{y}<extra></extra>",
         "legendgroup": "GNB",
         "marker": {
          "color": "#636efa"
         },
         "name": "GNB",
         "notched": false,
         "offsetgroup": "GNB",
         "orientation": "v",
         "showlegend": true,
         "type": "box",
         "x": [
          "GNB",
          "GNB",
          "GNB",
          "GNB",
          "GNB",
          "GNB",
          "GNB",
          "GNB",
          "GNB",
          "GNB"
         ],
         "x0": " ",
         "xaxis": "x",
         "y": [
          0.49021277923226114,
          0.48816174819698194,
          0.5016366850721734,
          0.4890656186573671,
          0.4937436255807292,
          0.4931294872578772,
          0.4949186105771983,
          0.4991549262764149,
          0.4883404620898014,
          0.4896592647365606
         ],
         "y0": " ",
         "yaxis": "y"
        },
        {
         "alignmentgroup": "True",
         "boxpoints": "all",
         "hovertemplate": "Machine Learning Model=%{x}<br>Weighted f1-Score=%{y}<extra></extra>",
         "legendgroup": "Tree",
         "marker": {
          "color": "#EF553B"
         },
         "name": "Tree",
         "notched": false,
         "offsetgroup": "Tree",
         "orientation": "v",
         "showlegend": true,
         "type": "box",
         "x": [
          "Tree",
          "Tree",
          "Tree",
          "Tree",
          "Tree",
          "Tree",
          "Tree",
          "Tree",
          "Tree",
          "Tree"
         ],
         "x0": " ",
         "xaxis": "x",
         "y": [
          0.49395591647842946,
          0.4913186019958329,
          0.49635265212463026,
          0.4936003617148166,
          0.49728753381826846,
          0.4915021325543078,
          0.4963355793833316,
          0.4923241383014452,
          0.4949583200031113,
          0.49293209331283633
         ],
         "y0": " ",
         "yaxis": "y"
        },
        {
         "alignmentgroup": "True",
         "boxpoints": "all",
         "hovertemplate": "Machine Learning Model=%{x}<br>Weighted f1-Score=%{y}<extra></extra>",
         "legendgroup": "XGB",
         "marker": {
          "color": "#00cc96"
         },
         "name": "XGB",
         "notched": false,
         "offsetgroup": "XGB",
         "orientation": "v",
         "showlegend": true,
         "type": "box",
         "x": [
          "XGB",
          "XGB",
          "XGB",
          "XGB",
          "XGB",
          "XGB",
          "XGB",
          "XGB",
          "XGB",
          "XGB"
         ],
         "x0": " ",
         "xaxis": "x",
         "y": [
          0.5559134871731306,
          0.5536083694618409,
          0.5512097489754343,
          0.5551107100753496,
          0.5516901629328173,
          0.5590246002838755,
          0.5580970876343704,
          0.5472750973416809,
          0.555179334886721,
          0.5469519120204224
         ],
         "y0": " ",
         "yaxis": "y"
        },
        {
         "alignmentgroup": "True",
         "boxpoints": "all",
         "hovertemplate": "Machine Learning Model=%{x}<br>Weighted f1-Score=%{y}<extra></extra>",
         "legendgroup": "Stacked Model",
         "marker": {
          "color": "#ab63fa"
         },
         "name": "Stacked Model",
         "notched": false,
         "offsetgroup": "Stacked Model",
         "orientation": "v",
         "showlegend": true,
         "type": "box",
         "x": [
          "Stacked Model",
          "Stacked Model",
          "Stacked Model",
          "Stacked Model",
          "Stacked Model",
          "Stacked Model",
          "Stacked Model",
          "Stacked Model",
          "Stacked Model",
          "Stacked Model"
         ],
         "x0": " ",
         "xaxis": "x",
         "y": [
          0.5078471990699265,
          0.5049234732497797,
          0.5069081786582854,
          0.5082227301871328,
          0.5082061631095763,
          0.5047138232159096,
          0.5086445787017143,
          0.5075823903883498,
          0.5086454103430422,
          0.5041613087296903
         ],
         "y0": " ",
         "yaxis": "y"
        }
       ],
       "layout": {
        "boxmode": "overlay",
        "legend": {
         "title": {
          "text": "Machine Learning Model"
         },
         "tracegroupgap": 0
        },
        "template": {
         "data": {
          "bar": [
           {
            "error_x": {
             "color": "#2a3f5f"
            },
            "error_y": {
             "color": "#2a3f5f"
            },
            "marker": {
             "line": {
              "color": "#E5ECF6",
              "width": 0.5
             },
             "pattern": {
              "fillmode": "overlay",
              "size": 10,
              "solidity": 0.2
             }
            },
            "type": "bar"
           }
          ],
          "barpolar": [
           {
            "marker": {
             "line": {
              "color": "#E5ECF6",
              "width": 0.5
             },
             "pattern": {
              "fillmode": "overlay",
              "size": 10,
              "solidity": 0.2
             }
            },
            "type": "barpolar"
           }
          ],
          "carpet": [
           {
            "aaxis": {
             "endlinecolor": "#2a3f5f",
             "gridcolor": "white",
             "linecolor": "white",
             "minorgridcolor": "white",
             "startlinecolor": "#2a3f5f"
            },
            "baxis": {
             "endlinecolor": "#2a3f5f",
             "gridcolor": "white",
             "linecolor": "white",
             "minorgridcolor": "white",
             "startlinecolor": "#2a3f5f"
            },
            "type": "carpet"
           }
          ],
          "choropleth": [
           {
            "colorbar": {
             "outlinewidth": 0,
             "ticks": ""
            },
            "type": "choropleth"
           }
          ],
          "contour": [
           {
            "colorbar": {
             "outlinewidth": 0,
             "ticks": ""
            },
            "colorscale": [
             [
              0,
              "#0d0887"
             ],
             [
              0.1111111111111111,
              "#46039f"
             ],
             [
              0.2222222222222222,
              "#7201a8"
             ],
             [
              0.3333333333333333,
              "#9c179e"
             ],
             [
              0.4444444444444444,
              "#bd3786"
             ],
             [
              0.5555555555555556,
              "#d8576b"
             ],
             [
              0.6666666666666666,
              "#ed7953"
             ],
             [
              0.7777777777777778,
              "#fb9f3a"
             ],
             [
              0.8888888888888888,
              "#fdca26"
             ],
             [
              1,
              "#f0f921"
             ]
            ],
            "type": "contour"
           }
          ],
          "contourcarpet": [
           {
            "colorbar": {
             "outlinewidth": 0,
             "ticks": ""
            },
            "type": "contourcarpet"
           }
          ],
          "heatmap": [
           {
            "colorbar": {
             "outlinewidth": 0,
             "ticks": ""
            },
            "colorscale": [
             [
              0,
              "#0d0887"
             ],
             [
              0.1111111111111111,
              "#46039f"
             ],
             [
              0.2222222222222222,
              "#7201a8"
             ],
             [
              0.3333333333333333,
              "#9c179e"
             ],
             [
              0.4444444444444444,
              "#bd3786"
             ],
             [
              0.5555555555555556,
              "#d8576b"
             ],
             [
              0.6666666666666666,
              "#ed7953"
             ],
             [
              0.7777777777777778,
              "#fb9f3a"
             ],
             [
              0.8888888888888888,
              "#fdca26"
             ],
             [
              1,
              "#f0f921"
             ]
            ],
            "type": "heatmap"
           }
          ],
          "heatmapgl": [
           {
            "colorbar": {
             "outlinewidth": 0,
             "ticks": ""
            },
            "colorscale": [
             [
              0,
              "#0d0887"
             ],
             [
              0.1111111111111111,
              "#46039f"
             ],
             [
              0.2222222222222222,
              "#7201a8"
             ],
             [
              0.3333333333333333,
              "#9c179e"
             ],
             [
              0.4444444444444444,
              "#bd3786"
             ],
             [
              0.5555555555555556,
              "#d8576b"
             ],
             [
              0.6666666666666666,
              "#ed7953"
             ],
             [
              0.7777777777777778,
              "#fb9f3a"
             ],
             [
              0.8888888888888888,
              "#fdca26"
             ],
             [
              1,
              "#f0f921"
             ]
            ],
            "type": "heatmapgl"
           }
          ],
          "histogram": [
           {
            "marker": {
             "pattern": {
              "fillmode": "overlay",
              "size": 10,
              "solidity": 0.2
             }
            },
            "type": "histogram"
           }
          ],
          "histogram2d": [
           {
            "colorbar": {
             "outlinewidth": 0,
             "ticks": ""
            },
            "colorscale": [
             [
              0,
              "#0d0887"
             ],
             [
              0.1111111111111111,
              "#46039f"
             ],
             [
              0.2222222222222222,
              "#7201a8"
             ],
             [
              0.3333333333333333,
              "#9c179e"
             ],
             [
              0.4444444444444444,
              "#bd3786"
             ],
             [
              0.5555555555555556,
              "#d8576b"
             ],
             [
              0.6666666666666666,
              "#ed7953"
             ],
             [
              0.7777777777777778,
              "#fb9f3a"
             ],
             [
              0.8888888888888888,
              "#fdca26"
             ],
             [
              1,
              "#f0f921"
             ]
            ],
            "type": "histogram2d"
           }
          ],
          "histogram2dcontour": [
           {
            "colorbar": {
             "outlinewidth": 0,
             "ticks": ""
            },
            "colorscale": [
             [
              0,
              "#0d0887"
             ],
             [
              0.1111111111111111,
              "#46039f"
             ],
             [
              0.2222222222222222,
              "#7201a8"
             ],
             [
              0.3333333333333333,
              "#9c179e"
             ],
             [
              0.4444444444444444,
              "#bd3786"
             ],
             [
              0.5555555555555556,
              "#d8576b"
             ],
             [
              0.6666666666666666,
              "#ed7953"
             ],
             [
              0.7777777777777778,
              "#fb9f3a"
             ],
             [
              0.8888888888888888,
              "#fdca26"
             ],
             [
              1,
              "#f0f921"
             ]
            ],
            "type": "histogram2dcontour"
           }
          ],
          "mesh3d": [
           {
            "colorbar": {
             "outlinewidth": 0,
             "ticks": ""
            },
            "type": "mesh3d"
           }
          ],
          "parcoords": [
           {
            "line": {
             "colorbar": {
              "outlinewidth": 0,
              "ticks": ""
             }
            },
            "type": "parcoords"
           }
          ],
          "pie": [
           {
            "automargin": true,
            "type": "pie"
           }
          ],
          "scatter": [
           {
            "fillpattern": {
             "fillmode": "overlay",
             "size": 10,
             "solidity": 0.2
            },
            "type": "scatter"
           }
          ],
          "scatter3d": [
           {
            "line": {
             "colorbar": {
              "outlinewidth": 0,
              "ticks": ""
             }
            },
            "marker": {
             "colorbar": {
              "outlinewidth": 0,
              "ticks": ""
             }
            },
            "type": "scatter3d"
           }
          ],
          "scattercarpet": [
           {
            "marker": {
             "colorbar": {
              "outlinewidth": 0,
              "ticks": ""
             }
            },
            "type": "scattercarpet"
           }
          ],
          "scattergeo": [
           {
            "marker": {
             "colorbar": {
              "outlinewidth": 0,
              "ticks": ""
             }
            },
            "type": "scattergeo"
           }
          ],
          "scattergl": [
           {
            "marker": {
             "colorbar": {
              "outlinewidth": 0,
              "ticks": ""
             }
            },
            "type": "scattergl"
           }
          ],
          "scattermapbox": [
           {
            "marker": {
             "colorbar": {
              "outlinewidth": 0,
              "ticks": ""
             }
            },
            "type": "scattermapbox"
           }
          ],
          "scatterpolar": [
           {
            "marker": {
             "colorbar": {
              "outlinewidth": 0,
              "ticks": ""
             }
            },
            "type": "scatterpolar"
           }
          ],
          "scatterpolargl": [
           {
            "marker": {
             "colorbar": {
              "outlinewidth": 0,
              "ticks": ""
             }
            },
            "type": "scatterpolargl"
           }
          ],
          "scatterternary": [
           {
            "marker": {
             "colorbar": {
              "outlinewidth": 0,
              "ticks": ""
             }
            },
            "type": "scatterternary"
           }
          ],
          "surface": [
           {
            "colorbar": {
             "outlinewidth": 0,
             "ticks": ""
            },
            "colorscale": [
             [
              0,
              "#0d0887"
             ],
             [
              0.1111111111111111,
              "#46039f"
             ],
             [
              0.2222222222222222,
              "#7201a8"
             ],
             [
              0.3333333333333333,
              "#9c179e"
             ],
             [
              0.4444444444444444,
              "#bd3786"
             ],
             [
              0.5555555555555556,
              "#d8576b"
             ],
             [
              0.6666666666666666,
              "#ed7953"
             ],
             [
              0.7777777777777778,
              "#fb9f3a"
             ],
             [
              0.8888888888888888,
              "#fdca26"
             ],
             [
              1,
              "#f0f921"
             ]
            ],
            "type": "surface"
           }
          ],
          "table": [
           {
            "cells": {
             "fill": {
              "color": "#EBF0F8"
             },
             "line": {
              "color": "white"
             }
            },
            "header": {
             "fill": {
              "color": "#C8D4E3"
             },
             "line": {
              "color": "white"
             }
            },
            "type": "table"
           }
          ]
         },
         "layout": {
          "annotationdefaults": {
           "arrowcolor": "#2a3f5f",
           "arrowhead": 0,
           "arrowwidth": 1
          },
          "autotypenumbers": "strict",
          "coloraxis": {
           "colorbar": {
            "outlinewidth": 0,
            "ticks": ""
           }
          },
          "colorscale": {
           "diverging": [
            [
             0,
             "#8e0152"
            ],
            [
             0.1,
             "#c51b7d"
            ],
            [
             0.2,
             "#de77ae"
            ],
            [
             0.3,
             "#f1b6da"
            ],
            [
             0.4,
             "#fde0ef"
            ],
            [
             0.5,
             "#f7f7f7"
            ],
            [
             0.6,
             "#e6f5d0"
            ],
            [
             0.7,
             "#b8e186"
            ],
            [
             0.8,
             "#7fbc41"
            ],
            [
             0.9,
             "#4d9221"
            ],
            [
             1,
             "#276419"
            ]
           ],
           "sequential": [
            [
             0,
             "#0d0887"
            ],
            [
             0.1111111111111111,
             "#46039f"
            ],
            [
             0.2222222222222222,
             "#7201a8"
            ],
            [
             0.3333333333333333,
             "#9c179e"
            ],
            [
             0.4444444444444444,
             "#bd3786"
            ],
            [
             0.5555555555555556,
             "#d8576b"
            ],
            [
             0.6666666666666666,
             "#ed7953"
            ],
            [
             0.7777777777777778,
             "#fb9f3a"
            ],
            [
             0.8888888888888888,
             "#fdca26"
            ],
            [
             1,
             "#f0f921"
            ]
           ],
           "sequentialminus": [
            [
             0,
             "#0d0887"
            ],
            [
             0.1111111111111111,
             "#46039f"
            ],
            [
             0.2222222222222222,
             "#7201a8"
            ],
            [
             0.3333333333333333,
             "#9c179e"
            ],
            [
             0.4444444444444444,
             "#bd3786"
            ],
            [
             0.5555555555555556,
             "#d8576b"
            ],
            [
             0.6666666666666666,
             "#ed7953"
            ],
            [
             0.7777777777777778,
             "#fb9f3a"
            ],
            [
             0.8888888888888888,
             "#fdca26"
            ],
            [
             1,
             "#f0f921"
            ]
           ]
          },
          "colorway": [
           "#636efa",
           "#EF553B",
           "#00cc96",
           "#ab63fa",
           "#FFA15A",
           "#19d3f3",
           "#FF6692",
           "#B6E880",
           "#FF97FF",
           "#FECB52"
          ],
          "font": {
           "color": "#2a3f5f"
          },
          "geo": {
           "bgcolor": "white",
           "lakecolor": "white",
           "landcolor": "#E5ECF6",
           "showlakes": true,
           "showland": true,
           "subunitcolor": "white"
          },
          "hoverlabel": {
           "align": "left"
          },
          "hovermode": "closest",
          "mapbox": {
           "style": "light"
          },
          "paper_bgcolor": "white",
          "plot_bgcolor": "#E5ECF6",
          "polar": {
           "angularaxis": {
            "gridcolor": "white",
            "linecolor": "white",
            "ticks": ""
           },
           "bgcolor": "#E5ECF6",
           "radialaxis": {
            "gridcolor": "white",
            "linecolor": "white",
            "ticks": ""
           }
          },
          "scene": {
           "xaxis": {
            "backgroundcolor": "#E5ECF6",
            "gridcolor": "white",
            "gridwidth": 2,
            "linecolor": "white",
            "showbackground": true,
            "ticks": "",
            "zerolinecolor": "white"
           },
           "yaxis": {
            "backgroundcolor": "#E5ECF6",
            "gridcolor": "white",
            "gridwidth": 2,
            "linecolor": "white",
            "showbackground": true,
            "ticks": "",
            "zerolinecolor": "white"
           },
           "zaxis": {
            "backgroundcolor": "#E5ECF6",
            "gridcolor": "white",
            "gridwidth": 2,
            "linecolor": "white",
            "showbackground": true,
            "ticks": "",
            "zerolinecolor": "white"
           }
          },
          "shapedefaults": {
           "line": {
            "color": "#2a3f5f"
           }
          },
          "ternary": {
           "aaxis": {
            "gridcolor": "white",
            "linecolor": "white",
            "ticks": ""
           },
           "baxis": {
            "gridcolor": "white",
            "linecolor": "white",
            "ticks": ""
           },
           "bgcolor": "#E5ECF6",
           "caxis": {
            "gridcolor": "white",
            "linecolor": "white",
            "ticks": ""
           }
          },
          "title": {
           "x": 0.05
          },
          "xaxis": {
           "automargin": true,
           "gridcolor": "white",
           "linecolor": "white",
           "ticks": "",
           "title": {
            "standoff": 15
           },
           "zerolinecolor": "white",
           "zerolinewidth": 2
          },
          "yaxis": {
           "automargin": true,
           "gridcolor": "white",
           "linecolor": "white",
           "ticks": "",
           "title": {
            "standoff": 15
           },
           "zerolinecolor": "white",
           "zerolinewidth": 2
          }
         }
        },
        "title": {
         "text": "Model Weighted f1-Score Performance"
        },
        "xaxis": {
         "anchor": "y",
         "categoryarray": [
          "GNB",
          "Tree",
          "XGB",
          "Stacked Model"
         ],
         "categoryorder": "array",
         "domain": [
          0,
          1
         ],
         "title": {
          "text": "Machine Learning Model"
         }
        },
        "yaxis": {
         "anchor": "x",
         "domain": [
          0,
          1
         ],
         "title": {
          "text": "Weighted f1-Score"
         }
        }
       }
      },
      "text/html": [
       "<div>                            <div id=\"4cdf09a7-77a3-4c4b-81e1-4e420b918932\" class=\"plotly-graph-div\" style=\"height:525px; width:100%;\"></div>            <script type=\"text/javascript\">                require([\"plotly\"], function(Plotly) {                    window.PLOTLYENV=window.PLOTLYENV || {};                                    if (document.getElementById(\"4cdf09a7-77a3-4c4b-81e1-4e420b918932\")) {                    Plotly.newPlot(                        \"4cdf09a7-77a3-4c4b-81e1-4e420b918932\",                        [{\"alignmentgroup\":\"True\",\"boxpoints\":\"all\",\"hovertemplate\":\"Machine Learning Model=%{x}<br>Weighted f1-Score=%{y}<extra></extra>\",\"legendgroup\":\"GNB\",\"marker\":{\"color\":\"#636efa\"},\"name\":\"GNB\",\"notched\":false,\"offsetgroup\":\"GNB\",\"orientation\":\"v\",\"showlegend\":true,\"x\":[\"GNB\",\"GNB\",\"GNB\",\"GNB\",\"GNB\",\"GNB\",\"GNB\",\"GNB\",\"GNB\",\"GNB\"],\"x0\":\" \",\"xaxis\":\"x\",\"y\":[0.49021277923226114,0.48816174819698194,0.5016366850721734,0.4890656186573671,0.4937436255807292,0.4931294872578772,0.4949186105771983,0.4991549262764149,0.4883404620898014,0.4896592647365606],\"y0\":\" \",\"yaxis\":\"y\",\"type\":\"box\"},{\"alignmentgroup\":\"True\",\"boxpoints\":\"all\",\"hovertemplate\":\"Machine Learning Model=%{x}<br>Weighted f1-Score=%{y}<extra></extra>\",\"legendgroup\":\"Tree\",\"marker\":{\"color\":\"#EF553B\"},\"name\":\"Tree\",\"notched\":false,\"offsetgroup\":\"Tree\",\"orientation\":\"v\",\"showlegend\":true,\"x\":[\"Tree\",\"Tree\",\"Tree\",\"Tree\",\"Tree\",\"Tree\",\"Tree\",\"Tree\",\"Tree\",\"Tree\"],\"x0\":\" \",\"xaxis\":\"x\",\"y\":[0.49395591647842946,0.4913186019958329,0.49635265212463026,0.4936003617148166,0.49728753381826846,0.4915021325543078,0.4963355793833316,0.4923241383014452,0.4949583200031113,0.49293209331283633],\"y0\":\" \",\"yaxis\":\"y\",\"type\":\"box\"},{\"alignmentgroup\":\"True\",\"boxpoints\":\"all\",\"hovertemplate\":\"Machine Learning Model=%{x}<br>Weighted f1-Score=%{y}<extra></extra>\",\"legendgroup\":\"XGB\",\"marker\":{\"color\":\"#00cc96\"},\"name\":\"XGB\",\"notched\":false,\"offsetgroup\":\"XGB\",\"orientation\":\"v\",\"showlegend\":true,\"x\":[\"XGB\",\"XGB\",\"XGB\",\"XGB\",\"XGB\",\"XGB\",\"XGB\",\"XGB\",\"XGB\",\"XGB\"],\"x0\":\" \",\"xaxis\":\"x\",\"y\":[0.5559134871731306,0.5536083694618409,0.5512097489754343,0.5551107100753496,0.5516901629328173,0.5590246002838755,0.5580970876343704,0.5472750973416809,0.555179334886721,0.5469519120204224],\"y0\":\" \",\"yaxis\":\"y\",\"type\":\"box\"},{\"alignmentgroup\":\"True\",\"boxpoints\":\"all\",\"hovertemplate\":\"Machine Learning Model=%{x}<br>Weighted f1-Score=%{y}<extra></extra>\",\"legendgroup\":\"Stacked Model\",\"marker\":{\"color\":\"#ab63fa\"},\"name\":\"Stacked Model\",\"notched\":false,\"offsetgroup\":\"Stacked Model\",\"orientation\":\"v\",\"showlegend\":true,\"x\":[\"Stacked Model\",\"Stacked Model\",\"Stacked Model\",\"Stacked Model\",\"Stacked Model\",\"Stacked Model\",\"Stacked Model\",\"Stacked Model\",\"Stacked Model\",\"Stacked Model\"],\"x0\":\" \",\"xaxis\":\"x\",\"y\":[0.5078471990699265,0.5049234732497797,0.5069081786582854,0.5082227301871328,0.5082061631095763,0.5047138232159096,0.5086445787017143,0.5075823903883498,0.5086454103430422,0.5041613087296903],\"y0\":\" \",\"yaxis\":\"y\",\"type\":\"box\"}],                        {\"template\":{\"data\":{\"histogram2dcontour\":[{\"type\":\"histogram2dcontour\",\"colorbar\":{\"outlinewidth\":0,\"ticks\":\"\"},\"colorscale\":[[0.0,\"#0d0887\"],[0.1111111111111111,\"#46039f\"],[0.2222222222222222,\"#7201a8\"],[0.3333333333333333,\"#9c179e\"],[0.4444444444444444,\"#bd3786\"],[0.5555555555555556,\"#d8576b\"],[0.6666666666666666,\"#ed7953\"],[0.7777777777777778,\"#fb9f3a\"],[0.8888888888888888,\"#fdca26\"],[1.0,\"#f0f921\"]]}],\"choropleth\":[{\"type\":\"choropleth\",\"colorbar\":{\"outlinewidth\":0,\"ticks\":\"\"}}],\"histogram2d\":[{\"type\":\"histogram2d\",\"colorbar\":{\"outlinewidth\":0,\"ticks\":\"\"},\"colorscale\":[[0.0,\"#0d0887\"],[0.1111111111111111,\"#46039f\"],[0.2222222222222222,\"#7201a8\"],[0.3333333333333333,\"#9c179e\"],[0.4444444444444444,\"#bd3786\"],[0.5555555555555556,\"#d8576b\"],[0.6666666666666666,\"#ed7953\"],[0.7777777777777778,\"#fb9f3a\"],[0.8888888888888888,\"#fdca26\"],[1.0,\"#f0f921\"]]}],\"heatmap\":[{\"type\":\"heatmap\",\"colorbar\":{\"outlinewidth\":0,\"ticks\":\"\"},\"colorscale\":[[0.0,\"#0d0887\"],[0.1111111111111111,\"#46039f\"],[0.2222222222222222,\"#7201a8\"],[0.3333333333333333,\"#9c179e\"],[0.4444444444444444,\"#bd3786\"],[0.5555555555555556,\"#d8576b\"],[0.6666666666666666,\"#ed7953\"],[0.7777777777777778,\"#fb9f3a\"],[0.8888888888888888,\"#fdca26\"],[1.0,\"#f0f921\"]]}],\"heatmapgl\":[{\"type\":\"heatmapgl\",\"colorbar\":{\"outlinewidth\":0,\"ticks\":\"\"},\"colorscale\":[[0.0,\"#0d0887\"],[0.1111111111111111,\"#46039f\"],[0.2222222222222222,\"#7201a8\"],[0.3333333333333333,\"#9c179e\"],[0.4444444444444444,\"#bd3786\"],[0.5555555555555556,\"#d8576b\"],[0.6666666666666666,\"#ed7953\"],[0.7777777777777778,\"#fb9f3a\"],[0.8888888888888888,\"#fdca26\"],[1.0,\"#f0f921\"]]}],\"contourcarpet\":[{\"type\":\"contourcarpet\",\"colorbar\":{\"outlinewidth\":0,\"ticks\":\"\"}}],\"contour\":[{\"type\":\"contour\",\"colorbar\":{\"outlinewidth\":0,\"ticks\":\"\"},\"colorscale\":[[0.0,\"#0d0887\"],[0.1111111111111111,\"#46039f\"],[0.2222222222222222,\"#7201a8\"],[0.3333333333333333,\"#9c179e\"],[0.4444444444444444,\"#bd3786\"],[0.5555555555555556,\"#d8576b\"],[0.6666666666666666,\"#ed7953\"],[0.7777777777777778,\"#fb9f3a\"],[0.8888888888888888,\"#fdca26\"],[1.0,\"#f0f921\"]]}],\"surface\":[{\"type\":\"surface\",\"colorbar\":{\"outlinewidth\":0,\"ticks\":\"\"},\"colorscale\":[[0.0,\"#0d0887\"],[0.1111111111111111,\"#46039f\"],[0.2222222222222222,\"#7201a8\"],[0.3333333333333333,\"#9c179e\"],[0.4444444444444444,\"#bd3786\"],[0.5555555555555556,\"#d8576b\"],[0.6666666666666666,\"#ed7953\"],[0.7777777777777778,\"#fb9f3a\"],[0.8888888888888888,\"#fdca26\"],[1.0,\"#f0f921\"]]}],\"mesh3d\":[{\"type\":\"mesh3d\",\"colorbar\":{\"outlinewidth\":0,\"ticks\":\"\"}}],\"scatter\":[{\"fillpattern\":{\"fillmode\":\"overlay\",\"size\":10,\"solidity\":0.2},\"type\":\"scatter\"}],\"parcoords\":[{\"type\":\"parcoords\",\"line\":{\"colorbar\":{\"outlinewidth\":0,\"ticks\":\"\"}}}],\"scatterpolargl\":[{\"type\":\"scatterpolargl\",\"marker\":{\"colorbar\":{\"outlinewidth\":0,\"ticks\":\"\"}}}],\"bar\":[{\"error_x\":{\"color\":\"#2a3f5f\"},\"error_y\":{\"color\":\"#2a3f5f\"},\"marker\":{\"line\":{\"color\":\"#E5ECF6\",\"width\":0.5},\"pattern\":{\"fillmode\":\"overlay\",\"size\":10,\"solidity\":0.2}},\"type\":\"bar\"}],\"scattergeo\":[{\"type\":\"scattergeo\",\"marker\":{\"colorbar\":{\"outlinewidth\":0,\"ticks\":\"\"}}}],\"scatterpolar\":[{\"type\":\"scatterpolar\",\"marker\":{\"colorbar\":{\"outlinewidth\":0,\"ticks\":\"\"}}}],\"histogram\":[{\"marker\":{\"pattern\":{\"fillmode\":\"overlay\",\"size\":10,\"solidity\":0.2}},\"type\":\"histogram\"}],\"scattergl\":[{\"type\":\"scattergl\",\"marker\":{\"colorbar\":{\"outlinewidth\":0,\"ticks\":\"\"}}}],\"scatter3d\":[{\"type\":\"scatter3d\",\"line\":{\"colorbar\":{\"outlinewidth\":0,\"ticks\":\"\"}},\"marker\":{\"colorbar\":{\"outlinewidth\":0,\"ticks\":\"\"}}}],\"scattermapbox\":[{\"type\":\"scattermapbox\",\"marker\":{\"colorbar\":{\"outlinewidth\":0,\"ticks\":\"\"}}}],\"scatterternary\":[{\"type\":\"scatterternary\",\"marker\":{\"colorbar\":{\"outlinewidth\":0,\"ticks\":\"\"}}}],\"scattercarpet\":[{\"type\":\"scattercarpet\",\"marker\":{\"colorbar\":{\"outlinewidth\":0,\"ticks\":\"\"}}}],\"carpet\":[{\"aaxis\":{\"endlinecolor\":\"#2a3f5f\",\"gridcolor\":\"white\",\"linecolor\":\"white\",\"minorgridcolor\":\"white\",\"startlinecolor\":\"#2a3f5f\"},\"baxis\":{\"endlinecolor\":\"#2a3f5f\",\"gridcolor\":\"white\",\"linecolor\":\"white\",\"minorgridcolor\":\"white\",\"startlinecolor\":\"#2a3f5f\"},\"type\":\"carpet\"}],\"table\":[{\"cells\":{\"fill\":{\"color\":\"#EBF0F8\"},\"line\":{\"color\":\"white\"}},\"header\":{\"fill\":{\"color\":\"#C8D4E3\"},\"line\":{\"color\":\"white\"}},\"type\":\"table\"}],\"barpolar\":[{\"marker\":{\"line\":{\"color\":\"#E5ECF6\",\"width\":0.5},\"pattern\":{\"fillmode\":\"overlay\",\"size\":10,\"solidity\":0.2}},\"type\":\"barpolar\"}],\"pie\":[{\"automargin\":true,\"type\":\"pie\"}]},\"layout\":{\"autotypenumbers\":\"strict\",\"colorway\":[\"#636efa\",\"#EF553B\",\"#00cc96\",\"#ab63fa\",\"#FFA15A\",\"#19d3f3\",\"#FF6692\",\"#B6E880\",\"#FF97FF\",\"#FECB52\"],\"font\":{\"color\":\"#2a3f5f\"},\"hovermode\":\"closest\",\"hoverlabel\":{\"align\":\"left\"},\"paper_bgcolor\":\"white\",\"plot_bgcolor\":\"#E5ECF6\",\"polar\":{\"bgcolor\":\"#E5ECF6\",\"angularaxis\":{\"gridcolor\":\"white\",\"linecolor\":\"white\",\"ticks\":\"\"},\"radialaxis\":{\"gridcolor\":\"white\",\"linecolor\":\"white\",\"ticks\":\"\"}},\"ternary\":{\"bgcolor\":\"#E5ECF6\",\"aaxis\":{\"gridcolor\":\"white\",\"linecolor\":\"white\",\"ticks\":\"\"},\"baxis\":{\"gridcolor\":\"white\",\"linecolor\":\"white\",\"ticks\":\"\"},\"caxis\":{\"gridcolor\":\"white\",\"linecolor\":\"white\",\"ticks\":\"\"}},\"coloraxis\":{\"colorbar\":{\"outlinewidth\":0,\"ticks\":\"\"}},\"colorscale\":{\"sequential\":[[0.0,\"#0d0887\"],[0.1111111111111111,\"#46039f\"],[0.2222222222222222,\"#7201a8\"],[0.3333333333333333,\"#9c179e\"],[0.4444444444444444,\"#bd3786\"],[0.5555555555555556,\"#d8576b\"],[0.6666666666666666,\"#ed7953\"],[0.7777777777777778,\"#fb9f3a\"],[0.8888888888888888,\"#fdca26\"],[1.0,\"#f0f921\"]],\"sequentialminus\":[[0.0,\"#0d0887\"],[0.1111111111111111,\"#46039f\"],[0.2222222222222222,\"#7201a8\"],[0.3333333333333333,\"#9c179e\"],[0.4444444444444444,\"#bd3786\"],[0.5555555555555556,\"#d8576b\"],[0.6666666666666666,\"#ed7953\"],[0.7777777777777778,\"#fb9f3a\"],[0.8888888888888888,\"#fdca26\"],[1.0,\"#f0f921\"]],\"diverging\":[[0,\"#8e0152\"],[0.1,\"#c51b7d\"],[0.2,\"#de77ae\"],[0.3,\"#f1b6da\"],[0.4,\"#fde0ef\"],[0.5,\"#f7f7f7\"],[0.6,\"#e6f5d0\"],[0.7,\"#b8e186\"],[0.8,\"#7fbc41\"],[0.9,\"#4d9221\"],[1,\"#276419\"]]},\"xaxis\":{\"gridcolor\":\"white\",\"linecolor\":\"white\",\"ticks\":\"\",\"title\":{\"standoff\":15},\"zerolinecolor\":\"white\",\"automargin\":true,\"zerolinewidth\":2},\"yaxis\":{\"gridcolor\":\"white\",\"linecolor\":\"white\",\"ticks\":\"\",\"title\":{\"standoff\":15},\"zerolinecolor\":\"white\",\"automargin\":true,\"zerolinewidth\":2},\"scene\":{\"xaxis\":{\"backgroundcolor\":\"#E5ECF6\",\"gridcolor\":\"white\",\"linecolor\":\"white\",\"showbackground\":true,\"ticks\":\"\",\"zerolinecolor\":\"white\",\"gridwidth\":2},\"yaxis\":{\"backgroundcolor\":\"#E5ECF6\",\"gridcolor\":\"white\",\"linecolor\":\"white\",\"showbackground\":true,\"ticks\":\"\",\"zerolinecolor\":\"white\",\"gridwidth\":2},\"zaxis\":{\"backgroundcolor\":\"#E5ECF6\",\"gridcolor\":\"white\",\"linecolor\":\"white\",\"showbackground\":true,\"ticks\":\"\",\"zerolinecolor\":\"white\",\"gridwidth\":2}},\"shapedefaults\":{\"line\":{\"color\":\"#2a3f5f\"}},\"annotationdefaults\":{\"arrowcolor\":\"#2a3f5f\",\"arrowhead\":0,\"arrowwidth\":1},\"geo\":{\"bgcolor\":\"white\",\"landcolor\":\"#E5ECF6\",\"subunitcolor\":\"white\",\"showland\":true,\"showlakes\":true,\"lakecolor\":\"white\"},\"title\":{\"x\":0.05},\"mapbox\":{\"style\":\"light\"}}},\"xaxis\":{\"anchor\":\"y\",\"domain\":[0.0,1.0],\"title\":{\"text\":\"Machine Learning Model\"},\"categoryorder\":\"array\",\"categoryarray\":[\"GNB\",\"Tree\",\"XGB\",\"Stacked Model\"]},\"yaxis\":{\"anchor\":\"x\",\"domain\":[0.0,1.0],\"title\":{\"text\":\"Weighted f1-Score\"}},\"legend\":{\"title\":{\"text\":\"Machine Learning Model\"},\"tracegroupgap\":0},\"title\":{\"text\":\"Model Weighted f1-Score Performance\"},\"boxmode\":\"overlay\"},                        {\"responsive\": true}                    ).then(function(){\n",
       "                            \n",
       "var gd = document.getElementById('4cdf09a7-77a3-4c4b-81e1-4e420b918932');\n",
       "var x = new MutationObserver(function (mutations, observer) {{\n",
       "        var display = window.getComputedStyle(gd).display;\n",
       "        if (!display || display === 'none') {{\n",
       "            console.log([gd, 'removed!']);\n",
       "            Plotly.purge(gd);\n",
       "            observer.disconnect();\n",
       "        }}\n",
       "}});\n",
       "\n",
       "// Listen for the removal of the full notebook cells\n",
       "var notebookContainer = gd.closest('#notebook-container');\n",
       "if (notebookContainer) {{\n",
       "    x.observe(notebookContainer, {childList: true});\n",
       "}}\n",
       "\n",
       "// Listen for the clearing of the current output cell\n",
       "var outputEl = gd.closest('.output');\n",
       "if (outputEl) {{\n",
       "    x.observe(outputEl, {childList: true});\n",
       "}}\n",
       "\n",
       "                        })                };                });            </script>        </div>"
      ]
     },
     "metadata": {},
     "output_type": "display_data"
    }
   ],
   "source": [
    "fig = px.box(classifmod1, x=\"Model\", y=\"Weighted_F1\", color=\"Model\", points='all',\n",
    "             labels={\"Model\": \"Machine Learning Model\",\n",
    "                     \"Weighted_F1\": \"Weighted f1-Score\"},\n",
    "             title=\"Model Weighted f1-Score Performance\")\n",
    "fig.show()\n",
    "fig.write_html(\"products/plots/stacked_train_weighted_f1.html\")"
   ]
  },
  {
   "cell_type": "markdown",
   "metadata": {},
   "source": [
    "## Pickle Stacked Classifier"
   ]
  },
  {
   "cell_type": "code",
   "execution_count": 147,
   "metadata": {},
   "outputs": [
    {
     "name": "stdout",
     "output_type": "stream",
     "text": [
      "Test score: 61.12 %\n"
     ]
    }
   ],
   "source": [
    "import pickle\n",
    "\n",
    "level0 = list()\n",
    "level0.append(('GNB', GaussianNB()))\n",
    "level0.append(('Tree', DecisionTreeClassifier()))\n",
    "level1 = XGBClassifier(verbosity=0)\n",
    "model = StackingClassifier(estimators=level0, final_estimator=level1, cv=5)\n",
    "model.fit(X_train, y_train)\n",
    "\n",
    "# Save to file in the current working directory\n",
    "pkl_filename = \"products/pickle_files/stacked.pkl\"\n",
    "with open(pkl_filename, 'wb') as file:\n",
    "  pickle.dump(model, file)\n",
    "\n",
    "# Load from file\n",
    "with open(pkl_filename, 'rb') as file:\n",
    "  pickle_model = pickle.load(file)\n",
    "  score = pickle_model.score(X_test, y_test)\n",
    "  print(\"Test score: {0:.2f} %\".format(100 * score))\n",
    "  Y_predict = pickle_model.predict(X_test)"
   ]
  },
  {
   "cell_type": "markdown",
   "metadata": {},
   "source": [
    "## Test Set Confusion Matrix for Stacked Classifier"
   ]
  },
  {
   "cell_type": "code",
   "execution_count": 149,
   "metadata": {},
   "outputs": [
    {
     "data": {
      "image/png": "[encoded data removed]",
      "text/plain": [
       "<Figure size 640x480 with 2 Axes>"
      ]
     },
     "metadata": {},
     "output_type": "display_data"
    }
   ],
   "source": [
    "from sklearn.metrics import ConfusionMatrixDisplay\n",
    "from seaborn import set_palette\n",
    "\n",
    "conf_matrix = confusion_matrix(y_test, Y_predict)\n",
    "disp = ConfusionMatrixDisplay(confusion_matrix=conf_matrix, display_labels=[\"Extras\", \"Dot\", \"Runs\", \"Wicket\"], )\n",
    "\n",
    "# save the plot\n",
    "\n",
    "disp.plot(cmap='YlGnBu',values_format='d',ax=None)\n",
    "plt.title('Test Set Confusion Matrix for Stacked Classifier', fontsize=15, color='#336699',loc='center')\n",
    "plt.savefig('products/plots/confusion_matrix_stacked.png')"
   ]
  }
 ],
 "metadata": {
  "kernelspec": {
   "display_name": "Python 3",
   "language": "python",
   "name": "python3"
  },
  "language_info": {
   "codemirror_mode": {
    "name": "ipython",
    "version": 3
   },
   "file_extension": ".py",
   "mimetype": "text/x-python",
   "name": "python",
   "nbconvert_exporter": "python",
   "pygments_lexer": "ipython3",
   "version": "3.10.11"
  }
 },
 "nbformat": 4,
 "nbformat_minor": 4
}
