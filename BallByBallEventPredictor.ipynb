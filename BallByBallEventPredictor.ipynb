{
 "cells": [
  {
   "cell_type": "markdown",
   "metadata": {},
   "source": [
    "---\n",
    "title: \"Project Step II\"\n",
    "subtitle: \"Group 11 - Ball by Ball Event Predictor\"\n",
    "date: 10/17/2023\n",
    "date-modified: last-modified\n",
    "date-format: long\n",
    "format:\n",
    "  html:\n",
    "    theme: [cosmo, theme.scss]\n",
    "    toc: true\n",
    "    embed-resources: true\n",
    "    number-sections: true\n",
    "author:\n",
    "  - name: Tegveer Ghura\n",
    "    affiliations:\n",
    "      - id: gu\n",
    "        name: Georgetown University\n",
    "        city: Washington\n",
    "        state: DC\n",
    "---"
   ]
  },
  {
   "cell_type": "markdown",
   "metadata": {},
   "source": [
    "# Data Preparation "
   ]
  },
  {
   "cell_type": "markdown",
   "metadata": {},
   "source": [
    "## Import the necessary libraries"
   ]
  },
  {
   "cell_type": "code",
   "execution_count": 1,
   "metadata": {},
   "outputs": [],
   "source": [
    "import random\n",
    "random.seed(1310)\n",
    "from seaborn.palettes import color_palette\n",
    "import pandas as pd\n",
    "import numpy as np\n",
    "import seaborn as sns\n",
    "import matplotlib.pyplot as plt\n",
    "%matplotlib inline\n",
    "from sklearn.preprocessing import LabelEncoder\n",
    "import re\n",
    "import numpy as np\n",
    "import plotly.express as px\n",
    "import plotly.io as pio\n",
    "#pio.renderers.default = \"notebook\"\n",
    "pio.renderers.default = \"plotly_mimetype+notebook_connected\"\n",
    "from sklearn.metrics import classification_report, confusion_matrix\n",
    "from sklearn.exceptions import ConvergenceWarning\n",
    "from sklearn.exceptions import DataConversionWarning\n",
    "ConvergenceWarning('ignore')\n",
    "DataConversionWarning('ignore')\n",
    "from sklearn.model_selection import cross_val_score, RepeatedKFold\n",
    "from sklearn.linear_model import LogisticRegression\n",
    "from sklearn.tree import DecisionTreeClassifier\n",
    "from sklearn.naive_bayes import GaussianNB\n",
    "from sklearn.ensemble import GradientBoostingClassifier, BaggingClassifier, RandomForestClassifier, StackingClassifier, AdaBoostClassifier\n",
    "from xgboost import XGBClassifier\n",
    "from catboost import CatBoostClassifier\n",
    "import pickle\n",
    "import joblib\n",
    "import json\n",
    "import sys\n",
    "import os\n",
    "import shutil\n",
    "import warnings"
   ]
  },
  {
   "cell_type": "markdown",
   "metadata": {},
   "source": [
    "# Load the dataset and display the dataframe "
   ]
  },
  {
   "cell_type": "code",
   "execution_count": 2,
   "metadata": {},
   "outputs": [],
   "source": [
    "df = pd.read_csv('data/raw/deliveries.csv', encoding = \"ISO-8859-1\", na_filter=False)"
   ]
  },
  {
   "cell_type": "code",
   "execution_count": 3,
   "metadata": {},
   "outputs": [
    {
     "data": {
      "text/html": [
       "<div>\n",
       "<style scoped>\n",
       "    .dataframe tbody tr th:only-of-type {\n",
       "        vertical-align: middle;\n",
       "    }\n",
       "\n",
       "    .dataframe tbody tr th {\n",
       "        vertical-align: top;\n",
       "    }\n",
       "\n",
       "    .dataframe thead th {\n",
       "        text-align: right;\n",
       "    }\n",
       "</style>\n",
       "<table border=\"1\" class=\"dataframe\">\n",
       "  <thead>\n",
       "    <tr style=\"text-align: right;\">\n",
       "      <th></th>\n",
       "      <th>season</th>\n",
       "      <th>match_id</th>\n",
       "      <th>venue</th>\n",
       "      <th>inning</th>\n",
       "      <th>batting_team</th>\n",
       "      <th>bowling_team</th>\n",
       "      <th>batsman</th>\n",
       "      <th>non_striker</th>\n",
       "      <th>bowler</th>\n",
       "      <th>ball</th>\n",
       "      <th>...</th>\n",
       "      <th>noball_runs</th>\n",
       "      <th>penalty_runs</th>\n",
       "      <th>batsman_runs</th>\n",
       "      <th>extra_runs</th>\n",
       "      <th>total_runs</th>\n",
       "      <th>player_dismissed</th>\n",
       "      <th>dismissal_kind</th>\n",
       "      <th>fielder</th>\n",
       "      <th>wickets</th>\n",
       "      <th>commentary</th>\n",
       "    </tr>\n",
       "  </thead>\n",
       "  <tbody>\n",
       "    <tr>\n",
       "      <th>0</th>\n",
       "      <td>2008</td>\n",
       "      <td>1</td>\n",
       "      <td>Bangalore</td>\n",
       "      <td>1</td>\n",
       "      <td>Kolkata Knight Riders</td>\n",
       "      <td>Royal Challengers Bangalore</td>\n",
       "      <td>SC Ganguly</td>\n",
       "      <td>BB McCullum</td>\n",
       "      <td>P Kumar</td>\n",
       "      <td>0.1</td>\n",
       "      <td>...</td>\n",
       "      <td>0</td>\n",
       "      <td>0</td>\n",
       "      <td>0</td>\n",
       "      <td>1</td>\n",
       "      <td>1</td>\n",
       "      <td></td>\n",
       "      <td></td>\n",
       "      <td></td>\n",
       "      <td>0</td>\n",
       "      <td>Kumar to Ganguly, 1 leg bye, and thats runs im...</td>\n",
       "    </tr>\n",
       "    <tr>\n",
       "      <th>1</th>\n",
       "      <td>2008</td>\n",
       "      <td>1</td>\n",
       "      <td>Bangalore</td>\n",
       "      <td>1</td>\n",
       "      <td>Kolkata Knight Riders</td>\n",
       "      <td>Royal Challengers Bangalore</td>\n",
       "      <td>BB McCullum</td>\n",
       "      <td>SC Ganguly</td>\n",
       "      <td>P Kumar</td>\n",
       "      <td>0.2</td>\n",
       "      <td>...</td>\n",
       "      <td>0</td>\n",
       "      <td>0</td>\n",
       "      <td>0</td>\n",
       "      <td>0</td>\n",
       "      <td>0</td>\n",
       "      <td></td>\n",
       "      <td></td>\n",
       "      <td></td>\n",
       "      <td>0</td>\n",
       "      <td>Kumar to McCullum, no run, this one nips back ...</td>\n",
       "    </tr>\n",
       "    <tr>\n",
       "      <th>2</th>\n",
       "      <td>2008</td>\n",
       "      <td>1</td>\n",
       "      <td>Bangalore</td>\n",
       "      <td>1</td>\n",
       "      <td>Kolkata Knight Riders</td>\n",
       "      <td>Royal Challengers Bangalore</td>\n",
       "      <td>BB McCullum</td>\n",
       "      <td>SC Ganguly</td>\n",
       "      <td>P Kumar</td>\n",
       "      <td>0.3</td>\n",
       "      <td>...</td>\n",
       "      <td>0</td>\n",
       "      <td>0</td>\n",
       "      <td>0</td>\n",
       "      <td>1</td>\n",
       "      <td>1</td>\n",
       "      <td></td>\n",
       "      <td></td>\n",
       "      <td></td>\n",
       "      <td>0</td>\n",
       "      <td>Kumar to McCullum, 1 wide, thats wide, as Prav...</td>\n",
       "    </tr>\n",
       "    <tr>\n",
       "      <th>3</th>\n",
       "      <td>2008</td>\n",
       "      <td>1</td>\n",
       "      <td>Bangalore</td>\n",
       "      <td>1</td>\n",
       "      <td>Kolkata Knight Riders</td>\n",
       "      <td>Royal Challengers Bangalore</td>\n",
       "      <td>BB McCullum</td>\n",
       "      <td>SC Ganguly</td>\n",
       "      <td>P Kumar</td>\n",
       "      <td>0.3</td>\n",
       "      <td>...</td>\n",
       "      <td>0</td>\n",
       "      <td>0</td>\n",
       "      <td>0</td>\n",
       "      <td>0</td>\n",
       "      <td>0</td>\n",
       "      <td></td>\n",
       "      <td></td>\n",
       "      <td></td>\n",
       "      <td>0</td>\n",
       "      <td>Kumar to McCullum, no run, too straight, McCul...</td>\n",
       "    </tr>\n",
       "    <tr>\n",
       "      <th>4</th>\n",
       "      <td>2008</td>\n",
       "      <td>1</td>\n",
       "      <td>Bangalore</td>\n",
       "      <td>1</td>\n",
       "      <td>Kolkata Knight Riders</td>\n",
       "      <td>Royal Challengers Bangalore</td>\n",
       "      <td>BB McCullum</td>\n",
       "      <td>SC Ganguly</td>\n",
       "      <td>P Kumar</td>\n",
       "      <td>0.4</td>\n",
       "      <td>...</td>\n",
       "      <td>0</td>\n",
       "      <td>0</td>\n",
       "      <td>0</td>\n",
       "      <td>0</td>\n",
       "      <td>0</td>\n",
       "      <td></td>\n",
       "      <td></td>\n",
       "      <td></td>\n",
       "      <td>0</td>\n",
       "      <td>Kumar to McCullum, no run, steps down the trac...</td>\n",
       "    </tr>\n",
       "  </tbody>\n",
       "</table>\n",
       "<p>5 rows × 23 columns</p>\n",
       "</div>"
      ],
      "text/plain": [
       "   season match_id      venue  inning           batting_team  \\\n",
       "0    2008        1  Bangalore       1  Kolkata Knight Riders   \n",
       "1    2008        1  Bangalore       1  Kolkata Knight Riders   \n",
       "2    2008        1  Bangalore       1  Kolkata Knight Riders   \n",
       "3    2008        1  Bangalore       1  Kolkata Knight Riders   \n",
       "4    2008        1  Bangalore       1  Kolkata Knight Riders   \n",
       "\n",
       "                  bowling_team      batsman  non_striker   bowler  ball  ...  \\\n",
       "0  Royal Challengers Bangalore   SC Ganguly  BB McCullum  P Kumar   0.1  ...   \n",
       "1  Royal Challengers Bangalore  BB McCullum   SC Ganguly  P Kumar   0.2  ...   \n",
       "2  Royal Challengers Bangalore  BB McCullum   SC Ganguly  P Kumar   0.3  ...   \n",
       "3  Royal Challengers Bangalore  BB McCullum   SC Ganguly  P Kumar   0.3  ...   \n",
       "4  Royal Challengers Bangalore  BB McCullum   SC Ganguly  P Kumar   0.4  ...   \n",
       "\n",
       "   noball_runs  penalty_runs  batsman_runs  extra_runs  total_runs  \\\n",
       "0            0             0             0           1           1   \n",
       "1            0             0             0           0           0   \n",
       "2            0             0             0           1           1   \n",
       "3            0             0             0           0           0   \n",
       "4            0             0             0           0           0   \n",
       "\n",
       "   player_dismissed  dismissal_kind  fielder wickets  \\\n",
       "0                                                  0   \n",
       "1                                                  0   \n",
       "2                                                  0   \n",
       "3                                                  0   \n",
       "4                                                  0   \n",
       "\n",
       "                                          commentary  \n",
       "0  Kumar to Ganguly, 1 leg bye, and thats runs im...  \n",
       "1  Kumar to McCullum, no run, this one nips back ...  \n",
       "2  Kumar to McCullum, 1 wide, thats wide, as Prav...  \n",
       "3  Kumar to McCullum, no run, too straight, McCul...  \n",
       "4  Kumar to McCullum, no run, steps down the trac...  \n",
       "\n",
       "[5 rows x 23 columns]"
      ]
     },
     "execution_count": 3,
     "metadata": {},
     "output_type": "execute_result"
    }
   ],
   "source": [
    "df.head()"
   ]
  },
  {
   "cell_type": "code",
   "execution_count": 4,
   "metadata": {},
   "outputs": [
    {
     "data": {
      "text/html": [
       "<div>\n",
       "<style scoped>\n",
       "    .dataframe tbody tr th:only-of-type {\n",
       "        vertical-align: middle;\n",
       "    }\n",
       "\n",
       "    .dataframe tbody tr th {\n",
       "        vertical-align: top;\n",
       "    }\n",
       "\n",
       "    .dataframe thead th {\n",
       "        text-align: right;\n",
       "    }\n",
       "</style>\n",
       "<table border=\"1\" class=\"dataframe\">\n",
       "  <thead>\n",
       "    <tr style=\"text-align: right;\">\n",
       "      <th></th>\n",
       "      <th>season</th>\n",
       "      <th>match_id</th>\n",
       "      <th>venue</th>\n",
       "      <th>inning</th>\n",
       "      <th>batting_team</th>\n",
       "      <th>bowling_team</th>\n",
       "      <th>batsman</th>\n",
       "      <th>non_striker</th>\n",
       "      <th>bowler</th>\n",
       "      <th>ball</th>\n",
       "      <th>...</th>\n",
       "      <th>noball_runs</th>\n",
       "      <th>penalty_runs</th>\n",
       "      <th>batsman_runs</th>\n",
       "      <th>extra_runs</th>\n",
       "      <th>total_runs</th>\n",
       "      <th>player_dismissed</th>\n",
       "      <th>dismissal_kind</th>\n",
       "      <th>fielder</th>\n",
       "      <th>wickets</th>\n",
       "      <th>commentary</th>\n",
       "    </tr>\n",
       "  </thead>\n",
       "  <tbody>\n",
       "    <tr>\n",
       "      <th>131996</th>\n",
       "      <td>2019</td>\n",
       "      <td>final</td>\n",
       "      <td>Hyderabad</td>\n",
       "      <td>2</td>\n",
       "      <td>Chennai Super Kings</td>\n",
       "      <td>Mumbai Indians</td>\n",
       "      <td>RA Jadeja</td>\n",
       "      <td>SR Watson</td>\n",
       "      <td>SL Malinga</td>\n",
       "      <td>19.2</td>\n",
       "      <td>...</td>\n",
       "      <td>0</td>\n",
       "      <td>0</td>\n",
       "      <td>1</td>\n",
       "      <td>0</td>\n",
       "      <td>1</td>\n",
       "      <td></td>\n",
       "      <td></td>\n",
       "      <td></td>\n",
       "      <td>5</td>\n",
       "      <td>Malinga to Jadeja, 1 run, low full toss on mid...</td>\n",
       "    </tr>\n",
       "    <tr>\n",
       "      <th>131997</th>\n",
       "      <td>2019</td>\n",
       "      <td>final</td>\n",
       "      <td>Hyderabad</td>\n",
       "      <td>2</td>\n",
       "      <td>Chennai Super Kings</td>\n",
       "      <td>Mumbai Indians</td>\n",
       "      <td>SR Watson</td>\n",
       "      <td>RA Jadeja</td>\n",
       "      <td>SL Malinga</td>\n",
       "      <td>19.3</td>\n",
       "      <td>...</td>\n",
       "      <td>0</td>\n",
       "      <td>0</td>\n",
       "      <td>2</td>\n",
       "      <td>0</td>\n",
       "      <td>2</td>\n",
       "      <td></td>\n",
       "      <td></td>\n",
       "      <td></td>\n",
       "      <td>5</td>\n",
       "      <td>Malinga to Watson, 2 runs, yorker, just outsid...</td>\n",
       "    </tr>\n",
       "    <tr>\n",
       "      <th>131998</th>\n",
       "      <td>2019</td>\n",
       "      <td>final</td>\n",
       "      <td>Hyderabad</td>\n",
       "      <td>2</td>\n",
       "      <td>Chennai Super Kings</td>\n",
       "      <td>Mumbai Indians</td>\n",
       "      <td>SR Watson</td>\n",
       "      <td>RA Jadeja</td>\n",
       "      <td>SL Malinga</td>\n",
       "      <td>19.4</td>\n",
       "      <td>...</td>\n",
       "      <td>0</td>\n",
       "      <td>0</td>\n",
       "      <td>1</td>\n",
       "      <td>0</td>\n",
       "      <td>1</td>\n",
       "      <td>SR Watson</td>\n",
       "      <td>run out</td>\n",
       "      <td>KH Pandya</td>\n",
       "      <td>6</td>\n",
       "      <td>Malinga to Watson, 1 run, OUT, yorker, just ou...</td>\n",
       "    </tr>\n",
       "    <tr>\n",
       "      <th>131999</th>\n",
       "      <td>2019</td>\n",
       "      <td>final</td>\n",
       "      <td>Hyderabad</td>\n",
       "      <td>2</td>\n",
       "      <td>Chennai Super Kings</td>\n",
       "      <td>Mumbai Indians</td>\n",
       "      <td>SN Thakur</td>\n",
       "      <td>RA Jadeja</td>\n",
       "      <td>SL Malinga</td>\n",
       "      <td>19.5</td>\n",
       "      <td>...</td>\n",
       "      <td>0</td>\n",
       "      <td>0</td>\n",
       "      <td>2</td>\n",
       "      <td>0</td>\n",
       "      <td>2</td>\n",
       "      <td></td>\n",
       "      <td></td>\n",
       "      <td></td>\n",
       "      <td>6</td>\n",
       "      <td>Malinga to Thakur, 2 runs, full toss on leg, a...</td>\n",
       "    </tr>\n",
       "    <tr>\n",
       "      <th>132000</th>\n",
       "      <td>2019</td>\n",
       "      <td>final</td>\n",
       "      <td>Hyderabad</td>\n",
       "      <td>2</td>\n",
       "      <td>Chennai Super Kings</td>\n",
       "      <td>Mumbai Indians</td>\n",
       "      <td>SN Thakur</td>\n",
       "      <td>RA Jadeja</td>\n",
       "      <td>SL Malinga</td>\n",
       "      <td>19.6</td>\n",
       "      <td>...</td>\n",
       "      <td>0</td>\n",
       "      <td>0</td>\n",
       "      <td>0</td>\n",
       "      <td>0</td>\n",
       "      <td>0</td>\n",
       "      <td>SN Thakur</td>\n",
       "      <td>lbw</td>\n",
       "      <td></td>\n",
       "      <td>7</td>\n",
       "      <td>Malinga to Thakur, OUT, Mumbai Indians win IPL...</td>\n",
       "    </tr>\n",
       "  </tbody>\n",
       "</table>\n",
       "<p>5 rows × 23 columns</p>\n",
       "</div>"
      ],
      "text/plain": [
       "        season match_id      venue  inning         batting_team  \\\n",
       "131996    2019    final  Hyderabad       2  Chennai Super Kings   \n",
       "131997    2019    final  Hyderabad       2  Chennai Super Kings   \n",
       "131998    2019    final  Hyderabad       2  Chennai Super Kings   \n",
       "131999    2019    final  Hyderabad       2  Chennai Super Kings   \n",
       "132000    2019    final  Hyderabad       2  Chennai Super Kings   \n",
       "\n",
       "          bowling_team    batsman non_striker      bowler  ball  ...  \\\n",
       "131996  Mumbai Indians  RA Jadeja   SR Watson  SL Malinga  19.2  ...   \n",
       "131997  Mumbai Indians  SR Watson   RA Jadeja  SL Malinga  19.3  ...   \n",
       "131998  Mumbai Indians  SR Watson   RA Jadeja  SL Malinga  19.4  ...   \n",
       "131999  Mumbai Indians  SN Thakur   RA Jadeja  SL Malinga  19.5  ...   \n",
       "132000  Mumbai Indians  SN Thakur   RA Jadeja  SL Malinga  19.6  ...   \n",
       "\n",
       "        noball_runs  penalty_runs  batsman_runs  extra_runs  total_runs  \\\n",
       "131996            0             0             1           0           1   \n",
       "131997            0             0             2           0           2   \n",
       "131998            0             0             1           0           1   \n",
       "131999            0             0             2           0           2   \n",
       "132000            0             0             0           0           0   \n",
       "\n",
       "        player_dismissed  dismissal_kind    fielder wickets  \\\n",
       "131996                                                    5   \n",
       "131997                                                    5   \n",
       "131998         SR Watson         run out  KH Pandya       6   \n",
       "131999                                                    6   \n",
       "132000         SN Thakur             lbw                  7   \n",
       "\n",
       "                                               commentary  \n",
       "131996  Malinga to Jadeja, 1 run, low full toss on mid...  \n",
       "131997  Malinga to Watson, 2 runs, yorker, just outsid...  \n",
       "131998  Malinga to Watson, 1 run, OUT, yorker, just ou...  \n",
       "131999  Malinga to Thakur, 2 runs, full toss on leg, a...  \n",
       "132000  Malinga to Thakur, OUT, Mumbai Indians win IPL...  \n",
       "\n",
       "[5 rows x 23 columns]"
      ]
     },
     "execution_count": 4,
     "metadata": {},
     "output_type": "execute_result"
    }
   ],
   "source": [
    "df.tail()"
   ]
  },
  {
   "cell_type": "code",
   "execution_count": 5,
   "metadata": {},
   "outputs": [
    {
     "data": {
      "text/plain": [
       "(132001, 23)"
      ]
     },
     "execution_count": 5,
     "metadata": {},
     "output_type": "execute_result"
    }
   ],
   "source": [
    "df.shape"
   ]
  },
  {
   "cell_type": "code",
   "execution_count": 6,
   "metadata": {},
   "outputs": [
    {
     "data": {
      "text/plain": [
       "Index(['season', 'match_id', 'venue', 'inning', 'batting_team', 'bowling_team',\n",
       "       'batsman', 'non_striker', 'bowler', 'ball', 'wide_runs', 'bye_runs',\n",
       "       'legbye_runs', 'noball_runs', 'penalty_runs', 'batsman_runs',\n",
       "       'extra_runs', 'total_runs', 'player_dismissed', 'dismissal_kind',\n",
       "       'fielder', 'wickets', 'commentary'],\n",
       "      dtype='object')"
      ]
     },
     "execution_count": 6,
     "metadata": {},
     "output_type": "execute_result"
    }
   ],
   "source": [
    "df.columns"
   ]
  },
  {
   "cell_type": "markdown",
   "metadata": {},
   "source": [
    "## Check for Missing Values/NAs"
   ]
  },
  {
   "cell_type": "code",
   "execution_count": 7,
   "metadata": {},
   "outputs": [
    {
     "data": {
      "text/plain": [
       "season              0\n",
       "match_id            0\n",
       "venue               0\n",
       "inning              0\n",
       "batting_team        0\n",
       "bowling_team        0\n",
       "batsman             0\n",
       "non_striker         0\n",
       "bowler              0\n",
       "ball                0\n",
       "wide_runs           0\n",
       "bye_runs            0\n",
       "legbye_runs         0\n",
       "noball_runs         0\n",
       "penalty_runs        0\n",
       "batsman_runs        0\n",
       "extra_runs          0\n",
       "total_runs          0\n",
       "player_dismissed    0\n",
       "dismissal_kind      0\n",
       "fielder             0\n",
       "wickets             0\n",
       "commentary          0\n",
       "dtype: int64"
      ]
     },
     "execution_count": 7,
     "metadata": {},
     "output_type": "execute_result"
    }
   ],
   "source": [
    "df.isna().sum()"
   ]
  },
  {
   "cell_type": "markdown",
   "metadata": {},
   "source": [
    "## Remove Unnecessary Columns"
   ]
  },
  {
   "cell_type": "code",
   "execution_count": 8,
   "metadata": {
    "scrolled": true
   },
   "outputs": [],
   "source": [
    "columns_to_remove = ['player_dismissed', 'fielder', 'penalty_runs']\n",
    "df.drop(labels=columns_to_remove, axis=1, inplace=True)"
   ]
  },
  {
   "cell_type": "code",
   "execution_count": 9,
   "metadata": {},
   "outputs": [
    {
     "data": {
      "text/html": [
       "<div>\n",
       "<style scoped>\n",
       "    .dataframe tbody tr th:only-of-type {\n",
       "        vertical-align: middle;\n",
       "    }\n",
       "\n",
       "    .dataframe tbody tr th {\n",
       "        vertical-align: top;\n",
       "    }\n",
       "\n",
       "    .dataframe thead th {\n",
       "        text-align: right;\n",
       "    }\n",
       "</style>\n",
       "<table border=\"1\" class=\"dataframe\">\n",
       "  <thead>\n",
       "    <tr style=\"text-align: right;\">\n",
       "      <th></th>\n",
       "      <th>season</th>\n",
       "      <th>match_id</th>\n",
       "      <th>venue</th>\n",
       "      <th>inning</th>\n",
       "      <th>batting_team</th>\n",
       "      <th>bowling_team</th>\n",
       "      <th>batsman</th>\n",
       "      <th>non_striker</th>\n",
       "      <th>bowler</th>\n",
       "      <th>ball</th>\n",
       "      <th>wide_runs</th>\n",
       "      <th>bye_runs</th>\n",
       "      <th>legbye_runs</th>\n",
       "      <th>noball_runs</th>\n",
       "      <th>batsman_runs</th>\n",
       "      <th>extra_runs</th>\n",
       "      <th>total_runs</th>\n",
       "      <th>dismissal_kind</th>\n",
       "      <th>wickets</th>\n",
       "      <th>commentary</th>\n",
       "    </tr>\n",
       "  </thead>\n",
       "  <tbody>\n",
       "    <tr>\n",
       "      <th>0</th>\n",
       "      <td>2008</td>\n",
       "      <td>1</td>\n",
       "      <td>Bangalore</td>\n",
       "      <td>1</td>\n",
       "      <td>Kolkata Knight Riders</td>\n",
       "      <td>Royal Challengers Bangalore</td>\n",
       "      <td>SC Ganguly</td>\n",
       "      <td>BB McCullum</td>\n",
       "      <td>P Kumar</td>\n",
       "      <td>0.1</td>\n",
       "      <td>0</td>\n",
       "      <td>0</td>\n",
       "      <td>1</td>\n",
       "      <td>0</td>\n",
       "      <td>0</td>\n",
       "      <td>1</td>\n",
       "      <td>1</td>\n",
       "      <td></td>\n",
       "      <td>0</td>\n",
       "      <td>Kumar to Ganguly, 1 leg bye, and thats runs im...</td>\n",
       "    </tr>\n",
       "    <tr>\n",
       "      <th>1</th>\n",
       "      <td>2008</td>\n",
       "      <td>1</td>\n",
       "      <td>Bangalore</td>\n",
       "      <td>1</td>\n",
       "      <td>Kolkata Knight Riders</td>\n",
       "      <td>Royal Challengers Bangalore</td>\n",
       "      <td>BB McCullum</td>\n",
       "      <td>SC Ganguly</td>\n",
       "      <td>P Kumar</td>\n",
       "      <td>0.2</td>\n",
       "      <td>0</td>\n",
       "      <td>0</td>\n",
       "      <td>0</td>\n",
       "      <td>0</td>\n",
       "      <td>0</td>\n",
       "      <td>0</td>\n",
       "      <td>0</td>\n",
       "      <td></td>\n",
       "      <td>0</td>\n",
       "      <td>Kumar to McCullum, no run, this one nips back ...</td>\n",
       "    </tr>\n",
       "    <tr>\n",
       "      <th>2</th>\n",
       "      <td>2008</td>\n",
       "      <td>1</td>\n",
       "      <td>Bangalore</td>\n",
       "      <td>1</td>\n",
       "      <td>Kolkata Knight Riders</td>\n",
       "      <td>Royal Challengers Bangalore</td>\n",
       "      <td>BB McCullum</td>\n",
       "      <td>SC Ganguly</td>\n",
       "      <td>P Kumar</td>\n",
       "      <td>0.3</td>\n",
       "      <td>1</td>\n",
       "      <td>0</td>\n",
       "      <td>0</td>\n",
       "      <td>0</td>\n",
       "      <td>0</td>\n",
       "      <td>1</td>\n",
       "      <td>1</td>\n",
       "      <td></td>\n",
       "      <td>0</td>\n",
       "      <td>Kumar to McCullum, 1 wide, thats wide, as Prav...</td>\n",
       "    </tr>\n",
       "    <tr>\n",
       "      <th>3</th>\n",
       "      <td>2008</td>\n",
       "      <td>1</td>\n",
       "      <td>Bangalore</td>\n",
       "      <td>1</td>\n",
       "      <td>Kolkata Knight Riders</td>\n",
       "      <td>Royal Challengers Bangalore</td>\n",
       "      <td>BB McCullum</td>\n",
       "      <td>SC Ganguly</td>\n",
       "      <td>P Kumar</td>\n",
       "      <td>0.3</td>\n",
       "      <td>0</td>\n",
       "      <td>0</td>\n",
       "      <td>0</td>\n",
       "      <td>0</td>\n",
       "      <td>0</td>\n",
       "      <td>0</td>\n",
       "      <td>0</td>\n",
       "      <td></td>\n",
       "      <td>0</td>\n",
       "      <td>Kumar to McCullum, no run, too straight, McCul...</td>\n",
       "    </tr>\n",
       "    <tr>\n",
       "      <th>4</th>\n",
       "      <td>2008</td>\n",
       "      <td>1</td>\n",
       "      <td>Bangalore</td>\n",
       "      <td>1</td>\n",
       "      <td>Kolkata Knight Riders</td>\n",
       "      <td>Royal Challengers Bangalore</td>\n",
       "      <td>BB McCullum</td>\n",
       "      <td>SC Ganguly</td>\n",
       "      <td>P Kumar</td>\n",
       "      <td>0.4</td>\n",
       "      <td>0</td>\n",
       "      <td>0</td>\n",
       "      <td>0</td>\n",
       "      <td>0</td>\n",
       "      <td>0</td>\n",
       "      <td>0</td>\n",
       "      <td>0</td>\n",
       "      <td></td>\n",
       "      <td>0</td>\n",
       "      <td>Kumar to McCullum, no run, steps down the trac...</td>\n",
       "    </tr>\n",
       "  </tbody>\n",
       "</table>\n",
       "</div>"
      ],
      "text/plain": [
       "   season match_id      venue  inning           batting_team  \\\n",
       "0    2008        1  Bangalore       1  Kolkata Knight Riders   \n",
       "1    2008        1  Bangalore       1  Kolkata Knight Riders   \n",
       "2    2008        1  Bangalore       1  Kolkata Knight Riders   \n",
       "3    2008        1  Bangalore       1  Kolkata Knight Riders   \n",
       "4    2008        1  Bangalore       1  Kolkata Knight Riders   \n",
       "\n",
       "                  bowling_team      batsman  non_striker   bowler  ball  \\\n",
       "0  Royal Challengers Bangalore   SC Ganguly  BB McCullum  P Kumar   0.1   \n",
       "1  Royal Challengers Bangalore  BB McCullum   SC Ganguly  P Kumar   0.2   \n",
       "2  Royal Challengers Bangalore  BB McCullum   SC Ganguly  P Kumar   0.3   \n",
       "3  Royal Challengers Bangalore  BB McCullum   SC Ganguly  P Kumar   0.3   \n",
       "4  Royal Challengers Bangalore  BB McCullum   SC Ganguly  P Kumar   0.4   \n",
       "\n",
       "   wide_runs  bye_runs  legbye_runs  noball_runs  batsman_runs  extra_runs  \\\n",
       "0          0         0            1            0             0           1   \n",
       "1          0         0            0            0             0           0   \n",
       "2          1         0            0            0             0           1   \n",
       "3          0         0            0            0             0           0   \n",
       "4          0         0            0            0             0           0   \n",
       "\n",
       "   total_runs dismissal_kind  wickets  \\\n",
       "0           1                       0   \n",
       "1           0                       0   \n",
       "2           1                       0   \n",
       "3           0                       0   \n",
       "4           0                       0   \n",
       "\n",
       "                                          commentary  \n",
       "0  Kumar to Ganguly, 1 leg bye, and thats runs im...  \n",
       "1  Kumar to McCullum, no run, this one nips back ...  \n",
       "2  Kumar to McCullum, 1 wide, thats wide, as Prav...  \n",
       "3  Kumar to McCullum, no run, too straight, McCul...  \n",
       "4  Kumar to McCullum, no run, steps down the trac...  "
      ]
     },
     "execution_count": 9,
     "metadata": {},
     "output_type": "execute_result"
    }
   ],
   "source": [
    "df.head()"
   ]
  },
  {
   "cell_type": "markdown",
   "metadata": {},
   "source": [
    "## Feature Engineering Bowler Type"
   ]
  },
  {
   "cell_type": "markdown",
   "metadata": {},
   "source": [
    "In the code cell below, we have created a custom list of all spin bowlers for each team. We have then modified the `bowler` column in the dataframe which will be used to identify the type of bowler, either \"spinner\" or \"pacer\". Therefore, instead of dropping the `bowler` column, we have created a new column `bowler_type` which will be used for our analysis and enhance the predictive power of our models."
   ]
  },
  {
   "cell_type": "code",
   "execution_count": 10,
   "metadata": {},
   "outputs": [],
   "source": [
    "# Replacing all spinner names with 'spinner' and all pacer names with 'pacer' under `bowler` column\n",
    "\n",
    "rcb_spin = ['SB Joshi', 'KP Appanna', 'A Kumble', 'J Arunkumar', 'Abdur Razzak', 'CL White', 'TM Dilshan',\n",
    "            'KP Pietersen', 'RE van der Merwe', 'S Sriram', 'DL Vettori', 'KB Arun Karthik', 'CH Gayle', 'S Sriram',\n",
    "            'AA Kazi', 'R Ninan', 'J Syed Mohammad', 'M Muralitharan', 'M Kartik', 'P R Barman', 'Sachin Baby',\n",
    "            'YS Chahal', 'Yuvraj Singh', 'SB Jakati', 'Iqbal Abdulla', 'T Shamsi', 'Parvez Rasool',\n",
    "            'S Baby', 'TM Head', 'KM Jadhav', 'P Negi', 'S Badree', 'Washington Sundar', 'M Ali', 'M Ashwin']\n",
    "\n",
    "mi_spin = ['A Dananjaya', 'AG Murtaza', 'A Roy', 'GJ Maxwell', 'Harbhajan Singh', 'J Suchith', 'J Yadav',\n",
    "           'JP Duminy', 'KH Pandya', 'KV Sharma', 'M Markande', 'N Rana', 'PP Ojha', 'RD Chahar', 'RG Sharma',\n",
    "           'RJ Peterson', 'RW Price', 'S Gopal', 'SD Chitnis', 'ST Jayasuriya', 'TL Suman', 'VS Yeligati']\n",
    "\n",
    "kkr_spin = ['BAW Mendis','BJ Hodge', 'DJ Hussey', 'GB Hogg', 'J Botha', 'KC Cariappa', 'M Kartik', 'CH Gayle',\n",
    "            'Iqbal Abdulla', 'Kuldeep Yadav', 'MB Parmar', 'MK Tiwary', 'Mohammad Hafeez', 'N Rana',\n",
    "            'PP Chawla', 'RS Gavaskar', 'S Ladda', 'Shakib Al Hasan', 'SMSM Senanayake', 'SP Narine', 'YK Pathan']\n",
    "\n",
    "csk_spin = ['DJ Hussey', 'F du Plessis', 'Harbhajan Singh', 'Imran Tahir', 'RA Jadeja', 'KV Sharma', 'M Santner',\n",
    "            'M Muralitharan', 'P Negi', 'R Ashwin', 'S Badree', 'S Randiv', 'S Vidyut', 'SB Jakati', 'SK Raina',\n",
    "            'SMSM Senanayake']\n",
    "\n",
    "dc_spin = ['A Mishra', 'AA Jhunjhunwala', 'Ankit Sharma', 'CL White', 'PP Ojha', 'DB Ravi Teja', 'JP Duminy',\n",
    "           'LPC Silva', 'R Sharma', 'RG Sharma', 'S Dhawan', 'Shahid Afridi', 'TL Suman', 'Y Venugopal Rao']\n",
    "\n",
    "dd_spin = ['A Mishra', 'AJ Finch', 'AR Patel', 'BMAJ Mendis', 'DL Vettori', 'GJ Maxwell', 'H Vihari', 'Imran Tahir',\n",
    "           'J Suchith', 'J Botha', 'J Yadav', 'JP Duminy', 'KP Pietersen', 'MK Tiwary', 'P Negi', 'R Sharma',\n",
    "           'R Tewatia', 'RE van der Merwe', 'S Ladda', 'S Lamichhane', 'S Nadeem', 'S Sriram', 'Shoaib Malik',\n",
    "           'TM Dilshan', 'Sunny Gupta', 'V Sehwag', 'Y Venugopal Rao', 'Yuvraj Singh', 'Y Nagar']\n",
    "\n",
    "srh_spin = ['A Mishra', 'Ankit Sharma', 'Bipul Sharma', 'CL White', 'DJ Hooda', 'KS Williamson', 'KV Sharma',\n",
    "            'Mohammad Nabi', 'Parvez Rasool', 'Rashid Khan', 'S Nadeem', 'Shakib Al Hasan', 'Y Venugopal Rao', 'YK Pathan',\n",
    "            'Yuvraj Singh']\n",
    "\n",
    "rr_spin = ['A Chandila', 'AA Chavan', 'AA Jhunjhunwala', 'AC Voges', 'AJ Finch', 'AL Menaria', 'Ankit Sharma',\n",
    "           'AS Raut', 'BJ Hodge', 'D Short', 'DJ Hooda', 'D Salunkhe', 'GB Hogg', 'I Sodhi', 'J Botha', 'K Gowtham',\n",
    "           'L Livingstone', 'LRPL Taylor', 'M Lomror', 'PV Tambe', 'ND Doshi', 'R Parag', 'R Tewatia', 'S Badree',\n",
    "           'S Gopal', 'RA Jadeja', 'S Midhun', 'SK Warne', 'YK Pathan']\n",
    "\n",
    "punj_spin = ['AC Gilchrist', 'AR Patel', 'BA Bhatt', 'Bipul Sharma', 'DJ Hussey', 'GJ Maxwell', 'Gurkeerat Singh'\n",
    "            'H Brar', 'Karanveer Singh', 'KC Cariappa', 'M Ashwin', 'M Kartik', 'M Ur Rahman', 'M Vijay', 'MK Tiwary',\n",
    "             'P Sahu', 'PP Chawla', 'R Ashwin', 'R Tewatia', 'RR Powar', 'Shivam Sharma', 'SN Khan', 'Swapnil Singh',\n",
    "             'V Chakravarthy', 'Yuvraj Singh']"
   ]
  },
  {
   "cell_type": "code",
   "execution_count": 11,
   "metadata": {},
   "outputs": [],
   "source": [
    "# Replacing all spin bowlers' names with 'spinner' under `bowler` column\n",
    "\n",
    "df.loc[(df.bowling_team=='Royal Challengers Bangalore')&(df.bowler.isin(rcb_spin)),'bowler'] = 'spinner'\n",
    "df.loc[(df.bowling_team=='Delhi Capitals')&(df.bowler.isin(dd_spin)),'bowler'] = 'spinner'\n",
    "df.loc[(df.bowling_team=='Delhi Daredevils')&(df.bowler.isin(dd_spin)),'bowler'] = 'spinner'\n",
    "df.loc[(df.bowling_team=='Mumbai Indians')&(df.bowler.isin(mi_spin)),'bowler'] = 'spinner'\n",
    "df.loc[(df.bowling_team=='Chennai Super Kings')&(df.bowler.isin(csk_spin)),'bowler'] = 'spinner'\n",
    "df.loc[(df.bowling_team=='Kings XI Punjab')&(df.bowler.isin(punj_spin)),'bowler'] = 'spinner'\n",
    "df.loc[(df.bowling_team=='Sunrisers Hyderabad')&(df.bowler.isin(srh_spin)),'bowler'] = 'spinner'\n",
    "df.loc[(df.bowling_team=='Kolkata Knight Riders')&(df.bowler.isin(kkr_spin)),'bowler'] = 'spinner'\n",
    "df.loc[(df.bowling_team=='Deccan Chargers')&(df.bowler.isin(dc_spin)),'bowler'] = 'spinner'\n",
    "df.loc[(df.bowling_team=='Rajasthan Royals')&(df.bowler.isin(rr_spin)),'bowler'] = 'spinner'"
   ]
  },
  {
   "cell_type": "code",
   "execution_count": 12,
   "metadata": {},
   "outputs": [],
   "source": [
    "# Replacing all fast/pace bowlers' names with 'pacer' under `bowler` column\n",
    "\n",
    "l = ['spinner']\n",
    "df.loc[~df.bowler.isin(l),'bowler'] = 'pacer'"
   ]
  },
  {
   "cell_type": "code",
   "execution_count": 13,
   "metadata": {},
   "outputs": [
    {
     "data": {
      "text/html": [
       "<div>\n",
       "<style scoped>\n",
       "    .dataframe tbody tr th:only-of-type {\n",
       "        vertical-align: middle;\n",
       "    }\n",
       "\n",
       "    .dataframe tbody tr th {\n",
       "        vertical-align: top;\n",
       "    }\n",
       "\n",
       "    .dataframe thead th {\n",
       "        text-align: right;\n",
       "    }\n",
       "</style>\n",
       "<table border=\"1\" class=\"dataframe\">\n",
       "  <thead>\n",
       "    <tr style=\"text-align: right;\">\n",
       "      <th></th>\n",
       "      <th>season</th>\n",
       "      <th>match_id</th>\n",
       "      <th>venue</th>\n",
       "      <th>inning</th>\n",
       "      <th>batting_team</th>\n",
       "      <th>bowling_team</th>\n",
       "      <th>batsman</th>\n",
       "      <th>non_striker</th>\n",
       "      <th>bowler</th>\n",
       "      <th>ball</th>\n",
       "      <th>wide_runs</th>\n",
       "      <th>bye_runs</th>\n",
       "      <th>legbye_runs</th>\n",
       "      <th>noball_runs</th>\n",
       "      <th>batsman_runs</th>\n",
       "      <th>extra_runs</th>\n",
       "      <th>total_runs</th>\n",
       "      <th>dismissal_kind</th>\n",
       "      <th>wickets</th>\n",
       "      <th>commentary</th>\n",
       "    </tr>\n",
       "  </thead>\n",
       "  <tbody>\n",
       "    <tr>\n",
       "      <th>0</th>\n",
       "      <td>2008</td>\n",
       "      <td>1</td>\n",
       "      <td>Bangalore</td>\n",
       "      <td>1</td>\n",
       "      <td>Kolkata Knight Riders</td>\n",
       "      <td>Royal Challengers Bangalore</td>\n",
       "      <td>SC Ganguly</td>\n",
       "      <td>BB McCullum</td>\n",
       "      <td>pacer</td>\n",
       "      <td>0.1</td>\n",
       "      <td>0</td>\n",
       "      <td>0</td>\n",
       "      <td>1</td>\n",
       "      <td>0</td>\n",
       "      <td>0</td>\n",
       "      <td>1</td>\n",
       "      <td>1</td>\n",
       "      <td></td>\n",
       "      <td>0</td>\n",
       "      <td>Kumar to Ganguly, 1 leg bye, and thats runs im...</td>\n",
       "    </tr>\n",
       "    <tr>\n",
       "      <th>1</th>\n",
       "      <td>2008</td>\n",
       "      <td>1</td>\n",
       "      <td>Bangalore</td>\n",
       "      <td>1</td>\n",
       "      <td>Kolkata Knight Riders</td>\n",
       "      <td>Royal Challengers Bangalore</td>\n",
       "      <td>BB McCullum</td>\n",
       "      <td>SC Ganguly</td>\n",
       "      <td>pacer</td>\n",
       "      <td>0.2</td>\n",
       "      <td>0</td>\n",
       "      <td>0</td>\n",
       "      <td>0</td>\n",
       "      <td>0</td>\n",
       "      <td>0</td>\n",
       "      <td>0</td>\n",
       "      <td>0</td>\n",
       "      <td></td>\n",
       "      <td>0</td>\n",
       "      <td>Kumar to McCullum, no run, this one nips back ...</td>\n",
       "    </tr>\n",
       "    <tr>\n",
       "      <th>2</th>\n",
       "      <td>2008</td>\n",
       "      <td>1</td>\n",
       "      <td>Bangalore</td>\n",
       "      <td>1</td>\n",
       "      <td>Kolkata Knight Riders</td>\n",
       "      <td>Royal Challengers Bangalore</td>\n",
       "      <td>BB McCullum</td>\n",
       "      <td>SC Ganguly</td>\n",
       "      <td>pacer</td>\n",
       "      <td>0.3</td>\n",
       "      <td>1</td>\n",
       "      <td>0</td>\n",
       "      <td>0</td>\n",
       "      <td>0</td>\n",
       "      <td>0</td>\n",
       "      <td>1</td>\n",
       "      <td>1</td>\n",
       "      <td></td>\n",
       "      <td>0</td>\n",
       "      <td>Kumar to McCullum, 1 wide, thats wide, as Prav...</td>\n",
       "    </tr>\n",
       "    <tr>\n",
       "      <th>3</th>\n",
       "      <td>2008</td>\n",
       "      <td>1</td>\n",
       "      <td>Bangalore</td>\n",
       "      <td>1</td>\n",
       "      <td>Kolkata Knight Riders</td>\n",
       "      <td>Royal Challengers Bangalore</td>\n",
       "      <td>BB McCullum</td>\n",
       "      <td>SC Ganguly</td>\n",
       "      <td>pacer</td>\n",
       "      <td>0.3</td>\n",
       "      <td>0</td>\n",
       "      <td>0</td>\n",
       "      <td>0</td>\n",
       "      <td>0</td>\n",
       "      <td>0</td>\n",
       "      <td>0</td>\n",
       "      <td>0</td>\n",
       "      <td></td>\n",
       "      <td>0</td>\n",
       "      <td>Kumar to McCullum, no run, too straight, McCul...</td>\n",
       "    </tr>\n",
       "    <tr>\n",
       "      <th>4</th>\n",
       "      <td>2008</td>\n",
       "      <td>1</td>\n",
       "      <td>Bangalore</td>\n",
       "      <td>1</td>\n",
       "      <td>Kolkata Knight Riders</td>\n",
       "      <td>Royal Challengers Bangalore</td>\n",
       "      <td>BB McCullum</td>\n",
       "      <td>SC Ganguly</td>\n",
       "      <td>pacer</td>\n",
       "      <td>0.4</td>\n",
       "      <td>0</td>\n",
       "      <td>0</td>\n",
       "      <td>0</td>\n",
       "      <td>0</td>\n",
       "      <td>0</td>\n",
       "      <td>0</td>\n",
       "      <td>0</td>\n",
       "      <td></td>\n",
       "      <td>0</td>\n",
       "      <td>Kumar to McCullum, no run, steps down the trac...</td>\n",
       "    </tr>\n",
       "    <tr>\n",
       "      <th>...</th>\n",
       "      <td>...</td>\n",
       "      <td>...</td>\n",
       "      <td>...</td>\n",
       "      <td>...</td>\n",
       "      <td>...</td>\n",
       "      <td>...</td>\n",
       "      <td>...</td>\n",
       "      <td>...</td>\n",
       "      <td>...</td>\n",
       "      <td>...</td>\n",
       "      <td>...</td>\n",
       "      <td>...</td>\n",
       "      <td>...</td>\n",
       "      <td>...</td>\n",
       "      <td>...</td>\n",
       "      <td>...</td>\n",
       "      <td>...</td>\n",
       "      <td>...</td>\n",
       "      <td>...</td>\n",
       "      <td>...</td>\n",
       "    </tr>\n",
       "    <tr>\n",
       "      <th>131996</th>\n",
       "      <td>2019</td>\n",
       "      <td>final</td>\n",
       "      <td>Hyderabad</td>\n",
       "      <td>2</td>\n",
       "      <td>Chennai Super Kings</td>\n",
       "      <td>Mumbai Indians</td>\n",
       "      <td>RA Jadeja</td>\n",
       "      <td>SR Watson</td>\n",
       "      <td>pacer</td>\n",
       "      <td>19.2</td>\n",
       "      <td>0</td>\n",
       "      <td>0</td>\n",
       "      <td>0</td>\n",
       "      <td>0</td>\n",
       "      <td>1</td>\n",
       "      <td>0</td>\n",
       "      <td>1</td>\n",
       "      <td></td>\n",
       "      <td>5</td>\n",
       "      <td>Malinga to Jadeja, 1 run, low full toss on mid...</td>\n",
       "    </tr>\n",
       "    <tr>\n",
       "      <th>131997</th>\n",
       "      <td>2019</td>\n",
       "      <td>final</td>\n",
       "      <td>Hyderabad</td>\n",
       "      <td>2</td>\n",
       "      <td>Chennai Super Kings</td>\n",
       "      <td>Mumbai Indians</td>\n",
       "      <td>SR Watson</td>\n",
       "      <td>RA Jadeja</td>\n",
       "      <td>pacer</td>\n",
       "      <td>19.3</td>\n",
       "      <td>0</td>\n",
       "      <td>0</td>\n",
       "      <td>0</td>\n",
       "      <td>0</td>\n",
       "      <td>2</td>\n",
       "      <td>0</td>\n",
       "      <td>2</td>\n",
       "      <td></td>\n",
       "      <td>5</td>\n",
       "      <td>Malinga to Watson, 2 runs, yorker, just outsid...</td>\n",
       "    </tr>\n",
       "    <tr>\n",
       "      <th>131998</th>\n",
       "      <td>2019</td>\n",
       "      <td>final</td>\n",
       "      <td>Hyderabad</td>\n",
       "      <td>2</td>\n",
       "      <td>Chennai Super Kings</td>\n",
       "      <td>Mumbai Indians</td>\n",
       "      <td>SR Watson</td>\n",
       "      <td>RA Jadeja</td>\n",
       "      <td>pacer</td>\n",
       "      <td>19.4</td>\n",
       "      <td>0</td>\n",
       "      <td>0</td>\n",
       "      <td>0</td>\n",
       "      <td>0</td>\n",
       "      <td>1</td>\n",
       "      <td>0</td>\n",
       "      <td>1</td>\n",
       "      <td>run out</td>\n",
       "      <td>6</td>\n",
       "      <td>Malinga to Watson, 1 run, OUT, yorker, just ou...</td>\n",
       "    </tr>\n",
       "    <tr>\n",
       "      <th>131999</th>\n",
       "      <td>2019</td>\n",
       "      <td>final</td>\n",
       "      <td>Hyderabad</td>\n",
       "      <td>2</td>\n",
       "      <td>Chennai Super Kings</td>\n",
       "      <td>Mumbai Indians</td>\n",
       "      <td>SN Thakur</td>\n",
       "      <td>RA Jadeja</td>\n",
       "      <td>pacer</td>\n",
       "      <td>19.5</td>\n",
       "      <td>0</td>\n",
       "      <td>0</td>\n",
       "      <td>0</td>\n",
       "      <td>0</td>\n",
       "      <td>2</td>\n",
       "      <td>0</td>\n",
       "      <td>2</td>\n",
       "      <td></td>\n",
       "      <td>6</td>\n",
       "      <td>Malinga to Thakur, 2 runs, full toss on leg, a...</td>\n",
       "    </tr>\n",
       "    <tr>\n",
       "      <th>132000</th>\n",
       "      <td>2019</td>\n",
       "      <td>final</td>\n",
       "      <td>Hyderabad</td>\n",
       "      <td>2</td>\n",
       "      <td>Chennai Super Kings</td>\n",
       "      <td>Mumbai Indians</td>\n",
       "      <td>SN Thakur</td>\n",
       "      <td>RA Jadeja</td>\n",
       "      <td>pacer</td>\n",
       "      <td>19.6</td>\n",
       "      <td>0</td>\n",
       "      <td>0</td>\n",
       "      <td>0</td>\n",
       "      <td>0</td>\n",
       "      <td>0</td>\n",
       "      <td>0</td>\n",
       "      <td>0</td>\n",
       "      <td>lbw</td>\n",
       "      <td>7</td>\n",
       "      <td>Malinga to Thakur, OUT, Mumbai Indians win IPL...</td>\n",
       "    </tr>\n",
       "  </tbody>\n",
       "</table>\n",
       "<p>86617 rows × 20 columns</p>\n",
       "</div>"
      ],
      "text/plain": [
       "        season match_id      venue  inning           batting_team  \\\n",
       "0         2008        1  Bangalore       1  Kolkata Knight Riders   \n",
       "1         2008        1  Bangalore       1  Kolkata Knight Riders   \n",
       "2         2008        1  Bangalore       1  Kolkata Knight Riders   \n",
       "3         2008        1  Bangalore       1  Kolkata Knight Riders   \n",
       "4         2008        1  Bangalore       1  Kolkata Knight Riders   \n",
       "...        ...      ...        ...     ...                    ...   \n",
       "131996    2019    final  Hyderabad       2    Chennai Super Kings   \n",
       "131997    2019    final  Hyderabad       2    Chennai Super Kings   \n",
       "131998    2019    final  Hyderabad       2    Chennai Super Kings   \n",
       "131999    2019    final  Hyderabad       2    Chennai Super Kings   \n",
       "132000    2019    final  Hyderabad       2    Chennai Super Kings   \n",
       "\n",
       "                       bowling_team      batsman  non_striker bowler  ball  \\\n",
       "0       Royal Challengers Bangalore   SC Ganguly  BB McCullum  pacer   0.1   \n",
       "1       Royal Challengers Bangalore  BB McCullum   SC Ganguly  pacer   0.2   \n",
       "2       Royal Challengers Bangalore  BB McCullum   SC Ganguly  pacer   0.3   \n",
       "3       Royal Challengers Bangalore  BB McCullum   SC Ganguly  pacer   0.3   \n",
       "4       Royal Challengers Bangalore  BB McCullum   SC Ganguly  pacer   0.4   \n",
       "...                             ...          ...          ...    ...   ...   \n",
       "131996               Mumbai Indians    RA Jadeja    SR Watson  pacer  19.2   \n",
       "131997               Mumbai Indians    SR Watson    RA Jadeja  pacer  19.3   \n",
       "131998               Mumbai Indians    SR Watson    RA Jadeja  pacer  19.4   \n",
       "131999               Mumbai Indians    SN Thakur    RA Jadeja  pacer  19.5   \n",
       "132000               Mumbai Indians    SN Thakur    RA Jadeja  pacer  19.6   \n",
       "\n",
       "        wide_runs  bye_runs  legbye_runs  noball_runs  batsman_runs  \\\n",
       "0               0         0            1            0             0   \n",
       "1               0         0            0            0             0   \n",
       "2               1         0            0            0             0   \n",
       "3               0         0            0            0             0   \n",
       "4               0         0            0            0             0   \n",
       "...           ...       ...          ...          ...           ...   \n",
       "131996          0         0            0            0             1   \n",
       "131997          0         0            0            0             2   \n",
       "131998          0         0            0            0             1   \n",
       "131999          0         0            0            0             2   \n",
       "132000          0         0            0            0             0   \n",
       "\n",
       "        extra_runs  total_runs dismissal_kind  wickets  \\\n",
       "0                1           1                       0   \n",
       "1                0           0                       0   \n",
       "2                1           1                       0   \n",
       "3                0           0                       0   \n",
       "4                0           0                       0   \n",
       "...            ...         ...            ...      ...   \n",
       "131996           0           1                       5   \n",
       "131997           0           2                       5   \n",
       "131998           0           1        run out        6   \n",
       "131999           0           2                       6   \n",
       "132000           0           0            lbw        7   \n",
       "\n",
       "                                               commentary  \n",
       "0       Kumar to Ganguly, 1 leg bye, and thats runs im...  \n",
       "1       Kumar to McCullum, no run, this one nips back ...  \n",
       "2       Kumar to McCullum, 1 wide, thats wide, as Prav...  \n",
       "3       Kumar to McCullum, no run, too straight, McCul...  \n",
       "4       Kumar to McCullum, no run, steps down the trac...  \n",
       "...                                                   ...  \n",
       "131996  Malinga to Jadeja, 1 run, low full toss on mid...  \n",
       "131997  Malinga to Watson, 2 runs, yorker, just outsid...  \n",
       "131998  Malinga to Watson, 1 run, OUT, yorker, just ou...  \n",
       "131999  Malinga to Thakur, 2 runs, full toss on leg, a...  \n",
       "132000  Malinga to Thakur, OUT, Mumbai Indians win IPL...  \n",
       "\n",
       "[86617 rows x 20 columns]"
      ]
     },
     "execution_count": 13,
     "metadata": {},
     "output_type": "execute_result"
    }
   ],
   "source": [
    "df.loc[df.bowler=='pacer']"
   ]
  },
  {
   "cell_type": "code",
   "execution_count": 14,
   "metadata": {},
   "outputs": [
    {
     "data": {
      "text/html": [
       "<div>\n",
       "<style scoped>\n",
       "    .dataframe tbody tr th:only-of-type {\n",
       "        vertical-align: middle;\n",
       "    }\n",
       "\n",
       "    .dataframe tbody tr th {\n",
       "        vertical-align: top;\n",
       "    }\n",
       "\n",
       "    .dataframe thead th {\n",
       "        text-align: right;\n",
       "    }\n",
       "</style>\n",
       "<table border=\"1\" class=\"dataframe\">\n",
       "  <thead>\n",
       "    <tr style=\"text-align: right;\">\n",
       "      <th></th>\n",
       "      <th>season</th>\n",
       "      <th>match_id</th>\n",
       "      <th>venue</th>\n",
       "      <th>inning</th>\n",
       "      <th>batting_team</th>\n",
       "      <th>bowling_team</th>\n",
       "      <th>batsman</th>\n",
       "      <th>non_striker</th>\n",
       "      <th>bowler</th>\n",
       "      <th>ball</th>\n",
       "      <th>wide_runs</th>\n",
       "      <th>bye_runs</th>\n",
       "      <th>legbye_runs</th>\n",
       "      <th>noball_runs</th>\n",
       "      <th>batsman_runs</th>\n",
       "      <th>extra_runs</th>\n",
       "      <th>total_runs</th>\n",
       "      <th>dismissal_kind</th>\n",
       "      <th>wickets</th>\n",
       "      <th>commentary</th>\n",
       "    </tr>\n",
       "  </thead>\n",
       "  <tbody>\n",
       "    <tr>\n",
       "      <th>56</th>\n",
       "      <td>2008</td>\n",
       "      <td>1</td>\n",
       "      <td>Bangalore</td>\n",
       "      <td>1</td>\n",
       "      <td>Kolkata Knight Riders</td>\n",
       "      <td>Royal Challengers Bangalore</td>\n",
       "      <td>RT Ponting</td>\n",
       "      <td>BB McCullum</td>\n",
       "      <td>spinner</td>\n",
       "      <td>9.1</td>\n",
       "      <td>0</td>\n",
       "      <td>0</td>\n",
       "      <td>0</td>\n",
       "      <td>0</td>\n",
       "      <td>1</td>\n",
       "      <td>0</td>\n",
       "      <td>1</td>\n",
       "      <td></td>\n",
       "      <td>1</td>\n",
       "      <td>Joshi to Ponting, 1 run, some good turn, spins...</td>\n",
       "    </tr>\n",
       "    <tr>\n",
       "      <th>57</th>\n",
       "      <td>2008</td>\n",
       "      <td>1</td>\n",
       "      <td>Bangalore</td>\n",
       "      <td>1</td>\n",
       "      <td>Kolkata Knight Riders</td>\n",
       "      <td>Royal Challengers Bangalore</td>\n",
       "      <td>BB McCullum</td>\n",
       "      <td>RT Ponting</td>\n",
       "      <td>spinner</td>\n",
       "      <td>9.2</td>\n",
       "      <td>0</td>\n",
       "      <td>0</td>\n",
       "      <td>0</td>\n",
       "      <td>0</td>\n",
       "      <td>1</td>\n",
       "      <td>0</td>\n",
       "      <td>1</td>\n",
       "      <td></td>\n",
       "      <td>1</td>\n",
       "      <td>Joshi to McCullum, 1 run, too straight and fla...</td>\n",
       "    </tr>\n",
       "    <tr>\n",
       "      <th>58</th>\n",
       "      <td>2008</td>\n",
       "      <td>1</td>\n",
       "      <td>Bangalore</td>\n",
       "      <td>1</td>\n",
       "      <td>Kolkata Knight Riders</td>\n",
       "      <td>Royal Challengers Bangalore</td>\n",
       "      <td>RT Ponting</td>\n",
       "      <td>BB McCullum</td>\n",
       "      <td>spinner</td>\n",
       "      <td>9.3</td>\n",
       "      <td>0</td>\n",
       "      <td>0</td>\n",
       "      <td>0</td>\n",
       "      <td>0</td>\n",
       "      <td>1</td>\n",
       "      <td>0</td>\n",
       "      <td>1</td>\n",
       "      <td></td>\n",
       "      <td>1</td>\n",
       "      <td>Joshi to Ponting, 1 run, fired on leg again an...</td>\n",
       "    </tr>\n",
       "    <tr>\n",
       "      <th>59</th>\n",
       "      <td>2008</td>\n",
       "      <td>1</td>\n",
       "      <td>Bangalore</td>\n",
       "      <td>1</td>\n",
       "      <td>Kolkata Knight Riders</td>\n",
       "      <td>Royal Challengers Bangalore</td>\n",
       "      <td>BB McCullum</td>\n",
       "      <td>RT Ponting</td>\n",
       "      <td>spinner</td>\n",
       "      <td>9.4</td>\n",
       "      <td>0</td>\n",
       "      <td>0</td>\n",
       "      <td>0</td>\n",
       "      <td>0</td>\n",
       "      <td>0</td>\n",
       "      <td>0</td>\n",
       "      <td>0</td>\n",
       "      <td></td>\n",
       "      <td>1</td>\n",
       "      <td>Joshi to McCullum, no run, bit of flight there...</td>\n",
       "    </tr>\n",
       "    <tr>\n",
       "      <th>60</th>\n",
       "      <td>2008</td>\n",
       "      <td>1</td>\n",
       "      <td>Bangalore</td>\n",
       "      <td>1</td>\n",
       "      <td>Kolkata Knight Riders</td>\n",
       "      <td>Royal Challengers Bangalore</td>\n",
       "      <td>BB McCullum</td>\n",
       "      <td>RT Ponting</td>\n",
       "      <td>spinner</td>\n",
       "      <td>9.5</td>\n",
       "      <td>0</td>\n",
       "      <td>0</td>\n",
       "      <td>0</td>\n",
       "      <td>0</td>\n",
       "      <td>6</td>\n",
       "      <td>0</td>\n",
       "      <td>6</td>\n",
       "      <td></td>\n",
       "      <td>1</td>\n",
       "      <td>Joshi to McCullum, SIX runs, snuff is snuff, s...</td>\n",
       "    </tr>\n",
       "    <tr>\n",
       "      <th>...</th>\n",
       "      <td>...</td>\n",
       "      <td>...</td>\n",
       "      <td>...</td>\n",
       "      <td>...</td>\n",
       "      <td>...</td>\n",
       "      <td>...</td>\n",
       "      <td>...</td>\n",
       "      <td>...</td>\n",
       "      <td>...</td>\n",
       "      <td>...</td>\n",
       "      <td>...</td>\n",
       "      <td>...</td>\n",
       "      <td>...</td>\n",
       "      <td>...</td>\n",
       "      <td>...</td>\n",
       "      <td>...</td>\n",
       "      <td>...</td>\n",
       "      <td>...</td>\n",
       "      <td>...</td>\n",
       "      <td>...</td>\n",
       "    </tr>\n",
       "    <tr>\n",
       "      <th>131984</th>\n",
       "      <td>2019</td>\n",
       "      <td>final</td>\n",
       "      <td>Hyderabad</td>\n",
       "      <td>2</td>\n",
       "      <td>Chennai Super Kings</td>\n",
       "      <td>Mumbai Indians</td>\n",
       "      <td>SR Watson</td>\n",
       "      <td>DJ Bravo</td>\n",
       "      <td>spinner</td>\n",
       "      <td>17.2</td>\n",
       "      <td>0</td>\n",
       "      <td>0</td>\n",
       "      <td>0</td>\n",
       "      <td>0</td>\n",
       "      <td>6</td>\n",
       "      <td>0</td>\n",
       "      <td>6</td>\n",
       "      <td></td>\n",
       "      <td>4</td>\n",
       "      <td>KH Pandya to Watson, SIX runs, hammered! Full,...</td>\n",
       "    </tr>\n",
       "    <tr>\n",
       "      <th>131985</th>\n",
       "      <td>2019</td>\n",
       "      <td>final</td>\n",
       "      <td>Hyderabad</td>\n",
       "      <td>2</td>\n",
       "      <td>Chennai Super Kings</td>\n",
       "      <td>Mumbai Indians</td>\n",
       "      <td>SR Watson</td>\n",
       "      <td>DJ Bravo</td>\n",
       "      <td>spinner</td>\n",
       "      <td>17.3</td>\n",
       "      <td>0</td>\n",
       "      <td>0</td>\n",
       "      <td>0</td>\n",
       "      <td>0</td>\n",
       "      <td>6</td>\n",
       "      <td>0</td>\n",
       "      <td>6</td>\n",
       "      <td></td>\n",
       "      <td>4</td>\n",
       "      <td>KH Pandya to Watson, SIX runs, over Krunal's h...</td>\n",
       "    </tr>\n",
       "    <tr>\n",
       "      <th>131986</th>\n",
       "      <td>2019</td>\n",
       "      <td>final</td>\n",
       "      <td>Hyderabad</td>\n",
       "      <td>2</td>\n",
       "      <td>Chennai Super Kings</td>\n",
       "      <td>Mumbai Indians</td>\n",
       "      <td>SR Watson</td>\n",
       "      <td>DJ Bravo</td>\n",
       "      <td>spinner</td>\n",
       "      <td>17.4</td>\n",
       "      <td>0</td>\n",
       "      <td>0</td>\n",
       "      <td>0</td>\n",
       "      <td>0</td>\n",
       "      <td>6</td>\n",
       "      <td>0</td>\n",
       "      <td>6</td>\n",
       "      <td></td>\n",
       "      <td>4</td>\n",
       "      <td>KH Pandya to Watson, SIX runs, into the second...</td>\n",
       "    </tr>\n",
       "    <tr>\n",
       "      <th>131987</th>\n",
       "      <td>2019</td>\n",
       "      <td>final</td>\n",
       "      <td>Hyderabad</td>\n",
       "      <td>2</td>\n",
       "      <td>Chennai Super Kings</td>\n",
       "      <td>Mumbai Indians</td>\n",
       "      <td>SR Watson</td>\n",
       "      <td>DJ Bravo</td>\n",
       "      <td>spinner</td>\n",
       "      <td>17.5</td>\n",
       "      <td>0</td>\n",
       "      <td>0</td>\n",
       "      <td>0</td>\n",
       "      <td>0</td>\n",
       "      <td>0</td>\n",
       "      <td>0</td>\n",
       "      <td>0</td>\n",
       "      <td></td>\n",
       "      <td>4</td>\n",
       "      <td>KH Pandya to Watson, no run, full, fast, and w...</td>\n",
       "    </tr>\n",
       "    <tr>\n",
       "      <th>131988</th>\n",
       "      <td>2019</td>\n",
       "      <td>final</td>\n",
       "      <td>Hyderabad</td>\n",
       "      <td>2</td>\n",
       "      <td>Chennai Super Kings</td>\n",
       "      <td>Mumbai Indians</td>\n",
       "      <td>SR Watson</td>\n",
       "      <td>DJ Bravo</td>\n",
       "      <td>spinner</td>\n",
       "      <td>17.6</td>\n",
       "      <td>0</td>\n",
       "      <td>0</td>\n",
       "      <td>0</td>\n",
       "      <td>0</td>\n",
       "      <td>1</td>\n",
       "      <td>0</td>\n",
       "      <td>1</td>\n",
       "      <td></td>\n",
       "      <td>4</td>\n",
       "      <td>KH Pandya to Watson, 1 run, overpitched just o...</td>\n",
       "    </tr>\n",
       "  </tbody>\n",
       "</table>\n",
       "<p>45384 rows × 20 columns</p>\n",
       "</div>"
      ],
      "text/plain": [
       "        season match_id      venue  inning           batting_team  \\\n",
       "56        2008        1  Bangalore       1  Kolkata Knight Riders   \n",
       "57        2008        1  Bangalore       1  Kolkata Knight Riders   \n",
       "58        2008        1  Bangalore       1  Kolkata Knight Riders   \n",
       "59        2008        1  Bangalore       1  Kolkata Knight Riders   \n",
       "60        2008        1  Bangalore       1  Kolkata Knight Riders   \n",
       "...        ...      ...        ...     ...                    ...   \n",
       "131984    2019    final  Hyderabad       2    Chennai Super Kings   \n",
       "131985    2019    final  Hyderabad       2    Chennai Super Kings   \n",
       "131986    2019    final  Hyderabad       2    Chennai Super Kings   \n",
       "131987    2019    final  Hyderabad       2    Chennai Super Kings   \n",
       "131988    2019    final  Hyderabad       2    Chennai Super Kings   \n",
       "\n",
       "                       bowling_team      batsman  non_striker   bowler  ball  \\\n",
       "56      Royal Challengers Bangalore   RT Ponting  BB McCullum  spinner   9.1   \n",
       "57      Royal Challengers Bangalore  BB McCullum   RT Ponting  spinner   9.2   \n",
       "58      Royal Challengers Bangalore   RT Ponting  BB McCullum  spinner   9.3   \n",
       "59      Royal Challengers Bangalore  BB McCullum   RT Ponting  spinner   9.4   \n",
       "60      Royal Challengers Bangalore  BB McCullum   RT Ponting  spinner   9.5   \n",
       "...                             ...          ...          ...      ...   ...   \n",
       "131984               Mumbai Indians    SR Watson     DJ Bravo  spinner  17.2   \n",
       "131985               Mumbai Indians    SR Watson     DJ Bravo  spinner  17.3   \n",
       "131986               Mumbai Indians    SR Watson     DJ Bravo  spinner  17.4   \n",
       "131987               Mumbai Indians    SR Watson     DJ Bravo  spinner  17.5   \n",
       "131988               Mumbai Indians    SR Watson     DJ Bravo  spinner  17.6   \n",
       "\n",
       "        wide_runs  bye_runs  legbye_runs  noball_runs  batsman_runs  \\\n",
       "56              0         0            0            0             1   \n",
       "57              0         0            0            0             1   \n",
       "58              0         0            0            0             1   \n",
       "59              0         0            0            0             0   \n",
       "60              0         0            0            0             6   \n",
       "...           ...       ...          ...          ...           ...   \n",
       "131984          0         0            0            0             6   \n",
       "131985          0         0            0            0             6   \n",
       "131986          0         0            0            0             6   \n",
       "131987          0         0            0            0             0   \n",
       "131988          0         0            0            0             1   \n",
       "\n",
       "        extra_runs  total_runs dismissal_kind  wickets  \\\n",
       "56               0           1                       1   \n",
       "57               0           1                       1   \n",
       "58               0           1                       1   \n",
       "59               0           0                       1   \n",
       "60               0           6                       1   \n",
       "...            ...         ...            ...      ...   \n",
       "131984           0           6                       4   \n",
       "131985           0           6                       4   \n",
       "131986           0           6                       4   \n",
       "131987           0           0                       4   \n",
       "131988           0           1                       4   \n",
       "\n",
       "                                               commentary  \n",
       "56      Joshi to Ponting, 1 run, some good turn, spins...  \n",
       "57      Joshi to McCullum, 1 run, too straight and fla...  \n",
       "58      Joshi to Ponting, 1 run, fired on leg again an...  \n",
       "59      Joshi to McCullum, no run, bit of flight there...  \n",
       "60      Joshi to McCullum, SIX runs, snuff is snuff, s...  \n",
       "...                                                   ...  \n",
       "131984  KH Pandya to Watson, SIX runs, hammered! Full,...  \n",
       "131985  KH Pandya to Watson, SIX runs, over Krunal's h...  \n",
       "131986  KH Pandya to Watson, SIX runs, into the second...  \n",
       "131987  KH Pandya to Watson, no run, full, fast, and w...  \n",
       "131988  KH Pandya to Watson, 1 run, overpitched just o...  \n",
       "\n",
       "[45384 rows x 20 columns]"
      ]
     },
     "execution_count": 14,
     "metadata": {},
     "output_type": "execute_result"
    }
   ],
   "source": [
    "df.loc[df.bowler=='spinner']"
   ]
  },
  {
   "cell_type": "code",
   "execution_count": 15,
   "metadata": {},
   "outputs": [
    {
     "data": {
      "text/plain": [
       "0"
      ]
     },
     "execution_count": 15,
     "metadata": {},
     "output_type": "execute_result"
    }
   ],
   "source": [
    "# sanity check - check for NaN values in `bowler` column\n",
    "\n",
    "df.bowler.isna().sum()"
   ]
  },
  {
   "cell_type": "markdown",
   "metadata": {},
   "source": [
    "## Feature Engineering `batsman` and `non_striker` Type"
   ]
  },
  {
   "cell_type": "markdown",
   "metadata": {},
   "source": [
    "In cricket, the batting order is the sequence in which batters play through their team's innings, there always being two batters taking part at any one time. All eleven players in a team are required to bat if the innings is completed (i.e., if the innings does not close early due to a declaration or other factor).\n",
    "\n",
    "The batting order is colloquially subdivided into:\n",
    "\n",
    "1. Top order (batters one to three)\n",
    "2. Middle order (batters four to eight)\n",
    "3. Tail enders (batters nine to eleven) \n",
    "\n",
    "In the code cell below, we have created a custom list of all top order batsman and tail enders for each team. We have then modified the `batsman` and `non_striker` columns in the dataframe which will be used to identify the type of batsman, \"top_order\", \"middle_order\" or \"tail_ender\". This column, we belive, should lend to the predictive power of our models. For example, a top order batsman is more likely to score a boundary than a tail ender, purely based on batting skill. Moreover, if given the scenario that a top order batsman bats till the last 5 overs of the game with a tail ender at the non-striker's end, the top order batsman is more likely to retain strike to maximize the number of runs scored in the last 5 overs.\n",
    "\n",
    "We deliberately chose not to take the easier route of engineering these columns column based on the `wickets` column. Doing so would induce multicollinearity in the data and, more importantly, alter the `batsman` and `non_striker` columns in a way that would compromise the integrity of our data.\n",
    "\n",
    "**Note:** It is not uncommon in cricket that an opening batsman may play in the middle order or vice-versa, given various factors such as recent form of the batsman or captain's/coach's discretion. Therefore, we have categorized individual batters with regards to their ideal batting position. For example, Robin Uthappa started off as a middle order batsman in 2008 with Mumbai Indians, but was promoted to the top order when he joined Royal Challengers Bangalore and Kolkata Knight Riders in 2010 and 2014 respectively."
   ]
  },
  {
   "cell_type": "code",
   "execution_count": 16,
   "metadata": {},
   "outputs": [],
   "source": [
    "# Creating a list of all top order batsmen and tail enders for each team\n",
    "\n",
    "rcb_top_order = ['TM Dilshan', 'KP Pietersen', 'CH Gayle', 'PA Patel', 'V Kohli', 'AB de Villiers', 'R Dravid',\n",
    "                'JH Kallis', 'MK Pandey', 'W Jaffer', 'S Chanderpaul', 'LRPL Taylor', 'SR Watson', 'Mandeep Singh',\n",
    "                'A Mukund', 'BB McCullum', 'CA Pujara', 'MA Agarwal', 'KL Rahul', 'Q de Kock', 'J Arunkumar', 'S Sriram']\n",
    "\n",
    "rcb_tail_enders = ['SB Joshi', 'KP Appanna', 'A Kumble', 'Abdur Razzak', 'DL Vettori', 'KB Arun Karthik', 'S Sriram', 'AA Kazi', 'R Ninan',\n",
    "                   'J Syed Mohammad', 'M Muralitharan', 'M Kartik', 'P R Barman', 'YS Chahal', 'SB Jakati', 'T Shamsi', 'Parvez Rasool',\n",
    "                   'P Kumar', 'Z Khan', 'R Vinay Kumar', 'DW Steyn', 'ND Doshi', 'DP Nannes', 'JJ van der Wath', 'S Aravind', 'S Badree',\n",
    "                   'CK Langeveldt', 'RR Bhatkal', 'P Parameswaran', 'JD Unadkat', 'RP Singh', 'R Rampaul', 'MA Starc', 'M Ashwin'\n",
    "                   'AB Dinda', 'VR Aaron', 'AN Ahmed', 'AF Milne', 'KW Richardson', 'CJ Jordan', 'TS Mills', 'A Choudhary',\n",
    "                   'B Stanlake', 'Avesh Khan', 'UT Yadav', 'K Khejroliya', 'Mohammed Siraj', 'TG Southee', 'N Saini']\n",
    "\n",
    "mi_top_order = ['N Rana', 'RG Sharma', 'ST Jayasuriya', 'SR Tendulkar', 'YV Takawale', 'AM Rahane', 'DR Smith', 'L Ronchi',\n",
    "                'AC Blizzard', 'RV Uthappa', 'AT Rayudu', 'DJ Jacobs', 'S Dhawan', 'SS Tiwary', 'JP Duminy', 'AP Tare',\n",
    "                'AJ Finch', 'E Lewis', 'Ishan Kishan', 'Q de Kock', 'AM Rahane', 'LMP Simmons', 'CM Gautam', 'C Madan',\n",
    "                'PA Patel', 'BR Dunk', 'JC Buttler', 'SM Pollock', 'AS Yadav', 'HH Gibbs', 'UBT Chand', 'GJ Maxwell',\n",
    "                'MJ Guptill', 'RE Levi']\n",
    "\n",
    "mi_tail_enders = ['A Dananjaya', 'AG Murtaza', 'Harbhajan Singh', 'J Yadav', 'M Markande', 'PP Ojha', 'RD Chahar', 'RW Price',\n",
    "                  'VS Yeligati', 'Z Khan', 'SL Malinga', 'JJ Bumrah', 'MG Johnson', 'P Suyal', 'A Nehra', 'DS Kulkarni',\n",
    "                  'MA Khote', 'CRD Fernando', 'DJ Thornely', 'RR Raje', 'DR Smith', 'RP Singh', 'CJ McKay', 'NLTC Perera', 'R Shukla',\n",
    "                  'A Nel', 'Z Khan', 'R McLaren', 'AN Ahmed', 'MM Patel', 'YS Chahal', 'P Kumar', 'K Santokie', 'M de Lange', 'R Vinay Kumar',\n",
    "                'MJ McClenaghan', 'TG Southee', 'Mustafizur Rahman', 'PJ Sangwan', 'R Salam', 'J Behrendorff', 'A Joseph', 'BB Sran']\n",
    "\n",
    "kkr_top_order = ['SC Ganguly', 'BB McCullum', 'RT Ponting', 'WP Saha', 'Salman Butt', 'AB Agarkar', 'Mohammad Hafeez', 'A Chopra', 'BJ Hodge',\n",
    "                 'MK Tiwary', 'CA Pujara', 'CH Gayle', 'OA Shah', 'Mandeep Singh', 'AD Mathews', 'DJ Hussey', 'MS Bisla', 'JH Kallis', 'YK Pathan',\n",
    "                 'G Gambhir', 'BJ Haddin', 'SP Goswami', 'EJG Morgan', 'RV Uthappa', 'MK Pandey', 'CA Lynn', 'C Munro', 'SP Narine', 'N Rana', 'S Gill',\n",
    "                 'N Naik', 'J Denly']\n",
    "\n",
    "kkr_tail_enders = ['BAW Mendis', 'GB Hogg', 'KC Cariappa', 'M Kartik', 'Kuldeep Yadav', 'MB Parmar', 'R Vinay Kumar',\n",
    "                   'PP Chawla',  'SMSM Senanayake', 'AB Dinda', 'I Sharma', 'AB Agarkar', 'Umar Gul', 'Shoaib Akhtar',\n",
    "                   'CK Langeveldt', 'SE Bond', 'JD Unadkat', 'L Balaji', 'B Lee', 'M de Lange', 'PJ Sangwan', 'M Morkel',\n",
    "                   'Mohammed Shami', 'R McLaren', 'Shami Ahmed', 'AS Rajpoot', 'TA Boult', 'MG Johnson', 'T Curran',\n",
    "                   'S Mavi', 'P Krishna', 'J Searles', 'L Ferguson', 'H Gurney', 'P Raj', 'S Warrier', 'UT Yadav']\n",
    "\n",
    "csk_top_order = ['F du Plessis', 'SK Raina', 'M Vijay', 'ML Hayden', 'PA Patel', 'MEK Hussey', 'BB McCullum', 'S Vidyut',\n",
    "                 'AT Rayudu', 'SP Fleming', 'DR Smith', 'S Anirudha', 'WP Saha', 'SR Watson', 'GJ Bailey']\n",
    "\n",
    "csk_tail_enders = ['Imran Tahir', 'M Muralitharan', 'R Ashwin', 'S Badree', 'S Randiv', 'S Vidyut', 'SB Jakati',\n",
    "                   'P Amarnath', 'Joginder Sharma', 'M Ntini', 'L Balaji', 'S Tyagi', 'NLTC Perera', 'C Ganapathy',\n",
    "                   'DE Bollinger', 'TG Southee', 'VY Mahesh', 'BW Hilfenhaus', 'DP Nannes',  'AS Rajpoot', 'B Laughlin', 'MM Sharma',\n",
    "                   'IC Pandey', 'V Shankar', 'A Nehra', 'RG More', 'DL Chahar', 'M Wood', 'L Ngidi', 'KM Asif', 'S Kuggeleijn']\n",
    "\n",
    "dc_top_order = ['AC Gilchrist', 'VVS Laxman', 'HH Gibbs', 'LPC Silva', 'SB Styris',\n",
    "                'MD Mishra', 'TL Suman', 'Anirudh Singh', 'S Dhawan', 'IR Jaggi', 'KC Sangakkara', 'S Sohal',\n",
    "                'MJ Lumb', 'DJ Harris', 'PA Patel', 'PA Reddy']\n",
    "\n",
    "dc_tail_enders = ['A Mishra', 'Ankit Sharma', 'PP Ojha', 'WPUJC Vaas', 'RP Singh', 'D Kalyankrishna', 'DP Vijaykumar',\n",
    "                  'PM Sarvesh Kumar', 'Jaskaran Singh', 'KAJ Roach', 'Harmeet Singh', 'RJ Harris', 'DW Steyn', 'I Sharma',\n",
    "                  'Anand Rajan', 'DJ Harris', 'TP Sudhindra', 'V Pratap Singh', 'J Theron']\n",
    "\n",
    "dd_top_order = ['G Gambhir', 'V Sehwag', 'S Dhawan', 'AB de Villiers', 'TM Dilshan', 'DA Warner', 'KD Karthik',\n",
    "                'UBT Chand', 'AJ Finch', 'NV Ojha', 'CA Ingram', 'KP Pietersen', 'DPMD Jayawardene', 'MC Juneja',\n",
    "                'Q de Kock', 'M Vijay', 'MA Agarwal', 'SS Iyer', 'JP Duminy', 'MK Tiwary', 'SV Samson',\n",
    "                'KK Nair', 'AP Tare', 'C Munro', 'JJ Roy', 'P Shaw', 'S Dhawan']\n",
    "\n",
    "dd_tail_enders = ['A Mishra', 'Imran Tahir', 'J Yadav', 'R Sharma', 'S Lamichhane', 'S Nadeem', 'S Sriram',\n",
    "                  'Sunny Gupta', 'GD McGrath', 'B Geeves', 'Mohammad Asif', 'VY Mahesh', 'PJ Sangwan', 'DP Nannes',\n",
    "                  'UT Yadav', 'Y Nagar', 'A Nehra', 'AB Dinda', 'M Morkel', 'S Nadeem', 'VR Aaron', 'AM Salvi', 'DAJ Bracewell',\n",
    "                  'Sunny Gupta', 'S Kaul', 'Mohammed Shami', 'WD Parnell', 'JD Unadkat', 'R Sharma',\n",
    "                  'JA Morkel', 'DJ Muthuswami', 'Z Khan', 'GS Sandhu', 'J Yadav', 'K Rabada', 'TA Boult', 'Avesh Khan', 'L Plunkett', 'J Dala']\n",
    "\n",
    "srh_top_order = ['PA Reddy', 'PA Patel', 'CL White', 'KC Sangakkara', 'Q de Kock', 'GH Vihari', 'S Dhawan', 'A Ashish Reddy', 'AJ Finch', 'KL Rahul',\n",
    "                 'NV Ojha', 'DA Warner', 'KS Williamson', 'RS Bopara', 'MC Henriques', 'DJ Hooda', 'WP Saha', 'R Bhui', 'MK Pandey',\n",
    "                 'A Hales', 'SP Goswami', 'J Bairstow', 'V Shankar', 'MJ Guptill']\n",
    "\n",
    "srh_tail_enders = ['DW Steyn', 'I Sharma', 'A Ashish Reddy', 'Anand Rajan', 'B Kumar', 'TA Boult', 'Sandeep Sharma',\n",
    "                   'P Kumar', 'A Nehra', 'Mustafizur Rahman', 'BB Sran', 'S Kaul', 'Mohammed Siraj', 'B Stanlake',\n",
    "                   'Basil Thampi', 'K Ahmed', 'S Sharma', 'A Mishra', 'Ankit Sharma', 'Parvez Rasool', 'S Nadeem']\n",
    "\n",
    "rr_top_order = ['T Kohli', 'YK Pathan', 'SR Watson', 'M Kaif', 'Kamran Akmal', 'GC Smith', 'M Rawat', 'SA Asnodkar', 'NK Patel', 'Younis Khan',\n",
    "                'NV Ojha', 'MJ Lumb', 'DR Martyn', 'AA Jhunjhunwala', 'FY Fazal', 'AG Paunikar', 'R Dravid',\n",
    "                'AM Rahane', 'SP Goswami', 'OA Shah', 'BJ Hodge', 'MDKJ Perera', 'DH Yagnik', 'SV Samson',\n",
    "                'KK Nair', 'Ankit Sharma', 'KK Cooper', 'UBT Chand', 'SPD Smith', 'DJ Hooda', 'D Short', 'H Klaasen', 'RA Tripathi', 'JC Buttler']\n",
    "\n",
    "rr_tail_enders = ['A Chandila', 'AA Chavan', 'AS Raut', 'GB Hogg', 'I Sodhi', 'PV Tambe', 'ND Doshi', 'S Badree',\n",
    "                  'S Gopal', 'S Midhun', 'SK Warne', 'MM Patel', 'SK Trivedi', 'Pankaj Singh', 'SW Tait', 'Kamran Khan',\n",
    "                  'A Uniyal', 'M Morkel', 'S Narwal', 'SB Wagh', 'AP Dole', 'FY Fazal', 'A Singh',\n",
    "                  'S Sreesanth', 'R Shukla', 'VS Malik', 'KW Richardson', 'DS Kulkarni', 'R Bhatia', 'TG Southee',\n",
    "                  'J Theron', 'B Brainder Sran', 'JD Unadkat', 'B Laughlin', 'J Archer', 'Anureet Singh', 'VR Aaron', 'O Thomas']\n",
    "\n",
    "punj_top_order = ['K Goel', 'JR Hopes', 'KC Sangakkara', 'DPMD Jayawardene', 'Yuvraj Singh', 'SM Katich', 'SE Marsh',\n",
    "                  'LA Pomersbach', 'RS Bopara', 'MS Bisla', 'PC Valthaty', 'AC Gilchrist', 'Mandeep Singh',\n",
    "                  'N Saini', 'M Vohra', 'Gurkeerat Singh', 'CA Pujara', 'V Sehwag', 'WP Saha', 'KK Nair'\n",
    "                  'M Vijay', 'HM Amla', 'EJG Morgan', 'MJ Guptill', 'KL Rahul', 'MA Agarwal', 'CH Gayle', 'AJ Finch'\n",
    "                  ]\n",
    "\n",
    "punj_tail_enders = ['BA Bhatt', 'H Brar', 'Karanveer Singh', 'KC Cariappa', 'M Ashwin', 'M Kartik', 'M Ur Rahman', 'RJ Harris',\n",
    "                    'P Sahu', 'RR Powar', 'Shivam Sharma', 'Swapnil Singh', 'J Theron', 'VS Malik', 'L Ablish', 'P Kumar',\n",
    "                    'V Chakravarthy', 'B Lee', 'S Sreesanth', 'VRV Singh', 'Gagandeep Singh', 'YA Abdulla', 'R McLaren',\n",
    "                    'Harmeet Singh', 'P Awana', 'MS Gony', 'Sandeep Sharma (1)', 'MG Neser', 'Sandeep Sharma', 'L Balaji', 'MG Johnson',\n",
    "                    'BE Hendricks', 'Anureet Singh', 'MM Sharma', 'KJ Abbott', 'VR Aaron', 'T Natarajan', 'I Sharma', 'MJ Henry',\n",
    "                    'BB Sran', 'AS Rajpoot', 'Mohammed Shami', 'H Viljoen', 'A Singh', 'AJ Tye']"
   ]
  },
  {
   "cell_type": "code",
   "execution_count": 17,
   "metadata": {},
   "outputs": [],
   "source": [
    "# Replacing all batsman and non_striker names with \"top\"\n",
    "\n",
    "df.loc[(df.batting_team=='Royal Challengers Bangalore')&(df.batsman.isin(rcb_top_order)),'batsman'] = 'top'\n",
    "df.loc[(df.batting_team=='Delhi Capitals')&(df.batsman.isin(dd_top_order)),'batsman'] = 'top'\n",
    "df.loc[(df.batting_team=='Delhi Daredevils')&(df.batsman.isin(dd_top_order)),'batsman'] = 'top'\n",
    "df.loc[(df.batting_team=='Chennai Super Kings')&(df.batsman.isin(csk_top_order)),'batsman'] = 'top'\n",
    "df.loc[(df.batting_team=='Kings XI Punjab')&(df.batsman.isin(punj_top_order)),'batsman'] = 'top'\n",
    "df.loc[(df.batting_team=='Sunrisers Hyderabad')&(df.batsman.isin(srh_top_order)),'batsman'] = 'top'\n",
    "df.loc[(df.batting_team=='Kolkata Knight Riders')&(df.batsman.isin(kkr_top_order)),'batsman'] = 'top'\n",
    "df.loc[(df.batting_team=='Deccan Chargers')&(df.batsman.isin(dc_top_order)),'batsman'] = 'top'\n",
    "df.loc[(df.batting_team=='Rajasthan Royals')&(df.batsman.isin(rr_top_order)),'batsman'] = 'top'\n",
    "df.loc[(df.batting_team=='Mumbai Indians')&(df.batsman.isin(mi_top_order)),'batsman'] = 'top'\n",
    "\n",
    "\n",
    "df.loc[(df.batting_team=='Royal Challengers Bangalore')&(df.non_striker.isin(rcb_top_order)),'non_striker'] = 'top'\n",
    "df.loc[(df.batting_team=='Delhi Capitals')&(df.non_striker.isin(dd_top_order)),'non_striker'] = 'top'\n",
    "df.loc[(df.batting_team=='Delhi Daredevils')&(df.non_striker.isin(dd_top_order)),'non_striker'] = 'top'\n",
    "df.loc[(df.batting_team=='Chennai Super Kings')&(df.non_striker.isin(csk_top_order)),'non_striker'] = 'top'\n",
    "df.loc[(df.batting_team=='Kings XI Punjab')&(df.non_striker.isin(punj_top_order)),'non_striker'] = 'top'\n",
    "df.loc[(df.batting_team=='Sunrisers Hyderabad')&(df.non_striker.isin(srh_top_order)),'non_striker'] = 'top'\n",
    "df.loc[(df.batting_team=='Kolkata Knight Riders')&(df.non_striker.isin(kkr_top_order)),'non_striker'] = 'top'\n",
    "df.loc[(df.batting_team=='Deccan Chargers')&(df.non_striker.isin(dc_top_order)),'non_striker'] = 'top'\n",
    "df.loc[(df.batting_team=='Rajasthan Royals')&(df.non_striker.isin(rr_top_order)),'non_striker'] = 'top'\n",
    "df.loc[(df.batting_team=='Mumbai Indians')&(df.non_striker.isin(mi_top_order)),'non_striker'] = 'top'\n"
   ]
  },
  {
   "cell_type": "code",
   "execution_count": 18,
   "metadata": {},
   "outputs": [],
   "source": [
    "# Replacing all batsman and non_striker names with \"tail\"\n",
    "\n",
    "df.loc[(df.batting_team=='Royal Challengers Bangalore')&(df.batsman.isin(rcb_tail_enders)),'batsman'] = 'tail'\n",
    "df.loc[(df.batting_team=='Delhi Capitals')&(df.batsman.isin(dd_tail_enders)),'batsman'] = 'tail'\n",
    "df.loc[(df.batting_team=='Delhi Daredevils')&(df.batsman.isin(dd_tail_enders)),'batsman'] = 'tail'\n",
    "df.loc[(df.batting_team=='Chennai Super Kings')&(df.batsman.isin(csk_tail_enders)),'batsman'] = 'tail'\n",
    "df.loc[(df.batting_team=='Kings XI Punjab')&(df.batsman.isin(punj_tail_enders)),'batsman'] = 'tail'\n",
    "df.loc[(df.batting_team=='Sunrisers Hyderabad')&(df.batsman.isin(srh_tail_enders)),'batsman'] = 'tail'\n",
    "df.loc[(df.batting_team=='Kolkata Knight Riders')&(df.batsman.isin(kkr_tail_enders)),'batsman'] = 'tail'\n",
    "df.loc[(df.batting_team=='Deccan Chargers')&(df.batsman.isin(dc_tail_enders)),'batsman'] = 'tail'\n",
    "df.loc[(df.batting_team=='Rajasthan Royals')&(df.batsman.isin(rr_tail_enders)),'batsman'] = 'tail'\n",
    "df.loc[(df.batting_team=='Mumbai Indians')&(df.batsman.isin(mi_tail_enders)),'batsman'] = 'tail'\n",
    "\n",
    "df.loc[(df.batting_team=='Royal Challengers Bangalore')&(df.non_striker.isin(rcb_tail_enders)),'non_striker'] = 'tail'\n",
    "df.loc[(df.batting_team=='Delhi Capitals')&(df.non_striker.isin(dd_tail_enders)),'non_striker'] = 'tail'\n",
    "df.loc[(df.batting_team=='Delhi Daredevils')&(df.non_striker.isin(dd_tail_enders)),'non_striker'] = 'tail'\n",
    "df.loc[(df.batting_team=='Chennai Super Kings')&(df.non_striker.isin(csk_tail_enders)),'non_striker'] = 'tail'\n",
    "df.loc[(df.batting_team=='Kings XI Punjab')&(df.non_striker.isin(punj_tail_enders)),'non_striker'] = 'tail'\n",
    "df.loc[(df.batting_team=='Sunrisers Hyderabad')&(df.non_striker.isin(srh_tail_enders)),'non_striker'] = 'tail'\n",
    "df.loc[(df.batting_team=='Kolkata Knight Riders')&(df.non_striker.isin(kkr_tail_enders)),'non_striker'] = 'tail'\n",
    "df.loc[(df.batting_team=='Deccan Chargers')&(df.non_striker.isin(dc_tail_enders)),'non_striker'] = 'tail'\n",
    "df.loc[(df.batting_team=='Rajasthan Royals')&(df.non_striker.isin(rr_tail_enders)),'non_striker'] = 'tail'\n",
    "df.loc[(df.batting_team=='Mumbai Indians')&(df.non_striker.isin(mi_tail_enders)),'non_striker'] = 'tail'\n"
   ]
  },
  {
   "cell_type": "code",
   "execution_count": 19,
   "metadata": {},
   "outputs": [],
   "source": [
    "# replace remaining names with \"middle\"\n",
    "\n",
    "l = ['top', 'tail']\n",
    "df.loc[~df.batsman.isin(l),'batsman'] = 'middle'\n",
    "df.loc[~df.non_striker.isin(l),'non_striker'] = 'middle'"
   ]
  },
  {
   "cell_type": "code",
   "execution_count": 20,
   "metadata": {},
   "outputs": [
    {
     "name": "stdout",
     "output_type": "stream",
     "text": [
      "0\n",
      "0\n"
     ]
    }
   ],
   "source": [
    "# sanity check for nulls\n",
    "\n",
    "print(df.batsman.isna().sum())\n",
    "print(df.non_striker.isna().sum())"
   ]
  },
  {
   "cell_type": "code",
   "execution_count": 21,
   "metadata": {},
   "outputs": [
    {
     "data": {
      "text/plain": [
       "(89893, 20)"
      ]
     },
     "execution_count": 21,
     "metadata": {},
     "output_type": "execute_result"
    }
   ],
   "source": [
    "df.loc[df.batsman=='top'].shape"
   ]
  },
  {
   "cell_type": "code",
   "execution_count": 22,
   "metadata": {},
   "outputs": [
    {
     "data": {
      "text/plain": [
       "(36128, 20)"
      ]
     },
     "execution_count": 22,
     "metadata": {},
     "output_type": "execute_result"
    }
   ],
   "source": [
    "df.loc[df.batsman=='middle'].shape"
   ]
  },
  {
   "cell_type": "code",
   "execution_count": 23,
   "metadata": {},
   "outputs": [
    {
     "data": {
      "text/plain": [
       "(5980, 20)"
      ]
     },
     "execution_count": 23,
     "metadata": {},
     "output_type": "execute_result"
    }
   ],
   "source": [
    "df.loc[df.batsman=='tail'].shape"
   ]
  },
  {
   "cell_type": "markdown",
   "metadata": {},
   "source": [
    "## Renaming Old Team Names To Current Names"
   ]
  },
  {
   "cell_type": "code",
   "execution_count": 24,
   "metadata": {},
   "outputs": [
    {
     "name": "stdout",
     "output_type": "stream",
     "text": [
      "Empty DataFrame\n",
      "Columns: [season, match_id, venue, inning, batting_team, bowling_team, batsman, non_striker, bowler, ball, wide_runs, bye_runs, legbye_runs, noball_runs, batsman_runs, extra_runs, total_runs, dismissal_kind, wickets, commentary]\n",
      "Index: []\n",
      "Empty DataFrame\n",
      "Columns: [season, match_id, venue, inning, batting_team, bowling_team, batsman, non_striker, bowler, ball, wide_runs, bye_runs, legbye_runs, noball_runs, batsman_runs, extra_runs, total_runs, dismissal_kind, wickets, commentary]\n",
      "Index: []\n"
     ]
    }
   ],
   "source": [
    "# Renaming the teams with their latest names\n",
    "\n",
    "df.loc[(df.batting_team=='Delhi Daredevils'),'batting_team'] = 'Delhi Capitals'\n",
    "df.loc[(df.bowling_team=='Delhi Daredevils'),'bowling_team'] = 'Delhi Capitals'\n",
    "\n",
    "df.loc[(df.batting_team=='Deccan Chargers'),'batting_team'] = 'Sunrisers Hyderabad'\n",
    "df.loc[(df.bowling_team=='Deccan Chargers'),'bowling_team'] = 'Sunrisers Hyderabad'\n",
    "\n",
    "# sanity check\n",
    "print(df.loc[(df.batting_team=='Delhi Daredevils')|(df.bowling_team=='Delhi Daredevils')])\n",
    "print(df.loc[(df.batting_team=='Deccan Chargers')|(df.bowling_team=='Deccan Chargers')])"
   ]
  },
  {
   "cell_type": "markdown",
   "metadata": {},
   "source": [
    "## Grouping `match_id` Column for Playoffs"
   ]
  },
  {
   "cell_type": "code",
   "execution_count": 25,
   "metadata": {},
   "outputs": [],
   "source": [
    "playoff = ['3rd Place Playoff', 'eliminator', 'final', 'semi-final1', 'semi-final2', 'semi-final']\n",
    "df.loc[df.match_id.isin(playoff), 'match_id'] = 'playoffs'"
   ]
  },
  {
   "cell_type": "code",
   "execution_count": 26,
   "metadata": {},
   "outputs": [
    {
     "data": {
      "text/html": [
       "<div>\n",
       "<style scoped>\n",
       "    .dataframe tbody tr th:only-of-type {\n",
       "        vertical-align: middle;\n",
       "    }\n",
       "\n",
       "    .dataframe tbody tr th {\n",
       "        vertical-align: top;\n",
       "    }\n",
       "\n",
       "    .dataframe thead th {\n",
       "        text-align: right;\n",
       "    }\n",
       "</style>\n",
       "<table border=\"1\" class=\"dataframe\">\n",
       "  <thead>\n",
       "    <tr style=\"text-align: right;\">\n",
       "      <th></th>\n",
       "      <th>season</th>\n",
       "      <th>match_id</th>\n",
       "      <th>venue</th>\n",
       "      <th>inning</th>\n",
       "      <th>batting_team</th>\n",
       "      <th>bowling_team</th>\n",
       "      <th>batsman</th>\n",
       "      <th>non_striker</th>\n",
       "      <th>bowler</th>\n",
       "      <th>ball</th>\n",
       "      <th>wide_runs</th>\n",
       "      <th>bye_runs</th>\n",
       "      <th>legbye_runs</th>\n",
       "      <th>noball_runs</th>\n",
       "      <th>batsman_runs</th>\n",
       "      <th>extra_runs</th>\n",
       "      <th>total_runs</th>\n",
       "      <th>dismissal_kind</th>\n",
       "      <th>wickets</th>\n",
       "      <th>commentary</th>\n",
       "    </tr>\n",
       "  </thead>\n",
       "  <tbody>\n",
       "    <tr>\n",
       "      <th>12801</th>\n",
       "      <td>2008</td>\n",
       "      <td>playoffs</td>\n",
       "      <td>Mumbai</td>\n",
       "      <td>1</td>\n",
       "      <td>Rajasthan Royals</td>\n",
       "      <td>Delhi Capitals</td>\n",
       "      <td>top</td>\n",
       "      <td>top</td>\n",
       "      <td>pacer</td>\n",
       "      <td>0.1</td>\n",
       "      <td>0</td>\n",
       "      <td>0</td>\n",
       "      <td>0</td>\n",
       "      <td>0</td>\n",
       "      <td>0</td>\n",
       "      <td>0</td>\n",
       "      <td>0</td>\n",
       "      <td></td>\n",
       "      <td>0</td>\n",
       "      <td>McGrath to Smith, no run, a peach from McGrath...</td>\n",
       "    </tr>\n",
       "    <tr>\n",
       "      <th>12802</th>\n",
       "      <td>2008</td>\n",
       "      <td>playoffs</td>\n",
       "      <td>Mumbai</td>\n",
       "      <td>1</td>\n",
       "      <td>Rajasthan Royals</td>\n",
       "      <td>Delhi Capitals</td>\n",
       "      <td>top</td>\n",
       "      <td>top</td>\n",
       "      <td>pacer</td>\n",
       "      <td>0.2</td>\n",
       "      <td>1</td>\n",
       "      <td>0</td>\n",
       "      <td>0</td>\n",
       "      <td>0</td>\n",
       "      <td>0</td>\n",
       "      <td>1</td>\n",
       "      <td>1</td>\n",
       "      <td></td>\n",
       "      <td>0</td>\n",
       "      <td>McGrath to Smith, 1 wide, and this one is wide...</td>\n",
       "    </tr>\n",
       "    <tr>\n",
       "      <th>12803</th>\n",
       "      <td>2008</td>\n",
       "      <td>playoffs</td>\n",
       "      <td>Mumbai</td>\n",
       "      <td>1</td>\n",
       "      <td>Rajasthan Royals</td>\n",
       "      <td>Delhi Capitals</td>\n",
       "      <td>top</td>\n",
       "      <td>top</td>\n",
       "      <td>pacer</td>\n",
       "      <td>0.2</td>\n",
       "      <td>0</td>\n",
       "      <td>0</td>\n",
       "      <td>0</td>\n",
       "      <td>0</td>\n",
       "      <td>0</td>\n",
       "      <td>0</td>\n",
       "      <td>0</td>\n",
       "      <td></td>\n",
       "      <td>0</td>\n",
       "      <td>McGrath to Smith, no run, tight line and lengt...</td>\n",
       "    </tr>\n",
       "    <tr>\n",
       "      <th>12804</th>\n",
       "      <td>2008</td>\n",
       "      <td>playoffs</td>\n",
       "      <td>Mumbai</td>\n",
       "      <td>1</td>\n",
       "      <td>Rajasthan Royals</td>\n",
       "      <td>Delhi Capitals</td>\n",
       "      <td>top</td>\n",
       "      <td>top</td>\n",
       "      <td>pacer</td>\n",
       "      <td>0.3</td>\n",
       "      <td>0</td>\n",
       "      <td>0</td>\n",
       "      <td>0</td>\n",
       "      <td>0</td>\n",
       "      <td>0</td>\n",
       "      <td>0</td>\n",
       "      <td>0</td>\n",
       "      <td></td>\n",
       "      <td>0</td>\n",
       "      <td>McGrath to Smith, no run, good length once aga...</td>\n",
       "    </tr>\n",
       "    <tr>\n",
       "      <th>12805</th>\n",
       "      <td>2008</td>\n",
       "      <td>playoffs</td>\n",
       "      <td>Mumbai</td>\n",
       "      <td>1</td>\n",
       "      <td>Rajasthan Royals</td>\n",
       "      <td>Delhi Capitals</td>\n",
       "      <td>top</td>\n",
       "      <td>top</td>\n",
       "      <td>pacer</td>\n",
       "      <td>0.4</td>\n",
       "      <td>0</td>\n",
       "      <td>0</td>\n",
       "      <td>0</td>\n",
       "      <td>0</td>\n",
       "      <td>0</td>\n",
       "      <td>0</td>\n",
       "      <td>0</td>\n",
       "      <td></td>\n",
       "      <td>0</td>\n",
       "      <td>McGrath to Smith, no run, Smith tries to flick...</td>\n",
       "    </tr>\n",
       "    <tr>\n",
       "      <th>...</th>\n",
       "      <td>...</td>\n",
       "      <td>...</td>\n",
       "      <td>...</td>\n",
       "      <td>...</td>\n",
       "      <td>...</td>\n",
       "      <td>...</td>\n",
       "      <td>...</td>\n",
       "      <td>...</td>\n",
       "      <td>...</td>\n",
       "      <td>...</td>\n",
       "      <td>...</td>\n",
       "      <td>...</td>\n",
       "      <td>...</td>\n",
       "      <td>...</td>\n",
       "      <td>...</td>\n",
       "      <td>...</td>\n",
       "      <td>...</td>\n",
       "      <td>...</td>\n",
       "      <td>...</td>\n",
       "      <td>...</td>\n",
       "    </tr>\n",
       "    <tr>\n",
       "      <th>131996</th>\n",
       "      <td>2019</td>\n",
       "      <td>playoffs</td>\n",
       "      <td>Hyderabad</td>\n",
       "      <td>2</td>\n",
       "      <td>Chennai Super Kings</td>\n",
       "      <td>Mumbai Indians</td>\n",
       "      <td>middle</td>\n",
       "      <td>top</td>\n",
       "      <td>pacer</td>\n",
       "      <td>19.2</td>\n",
       "      <td>0</td>\n",
       "      <td>0</td>\n",
       "      <td>0</td>\n",
       "      <td>0</td>\n",
       "      <td>1</td>\n",
       "      <td>0</td>\n",
       "      <td>1</td>\n",
       "      <td></td>\n",
       "      <td>5</td>\n",
       "      <td>Malinga to Jadeja, 1 run, low full toss on mid...</td>\n",
       "    </tr>\n",
       "    <tr>\n",
       "      <th>131997</th>\n",
       "      <td>2019</td>\n",
       "      <td>playoffs</td>\n",
       "      <td>Hyderabad</td>\n",
       "      <td>2</td>\n",
       "      <td>Chennai Super Kings</td>\n",
       "      <td>Mumbai Indians</td>\n",
       "      <td>top</td>\n",
       "      <td>middle</td>\n",
       "      <td>pacer</td>\n",
       "      <td>19.3</td>\n",
       "      <td>0</td>\n",
       "      <td>0</td>\n",
       "      <td>0</td>\n",
       "      <td>0</td>\n",
       "      <td>2</td>\n",
       "      <td>0</td>\n",
       "      <td>2</td>\n",
       "      <td></td>\n",
       "      <td>5</td>\n",
       "      <td>Malinga to Watson, 2 runs, yorker, just outsid...</td>\n",
       "    </tr>\n",
       "    <tr>\n",
       "      <th>131998</th>\n",
       "      <td>2019</td>\n",
       "      <td>playoffs</td>\n",
       "      <td>Hyderabad</td>\n",
       "      <td>2</td>\n",
       "      <td>Chennai Super Kings</td>\n",
       "      <td>Mumbai Indians</td>\n",
       "      <td>top</td>\n",
       "      <td>middle</td>\n",
       "      <td>pacer</td>\n",
       "      <td>19.4</td>\n",
       "      <td>0</td>\n",
       "      <td>0</td>\n",
       "      <td>0</td>\n",
       "      <td>0</td>\n",
       "      <td>1</td>\n",
       "      <td>0</td>\n",
       "      <td>1</td>\n",
       "      <td>run out</td>\n",
       "      <td>6</td>\n",
       "      <td>Malinga to Watson, 1 run, OUT, yorker, just ou...</td>\n",
       "    </tr>\n",
       "    <tr>\n",
       "      <th>131999</th>\n",
       "      <td>2019</td>\n",
       "      <td>playoffs</td>\n",
       "      <td>Hyderabad</td>\n",
       "      <td>2</td>\n",
       "      <td>Chennai Super Kings</td>\n",
       "      <td>Mumbai Indians</td>\n",
       "      <td>middle</td>\n",
       "      <td>middle</td>\n",
       "      <td>pacer</td>\n",
       "      <td>19.5</td>\n",
       "      <td>0</td>\n",
       "      <td>0</td>\n",
       "      <td>0</td>\n",
       "      <td>0</td>\n",
       "      <td>2</td>\n",
       "      <td>0</td>\n",
       "      <td>2</td>\n",
       "      <td></td>\n",
       "      <td>6</td>\n",
       "      <td>Malinga to Thakur, 2 runs, full toss on leg, a...</td>\n",
       "    </tr>\n",
       "    <tr>\n",
       "      <th>132000</th>\n",
       "      <td>2019</td>\n",
       "      <td>playoffs</td>\n",
       "      <td>Hyderabad</td>\n",
       "      <td>2</td>\n",
       "      <td>Chennai Super Kings</td>\n",
       "      <td>Mumbai Indians</td>\n",
       "      <td>middle</td>\n",
       "      <td>middle</td>\n",
       "      <td>pacer</td>\n",
       "      <td>19.6</td>\n",
       "      <td>0</td>\n",
       "      <td>0</td>\n",
       "      <td>0</td>\n",
       "      <td>0</td>\n",
       "      <td>0</td>\n",
       "      <td>0</td>\n",
       "      <td>0</td>\n",
       "      <td>lbw</td>\n",
       "      <td>7</td>\n",
       "      <td>Malinga to Thakur, OUT, Mumbai Indians win IPL...</td>\n",
       "    </tr>\n",
       "  </tbody>\n",
       "</table>\n",
       "<p>9186 rows × 20 columns</p>\n",
       "</div>"
      ],
      "text/plain": [
       "        season  match_id      venue  inning         batting_team  \\\n",
       "12801     2008  playoffs     Mumbai       1     Rajasthan Royals   \n",
       "12802     2008  playoffs     Mumbai       1     Rajasthan Royals   \n",
       "12803     2008  playoffs     Mumbai       1     Rajasthan Royals   \n",
       "12804     2008  playoffs     Mumbai       1     Rajasthan Royals   \n",
       "12805     2008  playoffs     Mumbai       1     Rajasthan Royals   \n",
       "...        ...       ...        ...     ...                  ...   \n",
       "131996    2019  playoffs  Hyderabad       2  Chennai Super Kings   \n",
       "131997    2019  playoffs  Hyderabad       2  Chennai Super Kings   \n",
       "131998    2019  playoffs  Hyderabad       2  Chennai Super Kings   \n",
       "131999    2019  playoffs  Hyderabad       2  Chennai Super Kings   \n",
       "132000    2019  playoffs  Hyderabad       2  Chennai Super Kings   \n",
       "\n",
       "          bowling_team batsman non_striker bowler  ball  wide_runs  bye_runs  \\\n",
       "12801   Delhi Capitals     top         top  pacer   0.1          0         0   \n",
       "12802   Delhi Capitals     top         top  pacer   0.2          1         0   \n",
       "12803   Delhi Capitals     top         top  pacer   0.2          0         0   \n",
       "12804   Delhi Capitals     top         top  pacer   0.3          0         0   \n",
       "12805   Delhi Capitals     top         top  pacer   0.4          0         0   \n",
       "...                ...     ...         ...    ...   ...        ...       ...   \n",
       "131996  Mumbai Indians  middle         top  pacer  19.2          0         0   \n",
       "131997  Mumbai Indians     top      middle  pacer  19.3          0         0   \n",
       "131998  Mumbai Indians     top      middle  pacer  19.4          0         0   \n",
       "131999  Mumbai Indians  middle      middle  pacer  19.5          0         0   \n",
       "132000  Mumbai Indians  middle      middle  pacer  19.6          0         0   \n",
       "\n",
       "        legbye_runs  noball_runs  batsman_runs  extra_runs  total_runs  \\\n",
       "12801             0            0             0           0           0   \n",
       "12802             0            0             0           1           1   \n",
       "12803             0            0             0           0           0   \n",
       "12804             0            0             0           0           0   \n",
       "12805             0            0             0           0           0   \n",
       "...             ...          ...           ...         ...         ...   \n",
       "131996            0            0             1           0           1   \n",
       "131997            0            0             2           0           2   \n",
       "131998            0            0             1           0           1   \n",
       "131999            0            0             2           0           2   \n",
       "132000            0            0             0           0           0   \n",
       "\n",
       "       dismissal_kind  wickets  \\\n",
       "12801                        0   \n",
       "12802                        0   \n",
       "12803                        0   \n",
       "12804                        0   \n",
       "12805                        0   \n",
       "...               ...      ...   \n",
       "131996                       5   \n",
       "131997                       5   \n",
       "131998        run out        6   \n",
       "131999                       6   \n",
       "132000            lbw        7   \n",
       "\n",
       "                                               commentary  \n",
       "12801   McGrath to Smith, no run, a peach from McGrath...  \n",
       "12802   McGrath to Smith, 1 wide, and this one is wide...  \n",
       "12803   McGrath to Smith, no run, tight line and lengt...  \n",
       "12804   McGrath to Smith, no run, good length once aga...  \n",
       "12805   McGrath to Smith, no run, Smith tries to flick...  \n",
       "...                                                   ...  \n",
       "131996  Malinga to Jadeja, 1 run, low full toss on mid...  \n",
       "131997  Malinga to Watson, 2 runs, yorker, just outsid...  \n",
       "131998  Malinga to Watson, 1 run, OUT, yorker, just ou...  \n",
       "131999  Malinga to Thakur, 2 runs, full toss on leg, a...  \n",
       "132000  Malinga to Thakur, OUT, Mumbai Indians win IPL...  \n",
       "\n",
       "[9186 rows x 20 columns]"
      ]
     },
     "execution_count": 26,
     "metadata": {},
     "output_type": "execute_result"
    }
   ],
   "source": [
    "df.loc[df.match_id=='playoffs']"
   ]
  },
  {
   "cell_type": "code",
   "execution_count": 27,
   "metadata": {},
   "outputs": [],
   "source": [
    "p = ['playoffs']\n",
    "df.loc[~df.match_id.isin(p),'match_id'] = 'round-robin'"
   ]
  },
  {
   "cell_type": "code",
   "execution_count": 28,
   "metadata": {},
   "outputs": [
    {
     "data": {
      "text/html": [
       "<div>\n",
       "<style scoped>\n",
       "    .dataframe tbody tr th:only-of-type {\n",
       "        vertical-align: middle;\n",
       "    }\n",
       "\n",
       "    .dataframe tbody tr th {\n",
       "        vertical-align: top;\n",
       "    }\n",
       "\n",
       "    .dataframe thead th {\n",
       "        text-align: right;\n",
       "    }\n",
       "</style>\n",
       "<table border=\"1\" class=\"dataframe\">\n",
       "  <thead>\n",
       "    <tr style=\"text-align: right;\">\n",
       "      <th></th>\n",
       "      <th>season</th>\n",
       "      <th>match_id</th>\n",
       "      <th>venue</th>\n",
       "      <th>inning</th>\n",
       "      <th>batting_team</th>\n",
       "      <th>bowling_team</th>\n",
       "      <th>batsman</th>\n",
       "      <th>non_striker</th>\n",
       "      <th>bowler</th>\n",
       "      <th>ball</th>\n",
       "      <th>wide_runs</th>\n",
       "      <th>bye_runs</th>\n",
       "      <th>legbye_runs</th>\n",
       "      <th>noball_runs</th>\n",
       "      <th>batsman_runs</th>\n",
       "      <th>extra_runs</th>\n",
       "      <th>total_runs</th>\n",
       "      <th>dismissal_kind</th>\n",
       "      <th>wickets</th>\n",
       "      <th>commentary</th>\n",
       "    </tr>\n",
       "  </thead>\n",
       "  <tbody>\n",
       "    <tr>\n",
       "      <th>0</th>\n",
       "      <td>2008</td>\n",
       "      <td>round-robin</td>\n",
       "      <td>Bangalore</td>\n",
       "      <td>1</td>\n",
       "      <td>Kolkata Knight Riders</td>\n",
       "      <td>Royal Challengers Bangalore</td>\n",
       "      <td>top</td>\n",
       "      <td>top</td>\n",
       "      <td>pacer</td>\n",
       "      <td>0.1</td>\n",
       "      <td>0</td>\n",
       "      <td>0</td>\n",
       "      <td>1</td>\n",
       "      <td>0</td>\n",
       "      <td>0</td>\n",
       "      <td>1</td>\n",
       "      <td>1</td>\n",
       "      <td></td>\n",
       "      <td>0</td>\n",
       "      <td>Kumar to Ganguly, 1 leg bye, and thats runs im...</td>\n",
       "    </tr>\n",
       "    <tr>\n",
       "      <th>1</th>\n",
       "      <td>2008</td>\n",
       "      <td>round-robin</td>\n",
       "      <td>Bangalore</td>\n",
       "      <td>1</td>\n",
       "      <td>Kolkata Knight Riders</td>\n",
       "      <td>Royal Challengers Bangalore</td>\n",
       "      <td>top</td>\n",
       "      <td>top</td>\n",
       "      <td>pacer</td>\n",
       "      <td>0.2</td>\n",
       "      <td>0</td>\n",
       "      <td>0</td>\n",
       "      <td>0</td>\n",
       "      <td>0</td>\n",
       "      <td>0</td>\n",
       "      <td>0</td>\n",
       "      <td>0</td>\n",
       "      <td></td>\n",
       "      <td>0</td>\n",
       "      <td>Kumar to McCullum, no run, this one nips back ...</td>\n",
       "    </tr>\n",
       "    <tr>\n",
       "      <th>2</th>\n",
       "      <td>2008</td>\n",
       "      <td>round-robin</td>\n",
       "      <td>Bangalore</td>\n",
       "      <td>1</td>\n",
       "      <td>Kolkata Knight Riders</td>\n",
       "      <td>Royal Challengers Bangalore</td>\n",
       "      <td>top</td>\n",
       "      <td>top</td>\n",
       "      <td>pacer</td>\n",
       "      <td>0.3</td>\n",
       "      <td>1</td>\n",
       "      <td>0</td>\n",
       "      <td>0</td>\n",
       "      <td>0</td>\n",
       "      <td>0</td>\n",
       "      <td>1</td>\n",
       "      <td>1</td>\n",
       "      <td></td>\n",
       "      <td>0</td>\n",
       "      <td>Kumar to McCullum, 1 wide, thats wide, as Prav...</td>\n",
       "    </tr>\n",
       "    <tr>\n",
       "      <th>3</th>\n",
       "      <td>2008</td>\n",
       "      <td>round-robin</td>\n",
       "      <td>Bangalore</td>\n",
       "      <td>1</td>\n",
       "      <td>Kolkata Knight Riders</td>\n",
       "      <td>Royal Challengers Bangalore</td>\n",
       "      <td>top</td>\n",
       "      <td>top</td>\n",
       "      <td>pacer</td>\n",
       "      <td>0.3</td>\n",
       "      <td>0</td>\n",
       "      <td>0</td>\n",
       "      <td>0</td>\n",
       "      <td>0</td>\n",
       "      <td>0</td>\n",
       "      <td>0</td>\n",
       "      <td>0</td>\n",
       "      <td></td>\n",
       "      <td>0</td>\n",
       "      <td>Kumar to McCullum, no run, too straight, McCul...</td>\n",
       "    </tr>\n",
       "    <tr>\n",
       "      <th>4</th>\n",
       "      <td>2008</td>\n",
       "      <td>round-robin</td>\n",
       "      <td>Bangalore</td>\n",
       "      <td>1</td>\n",
       "      <td>Kolkata Knight Riders</td>\n",
       "      <td>Royal Challengers Bangalore</td>\n",
       "      <td>top</td>\n",
       "      <td>top</td>\n",
       "      <td>pacer</td>\n",
       "      <td>0.4</td>\n",
       "      <td>0</td>\n",
       "      <td>0</td>\n",
       "      <td>0</td>\n",
       "      <td>0</td>\n",
       "      <td>0</td>\n",
       "      <td>0</td>\n",
       "      <td>0</td>\n",
       "      <td></td>\n",
       "      <td>0</td>\n",
       "      <td>Kumar to McCullum, no run, steps down the trac...</td>\n",
       "    </tr>\n",
       "    <tr>\n",
       "      <th>...</th>\n",
       "      <td>...</td>\n",
       "      <td>...</td>\n",
       "      <td>...</td>\n",
       "      <td>...</td>\n",
       "      <td>...</td>\n",
       "      <td>...</td>\n",
       "      <td>...</td>\n",
       "      <td>...</td>\n",
       "      <td>...</td>\n",
       "      <td>...</td>\n",
       "      <td>...</td>\n",
       "      <td>...</td>\n",
       "      <td>...</td>\n",
       "      <td>...</td>\n",
       "      <td>...</td>\n",
       "      <td>...</td>\n",
       "      <td>...</td>\n",
       "      <td>...</td>\n",
       "      <td>...</td>\n",
       "      <td>...</td>\n",
       "    </tr>\n",
       "    <tr>\n",
       "      <th>131021</th>\n",
       "      <td>2019</td>\n",
       "      <td>round-robin</td>\n",
       "      <td>Mumbai</td>\n",
       "      <td>2</td>\n",
       "      <td>Mumbai Indians</td>\n",
       "      <td>Kolkata Knight Riders</td>\n",
       "      <td>top</td>\n",
       "      <td>top</td>\n",
       "      <td>pacer</td>\n",
       "      <td>15.3</td>\n",
       "      <td>0</td>\n",
       "      <td>0</td>\n",
       "      <td>0</td>\n",
       "      <td>0</td>\n",
       "      <td>0</td>\n",
       "      <td>0</td>\n",
       "      <td>0</td>\n",
       "      <td></td>\n",
       "      <td>1</td>\n",
       "      <td>Prasidh Krishna to Sharma, no run,Ê</td>\n",
       "    </tr>\n",
       "    <tr>\n",
       "      <th>131022</th>\n",
       "      <td>2019</td>\n",
       "      <td>round-robin</td>\n",
       "      <td>Mumbai</td>\n",
       "      <td>2</td>\n",
       "      <td>Mumbai Indians</td>\n",
       "      <td>Kolkata Knight Riders</td>\n",
       "      <td>top</td>\n",
       "      <td>top</td>\n",
       "      <td>pacer</td>\n",
       "      <td>15.4</td>\n",
       "      <td>0</td>\n",
       "      <td>0</td>\n",
       "      <td>0</td>\n",
       "      <td>0</td>\n",
       "      <td>4</td>\n",
       "      <td>0</td>\n",
       "      <td>4</td>\n",
       "      <td></td>\n",
       "      <td>1</td>\n",
       "      <td>Prasidh Krishna to Sharma, FOUR runs, chipped ...</td>\n",
       "    </tr>\n",
       "    <tr>\n",
       "      <th>131023</th>\n",
       "      <td>2019</td>\n",
       "      <td>round-robin</td>\n",
       "      <td>Mumbai</td>\n",
       "      <td>2</td>\n",
       "      <td>Mumbai Indians</td>\n",
       "      <td>Kolkata Knight Riders</td>\n",
       "      <td>top</td>\n",
       "      <td>top</td>\n",
       "      <td>pacer</td>\n",
       "      <td>15.5</td>\n",
       "      <td>0</td>\n",
       "      <td>0</td>\n",
       "      <td>0</td>\n",
       "      <td>0</td>\n",
       "      <td>1</td>\n",
       "      <td>0</td>\n",
       "      <td>1</td>\n",
       "      <td></td>\n",
       "      <td>1</td>\n",
       "      <td>Prasidh Krishna to Sharma, 1 run, very full, j...</td>\n",
       "    </tr>\n",
       "    <tr>\n",
       "      <th>131024</th>\n",
       "      <td>2019</td>\n",
       "      <td>round-robin</td>\n",
       "      <td>Mumbai</td>\n",
       "      <td>2</td>\n",
       "      <td>Mumbai Indians</td>\n",
       "      <td>Kolkata Knight Riders</td>\n",
       "      <td>top</td>\n",
       "      <td>top</td>\n",
       "      <td>pacer</td>\n",
       "      <td>15.6</td>\n",
       "      <td>0</td>\n",
       "      <td>0</td>\n",
       "      <td>0</td>\n",
       "      <td>0</td>\n",
       "      <td>1</td>\n",
       "      <td>0</td>\n",
       "      <td>1</td>\n",
       "      <td></td>\n",
       "      <td>1</td>\n",
       "      <td>Prasidh Krishna to Yadav, 1 run, Prasidh digs ...</td>\n",
       "    </tr>\n",
       "    <tr>\n",
       "      <th>131025</th>\n",
       "      <td>2019</td>\n",
       "      <td>round-robin</td>\n",
       "      <td>Mumbai</td>\n",
       "      <td>2</td>\n",
       "      <td>Mumbai Indians</td>\n",
       "      <td>Kolkata Knight Riders</td>\n",
       "      <td>top</td>\n",
       "      <td>top</td>\n",
       "      <td>pacer</td>\n",
       "      <td>16.1</td>\n",
       "      <td>0</td>\n",
       "      <td>0</td>\n",
       "      <td>0</td>\n",
       "      <td>0</td>\n",
       "      <td>6</td>\n",
       "      <td>0</td>\n",
       "      <td>6</td>\n",
       "      <td></td>\n",
       "      <td>1</td>\n",
       "      <td>Russell to Yadav, SIX runs, and the match ends...</td>\n",
       "    </tr>\n",
       "  </tbody>\n",
       "</table>\n",
       "<p>122815 rows × 20 columns</p>\n",
       "</div>"
      ],
      "text/plain": [
       "        season     match_id      venue  inning           batting_team  \\\n",
       "0         2008  round-robin  Bangalore       1  Kolkata Knight Riders   \n",
       "1         2008  round-robin  Bangalore       1  Kolkata Knight Riders   \n",
       "2         2008  round-robin  Bangalore       1  Kolkata Knight Riders   \n",
       "3         2008  round-robin  Bangalore       1  Kolkata Knight Riders   \n",
       "4         2008  round-robin  Bangalore       1  Kolkata Knight Riders   \n",
       "...        ...          ...        ...     ...                    ...   \n",
       "131021    2019  round-robin     Mumbai       2         Mumbai Indians   \n",
       "131022    2019  round-robin     Mumbai       2         Mumbai Indians   \n",
       "131023    2019  round-robin     Mumbai       2         Mumbai Indians   \n",
       "131024    2019  round-robin     Mumbai       2         Mumbai Indians   \n",
       "131025    2019  round-robin     Mumbai       2         Mumbai Indians   \n",
       "\n",
       "                       bowling_team batsman non_striker bowler  ball  \\\n",
       "0       Royal Challengers Bangalore     top         top  pacer   0.1   \n",
       "1       Royal Challengers Bangalore     top         top  pacer   0.2   \n",
       "2       Royal Challengers Bangalore     top         top  pacer   0.3   \n",
       "3       Royal Challengers Bangalore     top         top  pacer   0.3   \n",
       "4       Royal Challengers Bangalore     top         top  pacer   0.4   \n",
       "...                             ...     ...         ...    ...   ...   \n",
       "131021        Kolkata Knight Riders     top         top  pacer  15.3   \n",
       "131022        Kolkata Knight Riders     top         top  pacer  15.4   \n",
       "131023        Kolkata Knight Riders     top         top  pacer  15.5   \n",
       "131024        Kolkata Knight Riders     top         top  pacer  15.6   \n",
       "131025        Kolkata Knight Riders     top         top  pacer  16.1   \n",
       "\n",
       "        wide_runs  bye_runs  legbye_runs  noball_runs  batsman_runs  \\\n",
       "0               0         0            1            0             0   \n",
       "1               0         0            0            0             0   \n",
       "2               1         0            0            0             0   \n",
       "3               0         0            0            0             0   \n",
       "4               0         0            0            0             0   \n",
       "...           ...       ...          ...          ...           ...   \n",
       "131021          0         0            0            0             0   \n",
       "131022          0         0            0            0             4   \n",
       "131023          0         0            0            0             1   \n",
       "131024          0         0            0            0             1   \n",
       "131025          0         0            0            0             6   \n",
       "\n",
       "        extra_runs  total_runs dismissal_kind  wickets  \\\n",
       "0                1           1                       0   \n",
       "1                0           0                       0   \n",
       "2                1           1                       0   \n",
       "3                0           0                       0   \n",
       "4                0           0                       0   \n",
       "...            ...         ...            ...      ...   \n",
       "131021           0           0                       1   \n",
       "131022           0           4                       1   \n",
       "131023           0           1                       1   \n",
       "131024           0           1                       1   \n",
       "131025           0           6                       1   \n",
       "\n",
       "                                               commentary  \n",
       "0       Kumar to Ganguly, 1 leg bye, and thats runs im...  \n",
       "1       Kumar to McCullum, no run, this one nips back ...  \n",
       "2       Kumar to McCullum, 1 wide, thats wide, as Prav...  \n",
       "3       Kumar to McCullum, no run, too straight, McCul...  \n",
       "4       Kumar to McCullum, no run, steps down the trac...  \n",
       "...                                                   ...  \n",
       "131021                Prasidh Krishna to Sharma, no run,Ê  \n",
       "131022  Prasidh Krishna to Sharma, FOUR runs, chipped ...  \n",
       "131023  Prasidh Krishna to Sharma, 1 run, very full, j...  \n",
       "131024  Prasidh Krishna to Yadav, 1 run, Prasidh digs ...  \n",
       "131025  Russell to Yadav, SIX runs, and the match ends...  \n",
       "\n",
       "[122815 rows x 20 columns]"
      ]
     },
     "execution_count": 28,
     "metadata": {},
     "output_type": "execute_result"
    }
   ],
   "source": [
    "df.loc[df.match_id=='round-robin']"
   ]
  },
  {
   "cell_type": "code",
   "execution_count": 29,
   "metadata": {},
   "outputs": [],
   "source": [
    "df.rename(columns={\"match_id\": \"match_type\", \"bowler\": \"bowler_type\"}, inplace=True)"
   ]
  },
  {
   "cell_type": "code",
   "execution_count": 30,
   "metadata": {
    "scrolled": true
   },
   "outputs": [
    {
     "data": {
      "text/html": [
       "<div>\n",
       "<style scoped>\n",
       "    .dataframe tbody tr th:only-of-type {\n",
       "        vertical-align: middle;\n",
       "    }\n",
       "\n",
       "    .dataframe tbody tr th {\n",
       "        vertical-align: top;\n",
       "    }\n",
       "\n",
       "    .dataframe thead th {\n",
       "        text-align: right;\n",
       "    }\n",
       "</style>\n",
       "<table border=\"1\" class=\"dataframe\">\n",
       "  <thead>\n",
       "    <tr style=\"text-align: right;\">\n",
       "      <th></th>\n",
       "      <th>season</th>\n",
       "      <th>match_type</th>\n",
       "      <th>venue</th>\n",
       "      <th>inning</th>\n",
       "      <th>batting_team</th>\n",
       "      <th>bowling_team</th>\n",
       "      <th>batsman</th>\n",
       "      <th>non_striker</th>\n",
       "      <th>bowler_type</th>\n",
       "      <th>ball</th>\n",
       "      <th>wide_runs</th>\n",
       "      <th>bye_runs</th>\n",
       "      <th>legbye_runs</th>\n",
       "      <th>noball_runs</th>\n",
       "      <th>batsman_runs</th>\n",
       "      <th>extra_runs</th>\n",
       "      <th>total_runs</th>\n",
       "      <th>dismissal_kind</th>\n",
       "      <th>wickets</th>\n",
       "      <th>commentary</th>\n",
       "    </tr>\n",
       "  </thead>\n",
       "  <tbody>\n",
       "    <tr>\n",
       "      <th>0</th>\n",
       "      <td>2008</td>\n",
       "      <td>round-robin</td>\n",
       "      <td>Bangalore</td>\n",
       "      <td>1</td>\n",
       "      <td>Kolkata Knight Riders</td>\n",
       "      <td>Royal Challengers Bangalore</td>\n",
       "      <td>top</td>\n",
       "      <td>top</td>\n",
       "      <td>pacer</td>\n",
       "      <td>0.1</td>\n",
       "      <td>0</td>\n",
       "      <td>0</td>\n",
       "      <td>1</td>\n",
       "      <td>0</td>\n",
       "      <td>0</td>\n",
       "      <td>1</td>\n",
       "      <td>1</td>\n",
       "      <td></td>\n",
       "      <td>0</td>\n",
       "      <td>Kumar to Ganguly, 1 leg bye, and thats runs im...</td>\n",
       "    </tr>\n",
       "    <tr>\n",
       "      <th>1</th>\n",
       "      <td>2008</td>\n",
       "      <td>round-robin</td>\n",
       "      <td>Bangalore</td>\n",
       "      <td>1</td>\n",
       "      <td>Kolkata Knight Riders</td>\n",
       "      <td>Royal Challengers Bangalore</td>\n",
       "      <td>top</td>\n",
       "      <td>top</td>\n",
       "      <td>pacer</td>\n",
       "      <td>0.2</td>\n",
       "      <td>0</td>\n",
       "      <td>0</td>\n",
       "      <td>0</td>\n",
       "      <td>0</td>\n",
       "      <td>0</td>\n",
       "      <td>0</td>\n",
       "      <td>0</td>\n",
       "      <td></td>\n",
       "      <td>0</td>\n",
       "      <td>Kumar to McCullum, no run, this one nips back ...</td>\n",
       "    </tr>\n",
       "    <tr>\n",
       "      <th>2</th>\n",
       "      <td>2008</td>\n",
       "      <td>round-robin</td>\n",
       "      <td>Bangalore</td>\n",
       "      <td>1</td>\n",
       "      <td>Kolkata Knight Riders</td>\n",
       "      <td>Royal Challengers Bangalore</td>\n",
       "      <td>top</td>\n",
       "      <td>top</td>\n",
       "      <td>pacer</td>\n",
       "      <td>0.3</td>\n",
       "      <td>1</td>\n",
       "      <td>0</td>\n",
       "      <td>0</td>\n",
       "      <td>0</td>\n",
       "      <td>0</td>\n",
       "      <td>1</td>\n",
       "      <td>1</td>\n",
       "      <td></td>\n",
       "      <td>0</td>\n",
       "      <td>Kumar to McCullum, 1 wide, thats wide, as Prav...</td>\n",
       "    </tr>\n",
       "    <tr>\n",
       "      <th>3</th>\n",
       "      <td>2008</td>\n",
       "      <td>round-robin</td>\n",
       "      <td>Bangalore</td>\n",
       "      <td>1</td>\n",
       "      <td>Kolkata Knight Riders</td>\n",
       "      <td>Royal Challengers Bangalore</td>\n",
       "      <td>top</td>\n",
       "      <td>top</td>\n",
       "      <td>pacer</td>\n",
       "      <td>0.3</td>\n",
       "      <td>0</td>\n",
       "      <td>0</td>\n",
       "      <td>0</td>\n",
       "      <td>0</td>\n",
       "      <td>0</td>\n",
       "      <td>0</td>\n",
       "      <td>0</td>\n",
       "      <td></td>\n",
       "      <td>0</td>\n",
       "      <td>Kumar to McCullum, no run, too straight, McCul...</td>\n",
       "    </tr>\n",
       "    <tr>\n",
       "      <th>4</th>\n",
       "      <td>2008</td>\n",
       "      <td>round-robin</td>\n",
       "      <td>Bangalore</td>\n",
       "      <td>1</td>\n",
       "      <td>Kolkata Knight Riders</td>\n",
       "      <td>Royal Challengers Bangalore</td>\n",
       "      <td>top</td>\n",
       "      <td>top</td>\n",
       "      <td>pacer</td>\n",
       "      <td>0.4</td>\n",
       "      <td>0</td>\n",
       "      <td>0</td>\n",
       "      <td>0</td>\n",
       "      <td>0</td>\n",
       "      <td>0</td>\n",
       "      <td>0</td>\n",
       "      <td>0</td>\n",
       "      <td></td>\n",
       "      <td>0</td>\n",
       "      <td>Kumar to McCullum, no run, steps down the trac...</td>\n",
       "    </tr>\n",
       "  </tbody>\n",
       "</table>\n",
       "</div>"
      ],
      "text/plain": [
       "   season   match_type      venue  inning           batting_team  \\\n",
       "0    2008  round-robin  Bangalore       1  Kolkata Knight Riders   \n",
       "1    2008  round-robin  Bangalore       1  Kolkata Knight Riders   \n",
       "2    2008  round-robin  Bangalore       1  Kolkata Knight Riders   \n",
       "3    2008  round-robin  Bangalore       1  Kolkata Knight Riders   \n",
       "4    2008  round-robin  Bangalore       1  Kolkata Knight Riders   \n",
       "\n",
       "                  bowling_team batsman non_striker bowler_type  ball  \\\n",
       "0  Royal Challengers Bangalore     top         top       pacer   0.1   \n",
       "1  Royal Challengers Bangalore     top         top       pacer   0.2   \n",
       "2  Royal Challengers Bangalore     top         top       pacer   0.3   \n",
       "3  Royal Challengers Bangalore     top         top       pacer   0.3   \n",
       "4  Royal Challengers Bangalore     top         top       pacer   0.4   \n",
       "\n",
       "   wide_runs  bye_runs  legbye_runs  noball_runs  batsman_runs  extra_runs  \\\n",
       "0          0         0            1            0             0           1   \n",
       "1          0         0            0            0             0           0   \n",
       "2          1         0            0            0             0           1   \n",
       "3          0         0            0            0             0           0   \n",
       "4          0         0            0            0             0           0   \n",
       "\n",
       "   total_runs dismissal_kind  wickets  \\\n",
       "0           1                       0   \n",
       "1           0                       0   \n",
       "2           1                       0   \n",
       "3           0                       0   \n",
       "4           0                       0   \n",
       "\n",
       "                                          commentary  \n",
       "0  Kumar to Ganguly, 1 leg bye, and thats runs im...  \n",
       "1  Kumar to McCullum, no run, this one nips back ...  \n",
       "2  Kumar to McCullum, 1 wide, thats wide, as Prav...  \n",
       "3  Kumar to McCullum, no run, too straight, McCul...  \n",
       "4  Kumar to McCullum, no run, steps down the trac...  "
      ]
     },
     "execution_count": 30,
     "metadata": {},
     "output_type": "execute_result"
    }
   ],
   "source": [
    "df.head()"
   ]
  },
  {
   "cell_type": "markdown",
   "metadata": {},
   "source": [
    "## Feature Engineering `ball_length` Column from `commentary` Column"
   ]
  },
  {
   "cell_type": "code",
   "execution_count": 31,
   "metadata": {},
   "outputs": [],
   "source": [
    "def lower_comm(x):\n",
    "    return x.lower()\n",
    "df['commentary'] = df['commentary'].apply(lower_comm)"
   ]
  },
  {
   "cell_type": "code",
   "execution_count": 32,
   "metadata": {},
   "outputs": [],
   "source": [
    "full_toss_length = ['full toss', 'beamer', 'full-toss', 'fulltoss']\n",
    "yorker_length = ['yorker', 'yorker length', 'yorker-ish', 'blockhole', 'block-hole', 'block hole', 'toe-crusher', 'toe crusher']\n",
    "full_length = ['full', 'full and straight', 'full length', 'fullish', 'full-ish', 'fuller', 'very full', 'full ball', 'full delivery', 'forward', 'front foot', 'flicked off the pads', 'glanced off the pads', 'flicks off the pad', 'off the pads', 'off the pad',\n",
    "               'clips', 'clipped', 'pads', 'on the pad', 'into the pads', 'cover drive', 'front', 'beaten', 'beaten on the drive','pitches it up', 'full on', 'slog', 'slogs', 'flat and quick',\n",
    "               'onto the pads', 'aimed at leg stump', 'aimed at leg-stump', 'pitched at leg stump', 'floated up', 'floats', 'floating', 'flights', 'flight', 'inside out', 'in the slot', 'slot delivery', 'long on', 'long-on',\n",
    "               'flighted', 'flighting', 'tossed up', 'overpitched', 'overpitching', 'overpitches', 'pitched up', 'half-volley', 'half volley', 'loopy', 'looping', 'reverse sweep', 'down the ground',\n",
    "               'reverse-sweep', 'sweep', 'sweeping', 'paddled', 'paddle', 'paddles', 'slog swept', 'slog-sweep', 'off-drive', 'straight-drive', 'worked', 'works', 'meeting the pitch', 'lunges forward', 'cover-drive', 'cover drive',\n",
    "               'off drive', 'slog-sweeps', 'straight drive', 'on-drive', 'on drive', 'helicopter shot', 'helicopter', 'over cover', 'over extra cover', 'pitch of the ball', 'to the pitch', 'slower full', 'slower, full']\n",
    "good_length = ['length ball', 'good length', 'length delivery', 'at a length', ', length,', 'length', 'peach', 'corridor of uncertainty', 'punched', 'googly', 'cramped', 'cramps', 'cramping', 'thigh pad', 'cramp',\n",
    "               'goodish', 'good-ish', 'nudges', 'driven on the up', 'slower length ball', 'slower, good length', 'on the up', 'length outside', 'length on', 'tight length']\n",
    "short_length = ['short', 'short ball', 'short delivery', 'bouncer', 'pulled', 'hooked', 'pulling', 'hooking', 'pull', 'hook',\n",
    "                'back of a length', 'back of length', 'back of good length', 'back foot', 'back-foot', 'heaved', 'hoicked',\n",
    "                'short of good length', 'short length', 'shortish', 'short-ish', 'cuts', 'cut', 'cutting it', 'cutting the', 'dragged back', 'drags his length back',\n",
    "                'back-of-a-length', 'holding back the length']"
   ]
  },
  {
   "cell_type": "code",
   "execution_count": 33,
   "metadata": {},
   "outputs": [
    {
     "data": {
      "text/html": [
       "<div>\n",
       "<style scoped>\n",
       "    .dataframe tbody tr th:only-of-type {\n",
       "        vertical-align: middle;\n",
       "    }\n",
       "\n",
       "    .dataframe tbody tr th {\n",
       "        vertical-align: top;\n",
       "    }\n",
       "\n",
       "    .dataframe thead th {\n",
       "        text-align: right;\n",
       "    }\n",
       "</style>\n",
       "<table border=\"1\" class=\"dataframe\">\n",
       "  <thead>\n",
       "    <tr style=\"text-align: right;\">\n",
       "      <th></th>\n",
       "      <th>season</th>\n",
       "      <th>match_type</th>\n",
       "      <th>venue</th>\n",
       "      <th>inning</th>\n",
       "      <th>batting_team</th>\n",
       "      <th>bowling_team</th>\n",
       "      <th>batsman</th>\n",
       "      <th>non_striker</th>\n",
       "      <th>bowler_type</th>\n",
       "      <th>ball</th>\n",
       "      <th>...</th>\n",
       "      <th>bye_runs</th>\n",
       "      <th>legbye_runs</th>\n",
       "      <th>noball_runs</th>\n",
       "      <th>batsman_runs</th>\n",
       "      <th>extra_runs</th>\n",
       "      <th>total_runs</th>\n",
       "      <th>dismissal_kind</th>\n",
       "      <th>wickets</th>\n",
       "      <th>commentary</th>\n",
       "      <th>ball_length</th>\n",
       "    </tr>\n",
       "  </thead>\n",
       "  <tbody>\n",
       "    <tr>\n",
       "      <th>0</th>\n",
       "      <td>2008</td>\n",
       "      <td>round-robin</td>\n",
       "      <td>Bangalore</td>\n",
       "      <td>1</td>\n",
       "      <td>Kolkata Knight Riders</td>\n",
       "      <td>Royal Challengers Bangalore</td>\n",
       "      <td>top</td>\n",
       "      <td>top</td>\n",
       "      <td>pacer</td>\n",
       "      <td>0.1</td>\n",
       "      <td>...</td>\n",
       "      <td>0</td>\n",
       "      <td>1</td>\n",
       "      <td>0</td>\n",
       "      <td>0</td>\n",
       "      <td>1</td>\n",
       "      <td>1</td>\n",
       "      <td></td>\n",
       "      <td>0</td>\n",
       "      <td>kumar to ganguly, 1 leg bye, and thats runs im...</td>\n",
       "      <td>full</td>\n",
       "    </tr>\n",
       "    <tr>\n",
       "      <th>1</th>\n",
       "      <td>2008</td>\n",
       "      <td>round-robin</td>\n",
       "      <td>Bangalore</td>\n",
       "      <td>1</td>\n",
       "      <td>Kolkata Knight Riders</td>\n",
       "      <td>Royal Challengers Bangalore</td>\n",
       "      <td>top</td>\n",
       "      <td>top</td>\n",
       "      <td>pacer</td>\n",
       "      <td>0.2</td>\n",
       "      <td>...</td>\n",
       "      <td>0</td>\n",
       "      <td>0</td>\n",
       "      <td>0</td>\n",
       "      <td>0</td>\n",
       "      <td>0</td>\n",
       "      <td>0</td>\n",
       "      <td></td>\n",
       "      <td>0</td>\n",
       "      <td>kumar to mccullum, no run, this one nips back ...</td>\n",
       "      <td>good</td>\n",
       "    </tr>\n",
       "    <tr>\n",
       "      <th>2</th>\n",
       "      <td>2008</td>\n",
       "      <td>round-robin</td>\n",
       "      <td>Bangalore</td>\n",
       "      <td>1</td>\n",
       "      <td>Kolkata Knight Riders</td>\n",
       "      <td>Royal Challengers Bangalore</td>\n",
       "      <td>top</td>\n",
       "      <td>top</td>\n",
       "      <td>pacer</td>\n",
       "      <td>0.3</td>\n",
       "      <td>...</td>\n",
       "      <td>0</td>\n",
       "      <td>0</td>\n",
       "      <td>0</td>\n",
       "      <td>0</td>\n",
       "      <td>1</td>\n",
       "      <td>1</td>\n",
       "      <td></td>\n",
       "      <td>0</td>\n",
       "      <td>kumar to mccullum, 1 wide, thats wide, as prav...</td>\n",
       "      <td>nan</td>\n",
       "    </tr>\n",
       "    <tr>\n",
       "      <th>3</th>\n",
       "      <td>2008</td>\n",
       "      <td>round-robin</td>\n",
       "      <td>Bangalore</td>\n",
       "      <td>1</td>\n",
       "      <td>Kolkata Knight Riders</td>\n",
       "      <td>Royal Challengers Bangalore</td>\n",
       "      <td>top</td>\n",
       "      <td>top</td>\n",
       "      <td>pacer</td>\n",
       "      <td>0.3</td>\n",
       "      <td>...</td>\n",
       "      <td>0</td>\n",
       "      <td>0</td>\n",
       "      <td>0</td>\n",
       "      <td>0</td>\n",
       "      <td>0</td>\n",
       "      <td>0</td>\n",
       "      <td></td>\n",
       "      <td>0</td>\n",
       "      <td>kumar to mccullum, no run, too straight, mccul...</td>\n",
       "      <td>nan</td>\n",
       "    </tr>\n",
       "    <tr>\n",
       "      <th>4</th>\n",
       "      <td>2008</td>\n",
       "      <td>round-robin</td>\n",
       "      <td>Bangalore</td>\n",
       "      <td>1</td>\n",
       "      <td>Kolkata Knight Riders</td>\n",
       "      <td>Royal Challengers Bangalore</td>\n",
       "      <td>top</td>\n",
       "      <td>top</td>\n",
       "      <td>pacer</td>\n",
       "      <td>0.4</td>\n",
       "      <td>...</td>\n",
       "      <td>0</td>\n",
       "      <td>0</td>\n",
       "      <td>0</td>\n",
       "      <td>0</td>\n",
       "      <td>0</td>\n",
       "      <td>0</td>\n",
       "      <td></td>\n",
       "      <td>0</td>\n",
       "      <td>kumar to mccullum, no run, steps down the trac...</td>\n",
       "      <td>good</td>\n",
       "    </tr>\n",
       "  </tbody>\n",
       "</table>\n",
       "<p>5 rows × 21 columns</p>\n",
       "</div>"
      ],
      "text/plain": [
       "   season   match_type      venue  inning           batting_team  \\\n",
       "0    2008  round-robin  Bangalore       1  Kolkata Knight Riders   \n",
       "1    2008  round-robin  Bangalore       1  Kolkata Knight Riders   \n",
       "2    2008  round-robin  Bangalore       1  Kolkata Knight Riders   \n",
       "3    2008  round-robin  Bangalore       1  Kolkata Knight Riders   \n",
       "4    2008  round-robin  Bangalore       1  Kolkata Knight Riders   \n",
       "\n",
       "                  bowling_team batsman non_striker bowler_type  ball  ...  \\\n",
       "0  Royal Challengers Bangalore     top         top       pacer   0.1  ...   \n",
       "1  Royal Challengers Bangalore     top         top       pacer   0.2  ...   \n",
       "2  Royal Challengers Bangalore     top         top       pacer   0.3  ...   \n",
       "3  Royal Challengers Bangalore     top         top       pacer   0.3  ...   \n",
       "4  Royal Challengers Bangalore     top         top       pacer   0.4  ...   \n",
       "\n",
       "   bye_runs  legbye_runs  noball_runs  batsman_runs  extra_runs  total_runs  \\\n",
       "0         0            1            0             0           1           1   \n",
       "1         0            0            0             0           0           0   \n",
       "2         0            0            0             0           1           1   \n",
       "3         0            0            0             0           0           0   \n",
       "4         0            0            0             0           0           0   \n",
       "\n",
       "   dismissal_kind wickets                                         commentary  \\\n",
       "0                       0  kumar to ganguly, 1 leg bye, and thats runs im...   \n",
       "1                       0  kumar to mccullum, no run, this one nips back ...   \n",
       "2                       0  kumar to mccullum, 1 wide, thats wide, as prav...   \n",
       "3                       0  kumar to mccullum, no run, too straight, mccul...   \n",
       "4                       0  kumar to mccullum, no run, steps down the trac...   \n",
       "\n",
       "  ball_length  \n",
       "0        full  \n",
       "1        good  \n",
       "2         nan  \n",
       "3         nan  \n",
       "4        good  \n",
       "\n",
       "[5 rows x 21 columns]"
      ]
     },
     "execution_count": 33,
     "metadata": {},
     "output_type": "execute_result"
    }
   ],
   "source": [
    "conditions  = [df.commentary.str.contains('|'.join(full_toss_length)), df.commentary.str.contains('|'.join(yorker_length)), df.commentary.str.contains('|'.join(full_length)), df.commentary.str.contains('|'.join(good_length)), df.commentary.str.contains('|'.join(short_length))]\n",
    "choices = [\"full toss\", \"yorker\", \"full\", \"good\", \"short\"]\n",
    "\n",
    "df[\"ball_length\"] = np.select(conditions, choices, default=np.nan)\n",
    "df.head()"
   ]
  },
  {
   "cell_type": "code",
   "execution_count": 34,
   "metadata": {},
   "outputs": [],
   "source": [
    "df.loc[df.ball_length=='nan'].shape[0]\n",
    "# df.loc[df.ball_length=='nan']['commentary'].to_csv('commentary_nan.csv')\n",
    "\n",
    "# replace all NaN values in `ball_length` column with 'Unknown'\n",
    "\n",
    "df.loc[df.ball_length=='nan','ball_length'] = 'Unknown'"
   ]
  },
  {
   "cell_type": "code",
   "execution_count": 35,
   "metadata": {},
   "outputs": [
    {
     "data": {
      "text/plain": [
       "(0, 21)"
      ]
     },
     "execution_count": 35,
     "metadata": {},
     "output_type": "execute_result"
    }
   ],
   "source": [
    "df.loc[(df.ball_length=='nan')].shape"
   ]
  },
  {
   "cell_type": "markdown",
   "metadata": {},
   "source": [
    "## Feature Engineering `total_runs` as a Summation"
   ]
  },
  {
   "cell_type": "code",
   "execution_count": 36,
   "metadata": {},
   "outputs": [],
   "source": [
    "# sum total_runs until `inning` doesn't change\n",
    "\n",
    "df['cumulative_runs'] = df.groupby(['season', 'match_type', 'venue', 'inning', 'batting_team', 'bowling_team'])['total_runs'].cumsum()"
   ]
  },
  {
   "cell_type": "code",
   "execution_count": 37,
   "metadata": {},
   "outputs": [
    {
     "data": {
      "text/plain": [
       "0           1\n",
       "1           1\n",
       "2           2\n",
       "3           2\n",
       "4           2\n",
       "         ... \n",
       "131996    143\n",
       "131997    145\n",
       "131998    146\n",
       "131999    148\n",
       "132000    148\n",
       "Name: cumulative_runs, Length: 132001, dtype: int64"
      ]
     },
     "execution_count": 37,
     "metadata": {},
     "output_type": "execute_result"
    }
   ],
   "source": [
    "df['cumulative_runs']"
   ]
  },
  {
   "cell_type": "markdown",
   "metadata": {},
   "source": [
    "## Feature Engineering `Event` Response Variable"
   ]
  },
  {
   "cell_type": "code",
   "execution_count": 38,
   "metadata": {},
   "outputs": [],
   "source": [
    "df['batsman_runs'] = df['batsman_runs'].astype('int64')\n",
    "df['total_runs'] = df['total_runs'].astype('int64')\n",
    "df['extra_runs'] = df['extra_runs'].astype('int64')\n",
    "df['noball_runs'] = df['noball_runs'].astype('int64')\n",
    "df['legbye_runs'] = df['legbye_runs'].astype('int64')\n",
    "df['bye_runs'] = df['bye_runs'].astype('int64')\n",
    "df['wide_runs'] = df['wide_runs'].astype('int64')\n",
    "\n",
    "def event_pred(row):\n",
    "    if row['batsman_runs']==0 and row['extra_runs']== 0 and row['total_runs'] == 0 and row['dismissal_kind']!='bowled' and row['dismissal_kind']!='caught' and row['dismissal_kind']!='caught and bowled' and row['dismissal_kind']!='hit wicket' and row['dismissal_kind']!='lbw' and row['dismissal_kind']!='obstructing the field' and row['dismissal_kind']!='retired hurt' and row['dismissal_kind']!='run out' and row['dismissal_kind']!='stumped':\n",
    "        return 'Dot'\n",
    "    if row['batsman_runs']>0 and row['extra_runs']== 0 and row['total_runs'] > 0 and row['dismissal_kind']!='bowled' and row['dismissal_kind']!='caught' and row['dismissal_kind']!='caught and bowled' and row['dismissal_kind']!='hit wicket' and row['dismissal_kind']!='lbw' and row['dismissal_kind']!='obstructing the field' and row['dismissal_kind']!='retired hurt' and row['dismissal_kind']!='run out' and row['dismissal_kind']!='stumped':\n",
    "        return 'Runs'\n",
    "    if row['wide_runs']>0 or row['bye_runs']>0 or row['legbye_runs']>0 or row['noball_runs']>0 or row['batsman_runs']>=0 and row['extra_runs']>0 and row['total_runs']>0 and row['dismissal_kind']!='bowled' and row['dismissal_kind']!='caught' and row['dismissal_kind']!='caught and bowled' and row['dismissal_kind']!='hit wicket' and row['dismissal_kind']!='lbw' and row['dismissal_kind']!='obstructing the field' and row['dismissal_kind']!='retired hurt' and row['dismissal_kind']!='run out' and row['dismissal_kind']!='stumped':\n",
    "        return 'Extras'\n",
    "    if row['dismissal_kind']=='bowled' or row['dismissal_kind']=='caught' or row['dismissal_kind']=='caught and bowled' or row['dismissal_kind']=='hit wicket' or row['dismissal_kind']=='lbw' or row['dismissal_kind']=='obstructing the field' or row['dismissal_kind']=='retired hurt' or row['dismissal_kind']=='run out' or row['dismissal_kind']=='stumped':\n",
    "        return 'WICKET!'"
   ]
  },
  {
   "cell_type": "code",
   "execution_count": 39,
   "metadata": {},
   "outputs": [],
   "source": [
    "df['event'] = df.apply(lambda row: event_pred(row), axis=1)"
   ]
  },
  {
   "cell_type": "code",
   "execution_count": 40,
   "metadata": {},
   "outputs": [
    {
     "data": {
      "text/plain": [
       "39868"
      ]
     },
     "execution_count": 40,
     "metadata": {},
     "output_type": "execute_result"
    }
   ],
   "source": [
    "df.loc[df.event=='Dot'].shape[0]"
   ]
  },
  {
   "cell_type": "code",
   "execution_count": 41,
   "metadata": {},
   "outputs": [
    {
     "data": {
      "text/plain": [
       "78597"
      ]
     },
     "execution_count": 41,
     "metadata": {},
     "output_type": "execute_result"
    }
   ],
   "source": [
    "df.loc[df.event=='Runs'].shape[0]"
   ]
  },
  {
   "cell_type": "code",
   "execution_count": 42,
   "metadata": {},
   "outputs": [
    {
     "data": {
      "text/plain": [
       "7080"
      ]
     },
     "execution_count": 42,
     "metadata": {},
     "output_type": "execute_result"
    }
   ],
   "source": [
    "df.loc[df.event=='Extras'].shape[0]"
   ]
  },
  {
   "cell_type": "code",
   "execution_count": 43,
   "metadata": {},
   "outputs": [
    {
     "data": {
      "text/plain": [
       "6456"
      ]
     },
     "execution_count": 43,
     "metadata": {},
     "output_type": "execute_result"
    }
   ],
   "source": [
    "df.loc[df.event=='WICKET!'].shape[0]"
   ]
  },
  {
   "cell_type": "code",
   "execution_count": 44,
   "metadata": {
    "scrolled": true
   },
   "outputs": [
    {
     "data": {
      "text/plain": [
       "season               int64\n",
       "match_type          object\n",
       "venue               object\n",
       "inning               int64\n",
       "batting_team        object\n",
       "bowling_team        object\n",
       "batsman             object\n",
       "non_striker         object\n",
       "bowler_type         object\n",
       "ball               float64\n",
       "wide_runs            int64\n",
       "bye_runs             int64\n",
       "legbye_runs          int64\n",
       "noball_runs          int64\n",
       "batsman_runs         int64\n",
       "extra_runs           int64\n",
       "total_runs           int64\n",
       "dismissal_kind      object\n",
       "wickets              int64\n",
       "commentary          object\n",
       "ball_length         object\n",
       "cumulative_runs      int64\n",
       "event               object\n",
       "dtype: object"
      ]
     },
     "execution_count": 44,
     "metadata": {},
     "output_type": "execute_result"
    }
   ],
   "source": [
    "df.dtypes"
   ]
  },
  {
   "cell_type": "code",
   "execution_count": 45,
   "metadata": {},
   "outputs": [
    {
     "data": {
      "text/html": [
       "<div>\n",
       "<style scoped>\n",
       "    .dataframe tbody tr th:only-of-type {\n",
       "        vertical-align: middle;\n",
       "    }\n",
       "\n",
       "    .dataframe tbody tr th {\n",
       "        vertical-align: top;\n",
       "    }\n",
       "\n",
       "    .dataframe thead th {\n",
       "        text-align: right;\n",
       "    }\n",
       "</style>\n",
       "<table border=\"1\" class=\"dataframe\">\n",
       "  <thead>\n",
       "    <tr style=\"text-align: right;\">\n",
       "      <th></th>\n",
       "      <th>season</th>\n",
       "      <th>match_type</th>\n",
       "      <th>venue</th>\n",
       "      <th>inning</th>\n",
       "      <th>batting_team</th>\n",
       "      <th>bowling_team</th>\n",
       "      <th>batsman</th>\n",
       "      <th>non_striker</th>\n",
       "      <th>bowler_type</th>\n",
       "      <th>ball</th>\n",
       "      <th>wickets</th>\n",
       "      <th>ball_length</th>\n",
       "      <th>cumulative_runs</th>\n",
       "      <th>event</th>\n",
       "    </tr>\n",
       "  </thead>\n",
       "  <tbody>\n",
       "    <tr>\n",
       "      <th>0</th>\n",
       "      <td>2008</td>\n",
       "      <td>round-robin</td>\n",
       "      <td>Bangalore</td>\n",
       "      <td>1</td>\n",
       "      <td>Kolkata Knight Riders</td>\n",
       "      <td>Royal Challengers Bangalore</td>\n",
       "      <td>top</td>\n",
       "      <td>top</td>\n",
       "      <td>pacer</td>\n",
       "      <td>0.1</td>\n",
       "      <td>0</td>\n",
       "      <td>full</td>\n",
       "      <td>1</td>\n",
       "      <td>Extras</td>\n",
       "    </tr>\n",
       "    <tr>\n",
       "      <th>1</th>\n",
       "      <td>2008</td>\n",
       "      <td>round-robin</td>\n",
       "      <td>Bangalore</td>\n",
       "      <td>1</td>\n",
       "      <td>Kolkata Knight Riders</td>\n",
       "      <td>Royal Challengers Bangalore</td>\n",
       "      <td>top</td>\n",
       "      <td>top</td>\n",
       "      <td>pacer</td>\n",
       "      <td>0.2</td>\n",
       "      <td>0</td>\n",
       "      <td>good</td>\n",
       "      <td>1</td>\n",
       "      <td>Dot</td>\n",
       "    </tr>\n",
       "    <tr>\n",
       "      <th>2</th>\n",
       "      <td>2008</td>\n",
       "      <td>round-robin</td>\n",
       "      <td>Bangalore</td>\n",
       "      <td>1</td>\n",
       "      <td>Kolkata Knight Riders</td>\n",
       "      <td>Royal Challengers Bangalore</td>\n",
       "      <td>top</td>\n",
       "      <td>top</td>\n",
       "      <td>pacer</td>\n",
       "      <td>0.3</td>\n",
       "      <td>0</td>\n",
       "      <td>Unknown</td>\n",
       "      <td>2</td>\n",
       "      <td>Extras</td>\n",
       "    </tr>\n",
       "    <tr>\n",
       "      <th>3</th>\n",
       "      <td>2008</td>\n",
       "      <td>round-robin</td>\n",
       "      <td>Bangalore</td>\n",
       "      <td>1</td>\n",
       "      <td>Kolkata Knight Riders</td>\n",
       "      <td>Royal Challengers Bangalore</td>\n",
       "      <td>top</td>\n",
       "      <td>top</td>\n",
       "      <td>pacer</td>\n",
       "      <td>0.3</td>\n",
       "      <td>0</td>\n",
       "      <td>Unknown</td>\n",
       "      <td>2</td>\n",
       "      <td>Dot</td>\n",
       "    </tr>\n",
       "    <tr>\n",
       "      <th>4</th>\n",
       "      <td>2008</td>\n",
       "      <td>round-robin</td>\n",
       "      <td>Bangalore</td>\n",
       "      <td>1</td>\n",
       "      <td>Kolkata Knight Riders</td>\n",
       "      <td>Royal Challengers Bangalore</td>\n",
       "      <td>top</td>\n",
       "      <td>top</td>\n",
       "      <td>pacer</td>\n",
       "      <td>0.4</td>\n",
       "      <td>0</td>\n",
       "      <td>good</td>\n",
       "      <td>2</td>\n",
       "      <td>Dot</td>\n",
       "    </tr>\n",
       "  </tbody>\n",
       "</table>\n",
       "</div>"
      ],
      "text/plain": [
       "   season   match_type      venue inning           batting_team  \\\n",
       "0    2008  round-robin  Bangalore      1  Kolkata Knight Riders   \n",
       "1    2008  round-robin  Bangalore      1  Kolkata Knight Riders   \n",
       "2    2008  round-robin  Bangalore      1  Kolkata Knight Riders   \n",
       "3    2008  round-robin  Bangalore      1  Kolkata Knight Riders   \n",
       "4    2008  round-robin  Bangalore      1  Kolkata Knight Riders   \n",
       "\n",
       "                  bowling_team batsman non_striker bowler_type  ball  wickets  \\\n",
       "0  Royal Challengers Bangalore     top         top       pacer   0.1        0   \n",
       "1  Royal Challengers Bangalore     top         top       pacer   0.2        0   \n",
       "2  Royal Challengers Bangalore     top         top       pacer   0.3        0   \n",
       "3  Royal Challengers Bangalore     top         top       pacer   0.3        0   \n",
       "4  Royal Challengers Bangalore     top         top       pacer   0.4        0   \n",
       "\n",
       "  ball_length  cumulative_runs   event  \n",
       "0        full                1  Extras  \n",
       "1        good                1     Dot  \n",
       "2     Unknown                2  Extras  \n",
       "3     Unknown                2     Dot  \n",
       "4        good                2     Dot  "
      ]
     },
     "execution_count": 45,
     "metadata": {},
     "output_type": "execute_result"
    }
   ],
   "source": [
    "df['match_type'] = df['match_type'].astype('category')\n",
    "df['venue'] = df['venue'].astype('category')\n",
    "df['inning'] = df['inning'].astype('category')\n",
    "df['batting_team'] = df['batting_team'].astype('category')\n",
    "df['bowling_team'] = df['bowling_team'].astype('category')\n",
    "df['batsman'] = df['batsman'].astype('category')\n",
    "df['non_striker'] = df['non_striker'].astype('category')\n",
    "df['bowler_type'] = df['bowler_type'].astype('category')\n",
    "df['ball_length'] = df['ball_length'].astype('category')\n",
    "df['ball'] = df['ball'].astype('float64')\n",
    "df['wickets'] = df['wickets'].astype('int64')\n",
    "df['cumulative_runs'] = df['cumulative_runs'].astype('int64')\n",
    "\n",
    "df['event'] = df['event'].astype('object')\n",
    "\n",
    "df.drop(labels='commentary', axis=1, inplace=True)\n",
    "df.drop(labels='wide_runs', axis=1, inplace=True)\n",
    "df.drop(labels='bye_runs', axis=1, inplace=True)\n",
    "df.drop(labels='legbye_runs', axis=1, inplace=True)\n",
    "df.drop(labels='noball_runs', axis=1, inplace=True)\n",
    "df.drop(labels='batsman_runs', axis=1, inplace=True)\n",
    "df.drop(labels='extra_runs', axis=1, inplace=True)\n",
    "df.drop(labels='dismissal_kind', axis=1, inplace=True)\n",
    "df.drop(labels='total_runs', axis=1, inplace=True)\n",
    "\n",
    "df.to_csv('data/clean/deliveries_clean.csv', index=False)\n",
    "\n",
    "df.head()"
   ]
  },
  {
   "cell_type": "code",
   "execution_count": 46,
   "metadata": {},
   "outputs": [
    {
     "data": {
      "text/plain": [
       "season                int64\n",
       "match_type         category\n",
       "venue              category\n",
       "inning             category\n",
       "batting_team       category\n",
       "bowling_team       category\n",
       "batsman            category\n",
       "non_striker        category\n",
       "bowler_type        category\n",
       "ball                float64\n",
       "wickets               int64\n",
       "ball_length        category\n",
       "cumulative_runs       int64\n",
       "event                object\n",
       "dtype: object"
      ]
     },
     "execution_count": 46,
     "metadata": {},
     "output_type": "execute_result"
    }
   ],
   "source": [
    "df.dtypes"
   ]
  },
  {
   "cell_type": "code",
   "execution_count": 47,
   "metadata": {},
   "outputs": [
    {
     "data": {
      "text/html": [
       "<div>\n",
       "<style scoped>\n",
       "    .dataframe tbody tr th:only-of-type {\n",
       "        vertical-align: middle;\n",
       "    }\n",
       "\n",
       "    .dataframe tbody tr th {\n",
       "        vertical-align: top;\n",
       "    }\n",
       "\n",
       "    .dataframe thead th {\n",
       "        text-align: right;\n",
       "    }\n",
       "</style>\n",
       "<table border=\"1\" class=\"dataframe\">\n",
       "  <thead>\n",
       "    <tr style=\"text-align: right;\">\n",
       "      <th></th>\n",
       "      <th>season</th>\n",
       "      <th>ball</th>\n",
       "      <th>wickets</th>\n",
       "      <th>cumulative_runs</th>\n",
       "    </tr>\n",
       "  </thead>\n",
       "  <tbody>\n",
       "    <tr>\n",
       "      <th>count</th>\n",
       "      <td>132001.000000</td>\n",
       "      <td>132001.00000</td>\n",
       "      <td>132001.000000</td>\n",
       "      <td>132001.000000</td>\n",
       "    </tr>\n",
       "    <tr>\n",
       "      <th>mean</th>\n",
       "      <td>2013.725282</td>\n",
       "      <td>9.54708</td>\n",
       "      <td>2.379959</td>\n",
       "      <td>76.555299</td>\n",
       "    </tr>\n",
       "    <tr>\n",
       "      <th>std</th>\n",
       "      <td>3.435976</td>\n",
       "      <td>5.67526</td>\n",
       "      <td>2.061046</td>\n",
       "      <td>50.147480</td>\n",
       "    </tr>\n",
       "    <tr>\n",
       "      <th>min</th>\n",
       "      <td>2008.000000</td>\n",
       "      <td>0.10000</td>\n",
       "      <td>0.000000</td>\n",
       "      <td>0.000000</td>\n",
       "    </tr>\n",
       "    <tr>\n",
       "      <th>25%</th>\n",
       "      <td>2011.000000</td>\n",
       "      <td>4.50000</td>\n",
       "      <td>1.000000</td>\n",
       "      <td>35.000000</td>\n",
       "    </tr>\n",
       "    <tr>\n",
       "      <th>50%</th>\n",
       "      <td>2013.000000</td>\n",
       "      <td>9.40000</td>\n",
       "      <td>2.000000</td>\n",
       "      <td>72.000000</td>\n",
       "    </tr>\n",
       "    <tr>\n",
       "      <th>75%</th>\n",
       "      <td>2017.000000</td>\n",
       "      <td>14.40000</td>\n",
       "      <td>4.000000</td>\n",
       "      <td>112.000000</td>\n",
       "    </tr>\n",
       "    <tr>\n",
       "      <th>max</th>\n",
       "      <td>2019.000000</td>\n",
       "      <td>19.60000</td>\n",
       "      <td>10.000000</td>\n",
       "      <td>355.000000</td>\n",
       "    </tr>\n",
       "  </tbody>\n",
       "</table>\n",
       "</div>"
      ],
      "text/plain": [
       "              season          ball        wickets  cumulative_runs\n",
       "count  132001.000000  132001.00000  132001.000000    132001.000000\n",
       "mean     2013.725282       9.54708       2.379959        76.555299\n",
       "std         3.435976       5.67526       2.061046        50.147480\n",
       "min      2008.000000       0.10000       0.000000         0.000000\n",
       "25%      2011.000000       4.50000       1.000000        35.000000\n",
       "50%      2013.000000       9.40000       2.000000        72.000000\n",
       "75%      2017.000000      14.40000       4.000000       112.000000\n",
       "max      2019.000000      19.60000      10.000000       355.000000"
      ]
     },
     "execution_count": 47,
     "metadata": {},
     "output_type": "execute_result"
    }
   ],
   "source": [
    "df.describe()"
   ]
  },
  {
   "cell_type": "markdown",
   "metadata": {},
   "source": [
    "## Train-Test Split"
   ]
  },
  {
   "cell_type": "code",
   "execution_count": 48,
   "metadata": {},
   "outputs": [
    {
     "name": "stderr",
     "output_type": "stream",
     "text": [
      "C:\\Users\\Nakul\\AppData\\Local\\Temp\\ipykernel_5540\\1023219970.py:13: SettingWithCopyWarning:\n",
      "\n",
      "\n",
      "A value is trying to be set on a copy of a slice from a DataFrame\n",
      "\n",
      "See the caveats in the documentation: https://pandas.pydata.org/pandas-docs/stable/user_guide/indexing.html#returning-a-view-versus-a-copy\n",
      "\n",
      "C:\\Users\\Nakul\\AppData\\Local\\Temp\\ipykernel_5540\\1023219970.py:14: SettingWithCopyWarning:\n",
      "\n",
      "\n",
      "A value is trying to be set on a copy of a slice from a DataFrame\n",
      "\n",
      "See the caveats in the documentation: https://pandas.pydata.org/pandas-docs/stable/user_guide/indexing.html#returning-a-view-versus-a-copy\n",
      "\n"
     ]
    }
   ],
   "source": [
    "# split the dataset into train and test sets by season\n",
    "\n",
    "train = df.loc[df.season <= 2018]\n",
    "\n",
    "train.to_csv('data/clean/train.csv', index=False)\n",
    "\n",
    "test = df.loc[df.season == 2019]\n",
    "\n",
    "test.to_csv('data/clean/test.csv', index=False)\n",
    "\n",
    "# drop `season` column from train and test sets\n",
    "\n",
    "train.drop(labels='season', axis=1, inplace=True)\n",
    "test.drop(labels='season', axis=1, inplace=True)"
   ]
  },
  {
   "cell_type": "code",
   "execution_count": 49,
   "metadata": {},
   "outputs": [],
   "source": [
    "#from sklearn.preprocessing import minmax_scale\n",
    "#df[['ball','wickets']] = minmax_scale(df[['ball','wickets']])\n",
    "\n",
    "encoded_df_train = pd.get_dummies(data=train, columns=['match_type', 'venue', 'inning', 'batting_team', 'bowling_team', 'batsman', 'non_striker', 'bowler_type', 'ball_length'])\n",
    "\n",
    "encoded_df_test = pd.get_dummies(data=test, columns=['match_type', 'venue', 'inning', 'batting_team', 'bowling_team', 'batsman', 'non_striker', 'bowler_type', 'ball_length'])"
   ]
  },
  {
   "cell_type": "code",
   "execution_count": 50,
   "metadata": {
    "scrolled": true
   },
   "outputs": [
    {
     "data": {
      "text/plain": [
       "Index(['ball', 'wickets', 'cumulative_runs', 'event', 'match_type_playoffs',\n",
       "       'match_type_round-robin', 'venue_Ahmedabad', 'venue_Bangalore',\n",
       "       'venue_Chennai', 'venue_Cuttack', 'venue_Delhi', 'venue_Dharamsala',\n",
       "       'venue_Hyderabad', 'venue_Indore', 'venue_Kolkata', 'venue_Mohali',\n",
       "       'venue_Mumbai', 'venue_Nagpur', 'venue_Pune', 'venue_Raipur',\n",
       "       'venue_Rajasthan', 'venue_Ranchi', 'venue_Visakhapatnam', 'inning_1',\n",
       "       'inning_2', 'batting_team_Chennai Super Kings',\n",
       "       'batting_team_Delhi Capitals', 'batting_team_Kings XI Punjab',\n",
       "       'batting_team_Kolkata Knight Riders', 'batting_team_Mumbai Indians',\n",
       "       'batting_team_Rajasthan Royals',\n",
       "       'batting_team_Royal Challengers Bangalore',\n",
       "       'batting_team_Sunrisers Hyderabad', 'bowling_team_Chennai Super Kings',\n",
       "       'bowling_team_Delhi Capitals', 'bowling_team_Kings XI Punjab',\n",
       "       'bowling_team_Kolkata Knight Riders', 'bowling_team_Mumbai Indians',\n",
       "       'bowling_team_Rajasthan Royals',\n",
       "       'bowling_team_Royal Challengers Bangalore',\n",
       "       'bowling_team_Sunrisers Hyderabad', 'batsman_middle', 'batsman_tail',\n",
       "       'batsman_top', 'non_striker_middle', 'non_striker_tail',\n",
       "       'non_striker_top', 'bowler_type_pacer', 'bowler_type_spinner',\n",
       "       'ball_length_Unknown', 'ball_length_full', 'ball_length_full toss',\n",
       "       'ball_length_good', 'ball_length_short', 'ball_length_yorker'],\n",
       "      dtype='object')"
      ]
     },
     "execution_count": 50,
     "metadata": {},
     "output_type": "execute_result"
    }
   ],
   "source": [
    "encoded_df_train.columns"
   ]
  },
  {
   "cell_type": "code",
   "execution_count": 51,
   "metadata": {},
   "outputs": [
    {
     "name": "stdout",
     "output_type": "stream",
     "text": [
      "(117757, 55)\n",
      "(14244, 55)\n"
     ]
    }
   ],
   "source": [
    "print(encoded_df_train.shape)\n",
    "print(encoded_df_test.shape)\n",
    "\n",
    "# 88-12 train-test split"
   ]
  },
  {
   "cell_type": "code",
   "execution_count": 52,
   "metadata": {},
   "outputs": [],
   "source": [
    "encoded_df_train = encoded_df_train[['ball', 'wickets', 'cumulative_runs', 'match_type_playoffs',\n",
    "       'match_type_round-robin', 'venue_Ahmedabad', 'venue_Bangalore',\n",
    "       'venue_Chennai', 'venue_Cuttack', 'venue_Delhi', 'venue_Dharamsala',\n",
    "       'venue_Hyderabad', 'venue_Indore', 'venue_Kolkata', 'venue_Mohali',\n",
    "       'venue_Mumbai', 'venue_Nagpur', 'venue_Pune', 'venue_Raipur',\n",
    "       'venue_Rajasthan', 'venue_Ranchi', 'venue_Visakhapatnam', 'inning_1',\n",
    "       'inning_2', 'batting_team_Chennai Super Kings',\n",
    "       'batting_team_Delhi Capitals', 'batting_team_Kings XI Punjab',\n",
    "       'batting_team_Kolkata Knight Riders', 'batting_team_Mumbai Indians',\n",
    "       'batting_team_Rajasthan Royals',\n",
    "       'batting_team_Royal Challengers Bangalore',\n",
    "       'batting_team_Sunrisers Hyderabad', 'bowling_team_Chennai Super Kings',\n",
    "       'bowling_team_Delhi Capitals', 'bowling_team_Kings XI Punjab',\n",
    "       'bowling_team_Kolkata Knight Riders', 'bowling_team_Mumbai Indians',\n",
    "       'bowling_team_Rajasthan Royals',\n",
    "       'bowling_team_Royal Challengers Bangalore',\n",
    "       'bowling_team_Sunrisers Hyderabad', 'batsman_top', 'batsman_middle', 'batsman_tail',\n",
    "       'non_striker_middle', 'non_striker_tail',\n",
    "       'non_striker_top', 'bowler_type_pacer', 'bowler_type_spinner',\n",
    "       'ball_length_Unknown', 'ball_length_full', 'ball_length_full toss',\n",
    "       'ball_length_good', 'ball_length_short', 'ball_length_yorker', 'event']]\n",
    "\n",
    "encoded_df_test = encoded_df_test[['ball', 'wickets', 'cumulative_runs', 'match_type_playoffs',\n",
    "       'match_type_round-robin', 'venue_Ahmedabad', 'venue_Bangalore',\n",
    "       'venue_Chennai', 'venue_Cuttack', 'venue_Delhi', 'venue_Dharamsala',\n",
    "       'venue_Hyderabad', 'venue_Indore', 'venue_Kolkata', 'venue_Mohali',\n",
    "       'venue_Mumbai', 'venue_Nagpur', 'venue_Pune', 'venue_Raipur',\n",
    "       'venue_Rajasthan', 'venue_Ranchi', 'venue_Visakhapatnam', 'inning_1',\n",
    "       'inning_2', 'batting_team_Chennai Super Kings',\n",
    "       'batting_team_Delhi Capitals', 'batting_team_Kings XI Punjab',\n",
    "       'batting_team_Kolkata Knight Riders', 'batting_team_Mumbai Indians',\n",
    "       'batting_team_Rajasthan Royals',\n",
    "       'batting_team_Royal Challengers Bangalore',\n",
    "       'batting_team_Sunrisers Hyderabad', 'bowling_team_Chennai Super Kings',\n",
    "       'bowling_team_Delhi Capitals', 'bowling_team_Kings XI Punjab',\n",
    "       'bowling_team_Kolkata Knight Riders', 'bowling_team_Mumbai Indians',\n",
    "       'bowling_team_Rajasthan Royals',\n",
    "       'bowling_team_Royal Challengers Bangalore',\n",
    "       'bowling_team_Sunrisers Hyderabad', 'batsman_top', 'batsman_middle', 'batsman_tail',\n",
    "       'non_striker_middle', 'non_striker_tail',\n",
    "       'non_striker_top', 'bowler_type_pacer', 'bowler_type_spinner',\n",
    "       'ball_length_Unknown', 'ball_length_full', 'ball_length_full toss',\n",
    "       'ball_length_good', 'ball_length_short', 'ball_length_yorker', 'event']]"
   ]
  },
  {
   "cell_type": "code",
   "execution_count": 53,
   "metadata": {
    "scrolled": true
   },
   "outputs": [
    {
     "data": {
      "text/plain": [
       "array(['Extras', 'Dot', 'Runs', 'WICKET!'], dtype=object)"
      ]
     },
     "execution_count": 53,
     "metadata": {},
     "output_type": "execute_result"
    }
   ],
   "source": [
    "encoded_df_train['event'].unique()"
   ]
  },
  {
   "cell_type": "code",
   "execution_count": 54,
   "metadata": {},
   "outputs": [
    {
     "name": "stdout",
     "output_type": "stream",
     "text": [
      "X_train shape: (117757, 54)\n",
      "y_train shape: (117757,)\n",
      "X_test shape: (14244, 54)\n",
      "y_test shape: (14244,)\n"
     ]
    }
   ],
   "source": [
    "X_train = encoded_df_train.iloc[:,:-1].values\n",
    "print(\"X_train shape:\", X_train.shape)\n",
    "\n",
    "y_train = encoded_df_train.iloc[:,-1].values\n",
    "print(\"y_train shape:\",y_train.shape)\n",
    "\n",
    "X_test = encoded_df_test.iloc[:,:-1].values\n",
    "print(\"X_test shape:\",X_test.shape)\n",
    "\n",
    "y_test = encoded_df_test.iloc[:,-1].values\n",
    "print(\"y_test shape:\",y_test.shape)\n"
   ]
  },
  {
   "cell_type": "markdown",
   "metadata": {},
   "source": [
    "## Boosting"
   ]
  },
  {
   "cell_type": "code",
   "execution_count": 55,
   "metadata": {},
   "outputs": [
    {
     "name": "stdout",
     "output_type": "stream",
     "text": [
      "X_train shape: (117757, 54)\n",
      "y_train shape: (117757,)\n",
      "X_test shape: (14244, 54)\n",
      "y_test shape: (14244,)\n"
     ]
    }
   ],
   "source": [
    "\n",
    "#X_train = train.iloc[:,:-1].values\n",
    "print(\"X_train shape:\", X_train.shape)\n",
    "\n",
    "#y_train = train.iloc[:,-1].values\n",
    "print(\"y_train shape:\",y_train.shape)\n",
    "\n",
    "#X_test = test.iloc[:,:-1].values\n",
    "print(\"X_test shape:\",X_test.shape)\n",
    "\n",
    "#y_test = test.iloc[:,-1].values\n",
    "print(\"y_test shape:\",y_test.shape)\n",
    "\n",
    "encoder = LabelEncoder()\n",
    "y_train = encoder.fit_transform(y_train)\n",
    "y_test = encoder.fit_transform(y_test)\n",
    "\n",
    "#X_train = X_train.to_numpy()\n",
    "y_train = y_train.reshape(len(y_train),)\n",
    "\n",
    "#X_test = X_test.to_numpy()\n",
    "y_test = y_test.reshape(len(y_test),)"
   ]
  },
  {
   "cell_type": "markdown",
   "metadata": {},
   "source": [
    "# Perform Classification Routine"
   ]
  },
  {
   "cell_type": "code",
   "execution_count": 56,
   "metadata": {},
   "outputs": [
    {
     "name": "stdout",
     "output_type": "stream",
     "text": [
      ">LR Accuracy: 0.608 Weighted F1: 0.529\n"
     ]
    },
    {
     "ename": "FileNotFoundError",
     "evalue": "[Errno 2] No such file or directory: 'products/pickle_files/LR.pkl'",
     "output_type": "error",
     "traceback": [
      "\u001b[1;31m---------------------------------------------------------------------------\u001b[0m",
      "\u001b[1;31mFileNotFoundError\u001b[0m                         Traceback (most recent call last)",
      "File \u001b[1;32m<timed exec>:48\u001b[0m\n",
      "File \u001b[1;32mc:\\Program Files\\Python310\\lib\\site-packages\\IPython\\core\\interactiveshell.py:286\u001b[0m, in \u001b[0;36m_modified_open\u001b[1;34m(file, *args, **kwargs)\u001b[0m\n\u001b[0;32m    279\u001b[0m \u001b[39mif\u001b[39;00m file \u001b[39min\u001b[39;00m {\u001b[39m0\u001b[39m, \u001b[39m1\u001b[39m, \u001b[39m2\u001b[39m}:\n\u001b[0;32m    280\u001b[0m     \u001b[39mraise\u001b[39;00m \u001b[39mValueError\u001b[39;00m(\n\u001b[0;32m    281\u001b[0m         \u001b[39mf\u001b[39m\u001b[39m\"\u001b[39m\u001b[39mIPython won\u001b[39m\u001b[39m'\u001b[39m\u001b[39mt let you open fd=\u001b[39m\u001b[39m{\u001b[39;00mfile\u001b[39m}\u001b[39;00m\u001b[39m by default \u001b[39m\u001b[39m\"\u001b[39m\n\u001b[0;32m    282\u001b[0m         \u001b[39m\"\u001b[39m\u001b[39mas it is likely to crash IPython. If you know what you are doing, \u001b[39m\u001b[39m\"\u001b[39m\n\u001b[0;32m    283\u001b[0m         \u001b[39m\"\u001b[39m\u001b[39myou can use builtins\u001b[39m\u001b[39m'\u001b[39m\u001b[39m open.\u001b[39m\u001b[39m\"\u001b[39m\n\u001b[0;32m    284\u001b[0m     )\n\u001b[1;32m--> 286\u001b[0m \u001b[39mreturn\u001b[39;00m io_open(file, \u001b[39m*\u001b[39margs, \u001b[39m*\u001b[39m\u001b[39m*\u001b[39mkwargs)\n",
      "\u001b[1;31mFileNotFoundError\u001b[0m: [Errno 2] No such file or directory: 'products/pickle_files/LR.pkl'"
     ]
    }
   ],
   "source": [
    "%%time\n",
    "\n",
    "from sklearn.exceptions import ConvergenceWarning\n",
    "from sklearn.exceptions import DataConversionWarning\n",
    "\n",
    "ConvergenceWarning('ignore')\n",
    "warnings.filterwarnings(action='ignore', category=DataConversionWarning)\n",
    "\n",
    "def base_models():\n",
    "    models = dict()\n",
    "    models[\"LR\"] = LogisticRegression(verbose=0, max_iter=3000)\n",
    "    models[\"Tree\"] = DecisionTreeClassifier()\n",
    "    models[\"GNB\"] = GaussianNB()\n",
    "    models[\"RF\"] = RandomForestClassifier(verbose=0)\n",
    "    models[\"AdaBoost\"] = AdaBoostClassifier()\n",
    "    models[\"Bagging\"] = BaggingClassifier(verbose=0)\n",
    "    models[\"GBM\"] = GradientBoostingClassifier(verbose=0)\n",
    "    models[\"XGB\"] = XGBClassifier(verbosity=0)\n",
    "    models[\"CatBoost\"] = CatBoostClassifier(verbose=0)\n",
    "    return models\n",
    "\n",
    "# Function to evaluate the list of models\n",
    "def eval_models(model):\n",
    "    cv = RepeatedKFold(n_splits=5, n_repeats=2, random_state=1)\n",
    "    accuracy = cross_val_score(model, X_train, y_train, scoring='accuracy', cv=cv, n_jobs=-1, error_score='raise')\n",
    "    weighted_f1 = cross_val_score(model, X_train, y_train, scoring='f1_weighted', cv=cv, n_jobs=-1, error_score='raise')\n",
    "    return accuracy, weighted_f1\n",
    "\n",
    "models = base_models()\n",
    "# evaluate the models and store results\n",
    "results = {}\n",
    "names = list()\n",
    "accuracies = []\n",
    "weighted_f1s = []\n",
    "\n",
    "final_models = {}  # Create a dictionary to store the fitted models\n",
    "\n",
    "for name, model in models.items():\n",
    "    accuracy, weighted_f1 = eval_models(model)\n",
    "    accuracies.extend(accuracy)\n",
    "    weighted_f1s.extend(weighted_f1)\n",
    "    names.extend([name] * len(accuracy))\n",
    "    print('>%s Accuracy: %.3f Weighted F1: %.3f' % (name, accuracy.mean(), weighted_f1.mean()))\n",
    "\n",
    "    # Fit the model with the training data\n",
    "    fitted_model = model.fit(X_train, y_train)\n",
    "\n",
    "    # Save the fitted model as a pickle file\n",
    "    pkl_filename = f\"products/pickle_files/{name}.pkl\"\n",
    "    with open(pkl_filename, 'wb') as file:\n",
    "        pickle.dump(fitted_model, file)\n",
    "    # joblib_filename = f\"products/joblib_files/{name}.joblib\"\n",
    "    # with open(joblib_filename, 'wb') as file:\n",
    "    #     joblib.dump(fitted_model, file)\n",
    "\n",
    "    # Store the fitted model in the final_models dictionary\n",
    "    final_models[name] = fitted_model"
   ]
  },
  {
   "cell_type": "code",
   "execution_count": null,
   "metadata": {},
   "outputs": [
    {
     "name": "stderr",
     "output_type": "stream",
     "text": [
      "/Users/Tegveer/miniforge3/envs/ANLY501/lib/python3.9/site-packages/sklearn/metrics/_classification.py:1469: UndefinedMetricWarning:\n",
      "\n",
      "Precision and F-score are ill-defined and being set to 0.0 in labels with no predicted samples. Use `zero_division` parameter to control this behavior.\n",
      "\n",
      "/Users/Tegveer/miniforge3/envs/ANLY501/lib/python3.9/site-packages/sklearn/metrics/_classification.py:1469: UndefinedMetricWarning:\n",
      "\n",
      "Precision and F-score are ill-defined and being set to 0.0 in labels with no predicted samples. Use `zero_division` parameter to control this behavior.\n",
      "\n",
      "/Users/Tegveer/miniforge3/envs/ANLY501/lib/python3.9/site-packages/sklearn/metrics/_classification.py:1469: UndefinedMetricWarning:\n",
      "\n",
      "Precision and F-score are ill-defined and being set to 0.0 in labels with no predicted samples. Use `zero_division` parameter to control this behavior.\n",
      "\n",
      "/Users/Tegveer/miniforge3/envs/ANLY501/lib/python3.9/site-packages/sklearn/metrics/_classification.py:1469: UndefinedMetricWarning:\n",
      "\n",
      "Precision and F-score are ill-defined and being set to 0.0 in labels with no predicted samples. Use `zero_division` parameter to control this behavior.\n",
      "\n",
      "/Users/Tegveer/miniforge3/envs/ANLY501/lib/python3.9/site-packages/sklearn/metrics/_classification.py:1469: UndefinedMetricWarning:\n",
      "\n",
      "Precision and F-score are ill-defined and being set to 0.0 in labels with no predicted samples. Use `zero_division` parameter to control this behavior.\n",
      "\n",
      "/Users/Tegveer/miniforge3/envs/ANLY501/lib/python3.9/site-packages/sklearn/metrics/_classification.py:1469: UndefinedMetricWarning:\n",
      "\n",
      "Precision and F-score are ill-defined and being set to 0.0 in labels with no predicted samples. Use `zero_division` parameter to control this behavior.\n",
      "\n",
      "/Users/Tegveer/miniforge3/envs/ANLY501/lib/python3.9/site-packages/sklearn/metrics/_classification.py:1469: UndefinedMetricWarning:\n",
      "\n",
      "Precision and F-score are ill-defined and being set to 0.0 in labels with no predicted samples. Use `zero_division` parameter to control this behavior.\n",
      "\n",
      "/Users/Tegveer/miniforge3/envs/ANLY501/lib/python3.9/site-packages/sklearn/metrics/_classification.py:1469: UndefinedMetricWarning:\n",
      "\n",
      "Precision and F-score are ill-defined and being set to 0.0 in labels with no predicted samples. Use `zero_division` parameter to control this behavior.\n",
      "\n",
      "/Users/Tegveer/miniforge3/envs/ANLY501/lib/python3.9/site-packages/sklearn/metrics/_classification.py:1469: UndefinedMetricWarning:\n",
      "\n",
      "Precision and F-score are ill-defined and being set to 0.0 in labels with no predicted samples. Use `zero_division` parameter to control this behavior.\n",
      "\n"
     ]
    }
   ],
   "source": [
    "# delete catboost_info folder\n",
    "\n",
    "shutil.rmtree('catboost_info')\n",
    "\n",
    "# Save accuracy and weighted_f1 scores for each model in a dataframe\n",
    "\n",
    "results['Model'] = names\n",
    "results['Accuracy'] = accuracies\n",
    "results['Weighted_F1'] = weighted_f1s\n",
    "\n",
    "classifmod = pd.DataFrame(results)\n",
    "\n",
    "# Generate confusion matrices and reports for each final model\n",
    "confusion_matrices = {}\n",
    "classification_reports = {}\n",
    "for name, model in final_models.items():\n",
    "    y_pred = model.predict(X_test)\n",
    "    confusion_matrices[name] = confusion_matrix(y_test, y_pred)\n",
    "    classification_reports[name] = classification_report(y_test, y_pred)"
   ]
  },
  {
   "cell_type": "code",
   "execution_count": null,
   "metadata": {},
   "outputs": [],
   "source": [
    "for name, model in models.items():\n",
    "    pkl_filename = f\"products/pickle_files/{name}.pkl\"\n",
    "    # open pickle file\n",
    "    with open(pkl_filename, 'rb') as infile:\n",
    "        obj = pickle.load(infile)\n",
    "\n",
    "    # convert pickle object to json object\n",
    "    json_obj = json.loads(json.dumps(obj, default=str))\n",
    "    json_filename = f\"products/json_files/{name}.json\"\n",
    "    # write the json file\n",
    "    with open(\n",
    "            json_filename,\n",
    "            'w',\n",
    "            encoding='utf-8'\n",
    "        ) as outfile:\n",
    "        json.dump(json_obj, outfile, ensure_ascii=False, indent=4)\n",
    "\n",
    "# delete all pickle files for smooth git push\n",
    "\n",
    "for name, model in models.items():\n",
    "    pkl_filename = f\"products/pickle_files/{name}.pkl\"\n",
    "    os.remove(pkl_filename)"
   ]
  },
  {
   "cell_type": "code",
   "execution_count": null,
   "metadata": {},
   "outputs": [
    {
     "data": {
      "text/html": [
       "        <script type=\"text/javascript\">\n",
       "        window.PlotlyConfig = {MathJaxConfig: 'local'};\n",
       "        if (window.MathJax && window.MathJax.Hub && window.MathJax.Hub.Config) {window.MathJax.Hub.Config({SVG: {font: \"STIX-Web\"}});}\n",
       "        if (typeof require !== 'undefined') {\n",
       "        require.undef(\"plotly\");\n",
       "        requirejs.config({\n",
       "            paths: {\n",
       "                'plotly': ['https://cdn.plot.ly/plotly-2.20.0.min']\n",
       "            }\n",
       "        });\n",
       "        require(['plotly'], function(Plotly) {\n",
       "            window._Plotly = Plotly;\n",
       "        });\n",
       "        }\n",
       "        </script>\n",
       "        "
      ]
     },
     "metadata": {},
     "output_type": "display_data"
    },
    {
     "data": {
      "application/vnd.plotly.v1+json": {
       "config": {
        "plotlyServerURL": "https://plotly.com"
       },
       "data": [
        {
         "alignmentgroup": "True",
         "boxpoints": "all",
         "hovertemplate": "Machine Learning Model=%{x}<br>Accuracy=%{y}<extra></extra>",
         "legendgroup": "LR",
         "marker": {
          "color": "#636efa"
         },
         "name": "LR",
         "notched": false,
         "offsetgroup": "LR",
         "orientation": "v",
         "showlegend": true,
         "type": "box",
         "x": [
          "LR",
          "LR",
          "LR",
          "LR",
          "LR",
          "LR",
          "LR",
          "LR",
          "LR",
          "LR"
         ],
         "x0": " ",
         "xaxis": "x",
         "y": [
          0.6073369565217391,
          0.6103515625,
          0.6068956732198209,
          0.6091885694874952,
          0.6070230563458028,
          0.613663383152174,
          0.6109884510869565,
          0.6043904717421765,
          0.6107596280412722,
          0.6011209715086409
         ],
         "y0": " ",
         "yaxis": "y"
        },
        {
         "alignmentgroup": "True",
         "boxpoints": "all",
         "hovertemplate": "Machine Learning Model=%{x}<br>Accuracy=%{y}<extra></extra>",
         "legendgroup": "Tree",
         "marker": {
          "color": "#EF553B"
         },
         "name": "Tree",
         "notched": false,
         "offsetgroup": "Tree",
         "orientation": "v",
         "showlegend": true,
         "type": "box",
         "x": [
          "Tree",
          "Tree",
          "Tree",
          "Tree",
          "Tree",
          "Tree",
          "Tree",
          "Tree",
          "Tree",
          "Tree"
         ],
         "x0": " ",
         "xaxis": "x",
         "y": [
          0.48908797554347827,
          0.4876868206521739,
          0.49403422359984717,
          0.4908071844083054,
          0.4940766846418411,
          0.4886633831521739,
          0.4906589673913043,
          0.48885397647658274,
          0.48885397647658274,
          0.49174132733217274
         ],
         "y0": " ",
         "yaxis": "y"
        },
        {
         "alignmentgroup": "True",
         "boxpoints": "all",
         "hovertemplate": "Machine Learning Model=%{x}<br>Accuracy=%{y}<extra></extra>",
         "legendgroup": "GNB",
         "marker": {
          "color": "#00cc96"
         },
         "name": "GNB",
         "notched": false,
         "offsetgroup": "GNB",
         "orientation": "v",
         "showlegend": true,
         "type": "box",
         "x": [
          "GNB",
          "GNB",
          "GNB",
          "GNB",
          "GNB",
          "GNB",
          "GNB",
          "GNB",
          "GNB",
          "GNB"
         ],
         "x0": " ",
         "xaxis": "x",
         "y": [
          0.48063858695652173,
          0.4782608695652174,
          0.4919111715001486,
          0.47747441722219863,
          0.4830368137234088,
          0.48191236413043476,
          0.48276154891304346,
          0.49114687274425717,
          0.4781537938941022,
          0.4809562226657042
         ],
         "y0": " ",
         "yaxis": "y"
        },
        {
         "alignmentgroup": "True",
         "boxpoints": "all",
         "hovertemplate": "Machine Learning Model=%{x}<br>Accuracy=%{y}<extra></extra>",
         "legendgroup": "RF",
         "marker": {
          "color": "#ab63fa"
         },
         "name": "RF",
         "notched": false,
         "offsetgroup": "RF",
         "orientation": "v",
         "showlegend": true,
         "type": "box",
         "x": [
          "RF",
          "RF",
          "RF",
          "RF",
          "RF",
          "RF",
          "RF",
          "RF",
          "RF",
          "RF"
         ],
         "x0": " ",
         "xaxis": "x",
         "y": [
          0.5487856657608695,
          0.5495499320652174,
          0.5558575007430683,
          0.5506772536198038,
          0.5565368774149717,
          0.5509935461956522,
          0.5488705842391305,
          0.5506347925778099,
          0.551951084879623,
          0.5506772536198038
         ],
         "y0": " ",
         "yaxis": "y"
        },
        {
         "alignmentgroup": "True",
         "boxpoints": "all",
         "hovertemplate": "Machine Learning Model=%{x}<br>Accuracy=%{y}<extra></extra>",
         "legendgroup": "AdaBoost",
         "marker": {
          "color": "#FFA15A"
         },
         "name": "AdaBoost",
         "notched": false,
         "offsetgroup": "AdaBoost",
         "orientation": "v",
         "showlegend": true,
         "type": "box",
         "x": [
          "AdaBoost",
          "AdaBoost",
          "AdaBoost",
          "AdaBoost",
          "AdaBoost",
          "AdaBoost",
          "AdaBoost",
          "AdaBoost",
          "AdaBoost",
          "AdaBoost"
         ],
         "x0": " ",
         "xaxis": "x",
         "y": [
          0.6149796195652174,
          0.6162109375,
          0.6131374463929344,
          0.6159398751645365,
          0.6132648295189164,
          0.6196076766304348,
          0.6169752038043478,
          0.6137319009808501,
          0.6195066026920301,
          0.6079996603116641
         ],
         "y0": " ",
         "yaxis": "y"
        },
        {
         "alignmentgroup": "True",
         "boxpoints": "all",
         "hovertemplate": "Machine Learning Model=%{x}<br>Accuracy=%{y}<extra></extra>",
         "legendgroup": "Bagging",
         "marker": {
          "color": "#19d3f3"
         },
         "name": "Bagging",
         "notched": false,
         "offsetgroup": "Bagging",
         "orientation": "v",
         "showlegend": true,
         "type": "box",
         "x": [
          "Bagging",
          "Bagging",
          "Bagging",
          "Bagging",
          "Bagging",
          "Bagging",
          "Bagging",
          "Bagging",
          "Bagging",
          "Bagging"
         ],
         "x0": " ",
         "xaxis": "x",
         "y": [
          0.5491253396739131,
          0.5506963315217391,
          0.5540316759373275,
          0.5513141692497134,
          0.5535646044753938,
          0.5492951766304348,
          0.5458984375,
          0.5497006496539425,
          0.5522483121735807,
          0.5464736104624007
         ],
         "y0": " ",
         "yaxis": "y"
        },
        {
         "alignmentgroup": "True",
         "boxpoints": "all",
         "hovertemplate": "Machine Learning Model=%{x}<br>Accuracy=%{y}<extra></extra>",
         "legendgroup": "GBM",
         "marker": {
          "color": "#FF6692"
         },
         "name": "GBM",
         "notched": false,
         "offsetgroup": "GBM",
         "orientation": "v",
         "showlegend": true,
         "type": "box",
         "x": [
          "GBM",
          "GBM",
          "GBM",
          "GBM",
          "GBM",
          "GBM",
          "GBM",
          "GBM",
          "GBM",
          "GBM"
         ],
         "x0": " ",
         "xaxis": "x",
         "y": [
          0.6227496603260869,
          0.625,
          0.6229884081355357,
          0.6215871937497346,
          0.6209502781198251,
          0.6255519701086957,
          0.6257218070652174,
          0.6202709014479215,
          0.6220118041696743,
          0.6184875376841747
         ],
         "y0": " ",
         "yaxis": "y"
        },
        {
         "alignmentgroup": "True",
         "boxpoints": "all",
         "hovertemplate": "Machine Learning Model=%{x}<br>Accuracy=%{y}<extra></extra>",
         "legendgroup": "XGB",
         "marker": {
          "color": "#B6E880"
         },
         "name": "XGB",
         "notched": false,
         "offsetgroup": "XGB",
         "orientation": "v",
         "showlegend": true,
         "type": "box",
         "x": [
          "XGB",
          "XGB",
          "XGB",
          "XGB",
          "XGB",
          "XGB",
          "XGB",
          "XGB",
          "XGB",
          "XGB"
         ],
         "x0": " ",
         "xaxis": "x",
         "y": [
          0.6230893342391305,
          0.6224099864130435,
          0.6204407456158975,
          0.6231582523035115,
          0.6203133624899155,
          0.6266559103260869,
          0.625,
          0.6166192518364401,
          0.622478875631608,
          0.6170863232983738
         ],
         "y0": " ",
         "yaxis": "y"
        },
        {
         "alignmentgroup": "True",
         "boxpoints": "all",
         "hovertemplate": "Machine Learning Model=%{x}<br>Accuracy=%{y}<extra></extra>",
         "legendgroup": "CatBoost",
         "marker": {
          "color": "#FF97FF"
         },
         "name": "CatBoost",
         "notched": false,
         "offsetgroup": "CatBoost",
         "orientation": "v",
         "showlegend": true,
         "type": "box",
         "x": [
          "CatBoost",
          "CatBoost",
          "CatBoost",
          "CatBoost",
          "CatBoost",
          "CatBoost",
          "CatBoost",
          "CatBoost",
          "CatBoost",
          "CatBoost"
         ],
         "x0": " ",
         "xaxis": "x",
         "y": [
          0.6238536005434783,
          0.6233440896739131,
          0.6232856354294934,
          0.6247293108572884,
          0.6231582523035115,
          0.6278023097826086,
          0.6280146059782609,
          0.6184026156001868,
          0.6240923952273789,
          0.6184450766421808
         ],
         "y0": " ",
         "yaxis": "y"
        }
       ],
       "layout": {
        "boxmode": "overlay",
        "legend": {
         "title": {
          "text": "Machine Learning Model"
         },
         "tracegroupgap": 0
        },
        "template": {
         "data": {
          "bar": [
           {
            "error_x": {
             "color": "#2a3f5f"
            },
            "error_y": {
             "color": "#2a3f5f"
            },
            "marker": {
             "line": {
              "color": "#E5ECF6",
              "width": 0.5
             },
             "pattern": {
              "fillmode": "overlay",
              "size": 10,
              "solidity": 0.2
             }
            },
            "type": "bar"
           }
          ],
          "barpolar": [
           {
            "marker": {
             "line": {
              "color": "#E5ECF6",
              "width": 0.5
             },
             "pattern": {
              "fillmode": "overlay",
              "size": 10,
              "solidity": 0.2
             }
            },
            "type": "barpolar"
           }
          ],
          "carpet": [
           {
            "aaxis": {
             "endlinecolor": "#2a3f5f",
             "gridcolor": "white",
             "linecolor": "white",
             "minorgridcolor": "white",
             "startlinecolor": "#2a3f5f"
            },
            "baxis": {
             "endlinecolor": "#2a3f5f",
             "gridcolor": "white",
             "linecolor": "white",
             "minorgridcolor": "white",
             "startlinecolor": "#2a3f5f"
            },
            "type": "carpet"
           }
          ],
          "choropleth": [
           {
            "colorbar": {
             "outlinewidth": 0,
             "ticks": ""
            },
            "type": "choropleth"
           }
          ],
          "contour": [
           {
            "colorbar": {
             "outlinewidth": 0,
             "ticks": ""
            },
            "colorscale": [
             [
              0,
              "#0d0887"
             ],
             [
              0.1111111111111111,
              "#46039f"
             ],
             [
              0.2222222222222222,
              "#7201a8"
             ],
             [
              0.3333333333333333,
              "#9c179e"
             ],
             [
              0.4444444444444444,
              "#bd3786"
             ],
             [
              0.5555555555555556,
              "#d8576b"
             ],
             [
              0.6666666666666666,
              "#ed7953"
             ],
             [
              0.7777777777777778,
              "#fb9f3a"
             ],
             [
              0.8888888888888888,
              "#fdca26"
             ],
             [
              1,
              "#f0f921"
             ]
            ],
            "type": "contour"
           }
          ],
          "contourcarpet": [
           {
            "colorbar": {
             "outlinewidth": 0,
             "ticks": ""
            },
            "type": "contourcarpet"
           }
          ],
          "heatmap": [
           {
            "colorbar": {
             "outlinewidth": 0,
             "ticks": ""
            },
            "colorscale": [
             [
              0,
              "#0d0887"
             ],
             [
              0.1111111111111111,
              "#46039f"
             ],
             [
              0.2222222222222222,
              "#7201a8"
             ],
             [
              0.3333333333333333,
              "#9c179e"
             ],
             [
              0.4444444444444444,
              "#bd3786"
             ],
             [
              0.5555555555555556,
              "#d8576b"
             ],
             [
              0.6666666666666666,
              "#ed7953"
             ],
             [
              0.7777777777777778,
              "#fb9f3a"
             ],
             [
              0.8888888888888888,
              "#fdca26"
             ],
             [
              1,
              "#f0f921"
             ]
            ],
            "type": "heatmap"
           }
          ],
          "heatmapgl": [
           {
            "colorbar": {
             "outlinewidth": 0,
             "ticks": ""
            },
            "colorscale": [
             [
              0,
              "#0d0887"
             ],
             [
              0.1111111111111111,
              "#46039f"
             ],
             [
              0.2222222222222222,
              "#7201a8"
             ],
             [
              0.3333333333333333,
              "#9c179e"
             ],
             [
              0.4444444444444444,
              "#bd3786"
             ],
             [
              0.5555555555555556,
              "#d8576b"
             ],
             [
              0.6666666666666666,
              "#ed7953"
             ],
             [
              0.7777777777777778,
              "#fb9f3a"
             ],
             [
              0.8888888888888888,
              "#fdca26"
             ],
             [
              1,
              "#f0f921"
             ]
            ],
            "type": "heatmapgl"
           }
          ],
          "histogram": [
           {
            "marker": {
             "pattern": {
              "fillmode": "overlay",
              "size": 10,
              "solidity": 0.2
             }
            },
            "type": "histogram"
           }
          ],
          "histogram2d": [
           {
            "colorbar": {
             "outlinewidth": 0,
             "ticks": ""
            },
            "colorscale": [
             [
              0,
              "#0d0887"
             ],
             [
              0.1111111111111111,
              "#46039f"
             ],
             [
              0.2222222222222222,
              "#7201a8"
             ],
             [
              0.3333333333333333,
              "#9c179e"
             ],
             [
              0.4444444444444444,
              "#bd3786"
             ],
             [
              0.5555555555555556,
              "#d8576b"
             ],
             [
              0.6666666666666666,
              "#ed7953"
             ],
             [
              0.7777777777777778,
              "#fb9f3a"
             ],
             [
              0.8888888888888888,
              "#fdca26"
             ],
             [
              1,
              "#f0f921"
             ]
            ],
            "type": "histogram2d"
           }
          ],
          "histogram2dcontour": [
           {
            "colorbar": {
             "outlinewidth": 0,
             "ticks": ""
            },
            "colorscale": [
             [
              0,
              "#0d0887"
             ],
             [
              0.1111111111111111,
              "#46039f"
             ],
             [
              0.2222222222222222,
              "#7201a8"
             ],
             [
              0.3333333333333333,
              "#9c179e"
             ],
             [
              0.4444444444444444,
              "#bd3786"
             ],
             [
              0.5555555555555556,
              "#d8576b"
             ],
             [
              0.6666666666666666,
              "#ed7953"
             ],
             [
              0.7777777777777778,
              "#fb9f3a"
             ],
             [
              0.8888888888888888,
              "#fdca26"
             ],
             [
              1,
              "#f0f921"
             ]
            ],
            "type": "histogram2dcontour"
           }
          ],
          "mesh3d": [
           {
            "colorbar": {
             "outlinewidth": 0,
             "ticks": ""
            },
            "type": "mesh3d"
           }
          ],
          "parcoords": [
           {
            "line": {
             "colorbar": {
              "outlinewidth": 0,
              "ticks": ""
             }
            },
            "type": "parcoords"
           }
          ],
          "pie": [
           {
            "automargin": true,
            "type": "pie"
           }
          ],
          "scatter": [
           {
            "fillpattern": {
             "fillmode": "overlay",
             "size": 10,
             "solidity": 0.2
            },
            "type": "scatter"
           }
          ],
          "scatter3d": [
           {
            "line": {
             "colorbar": {
              "outlinewidth": 0,
              "ticks": ""
             }
            },
            "marker": {
             "colorbar": {
              "outlinewidth": 0,
              "ticks": ""
             }
            },
            "type": "scatter3d"
           }
          ],
          "scattercarpet": [
           {
            "marker": {
             "colorbar": {
              "outlinewidth": 0,
              "ticks": ""
             }
            },
            "type": "scattercarpet"
           }
          ],
          "scattergeo": [
           {
            "marker": {
             "colorbar": {
              "outlinewidth": 0,
              "ticks": ""
             }
            },
            "type": "scattergeo"
           }
          ],
          "scattergl": [
           {
            "marker": {
             "colorbar": {
              "outlinewidth": 0,
              "ticks": ""
             }
            },
            "type": "scattergl"
           }
          ],
          "scattermapbox": [
           {
            "marker": {
             "colorbar": {
              "outlinewidth": 0,
              "ticks": ""
             }
            },
            "type": "scattermapbox"
           }
          ],
          "scatterpolar": [
           {
            "marker": {
             "colorbar": {
              "outlinewidth": 0,
              "ticks": ""
             }
            },
            "type": "scatterpolar"
           }
          ],
          "scatterpolargl": [
           {
            "marker": {
             "colorbar": {
              "outlinewidth": 0,
              "ticks": ""
             }
            },
            "type": "scatterpolargl"
           }
          ],
          "scatterternary": [
           {
            "marker": {
             "colorbar": {
              "outlinewidth": 0,
              "ticks": ""
             }
            },
            "type": "scatterternary"
           }
          ],
          "surface": [
           {
            "colorbar": {
             "outlinewidth": 0,
             "ticks": ""
            },
            "colorscale": [
             [
              0,
              "#0d0887"
             ],
             [
              0.1111111111111111,
              "#46039f"
             ],
             [
              0.2222222222222222,
              "#7201a8"
             ],
             [
              0.3333333333333333,
              "#9c179e"
             ],
             [
              0.4444444444444444,
              "#bd3786"
             ],
             [
              0.5555555555555556,
              "#d8576b"
             ],
             [
              0.6666666666666666,
              "#ed7953"
             ],
             [
              0.7777777777777778,
              "#fb9f3a"
             ],
             [
              0.8888888888888888,
              "#fdca26"
             ],
             [
              1,
              "#f0f921"
             ]
            ],
            "type": "surface"
           }
          ],
          "table": [
           {
            "cells": {
             "fill": {
              "color": "#EBF0F8"
             },
             "line": {
              "color": "white"
             }
            },
            "header": {
             "fill": {
              "color": "#C8D4E3"
             },
             "line": {
              "color": "white"
             }
            },
            "type": "table"
           }
          ]
         },
         "layout": {
          "annotationdefaults": {
           "arrowcolor": "#2a3f5f",
           "arrowhead": 0,
           "arrowwidth": 1
          },
          "autotypenumbers": "strict",
          "coloraxis": {
           "colorbar": {
            "outlinewidth": 0,
            "ticks": ""
           }
          },
          "colorscale": {
           "diverging": [
            [
             0,
             "#8e0152"
            ],
            [
             0.1,
             "#c51b7d"
            ],
            [
             0.2,
             "#de77ae"
            ],
            [
             0.3,
             "#f1b6da"
            ],
            [
             0.4,
             "#fde0ef"
            ],
            [
             0.5,
             "#f7f7f7"
            ],
            [
             0.6,
             "#e6f5d0"
            ],
            [
             0.7,
             "#b8e186"
            ],
            [
             0.8,
             "#7fbc41"
            ],
            [
             0.9,
             "#4d9221"
            ],
            [
             1,
             "#276419"
            ]
           ],
           "sequential": [
            [
             0,
             "#0d0887"
            ],
            [
             0.1111111111111111,
             "#46039f"
            ],
            [
             0.2222222222222222,
             "#7201a8"
            ],
            [
             0.3333333333333333,
             "#9c179e"
            ],
            [
             0.4444444444444444,
             "#bd3786"
            ],
            [
             0.5555555555555556,
             "#d8576b"
            ],
            [
             0.6666666666666666,
             "#ed7953"
            ],
            [
             0.7777777777777778,
             "#fb9f3a"
            ],
            [
             0.8888888888888888,
             "#fdca26"
            ],
            [
             1,
             "#f0f921"
            ]
           ],
           "sequentialminus": [
            [
             0,
             "#0d0887"
            ],
            [
             0.1111111111111111,
             "#46039f"
            ],
            [
             0.2222222222222222,
             "#7201a8"
            ],
            [
             0.3333333333333333,
             "#9c179e"
            ],
            [
             0.4444444444444444,
             "#bd3786"
            ],
            [
             0.5555555555555556,
             "#d8576b"
            ],
            [
             0.6666666666666666,
             "#ed7953"
            ],
            [
             0.7777777777777778,
             "#fb9f3a"
            ],
            [
             0.8888888888888888,
             "#fdca26"
            ],
            [
             1,
             "#f0f921"
            ]
           ]
          },
          "colorway": [
           "#636efa",
           "#EF553B",
           "#00cc96",
           "#ab63fa",
           "#FFA15A",
           "#19d3f3",
           "#FF6692",
           "#B6E880",
           "#FF97FF",
           "#FECB52"
          ],
          "font": {
           "color": "#2a3f5f"
          },
          "geo": {
           "bgcolor": "white",
           "lakecolor": "white",
           "landcolor": "#E5ECF6",
           "showlakes": true,
           "showland": true,
           "subunitcolor": "white"
          },
          "hoverlabel": {
           "align": "left"
          },
          "hovermode": "closest",
          "mapbox": {
           "style": "light"
          },
          "paper_bgcolor": "white",
          "plot_bgcolor": "#E5ECF6",
          "polar": {
           "angularaxis": {
            "gridcolor": "white",
            "linecolor": "white",
            "ticks": ""
           },
           "bgcolor": "#E5ECF6",
           "radialaxis": {
            "gridcolor": "white",
            "linecolor": "white",
            "ticks": ""
           }
          },
          "scene": {
           "xaxis": {
            "backgroundcolor": "#E5ECF6",
            "gridcolor": "white",
            "gridwidth": 2,
            "linecolor": "white",
            "showbackground": true,
            "ticks": "",
            "zerolinecolor": "white"
           },
           "yaxis": {
            "backgroundcolor": "#E5ECF6",
            "gridcolor": "white",
            "gridwidth": 2,
            "linecolor": "white",
            "showbackground": true,
            "ticks": "",
            "zerolinecolor": "white"
           },
           "zaxis": {
            "backgroundcolor": "#E5ECF6",
            "gridcolor": "white",
            "gridwidth": 2,
            "linecolor": "white",
            "showbackground": true,
            "ticks": "",
            "zerolinecolor": "white"
           }
          },
          "shapedefaults": {
           "line": {
            "color": "#2a3f5f"
           }
          },
          "ternary": {
           "aaxis": {
            "gridcolor": "white",
            "linecolor": "white",
            "ticks": ""
           },
           "baxis": {
            "gridcolor": "white",
            "linecolor": "white",
            "ticks": ""
           },
           "bgcolor": "#E5ECF6",
           "caxis": {
            "gridcolor": "white",
            "linecolor": "white",
            "ticks": ""
           }
          },
          "title": {
           "x": 0.05
          },
          "xaxis": {
           "automargin": true,
           "gridcolor": "white",
           "linecolor": "white",
           "ticks": "",
           "title": {
            "standoff": 15
           },
           "zerolinecolor": "white",
           "zerolinewidth": 2
          },
          "yaxis": {
           "automargin": true,
           "gridcolor": "white",
           "linecolor": "white",
           "ticks": "",
           "title": {
            "standoff": 15
           },
           "zerolinecolor": "white",
           "zerolinewidth": 2
          }
         }
        },
        "title": {
         "text": "Model Accuracy Performance"
        },
        "xaxis": {
         "anchor": "y",
         "categoryarray": [
          "LR",
          "Tree",
          "GNB",
          "RF",
          "AdaBoost",
          "Bagging",
          "GBM",
          "XGB",
          "CatBoost"
         ],
         "categoryorder": "array",
         "domain": [
          0,
          1
         ],
         "title": {
          "text": "Machine Learning Model"
         }
        },
        "yaxis": {
         "anchor": "x",
         "domain": [
          0,
          1
         ],
         "title": {
          "text": "Accuracy"
         }
        }
       }
      },
      "text/html": [
       "<div>                            <div id=\"415ff219-9e22-4573-9d9d-a07b8d3ac54f\" class=\"plotly-graph-div\" style=\"height:525px; width:100%;\"></div>            <script type=\"text/javascript\">                require([\"plotly\"], function(Plotly) {                    window.PLOTLYENV=window.PLOTLYENV || {};                                    if (document.getElementById(\"415ff219-9e22-4573-9d9d-a07b8d3ac54f\")) {                    Plotly.newPlot(                        \"415ff219-9e22-4573-9d9d-a07b8d3ac54f\",                        [{\"alignmentgroup\":\"True\",\"boxpoints\":\"all\",\"hovertemplate\":\"Machine Learning Model=%{x}<br>Accuracy=%{y}<extra></extra>\",\"legendgroup\":\"LR\",\"marker\":{\"color\":\"#636efa\"},\"name\":\"LR\",\"notched\":false,\"offsetgroup\":\"LR\",\"orientation\":\"v\",\"showlegend\":true,\"x\":[\"LR\",\"LR\",\"LR\",\"LR\",\"LR\",\"LR\",\"LR\",\"LR\",\"LR\",\"LR\"],\"x0\":\" \",\"xaxis\":\"x\",\"y\":[0.6073369565217391,0.6103515625,0.6068956732198209,0.6091885694874952,0.6070230563458028,0.613663383152174,0.6109884510869565,0.6043904717421765,0.6107596280412722,0.6011209715086409],\"y0\":\" \",\"yaxis\":\"y\",\"type\":\"box\"},{\"alignmentgroup\":\"True\",\"boxpoints\":\"all\",\"hovertemplate\":\"Machine Learning Model=%{x}<br>Accuracy=%{y}<extra></extra>\",\"legendgroup\":\"Tree\",\"marker\":{\"color\":\"#EF553B\"},\"name\":\"Tree\",\"notched\":false,\"offsetgroup\":\"Tree\",\"orientation\":\"v\",\"showlegend\":true,\"x\":[\"Tree\",\"Tree\",\"Tree\",\"Tree\",\"Tree\",\"Tree\",\"Tree\",\"Tree\",\"Tree\",\"Tree\"],\"x0\":\" \",\"xaxis\":\"x\",\"y\":[0.48908797554347827,0.4876868206521739,0.49403422359984717,0.4908071844083054,0.4940766846418411,0.4886633831521739,0.4906589673913043,0.48885397647658274,0.48885397647658274,0.49174132733217274],\"y0\":\" \",\"yaxis\":\"y\",\"type\":\"box\"},{\"alignmentgroup\":\"True\",\"boxpoints\":\"all\",\"hovertemplate\":\"Machine Learning Model=%{x}<br>Accuracy=%{y}<extra></extra>\",\"legendgroup\":\"GNB\",\"marker\":{\"color\":\"#00cc96\"},\"name\":\"GNB\",\"notched\":false,\"offsetgroup\":\"GNB\",\"orientation\":\"v\",\"showlegend\":true,\"x\":[\"GNB\",\"GNB\",\"GNB\",\"GNB\",\"GNB\",\"GNB\",\"GNB\",\"GNB\",\"GNB\",\"GNB\"],\"x0\":\" \",\"xaxis\":\"x\",\"y\":[0.48063858695652173,0.4782608695652174,0.4919111715001486,0.47747441722219863,0.4830368137234088,0.48191236413043476,0.48276154891304346,0.49114687274425717,0.4781537938941022,0.4809562226657042],\"y0\":\" \",\"yaxis\":\"y\",\"type\":\"box\"},{\"alignmentgroup\":\"True\",\"boxpoints\":\"all\",\"hovertemplate\":\"Machine Learning Model=%{x}<br>Accuracy=%{y}<extra></extra>\",\"legendgroup\":\"RF\",\"marker\":{\"color\":\"#ab63fa\"},\"name\":\"RF\",\"notched\":false,\"offsetgroup\":\"RF\",\"orientation\":\"v\",\"showlegend\":true,\"x\":[\"RF\",\"RF\",\"RF\",\"RF\",\"RF\",\"RF\",\"RF\",\"RF\",\"RF\",\"RF\"],\"x0\":\" \",\"xaxis\":\"x\",\"y\":[0.5487856657608695,0.5495499320652174,0.5558575007430683,0.5506772536198038,0.5565368774149717,0.5509935461956522,0.5488705842391305,0.5506347925778099,0.551951084879623,0.5506772536198038],\"y0\":\" \",\"yaxis\":\"y\",\"type\":\"box\"},{\"alignmentgroup\":\"True\",\"boxpoints\":\"all\",\"hovertemplate\":\"Machine Learning Model=%{x}<br>Accuracy=%{y}<extra></extra>\",\"legendgroup\":\"AdaBoost\",\"marker\":{\"color\":\"#FFA15A\"},\"name\":\"AdaBoost\",\"notched\":false,\"offsetgroup\":\"AdaBoost\",\"orientation\":\"v\",\"showlegend\":true,\"x\":[\"AdaBoost\",\"AdaBoost\",\"AdaBoost\",\"AdaBoost\",\"AdaBoost\",\"AdaBoost\",\"AdaBoost\",\"AdaBoost\",\"AdaBoost\",\"AdaBoost\"],\"x0\":\" \",\"xaxis\":\"x\",\"y\":[0.6149796195652174,0.6162109375,0.6131374463929344,0.6159398751645365,0.6132648295189164,0.6196076766304348,0.6169752038043478,0.6137319009808501,0.6195066026920301,0.6079996603116641],\"y0\":\" \",\"yaxis\":\"y\",\"type\":\"box\"},{\"alignmentgroup\":\"True\",\"boxpoints\":\"all\",\"hovertemplate\":\"Machine Learning Model=%{x}<br>Accuracy=%{y}<extra></extra>\",\"legendgroup\":\"Bagging\",\"marker\":{\"color\":\"#19d3f3\"},\"name\":\"Bagging\",\"notched\":false,\"offsetgroup\":\"Bagging\",\"orientation\":\"v\",\"showlegend\":true,\"x\":[\"Bagging\",\"Bagging\",\"Bagging\",\"Bagging\",\"Bagging\",\"Bagging\",\"Bagging\",\"Bagging\",\"Bagging\",\"Bagging\"],\"x0\":\" \",\"xaxis\":\"x\",\"y\":[0.5491253396739131,0.5506963315217391,0.5540316759373275,0.5513141692497134,0.5535646044753938,0.5492951766304348,0.5458984375,0.5497006496539425,0.5522483121735807,0.5464736104624007],\"y0\":\" \",\"yaxis\":\"y\",\"type\":\"box\"},{\"alignmentgroup\":\"True\",\"boxpoints\":\"all\",\"hovertemplate\":\"Machine Learning Model=%{x}<br>Accuracy=%{y}<extra></extra>\",\"legendgroup\":\"GBM\",\"marker\":{\"color\":\"#FF6692\"},\"name\":\"GBM\",\"notched\":false,\"offsetgroup\":\"GBM\",\"orientation\":\"v\",\"showlegend\":true,\"x\":[\"GBM\",\"GBM\",\"GBM\",\"GBM\",\"GBM\",\"GBM\",\"GBM\",\"GBM\",\"GBM\",\"GBM\"],\"x0\":\" \",\"xaxis\":\"x\",\"y\":[0.6227496603260869,0.625,0.6229884081355357,0.6215871937497346,0.6209502781198251,0.6255519701086957,0.6257218070652174,0.6202709014479215,0.6220118041696743,0.6184875376841747],\"y0\":\" \",\"yaxis\":\"y\",\"type\":\"box\"},{\"alignmentgroup\":\"True\",\"boxpoints\":\"all\",\"hovertemplate\":\"Machine Learning Model=%{x}<br>Accuracy=%{y}<extra></extra>\",\"legendgroup\":\"XGB\",\"marker\":{\"color\":\"#B6E880\"},\"name\":\"XGB\",\"notched\":false,\"offsetgroup\":\"XGB\",\"orientation\":\"v\",\"showlegend\":true,\"x\":[\"XGB\",\"XGB\",\"XGB\",\"XGB\",\"XGB\",\"XGB\",\"XGB\",\"XGB\",\"XGB\",\"XGB\"],\"x0\":\" \",\"xaxis\":\"x\",\"y\":[0.6230893342391305,0.6224099864130435,0.6204407456158975,0.6231582523035115,0.6203133624899155,0.6266559103260869,0.625,0.6166192518364401,0.622478875631608,0.6170863232983738],\"y0\":\" \",\"yaxis\":\"y\",\"type\":\"box\"},{\"alignmentgroup\":\"True\",\"boxpoints\":\"all\",\"hovertemplate\":\"Machine Learning Model=%{x}<br>Accuracy=%{y}<extra></extra>\",\"legendgroup\":\"CatBoost\",\"marker\":{\"color\":\"#FF97FF\"},\"name\":\"CatBoost\",\"notched\":false,\"offsetgroup\":\"CatBoost\",\"orientation\":\"v\",\"showlegend\":true,\"x\":[\"CatBoost\",\"CatBoost\",\"CatBoost\",\"CatBoost\",\"CatBoost\",\"CatBoost\",\"CatBoost\",\"CatBoost\",\"CatBoost\",\"CatBoost\"],\"x0\":\" \",\"xaxis\":\"x\",\"y\":[0.6238536005434783,0.6233440896739131,0.6232856354294934,0.6247293108572884,0.6231582523035115,0.6278023097826086,0.6280146059782609,0.6184026156001868,0.6240923952273789,0.6184450766421808],\"y0\":\" \",\"yaxis\":\"y\",\"type\":\"box\"}],                        {\"template\":{\"data\":{\"histogram2dcontour\":[{\"type\":\"histogram2dcontour\",\"colorbar\":{\"outlinewidth\":0,\"ticks\":\"\"},\"colorscale\":[[0.0,\"#0d0887\"],[0.1111111111111111,\"#46039f\"],[0.2222222222222222,\"#7201a8\"],[0.3333333333333333,\"#9c179e\"],[0.4444444444444444,\"#bd3786\"],[0.5555555555555556,\"#d8576b\"],[0.6666666666666666,\"#ed7953\"],[0.7777777777777778,\"#fb9f3a\"],[0.8888888888888888,\"#fdca26\"],[1.0,\"#f0f921\"]]}],\"choropleth\":[{\"type\":\"choropleth\",\"colorbar\":{\"outlinewidth\":0,\"ticks\":\"\"}}],\"histogram2d\":[{\"type\":\"histogram2d\",\"colorbar\":{\"outlinewidth\":0,\"ticks\":\"\"},\"colorscale\":[[0.0,\"#0d0887\"],[0.1111111111111111,\"#46039f\"],[0.2222222222222222,\"#7201a8\"],[0.3333333333333333,\"#9c179e\"],[0.4444444444444444,\"#bd3786\"],[0.5555555555555556,\"#d8576b\"],[0.6666666666666666,\"#ed7953\"],[0.7777777777777778,\"#fb9f3a\"],[0.8888888888888888,\"#fdca26\"],[1.0,\"#f0f921\"]]}],\"heatmap\":[{\"type\":\"heatmap\",\"colorbar\":{\"outlinewidth\":0,\"ticks\":\"\"},\"colorscale\":[[0.0,\"#0d0887\"],[0.1111111111111111,\"#46039f\"],[0.2222222222222222,\"#7201a8\"],[0.3333333333333333,\"#9c179e\"],[0.4444444444444444,\"#bd3786\"],[0.5555555555555556,\"#d8576b\"],[0.6666666666666666,\"#ed7953\"],[0.7777777777777778,\"#fb9f3a\"],[0.8888888888888888,\"#fdca26\"],[1.0,\"#f0f921\"]]}],\"heatmapgl\":[{\"type\":\"heatmapgl\",\"colorbar\":{\"outlinewidth\":0,\"ticks\":\"\"},\"colorscale\":[[0.0,\"#0d0887\"],[0.1111111111111111,\"#46039f\"],[0.2222222222222222,\"#7201a8\"],[0.3333333333333333,\"#9c179e\"],[0.4444444444444444,\"#bd3786\"],[0.5555555555555556,\"#d8576b\"],[0.6666666666666666,\"#ed7953\"],[0.7777777777777778,\"#fb9f3a\"],[0.8888888888888888,\"#fdca26\"],[1.0,\"#f0f921\"]]}],\"contourcarpet\":[{\"type\":\"contourcarpet\",\"colorbar\":{\"outlinewidth\":0,\"ticks\":\"\"}}],\"contour\":[{\"type\":\"contour\",\"colorbar\":{\"outlinewidth\":0,\"ticks\":\"\"},\"colorscale\":[[0.0,\"#0d0887\"],[0.1111111111111111,\"#46039f\"],[0.2222222222222222,\"#7201a8\"],[0.3333333333333333,\"#9c179e\"],[0.4444444444444444,\"#bd3786\"],[0.5555555555555556,\"#d8576b\"],[0.6666666666666666,\"#ed7953\"],[0.7777777777777778,\"#fb9f3a\"],[0.8888888888888888,\"#fdca26\"],[1.0,\"#f0f921\"]]}],\"surface\":[{\"type\":\"surface\",\"colorbar\":{\"outlinewidth\":0,\"ticks\":\"\"},\"colorscale\":[[0.0,\"#0d0887\"],[0.1111111111111111,\"#46039f\"],[0.2222222222222222,\"#7201a8\"],[0.3333333333333333,\"#9c179e\"],[0.4444444444444444,\"#bd3786\"],[0.5555555555555556,\"#d8576b\"],[0.6666666666666666,\"#ed7953\"],[0.7777777777777778,\"#fb9f3a\"],[0.8888888888888888,\"#fdca26\"],[1.0,\"#f0f921\"]]}],\"mesh3d\":[{\"type\":\"mesh3d\",\"colorbar\":{\"outlinewidth\":0,\"ticks\":\"\"}}],\"scatter\":[{\"fillpattern\":{\"fillmode\":\"overlay\",\"size\":10,\"solidity\":0.2},\"type\":\"scatter\"}],\"parcoords\":[{\"type\":\"parcoords\",\"line\":{\"colorbar\":{\"outlinewidth\":0,\"ticks\":\"\"}}}],\"scatterpolargl\":[{\"type\":\"scatterpolargl\",\"marker\":{\"colorbar\":{\"outlinewidth\":0,\"ticks\":\"\"}}}],\"bar\":[{\"error_x\":{\"color\":\"#2a3f5f\"},\"error_y\":{\"color\":\"#2a3f5f\"},\"marker\":{\"line\":{\"color\":\"#E5ECF6\",\"width\":0.5},\"pattern\":{\"fillmode\":\"overlay\",\"size\":10,\"solidity\":0.2}},\"type\":\"bar\"}],\"scattergeo\":[{\"type\":\"scattergeo\",\"marker\":{\"colorbar\":{\"outlinewidth\":0,\"ticks\":\"\"}}}],\"scatterpolar\":[{\"type\":\"scatterpolar\",\"marker\":{\"colorbar\":{\"outlinewidth\":0,\"ticks\":\"\"}}}],\"histogram\":[{\"marker\":{\"pattern\":{\"fillmode\":\"overlay\",\"size\":10,\"solidity\":0.2}},\"type\":\"histogram\"}],\"scattergl\":[{\"type\":\"scattergl\",\"marker\":{\"colorbar\":{\"outlinewidth\":0,\"ticks\":\"\"}}}],\"scatter3d\":[{\"type\":\"scatter3d\",\"line\":{\"colorbar\":{\"outlinewidth\":0,\"ticks\":\"\"}},\"marker\":{\"colorbar\":{\"outlinewidth\":0,\"ticks\":\"\"}}}],\"scattermapbox\":[{\"type\":\"scattermapbox\",\"marker\":{\"colorbar\":{\"outlinewidth\":0,\"ticks\":\"\"}}}],\"scatterternary\":[{\"type\":\"scatterternary\",\"marker\":{\"colorbar\":{\"outlinewidth\":0,\"ticks\":\"\"}}}],\"scattercarpet\":[{\"type\":\"scattercarpet\",\"marker\":{\"colorbar\":{\"outlinewidth\":0,\"ticks\":\"\"}}}],\"carpet\":[{\"aaxis\":{\"endlinecolor\":\"#2a3f5f\",\"gridcolor\":\"white\",\"linecolor\":\"white\",\"minorgridcolor\":\"white\",\"startlinecolor\":\"#2a3f5f\"},\"baxis\":{\"endlinecolor\":\"#2a3f5f\",\"gridcolor\":\"white\",\"linecolor\":\"white\",\"minorgridcolor\":\"white\",\"startlinecolor\":\"#2a3f5f\"},\"type\":\"carpet\"}],\"table\":[{\"cells\":{\"fill\":{\"color\":\"#EBF0F8\"},\"line\":{\"color\":\"white\"}},\"header\":{\"fill\":{\"color\":\"#C8D4E3\"},\"line\":{\"color\":\"white\"}},\"type\":\"table\"}],\"barpolar\":[{\"marker\":{\"line\":{\"color\":\"#E5ECF6\",\"width\":0.5},\"pattern\":{\"fillmode\":\"overlay\",\"size\":10,\"solidity\":0.2}},\"type\":\"barpolar\"}],\"pie\":[{\"automargin\":true,\"type\":\"pie\"}]},\"layout\":{\"autotypenumbers\":\"strict\",\"colorway\":[\"#636efa\",\"#EF553B\",\"#00cc96\",\"#ab63fa\",\"#FFA15A\",\"#19d3f3\",\"#FF6692\",\"#B6E880\",\"#FF97FF\",\"#FECB52\"],\"font\":{\"color\":\"#2a3f5f\"},\"hovermode\":\"closest\",\"hoverlabel\":{\"align\":\"left\"},\"paper_bgcolor\":\"white\",\"plot_bgcolor\":\"#E5ECF6\",\"polar\":{\"bgcolor\":\"#E5ECF6\",\"angularaxis\":{\"gridcolor\":\"white\",\"linecolor\":\"white\",\"ticks\":\"\"},\"radialaxis\":{\"gridcolor\":\"white\",\"linecolor\":\"white\",\"ticks\":\"\"}},\"ternary\":{\"bgcolor\":\"#E5ECF6\",\"aaxis\":{\"gridcolor\":\"white\",\"linecolor\":\"white\",\"ticks\":\"\"},\"baxis\":{\"gridcolor\":\"white\",\"linecolor\":\"white\",\"ticks\":\"\"},\"caxis\":{\"gridcolor\":\"white\",\"linecolor\":\"white\",\"ticks\":\"\"}},\"coloraxis\":{\"colorbar\":{\"outlinewidth\":0,\"ticks\":\"\"}},\"colorscale\":{\"sequential\":[[0.0,\"#0d0887\"],[0.1111111111111111,\"#46039f\"],[0.2222222222222222,\"#7201a8\"],[0.3333333333333333,\"#9c179e\"],[0.4444444444444444,\"#bd3786\"],[0.5555555555555556,\"#d8576b\"],[0.6666666666666666,\"#ed7953\"],[0.7777777777777778,\"#fb9f3a\"],[0.8888888888888888,\"#fdca26\"],[1.0,\"#f0f921\"]],\"sequentialminus\":[[0.0,\"#0d0887\"],[0.1111111111111111,\"#46039f\"],[0.2222222222222222,\"#7201a8\"],[0.3333333333333333,\"#9c179e\"],[0.4444444444444444,\"#bd3786\"],[0.5555555555555556,\"#d8576b\"],[0.6666666666666666,\"#ed7953\"],[0.7777777777777778,\"#fb9f3a\"],[0.8888888888888888,\"#fdca26\"],[1.0,\"#f0f921\"]],\"diverging\":[[0,\"#8e0152\"],[0.1,\"#c51b7d\"],[0.2,\"#de77ae\"],[0.3,\"#f1b6da\"],[0.4,\"#fde0ef\"],[0.5,\"#f7f7f7\"],[0.6,\"#e6f5d0\"],[0.7,\"#b8e186\"],[0.8,\"#7fbc41\"],[0.9,\"#4d9221\"],[1,\"#276419\"]]},\"xaxis\":{\"gridcolor\":\"white\",\"linecolor\":\"white\",\"ticks\":\"\",\"title\":{\"standoff\":15},\"zerolinecolor\":\"white\",\"automargin\":true,\"zerolinewidth\":2},\"yaxis\":{\"gridcolor\":\"white\",\"linecolor\":\"white\",\"ticks\":\"\",\"title\":{\"standoff\":15},\"zerolinecolor\":\"white\",\"automargin\":true,\"zerolinewidth\":2},\"scene\":{\"xaxis\":{\"backgroundcolor\":\"#E5ECF6\",\"gridcolor\":\"white\",\"linecolor\":\"white\",\"showbackground\":true,\"ticks\":\"\",\"zerolinecolor\":\"white\",\"gridwidth\":2},\"yaxis\":{\"backgroundcolor\":\"#E5ECF6\",\"gridcolor\":\"white\",\"linecolor\":\"white\",\"showbackground\":true,\"ticks\":\"\",\"zerolinecolor\":\"white\",\"gridwidth\":2},\"zaxis\":{\"backgroundcolor\":\"#E5ECF6\",\"gridcolor\":\"white\",\"linecolor\":\"white\",\"showbackground\":true,\"ticks\":\"\",\"zerolinecolor\":\"white\",\"gridwidth\":2}},\"shapedefaults\":{\"line\":{\"color\":\"#2a3f5f\"}},\"annotationdefaults\":{\"arrowcolor\":\"#2a3f5f\",\"arrowhead\":0,\"arrowwidth\":1},\"geo\":{\"bgcolor\":\"white\",\"landcolor\":\"#E5ECF6\",\"subunitcolor\":\"white\",\"showland\":true,\"showlakes\":true,\"lakecolor\":\"white\"},\"title\":{\"x\":0.05},\"mapbox\":{\"style\":\"light\"}}},\"xaxis\":{\"anchor\":\"y\",\"domain\":[0.0,1.0],\"title\":{\"text\":\"Machine Learning Model\"},\"categoryorder\":\"array\",\"categoryarray\":[\"LR\",\"Tree\",\"GNB\",\"RF\",\"AdaBoost\",\"Bagging\",\"GBM\",\"XGB\",\"CatBoost\"]},\"yaxis\":{\"anchor\":\"x\",\"domain\":[0.0,1.0],\"title\":{\"text\":\"Accuracy\"}},\"legend\":{\"title\":{\"text\":\"Machine Learning Model\"},\"tracegroupgap\":0},\"title\":{\"text\":\"Model Accuracy Performance\"},\"boxmode\":\"overlay\"},                        {\"responsive\": true}                    ).then(function(){\n",
       "                            \n",
       "var gd = document.getElementById('415ff219-9e22-4573-9d9d-a07b8d3ac54f');\n",
       "var x = new MutationObserver(function (mutations, observer) {{\n",
       "        var display = window.getComputedStyle(gd).display;\n",
       "        if (!display || display === 'none') {{\n",
       "            console.log([gd, 'removed!']);\n",
       "            Plotly.purge(gd);\n",
       "            observer.disconnect();\n",
       "        }}\n",
       "}});\n",
       "\n",
       "// Listen for the removal of the full notebook cells\n",
       "var notebookContainer = gd.closest('#notebook-container');\n",
       "if (notebookContainer) {{\n",
       "    x.observe(notebookContainer, {childList: true});\n",
       "}}\n",
       "\n",
       "// Listen for the clearing of the current output cell\n",
       "var outputEl = gd.closest('.output');\n",
       "if (outputEl) {{\n",
       "    x.observe(outputEl, {childList: true});\n",
       "}}\n",
       "\n",
       "                        })                };                });            </script>        </div>"
      ]
     },
     "metadata": {},
     "output_type": "display_data"
    }
   ],
   "source": [
    "fig = px.box(classifmod, x=\"Model\", y=\"Accuracy\", color=\"Model\", points='all',\n",
    "             labels={\"Model\": \"Machine Learning Model\",\n",
    "                     \"Accuracy\": \"Accuracy\"},\n",
    "             title=\"Model Accuracy Performance\")\n",
    "fig.show()\n",
    "fig.write_html(\"products/plots/model_train_accuracies.html\")"
   ]
  },
  {
   "cell_type": "code",
   "execution_count": null,
   "metadata": {},
   "outputs": [
    {
     "data": {
      "application/vnd.plotly.v1+json": {
       "config": {
        "plotlyServerURL": "https://plotly.com"
       },
       "data": [
        {
         "alignmentgroup": "True",
         "boxpoints": "all",
         "hovertemplate": "Machine Learning Model=%{x}<br>Weighted f1-Score=%{y}<extra></extra>",
         "legendgroup": "LR",
         "marker": {
          "color": "#636efa"
         },
         "name": "LR",
         "notched": false,
         "offsetgroup": "LR",
         "orientation": "v",
         "showlegend": true,
         "type": "box",
         "x": [
          "LR",
          "LR",
          "LR",
          "LR",
          "LR",
          "LR",
          "LR",
          "LR",
          "LR",
          "LR"
         ],
         "x0": " ",
         "xaxis": "x",
         "y": [
          0.5293368638603935,
          0.5309190182398593,
          0.527425458138028,
          0.5308282571075611,
          0.5279127738538304,
          0.5353988250433594,
          0.5323039486499455,
          0.5245295081251297,
          0.5338668679883789,
          0.5203035169544472
         ],
         "y0": " ",
         "yaxis": "y"
        },
        {
         "alignmentgroup": "True",
         "boxpoints": "all",
         "hovertemplate": "Machine Learning Model=%{x}<br>Weighted f1-Score=%{y}<extra></extra>",
         "legendgroup": "Tree",
         "marker": {
          "color": "#EF553B"
         },
         "name": "Tree",
         "notched": false,
         "offsetgroup": "Tree",
         "orientation": "v",
         "showlegend": true,
         "type": "box",
         "x": [
          "Tree",
          "Tree",
          "Tree",
          "Tree",
          "Tree",
          "Tree",
          "Tree",
          "Tree",
          "Tree",
          "Tree"
         ],
         "x0": " ",
         "xaxis": "x",
         "y": [
          0.4924138331860273,
          0.48919005605341526,
          0.49814257151540514,
          0.4937930367981644,
          0.4975645950261205,
          0.4916898249390311,
          0.4927620933160798,
          0.49382237613496627,
          0.49527553187217815,
          0.49229520509173275
         ],
         "y0": " ",
         "yaxis": "y"
        },
        {
         "alignmentgroup": "True",
         "boxpoints": "all",
         "hovertemplate": "Machine Learning Model=%{x}<br>Weighted f1-Score=%{y}<extra></extra>",
         "legendgroup": "GNB",
         "marker": {
          "color": "#00cc96"
         },
         "name": "GNB",
         "notched": false,
         "offsetgroup": "GNB",
         "orientation": "v",
         "showlegend": true,
         "type": "box",
         "x": [
          "GNB",
          "GNB",
          "GNB",
          "GNB",
          "GNB",
          "GNB",
          "GNB",
          "GNB",
          "GNB",
          "GNB"
         ],
         "x0": " ",
         "xaxis": "x",
         "y": [
          0.49021277923226114,
          0.48816174819698194,
          0.5016366850721734,
          0.4890656186573671,
          0.4937436255807292,
          0.4931294872578772,
          0.4949186105771983,
          0.4991549262764149,
          0.4883404620898014,
          0.4896592647365606
         ],
         "y0": " ",
         "yaxis": "y"
        },
        {
         "alignmentgroup": "True",
         "boxpoints": "all",
         "hovertemplate": "Machine Learning Model=%{x}<br>Weighted f1-Score=%{y}<extra></extra>",
         "legendgroup": "RF",
         "marker": {
          "color": "#ab63fa"
         },
         "name": "RF",
         "notched": false,
         "offsetgroup": "RF",
         "orientation": "v",
         "showlegend": true,
         "type": "box",
         "x": [
          "RF",
          "RF",
          "RF",
          "RF",
          "RF",
          "RF",
          "RF",
          "RF",
          "RF",
          "RF"
         ],
         "x0": " ",
         "xaxis": "x",
         "y": [
          0.5263335111516667,
          0.5245089472952346,
          0.531169246393175,
          0.5302359629417673,
          0.5338810522627804,
          0.5267994651299686,
          0.5273020361125051,
          0.5239230786875541,
          0.5299963600913936,
          0.5258666105906745
         ],
         "y0": " ",
         "yaxis": "y"
        },
        {
         "alignmentgroup": "True",
         "boxpoints": "all",
         "hovertemplate": "Machine Learning Model=%{x}<br>Weighted f1-Score=%{y}<extra></extra>",
         "legendgroup": "AdaBoost",
         "marker": {
          "color": "#FFA15A"
         },
         "name": "AdaBoost",
         "notched": false,
         "offsetgroup": "AdaBoost",
         "orientation": "v",
         "showlegend": true,
         "type": "box",
         "x": [
          "AdaBoost",
          "AdaBoost",
          "AdaBoost",
          "AdaBoost",
          "AdaBoost",
          "AdaBoost",
          "AdaBoost",
          "AdaBoost",
          "AdaBoost",
          "AdaBoost"
         ],
         "x0": " ",
         "xaxis": "x",
         "y": [
          0.5458887905205806,
          0.5443515434955455,
          0.5438014129339345,
          0.5457740045623706,
          0.544170721306452,
          0.5481335068557304,
          0.5445097441306007,
          0.5414457151388743,
          0.5476941801042945,
          0.5344464846537132
         ],
         "y0": " ",
         "yaxis": "y"
        },
        {
         "alignmentgroup": "True",
         "boxpoints": "all",
         "hovertemplate": "Machine Learning Model=%{x}<br>Weighted f1-Score=%{y}<extra></extra>",
         "legendgroup": "Bagging",
         "marker": {
          "color": "#19d3f3"
         },
         "name": "Bagging",
         "notched": false,
         "offsetgroup": "Bagging",
         "orientation": "v",
         "showlegend": true,
         "type": "box",
         "x": [
          "Bagging",
          "Bagging",
          "Bagging",
          "Bagging",
          "Bagging",
          "Bagging",
          "Bagging",
          "Bagging",
          "Bagging",
          "Bagging"
         ],
         "x0": " ",
         "xaxis": "x",
         "y": [
          0.5275133517544788,
          0.5262582457470757,
          0.5329184879579574,
          0.530663808392096,
          0.5375199196724605,
          0.5327153652279043,
          0.5332083431453072,
          0.5299540074491181,
          0.5326392689926498,
          0.5286559739646736
         ],
         "y0": " ",
         "yaxis": "y"
        },
        {
         "alignmentgroup": "True",
         "boxpoints": "all",
         "hovertemplate": "Machine Learning Model=%{x}<br>Weighted f1-Score=%{y}<extra></extra>",
         "legendgroup": "GBM",
         "marker": {
          "color": "#FF6692"
         },
         "name": "GBM",
         "notched": false,
         "offsetgroup": "GBM",
         "orientation": "v",
         "showlegend": true,
         "type": "box",
         "x": [
          "GBM",
          "GBM",
          "GBM",
          "GBM",
          "GBM",
          "GBM",
          "GBM",
          "GBM",
          "GBM",
          "GBM"
         ],
         "x0": " ",
         "xaxis": "x",
         "y": [
          0.5441353739471555,
          0.5470166197593085,
          0.5438445633803343,
          0.5440758616000112,
          0.541603975303429,
          0.5469897919920323,
          0.5486940445436167,
          0.5411420098538201,
          0.5439204630045,
          0.5387760020685299
         ],
         "y0": " ",
         "yaxis": "y"
        },
        {
         "alignmentgroup": "True",
         "boxpoints": "all",
         "hovertemplate": "Machine Learning Model=%{x}<br>Weighted f1-Score=%{y}<extra></extra>",
         "legendgroup": "XGB",
         "marker": {
          "color": "#B6E880"
         },
         "name": "XGB",
         "notched": false,
         "offsetgroup": "XGB",
         "orientation": "v",
         "showlegend": true,
         "type": "box",
         "x": [
          "XGB",
          "XGB",
          "XGB",
          "XGB",
          "XGB",
          "XGB",
          "XGB",
          "XGB",
          "XGB",
          "XGB"
         ],
         "x0": " ",
         "xaxis": "x",
         "y": [
          0.5559134871731306,
          0.5536083694618409,
          0.5512097489754343,
          0.5551107100753496,
          0.5516901629328173,
          0.5590246002838755,
          0.5580970876343704,
          0.5472750973416809,
          0.555179334886721,
          0.5469519120204224
         ],
         "y0": " ",
         "yaxis": "y"
        },
        {
         "alignmentgroup": "True",
         "boxpoints": "all",
         "hovertemplate": "Machine Learning Model=%{x}<br>Weighted f1-Score=%{y}<extra></extra>",
         "legendgroup": "CatBoost",
         "marker": {
          "color": "#FF97FF"
         },
         "name": "CatBoost",
         "notched": false,
         "offsetgroup": "CatBoost",
         "orientation": "v",
         "showlegend": true,
         "type": "box",
         "x": [
          "CatBoost",
          "CatBoost",
          "CatBoost",
          "CatBoost",
          "CatBoost",
          "CatBoost",
          "CatBoost",
          "CatBoost",
          "CatBoost",
          "CatBoost"
         ],
         "x0": " ",
         "xaxis": "x",
         "y": [
          0.5572887775047468,
          0.5548840542216787,
          0.555143535218354,
          0.5576191335741069,
          0.555139943217971,
          0.5621122287357855,
          0.560766905924603,
          0.549894267547524,
          0.5565083125332195,
          0.5492683442810192
         ],
         "y0": " ",
         "yaxis": "y"
        }
       ],
       "layout": {
        "boxmode": "overlay",
        "legend": {
         "title": {
          "text": "Machine Learning Model"
         },
         "tracegroupgap": 0
        },
        "template": {
         "data": {
          "bar": [
           {
            "error_x": {
             "color": "#2a3f5f"
            },
            "error_y": {
             "color": "#2a3f5f"
            },
            "marker": {
             "line": {
              "color": "#E5ECF6",
              "width": 0.5
             },
             "pattern": {
              "fillmode": "overlay",
              "size": 10,
              "solidity": 0.2
             }
            },
            "type": "bar"
           }
          ],
          "barpolar": [
           {
            "marker": {
             "line": {
              "color": "#E5ECF6",
              "width": 0.5
             },
             "pattern": {
              "fillmode": "overlay",
              "size": 10,
              "solidity": 0.2
             }
            },
            "type": "barpolar"
           }
          ],
          "carpet": [
           {
            "aaxis": {
             "endlinecolor": "#2a3f5f",
             "gridcolor": "white",
             "linecolor": "white",
             "minorgridcolor": "white",
             "startlinecolor": "#2a3f5f"
            },
            "baxis": {
             "endlinecolor": "#2a3f5f",
             "gridcolor": "white",
             "linecolor": "white",
             "minorgridcolor": "white",
             "startlinecolor": "#2a3f5f"
            },
            "type": "carpet"
           }
          ],
          "choropleth": [
           {
            "colorbar": {
             "outlinewidth": 0,
             "ticks": ""
            },
            "type": "choropleth"
           }
          ],
          "contour": [
           {
            "colorbar": {
             "outlinewidth": 0,
             "ticks": ""
            },
            "colorscale": [
             [
              0,
              "#0d0887"
             ],
             [
              0.1111111111111111,
              "#46039f"
             ],
             [
              0.2222222222222222,
              "#7201a8"
             ],
             [
              0.3333333333333333,
              "#9c179e"
             ],
             [
              0.4444444444444444,
              "#bd3786"
             ],
             [
              0.5555555555555556,
              "#d8576b"
             ],
             [
              0.6666666666666666,
              "#ed7953"
             ],
             [
              0.7777777777777778,
              "#fb9f3a"
             ],
             [
              0.8888888888888888,
              "#fdca26"
             ],
             [
              1,
              "#f0f921"
             ]
            ],
            "type": "contour"
           }
          ],
          "contourcarpet": [
           {
            "colorbar": {
             "outlinewidth": 0,
             "ticks": ""
            },
            "type": "contourcarpet"
           }
          ],
          "heatmap": [
           {
            "colorbar": {
             "outlinewidth": 0,
             "ticks": ""
            },
            "colorscale": [
             [
              0,
              "#0d0887"
             ],
             [
              0.1111111111111111,
              "#46039f"
             ],
             [
              0.2222222222222222,
              "#7201a8"
             ],
             [
              0.3333333333333333,
              "#9c179e"
             ],
             [
              0.4444444444444444,
              "#bd3786"
             ],
             [
              0.5555555555555556,
              "#d8576b"
             ],
             [
              0.6666666666666666,
              "#ed7953"
             ],
             [
              0.7777777777777778,
              "#fb9f3a"
             ],
             [
              0.8888888888888888,
              "#fdca26"
             ],
             [
              1,
              "#f0f921"
             ]
            ],
            "type": "heatmap"
           }
          ],
          "heatmapgl": [
           {
            "colorbar": {
             "outlinewidth": 0,
             "ticks": ""
            },
            "colorscale": [
             [
              0,
              "#0d0887"
             ],
             [
              0.1111111111111111,
              "#46039f"
             ],
             [
              0.2222222222222222,
              "#7201a8"
             ],
             [
              0.3333333333333333,
              "#9c179e"
             ],
             [
              0.4444444444444444,
              "#bd3786"
             ],
             [
              0.5555555555555556,
              "#d8576b"
             ],
             [
              0.6666666666666666,
              "#ed7953"
             ],
             [
              0.7777777777777778,
              "#fb9f3a"
             ],
             [
              0.8888888888888888,
              "#fdca26"
             ],
             [
              1,
              "#f0f921"
             ]
            ],
            "type": "heatmapgl"
           }
          ],
          "histogram": [
           {
            "marker": {
             "pattern": {
              "fillmode": "overlay",
              "size": 10,
              "solidity": 0.2
             }
            },
            "type": "histogram"
           }
          ],
          "histogram2d": [
           {
            "colorbar": {
             "outlinewidth": 0,
             "ticks": ""
            },
            "colorscale": [
             [
              0,
              "#0d0887"
             ],
             [
              0.1111111111111111,
              "#46039f"
             ],
             [
              0.2222222222222222,
              "#7201a8"
             ],
             [
              0.3333333333333333,
              "#9c179e"
             ],
             [
              0.4444444444444444,
              "#bd3786"
             ],
             [
              0.5555555555555556,
              "#d8576b"
             ],
             [
              0.6666666666666666,
              "#ed7953"
             ],
             [
              0.7777777777777778,
              "#fb9f3a"
             ],
             [
              0.8888888888888888,
              "#fdca26"
             ],
             [
              1,
              "#f0f921"
             ]
            ],
            "type": "histogram2d"
           }
          ],
          "histogram2dcontour": [
           {
            "colorbar": {
             "outlinewidth": 0,
             "ticks": ""
            },
            "colorscale": [
             [
              0,
              "#0d0887"
             ],
             [
              0.1111111111111111,
              "#46039f"
             ],
             [
              0.2222222222222222,
              "#7201a8"
             ],
             [
              0.3333333333333333,
              "#9c179e"
             ],
             [
              0.4444444444444444,
              "#bd3786"
             ],
             [
              0.5555555555555556,
              "#d8576b"
             ],
             [
              0.6666666666666666,
              "#ed7953"
             ],
             [
              0.7777777777777778,
              "#fb9f3a"
             ],
             [
              0.8888888888888888,
              "#fdca26"
             ],
             [
              1,
              "#f0f921"
             ]
            ],
            "type": "histogram2dcontour"
           }
          ],
          "mesh3d": [
           {
            "colorbar": {
             "outlinewidth": 0,
             "ticks": ""
            },
            "type": "mesh3d"
           }
          ],
          "parcoords": [
           {
            "line": {
             "colorbar": {
              "outlinewidth": 0,
              "ticks": ""
             }
            },
            "type": "parcoords"
           }
          ],
          "pie": [
           {
            "automargin": true,
            "type": "pie"
           }
          ],
          "scatter": [
           {
            "fillpattern": {
             "fillmode": "overlay",
             "size": 10,
             "solidity": 0.2
            },
            "type": "scatter"
           }
          ],
          "scatter3d": [
           {
            "line": {
             "colorbar": {
              "outlinewidth": 0,
              "ticks": ""
             }
            },
            "marker": {
             "colorbar": {
              "outlinewidth": 0,
              "ticks": ""
             }
            },
            "type": "scatter3d"
           }
          ],
          "scattercarpet": [
           {
            "marker": {
             "colorbar": {
              "outlinewidth": 0,
              "ticks": ""
             }
            },
            "type": "scattercarpet"
           }
          ],
          "scattergeo": [
           {
            "marker": {
             "colorbar": {
              "outlinewidth": 0,
              "ticks": ""
             }
            },
            "type": "scattergeo"
           }
          ],
          "scattergl": [
           {
            "marker": {
             "colorbar": {
              "outlinewidth": 0,
              "ticks": ""
             }
            },
            "type": "scattergl"
           }
          ],
          "scattermapbox": [
           {
            "marker": {
             "colorbar": {
              "outlinewidth": 0,
              "ticks": ""
             }
            },
            "type": "scattermapbox"
           }
          ],
          "scatterpolar": [
           {
            "marker": {
             "colorbar": {
              "outlinewidth": 0,
              "ticks": ""
             }
            },
            "type": "scatterpolar"
           }
          ],
          "scatterpolargl": [
           {
            "marker": {
             "colorbar": {
              "outlinewidth": 0,
              "ticks": ""
             }
            },
            "type": "scatterpolargl"
           }
          ],
          "scatterternary": [
           {
            "marker": {
             "colorbar": {
              "outlinewidth": 0,
              "ticks": ""
             }
            },
            "type": "scatterternary"
           }
          ],
          "surface": [
           {
            "colorbar": {
             "outlinewidth": 0,
             "ticks": ""
            },
            "colorscale": [
             [
              0,
              "#0d0887"
             ],
             [
              0.1111111111111111,
              "#46039f"
             ],
             [
              0.2222222222222222,
              "#7201a8"
             ],
             [
              0.3333333333333333,
              "#9c179e"
             ],
             [
              0.4444444444444444,
              "#bd3786"
             ],
             [
              0.5555555555555556,
              "#d8576b"
             ],
             [
              0.6666666666666666,
              "#ed7953"
             ],
             [
              0.7777777777777778,
              "#fb9f3a"
             ],
             [
              0.8888888888888888,
              "#fdca26"
             ],
             [
              1,
              "#f0f921"
             ]
            ],
            "type": "surface"
           }
          ],
          "table": [
           {
            "cells": {
             "fill": {
              "color": "#EBF0F8"
             },
             "line": {
              "color": "white"
             }
            },
            "header": {
             "fill": {
              "color": "#C8D4E3"
             },
             "line": {
              "color": "white"
             }
            },
            "type": "table"
           }
          ]
         },
         "layout": {
          "annotationdefaults": {
           "arrowcolor": "#2a3f5f",
           "arrowhead": 0,
           "arrowwidth": 1
          },
          "autotypenumbers": "strict",
          "coloraxis": {
           "colorbar": {
            "outlinewidth": 0,
            "ticks": ""
           }
          },
          "colorscale": {
           "diverging": [
            [
             0,
             "#8e0152"
            ],
            [
             0.1,
             "#c51b7d"
            ],
            [
             0.2,
             "#de77ae"
            ],
            [
             0.3,
             "#f1b6da"
            ],
            [
             0.4,
             "#fde0ef"
            ],
            [
             0.5,
             "#f7f7f7"
            ],
            [
             0.6,
             "#e6f5d0"
            ],
            [
             0.7,
             "#b8e186"
            ],
            [
             0.8,
             "#7fbc41"
            ],
            [
             0.9,
             "#4d9221"
            ],
            [
             1,
             "#276419"
            ]
           ],
           "sequential": [
            [
             0,
             "#0d0887"
            ],
            [
             0.1111111111111111,
             "#46039f"
            ],
            [
             0.2222222222222222,
             "#7201a8"
            ],
            [
             0.3333333333333333,
             "#9c179e"
            ],
            [
             0.4444444444444444,
             "#bd3786"
            ],
            [
             0.5555555555555556,
             "#d8576b"
            ],
            [
             0.6666666666666666,
             "#ed7953"
            ],
            [
             0.7777777777777778,
             "#fb9f3a"
            ],
            [
             0.8888888888888888,
             "#fdca26"
            ],
            [
             1,
             "#f0f921"
            ]
           ],
           "sequentialminus": [
            [
             0,
             "#0d0887"
            ],
            [
             0.1111111111111111,
             "#46039f"
            ],
            [
             0.2222222222222222,
             "#7201a8"
            ],
            [
             0.3333333333333333,
             "#9c179e"
            ],
            [
             0.4444444444444444,
             "#bd3786"
            ],
            [
             0.5555555555555556,
             "#d8576b"
            ],
            [
             0.6666666666666666,
             "#ed7953"
            ],
            [
             0.7777777777777778,
             "#fb9f3a"
            ],
            [
             0.8888888888888888,
             "#fdca26"
            ],
            [
             1,
             "#f0f921"
            ]
           ]
          },
          "colorway": [
           "#636efa",
           "#EF553B",
           "#00cc96",
           "#ab63fa",
           "#FFA15A",
           "#19d3f3",
           "#FF6692",
           "#B6E880",
           "#FF97FF",
           "#FECB52"
          ],
          "font": {
           "color": "#2a3f5f"
          },
          "geo": {
           "bgcolor": "white",
           "lakecolor": "white",
           "landcolor": "#E5ECF6",
           "showlakes": true,
           "showland": true,
           "subunitcolor": "white"
          },
          "hoverlabel": {
           "align": "left"
          },
          "hovermode": "closest",
          "mapbox": {
           "style": "light"
          },
          "paper_bgcolor": "white",
          "plot_bgcolor": "#E5ECF6",
          "polar": {
           "angularaxis": {
            "gridcolor": "white",
            "linecolor": "white",
            "ticks": ""
           },
           "bgcolor": "#E5ECF6",
           "radialaxis": {
            "gridcolor": "white",
            "linecolor": "white",
            "ticks": ""
           }
          },
          "scene": {
           "xaxis": {
            "backgroundcolor": "#E5ECF6",
            "gridcolor": "white",
            "gridwidth": 2,
            "linecolor": "white",
            "showbackground": true,
            "ticks": "",
            "zerolinecolor": "white"
           },
           "yaxis": {
            "backgroundcolor": "#E5ECF6",
            "gridcolor": "white",
            "gridwidth": 2,
            "linecolor": "white",
            "showbackground": true,
            "ticks": "",
            "zerolinecolor": "white"
           },
           "zaxis": {
            "backgroundcolor": "#E5ECF6",
            "gridcolor": "white",
            "gridwidth": 2,
            "linecolor": "white",
            "showbackground": true,
            "ticks": "",
            "zerolinecolor": "white"
           }
          },
          "shapedefaults": {
           "line": {
            "color": "#2a3f5f"
           }
          },
          "ternary": {
           "aaxis": {
            "gridcolor": "white",
            "linecolor": "white",
            "ticks": ""
           },
           "baxis": {
            "gridcolor": "white",
            "linecolor": "white",
            "ticks": ""
           },
           "bgcolor": "#E5ECF6",
           "caxis": {
            "gridcolor": "white",
            "linecolor": "white",
            "ticks": ""
           }
          },
          "title": {
           "x": 0.05
          },
          "xaxis": {
           "automargin": true,
           "gridcolor": "white",
           "linecolor": "white",
           "ticks": "",
           "title": {
            "standoff": 15
           },
           "zerolinecolor": "white",
           "zerolinewidth": 2
          },
          "yaxis": {
           "automargin": true,
           "gridcolor": "white",
           "linecolor": "white",
           "ticks": "",
           "title": {
            "standoff": 15
           },
           "zerolinecolor": "white",
           "zerolinewidth": 2
          }
         }
        },
        "title": {
         "text": "Model Weighted f1-Score Performance"
        },
        "xaxis": {
         "anchor": "y",
         "categoryarray": [
          "LR",
          "Tree",
          "GNB",
          "RF",
          "AdaBoost",
          "Bagging",
          "GBM",
          "XGB",
          "CatBoost"
         ],
         "categoryorder": "array",
         "domain": [
          0,
          1
         ],
         "title": {
          "text": "Machine Learning Model"
         }
        },
        "yaxis": {
         "anchor": "x",
         "domain": [
          0,
          1
         ],
         "title": {
          "text": "Weighted f1-Score"
         }
        }
       }
      },
      "text/html": [
       "<div>                            <div id=\"efae763a-15e5-4d40-bcca-698180f7076c\" class=\"plotly-graph-div\" style=\"height:525px; width:100%;\"></div>            <script type=\"text/javascript\">                require([\"plotly\"], function(Plotly) {                    window.PLOTLYENV=window.PLOTLYENV || {};                                    if (document.getElementById(\"efae763a-15e5-4d40-bcca-698180f7076c\")) {                    Plotly.newPlot(                        \"efae763a-15e5-4d40-bcca-698180f7076c\",                        [{\"alignmentgroup\":\"True\",\"boxpoints\":\"all\",\"hovertemplate\":\"Machine Learning Model=%{x}<br>Weighted f1-Score=%{y}<extra></extra>\",\"legendgroup\":\"LR\",\"marker\":{\"color\":\"#636efa\"},\"name\":\"LR\",\"notched\":false,\"offsetgroup\":\"LR\",\"orientation\":\"v\",\"showlegend\":true,\"x\":[\"LR\",\"LR\",\"LR\",\"LR\",\"LR\",\"LR\",\"LR\",\"LR\",\"LR\",\"LR\"],\"x0\":\" \",\"xaxis\":\"x\",\"y\":[0.5293368638603935,0.5309190182398593,0.527425458138028,0.5308282571075611,0.5279127738538304,0.5353988250433594,0.5323039486499455,0.5245295081251297,0.5338668679883789,0.5203035169544472],\"y0\":\" \",\"yaxis\":\"y\",\"type\":\"box\"},{\"alignmentgroup\":\"True\",\"boxpoints\":\"all\",\"hovertemplate\":\"Machine Learning Model=%{x}<br>Weighted f1-Score=%{y}<extra></extra>\",\"legendgroup\":\"Tree\",\"marker\":{\"color\":\"#EF553B\"},\"name\":\"Tree\",\"notched\":false,\"offsetgroup\":\"Tree\",\"orientation\":\"v\",\"showlegend\":true,\"x\":[\"Tree\",\"Tree\",\"Tree\",\"Tree\",\"Tree\",\"Tree\",\"Tree\",\"Tree\",\"Tree\",\"Tree\"],\"x0\":\" \",\"xaxis\":\"x\",\"y\":[0.4924138331860273,0.48919005605341526,0.49814257151540514,0.4937930367981644,0.4975645950261205,0.4916898249390311,0.4927620933160798,0.49382237613496627,0.49527553187217815,0.49229520509173275],\"y0\":\" \",\"yaxis\":\"y\",\"type\":\"box\"},{\"alignmentgroup\":\"True\",\"boxpoints\":\"all\",\"hovertemplate\":\"Machine Learning Model=%{x}<br>Weighted f1-Score=%{y}<extra></extra>\",\"legendgroup\":\"GNB\",\"marker\":{\"color\":\"#00cc96\"},\"name\":\"GNB\",\"notched\":false,\"offsetgroup\":\"GNB\",\"orientation\":\"v\",\"showlegend\":true,\"x\":[\"GNB\",\"GNB\",\"GNB\",\"GNB\",\"GNB\",\"GNB\",\"GNB\",\"GNB\",\"GNB\",\"GNB\"],\"x0\":\" \",\"xaxis\":\"x\",\"y\":[0.49021277923226114,0.48816174819698194,0.5016366850721734,0.4890656186573671,0.4937436255807292,0.4931294872578772,0.4949186105771983,0.4991549262764149,0.4883404620898014,0.4896592647365606],\"y0\":\" \",\"yaxis\":\"y\",\"type\":\"box\"},{\"alignmentgroup\":\"True\",\"boxpoints\":\"all\",\"hovertemplate\":\"Machine Learning Model=%{x}<br>Weighted f1-Score=%{y}<extra></extra>\",\"legendgroup\":\"RF\",\"marker\":{\"color\":\"#ab63fa\"},\"name\":\"RF\",\"notched\":false,\"offsetgroup\":\"RF\",\"orientation\":\"v\",\"showlegend\":true,\"x\":[\"RF\",\"RF\",\"RF\",\"RF\",\"RF\",\"RF\",\"RF\",\"RF\",\"RF\",\"RF\"],\"x0\":\" \",\"xaxis\":\"x\",\"y\":[0.5263335111516667,0.5245089472952346,0.531169246393175,0.5302359629417673,0.5338810522627804,0.5267994651299686,0.5273020361125051,0.5239230786875541,0.5299963600913936,0.5258666105906745],\"y0\":\" \",\"yaxis\":\"y\",\"type\":\"box\"},{\"alignmentgroup\":\"True\",\"boxpoints\":\"all\",\"hovertemplate\":\"Machine Learning Model=%{x}<br>Weighted f1-Score=%{y}<extra></extra>\",\"legendgroup\":\"AdaBoost\",\"marker\":{\"color\":\"#FFA15A\"},\"name\":\"AdaBoost\",\"notched\":false,\"offsetgroup\":\"AdaBoost\",\"orientation\":\"v\",\"showlegend\":true,\"x\":[\"AdaBoost\",\"AdaBoost\",\"AdaBoost\",\"AdaBoost\",\"AdaBoost\",\"AdaBoost\",\"AdaBoost\",\"AdaBoost\",\"AdaBoost\",\"AdaBoost\"],\"x0\":\" \",\"xaxis\":\"x\",\"y\":[0.5458887905205806,0.5443515434955455,0.5438014129339345,0.5457740045623706,0.544170721306452,0.5481335068557304,0.5445097441306007,0.5414457151388743,0.5476941801042945,0.5344464846537132],\"y0\":\" \",\"yaxis\":\"y\",\"type\":\"box\"},{\"alignmentgroup\":\"True\",\"boxpoints\":\"all\",\"hovertemplate\":\"Machine Learning Model=%{x}<br>Weighted f1-Score=%{y}<extra></extra>\",\"legendgroup\":\"Bagging\",\"marker\":{\"color\":\"#19d3f3\"},\"name\":\"Bagging\",\"notched\":false,\"offsetgroup\":\"Bagging\",\"orientation\":\"v\",\"showlegend\":true,\"x\":[\"Bagging\",\"Bagging\",\"Bagging\",\"Bagging\",\"Bagging\",\"Bagging\",\"Bagging\",\"Bagging\",\"Bagging\",\"Bagging\"],\"x0\":\" \",\"xaxis\":\"x\",\"y\":[0.5275133517544788,0.5262582457470757,0.5329184879579574,0.530663808392096,0.5375199196724605,0.5327153652279043,0.5332083431453072,0.5299540074491181,0.5326392689926498,0.5286559739646736],\"y0\":\" \",\"yaxis\":\"y\",\"type\":\"box\"},{\"alignmentgroup\":\"True\",\"boxpoints\":\"all\",\"hovertemplate\":\"Machine Learning Model=%{x}<br>Weighted f1-Score=%{y}<extra></extra>\",\"legendgroup\":\"GBM\",\"marker\":{\"color\":\"#FF6692\"},\"name\":\"GBM\",\"notched\":false,\"offsetgroup\":\"GBM\",\"orientation\":\"v\",\"showlegend\":true,\"x\":[\"GBM\",\"GBM\",\"GBM\",\"GBM\",\"GBM\",\"GBM\",\"GBM\",\"GBM\",\"GBM\",\"GBM\"],\"x0\":\" \",\"xaxis\":\"x\",\"y\":[0.5441353739471555,0.5470166197593085,0.5438445633803343,0.5440758616000112,0.541603975303429,0.5469897919920323,0.5486940445436167,0.5411420098538201,0.5439204630045,0.5387760020685299],\"y0\":\" \",\"yaxis\":\"y\",\"type\":\"box\"},{\"alignmentgroup\":\"True\",\"boxpoints\":\"all\",\"hovertemplate\":\"Machine Learning Model=%{x}<br>Weighted f1-Score=%{y}<extra></extra>\",\"legendgroup\":\"XGB\",\"marker\":{\"color\":\"#B6E880\"},\"name\":\"XGB\",\"notched\":false,\"offsetgroup\":\"XGB\",\"orientation\":\"v\",\"showlegend\":true,\"x\":[\"XGB\",\"XGB\",\"XGB\",\"XGB\",\"XGB\",\"XGB\",\"XGB\",\"XGB\",\"XGB\",\"XGB\"],\"x0\":\" \",\"xaxis\":\"x\",\"y\":[0.5559134871731306,0.5536083694618409,0.5512097489754343,0.5551107100753496,0.5516901629328173,0.5590246002838755,0.5580970876343704,0.5472750973416809,0.555179334886721,0.5469519120204224],\"y0\":\" \",\"yaxis\":\"y\",\"type\":\"box\"},{\"alignmentgroup\":\"True\",\"boxpoints\":\"all\",\"hovertemplate\":\"Machine Learning Model=%{x}<br>Weighted f1-Score=%{y}<extra></extra>\",\"legendgroup\":\"CatBoost\",\"marker\":{\"color\":\"#FF97FF\"},\"name\":\"CatBoost\",\"notched\":false,\"offsetgroup\":\"CatBoost\",\"orientation\":\"v\",\"showlegend\":true,\"x\":[\"CatBoost\",\"CatBoost\",\"CatBoost\",\"CatBoost\",\"CatBoost\",\"CatBoost\",\"CatBoost\",\"CatBoost\",\"CatBoost\",\"CatBoost\"],\"x0\":\" \",\"xaxis\":\"x\",\"y\":[0.5572887775047468,0.5548840542216787,0.555143535218354,0.5576191335741069,0.555139943217971,0.5621122287357855,0.560766905924603,0.549894267547524,0.5565083125332195,0.5492683442810192],\"y0\":\" \",\"yaxis\":\"y\",\"type\":\"box\"}],                        {\"template\":{\"data\":{\"histogram2dcontour\":[{\"type\":\"histogram2dcontour\",\"colorbar\":{\"outlinewidth\":0,\"ticks\":\"\"},\"colorscale\":[[0.0,\"#0d0887\"],[0.1111111111111111,\"#46039f\"],[0.2222222222222222,\"#7201a8\"],[0.3333333333333333,\"#9c179e\"],[0.4444444444444444,\"#bd3786\"],[0.5555555555555556,\"#d8576b\"],[0.6666666666666666,\"#ed7953\"],[0.7777777777777778,\"#fb9f3a\"],[0.8888888888888888,\"#fdca26\"],[1.0,\"#f0f921\"]]}],\"choropleth\":[{\"type\":\"choropleth\",\"colorbar\":{\"outlinewidth\":0,\"ticks\":\"\"}}],\"histogram2d\":[{\"type\":\"histogram2d\",\"colorbar\":{\"outlinewidth\":0,\"ticks\":\"\"},\"colorscale\":[[0.0,\"#0d0887\"],[0.1111111111111111,\"#46039f\"],[0.2222222222222222,\"#7201a8\"],[0.3333333333333333,\"#9c179e\"],[0.4444444444444444,\"#bd3786\"],[0.5555555555555556,\"#d8576b\"],[0.6666666666666666,\"#ed7953\"],[0.7777777777777778,\"#fb9f3a\"],[0.8888888888888888,\"#fdca26\"],[1.0,\"#f0f921\"]]}],\"heatmap\":[{\"type\":\"heatmap\",\"colorbar\":{\"outlinewidth\":0,\"ticks\":\"\"},\"colorscale\":[[0.0,\"#0d0887\"],[0.1111111111111111,\"#46039f\"],[0.2222222222222222,\"#7201a8\"],[0.3333333333333333,\"#9c179e\"],[0.4444444444444444,\"#bd3786\"],[0.5555555555555556,\"#d8576b\"],[0.6666666666666666,\"#ed7953\"],[0.7777777777777778,\"#fb9f3a\"],[0.8888888888888888,\"#fdca26\"],[1.0,\"#f0f921\"]]}],\"heatmapgl\":[{\"type\":\"heatmapgl\",\"colorbar\":{\"outlinewidth\":0,\"ticks\":\"\"},\"colorscale\":[[0.0,\"#0d0887\"],[0.1111111111111111,\"#46039f\"],[0.2222222222222222,\"#7201a8\"],[0.3333333333333333,\"#9c179e\"],[0.4444444444444444,\"#bd3786\"],[0.5555555555555556,\"#d8576b\"],[0.6666666666666666,\"#ed7953\"],[0.7777777777777778,\"#fb9f3a\"],[0.8888888888888888,\"#fdca26\"],[1.0,\"#f0f921\"]]}],\"contourcarpet\":[{\"type\":\"contourcarpet\",\"colorbar\":{\"outlinewidth\":0,\"ticks\":\"\"}}],\"contour\":[{\"type\":\"contour\",\"colorbar\":{\"outlinewidth\":0,\"ticks\":\"\"},\"colorscale\":[[0.0,\"#0d0887\"],[0.1111111111111111,\"#46039f\"],[0.2222222222222222,\"#7201a8\"],[0.3333333333333333,\"#9c179e\"],[0.4444444444444444,\"#bd3786\"],[0.5555555555555556,\"#d8576b\"],[0.6666666666666666,\"#ed7953\"],[0.7777777777777778,\"#fb9f3a\"],[0.8888888888888888,\"#fdca26\"],[1.0,\"#f0f921\"]]}],\"surface\":[{\"type\":\"surface\",\"colorbar\":{\"outlinewidth\":0,\"ticks\":\"\"},\"colorscale\":[[0.0,\"#0d0887\"],[0.1111111111111111,\"#46039f\"],[0.2222222222222222,\"#7201a8\"],[0.3333333333333333,\"#9c179e\"],[0.4444444444444444,\"#bd3786\"],[0.5555555555555556,\"#d8576b\"],[0.6666666666666666,\"#ed7953\"],[0.7777777777777778,\"#fb9f3a\"],[0.8888888888888888,\"#fdca26\"],[1.0,\"#f0f921\"]]}],\"mesh3d\":[{\"type\":\"mesh3d\",\"colorbar\":{\"outlinewidth\":0,\"ticks\":\"\"}}],\"scatter\":[{\"fillpattern\":{\"fillmode\":\"overlay\",\"size\":10,\"solidity\":0.2},\"type\":\"scatter\"}],\"parcoords\":[{\"type\":\"parcoords\",\"line\":{\"colorbar\":{\"outlinewidth\":0,\"ticks\":\"\"}}}],\"scatterpolargl\":[{\"type\":\"scatterpolargl\",\"marker\":{\"colorbar\":{\"outlinewidth\":0,\"ticks\":\"\"}}}],\"bar\":[{\"error_x\":{\"color\":\"#2a3f5f\"},\"error_y\":{\"color\":\"#2a3f5f\"},\"marker\":{\"line\":{\"color\":\"#E5ECF6\",\"width\":0.5},\"pattern\":{\"fillmode\":\"overlay\",\"size\":10,\"solidity\":0.2}},\"type\":\"bar\"}],\"scattergeo\":[{\"type\":\"scattergeo\",\"marker\":{\"colorbar\":{\"outlinewidth\":0,\"ticks\":\"\"}}}],\"scatterpolar\":[{\"type\":\"scatterpolar\",\"marker\":{\"colorbar\":{\"outlinewidth\":0,\"ticks\":\"\"}}}],\"histogram\":[{\"marker\":{\"pattern\":{\"fillmode\":\"overlay\",\"size\":10,\"solidity\":0.2}},\"type\":\"histogram\"}],\"scattergl\":[{\"type\":\"scattergl\",\"marker\":{\"colorbar\":{\"outlinewidth\":0,\"ticks\":\"\"}}}],\"scatter3d\":[{\"type\":\"scatter3d\",\"line\":{\"colorbar\":{\"outlinewidth\":0,\"ticks\":\"\"}},\"marker\":{\"colorbar\":{\"outlinewidth\":0,\"ticks\":\"\"}}}],\"scattermapbox\":[{\"type\":\"scattermapbox\",\"marker\":{\"colorbar\":{\"outlinewidth\":0,\"ticks\":\"\"}}}],\"scatterternary\":[{\"type\":\"scatterternary\",\"marker\":{\"colorbar\":{\"outlinewidth\":0,\"ticks\":\"\"}}}],\"scattercarpet\":[{\"type\":\"scattercarpet\",\"marker\":{\"colorbar\":{\"outlinewidth\":0,\"ticks\":\"\"}}}],\"carpet\":[{\"aaxis\":{\"endlinecolor\":\"#2a3f5f\",\"gridcolor\":\"white\",\"linecolor\":\"white\",\"minorgridcolor\":\"white\",\"startlinecolor\":\"#2a3f5f\"},\"baxis\":{\"endlinecolor\":\"#2a3f5f\",\"gridcolor\":\"white\",\"linecolor\":\"white\",\"minorgridcolor\":\"white\",\"startlinecolor\":\"#2a3f5f\"},\"type\":\"carpet\"}],\"table\":[{\"cells\":{\"fill\":{\"color\":\"#EBF0F8\"},\"line\":{\"color\":\"white\"}},\"header\":{\"fill\":{\"color\":\"#C8D4E3\"},\"line\":{\"color\":\"white\"}},\"type\":\"table\"}],\"barpolar\":[{\"marker\":{\"line\":{\"color\":\"#E5ECF6\",\"width\":0.5},\"pattern\":{\"fillmode\":\"overlay\",\"size\":10,\"solidity\":0.2}},\"type\":\"barpolar\"}],\"pie\":[{\"automargin\":true,\"type\":\"pie\"}]},\"layout\":{\"autotypenumbers\":\"strict\",\"colorway\":[\"#636efa\",\"#EF553B\",\"#00cc96\",\"#ab63fa\",\"#FFA15A\",\"#19d3f3\",\"#FF6692\",\"#B6E880\",\"#FF97FF\",\"#FECB52\"],\"font\":{\"color\":\"#2a3f5f\"},\"hovermode\":\"closest\",\"hoverlabel\":{\"align\":\"left\"},\"paper_bgcolor\":\"white\",\"plot_bgcolor\":\"#E5ECF6\",\"polar\":{\"bgcolor\":\"#E5ECF6\",\"angularaxis\":{\"gridcolor\":\"white\",\"linecolor\":\"white\",\"ticks\":\"\"},\"radialaxis\":{\"gridcolor\":\"white\",\"linecolor\":\"white\",\"ticks\":\"\"}},\"ternary\":{\"bgcolor\":\"#E5ECF6\",\"aaxis\":{\"gridcolor\":\"white\",\"linecolor\":\"white\",\"ticks\":\"\"},\"baxis\":{\"gridcolor\":\"white\",\"linecolor\":\"white\",\"ticks\":\"\"},\"caxis\":{\"gridcolor\":\"white\",\"linecolor\":\"white\",\"ticks\":\"\"}},\"coloraxis\":{\"colorbar\":{\"outlinewidth\":0,\"ticks\":\"\"}},\"colorscale\":{\"sequential\":[[0.0,\"#0d0887\"],[0.1111111111111111,\"#46039f\"],[0.2222222222222222,\"#7201a8\"],[0.3333333333333333,\"#9c179e\"],[0.4444444444444444,\"#bd3786\"],[0.5555555555555556,\"#d8576b\"],[0.6666666666666666,\"#ed7953\"],[0.7777777777777778,\"#fb9f3a\"],[0.8888888888888888,\"#fdca26\"],[1.0,\"#f0f921\"]],\"sequentialminus\":[[0.0,\"#0d0887\"],[0.1111111111111111,\"#46039f\"],[0.2222222222222222,\"#7201a8\"],[0.3333333333333333,\"#9c179e\"],[0.4444444444444444,\"#bd3786\"],[0.5555555555555556,\"#d8576b\"],[0.6666666666666666,\"#ed7953\"],[0.7777777777777778,\"#fb9f3a\"],[0.8888888888888888,\"#fdca26\"],[1.0,\"#f0f921\"]],\"diverging\":[[0,\"#8e0152\"],[0.1,\"#c51b7d\"],[0.2,\"#de77ae\"],[0.3,\"#f1b6da\"],[0.4,\"#fde0ef\"],[0.5,\"#f7f7f7\"],[0.6,\"#e6f5d0\"],[0.7,\"#b8e186\"],[0.8,\"#7fbc41\"],[0.9,\"#4d9221\"],[1,\"#276419\"]]},\"xaxis\":{\"gridcolor\":\"white\",\"linecolor\":\"white\",\"ticks\":\"\",\"title\":{\"standoff\":15},\"zerolinecolor\":\"white\",\"automargin\":true,\"zerolinewidth\":2},\"yaxis\":{\"gridcolor\":\"white\",\"linecolor\":\"white\",\"ticks\":\"\",\"title\":{\"standoff\":15},\"zerolinecolor\":\"white\",\"automargin\":true,\"zerolinewidth\":2},\"scene\":{\"xaxis\":{\"backgroundcolor\":\"#E5ECF6\",\"gridcolor\":\"white\",\"linecolor\":\"white\",\"showbackground\":true,\"ticks\":\"\",\"zerolinecolor\":\"white\",\"gridwidth\":2},\"yaxis\":{\"backgroundcolor\":\"#E5ECF6\",\"gridcolor\":\"white\",\"linecolor\":\"white\",\"showbackground\":true,\"ticks\":\"\",\"zerolinecolor\":\"white\",\"gridwidth\":2},\"zaxis\":{\"backgroundcolor\":\"#E5ECF6\",\"gridcolor\":\"white\",\"linecolor\":\"white\",\"showbackground\":true,\"ticks\":\"\",\"zerolinecolor\":\"white\",\"gridwidth\":2}},\"shapedefaults\":{\"line\":{\"color\":\"#2a3f5f\"}},\"annotationdefaults\":{\"arrowcolor\":\"#2a3f5f\",\"arrowhead\":0,\"arrowwidth\":1},\"geo\":{\"bgcolor\":\"white\",\"landcolor\":\"#E5ECF6\",\"subunitcolor\":\"white\",\"showland\":true,\"showlakes\":true,\"lakecolor\":\"white\"},\"title\":{\"x\":0.05},\"mapbox\":{\"style\":\"light\"}}},\"xaxis\":{\"anchor\":\"y\",\"domain\":[0.0,1.0],\"title\":{\"text\":\"Machine Learning Model\"},\"categoryorder\":\"array\",\"categoryarray\":[\"LR\",\"Tree\",\"GNB\",\"RF\",\"AdaBoost\",\"Bagging\",\"GBM\",\"XGB\",\"CatBoost\"]},\"yaxis\":{\"anchor\":\"x\",\"domain\":[0.0,1.0],\"title\":{\"text\":\"Weighted f1-Score\"}},\"legend\":{\"title\":{\"text\":\"Machine Learning Model\"},\"tracegroupgap\":0},\"title\":{\"text\":\"Model Weighted f1-Score Performance\"},\"boxmode\":\"overlay\"},                        {\"responsive\": true}                    ).then(function(){\n",
       "                            \n",
       "var gd = document.getElementById('efae763a-15e5-4d40-bcca-698180f7076c');\n",
       "var x = new MutationObserver(function (mutations, observer) {{\n",
       "        var display = window.getComputedStyle(gd).display;\n",
       "        if (!display || display === 'none') {{\n",
       "            console.log([gd, 'removed!']);\n",
       "            Plotly.purge(gd);\n",
       "            observer.disconnect();\n",
       "        }}\n",
       "}});\n",
       "\n",
       "// Listen for the removal of the full notebook cells\n",
       "var notebookContainer = gd.closest('#notebook-container');\n",
       "if (notebookContainer) {{\n",
       "    x.observe(notebookContainer, {childList: true});\n",
       "}}\n",
       "\n",
       "// Listen for the clearing of the current output cell\n",
       "var outputEl = gd.closest('.output');\n",
       "if (outputEl) {{\n",
       "    x.observe(outputEl, {childList: true});\n",
       "}}\n",
       "\n",
       "                        })                };                });            </script>        </div>"
      ]
     },
     "metadata": {},
     "output_type": "display_data"
    }
   ],
   "source": [
    "results['Model'] = names\n",
    "results['Accuracy'] = accuracies\n",
    "results['Weighted F1'] = weighted_f1s\n",
    "\n",
    "classifmod = pd.DataFrame(results)\n",
    "\n",
    "fig = px.box(classifmod, x=\"Model\", y=\"Weighted_F1\", color=\"Model\", points='all',\n",
    "             labels={\"Model\": \"Machine Learning Model\",\n",
    "                     \"Weighted_F1\": \"Weighted f1-Score\"},\n",
    "             title=\"Model Weighted f1-Score Performance\")\n",
    "fig.show()\n",
    "fig.write_html(\"products/plots/model_train_weighted_f1.html\")"
   ]
  },
  {
   "cell_type": "code",
   "execution_count": null,
   "metadata": {},
   "outputs": [
    {
     "data": {
      "image/png": "[encoded data removed]",
      "text/plain": [
       "<Figure size 500x500 with 1 Axes>"
      ]
     },
     "metadata": {},
     "output_type": "display_data"
    },
    {
     "data": {
      "image/png": "[encoded data removed]",
      "text/plain": [
       "<Figure size 500x500 with 1 Axes>"
      ]
     },
     "metadata": {},
     "output_type": "display_data"
    },
    {
     "data": {
      "image/png": "[encoded data removed]",
      "text/plain": [
       "<Figure size 500x500 with 1 Axes>"
      ]
     },
     "metadata": {},
     "output_type": "display_data"
    },
    {
     "data": {
      "image/png": "[encoded data removed]",
      "text/plain": [
       "<Figure size 500x500 with 1 Axes>"
      ]
     },
     "metadata": {},
     "output_type": "display_data"
    },
    {
     "data": {
      "image/png": "[encoded data removed]",
      "text/plain": [
       "<Figure size 500x500 with 1 Axes>"
      ]
     },
     "metadata": {},
     "output_type": "display_data"
    },
    {
     "data": {
      "image/png": "[encoded data removed]",
      "text/plain": [
       "<Figure size 500x500 with 1 Axes>"
      ]
     },
     "metadata": {},
     "output_type": "display_data"
    },
    {
     "data": {
      "image/png": "[encoded data removed]",
      "text/plain": [
       "<Figure size 500x500 with 1 Axes>"
      ]
     },
     "metadata": {},
     "output_type": "display_data"
    },
    {
     "data": {
      "image/png": "[encoded data removed]",
      "text/plain": [
       "<Figure size 500x500 with 1 Axes>"
      ]
     },
     "metadata": {},
     "output_type": "display_data"
    },
    {
     "data": {
      "image/png": "[encoded data removed]",
      "text/plain": [
       "<Figure size 500x500 with 1 Axes>"
      ]
     },
     "metadata": {},
     "output_type": "display_data"
    }
   ],
   "source": [
    "# Plot confusion matrices\n",
    "for name, matrix in confusion_matrices.items():\n",
    "    plt.figure(figsize=(5, 5))\n",
    "    sns.heatmap(matrix, annot=True, fmt=\"d\", cmap=\"YlGnBu\", cbar=False,\n",
    "                xticklabels=[\"Extras\", \"Dot\", \"Runs\", \"Wicket\"],\n",
    "                yticklabels=[\"Extras\", \"Dot\", \"Runs\", \"Wicket\"])\n",
    "    plt.xlabel(\"Predicted\")\n",
    "    plt.ylabel(\"Actual\")\n",
    "    plt.title(f\"Confusion Matrix - {name}\")\n",
    "    plt.savefig(f\"products/plots/confusion_matrix_{name}.png\")\n",
    "    plt.show()"
   ]
  },
  {
   "cell_type": "code",
   "execution_count": null,
   "metadata": {},
   "outputs": [],
   "source": [
    "from lightgbm import LGBMClassifier\n",
    "LGBM = LGBMClassifier()\n",
    "\n",
    "LGBM.fit(X_train, y_train)\n",
    "\n",
    "y_pred = LGBM.predict(X_test)\n",
    "\n",
    "print('Accuracy Score: ', accuracy_score(y_test, y_pred))\n",
    "\n",
    "print('Weighted F1 Score: ', f1_score(y_test, y_pred, average='weighted'))\n",
    "\n",
    "print('Classification Report: \\n', classification_report(y_test, y_pred))\n",
    "\n",
    "print('Confusion Matrix: \\n', confusion_matrix(y_test, y_pred))"
   ]
  }
 ],
 "metadata": {
  "kernelspec": {
   "display_name": "Python 3",
   "language": "python",
   "name": "python3"
  },
  "language_info": {
   "codemirror_mode": {
    "name": "ipython",
    "version": 3
   },
   "file_extension": ".py",
   "mimetype": "text/x-python",
   "name": "python",
   "nbconvert_exporter": "python",
   "pygments_lexer": "ipython3",
   "version": "3.10.11"
  }
 },
 "nbformat": 4,
 "nbformat_minor": 4
}
