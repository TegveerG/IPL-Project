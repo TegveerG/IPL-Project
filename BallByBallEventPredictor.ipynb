{
 "cells": [
  {
   "cell_type": "markdown",
   "metadata": {},
   "source": [
    "---\n",
    "title: \"Project Step II\"\n",
    "subtitle: \"Group 11 - Ball by Ball Event Predictor\"\n",
    "date: 10/17/2023\n",
    "date-modified: last-modified\n",
    "date-format: long\n",
    "format:\n",
    "  html:\n",
    "    theme: [cosmo, theme.scss]\n",
    "    toc: true\n",
    "    embed-resources: true\n",
    "    number-sections: true\n",
    "author:\n",
    "  - name: Tegveer Ghura\n",
    "    affiliations:\n",
    "      - id: gu\n",
    "        name: Georgetown University\n",
    "        city: Washington\n",
    "        state: DC\n",
    "---"
   ]
  },
  {
   "cell_type": "markdown",
   "metadata": {},
   "source": [
    "# Data Preparation "
   ]
  },
  {
   "cell_type": "markdown",
   "metadata": {},
   "source": [
    "## Import the necessary libraries"
   ]
  },
  {
   "cell_type": "code",
   "execution_count": 162,
   "metadata": {},
   "outputs": [],
   "source": [
    "import random\n",
    "\n",
    "random.seed(1310)\n",
    "from seaborn.palettes import color_palette\n",
    "import pandas as pd\n",
    "import numpy as np\n",
    "import seaborn as sns\n",
    "import matplotlib.pyplot as plt\n",
    "\n",
    "%matplotlib inline\n",
    "from sklearn.preprocessing import LabelEncoder\n",
    "import re\n",
    "import plotly.express as px\n",
    "import plotly.io as pio\n",
    "\n",
    "# pio.renderers.default = \"notebook\"\n",
    "pio.renderers.default = \"plotly_mimetype+notebook_connected\"\n",
    "from sklearn.metrics import (\n",
    "    classification_report,\n",
    "    confusion_matrix,\n",
    "    ConfusionMatrixDisplay,\n",
    ")\n",
    "from sklearn.exceptions import ConvergenceWarning\n",
    "from sklearn.exceptions import DataConversionWarning\n",
    "\n",
    "ConvergenceWarning(\"ignore\")\n",
    "DataConversionWarning(\"ignore\")\n",
    "from sklearn.model_selection import (\n",
    "    cross_val_score,\n",
    "    RepeatedKFold,\n",
    "    GridSearchCV,\n",
    "    RandomizedSearchCV,\n",
    ")\n",
    "from sklearn.linear_model import LogisticRegression\n",
    "from sklearn.tree import DecisionTreeClassifier\n",
    "from sklearn.naive_bayes import GaussianNB\n",
    "from sklearn.ensemble import (\n",
    "    GradientBoostingClassifier,\n",
    "    BaggingClassifier,\n",
    "    RandomForestClassifier,\n",
    "    StackingClassifier,\n",
    "    AdaBoostClassifier,\n",
    ")\n",
    "from xgboost import XGBClassifier\n",
    "from catboost import CatBoostClassifier\n",
    "import pickle\n",
    "import joblib\n",
    "import json\n",
    "import sys\n",
    "import os\n",
    "import shutil\n",
    "import warnings"
   ]
  },
  {
   "cell_type": "markdown",
   "metadata": {},
   "source": [
    "# Load the dataset and display the dataframe "
   ]
  },
  {
   "cell_type": "code",
   "execution_count": 163,
   "metadata": {},
   "outputs": [],
   "source": [
    "df = pd.read_csv(\"data/raw/deliveries.csv\", encoding=\"ISO-8859-1\", na_filter=False)"
   ]
  },
  {
   "cell_type": "code",
   "execution_count": 164,
   "metadata": {},
   "outputs": [
    {
     "data": {
      "text/html": [
       "<div>\n",
       "<style scoped>\n",
       "    .dataframe tbody tr th:only-of-type {\n",
       "        vertical-align: middle;\n",
       "    }\n",
       "\n",
       "    .dataframe tbody tr th {\n",
       "        vertical-align: top;\n",
       "    }\n",
       "\n",
       "    .dataframe thead th {\n",
       "        text-align: right;\n",
       "    }\n",
       "</style>\n",
       "<table border=\"1\" class=\"dataframe\">\n",
       "  <thead>\n",
       "    <tr style=\"text-align: right;\">\n",
       "      <th></th>\n",
       "      <th>season</th>\n",
       "      <th>match_id</th>\n",
       "      <th>venue</th>\n",
       "      <th>inning</th>\n",
       "      <th>batting_team</th>\n",
       "      <th>bowling_team</th>\n",
       "      <th>batsman</th>\n",
       "      <th>non_striker</th>\n",
       "      <th>bowler</th>\n",
       "      <th>ball</th>\n",
       "      <th>...</th>\n",
       "      <th>noball_runs</th>\n",
       "      <th>penalty_runs</th>\n",
       "      <th>batsman_runs</th>\n",
       "      <th>extra_runs</th>\n",
       "      <th>total_runs</th>\n",
       "      <th>player_dismissed</th>\n",
       "      <th>dismissal_kind</th>\n",
       "      <th>fielder</th>\n",
       "      <th>wickets</th>\n",
       "      <th>commentary</th>\n",
       "    </tr>\n",
       "  </thead>\n",
       "  <tbody>\n",
       "    <tr>\n",
       "      <th>0</th>\n",
       "      <td>2008</td>\n",
       "      <td>1</td>\n",
       "      <td>Bangalore</td>\n",
       "      <td>1</td>\n",
       "      <td>Kolkata Knight Riders</td>\n",
       "      <td>Royal Challengers Bangalore</td>\n",
       "      <td>SC Ganguly</td>\n",
       "      <td>BB McCullum</td>\n",
       "      <td>P Kumar</td>\n",
       "      <td>0.1</td>\n",
       "      <td>...</td>\n",
       "      <td>0</td>\n",
       "      <td>0</td>\n",
       "      <td>0</td>\n",
       "      <td>1</td>\n",
       "      <td>1</td>\n",
       "      <td></td>\n",
       "      <td></td>\n",
       "      <td></td>\n",
       "      <td>0</td>\n",
       "      <td>Kumar to Ganguly, 1 leg bye, and thats runs im...</td>\n",
       "    </tr>\n",
       "    <tr>\n",
       "      <th>1</th>\n",
       "      <td>2008</td>\n",
       "      <td>1</td>\n",
       "      <td>Bangalore</td>\n",
       "      <td>1</td>\n",
       "      <td>Kolkata Knight Riders</td>\n",
       "      <td>Royal Challengers Bangalore</td>\n",
       "      <td>BB McCullum</td>\n",
       "      <td>SC Ganguly</td>\n",
       "      <td>P Kumar</td>\n",
       "      <td>0.2</td>\n",
       "      <td>...</td>\n",
       "      <td>0</td>\n",
       "      <td>0</td>\n",
       "      <td>0</td>\n",
       "      <td>0</td>\n",
       "      <td>0</td>\n",
       "      <td></td>\n",
       "      <td></td>\n",
       "      <td></td>\n",
       "      <td>0</td>\n",
       "      <td>Kumar to McCullum, no run, this one nips back ...</td>\n",
       "    </tr>\n",
       "    <tr>\n",
       "      <th>2</th>\n",
       "      <td>2008</td>\n",
       "      <td>1</td>\n",
       "      <td>Bangalore</td>\n",
       "      <td>1</td>\n",
       "      <td>Kolkata Knight Riders</td>\n",
       "      <td>Royal Challengers Bangalore</td>\n",
       "      <td>BB McCullum</td>\n",
       "      <td>SC Ganguly</td>\n",
       "      <td>P Kumar</td>\n",
       "      <td>0.3</td>\n",
       "      <td>...</td>\n",
       "      <td>0</td>\n",
       "      <td>0</td>\n",
       "      <td>0</td>\n",
       "      <td>1</td>\n",
       "      <td>1</td>\n",
       "      <td></td>\n",
       "      <td></td>\n",
       "      <td></td>\n",
       "      <td>0</td>\n",
       "      <td>Kumar to McCullum, 1 wide, thats wide, as Prav...</td>\n",
       "    </tr>\n",
       "    <tr>\n",
       "      <th>3</th>\n",
       "      <td>2008</td>\n",
       "      <td>1</td>\n",
       "      <td>Bangalore</td>\n",
       "      <td>1</td>\n",
       "      <td>Kolkata Knight Riders</td>\n",
       "      <td>Royal Challengers Bangalore</td>\n",
       "      <td>BB McCullum</td>\n",
       "      <td>SC Ganguly</td>\n",
       "      <td>P Kumar</td>\n",
       "      <td>0.3</td>\n",
       "      <td>...</td>\n",
       "      <td>0</td>\n",
       "      <td>0</td>\n",
       "      <td>0</td>\n",
       "      <td>0</td>\n",
       "      <td>0</td>\n",
       "      <td></td>\n",
       "      <td></td>\n",
       "      <td></td>\n",
       "      <td>0</td>\n",
       "      <td>Kumar to McCullum, no run, too straight, McCul...</td>\n",
       "    </tr>\n",
       "    <tr>\n",
       "      <th>4</th>\n",
       "      <td>2008</td>\n",
       "      <td>1</td>\n",
       "      <td>Bangalore</td>\n",
       "      <td>1</td>\n",
       "      <td>Kolkata Knight Riders</td>\n",
       "      <td>Royal Challengers Bangalore</td>\n",
       "      <td>BB McCullum</td>\n",
       "      <td>SC Ganguly</td>\n",
       "      <td>P Kumar</td>\n",
       "      <td>0.4</td>\n",
       "      <td>...</td>\n",
       "      <td>0</td>\n",
       "      <td>0</td>\n",
       "      <td>0</td>\n",
       "      <td>0</td>\n",
       "      <td>0</td>\n",
       "      <td></td>\n",
       "      <td></td>\n",
       "      <td></td>\n",
       "      <td>0</td>\n",
       "      <td>Kumar to McCullum, no run, steps down the trac...</td>\n",
       "    </tr>\n",
       "  </tbody>\n",
       "</table>\n",
       "<p>5 rows × 23 columns</p>\n",
       "</div>"
      ],
      "text/plain": [
       "   season match_id      venue  inning           batting_team  \\\n",
       "0    2008        1  Bangalore       1  Kolkata Knight Riders   \n",
       "1    2008        1  Bangalore       1  Kolkata Knight Riders   \n",
       "2    2008        1  Bangalore       1  Kolkata Knight Riders   \n",
       "3    2008        1  Bangalore       1  Kolkata Knight Riders   \n",
       "4    2008        1  Bangalore       1  Kolkata Knight Riders   \n",
       "\n",
       "                  bowling_team      batsman  non_striker   bowler  ball  ...  \\\n",
       "0  Royal Challengers Bangalore   SC Ganguly  BB McCullum  P Kumar   0.1  ...   \n",
       "1  Royal Challengers Bangalore  BB McCullum   SC Ganguly  P Kumar   0.2  ...   \n",
       "2  Royal Challengers Bangalore  BB McCullum   SC Ganguly  P Kumar   0.3  ...   \n",
       "3  Royal Challengers Bangalore  BB McCullum   SC Ganguly  P Kumar   0.3  ...   \n",
       "4  Royal Challengers Bangalore  BB McCullum   SC Ganguly  P Kumar   0.4  ...   \n",
       "\n",
       "   noball_runs  penalty_runs  batsman_runs  extra_runs  total_runs  \\\n",
       "0            0             0             0           1           1   \n",
       "1            0             0             0           0           0   \n",
       "2            0             0             0           1           1   \n",
       "3            0             0             0           0           0   \n",
       "4            0             0             0           0           0   \n",
       "\n",
       "   player_dismissed  dismissal_kind  fielder wickets  \\\n",
       "0                                                  0   \n",
       "1                                                  0   \n",
       "2                                                  0   \n",
       "3                                                  0   \n",
       "4                                                  0   \n",
       "\n",
       "                                          commentary  \n",
       "0  Kumar to Ganguly, 1 leg bye, and thats runs im...  \n",
       "1  Kumar to McCullum, no run, this one nips back ...  \n",
       "2  Kumar to McCullum, 1 wide, thats wide, as Prav...  \n",
       "3  Kumar to McCullum, no run, too straight, McCul...  \n",
       "4  Kumar to McCullum, no run, steps down the trac...  \n",
       "\n",
       "[5 rows x 23 columns]"
      ]
     },
     "execution_count": 164,
     "metadata": {},
     "output_type": "execute_result"
    }
   ],
   "source": [
    "df.head()"
   ]
  },
  {
   "cell_type": "code",
   "execution_count": 165,
   "metadata": {},
   "outputs": [
    {
     "data": {
      "text/html": [
       "<div>\n",
       "<style scoped>\n",
       "    .dataframe tbody tr th:only-of-type {\n",
       "        vertical-align: middle;\n",
       "    }\n",
       "\n",
       "    .dataframe tbody tr th {\n",
       "        vertical-align: top;\n",
       "    }\n",
       "\n",
       "    .dataframe thead th {\n",
       "        text-align: right;\n",
       "    }\n",
       "</style>\n",
       "<table border=\"1\" class=\"dataframe\">\n",
       "  <thead>\n",
       "    <tr style=\"text-align: right;\">\n",
       "      <th></th>\n",
       "      <th>season</th>\n",
       "      <th>match_id</th>\n",
       "      <th>venue</th>\n",
       "      <th>inning</th>\n",
       "      <th>batting_team</th>\n",
       "      <th>bowling_team</th>\n",
       "      <th>batsman</th>\n",
       "      <th>non_striker</th>\n",
       "      <th>bowler</th>\n",
       "      <th>ball</th>\n",
       "      <th>...</th>\n",
       "      <th>noball_runs</th>\n",
       "      <th>penalty_runs</th>\n",
       "      <th>batsman_runs</th>\n",
       "      <th>extra_runs</th>\n",
       "      <th>total_runs</th>\n",
       "      <th>player_dismissed</th>\n",
       "      <th>dismissal_kind</th>\n",
       "      <th>fielder</th>\n",
       "      <th>wickets</th>\n",
       "      <th>commentary</th>\n",
       "    </tr>\n",
       "  </thead>\n",
       "  <tbody>\n",
       "    <tr>\n",
       "      <th>131996</th>\n",
       "      <td>2019</td>\n",
       "      <td>final</td>\n",
       "      <td>Hyderabad</td>\n",
       "      <td>2</td>\n",
       "      <td>Chennai Super Kings</td>\n",
       "      <td>Mumbai Indians</td>\n",
       "      <td>RA Jadeja</td>\n",
       "      <td>SR Watson</td>\n",
       "      <td>SL Malinga</td>\n",
       "      <td>19.2</td>\n",
       "      <td>...</td>\n",
       "      <td>0</td>\n",
       "      <td>0</td>\n",
       "      <td>1</td>\n",
       "      <td>0</td>\n",
       "      <td>1</td>\n",
       "      <td></td>\n",
       "      <td></td>\n",
       "      <td></td>\n",
       "      <td>5</td>\n",
       "      <td>Malinga to Jadeja, 1 run, low full toss on mid...</td>\n",
       "    </tr>\n",
       "    <tr>\n",
       "      <th>131997</th>\n",
       "      <td>2019</td>\n",
       "      <td>final</td>\n",
       "      <td>Hyderabad</td>\n",
       "      <td>2</td>\n",
       "      <td>Chennai Super Kings</td>\n",
       "      <td>Mumbai Indians</td>\n",
       "      <td>SR Watson</td>\n",
       "      <td>RA Jadeja</td>\n",
       "      <td>SL Malinga</td>\n",
       "      <td>19.3</td>\n",
       "      <td>...</td>\n",
       "      <td>0</td>\n",
       "      <td>0</td>\n",
       "      <td>2</td>\n",
       "      <td>0</td>\n",
       "      <td>2</td>\n",
       "      <td></td>\n",
       "      <td></td>\n",
       "      <td></td>\n",
       "      <td>5</td>\n",
       "      <td>Malinga to Watson, 2 runs, yorker, just outsid...</td>\n",
       "    </tr>\n",
       "    <tr>\n",
       "      <th>131998</th>\n",
       "      <td>2019</td>\n",
       "      <td>final</td>\n",
       "      <td>Hyderabad</td>\n",
       "      <td>2</td>\n",
       "      <td>Chennai Super Kings</td>\n",
       "      <td>Mumbai Indians</td>\n",
       "      <td>SR Watson</td>\n",
       "      <td>RA Jadeja</td>\n",
       "      <td>SL Malinga</td>\n",
       "      <td>19.4</td>\n",
       "      <td>...</td>\n",
       "      <td>0</td>\n",
       "      <td>0</td>\n",
       "      <td>1</td>\n",
       "      <td>0</td>\n",
       "      <td>1</td>\n",
       "      <td>SR Watson</td>\n",
       "      <td>run out</td>\n",
       "      <td>KH Pandya</td>\n",
       "      <td>6</td>\n",
       "      <td>Malinga to Watson, 1 run, OUT, yorker, just ou...</td>\n",
       "    </tr>\n",
       "    <tr>\n",
       "      <th>131999</th>\n",
       "      <td>2019</td>\n",
       "      <td>final</td>\n",
       "      <td>Hyderabad</td>\n",
       "      <td>2</td>\n",
       "      <td>Chennai Super Kings</td>\n",
       "      <td>Mumbai Indians</td>\n",
       "      <td>SN Thakur</td>\n",
       "      <td>RA Jadeja</td>\n",
       "      <td>SL Malinga</td>\n",
       "      <td>19.5</td>\n",
       "      <td>...</td>\n",
       "      <td>0</td>\n",
       "      <td>0</td>\n",
       "      <td>2</td>\n",
       "      <td>0</td>\n",
       "      <td>2</td>\n",
       "      <td></td>\n",
       "      <td></td>\n",
       "      <td></td>\n",
       "      <td>6</td>\n",
       "      <td>Malinga to Thakur, 2 runs, full toss on leg, a...</td>\n",
       "    </tr>\n",
       "    <tr>\n",
       "      <th>132000</th>\n",
       "      <td>2019</td>\n",
       "      <td>final</td>\n",
       "      <td>Hyderabad</td>\n",
       "      <td>2</td>\n",
       "      <td>Chennai Super Kings</td>\n",
       "      <td>Mumbai Indians</td>\n",
       "      <td>SN Thakur</td>\n",
       "      <td>RA Jadeja</td>\n",
       "      <td>SL Malinga</td>\n",
       "      <td>19.6</td>\n",
       "      <td>...</td>\n",
       "      <td>0</td>\n",
       "      <td>0</td>\n",
       "      <td>0</td>\n",
       "      <td>0</td>\n",
       "      <td>0</td>\n",
       "      <td>SN Thakur</td>\n",
       "      <td>lbw</td>\n",
       "      <td></td>\n",
       "      <td>7</td>\n",
       "      <td>Malinga to Thakur, OUT, Mumbai Indians win IPL...</td>\n",
       "    </tr>\n",
       "  </tbody>\n",
       "</table>\n",
       "<p>5 rows × 23 columns</p>\n",
       "</div>"
      ],
      "text/plain": [
       "        season match_id      venue  inning         batting_team  \\\n",
       "131996    2019    final  Hyderabad       2  Chennai Super Kings   \n",
       "131997    2019    final  Hyderabad       2  Chennai Super Kings   \n",
       "131998    2019    final  Hyderabad       2  Chennai Super Kings   \n",
       "131999    2019    final  Hyderabad       2  Chennai Super Kings   \n",
       "132000    2019    final  Hyderabad       2  Chennai Super Kings   \n",
       "\n",
       "          bowling_team    batsman non_striker      bowler  ball  ...  \\\n",
       "131996  Mumbai Indians  RA Jadeja   SR Watson  SL Malinga  19.2  ...   \n",
       "131997  Mumbai Indians  SR Watson   RA Jadeja  SL Malinga  19.3  ...   \n",
       "131998  Mumbai Indians  SR Watson   RA Jadeja  SL Malinga  19.4  ...   \n",
       "131999  Mumbai Indians  SN Thakur   RA Jadeja  SL Malinga  19.5  ...   \n",
       "132000  Mumbai Indians  SN Thakur   RA Jadeja  SL Malinga  19.6  ...   \n",
       "\n",
       "        noball_runs  penalty_runs  batsman_runs  extra_runs  total_runs  \\\n",
       "131996            0             0             1           0           1   \n",
       "131997            0             0             2           0           2   \n",
       "131998            0             0             1           0           1   \n",
       "131999            0             0             2           0           2   \n",
       "132000            0             0             0           0           0   \n",
       "\n",
       "        player_dismissed  dismissal_kind    fielder wickets  \\\n",
       "131996                                                    5   \n",
       "131997                                                    5   \n",
       "131998         SR Watson         run out  KH Pandya       6   \n",
       "131999                                                    6   \n",
       "132000         SN Thakur             lbw                  7   \n",
       "\n",
       "                                               commentary  \n",
       "131996  Malinga to Jadeja, 1 run, low full toss on mid...  \n",
       "131997  Malinga to Watson, 2 runs, yorker, just outsid...  \n",
       "131998  Malinga to Watson, 1 run, OUT, yorker, just ou...  \n",
       "131999  Malinga to Thakur, 2 runs, full toss on leg, a...  \n",
       "132000  Malinga to Thakur, OUT, Mumbai Indians win IPL...  \n",
       "\n",
       "[5 rows x 23 columns]"
      ]
     },
     "execution_count": 165,
     "metadata": {},
     "output_type": "execute_result"
    }
   ],
   "source": [
    "df.tail()"
   ]
  },
  {
   "cell_type": "code",
   "execution_count": 166,
   "metadata": {},
   "outputs": [
    {
     "data": {
      "text/plain": [
       "(132001, 23)"
      ]
     },
     "execution_count": 166,
     "metadata": {},
     "output_type": "execute_result"
    }
   ],
   "source": [
    "df.shape"
   ]
  },
  {
   "cell_type": "code",
   "execution_count": 167,
   "metadata": {},
   "outputs": [
    {
     "data": {
      "text/plain": [
       "Index(['season', 'match_id', 'venue', 'inning', 'batting_team', 'bowling_team',\n",
       "       'batsman', 'non_striker', 'bowler', 'ball', 'wide_runs', 'bye_runs',\n",
       "       'legbye_runs', 'noball_runs', 'penalty_runs', 'batsman_runs',\n",
       "       'extra_runs', 'total_runs', 'player_dismissed', 'dismissal_kind',\n",
       "       'fielder', 'wickets', 'commentary'],\n",
       "      dtype='object')"
      ]
     },
     "execution_count": 167,
     "metadata": {},
     "output_type": "execute_result"
    }
   ],
   "source": [
    "df.columns"
   ]
  },
  {
   "cell_type": "markdown",
   "metadata": {},
   "source": [
    "## Check for Missing Values/NAs"
   ]
  },
  {
   "cell_type": "code",
   "execution_count": 168,
   "metadata": {},
   "outputs": [
    {
     "data": {
      "text/plain": [
       "season              0\n",
       "match_id            0\n",
       "venue               0\n",
       "inning              0\n",
       "batting_team        0\n",
       "bowling_team        0\n",
       "batsman             0\n",
       "non_striker         0\n",
       "bowler              0\n",
       "ball                0\n",
       "wide_runs           0\n",
       "bye_runs            0\n",
       "legbye_runs         0\n",
       "noball_runs         0\n",
       "penalty_runs        0\n",
       "batsman_runs        0\n",
       "extra_runs          0\n",
       "total_runs          0\n",
       "player_dismissed    0\n",
       "dismissal_kind      0\n",
       "fielder             0\n",
       "wickets             0\n",
       "commentary          0\n",
       "dtype: int64"
      ]
     },
     "execution_count": 168,
     "metadata": {},
     "output_type": "execute_result"
    }
   ],
   "source": [
    "df.isna().sum()"
   ]
  },
  {
   "cell_type": "markdown",
   "metadata": {},
   "source": [
    "## Remove Unnecessary Columns"
   ]
  },
  {
   "cell_type": "code",
   "execution_count": 169,
   "metadata": {
    "scrolled": true
   },
   "outputs": [],
   "source": [
    "columns_to_remove = [\"player_dismissed\", \"fielder\", \"penalty_runs\"]\n",
    "df.drop(labels=columns_to_remove, axis=1, inplace=True)"
   ]
  },
  {
   "cell_type": "code",
   "execution_count": 170,
   "metadata": {},
   "outputs": [
    {
     "data": {
      "text/html": [
       "<div>\n",
       "<style scoped>\n",
       "    .dataframe tbody tr th:only-of-type {\n",
       "        vertical-align: middle;\n",
       "    }\n",
       "\n",
       "    .dataframe tbody tr th {\n",
       "        vertical-align: top;\n",
       "    }\n",
       "\n",
       "    .dataframe thead th {\n",
       "        text-align: right;\n",
       "    }\n",
       "</style>\n",
       "<table border=\"1\" class=\"dataframe\">\n",
       "  <thead>\n",
       "    <tr style=\"text-align: right;\">\n",
       "      <th></th>\n",
       "      <th>season</th>\n",
       "      <th>match_id</th>\n",
       "      <th>venue</th>\n",
       "      <th>inning</th>\n",
       "      <th>batting_team</th>\n",
       "      <th>bowling_team</th>\n",
       "      <th>batsman</th>\n",
       "      <th>non_striker</th>\n",
       "      <th>bowler</th>\n",
       "      <th>ball</th>\n",
       "      <th>wide_runs</th>\n",
       "      <th>bye_runs</th>\n",
       "      <th>legbye_runs</th>\n",
       "      <th>noball_runs</th>\n",
       "      <th>batsman_runs</th>\n",
       "      <th>extra_runs</th>\n",
       "      <th>total_runs</th>\n",
       "      <th>dismissal_kind</th>\n",
       "      <th>wickets</th>\n",
       "      <th>commentary</th>\n",
       "    </tr>\n",
       "  </thead>\n",
       "  <tbody>\n",
       "    <tr>\n",
       "      <th>0</th>\n",
       "      <td>2008</td>\n",
       "      <td>1</td>\n",
       "      <td>Bangalore</td>\n",
       "      <td>1</td>\n",
       "      <td>Kolkata Knight Riders</td>\n",
       "      <td>Royal Challengers Bangalore</td>\n",
       "      <td>SC Ganguly</td>\n",
       "      <td>BB McCullum</td>\n",
       "      <td>P Kumar</td>\n",
       "      <td>0.1</td>\n",
       "      <td>0</td>\n",
       "      <td>0</td>\n",
       "      <td>1</td>\n",
       "      <td>0</td>\n",
       "      <td>0</td>\n",
       "      <td>1</td>\n",
       "      <td>1</td>\n",
       "      <td></td>\n",
       "      <td>0</td>\n",
       "      <td>Kumar to Ganguly, 1 leg bye, and thats runs im...</td>\n",
       "    </tr>\n",
       "    <tr>\n",
       "      <th>1</th>\n",
       "      <td>2008</td>\n",
       "      <td>1</td>\n",
       "      <td>Bangalore</td>\n",
       "      <td>1</td>\n",
       "      <td>Kolkata Knight Riders</td>\n",
       "      <td>Royal Challengers Bangalore</td>\n",
       "      <td>BB McCullum</td>\n",
       "      <td>SC Ganguly</td>\n",
       "      <td>P Kumar</td>\n",
       "      <td>0.2</td>\n",
       "      <td>0</td>\n",
       "      <td>0</td>\n",
       "      <td>0</td>\n",
       "      <td>0</td>\n",
       "      <td>0</td>\n",
       "      <td>0</td>\n",
       "      <td>0</td>\n",
       "      <td></td>\n",
       "      <td>0</td>\n",
       "      <td>Kumar to McCullum, no run, this one nips back ...</td>\n",
       "    </tr>\n",
       "    <tr>\n",
       "      <th>2</th>\n",
       "      <td>2008</td>\n",
       "      <td>1</td>\n",
       "      <td>Bangalore</td>\n",
       "      <td>1</td>\n",
       "      <td>Kolkata Knight Riders</td>\n",
       "      <td>Royal Challengers Bangalore</td>\n",
       "      <td>BB McCullum</td>\n",
       "      <td>SC Ganguly</td>\n",
       "      <td>P Kumar</td>\n",
       "      <td>0.3</td>\n",
       "      <td>1</td>\n",
       "      <td>0</td>\n",
       "      <td>0</td>\n",
       "      <td>0</td>\n",
       "      <td>0</td>\n",
       "      <td>1</td>\n",
       "      <td>1</td>\n",
       "      <td></td>\n",
       "      <td>0</td>\n",
       "      <td>Kumar to McCullum, 1 wide, thats wide, as Prav...</td>\n",
       "    </tr>\n",
       "    <tr>\n",
       "      <th>3</th>\n",
       "      <td>2008</td>\n",
       "      <td>1</td>\n",
       "      <td>Bangalore</td>\n",
       "      <td>1</td>\n",
       "      <td>Kolkata Knight Riders</td>\n",
       "      <td>Royal Challengers Bangalore</td>\n",
       "      <td>BB McCullum</td>\n",
       "      <td>SC Ganguly</td>\n",
       "      <td>P Kumar</td>\n",
       "      <td>0.3</td>\n",
       "      <td>0</td>\n",
       "      <td>0</td>\n",
       "      <td>0</td>\n",
       "      <td>0</td>\n",
       "      <td>0</td>\n",
       "      <td>0</td>\n",
       "      <td>0</td>\n",
       "      <td></td>\n",
       "      <td>0</td>\n",
       "      <td>Kumar to McCullum, no run, too straight, McCul...</td>\n",
       "    </tr>\n",
       "    <tr>\n",
       "      <th>4</th>\n",
       "      <td>2008</td>\n",
       "      <td>1</td>\n",
       "      <td>Bangalore</td>\n",
       "      <td>1</td>\n",
       "      <td>Kolkata Knight Riders</td>\n",
       "      <td>Royal Challengers Bangalore</td>\n",
       "      <td>BB McCullum</td>\n",
       "      <td>SC Ganguly</td>\n",
       "      <td>P Kumar</td>\n",
       "      <td>0.4</td>\n",
       "      <td>0</td>\n",
       "      <td>0</td>\n",
       "      <td>0</td>\n",
       "      <td>0</td>\n",
       "      <td>0</td>\n",
       "      <td>0</td>\n",
       "      <td>0</td>\n",
       "      <td></td>\n",
       "      <td>0</td>\n",
       "      <td>Kumar to McCullum, no run, steps down the trac...</td>\n",
       "    </tr>\n",
       "  </tbody>\n",
       "</table>\n",
       "</div>"
      ],
      "text/plain": [
       "   season match_id      venue  inning           batting_team  \\\n",
       "0    2008        1  Bangalore       1  Kolkata Knight Riders   \n",
       "1    2008        1  Bangalore       1  Kolkata Knight Riders   \n",
       "2    2008        1  Bangalore       1  Kolkata Knight Riders   \n",
       "3    2008        1  Bangalore       1  Kolkata Knight Riders   \n",
       "4    2008        1  Bangalore       1  Kolkata Knight Riders   \n",
       "\n",
       "                  bowling_team      batsman  non_striker   bowler  ball  \\\n",
       "0  Royal Challengers Bangalore   SC Ganguly  BB McCullum  P Kumar   0.1   \n",
       "1  Royal Challengers Bangalore  BB McCullum   SC Ganguly  P Kumar   0.2   \n",
       "2  Royal Challengers Bangalore  BB McCullum   SC Ganguly  P Kumar   0.3   \n",
       "3  Royal Challengers Bangalore  BB McCullum   SC Ganguly  P Kumar   0.3   \n",
       "4  Royal Challengers Bangalore  BB McCullum   SC Ganguly  P Kumar   0.4   \n",
       "\n",
       "   wide_runs  bye_runs  legbye_runs  noball_runs  batsman_runs  extra_runs  \\\n",
       "0          0         0            1            0             0           1   \n",
       "1          0         0            0            0             0           0   \n",
       "2          1         0            0            0             0           1   \n",
       "3          0         0            0            0             0           0   \n",
       "4          0         0            0            0             0           0   \n",
       "\n",
       "   total_runs dismissal_kind  wickets  \\\n",
       "0           1                       0   \n",
       "1           0                       0   \n",
       "2           1                       0   \n",
       "3           0                       0   \n",
       "4           0                       0   \n",
       "\n",
       "                                          commentary  \n",
       "0  Kumar to Ganguly, 1 leg bye, and thats runs im...  \n",
       "1  Kumar to McCullum, no run, this one nips back ...  \n",
       "2  Kumar to McCullum, 1 wide, thats wide, as Prav...  \n",
       "3  Kumar to McCullum, no run, too straight, McCul...  \n",
       "4  Kumar to McCullum, no run, steps down the trac...  "
      ]
     },
     "execution_count": 170,
     "metadata": {},
     "output_type": "execute_result"
    }
   ],
   "source": [
    "df.head()"
   ]
  },
  {
   "cell_type": "markdown",
   "metadata": {},
   "source": [
    "## Feature Engineering `bowler_type`"
   ]
  },
  {
   "cell_type": "markdown",
   "metadata": {},
   "source": [
    "In the code cell below, we have created a custom list of all spin bowlers for each team. We have then modified the `bowler` column in the dataframe which will be used to identify the type of bowler, either \"spinner\" or \"pacer\". Therefore, instead of dropping the `bowler` column, we have created a new column `bowler_type` which will be used for our analysis and enhance the predictive power of our models."
   ]
  },
  {
   "cell_type": "code",
   "execution_count": 171,
   "metadata": {},
   "outputs": [],
   "source": [
    "# Replacing all spinner names with 'spinner' and all pacer names with 'pacer' under `bowler` column\n",
    "\n",
    "rcb_spin = [\n",
    "    \"SB Joshi\",\n",
    "    \"KP Appanna\",\n",
    "    \"A Kumble\",\n",
    "    \"J Arunkumar\",\n",
    "    \"Abdur Razzak\",\n",
    "    \"CL White\",\n",
    "    \"TM Dilshan\",\n",
    "    \"KP Pietersen\",\n",
    "    \"RE van der Merwe\",\n",
    "    \"S Sriram\",\n",
    "    \"DL Vettori\",\n",
    "    \"KB Arun Karthik\",\n",
    "    \"CH Gayle\",\n",
    "    \"S Sriram\",\n",
    "    \"AA Kazi\",\n",
    "    \"R Ninan\",\n",
    "    \"J Syed Mohammad\",\n",
    "    \"M Muralitharan\",\n",
    "    \"M Kartik\",\n",
    "    \"P R Barman\",\n",
    "    \"Sachin Baby\",\n",
    "    \"YS Chahal\",\n",
    "    \"Yuvraj Singh\",\n",
    "    \"SB Jakati\",\n",
    "    \"Iqbal Abdulla\",\n",
    "    \"T Shamsi\",\n",
    "    \"Parvez Rasool\",\n",
    "    \"S Baby\",\n",
    "    \"TM Head\",\n",
    "    \"KM Jadhav\",\n",
    "    \"P Negi\",\n",
    "    \"S Badree\",\n",
    "    \"Washington Sundar\",\n",
    "    \"M Ali\",\n",
    "    \"M Ashwin\",\n",
    "]\n",
    "\n",
    "mi_spin = [\n",
    "    \"A Dananjaya\",\n",
    "    \"AG Murtaza\",\n",
    "    \"A Roy\",\n",
    "    \"GJ Maxwell\",\n",
    "    \"Harbhajan Singh\",\n",
    "    \"J Suchith\",\n",
    "    \"J Yadav\",\n",
    "    \"JP Duminy\",\n",
    "    \"KH Pandya\",\n",
    "    \"KV Sharma\",\n",
    "    \"M Markande\",\n",
    "    \"N Rana\",\n",
    "    \"PP Ojha\",\n",
    "    \"RD Chahar\",\n",
    "    \"RG Sharma\",\n",
    "    \"RJ Peterson\",\n",
    "    \"RW Price\",\n",
    "    \"S Gopal\",\n",
    "    \"SD Chitnis\",\n",
    "    \"ST Jayasuriya\",\n",
    "    \"TL Suman\",\n",
    "    \"VS Yeligati\",\n",
    "]\n",
    "\n",
    "kkr_spin = [\n",
    "    \"BAW Mendis\",\n",
    "    \"BJ Hodge\",\n",
    "    \"DJ Hussey\",\n",
    "    \"GB Hogg\",\n",
    "    \"J Botha\",\n",
    "    \"KC Cariappa\",\n",
    "    \"M Kartik\",\n",
    "    \"CH Gayle\",\n",
    "    \"Iqbal Abdulla\",\n",
    "    \"Kuldeep Yadav\",\n",
    "    \"MB Parmar\",\n",
    "    \"MK Tiwary\",\n",
    "    \"Mohammad Hafeez\",\n",
    "    \"N Rana\",\n",
    "    \"PP Chawla\",\n",
    "    \"RS Gavaskar\",\n",
    "    \"S Ladda\",\n",
    "    \"Shakib Al Hasan\",\n",
    "    \"SMSM Senanayake\",\n",
    "    \"SP Narine\",\n",
    "    \"YK Pathan\",\n",
    "]\n",
    "\n",
    "csk_spin = [\n",
    "    \"DJ Hussey\",\n",
    "    \"F du Plessis\",\n",
    "    \"Harbhajan Singh\",\n",
    "    \"Imran Tahir\",\n",
    "    \"RA Jadeja\",\n",
    "    \"KV Sharma\",\n",
    "    \"M Santner\",\n",
    "    \"M Muralitharan\",\n",
    "    \"P Negi\",\n",
    "    \"R Ashwin\",\n",
    "    \"S Badree\",\n",
    "    \"S Randiv\",\n",
    "    \"S Vidyut\",\n",
    "    \"SB Jakati\",\n",
    "    \"SK Raina\",\n",
    "    \"SMSM Senanayake\",\n",
    "]\n",
    "\n",
    "dc_spin = [\n",
    "    \"A Mishra\",\n",
    "    \"AA Jhunjhunwala\",\n",
    "    \"Ankit Sharma\",\n",
    "    \"CL White\",\n",
    "    \"PP Ojha\",\n",
    "    \"DB Ravi Teja\",\n",
    "    \"JP Duminy\",\n",
    "    \"LPC Silva\",\n",
    "    \"R Sharma\",\n",
    "    \"RG Sharma\",\n",
    "    \"S Dhawan\",\n",
    "    \"Shahid Afridi\",\n",
    "    \"TL Suman\",\n",
    "    \"Y Venugopal Rao\",\n",
    "]\n",
    "\n",
    "dd_spin = [\n",
    "    \"A Mishra\",\n",
    "    \"AJ Finch\",\n",
    "    \"AR Patel\",\n",
    "    \"BMAJ Mendis\",\n",
    "    \"DL Vettori\",\n",
    "    \"GJ Maxwell\",\n",
    "    \"H Vihari\",\n",
    "    \"Imran Tahir\",\n",
    "    \"J Suchith\",\n",
    "    \"J Botha\",\n",
    "    \"J Yadav\",\n",
    "    \"JP Duminy\",\n",
    "    \"KP Pietersen\",\n",
    "    \"MK Tiwary\",\n",
    "    \"P Negi\",\n",
    "    \"R Sharma\",\n",
    "    \"R Tewatia\",\n",
    "    \"RE van der Merwe\",\n",
    "    \"S Ladda\",\n",
    "    \"S Lamichhane\",\n",
    "    \"S Nadeem\",\n",
    "    \"S Sriram\",\n",
    "    \"Shoaib Malik\",\n",
    "    \"TM Dilshan\",\n",
    "    \"Sunny Gupta\",\n",
    "    \"V Sehwag\",\n",
    "    \"Y Venugopal Rao\",\n",
    "    \"Yuvraj Singh\",\n",
    "    \"Y Nagar\",\n",
    "]\n",
    "\n",
    "srh_spin = [\n",
    "    \"A Mishra\",\n",
    "    \"Ankit Sharma\",\n",
    "    \"Bipul Sharma\",\n",
    "    \"CL White\",\n",
    "    \"DJ Hooda\",\n",
    "    \"KS Williamson\",\n",
    "    \"KV Sharma\",\n",
    "    \"Mohammad Nabi\",\n",
    "    \"Parvez Rasool\",\n",
    "    \"Rashid Khan\",\n",
    "    \"S Nadeem\",\n",
    "    \"Shakib Al Hasan\",\n",
    "    \"Y Venugopal Rao\",\n",
    "    \"YK Pathan\",\n",
    "    \"Yuvraj Singh\",\n",
    "]\n",
    "\n",
    "rr_spin = [\n",
    "    \"A Chandila\",\n",
    "    \"AA Chavan\",\n",
    "    \"AA Jhunjhunwala\",\n",
    "    \"AC Voges\",\n",
    "    \"AJ Finch\",\n",
    "    \"AL Menaria\",\n",
    "    \"Ankit Sharma\",\n",
    "    \"AS Raut\",\n",
    "    \"BJ Hodge\",\n",
    "    \"D Short\",\n",
    "    \"DJ Hooda\",\n",
    "    \"D Salunkhe\",\n",
    "    \"GB Hogg\",\n",
    "    \"I Sodhi\",\n",
    "    \"J Botha\",\n",
    "    \"K Gowtham\",\n",
    "    \"L Livingstone\",\n",
    "    \"LRPL Taylor\",\n",
    "    \"M Lomror\",\n",
    "    \"PV Tambe\",\n",
    "    \"ND Doshi\",\n",
    "    \"R Parag\",\n",
    "    \"R Tewatia\",\n",
    "    \"S Badree\",\n",
    "    \"S Gopal\",\n",
    "    \"RA Jadeja\",\n",
    "    \"S Midhun\",\n",
    "    \"SK Warne\",\n",
    "    \"YK Pathan\",\n",
    "]\n",
    "\n",
    "punj_spin = [\n",
    "    \"AC Gilchrist\",\n",
    "    \"AR Patel\",\n",
    "    \"BA Bhatt\",\n",
    "    \"Bipul Sharma\",\n",
    "    \"DJ Hussey\",\n",
    "    \"GJ Maxwell\",\n",
    "    \"Gurkeerat Singh\" \"H Brar\",\n",
    "    \"Karanveer Singh\",\n",
    "    \"KC Cariappa\",\n",
    "    \"M Ashwin\",\n",
    "    \"M Kartik\",\n",
    "    \"M Ur Rahman\",\n",
    "    \"M Vijay\",\n",
    "    \"MK Tiwary\",\n",
    "    \"P Sahu\",\n",
    "    \"PP Chawla\",\n",
    "    \"R Ashwin\",\n",
    "    \"R Tewatia\",\n",
    "    \"RR Powar\",\n",
    "    \"Shivam Sharma\",\n",
    "    \"SN Khan\",\n",
    "    \"Swapnil Singh\",\n",
    "    \"V Chakravarthy\",\n",
    "    \"Yuvraj Singh\",\n",
    "]"
   ]
  },
  {
   "cell_type": "code",
   "execution_count": 172,
   "metadata": {},
   "outputs": [],
   "source": [
    "# Replacing all spin bowlers' names with 'spinner' under `bowler` column\n",
    "\n",
    "df.loc[\n",
    "    (df.bowling_team == \"Royal Challengers Bangalore\") & (df.bowler.isin(rcb_spin)),\n",
    "    \"bowler\",\n",
    "] = \"spinner\"\n",
    "df.loc[\n",
    "    (df.bowling_team == \"Delhi Capitals\") & (df.bowler.isin(dd_spin)), \"bowler\"\n",
    "] = \"spinner\"\n",
    "df.loc[\n",
    "    (df.bowling_team == \"Delhi Daredevils\") & (df.bowler.isin(dd_spin)), \"bowler\"\n",
    "] = \"spinner\"\n",
    "df.loc[\n",
    "    (df.bowling_team == \"Mumbai Indians\") & (df.bowler.isin(mi_spin)), \"bowler\"\n",
    "] = \"spinner\"\n",
    "df.loc[\n",
    "    (df.bowling_team == \"Chennai Super Kings\") & (df.bowler.isin(csk_spin)), \"bowler\"\n",
    "] = \"spinner\"\n",
    "df.loc[\n",
    "    (df.bowling_team == \"Kings XI Punjab\") & (df.bowler.isin(punj_spin)), \"bowler\"\n",
    "] = \"spinner\"\n",
    "df.loc[\n",
    "    (df.bowling_team == \"Sunrisers Hyderabad\") & (df.bowler.isin(srh_spin)), \"bowler\"\n",
    "] = \"spinner\"\n",
    "df.loc[\n",
    "    (df.bowling_team == \"Kolkata Knight Riders\") & (df.bowler.isin(kkr_spin)), \"bowler\"\n",
    "] = \"spinner\"\n",
    "df.loc[\n",
    "    (df.bowling_team == \"Deccan Chargers\") & (df.bowler.isin(dc_spin)), \"bowler\"\n",
    "] = \"spinner\"\n",
    "df.loc[\n",
    "    (df.bowling_team == \"Rajasthan Royals\") & (df.bowler.isin(rr_spin)), \"bowler\"\n",
    "] = \"spinner\""
   ]
  },
  {
   "cell_type": "code",
   "execution_count": 173,
   "metadata": {},
   "outputs": [],
   "source": [
    "# Replacing all fast/pace bowlers' names with 'pacer' under `bowler` column\n",
    "\n",
    "l = [\"spinner\"]\n",
    "df.loc[~df.bowler.isin(l), \"bowler\"] = \"pacer\""
   ]
  },
  {
   "cell_type": "code",
   "execution_count": 174,
   "metadata": {},
   "outputs": [
    {
     "data": {
      "text/html": [
       "<div>\n",
       "<style scoped>\n",
       "    .dataframe tbody tr th:only-of-type {\n",
       "        vertical-align: middle;\n",
       "    }\n",
       "\n",
       "    .dataframe tbody tr th {\n",
       "        vertical-align: top;\n",
       "    }\n",
       "\n",
       "    .dataframe thead th {\n",
       "        text-align: right;\n",
       "    }\n",
       "</style>\n",
       "<table border=\"1\" class=\"dataframe\">\n",
       "  <thead>\n",
       "    <tr style=\"text-align: right;\">\n",
       "      <th></th>\n",
       "      <th>season</th>\n",
       "      <th>match_id</th>\n",
       "      <th>venue</th>\n",
       "      <th>inning</th>\n",
       "      <th>batting_team</th>\n",
       "      <th>bowling_team</th>\n",
       "      <th>batsman</th>\n",
       "      <th>non_striker</th>\n",
       "      <th>bowler</th>\n",
       "      <th>ball</th>\n",
       "      <th>wide_runs</th>\n",
       "      <th>bye_runs</th>\n",
       "      <th>legbye_runs</th>\n",
       "      <th>noball_runs</th>\n",
       "      <th>batsman_runs</th>\n",
       "      <th>extra_runs</th>\n",
       "      <th>total_runs</th>\n",
       "      <th>dismissal_kind</th>\n",
       "      <th>wickets</th>\n",
       "      <th>commentary</th>\n",
       "    </tr>\n",
       "  </thead>\n",
       "  <tbody>\n",
       "    <tr>\n",
       "      <th>0</th>\n",
       "      <td>2008</td>\n",
       "      <td>1</td>\n",
       "      <td>Bangalore</td>\n",
       "      <td>1</td>\n",
       "      <td>Kolkata Knight Riders</td>\n",
       "      <td>Royal Challengers Bangalore</td>\n",
       "      <td>SC Ganguly</td>\n",
       "      <td>BB McCullum</td>\n",
       "      <td>pacer</td>\n",
       "      <td>0.1</td>\n",
       "      <td>0</td>\n",
       "      <td>0</td>\n",
       "      <td>1</td>\n",
       "      <td>0</td>\n",
       "      <td>0</td>\n",
       "      <td>1</td>\n",
       "      <td>1</td>\n",
       "      <td></td>\n",
       "      <td>0</td>\n",
       "      <td>Kumar to Ganguly, 1 leg bye, and thats runs im...</td>\n",
       "    </tr>\n",
       "    <tr>\n",
       "      <th>1</th>\n",
       "      <td>2008</td>\n",
       "      <td>1</td>\n",
       "      <td>Bangalore</td>\n",
       "      <td>1</td>\n",
       "      <td>Kolkata Knight Riders</td>\n",
       "      <td>Royal Challengers Bangalore</td>\n",
       "      <td>BB McCullum</td>\n",
       "      <td>SC Ganguly</td>\n",
       "      <td>pacer</td>\n",
       "      <td>0.2</td>\n",
       "      <td>0</td>\n",
       "      <td>0</td>\n",
       "      <td>0</td>\n",
       "      <td>0</td>\n",
       "      <td>0</td>\n",
       "      <td>0</td>\n",
       "      <td>0</td>\n",
       "      <td></td>\n",
       "      <td>0</td>\n",
       "      <td>Kumar to McCullum, no run, this one nips back ...</td>\n",
       "    </tr>\n",
       "    <tr>\n",
       "      <th>2</th>\n",
       "      <td>2008</td>\n",
       "      <td>1</td>\n",
       "      <td>Bangalore</td>\n",
       "      <td>1</td>\n",
       "      <td>Kolkata Knight Riders</td>\n",
       "      <td>Royal Challengers Bangalore</td>\n",
       "      <td>BB McCullum</td>\n",
       "      <td>SC Ganguly</td>\n",
       "      <td>pacer</td>\n",
       "      <td>0.3</td>\n",
       "      <td>1</td>\n",
       "      <td>0</td>\n",
       "      <td>0</td>\n",
       "      <td>0</td>\n",
       "      <td>0</td>\n",
       "      <td>1</td>\n",
       "      <td>1</td>\n",
       "      <td></td>\n",
       "      <td>0</td>\n",
       "      <td>Kumar to McCullum, 1 wide, thats wide, as Prav...</td>\n",
       "    </tr>\n",
       "    <tr>\n",
       "      <th>3</th>\n",
       "      <td>2008</td>\n",
       "      <td>1</td>\n",
       "      <td>Bangalore</td>\n",
       "      <td>1</td>\n",
       "      <td>Kolkata Knight Riders</td>\n",
       "      <td>Royal Challengers Bangalore</td>\n",
       "      <td>BB McCullum</td>\n",
       "      <td>SC Ganguly</td>\n",
       "      <td>pacer</td>\n",
       "      <td>0.3</td>\n",
       "      <td>0</td>\n",
       "      <td>0</td>\n",
       "      <td>0</td>\n",
       "      <td>0</td>\n",
       "      <td>0</td>\n",
       "      <td>0</td>\n",
       "      <td>0</td>\n",
       "      <td></td>\n",
       "      <td>0</td>\n",
       "      <td>Kumar to McCullum, no run, too straight, McCul...</td>\n",
       "    </tr>\n",
       "    <tr>\n",
       "      <th>4</th>\n",
       "      <td>2008</td>\n",
       "      <td>1</td>\n",
       "      <td>Bangalore</td>\n",
       "      <td>1</td>\n",
       "      <td>Kolkata Knight Riders</td>\n",
       "      <td>Royal Challengers Bangalore</td>\n",
       "      <td>BB McCullum</td>\n",
       "      <td>SC Ganguly</td>\n",
       "      <td>pacer</td>\n",
       "      <td>0.4</td>\n",
       "      <td>0</td>\n",
       "      <td>0</td>\n",
       "      <td>0</td>\n",
       "      <td>0</td>\n",
       "      <td>0</td>\n",
       "      <td>0</td>\n",
       "      <td>0</td>\n",
       "      <td></td>\n",
       "      <td>0</td>\n",
       "      <td>Kumar to McCullum, no run, steps down the trac...</td>\n",
       "    </tr>\n",
       "    <tr>\n",
       "      <th>...</th>\n",
       "      <td>...</td>\n",
       "      <td>...</td>\n",
       "      <td>...</td>\n",
       "      <td>...</td>\n",
       "      <td>...</td>\n",
       "      <td>...</td>\n",
       "      <td>...</td>\n",
       "      <td>...</td>\n",
       "      <td>...</td>\n",
       "      <td>...</td>\n",
       "      <td>...</td>\n",
       "      <td>...</td>\n",
       "      <td>...</td>\n",
       "      <td>...</td>\n",
       "      <td>...</td>\n",
       "      <td>...</td>\n",
       "      <td>...</td>\n",
       "      <td>...</td>\n",
       "      <td>...</td>\n",
       "      <td>...</td>\n",
       "    </tr>\n",
       "    <tr>\n",
       "      <th>131996</th>\n",
       "      <td>2019</td>\n",
       "      <td>final</td>\n",
       "      <td>Hyderabad</td>\n",
       "      <td>2</td>\n",
       "      <td>Chennai Super Kings</td>\n",
       "      <td>Mumbai Indians</td>\n",
       "      <td>RA Jadeja</td>\n",
       "      <td>SR Watson</td>\n",
       "      <td>pacer</td>\n",
       "      <td>19.2</td>\n",
       "      <td>0</td>\n",
       "      <td>0</td>\n",
       "      <td>0</td>\n",
       "      <td>0</td>\n",
       "      <td>1</td>\n",
       "      <td>0</td>\n",
       "      <td>1</td>\n",
       "      <td></td>\n",
       "      <td>5</td>\n",
       "      <td>Malinga to Jadeja, 1 run, low full toss on mid...</td>\n",
       "    </tr>\n",
       "    <tr>\n",
       "      <th>131997</th>\n",
       "      <td>2019</td>\n",
       "      <td>final</td>\n",
       "      <td>Hyderabad</td>\n",
       "      <td>2</td>\n",
       "      <td>Chennai Super Kings</td>\n",
       "      <td>Mumbai Indians</td>\n",
       "      <td>SR Watson</td>\n",
       "      <td>RA Jadeja</td>\n",
       "      <td>pacer</td>\n",
       "      <td>19.3</td>\n",
       "      <td>0</td>\n",
       "      <td>0</td>\n",
       "      <td>0</td>\n",
       "      <td>0</td>\n",
       "      <td>2</td>\n",
       "      <td>0</td>\n",
       "      <td>2</td>\n",
       "      <td></td>\n",
       "      <td>5</td>\n",
       "      <td>Malinga to Watson, 2 runs, yorker, just outsid...</td>\n",
       "    </tr>\n",
       "    <tr>\n",
       "      <th>131998</th>\n",
       "      <td>2019</td>\n",
       "      <td>final</td>\n",
       "      <td>Hyderabad</td>\n",
       "      <td>2</td>\n",
       "      <td>Chennai Super Kings</td>\n",
       "      <td>Mumbai Indians</td>\n",
       "      <td>SR Watson</td>\n",
       "      <td>RA Jadeja</td>\n",
       "      <td>pacer</td>\n",
       "      <td>19.4</td>\n",
       "      <td>0</td>\n",
       "      <td>0</td>\n",
       "      <td>0</td>\n",
       "      <td>0</td>\n",
       "      <td>1</td>\n",
       "      <td>0</td>\n",
       "      <td>1</td>\n",
       "      <td>run out</td>\n",
       "      <td>6</td>\n",
       "      <td>Malinga to Watson, 1 run, OUT, yorker, just ou...</td>\n",
       "    </tr>\n",
       "    <tr>\n",
       "      <th>131999</th>\n",
       "      <td>2019</td>\n",
       "      <td>final</td>\n",
       "      <td>Hyderabad</td>\n",
       "      <td>2</td>\n",
       "      <td>Chennai Super Kings</td>\n",
       "      <td>Mumbai Indians</td>\n",
       "      <td>SN Thakur</td>\n",
       "      <td>RA Jadeja</td>\n",
       "      <td>pacer</td>\n",
       "      <td>19.5</td>\n",
       "      <td>0</td>\n",
       "      <td>0</td>\n",
       "      <td>0</td>\n",
       "      <td>0</td>\n",
       "      <td>2</td>\n",
       "      <td>0</td>\n",
       "      <td>2</td>\n",
       "      <td></td>\n",
       "      <td>6</td>\n",
       "      <td>Malinga to Thakur, 2 runs, full toss on leg, a...</td>\n",
       "    </tr>\n",
       "    <tr>\n",
       "      <th>132000</th>\n",
       "      <td>2019</td>\n",
       "      <td>final</td>\n",
       "      <td>Hyderabad</td>\n",
       "      <td>2</td>\n",
       "      <td>Chennai Super Kings</td>\n",
       "      <td>Mumbai Indians</td>\n",
       "      <td>SN Thakur</td>\n",
       "      <td>RA Jadeja</td>\n",
       "      <td>pacer</td>\n",
       "      <td>19.6</td>\n",
       "      <td>0</td>\n",
       "      <td>0</td>\n",
       "      <td>0</td>\n",
       "      <td>0</td>\n",
       "      <td>0</td>\n",
       "      <td>0</td>\n",
       "      <td>0</td>\n",
       "      <td>lbw</td>\n",
       "      <td>7</td>\n",
       "      <td>Malinga to Thakur, OUT, Mumbai Indians win IPL...</td>\n",
       "    </tr>\n",
       "  </tbody>\n",
       "</table>\n",
       "<p>86617 rows × 20 columns</p>\n",
       "</div>"
      ],
      "text/plain": [
       "        season match_id      venue  inning           batting_team  \\\n",
       "0         2008        1  Bangalore       1  Kolkata Knight Riders   \n",
       "1         2008        1  Bangalore       1  Kolkata Knight Riders   \n",
       "2         2008        1  Bangalore       1  Kolkata Knight Riders   \n",
       "3         2008        1  Bangalore       1  Kolkata Knight Riders   \n",
       "4         2008        1  Bangalore       1  Kolkata Knight Riders   \n",
       "...        ...      ...        ...     ...                    ...   \n",
       "131996    2019    final  Hyderabad       2    Chennai Super Kings   \n",
       "131997    2019    final  Hyderabad       2    Chennai Super Kings   \n",
       "131998    2019    final  Hyderabad       2    Chennai Super Kings   \n",
       "131999    2019    final  Hyderabad       2    Chennai Super Kings   \n",
       "132000    2019    final  Hyderabad       2    Chennai Super Kings   \n",
       "\n",
       "                       bowling_team      batsman  non_striker bowler  ball  \\\n",
       "0       Royal Challengers Bangalore   SC Ganguly  BB McCullum  pacer   0.1   \n",
       "1       Royal Challengers Bangalore  BB McCullum   SC Ganguly  pacer   0.2   \n",
       "2       Royal Challengers Bangalore  BB McCullum   SC Ganguly  pacer   0.3   \n",
       "3       Royal Challengers Bangalore  BB McCullum   SC Ganguly  pacer   0.3   \n",
       "4       Royal Challengers Bangalore  BB McCullum   SC Ganguly  pacer   0.4   \n",
       "...                             ...          ...          ...    ...   ...   \n",
       "131996               Mumbai Indians    RA Jadeja    SR Watson  pacer  19.2   \n",
       "131997               Mumbai Indians    SR Watson    RA Jadeja  pacer  19.3   \n",
       "131998               Mumbai Indians    SR Watson    RA Jadeja  pacer  19.4   \n",
       "131999               Mumbai Indians    SN Thakur    RA Jadeja  pacer  19.5   \n",
       "132000               Mumbai Indians    SN Thakur    RA Jadeja  pacer  19.6   \n",
       "\n",
       "        wide_runs  bye_runs  legbye_runs  noball_runs  batsman_runs  \\\n",
       "0               0         0            1            0             0   \n",
       "1               0         0            0            0             0   \n",
       "2               1         0            0            0             0   \n",
       "3               0         0            0            0             0   \n",
       "4               0         0            0            0             0   \n",
       "...           ...       ...          ...          ...           ...   \n",
       "131996          0         0            0            0             1   \n",
       "131997          0         0            0            0             2   \n",
       "131998          0         0            0            0             1   \n",
       "131999          0         0            0            0             2   \n",
       "132000          0         0            0            0             0   \n",
       "\n",
       "        extra_runs  total_runs dismissal_kind  wickets  \\\n",
       "0                1           1                       0   \n",
       "1                0           0                       0   \n",
       "2                1           1                       0   \n",
       "3                0           0                       0   \n",
       "4                0           0                       0   \n",
       "...            ...         ...            ...      ...   \n",
       "131996           0           1                       5   \n",
       "131997           0           2                       5   \n",
       "131998           0           1        run out        6   \n",
       "131999           0           2                       6   \n",
       "132000           0           0            lbw        7   \n",
       "\n",
       "                                               commentary  \n",
       "0       Kumar to Ganguly, 1 leg bye, and thats runs im...  \n",
       "1       Kumar to McCullum, no run, this one nips back ...  \n",
       "2       Kumar to McCullum, 1 wide, thats wide, as Prav...  \n",
       "3       Kumar to McCullum, no run, too straight, McCul...  \n",
       "4       Kumar to McCullum, no run, steps down the trac...  \n",
       "...                                                   ...  \n",
       "131996  Malinga to Jadeja, 1 run, low full toss on mid...  \n",
       "131997  Malinga to Watson, 2 runs, yorker, just outsid...  \n",
       "131998  Malinga to Watson, 1 run, OUT, yorker, just ou...  \n",
       "131999  Malinga to Thakur, 2 runs, full toss on leg, a...  \n",
       "132000  Malinga to Thakur, OUT, Mumbai Indians win IPL...  \n",
       "\n",
       "[86617 rows x 20 columns]"
      ]
     },
     "execution_count": 174,
     "metadata": {},
     "output_type": "execute_result"
    }
   ],
   "source": [
    "df.loc[df.bowler == \"pacer\"]"
   ]
  },
  {
   "cell_type": "code",
   "execution_count": 175,
   "metadata": {},
   "outputs": [
    {
     "data": {
      "text/html": [
       "<div>\n",
       "<style scoped>\n",
       "    .dataframe tbody tr th:only-of-type {\n",
       "        vertical-align: middle;\n",
       "    }\n",
       "\n",
       "    .dataframe tbody tr th {\n",
       "        vertical-align: top;\n",
       "    }\n",
       "\n",
       "    .dataframe thead th {\n",
       "        text-align: right;\n",
       "    }\n",
       "</style>\n",
       "<table border=\"1\" class=\"dataframe\">\n",
       "  <thead>\n",
       "    <tr style=\"text-align: right;\">\n",
       "      <th></th>\n",
       "      <th>season</th>\n",
       "      <th>match_id</th>\n",
       "      <th>venue</th>\n",
       "      <th>inning</th>\n",
       "      <th>batting_team</th>\n",
       "      <th>bowling_team</th>\n",
       "      <th>batsman</th>\n",
       "      <th>non_striker</th>\n",
       "      <th>bowler</th>\n",
       "      <th>ball</th>\n",
       "      <th>wide_runs</th>\n",
       "      <th>bye_runs</th>\n",
       "      <th>legbye_runs</th>\n",
       "      <th>noball_runs</th>\n",
       "      <th>batsman_runs</th>\n",
       "      <th>extra_runs</th>\n",
       "      <th>total_runs</th>\n",
       "      <th>dismissal_kind</th>\n",
       "      <th>wickets</th>\n",
       "      <th>commentary</th>\n",
       "    </tr>\n",
       "  </thead>\n",
       "  <tbody>\n",
       "    <tr>\n",
       "      <th>56</th>\n",
       "      <td>2008</td>\n",
       "      <td>1</td>\n",
       "      <td>Bangalore</td>\n",
       "      <td>1</td>\n",
       "      <td>Kolkata Knight Riders</td>\n",
       "      <td>Royal Challengers Bangalore</td>\n",
       "      <td>RT Ponting</td>\n",
       "      <td>BB McCullum</td>\n",
       "      <td>spinner</td>\n",
       "      <td>9.1</td>\n",
       "      <td>0</td>\n",
       "      <td>0</td>\n",
       "      <td>0</td>\n",
       "      <td>0</td>\n",
       "      <td>1</td>\n",
       "      <td>0</td>\n",
       "      <td>1</td>\n",
       "      <td></td>\n",
       "      <td>1</td>\n",
       "      <td>Joshi to Ponting, 1 run, some good turn, spins...</td>\n",
       "    </tr>\n",
       "    <tr>\n",
       "      <th>57</th>\n",
       "      <td>2008</td>\n",
       "      <td>1</td>\n",
       "      <td>Bangalore</td>\n",
       "      <td>1</td>\n",
       "      <td>Kolkata Knight Riders</td>\n",
       "      <td>Royal Challengers Bangalore</td>\n",
       "      <td>BB McCullum</td>\n",
       "      <td>RT Ponting</td>\n",
       "      <td>spinner</td>\n",
       "      <td>9.2</td>\n",
       "      <td>0</td>\n",
       "      <td>0</td>\n",
       "      <td>0</td>\n",
       "      <td>0</td>\n",
       "      <td>1</td>\n",
       "      <td>0</td>\n",
       "      <td>1</td>\n",
       "      <td></td>\n",
       "      <td>1</td>\n",
       "      <td>Joshi to McCullum, 1 run, too straight and fla...</td>\n",
       "    </tr>\n",
       "    <tr>\n",
       "      <th>58</th>\n",
       "      <td>2008</td>\n",
       "      <td>1</td>\n",
       "      <td>Bangalore</td>\n",
       "      <td>1</td>\n",
       "      <td>Kolkata Knight Riders</td>\n",
       "      <td>Royal Challengers Bangalore</td>\n",
       "      <td>RT Ponting</td>\n",
       "      <td>BB McCullum</td>\n",
       "      <td>spinner</td>\n",
       "      <td>9.3</td>\n",
       "      <td>0</td>\n",
       "      <td>0</td>\n",
       "      <td>0</td>\n",
       "      <td>0</td>\n",
       "      <td>1</td>\n",
       "      <td>0</td>\n",
       "      <td>1</td>\n",
       "      <td></td>\n",
       "      <td>1</td>\n",
       "      <td>Joshi to Ponting, 1 run, fired on leg again an...</td>\n",
       "    </tr>\n",
       "    <tr>\n",
       "      <th>59</th>\n",
       "      <td>2008</td>\n",
       "      <td>1</td>\n",
       "      <td>Bangalore</td>\n",
       "      <td>1</td>\n",
       "      <td>Kolkata Knight Riders</td>\n",
       "      <td>Royal Challengers Bangalore</td>\n",
       "      <td>BB McCullum</td>\n",
       "      <td>RT Ponting</td>\n",
       "      <td>spinner</td>\n",
       "      <td>9.4</td>\n",
       "      <td>0</td>\n",
       "      <td>0</td>\n",
       "      <td>0</td>\n",
       "      <td>0</td>\n",
       "      <td>0</td>\n",
       "      <td>0</td>\n",
       "      <td>0</td>\n",
       "      <td></td>\n",
       "      <td>1</td>\n",
       "      <td>Joshi to McCullum, no run, bit of flight there...</td>\n",
       "    </tr>\n",
       "    <tr>\n",
       "      <th>60</th>\n",
       "      <td>2008</td>\n",
       "      <td>1</td>\n",
       "      <td>Bangalore</td>\n",
       "      <td>1</td>\n",
       "      <td>Kolkata Knight Riders</td>\n",
       "      <td>Royal Challengers Bangalore</td>\n",
       "      <td>BB McCullum</td>\n",
       "      <td>RT Ponting</td>\n",
       "      <td>spinner</td>\n",
       "      <td>9.5</td>\n",
       "      <td>0</td>\n",
       "      <td>0</td>\n",
       "      <td>0</td>\n",
       "      <td>0</td>\n",
       "      <td>6</td>\n",
       "      <td>0</td>\n",
       "      <td>6</td>\n",
       "      <td></td>\n",
       "      <td>1</td>\n",
       "      <td>Joshi to McCullum, SIX runs, snuff is snuff, s...</td>\n",
       "    </tr>\n",
       "    <tr>\n",
       "      <th>...</th>\n",
       "      <td>...</td>\n",
       "      <td>...</td>\n",
       "      <td>...</td>\n",
       "      <td>...</td>\n",
       "      <td>...</td>\n",
       "      <td>...</td>\n",
       "      <td>...</td>\n",
       "      <td>...</td>\n",
       "      <td>...</td>\n",
       "      <td>...</td>\n",
       "      <td>...</td>\n",
       "      <td>...</td>\n",
       "      <td>...</td>\n",
       "      <td>...</td>\n",
       "      <td>...</td>\n",
       "      <td>...</td>\n",
       "      <td>...</td>\n",
       "      <td>...</td>\n",
       "      <td>...</td>\n",
       "      <td>...</td>\n",
       "    </tr>\n",
       "    <tr>\n",
       "      <th>131984</th>\n",
       "      <td>2019</td>\n",
       "      <td>final</td>\n",
       "      <td>Hyderabad</td>\n",
       "      <td>2</td>\n",
       "      <td>Chennai Super Kings</td>\n",
       "      <td>Mumbai Indians</td>\n",
       "      <td>SR Watson</td>\n",
       "      <td>DJ Bravo</td>\n",
       "      <td>spinner</td>\n",
       "      <td>17.2</td>\n",
       "      <td>0</td>\n",
       "      <td>0</td>\n",
       "      <td>0</td>\n",
       "      <td>0</td>\n",
       "      <td>6</td>\n",
       "      <td>0</td>\n",
       "      <td>6</td>\n",
       "      <td></td>\n",
       "      <td>4</td>\n",
       "      <td>KH Pandya to Watson, SIX runs, hammered! Full,...</td>\n",
       "    </tr>\n",
       "    <tr>\n",
       "      <th>131985</th>\n",
       "      <td>2019</td>\n",
       "      <td>final</td>\n",
       "      <td>Hyderabad</td>\n",
       "      <td>2</td>\n",
       "      <td>Chennai Super Kings</td>\n",
       "      <td>Mumbai Indians</td>\n",
       "      <td>SR Watson</td>\n",
       "      <td>DJ Bravo</td>\n",
       "      <td>spinner</td>\n",
       "      <td>17.3</td>\n",
       "      <td>0</td>\n",
       "      <td>0</td>\n",
       "      <td>0</td>\n",
       "      <td>0</td>\n",
       "      <td>6</td>\n",
       "      <td>0</td>\n",
       "      <td>6</td>\n",
       "      <td></td>\n",
       "      <td>4</td>\n",
       "      <td>KH Pandya to Watson, SIX runs, over Krunal's h...</td>\n",
       "    </tr>\n",
       "    <tr>\n",
       "      <th>131986</th>\n",
       "      <td>2019</td>\n",
       "      <td>final</td>\n",
       "      <td>Hyderabad</td>\n",
       "      <td>2</td>\n",
       "      <td>Chennai Super Kings</td>\n",
       "      <td>Mumbai Indians</td>\n",
       "      <td>SR Watson</td>\n",
       "      <td>DJ Bravo</td>\n",
       "      <td>spinner</td>\n",
       "      <td>17.4</td>\n",
       "      <td>0</td>\n",
       "      <td>0</td>\n",
       "      <td>0</td>\n",
       "      <td>0</td>\n",
       "      <td>6</td>\n",
       "      <td>0</td>\n",
       "      <td>6</td>\n",
       "      <td></td>\n",
       "      <td>4</td>\n",
       "      <td>KH Pandya to Watson, SIX runs, into the second...</td>\n",
       "    </tr>\n",
       "    <tr>\n",
       "      <th>131987</th>\n",
       "      <td>2019</td>\n",
       "      <td>final</td>\n",
       "      <td>Hyderabad</td>\n",
       "      <td>2</td>\n",
       "      <td>Chennai Super Kings</td>\n",
       "      <td>Mumbai Indians</td>\n",
       "      <td>SR Watson</td>\n",
       "      <td>DJ Bravo</td>\n",
       "      <td>spinner</td>\n",
       "      <td>17.5</td>\n",
       "      <td>0</td>\n",
       "      <td>0</td>\n",
       "      <td>0</td>\n",
       "      <td>0</td>\n",
       "      <td>0</td>\n",
       "      <td>0</td>\n",
       "      <td>0</td>\n",
       "      <td></td>\n",
       "      <td>4</td>\n",
       "      <td>KH Pandya to Watson, no run, full, fast, and w...</td>\n",
       "    </tr>\n",
       "    <tr>\n",
       "      <th>131988</th>\n",
       "      <td>2019</td>\n",
       "      <td>final</td>\n",
       "      <td>Hyderabad</td>\n",
       "      <td>2</td>\n",
       "      <td>Chennai Super Kings</td>\n",
       "      <td>Mumbai Indians</td>\n",
       "      <td>SR Watson</td>\n",
       "      <td>DJ Bravo</td>\n",
       "      <td>spinner</td>\n",
       "      <td>17.6</td>\n",
       "      <td>0</td>\n",
       "      <td>0</td>\n",
       "      <td>0</td>\n",
       "      <td>0</td>\n",
       "      <td>1</td>\n",
       "      <td>0</td>\n",
       "      <td>1</td>\n",
       "      <td></td>\n",
       "      <td>4</td>\n",
       "      <td>KH Pandya to Watson, 1 run, overpitched just o...</td>\n",
       "    </tr>\n",
       "  </tbody>\n",
       "</table>\n",
       "<p>45384 rows × 20 columns</p>\n",
       "</div>"
      ],
      "text/plain": [
       "        season match_id      venue  inning           batting_team  \\\n",
       "56        2008        1  Bangalore       1  Kolkata Knight Riders   \n",
       "57        2008        1  Bangalore       1  Kolkata Knight Riders   \n",
       "58        2008        1  Bangalore       1  Kolkata Knight Riders   \n",
       "59        2008        1  Bangalore       1  Kolkata Knight Riders   \n",
       "60        2008        1  Bangalore       1  Kolkata Knight Riders   \n",
       "...        ...      ...        ...     ...                    ...   \n",
       "131984    2019    final  Hyderabad       2    Chennai Super Kings   \n",
       "131985    2019    final  Hyderabad       2    Chennai Super Kings   \n",
       "131986    2019    final  Hyderabad       2    Chennai Super Kings   \n",
       "131987    2019    final  Hyderabad       2    Chennai Super Kings   \n",
       "131988    2019    final  Hyderabad       2    Chennai Super Kings   \n",
       "\n",
       "                       bowling_team      batsman  non_striker   bowler  ball  \\\n",
       "56      Royal Challengers Bangalore   RT Ponting  BB McCullum  spinner   9.1   \n",
       "57      Royal Challengers Bangalore  BB McCullum   RT Ponting  spinner   9.2   \n",
       "58      Royal Challengers Bangalore   RT Ponting  BB McCullum  spinner   9.3   \n",
       "59      Royal Challengers Bangalore  BB McCullum   RT Ponting  spinner   9.4   \n",
       "60      Royal Challengers Bangalore  BB McCullum   RT Ponting  spinner   9.5   \n",
       "...                             ...          ...          ...      ...   ...   \n",
       "131984               Mumbai Indians    SR Watson     DJ Bravo  spinner  17.2   \n",
       "131985               Mumbai Indians    SR Watson     DJ Bravo  spinner  17.3   \n",
       "131986               Mumbai Indians    SR Watson     DJ Bravo  spinner  17.4   \n",
       "131987               Mumbai Indians    SR Watson     DJ Bravo  spinner  17.5   \n",
       "131988               Mumbai Indians    SR Watson     DJ Bravo  spinner  17.6   \n",
       "\n",
       "        wide_runs  bye_runs  legbye_runs  noball_runs  batsman_runs  \\\n",
       "56              0         0            0            0             1   \n",
       "57              0         0            0            0             1   \n",
       "58              0         0            0            0             1   \n",
       "59              0         0            0            0             0   \n",
       "60              0         0            0            0             6   \n",
       "...           ...       ...          ...          ...           ...   \n",
       "131984          0         0            0            0             6   \n",
       "131985          0         0            0            0             6   \n",
       "131986          0         0            0            0             6   \n",
       "131987          0         0            0            0             0   \n",
       "131988          0         0            0            0             1   \n",
       "\n",
       "        extra_runs  total_runs dismissal_kind  wickets  \\\n",
       "56               0           1                       1   \n",
       "57               0           1                       1   \n",
       "58               0           1                       1   \n",
       "59               0           0                       1   \n",
       "60               0           6                       1   \n",
       "...            ...         ...            ...      ...   \n",
       "131984           0           6                       4   \n",
       "131985           0           6                       4   \n",
       "131986           0           6                       4   \n",
       "131987           0           0                       4   \n",
       "131988           0           1                       4   \n",
       "\n",
       "                                               commentary  \n",
       "56      Joshi to Ponting, 1 run, some good turn, spins...  \n",
       "57      Joshi to McCullum, 1 run, too straight and fla...  \n",
       "58      Joshi to Ponting, 1 run, fired on leg again an...  \n",
       "59      Joshi to McCullum, no run, bit of flight there...  \n",
       "60      Joshi to McCullum, SIX runs, snuff is snuff, s...  \n",
       "...                                                   ...  \n",
       "131984  KH Pandya to Watson, SIX runs, hammered! Full,...  \n",
       "131985  KH Pandya to Watson, SIX runs, over Krunal's h...  \n",
       "131986  KH Pandya to Watson, SIX runs, into the second...  \n",
       "131987  KH Pandya to Watson, no run, full, fast, and w...  \n",
       "131988  KH Pandya to Watson, 1 run, overpitched just o...  \n",
       "\n",
       "[45384 rows x 20 columns]"
      ]
     },
     "execution_count": 175,
     "metadata": {},
     "output_type": "execute_result"
    }
   ],
   "source": [
    "df.loc[df.bowler == \"spinner\"]"
   ]
  },
  {
   "cell_type": "code",
   "execution_count": 176,
   "metadata": {},
   "outputs": [
    {
     "data": {
      "text/plain": [
       "0"
      ]
     },
     "execution_count": 176,
     "metadata": {},
     "output_type": "execute_result"
    }
   ],
   "source": [
    "# sanity check - check for NaN values in `bowler` column\n",
    "\n",
    "df.bowler.isna().sum()"
   ]
  },
  {
   "cell_type": "markdown",
   "metadata": {},
   "source": [
    "## Feature Engineering `batsman` and `non_striker` Type"
   ]
  },
  {
   "cell_type": "markdown",
   "metadata": {},
   "source": [
    "In cricket, the batting order is the sequence in which batters play through their team's innings, there always being two batters taking part at any one time. All eleven players in a team are required to bat if the innings is completed (i.e., if the innings does not close early due to a declaration or other factor).\n",
    "\n",
    "The batting order is colloquially subdivided into:\n",
    "\n",
    "1. Top order (batters one to three)\n",
    "2. Middle order (batters four to eight)\n",
    "3. Tail enders (batters nine to eleven) \n",
    "\n",
    "In the code cell below, we have created a custom list of all top order batsman and tail enders for each team. We have then modified the `batsman` and `non_striker` columns in the dataframe which will be used to identify the type of batsman, \"top_order\", \"middle_order\" or \"tail_ender\". This column, we belive, should lend to the predictive power of our models. For example, a top order batsman is more likely to score a boundary than a tail ender, purely based on batting skill. Moreover, if given the scenario that a top order batsman bats till the last 5 overs of the game with a tail ender at the non-striker's end, the top order batsman is more likely to retain strike to maximize the number of runs scored in the last 5 overs.\n",
    "\n",
    "We deliberately chose not to take the easier route of engineering these columns column based on the `wickets` column. Doing so would induce multicollinearity in the data and, more importantly, alter the `batsman` and `non_striker` columns in a way that would compromise the integrity of our data.\n",
    "\n",
    "**Note:** It is not uncommon in cricket that an opening batsman may play in the middle order or vice-versa, given various factors such as recent form of the batsman or captain's/coach's discretion. Therefore, we have categorized individual batters with regards to their ideal batting position. For example, Robin Uthappa started off as a middle order batsman in 2008 with Mumbai Indians, but was promoted to the top order when he joined Royal Challengers Bangalore and Kolkata Knight Riders in 2010 and 2014 respectively."
   ]
  },
  {
   "cell_type": "code",
   "execution_count": 177,
   "metadata": {},
   "outputs": [],
   "source": [
    "# Creating a list of all top order batsmen and tail enders for each team\n",
    "\n",
    "rcb_top_order = [\n",
    "    \"TM Dilshan\",\n",
    "    \"KP Pietersen\",\n",
    "    \"CH Gayle\",\n",
    "    \"PA Patel\",\n",
    "    \"V Kohli\",\n",
    "    \"AB de Villiers\",\n",
    "    \"R Dravid\",\n",
    "    \"JH Kallis\",\n",
    "    \"MK Pandey\",\n",
    "    \"W Jaffer\",\n",
    "    \"S Chanderpaul\",\n",
    "    \"LRPL Taylor\",\n",
    "    \"SR Watson\",\n",
    "    \"Mandeep Singh\",\n",
    "    \"A Mukund\",\n",
    "    \"BB McCullum\",\n",
    "    \"CA Pujara\",\n",
    "    \"MA Agarwal\",\n",
    "    \"KL Rahul\",\n",
    "    \"Q de Kock\",\n",
    "    \"J Arunkumar\",\n",
    "    \"S Sriram\",\n",
    "]\n",
    "\n",
    "rcb_tail_enders = [\n",
    "    \"SB Joshi\",\n",
    "    \"KP Appanna\",\n",
    "    \"A Kumble\",\n",
    "    \"Abdur Razzak\",\n",
    "    \"DL Vettori\",\n",
    "    \"KB Arun Karthik\",\n",
    "    \"S Sriram\",\n",
    "    \"AA Kazi\",\n",
    "    \"R Ninan\",\n",
    "    \"J Syed Mohammad\",\n",
    "    \"M Muralitharan\",\n",
    "    \"M Kartik\",\n",
    "    \"P R Barman\",\n",
    "    \"YS Chahal\",\n",
    "    \"SB Jakati\",\n",
    "    \"T Shamsi\",\n",
    "    \"Parvez Rasool\",\n",
    "    \"P Kumar\",\n",
    "    \"Z Khan\",\n",
    "    \"R Vinay Kumar\",\n",
    "    \"DW Steyn\",\n",
    "    \"ND Doshi\",\n",
    "    \"DP Nannes\",\n",
    "    \"JJ van der Wath\",\n",
    "    \"S Aravind\",\n",
    "    \"S Badree\",\n",
    "    \"CK Langeveldt\",\n",
    "    \"RR Bhatkal\",\n",
    "    \"P Parameswaran\",\n",
    "    \"JD Unadkat\",\n",
    "    \"RP Singh\",\n",
    "    \"R Rampaul\",\n",
    "    \"MA Starc\",\n",
    "    \"M Ashwin\" \"AB Dinda\",\n",
    "    \"VR Aaron\",\n",
    "    \"AN Ahmed\",\n",
    "    \"AF Milne\",\n",
    "    \"KW Richardson\",\n",
    "    \"CJ Jordan\",\n",
    "    \"TS Mills\",\n",
    "    \"A Choudhary\",\n",
    "    \"B Stanlake\",\n",
    "    \"Avesh Khan\",\n",
    "    \"UT Yadav\",\n",
    "    \"K Khejroliya\",\n",
    "    \"Mohammed Siraj\",\n",
    "    \"TG Southee\",\n",
    "    \"N Saini\",\n",
    "]\n",
    "\n",
    "mi_top_order = [\n",
    "    \"N Rana\",\n",
    "    \"RG Sharma\",\n",
    "    \"ST Jayasuriya\",\n",
    "    \"SR Tendulkar\",\n",
    "    \"YV Takawale\",\n",
    "    \"AM Rahane\",\n",
    "    \"DR Smith\",\n",
    "    \"L Ronchi\",\n",
    "    \"AC Blizzard\",\n",
    "    \"RV Uthappa\",\n",
    "    \"AT Rayudu\",\n",
    "    \"DJ Jacobs\",\n",
    "    \"S Dhawan\",\n",
    "    \"SS Tiwary\",\n",
    "    \"JP Duminy\",\n",
    "    \"AP Tare\",\n",
    "    \"AJ Finch\",\n",
    "    \"E Lewis\",\n",
    "    \"Ishan Kishan\",\n",
    "    \"Q de Kock\",\n",
    "    \"AM Rahane\",\n",
    "    \"LMP Simmons\",\n",
    "    \"CM Gautam\",\n",
    "    \"C Madan\",\n",
    "    \"PA Patel\",\n",
    "    \"BR Dunk\",\n",
    "    \"JC Buttler\",\n",
    "    \"SM Pollock\",\n",
    "    \"AS Yadav\",\n",
    "    \"HH Gibbs\",\n",
    "    \"UBT Chand\",\n",
    "    \"GJ Maxwell\",\n",
    "    \"MJ Guptill\",\n",
    "    \"RE Levi\",\n",
    "]\n",
    "\n",
    "mi_tail_enders = [\n",
    "    \"A Dananjaya\",\n",
    "    \"AG Murtaza\",\n",
    "    \"Harbhajan Singh\",\n",
    "    \"J Yadav\",\n",
    "    \"M Markande\",\n",
    "    \"PP Ojha\",\n",
    "    \"RD Chahar\",\n",
    "    \"RW Price\",\n",
    "    \"VS Yeligati\",\n",
    "    \"Z Khan\",\n",
    "    \"SL Malinga\",\n",
    "    \"JJ Bumrah\",\n",
    "    \"MG Johnson\",\n",
    "    \"P Suyal\",\n",
    "    \"A Nehra\",\n",
    "    \"DS Kulkarni\",\n",
    "    \"MA Khote\",\n",
    "    \"CRD Fernando\",\n",
    "    \"DJ Thornely\",\n",
    "    \"RR Raje\",\n",
    "    \"DR Smith\",\n",
    "    \"RP Singh\",\n",
    "    \"CJ McKay\",\n",
    "    \"NLTC Perera\",\n",
    "    \"R Shukla\",\n",
    "    \"A Nel\",\n",
    "    \"Z Khan\",\n",
    "    \"R McLaren\",\n",
    "    \"AN Ahmed\",\n",
    "    \"MM Patel\",\n",
    "    \"YS Chahal\",\n",
    "    \"P Kumar\",\n",
    "    \"K Santokie\",\n",
    "    \"M de Lange\",\n",
    "    \"R Vinay Kumar\",\n",
    "    \"MJ McClenaghan\",\n",
    "    \"TG Southee\",\n",
    "    \"Mustafizur Rahman\",\n",
    "    \"PJ Sangwan\",\n",
    "    \"R Salam\",\n",
    "    \"J Behrendorff\",\n",
    "    \"A Joseph\",\n",
    "    \"BB Sran\",\n",
    "]\n",
    "\n",
    "kkr_top_order = [\n",
    "    \"SC Ganguly\",\n",
    "    \"BB McCullum\",\n",
    "    \"RT Ponting\",\n",
    "    \"WP Saha\",\n",
    "    \"Salman Butt\",\n",
    "    \"AB Agarkar\",\n",
    "    \"Mohammad Hafeez\",\n",
    "    \"A Chopra\",\n",
    "    \"BJ Hodge\",\n",
    "    \"MK Tiwary\",\n",
    "    \"CA Pujara\",\n",
    "    \"CH Gayle\",\n",
    "    \"OA Shah\",\n",
    "    \"Mandeep Singh\",\n",
    "    \"AD Mathews\",\n",
    "    \"DJ Hussey\",\n",
    "    \"MS Bisla\",\n",
    "    \"JH Kallis\",\n",
    "    \"YK Pathan\",\n",
    "    \"G Gambhir\",\n",
    "    \"BJ Haddin\",\n",
    "    \"SP Goswami\",\n",
    "    \"EJG Morgan\",\n",
    "    \"RV Uthappa\",\n",
    "    \"MK Pandey\",\n",
    "    \"CA Lynn\",\n",
    "    \"C Munro\",\n",
    "    \"SP Narine\",\n",
    "    \"N Rana\",\n",
    "    \"S Gill\",\n",
    "    \"N Naik\",\n",
    "    \"J Denly\",\n",
    "]\n",
    "\n",
    "kkr_tail_enders = [\n",
    "    \"BAW Mendis\",\n",
    "    \"GB Hogg\",\n",
    "    \"KC Cariappa\",\n",
    "    \"M Kartik\",\n",
    "    \"Kuldeep Yadav\",\n",
    "    \"MB Parmar\",\n",
    "    \"R Vinay Kumar\",\n",
    "    \"PP Chawla\",\n",
    "    \"SMSM Senanayake\",\n",
    "    \"AB Dinda\",\n",
    "    \"I Sharma\",\n",
    "    \"AB Agarkar\",\n",
    "    \"Umar Gul\",\n",
    "    \"Shoaib Akhtar\",\n",
    "    \"CK Langeveldt\",\n",
    "    \"SE Bond\",\n",
    "    \"JD Unadkat\",\n",
    "    \"L Balaji\",\n",
    "    \"B Lee\",\n",
    "    \"M de Lange\",\n",
    "    \"PJ Sangwan\",\n",
    "    \"M Morkel\",\n",
    "    \"Mohammed Shami\",\n",
    "    \"R McLaren\",\n",
    "    \"Shami Ahmed\",\n",
    "    \"AS Rajpoot\",\n",
    "    \"TA Boult\",\n",
    "    \"MG Johnson\",\n",
    "    \"T Curran\",\n",
    "    \"S Mavi\",\n",
    "    \"P Krishna\",\n",
    "    \"J Searles\",\n",
    "    \"L Ferguson\",\n",
    "    \"H Gurney\",\n",
    "    \"P Raj\",\n",
    "    \"S Warrier\",\n",
    "    \"UT Yadav\",\n",
    "]\n",
    "\n",
    "csk_top_order = [\n",
    "    \"F du Plessis\",\n",
    "    \"SK Raina\",\n",
    "    \"M Vijay\",\n",
    "    \"ML Hayden\",\n",
    "    \"PA Patel\",\n",
    "    \"MEK Hussey\",\n",
    "    \"BB McCullum\",\n",
    "    \"S Vidyut\",\n",
    "    \"AT Rayudu\",\n",
    "    \"SP Fleming\",\n",
    "    \"DR Smith\",\n",
    "    \"S Anirudha\",\n",
    "    \"WP Saha\",\n",
    "    \"SR Watson\",\n",
    "    \"GJ Bailey\",\n",
    "]\n",
    "\n",
    "csk_tail_enders = [\n",
    "    \"Imran Tahir\",\n",
    "    \"M Muralitharan\",\n",
    "    \"R Ashwin\",\n",
    "    \"S Badree\",\n",
    "    \"S Randiv\",\n",
    "    \"S Vidyut\",\n",
    "    \"SB Jakati\",\n",
    "    \"P Amarnath\",\n",
    "    \"Joginder Sharma\",\n",
    "    \"M Ntini\",\n",
    "    \"L Balaji\",\n",
    "    \"S Tyagi\",\n",
    "    \"NLTC Perera\",\n",
    "    \"C Ganapathy\",\n",
    "    \"DE Bollinger\",\n",
    "    \"TG Southee\",\n",
    "    \"VY Mahesh\",\n",
    "    \"BW Hilfenhaus\",\n",
    "    \"DP Nannes\",\n",
    "    \"AS Rajpoot\",\n",
    "    \"B Laughlin\",\n",
    "    \"MM Sharma\",\n",
    "    \"IC Pandey\",\n",
    "    \"V Shankar\",\n",
    "    \"A Nehra\",\n",
    "    \"RG More\",\n",
    "    \"DL Chahar\",\n",
    "    \"M Wood\",\n",
    "    \"L Ngidi\",\n",
    "    \"KM Asif\",\n",
    "    \"S Kuggeleijn\",\n",
    "]\n",
    "\n",
    "dc_top_order = [\n",
    "    \"AC Gilchrist\",\n",
    "    \"VVS Laxman\",\n",
    "    \"HH Gibbs\",\n",
    "    \"LPC Silva\",\n",
    "    \"SB Styris\",\n",
    "    \"MD Mishra\",\n",
    "    \"TL Suman\",\n",
    "    \"Anirudh Singh\",\n",
    "    \"S Dhawan\",\n",
    "    \"IR Jaggi\",\n",
    "    \"KC Sangakkara\",\n",
    "    \"S Sohal\",\n",
    "    \"MJ Lumb\",\n",
    "    \"DJ Harris\",\n",
    "    \"PA Patel\",\n",
    "    \"PA Reddy\",\n",
    "]\n",
    "\n",
    "dc_tail_enders = [\n",
    "    \"A Mishra\",\n",
    "    \"Ankit Sharma\",\n",
    "    \"PP Ojha\",\n",
    "    \"WPUJC Vaas\",\n",
    "    \"RP Singh\",\n",
    "    \"D Kalyankrishna\",\n",
    "    \"DP Vijaykumar\",\n",
    "    \"PM Sarvesh Kumar\",\n",
    "    \"Jaskaran Singh\",\n",
    "    \"KAJ Roach\",\n",
    "    \"Harmeet Singh\",\n",
    "    \"RJ Harris\",\n",
    "    \"DW Steyn\",\n",
    "    \"I Sharma\",\n",
    "    \"Anand Rajan\",\n",
    "    \"DJ Harris\",\n",
    "    \"TP Sudhindra\",\n",
    "    \"V Pratap Singh\",\n",
    "    \"J Theron\",\n",
    "]\n",
    "\n",
    "dd_top_order = [\n",
    "    \"G Gambhir\",\n",
    "    \"V Sehwag\",\n",
    "    \"S Dhawan\",\n",
    "    \"AB de Villiers\",\n",
    "    \"TM Dilshan\",\n",
    "    \"DA Warner\",\n",
    "    \"KD Karthik\",\n",
    "    \"UBT Chand\",\n",
    "    \"AJ Finch\",\n",
    "    \"NV Ojha\",\n",
    "    \"CA Ingram\",\n",
    "    \"KP Pietersen\",\n",
    "    \"DPMD Jayawardene\",\n",
    "    \"MC Juneja\",\n",
    "    \"Q de Kock\",\n",
    "    \"M Vijay\",\n",
    "    \"MA Agarwal\",\n",
    "    \"SS Iyer\",\n",
    "    \"JP Duminy\",\n",
    "    \"MK Tiwary\",\n",
    "    \"SV Samson\",\n",
    "    \"KK Nair\",\n",
    "    \"AP Tare\",\n",
    "    \"C Munro\",\n",
    "    \"JJ Roy\",\n",
    "    \"P Shaw\",\n",
    "    \"S Dhawan\",\n",
    "]\n",
    "\n",
    "dd_tail_enders = [\n",
    "    \"A Mishra\",\n",
    "    \"Imran Tahir\",\n",
    "    \"J Yadav\",\n",
    "    \"R Sharma\",\n",
    "    \"S Lamichhane\",\n",
    "    \"S Nadeem\",\n",
    "    \"S Sriram\",\n",
    "    \"Sunny Gupta\",\n",
    "    \"GD McGrath\",\n",
    "    \"B Geeves\",\n",
    "    \"Mohammad Asif\",\n",
    "    \"VY Mahesh\",\n",
    "    \"PJ Sangwan\",\n",
    "    \"DP Nannes\",\n",
    "    \"UT Yadav\",\n",
    "    \"Y Nagar\",\n",
    "    \"A Nehra\",\n",
    "    \"AB Dinda\",\n",
    "    \"M Morkel\",\n",
    "    \"S Nadeem\",\n",
    "    \"VR Aaron\",\n",
    "    \"AM Salvi\",\n",
    "    \"DAJ Bracewell\",\n",
    "    \"Sunny Gupta\",\n",
    "    \"S Kaul\",\n",
    "    \"Mohammed Shami\",\n",
    "    \"WD Parnell\",\n",
    "    \"JD Unadkat\",\n",
    "    \"R Sharma\",\n",
    "    \"JA Morkel\",\n",
    "    \"DJ Muthuswami\",\n",
    "    \"Z Khan\",\n",
    "    \"GS Sandhu\",\n",
    "    \"J Yadav\",\n",
    "    \"K Rabada\",\n",
    "    \"TA Boult\",\n",
    "    \"Avesh Khan\",\n",
    "    \"L Plunkett\",\n",
    "    \"J Dala\",\n",
    "]\n",
    "\n",
    "srh_top_order = [\n",
    "    \"PA Reddy\",\n",
    "    \"PA Patel\",\n",
    "    \"CL White\",\n",
    "    \"KC Sangakkara\",\n",
    "    \"Q de Kock\",\n",
    "    \"GH Vihari\",\n",
    "    \"S Dhawan\",\n",
    "    \"A Ashish Reddy\",\n",
    "    \"AJ Finch\",\n",
    "    \"KL Rahul\",\n",
    "    \"NV Ojha\",\n",
    "    \"DA Warner\",\n",
    "    \"KS Williamson\",\n",
    "    \"RS Bopara\",\n",
    "    \"MC Henriques\",\n",
    "    \"DJ Hooda\",\n",
    "    \"WP Saha\",\n",
    "    \"R Bhui\",\n",
    "    \"MK Pandey\",\n",
    "    \"A Hales\",\n",
    "    \"SP Goswami\",\n",
    "    \"J Bairstow\",\n",
    "    \"V Shankar\",\n",
    "    \"MJ Guptill\",\n",
    "]\n",
    "\n",
    "srh_tail_enders = [\n",
    "    \"DW Steyn\",\n",
    "    \"I Sharma\",\n",
    "    \"A Ashish Reddy\",\n",
    "    \"Anand Rajan\",\n",
    "    \"B Kumar\",\n",
    "    \"TA Boult\",\n",
    "    \"Sandeep Sharma\",\n",
    "    \"P Kumar\",\n",
    "    \"A Nehra\",\n",
    "    \"Mustafizur Rahman\",\n",
    "    \"BB Sran\",\n",
    "    \"S Kaul\",\n",
    "    \"Mohammed Siraj\",\n",
    "    \"B Stanlake\",\n",
    "    \"Basil Thampi\",\n",
    "    \"K Ahmed\",\n",
    "    \"S Sharma\",\n",
    "    \"A Mishra\",\n",
    "    \"Ankit Sharma\",\n",
    "    \"Parvez Rasool\",\n",
    "    \"S Nadeem\",\n",
    "]\n",
    "\n",
    "rr_top_order = [\n",
    "    \"T Kohli\",\n",
    "    \"YK Pathan\",\n",
    "    \"SR Watson\",\n",
    "    \"M Kaif\",\n",
    "    \"Kamran Akmal\",\n",
    "    \"GC Smith\",\n",
    "    \"M Rawat\",\n",
    "    \"SA Asnodkar\",\n",
    "    \"NK Patel\",\n",
    "    \"Younis Khan\",\n",
    "    \"NV Ojha\",\n",
    "    \"MJ Lumb\",\n",
    "    \"DR Martyn\",\n",
    "    \"AA Jhunjhunwala\",\n",
    "    \"FY Fazal\",\n",
    "    \"AG Paunikar\",\n",
    "    \"R Dravid\",\n",
    "    \"AM Rahane\",\n",
    "    \"SP Goswami\",\n",
    "    \"OA Shah\",\n",
    "    \"BJ Hodge\",\n",
    "    \"MDKJ Perera\",\n",
    "    \"DH Yagnik\",\n",
    "    \"SV Samson\",\n",
    "    \"KK Nair\",\n",
    "    \"Ankit Sharma\",\n",
    "    \"KK Cooper\",\n",
    "    \"UBT Chand\",\n",
    "    \"SPD Smith\",\n",
    "    \"DJ Hooda\",\n",
    "    \"D Short\",\n",
    "    \"H Klaasen\",\n",
    "    \"RA Tripathi\",\n",
    "    \"JC Buttler\",\n",
    "]\n",
    "\n",
    "rr_tail_enders = [\n",
    "    \"A Chandila\",\n",
    "    \"AA Chavan\",\n",
    "    \"AS Raut\",\n",
    "    \"GB Hogg\",\n",
    "    \"I Sodhi\",\n",
    "    \"PV Tambe\",\n",
    "    \"ND Doshi\",\n",
    "    \"S Badree\",\n",
    "    \"S Gopal\",\n",
    "    \"S Midhun\",\n",
    "    \"SK Warne\",\n",
    "    \"MM Patel\",\n",
    "    \"SK Trivedi\",\n",
    "    \"Pankaj Singh\",\n",
    "    \"SW Tait\",\n",
    "    \"Kamran Khan\",\n",
    "    \"A Uniyal\",\n",
    "    \"M Morkel\",\n",
    "    \"S Narwal\",\n",
    "    \"SB Wagh\",\n",
    "    \"AP Dole\",\n",
    "    \"FY Fazal\",\n",
    "    \"A Singh\",\n",
    "    \"S Sreesanth\",\n",
    "    \"R Shukla\",\n",
    "    \"VS Malik\",\n",
    "    \"KW Richardson\",\n",
    "    \"DS Kulkarni\",\n",
    "    \"R Bhatia\",\n",
    "    \"TG Southee\",\n",
    "    \"J Theron\",\n",
    "    \"B Brainder Sran\",\n",
    "    \"JD Unadkat\",\n",
    "    \"B Laughlin\",\n",
    "    \"J Archer\",\n",
    "    \"Anureet Singh\",\n",
    "    \"VR Aaron\",\n",
    "    \"O Thomas\",\n",
    "]\n",
    "\n",
    "punj_top_order = [\n",
    "    \"K Goel\",\n",
    "    \"JR Hopes\",\n",
    "    \"KC Sangakkara\",\n",
    "    \"DPMD Jayawardene\",\n",
    "    \"Yuvraj Singh\",\n",
    "    \"SM Katich\",\n",
    "    \"SE Marsh\",\n",
    "    \"LA Pomersbach\",\n",
    "    \"RS Bopara\",\n",
    "    \"MS Bisla\",\n",
    "    \"PC Valthaty\",\n",
    "    \"AC Gilchrist\",\n",
    "    \"Mandeep Singh\",\n",
    "    \"N Saini\",\n",
    "    \"M Vohra\",\n",
    "    \"Gurkeerat Singh\",\n",
    "    \"CA Pujara\",\n",
    "    \"V Sehwag\",\n",
    "    \"WP Saha\",\n",
    "    \"KK Nair\" \"M Vijay\",\n",
    "    \"HM Amla\",\n",
    "    \"EJG Morgan\",\n",
    "    \"MJ Guptill\",\n",
    "    \"KL Rahul\",\n",
    "    \"MA Agarwal\",\n",
    "    \"CH Gayle\",\n",
    "    \"AJ Finch\",\n",
    "]\n",
    "\n",
    "punj_tail_enders = [\n",
    "    \"BA Bhatt\",\n",
    "    \"H Brar\",\n",
    "    \"Karanveer Singh\",\n",
    "    \"KC Cariappa\",\n",
    "    \"M Ashwin\",\n",
    "    \"M Kartik\",\n",
    "    \"M Ur Rahman\",\n",
    "    \"RJ Harris\",\n",
    "    \"P Sahu\",\n",
    "    \"RR Powar\",\n",
    "    \"Shivam Sharma\",\n",
    "    \"Swapnil Singh\",\n",
    "    \"J Theron\",\n",
    "    \"VS Malik\",\n",
    "    \"L Ablish\",\n",
    "    \"P Kumar\",\n",
    "    \"V Chakravarthy\",\n",
    "    \"B Lee\",\n",
    "    \"S Sreesanth\",\n",
    "    \"VRV Singh\",\n",
    "    \"Gagandeep Singh\",\n",
    "    \"YA Abdulla\",\n",
    "    \"R McLaren\",\n",
    "    \"Harmeet Singh\",\n",
    "    \"P Awana\",\n",
    "    \"MS Gony\",\n",
    "    \"Sandeep Sharma (1)\",\n",
    "    \"MG Neser\",\n",
    "    \"Sandeep Sharma\",\n",
    "    \"L Balaji\",\n",
    "    \"MG Johnson\",\n",
    "    \"BE Hendricks\",\n",
    "    \"Anureet Singh\",\n",
    "    \"MM Sharma\",\n",
    "    \"KJ Abbott\",\n",
    "    \"VR Aaron\",\n",
    "    \"T Natarajan\",\n",
    "    \"I Sharma\",\n",
    "    \"MJ Henry\",\n",
    "    \"BB Sran\",\n",
    "    \"AS Rajpoot\",\n",
    "    \"Mohammed Shami\",\n",
    "    \"H Viljoen\",\n",
    "    \"A Singh\",\n",
    "    \"AJ Tye\",\n",
    "]"
   ]
  },
  {
   "cell_type": "code",
   "execution_count": 178,
   "metadata": {},
   "outputs": [],
   "source": [
    "# Replacing all batsman and non_striker names with \"top\"\n",
    "\n",
    "df.loc[\n",
    "    (df.batting_team == \"Royal Challengers Bangalore\")\n",
    "    & (df.batsman.isin(rcb_top_order)),\n",
    "    \"batsman\",\n",
    "] = \"top\"\n",
    "df.loc[\n",
    "    (df.batting_team == \"Delhi Capitals\") & (df.batsman.isin(dd_top_order)), \"batsman\"\n",
    "] = \"top\"\n",
    "df.loc[\n",
    "    (df.batting_team == \"Delhi Daredevils\") & (df.batsman.isin(dd_top_order)), \"batsman\"\n",
    "] = \"top\"\n",
    "df.loc[\n",
    "    (df.batting_team == \"Chennai Super Kings\") & (df.batsman.isin(csk_top_order)),\n",
    "    \"batsman\",\n",
    "] = \"top\"\n",
    "df.loc[\n",
    "    (df.batting_team == \"Kings XI Punjab\") & (df.batsman.isin(punj_top_order)),\n",
    "    \"batsman\",\n",
    "] = \"top\"\n",
    "df.loc[\n",
    "    (df.batting_team == \"Sunrisers Hyderabad\") & (df.batsman.isin(srh_top_order)),\n",
    "    \"batsman\",\n",
    "] = \"top\"\n",
    "df.loc[\n",
    "    (df.batting_team == \"Kolkata Knight Riders\") & (df.batsman.isin(kkr_top_order)),\n",
    "    \"batsman\",\n",
    "] = \"top\"\n",
    "df.loc[\n",
    "    (df.batting_team == \"Deccan Chargers\") & (df.batsman.isin(dc_top_order)), \"batsman\"\n",
    "] = \"top\"\n",
    "df.loc[\n",
    "    (df.batting_team == \"Rajasthan Royals\") & (df.batsman.isin(rr_top_order)), \"batsman\"\n",
    "] = \"top\"\n",
    "df.loc[\n",
    "    (df.batting_team == \"Mumbai Indians\") & (df.batsman.isin(mi_top_order)), \"batsman\"\n",
    "] = \"top\"\n",
    "\n",
    "\n",
    "df.loc[\n",
    "    (df.batting_team == \"Royal Challengers Bangalore\")\n",
    "    & (df.non_striker.isin(rcb_top_order)),\n",
    "    \"non_striker\",\n",
    "] = \"top\"\n",
    "df.loc[\n",
    "    (df.batting_team == \"Delhi Capitals\") & (df.non_striker.isin(dd_top_order)),\n",
    "    \"non_striker\",\n",
    "] = \"top\"\n",
    "df.loc[\n",
    "    (df.batting_team == \"Delhi Daredevils\") & (df.non_striker.isin(dd_top_order)),\n",
    "    \"non_striker\",\n",
    "] = \"top\"\n",
    "df.loc[\n",
    "    (df.batting_team == \"Chennai Super Kings\") & (df.non_striker.isin(csk_top_order)),\n",
    "    \"non_striker\",\n",
    "] = \"top\"\n",
    "df.loc[\n",
    "    (df.batting_team == \"Kings XI Punjab\") & (df.non_striker.isin(punj_top_order)),\n",
    "    \"non_striker\",\n",
    "] = \"top\"\n",
    "df.loc[\n",
    "    (df.batting_team == \"Sunrisers Hyderabad\") & (df.non_striker.isin(srh_top_order)),\n",
    "    \"non_striker\",\n",
    "] = \"top\"\n",
    "df.loc[\n",
    "    (df.batting_team == \"Kolkata Knight Riders\") & (df.non_striker.isin(kkr_top_order)),\n",
    "    \"non_striker\",\n",
    "] = \"top\"\n",
    "df.loc[\n",
    "    (df.batting_team == \"Deccan Chargers\") & (df.non_striker.isin(dc_top_order)),\n",
    "    \"non_striker\",\n",
    "] = \"top\"\n",
    "df.loc[\n",
    "    (df.batting_team == \"Rajasthan Royals\") & (df.non_striker.isin(rr_top_order)),\n",
    "    \"non_striker\",\n",
    "] = \"top\"\n",
    "df.loc[\n",
    "    (df.batting_team == \"Mumbai Indians\") & (df.non_striker.isin(mi_top_order)),\n",
    "    \"non_striker\",\n",
    "] = \"top\""
   ]
  },
  {
   "cell_type": "code",
   "execution_count": 179,
   "metadata": {},
   "outputs": [],
   "source": [
    "# Replacing all batsman and non_striker names with \"tail\"\n",
    "\n",
    "df.loc[\n",
    "    (df.batting_team == \"Royal Challengers Bangalore\")\n",
    "    & (df.batsman.isin(rcb_tail_enders)),\n",
    "    \"batsman\",\n",
    "] = \"tail\"\n",
    "df.loc[\n",
    "    (df.batting_team == \"Delhi Capitals\") & (df.batsman.isin(dd_tail_enders)), \"batsman\"\n",
    "] = \"tail\"\n",
    "df.loc[\n",
    "    (df.batting_team == \"Delhi Daredevils\") & (df.batsman.isin(dd_tail_enders)),\n",
    "    \"batsman\",\n",
    "] = \"tail\"\n",
    "df.loc[\n",
    "    (df.batting_team == \"Chennai Super Kings\") & (df.batsman.isin(csk_tail_enders)),\n",
    "    \"batsman\",\n",
    "] = \"tail\"\n",
    "df.loc[\n",
    "    (df.batting_team == \"Kings XI Punjab\") & (df.batsman.isin(punj_tail_enders)),\n",
    "    \"batsman\",\n",
    "] = \"tail\"\n",
    "df.loc[\n",
    "    (df.batting_team == \"Sunrisers Hyderabad\") & (df.batsman.isin(srh_tail_enders)),\n",
    "    \"batsman\",\n",
    "] = \"tail\"\n",
    "df.loc[\n",
    "    (df.batting_team == \"Kolkata Knight Riders\") & (df.batsman.isin(kkr_tail_enders)),\n",
    "    \"batsman\",\n",
    "] = \"tail\"\n",
    "df.loc[\n",
    "    (df.batting_team == \"Deccan Chargers\") & (df.batsman.isin(dc_tail_enders)),\n",
    "    \"batsman\",\n",
    "] = \"tail\"\n",
    "df.loc[\n",
    "    (df.batting_team == \"Rajasthan Royals\") & (df.batsman.isin(rr_tail_enders)),\n",
    "    \"batsman\",\n",
    "] = \"tail\"\n",
    "df.loc[\n",
    "    (df.batting_team == \"Mumbai Indians\") & (df.batsman.isin(mi_tail_enders)), \"batsman\"\n",
    "] = \"tail\"\n",
    "\n",
    "df.loc[\n",
    "    (df.batting_team == \"Royal Challengers Bangalore\")\n",
    "    & (df.non_striker.isin(rcb_tail_enders)),\n",
    "    \"non_striker\",\n",
    "] = \"tail\"\n",
    "df.loc[\n",
    "    (df.batting_team == \"Delhi Capitals\") & (df.non_striker.isin(dd_tail_enders)),\n",
    "    \"non_striker\",\n",
    "] = \"tail\"\n",
    "df.loc[\n",
    "    (df.batting_team == \"Delhi Daredevils\") & (df.non_striker.isin(dd_tail_enders)),\n",
    "    \"non_striker\",\n",
    "] = \"tail\"\n",
    "df.loc[\n",
    "    (df.batting_team == \"Chennai Super Kings\") & (df.non_striker.isin(csk_tail_enders)),\n",
    "    \"non_striker\",\n",
    "] = \"tail\"\n",
    "df.loc[\n",
    "    (df.batting_team == \"Kings XI Punjab\") & (df.non_striker.isin(punj_tail_enders)),\n",
    "    \"non_striker\",\n",
    "] = \"tail\"\n",
    "df.loc[\n",
    "    (df.batting_team == \"Sunrisers Hyderabad\") & (df.non_striker.isin(srh_tail_enders)),\n",
    "    \"non_striker\",\n",
    "] = \"tail\"\n",
    "df.loc[\n",
    "    (df.batting_team == \"Kolkata Knight Riders\")\n",
    "    & (df.non_striker.isin(kkr_tail_enders)),\n",
    "    \"non_striker\",\n",
    "] = \"tail\"\n",
    "df.loc[\n",
    "    (df.batting_team == \"Deccan Chargers\") & (df.non_striker.isin(dc_tail_enders)),\n",
    "    \"non_striker\",\n",
    "] = \"tail\"\n",
    "df.loc[\n",
    "    (df.batting_team == \"Rajasthan Royals\") & (df.non_striker.isin(rr_tail_enders)),\n",
    "    \"non_striker\",\n",
    "] = \"tail\"\n",
    "df.loc[\n",
    "    (df.batting_team == \"Mumbai Indians\") & (df.non_striker.isin(mi_tail_enders)),\n",
    "    \"non_striker\",\n",
    "] = \"tail\""
   ]
  },
  {
   "cell_type": "code",
   "execution_count": 180,
   "metadata": {},
   "outputs": [],
   "source": [
    "# replace remaining names with \"middle\"\n",
    "\n",
    "l = [\"top\", \"tail\"]\n",
    "df.loc[~df.batsman.isin(l), \"batsman\"] = \"middle\"\n",
    "df.loc[~df.non_striker.isin(l), \"non_striker\"] = \"middle\""
   ]
  },
  {
   "cell_type": "code",
   "execution_count": 181,
   "metadata": {},
   "outputs": [
    {
     "name": "stdout",
     "output_type": "stream",
     "text": [
      "0\n",
      "0\n"
     ]
    }
   ],
   "source": [
    "# sanity check for nulls\n",
    "\n",
    "print(df.batsman.isna().sum())\n",
    "print(df.non_striker.isna().sum())"
   ]
  },
  {
   "cell_type": "code",
   "execution_count": 182,
   "metadata": {},
   "outputs": [
    {
     "data": {
      "text/plain": [
       "(89893, 20)"
      ]
     },
     "execution_count": 182,
     "metadata": {},
     "output_type": "execute_result"
    }
   ],
   "source": [
    "df.loc[df.batsman == \"top\"].shape"
   ]
  },
  {
   "cell_type": "code",
   "execution_count": 183,
   "metadata": {},
   "outputs": [
    {
     "data": {
      "text/plain": [
       "(36128, 20)"
      ]
     },
     "execution_count": 183,
     "metadata": {},
     "output_type": "execute_result"
    }
   ],
   "source": [
    "df.loc[df.batsman == \"middle\"].shape"
   ]
  },
  {
   "cell_type": "code",
   "execution_count": 184,
   "metadata": {},
   "outputs": [
    {
     "data": {
      "text/plain": [
       "(5980, 20)"
      ]
     },
     "execution_count": 184,
     "metadata": {},
     "output_type": "execute_result"
    }
   ],
   "source": [
    "df.loc[df.batsman == \"tail\"].shape"
   ]
  },
  {
   "cell_type": "markdown",
   "metadata": {},
   "source": [
    "## Renaming Old Team Names To Current Names"
   ]
  },
  {
   "cell_type": "code",
   "execution_count": 185,
   "metadata": {},
   "outputs": [
    {
     "name": "stdout",
     "output_type": "stream",
     "text": [
      "Empty DataFrame\n",
      "Columns: [season, match_id, venue, inning, batting_team, bowling_team, batsman, non_striker, bowler, ball, wide_runs, bye_runs, legbye_runs, noball_runs, batsman_runs, extra_runs, total_runs, dismissal_kind, wickets, commentary]\n",
      "Index: []\n",
      "Empty DataFrame\n",
      "Columns: [season, match_id, venue, inning, batting_team, bowling_team, batsman, non_striker, bowler, ball, wide_runs, bye_runs, legbye_runs, noball_runs, batsman_runs, extra_runs, total_runs, dismissal_kind, wickets, commentary]\n",
      "Index: []\n"
     ]
    }
   ],
   "source": [
    "# Renaming the teams with their latest names\n",
    "\n",
    "df.loc[(df.batting_team == \"Delhi Daredevils\"), \"batting_team\"] = \"Delhi Capitals\"\n",
    "df.loc[(df.bowling_team == \"Delhi Daredevils\"), \"bowling_team\"] = \"Delhi Capitals\"\n",
    "\n",
    "df.loc[(df.batting_team == \"Deccan Chargers\"), \"batting_team\"] = \"Sunrisers Hyderabad\"\n",
    "df.loc[(df.bowling_team == \"Deccan Chargers\"), \"bowling_team\"] = \"Sunrisers Hyderabad\"\n",
    "\n",
    "# sanity check\n",
    "print(\n",
    "    df.loc[\n",
    "        (df.batting_team == \"Delhi Daredevils\")\n",
    "        | (df.bowling_team == \"Delhi Daredevils\")\n",
    "    ]\n",
    ")\n",
    "print(\n",
    "    df.loc[\n",
    "        (df.batting_team == \"Deccan Chargers\") | (df.bowling_team == \"Deccan Chargers\")\n",
    "    ]\n",
    ")"
   ]
  },
  {
   "cell_type": "markdown",
   "metadata": {},
   "source": [
    "## Feature Engineering `ball_length` Column from `commentary` Column"
   ]
  },
  {
   "cell_type": "code",
   "execution_count": 186,
   "metadata": {},
   "outputs": [],
   "source": [
    "def lower_comm(x):\n",
    "    return x.lower()\n",
    "\n",
    "\n",
    "df[\"commentary\"] = df[\"commentary\"].apply(lower_comm)"
   ]
  },
  {
   "cell_type": "code",
   "execution_count": 187,
   "metadata": {},
   "outputs": [],
   "source": [
    "full_toss_length = [\"full toss\", \"beamer\", \"full-toss\", \"fulltoss\"]\n",
    "yorker_length = [\n",
    "    \"yorker\",\n",
    "    \"yorker length\",\n",
    "    \"yorker-ish\",\n",
    "    \"blockhole\",\n",
    "    \"block-hole\",\n",
    "    \"block hole\",\n",
    "    \"toe-crusher\",\n",
    "    \"toe crusher\",\n",
    "]\n",
    "full_length = [\n",
    "    \"full\",\n",
    "    \"full and straight\",\n",
    "    \"full length\",\n",
    "    \"fullish\",\n",
    "    \"full-ish\",\n",
    "    \"fuller\",\n",
    "    \"very full\",\n",
    "    \"full ball\",\n",
    "    \"full delivery\",\n",
    "    \"forward\",\n",
    "    \"front foot\",\n",
    "    \"flicked off the pads\",\n",
    "    \"glanced off the pads\",\n",
    "    \"flicks off the pad\",\n",
    "    \"off the pads\",\n",
    "    \"off the pad\",\n",
    "    \"clips\",\n",
    "    \"clipped\",\n",
    "    \"pads\",\n",
    "    \"on the pad\",\n",
    "    \"into the pads\",\n",
    "    \"cover drive\",\n",
    "    \"front\",\n",
    "    \"beaten\",\n",
    "    \"beaten on the drive\",\n",
    "    \"pitches it up\",\n",
    "    \"full on\",\n",
    "    \"slog\",\n",
    "    \"slogs\",\n",
    "    \"flat and quick\",\n",
    "    \"onto the pads\",\n",
    "    \"aimed at leg stump\",\n",
    "    \"aimed at leg-stump\",\n",
    "    \"pitched at leg stump\",\n",
    "    \"floated up\",\n",
    "    \"floats\",\n",
    "    \"floating\",\n",
    "    \"flights\",\n",
    "    \"flight\",\n",
    "    \"inside out\",\n",
    "    \"in the slot\",\n",
    "    \"slot delivery\",\n",
    "    \"long on\",\n",
    "    \"long-on\",\n",
    "    \"flighted\",\n",
    "    \"flighting\",\n",
    "    \"tossed up\",\n",
    "    \"overpitched\",\n",
    "    \"overpitching\",\n",
    "    \"overpitches\",\n",
    "    \"pitched up\",\n",
    "    \"half-volley\",\n",
    "    \"half volley\",\n",
    "    \"loopy\",\n",
    "    \"looping\",\n",
    "    \"reverse sweep\",\n",
    "    \"down the ground\",\n",
    "    \"reverse-sweep\",\n",
    "    \"sweep\",\n",
    "    \"sweeping\",\n",
    "    \"paddled\",\n",
    "    \"paddle\",\n",
    "    \"paddles\",\n",
    "    \"slog swept\",\n",
    "    \"slog-sweep\",\n",
    "    \"off-drive\",\n",
    "    \"straight-drive\",\n",
    "    \"worked\",\n",
    "    \"works\",\n",
    "    \"meeting the pitch\",\n",
    "    \"lunges forward\",\n",
    "    \"cover-drive\",\n",
    "    \"cover drive\",\n",
    "    \"off drive\",\n",
    "    \"slog-sweeps\",\n",
    "    \"straight drive\",\n",
    "    \"on-drive\",\n",
    "    \"on drive\",\n",
    "    \"helicopter shot\",\n",
    "    \"helicopter\",\n",
    "    \"over cover\",\n",
    "    \"over extra cover\",\n",
    "    \"pitch of the ball\",\n",
    "    \"to the pitch\",\n",
    "    \"slower full\",\n",
    "    \"slower, full\",\n",
    "]\n",
    "good_length = [\n",
    "    \"length ball\",\n",
    "    \"good length\",\n",
    "    \"length delivery\",\n",
    "    \"at a length\",\n",
    "    \", length,\",\n",
    "    \"length\",\n",
    "    \"peach\",\n",
    "    \"corridor of uncertainty\",\n",
    "    \"punched\",\n",
    "    \"googly\",\n",
    "    \"cramped\",\n",
    "    \"cramps\",\n",
    "    \"cramping\",\n",
    "    \"thigh pad\",\n",
    "    \"cramp\",\n",
    "    \"goodish\",\n",
    "    \"good-ish\",\n",
    "    \"nudges\",\n",
    "    \"driven on the up\",\n",
    "    \"slower length ball\",\n",
    "    \"slower, good length\",\n",
    "    \"on the up\",\n",
    "    \"length outside\",\n",
    "    \"length on\",\n",
    "    \"tight length\",\n",
    "]\n",
    "short_length = [\n",
    "    \"short\",\n",
    "    \"short ball\",\n",
    "    \"short delivery\",\n",
    "    \"bouncer\",\n",
    "    \"pulled\",\n",
    "    \"hooked\",\n",
    "    \"pulling\",\n",
    "    \"hooking\",\n",
    "    \"pull\",\n",
    "    \"hook\",\n",
    "    \"back of a length\",\n",
    "    \"back of length\",\n",
    "    \"back of good length\",\n",
    "    \"back foot\",\n",
    "    \"back-foot\",\n",
    "    \"heaved\",\n",
    "    \"hoicked\",\n",
    "    \"short of good length\",\n",
    "    \"short length\",\n",
    "    \"shortish\",\n",
    "    \"short-ish\",\n",
    "    \"cuts\",\n",
    "    \"cut\",\n",
    "    \"cutting it\",\n",
    "    \"cutting the\",\n",
    "    \"dragged back\",\n",
    "    \"drags his length back\",\n",
    "    \"back-of-a-length\",\n",
    "    \"holding back the length\",\n",
    "]"
   ]
  },
  {
   "cell_type": "code",
   "execution_count": 188,
   "metadata": {},
   "outputs": [
    {
     "data": {
      "text/html": [
       "<div>\n",
       "<style scoped>\n",
       "    .dataframe tbody tr th:only-of-type {\n",
       "        vertical-align: middle;\n",
       "    }\n",
       "\n",
       "    .dataframe tbody tr th {\n",
       "        vertical-align: top;\n",
       "    }\n",
       "\n",
       "    .dataframe thead th {\n",
       "        text-align: right;\n",
       "    }\n",
       "</style>\n",
       "<table border=\"1\" class=\"dataframe\">\n",
       "  <thead>\n",
       "    <tr style=\"text-align: right;\">\n",
       "      <th></th>\n",
       "      <th>season</th>\n",
       "      <th>match_id</th>\n",
       "      <th>venue</th>\n",
       "      <th>inning</th>\n",
       "      <th>batting_team</th>\n",
       "      <th>bowling_team</th>\n",
       "      <th>batsman</th>\n",
       "      <th>non_striker</th>\n",
       "      <th>bowler</th>\n",
       "      <th>ball</th>\n",
       "      <th>...</th>\n",
       "      <th>bye_runs</th>\n",
       "      <th>legbye_runs</th>\n",
       "      <th>noball_runs</th>\n",
       "      <th>batsman_runs</th>\n",
       "      <th>extra_runs</th>\n",
       "      <th>total_runs</th>\n",
       "      <th>dismissal_kind</th>\n",
       "      <th>wickets</th>\n",
       "      <th>commentary</th>\n",
       "      <th>ball_length</th>\n",
       "    </tr>\n",
       "  </thead>\n",
       "  <tbody>\n",
       "    <tr>\n",
       "      <th>0</th>\n",
       "      <td>2008</td>\n",
       "      <td>1</td>\n",
       "      <td>Bangalore</td>\n",
       "      <td>1</td>\n",
       "      <td>Kolkata Knight Riders</td>\n",
       "      <td>Royal Challengers Bangalore</td>\n",
       "      <td>top</td>\n",
       "      <td>top</td>\n",
       "      <td>pacer</td>\n",
       "      <td>0.1</td>\n",
       "      <td>...</td>\n",
       "      <td>0</td>\n",
       "      <td>1</td>\n",
       "      <td>0</td>\n",
       "      <td>0</td>\n",
       "      <td>1</td>\n",
       "      <td>1</td>\n",
       "      <td></td>\n",
       "      <td>0</td>\n",
       "      <td>kumar to ganguly, 1 leg bye, and thats runs im...</td>\n",
       "      <td>full</td>\n",
       "    </tr>\n",
       "    <tr>\n",
       "      <th>1</th>\n",
       "      <td>2008</td>\n",
       "      <td>1</td>\n",
       "      <td>Bangalore</td>\n",
       "      <td>1</td>\n",
       "      <td>Kolkata Knight Riders</td>\n",
       "      <td>Royal Challengers Bangalore</td>\n",
       "      <td>top</td>\n",
       "      <td>top</td>\n",
       "      <td>pacer</td>\n",
       "      <td>0.2</td>\n",
       "      <td>...</td>\n",
       "      <td>0</td>\n",
       "      <td>0</td>\n",
       "      <td>0</td>\n",
       "      <td>0</td>\n",
       "      <td>0</td>\n",
       "      <td>0</td>\n",
       "      <td></td>\n",
       "      <td>0</td>\n",
       "      <td>kumar to mccullum, no run, this one nips back ...</td>\n",
       "      <td>good</td>\n",
       "    </tr>\n",
       "    <tr>\n",
       "      <th>2</th>\n",
       "      <td>2008</td>\n",
       "      <td>1</td>\n",
       "      <td>Bangalore</td>\n",
       "      <td>1</td>\n",
       "      <td>Kolkata Knight Riders</td>\n",
       "      <td>Royal Challengers Bangalore</td>\n",
       "      <td>top</td>\n",
       "      <td>top</td>\n",
       "      <td>pacer</td>\n",
       "      <td>0.3</td>\n",
       "      <td>...</td>\n",
       "      <td>0</td>\n",
       "      <td>0</td>\n",
       "      <td>0</td>\n",
       "      <td>0</td>\n",
       "      <td>1</td>\n",
       "      <td>1</td>\n",
       "      <td></td>\n",
       "      <td>0</td>\n",
       "      <td>kumar to mccullum, 1 wide, thats wide, as prav...</td>\n",
       "      <td>nan</td>\n",
       "    </tr>\n",
       "    <tr>\n",
       "      <th>3</th>\n",
       "      <td>2008</td>\n",
       "      <td>1</td>\n",
       "      <td>Bangalore</td>\n",
       "      <td>1</td>\n",
       "      <td>Kolkata Knight Riders</td>\n",
       "      <td>Royal Challengers Bangalore</td>\n",
       "      <td>top</td>\n",
       "      <td>top</td>\n",
       "      <td>pacer</td>\n",
       "      <td>0.3</td>\n",
       "      <td>...</td>\n",
       "      <td>0</td>\n",
       "      <td>0</td>\n",
       "      <td>0</td>\n",
       "      <td>0</td>\n",
       "      <td>0</td>\n",
       "      <td>0</td>\n",
       "      <td></td>\n",
       "      <td>0</td>\n",
       "      <td>kumar to mccullum, no run, too straight, mccul...</td>\n",
       "      <td>nan</td>\n",
       "    </tr>\n",
       "    <tr>\n",
       "      <th>4</th>\n",
       "      <td>2008</td>\n",
       "      <td>1</td>\n",
       "      <td>Bangalore</td>\n",
       "      <td>1</td>\n",
       "      <td>Kolkata Knight Riders</td>\n",
       "      <td>Royal Challengers Bangalore</td>\n",
       "      <td>top</td>\n",
       "      <td>top</td>\n",
       "      <td>pacer</td>\n",
       "      <td>0.4</td>\n",
       "      <td>...</td>\n",
       "      <td>0</td>\n",
       "      <td>0</td>\n",
       "      <td>0</td>\n",
       "      <td>0</td>\n",
       "      <td>0</td>\n",
       "      <td>0</td>\n",
       "      <td></td>\n",
       "      <td>0</td>\n",
       "      <td>kumar to mccullum, no run, steps down the trac...</td>\n",
       "      <td>good</td>\n",
       "    </tr>\n",
       "  </tbody>\n",
       "</table>\n",
       "<p>5 rows × 21 columns</p>\n",
       "</div>"
      ],
      "text/plain": [
       "   season match_id      venue  inning           batting_team  \\\n",
       "0    2008        1  Bangalore       1  Kolkata Knight Riders   \n",
       "1    2008        1  Bangalore       1  Kolkata Knight Riders   \n",
       "2    2008        1  Bangalore       1  Kolkata Knight Riders   \n",
       "3    2008        1  Bangalore       1  Kolkata Knight Riders   \n",
       "4    2008        1  Bangalore       1  Kolkata Knight Riders   \n",
       "\n",
       "                  bowling_team batsman non_striker bowler  ball  ...  \\\n",
       "0  Royal Challengers Bangalore     top         top  pacer   0.1  ...   \n",
       "1  Royal Challengers Bangalore     top         top  pacer   0.2  ...   \n",
       "2  Royal Challengers Bangalore     top         top  pacer   0.3  ...   \n",
       "3  Royal Challengers Bangalore     top         top  pacer   0.3  ...   \n",
       "4  Royal Challengers Bangalore     top         top  pacer   0.4  ...   \n",
       "\n",
       "   bye_runs  legbye_runs  noball_runs  batsman_runs  extra_runs  total_runs  \\\n",
       "0         0            1            0             0           1           1   \n",
       "1         0            0            0             0           0           0   \n",
       "2         0            0            0             0           1           1   \n",
       "3         0            0            0             0           0           0   \n",
       "4         0            0            0             0           0           0   \n",
       "\n",
       "   dismissal_kind wickets                                         commentary  \\\n",
       "0                       0  kumar to ganguly, 1 leg bye, and thats runs im...   \n",
       "1                       0  kumar to mccullum, no run, this one nips back ...   \n",
       "2                       0  kumar to mccullum, 1 wide, thats wide, as prav...   \n",
       "3                       0  kumar to mccullum, no run, too straight, mccul...   \n",
       "4                       0  kumar to mccullum, no run, steps down the trac...   \n",
       "\n",
       "  ball_length  \n",
       "0        full  \n",
       "1        good  \n",
       "2         nan  \n",
       "3         nan  \n",
       "4        good  \n",
       "\n",
       "[5 rows x 21 columns]"
      ]
     },
     "execution_count": 188,
     "metadata": {},
     "output_type": "execute_result"
    }
   ],
   "source": [
    "conditions = [\n",
    "    df.commentary.str.contains(\"|\".join(full_toss_length)),\n",
    "    df.commentary.str.contains(\"|\".join(yorker_length)),\n",
    "    df.commentary.str.contains(\"|\".join(full_length)),\n",
    "    df.commentary.str.contains(\"|\".join(good_length)),\n",
    "    df.commentary.str.contains(\"|\".join(short_length)),\n",
    "]\n",
    "choices = [\"full toss\", \"yorker\", \"full\", \"good\", \"short\"]\n",
    "\n",
    "df[\"ball_length\"] = np.select(conditions, choices, default=np.nan)\n",
    "df.head()"
   ]
  },
  {
   "cell_type": "code",
   "execution_count": 189,
   "metadata": {},
   "outputs": [],
   "source": [
    "df.loc[df.ball_length == \"nan\"].shape[0]\n",
    "# df.loc[df.ball_length=='nan']['commentary'].to_csv('commentary_nan.csv')\n",
    "\n",
    "# replace all NaN values in `ball_length` column with 'Unknown'\n",
    "\n",
    "df.loc[df.ball_length == \"nan\", \"ball_length\"] = \"Unknown\""
   ]
  },
  {
   "cell_type": "code",
   "execution_count": 190,
   "metadata": {},
   "outputs": [
    {
     "data": {
      "text/plain": [
       "(0, 21)"
      ]
     },
     "execution_count": 190,
     "metadata": {},
     "output_type": "execute_result"
    }
   ],
   "source": [
    "df.loc[(df.ball_length == \"nan\")].shape"
   ]
  },
  {
   "cell_type": "markdown",
   "metadata": {},
   "source": [
    "## Feature Engineering `cumulative_runs` from `total_runs` per ball "
   ]
  },
  {
   "cell_type": "code",
   "execution_count": 192,
   "metadata": {},
   "outputs": [],
   "source": [
    "# sum total_runs until `inning` doesn't change\n",
    "\n",
    "df[\"cumulative_runs\"] = df.groupby(\n",
    "    [\"season\", \"match_id\", \"venue\", \"inning\", \"batting_team\", \"bowling_team\"]\n",
    ")[\"total_runs\"].cumsum()"
   ]
  },
  {
   "cell_type": "code",
   "execution_count": 193,
   "metadata": {},
   "outputs": [
    {
     "data": {
      "text/plain": [
       "0           1\n",
       "1           1\n",
       "2           2\n",
       "3           2\n",
       "4           2\n",
       "         ... \n",
       "131996    143\n",
       "131997    145\n",
       "131998    146\n",
       "131999    148\n",
       "132000    148\n",
       "Name: cumulative_runs, Length: 132001, dtype: int64"
      ]
     },
     "execution_count": 193,
     "metadata": {},
     "output_type": "execute_result"
    }
   ],
   "source": [
    "df[\"cumulative_runs\"]"
   ]
  },
  {
   "cell_type": "markdown",
   "metadata": {},
   "source": [
    "## Cleaning `match_id` Column  "
   ]
  },
  {
   "cell_type": "code",
   "execution_count": 194,
   "metadata": {},
   "outputs": [],
   "source": [
    "playoff = [\n",
    "    \"3rd Place Playoff\",\n",
    "    \"eliminator\",\n",
    "    \"final\",\n",
    "    \"semi-final1\",\n",
    "    \"semi-final2\",\n",
    "    \"semi-final\",\n",
    "]\n",
    "df.loc[df.match_id.isin(playoff), \"match_id\"] = \"playoffs\""
   ]
  },
  {
   "cell_type": "code",
   "execution_count": 195,
   "metadata": {},
   "outputs": [
    {
     "data": {
      "text/html": [
       "<div>\n",
       "<style scoped>\n",
       "    .dataframe tbody tr th:only-of-type {\n",
       "        vertical-align: middle;\n",
       "    }\n",
       "\n",
       "    .dataframe tbody tr th {\n",
       "        vertical-align: top;\n",
       "    }\n",
       "\n",
       "    .dataframe thead th {\n",
       "        text-align: right;\n",
       "    }\n",
       "</style>\n",
       "<table border=\"1\" class=\"dataframe\">\n",
       "  <thead>\n",
       "    <tr style=\"text-align: right;\">\n",
       "      <th></th>\n",
       "      <th>season</th>\n",
       "      <th>match_id</th>\n",
       "      <th>venue</th>\n",
       "      <th>inning</th>\n",
       "      <th>batting_team</th>\n",
       "      <th>bowling_team</th>\n",
       "      <th>batsman</th>\n",
       "      <th>non_striker</th>\n",
       "      <th>bowler</th>\n",
       "      <th>ball</th>\n",
       "      <th>...</th>\n",
       "      <th>legbye_runs</th>\n",
       "      <th>noball_runs</th>\n",
       "      <th>batsman_runs</th>\n",
       "      <th>extra_runs</th>\n",
       "      <th>total_runs</th>\n",
       "      <th>dismissal_kind</th>\n",
       "      <th>wickets</th>\n",
       "      <th>commentary</th>\n",
       "      <th>ball_length</th>\n",
       "      <th>cumulative_runs</th>\n",
       "    </tr>\n",
       "  </thead>\n",
       "  <tbody>\n",
       "    <tr>\n",
       "      <th>12801</th>\n",
       "      <td>2008</td>\n",
       "      <td>playoffs</td>\n",
       "      <td>Mumbai</td>\n",
       "      <td>1</td>\n",
       "      <td>Rajasthan Royals</td>\n",
       "      <td>Delhi Capitals</td>\n",
       "      <td>top</td>\n",
       "      <td>top</td>\n",
       "      <td>pacer</td>\n",
       "      <td>0.1</td>\n",
       "      <td>...</td>\n",
       "      <td>0</td>\n",
       "      <td>0</td>\n",
       "      <td>0</td>\n",
       "      <td>0</td>\n",
       "      <td>0</td>\n",
       "      <td></td>\n",
       "      <td>0</td>\n",
       "      <td>mcgrath to smith, no run, a peach from mcgrath...</td>\n",
       "      <td>full</td>\n",
       "      <td>0</td>\n",
       "    </tr>\n",
       "    <tr>\n",
       "      <th>12802</th>\n",
       "      <td>2008</td>\n",
       "      <td>playoffs</td>\n",
       "      <td>Mumbai</td>\n",
       "      <td>1</td>\n",
       "      <td>Rajasthan Royals</td>\n",
       "      <td>Delhi Capitals</td>\n",
       "      <td>top</td>\n",
       "      <td>top</td>\n",
       "      <td>pacer</td>\n",
       "      <td>0.2</td>\n",
       "      <td>...</td>\n",
       "      <td>0</td>\n",
       "      <td>0</td>\n",
       "      <td>0</td>\n",
       "      <td>1</td>\n",
       "      <td>1</td>\n",
       "      <td></td>\n",
       "      <td>0</td>\n",
       "      <td>mcgrath to smith, 1 wide, and this one is wide...</td>\n",
       "      <td>Unknown</td>\n",
       "      <td>1</td>\n",
       "    </tr>\n",
       "    <tr>\n",
       "      <th>12803</th>\n",
       "      <td>2008</td>\n",
       "      <td>playoffs</td>\n",
       "      <td>Mumbai</td>\n",
       "      <td>1</td>\n",
       "      <td>Rajasthan Royals</td>\n",
       "      <td>Delhi Capitals</td>\n",
       "      <td>top</td>\n",
       "      <td>top</td>\n",
       "      <td>pacer</td>\n",
       "      <td>0.2</td>\n",
       "      <td>...</td>\n",
       "      <td>0</td>\n",
       "      <td>0</td>\n",
       "      <td>0</td>\n",
       "      <td>0</td>\n",
       "      <td>0</td>\n",
       "      <td></td>\n",
       "      <td>0</td>\n",
       "      <td>mcgrath to smith, no run, tight line and lengt...</td>\n",
       "      <td>full</td>\n",
       "      <td>1</td>\n",
       "    </tr>\n",
       "    <tr>\n",
       "      <th>12804</th>\n",
       "      <td>2008</td>\n",
       "      <td>playoffs</td>\n",
       "      <td>Mumbai</td>\n",
       "      <td>1</td>\n",
       "      <td>Rajasthan Royals</td>\n",
       "      <td>Delhi Capitals</td>\n",
       "      <td>top</td>\n",
       "      <td>top</td>\n",
       "      <td>pacer</td>\n",
       "      <td>0.3</td>\n",
       "      <td>...</td>\n",
       "      <td>0</td>\n",
       "      <td>0</td>\n",
       "      <td>0</td>\n",
       "      <td>0</td>\n",
       "      <td>0</td>\n",
       "      <td></td>\n",
       "      <td>0</td>\n",
       "      <td>mcgrath to smith, no run, good length once aga...</td>\n",
       "      <td>full</td>\n",
       "      <td>1</td>\n",
       "    </tr>\n",
       "    <tr>\n",
       "      <th>12805</th>\n",
       "      <td>2008</td>\n",
       "      <td>playoffs</td>\n",
       "      <td>Mumbai</td>\n",
       "      <td>1</td>\n",
       "      <td>Rajasthan Royals</td>\n",
       "      <td>Delhi Capitals</td>\n",
       "      <td>top</td>\n",
       "      <td>top</td>\n",
       "      <td>pacer</td>\n",
       "      <td>0.4</td>\n",
       "      <td>...</td>\n",
       "      <td>0</td>\n",
       "      <td>0</td>\n",
       "      <td>0</td>\n",
       "      <td>0</td>\n",
       "      <td>0</td>\n",
       "      <td></td>\n",
       "      <td>0</td>\n",
       "      <td>mcgrath to smith, no run, smith tries to flick...</td>\n",
       "      <td>full</td>\n",
       "      <td>1</td>\n",
       "    </tr>\n",
       "    <tr>\n",
       "      <th>...</th>\n",
       "      <td>...</td>\n",
       "      <td>...</td>\n",
       "      <td>...</td>\n",
       "      <td>...</td>\n",
       "      <td>...</td>\n",
       "      <td>...</td>\n",
       "      <td>...</td>\n",
       "      <td>...</td>\n",
       "      <td>...</td>\n",
       "      <td>...</td>\n",
       "      <td>...</td>\n",
       "      <td>...</td>\n",
       "      <td>...</td>\n",
       "      <td>...</td>\n",
       "      <td>...</td>\n",
       "      <td>...</td>\n",
       "      <td>...</td>\n",
       "      <td>...</td>\n",
       "      <td>...</td>\n",
       "      <td>...</td>\n",
       "      <td>...</td>\n",
       "    </tr>\n",
       "    <tr>\n",
       "      <th>131996</th>\n",
       "      <td>2019</td>\n",
       "      <td>playoffs</td>\n",
       "      <td>Hyderabad</td>\n",
       "      <td>2</td>\n",
       "      <td>Chennai Super Kings</td>\n",
       "      <td>Mumbai Indians</td>\n",
       "      <td>middle</td>\n",
       "      <td>top</td>\n",
       "      <td>pacer</td>\n",
       "      <td>19.2</td>\n",
       "      <td>...</td>\n",
       "      <td>0</td>\n",
       "      <td>0</td>\n",
       "      <td>1</td>\n",
       "      <td>0</td>\n",
       "      <td>1</td>\n",
       "      <td></td>\n",
       "      <td>5</td>\n",
       "      <td>malinga to jadeja, 1 run, low full toss on mid...</td>\n",
       "      <td>full toss</td>\n",
       "      <td>143</td>\n",
       "    </tr>\n",
       "    <tr>\n",
       "      <th>131997</th>\n",
       "      <td>2019</td>\n",
       "      <td>playoffs</td>\n",
       "      <td>Hyderabad</td>\n",
       "      <td>2</td>\n",
       "      <td>Chennai Super Kings</td>\n",
       "      <td>Mumbai Indians</td>\n",
       "      <td>top</td>\n",
       "      <td>middle</td>\n",
       "      <td>pacer</td>\n",
       "      <td>19.3</td>\n",
       "      <td>...</td>\n",
       "      <td>0</td>\n",
       "      <td>0</td>\n",
       "      <td>2</td>\n",
       "      <td>0</td>\n",
       "      <td>2</td>\n",
       "      <td></td>\n",
       "      <td>5</td>\n",
       "      <td>malinga to watson, 2 runs, yorker, just outsid...</td>\n",
       "      <td>yorker</td>\n",
       "      <td>145</td>\n",
       "    </tr>\n",
       "    <tr>\n",
       "      <th>131998</th>\n",
       "      <td>2019</td>\n",
       "      <td>playoffs</td>\n",
       "      <td>Hyderabad</td>\n",
       "      <td>2</td>\n",
       "      <td>Chennai Super Kings</td>\n",
       "      <td>Mumbai Indians</td>\n",
       "      <td>top</td>\n",
       "      <td>middle</td>\n",
       "      <td>pacer</td>\n",
       "      <td>19.4</td>\n",
       "      <td>...</td>\n",
       "      <td>0</td>\n",
       "      <td>0</td>\n",
       "      <td>1</td>\n",
       "      <td>0</td>\n",
       "      <td>1</td>\n",
       "      <td>run out</td>\n",
       "      <td>6</td>\n",
       "      <td>malinga to watson, 1 run, out, yorker, just ou...</td>\n",
       "      <td>yorker</td>\n",
       "      <td>146</td>\n",
       "    </tr>\n",
       "    <tr>\n",
       "      <th>131999</th>\n",
       "      <td>2019</td>\n",
       "      <td>playoffs</td>\n",
       "      <td>Hyderabad</td>\n",
       "      <td>2</td>\n",
       "      <td>Chennai Super Kings</td>\n",
       "      <td>Mumbai Indians</td>\n",
       "      <td>middle</td>\n",
       "      <td>middle</td>\n",
       "      <td>pacer</td>\n",
       "      <td>19.5</td>\n",
       "      <td>...</td>\n",
       "      <td>0</td>\n",
       "      <td>0</td>\n",
       "      <td>2</td>\n",
       "      <td>0</td>\n",
       "      <td>2</td>\n",
       "      <td></td>\n",
       "      <td>6</td>\n",
       "      <td>malinga to thakur, 2 runs, full toss on leg, a...</td>\n",
       "      <td>full toss</td>\n",
       "      <td>148</td>\n",
       "    </tr>\n",
       "    <tr>\n",
       "      <th>132000</th>\n",
       "      <td>2019</td>\n",
       "      <td>playoffs</td>\n",
       "      <td>Hyderabad</td>\n",
       "      <td>2</td>\n",
       "      <td>Chennai Super Kings</td>\n",
       "      <td>Mumbai Indians</td>\n",
       "      <td>middle</td>\n",
       "      <td>middle</td>\n",
       "      <td>pacer</td>\n",
       "      <td>19.6</td>\n",
       "      <td>...</td>\n",
       "      <td>0</td>\n",
       "      <td>0</td>\n",
       "      <td>0</td>\n",
       "      <td>0</td>\n",
       "      <td>0</td>\n",
       "      <td>lbw</td>\n",
       "      <td>7</td>\n",
       "      <td>malinga to thakur, out, mumbai indians win ipl...</td>\n",
       "      <td>yorker</td>\n",
       "      <td>148</td>\n",
       "    </tr>\n",
       "  </tbody>\n",
       "</table>\n",
       "<p>9186 rows × 22 columns</p>\n",
       "</div>"
      ],
      "text/plain": [
       "        season  match_id      venue  inning         batting_team  \\\n",
       "12801     2008  playoffs     Mumbai       1     Rajasthan Royals   \n",
       "12802     2008  playoffs     Mumbai       1     Rajasthan Royals   \n",
       "12803     2008  playoffs     Mumbai       1     Rajasthan Royals   \n",
       "12804     2008  playoffs     Mumbai       1     Rajasthan Royals   \n",
       "12805     2008  playoffs     Mumbai       1     Rajasthan Royals   \n",
       "...        ...       ...        ...     ...                  ...   \n",
       "131996    2019  playoffs  Hyderabad       2  Chennai Super Kings   \n",
       "131997    2019  playoffs  Hyderabad       2  Chennai Super Kings   \n",
       "131998    2019  playoffs  Hyderabad       2  Chennai Super Kings   \n",
       "131999    2019  playoffs  Hyderabad       2  Chennai Super Kings   \n",
       "132000    2019  playoffs  Hyderabad       2  Chennai Super Kings   \n",
       "\n",
       "          bowling_team batsman non_striker bowler  ball  ...  legbye_runs  \\\n",
       "12801   Delhi Capitals     top         top  pacer   0.1  ...            0   \n",
       "12802   Delhi Capitals     top         top  pacer   0.2  ...            0   \n",
       "12803   Delhi Capitals     top         top  pacer   0.2  ...            0   \n",
       "12804   Delhi Capitals     top         top  pacer   0.3  ...            0   \n",
       "12805   Delhi Capitals     top         top  pacer   0.4  ...            0   \n",
       "...                ...     ...         ...    ...   ...  ...          ...   \n",
       "131996  Mumbai Indians  middle         top  pacer  19.2  ...            0   \n",
       "131997  Mumbai Indians     top      middle  pacer  19.3  ...            0   \n",
       "131998  Mumbai Indians     top      middle  pacer  19.4  ...            0   \n",
       "131999  Mumbai Indians  middle      middle  pacer  19.5  ...            0   \n",
       "132000  Mumbai Indians  middle      middle  pacer  19.6  ...            0   \n",
       "\n",
       "        noball_runs  batsman_runs  extra_runs  total_runs  dismissal_kind  \\\n",
       "12801             0             0           0           0                   \n",
       "12802             0             0           1           1                   \n",
       "12803             0             0           0           0                   \n",
       "12804             0             0           0           0                   \n",
       "12805             0             0           0           0                   \n",
       "...             ...           ...         ...         ...             ...   \n",
       "131996            0             1           0           1                   \n",
       "131997            0             2           0           2                   \n",
       "131998            0             1           0           1         run out   \n",
       "131999            0             2           0           2                   \n",
       "132000            0             0           0           0             lbw   \n",
       "\n",
       "        wickets                                         commentary  \\\n",
       "12801         0  mcgrath to smith, no run, a peach from mcgrath...   \n",
       "12802         0  mcgrath to smith, 1 wide, and this one is wide...   \n",
       "12803         0  mcgrath to smith, no run, tight line and lengt...   \n",
       "12804         0  mcgrath to smith, no run, good length once aga...   \n",
       "12805         0  mcgrath to smith, no run, smith tries to flick...   \n",
       "...         ...                                                ...   \n",
       "131996        5  malinga to jadeja, 1 run, low full toss on mid...   \n",
       "131997        5  malinga to watson, 2 runs, yorker, just outsid...   \n",
       "131998        6  malinga to watson, 1 run, out, yorker, just ou...   \n",
       "131999        6  malinga to thakur, 2 runs, full toss on leg, a...   \n",
       "132000        7  malinga to thakur, out, mumbai indians win ipl...   \n",
       "\n",
       "        ball_length cumulative_runs  \n",
       "12801          full               0  \n",
       "12802       Unknown               1  \n",
       "12803          full               1  \n",
       "12804          full               1  \n",
       "12805          full               1  \n",
       "...             ...             ...  \n",
       "131996    full toss             143  \n",
       "131997       yorker             145  \n",
       "131998       yorker             146  \n",
       "131999    full toss             148  \n",
       "132000       yorker             148  \n",
       "\n",
       "[9186 rows x 22 columns]"
      ]
     },
     "execution_count": 195,
     "metadata": {},
     "output_type": "execute_result"
    }
   ],
   "source": [
    "df.loc[df.match_id == \"playoffs\"]"
   ]
  },
  {
   "cell_type": "code",
   "execution_count": 196,
   "metadata": {},
   "outputs": [],
   "source": [
    "p = [\"playoffs\"]\n",
    "df.loc[~df.match_id.isin(p), \"match_id\"] = \"round-robin\""
   ]
  },
  {
   "cell_type": "code",
   "execution_count": 197,
   "metadata": {},
   "outputs": [
    {
     "data": {
      "text/html": [
       "<div>\n",
       "<style scoped>\n",
       "    .dataframe tbody tr th:only-of-type {\n",
       "        vertical-align: middle;\n",
       "    }\n",
       "\n",
       "    .dataframe tbody tr th {\n",
       "        vertical-align: top;\n",
       "    }\n",
       "\n",
       "    .dataframe thead th {\n",
       "        text-align: right;\n",
       "    }\n",
       "</style>\n",
       "<table border=\"1\" class=\"dataframe\">\n",
       "  <thead>\n",
       "    <tr style=\"text-align: right;\">\n",
       "      <th></th>\n",
       "      <th>season</th>\n",
       "      <th>match_id</th>\n",
       "      <th>venue</th>\n",
       "      <th>inning</th>\n",
       "      <th>batting_team</th>\n",
       "      <th>bowling_team</th>\n",
       "      <th>batsman</th>\n",
       "      <th>non_striker</th>\n",
       "      <th>bowler</th>\n",
       "      <th>ball</th>\n",
       "      <th>...</th>\n",
       "      <th>legbye_runs</th>\n",
       "      <th>noball_runs</th>\n",
       "      <th>batsman_runs</th>\n",
       "      <th>extra_runs</th>\n",
       "      <th>total_runs</th>\n",
       "      <th>dismissal_kind</th>\n",
       "      <th>wickets</th>\n",
       "      <th>commentary</th>\n",
       "      <th>ball_length</th>\n",
       "      <th>cumulative_runs</th>\n",
       "    </tr>\n",
       "  </thead>\n",
       "  <tbody>\n",
       "    <tr>\n",
       "      <th>0</th>\n",
       "      <td>2008</td>\n",
       "      <td>round-robin</td>\n",
       "      <td>Bangalore</td>\n",
       "      <td>1</td>\n",
       "      <td>Kolkata Knight Riders</td>\n",
       "      <td>Royal Challengers Bangalore</td>\n",
       "      <td>top</td>\n",
       "      <td>top</td>\n",
       "      <td>pacer</td>\n",
       "      <td>0.1</td>\n",
       "      <td>...</td>\n",
       "      <td>1</td>\n",
       "      <td>0</td>\n",
       "      <td>0</td>\n",
       "      <td>1</td>\n",
       "      <td>1</td>\n",
       "      <td></td>\n",
       "      <td>0</td>\n",
       "      <td>kumar to ganguly, 1 leg bye, and thats runs im...</td>\n",
       "      <td>full</td>\n",
       "      <td>1</td>\n",
       "    </tr>\n",
       "    <tr>\n",
       "      <th>1</th>\n",
       "      <td>2008</td>\n",
       "      <td>round-robin</td>\n",
       "      <td>Bangalore</td>\n",
       "      <td>1</td>\n",
       "      <td>Kolkata Knight Riders</td>\n",
       "      <td>Royal Challengers Bangalore</td>\n",
       "      <td>top</td>\n",
       "      <td>top</td>\n",
       "      <td>pacer</td>\n",
       "      <td>0.2</td>\n",
       "      <td>...</td>\n",
       "      <td>0</td>\n",
       "      <td>0</td>\n",
       "      <td>0</td>\n",
       "      <td>0</td>\n",
       "      <td>0</td>\n",
       "      <td></td>\n",
       "      <td>0</td>\n",
       "      <td>kumar to mccullum, no run, this one nips back ...</td>\n",
       "      <td>good</td>\n",
       "      <td>1</td>\n",
       "    </tr>\n",
       "    <tr>\n",
       "      <th>2</th>\n",
       "      <td>2008</td>\n",
       "      <td>round-robin</td>\n",
       "      <td>Bangalore</td>\n",
       "      <td>1</td>\n",
       "      <td>Kolkata Knight Riders</td>\n",
       "      <td>Royal Challengers Bangalore</td>\n",
       "      <td>top</td>\n",
       "      <td>top</td>\n",
       "      <td>pacer</td>\n",
       "      <td>0.3</td>\n",
       "      <td>...</td>\n",
       "      <td>0</td>\n",
       "      <td>0</td>\n",
       "      <td>0</td>\n",
       "      <td>1</td>\n",
       "      <td>1</td>\n",
       "      <td></td>\n",
       "      <td>0</td>\n",
       "      <td>kumar to mccullum, 1 wide, thats wide, as prav...</td>\n",
       "      <td>Unknown</td>\n",
       "      <td>2</td>\n",
       "    </tr>\n",
       "    <tr>\n",
       "      <th>3</th>\n",
       "      <td>2008</td>\n",
       "      <td>round-robin</td>\n",
       "      <td>Bangalore</td>\n",
       "      <td>1</td>\n",
       "      <td>Kolkata Knight Riders</td>\n",
       "      <td>Royal Challengers Bangalore</td>\n",
       "      <td>top</td>\n",
       "      <td>top</td>\n",
       "      <td>pacer</td>\n",
       "      <td>0.3</td>\n",
       "      <td>...</td>\n",
       "      <td>0</td>\n",
       "      <td>0</td>\n",
       "      <td>0</td>\n",
       "      <td>0</td>\n",
       "      <td>0</td>\n",
       "      <td></td>\n",
       "      <td>0</td>\n",
       "      <td>kumar to mccullum, no run, too straight, mccul...</td>\n",
       "      <td>Unknown</td>\n",
       "      <td>2</td>\n",
       "    </tr>\n",
       "    <tr>\n",
       "      <th>4</th>\n",
       "      <td>2008</td>\n",
       "      <td>round-robin</td>\n",
       "      <td>Bangalore</td>\n",
       "      <td>1</td>\n",
       "      <td>Kolkata Knight Riders</td>\n",
       "      <td>Royal Challengers Bangalore</td>\n",
       "      <td>top</td>\n",
       "      <td>top</td>\n",
       "      <td>pacer</td>\n",
       "      <td>0.4</td>\n",
       "      <td>...</td>\n",
       "      <td>0</td>\n",
       "      <td>0</td>\n",
       "      <td>0</td>\n",
       "      <td>0</td>\n",
       "      <td>0</td>\n",
       "      <td></td>\n",
       "      <td>0</td>\n",
       "      <td>kumar to mccullum, no run, steps down the trac...</td>\n",
       "      <td>good</td>\n",
       "      <td>2</td>\n",
       "    </tr>\n",
       "    <tr>\n",
       "      <th>...</th>\n",
       "      <td>...</td>\n",
       "      <td>...</td>\n",
       "      <td>...</td>\n",
       "      <td>...</td>\n",
       "      <td>...</td>\n",
       "      <td>...</td>\n",
       "      <td>...</td>\n",
       "      <td>...</td>\n",
       "      <td>...</td>\n",
       "      <td>...</td>\n",
       "      <td>...</td>\n",
       "      <td>...</td>\n",
       "      <td>...</td>\n",
       "      <td>...</td>\n",
       "      <td>...</td>\n",
       "      <td>...</td>\n",
       "      <td>...</td>\n",
       "      <td>...</td>\n",
       "      <td>...</td>\n",
       "      <td>...</td>\n",
       "      <td>...</td>\n",
       "    </tr>\n",
       "    <tr>\n",
       "      <th>131021</th>\n",
       "      <td>2019</td>\n",
       "      <td>round-robin</td>\n",
       "      <td>Mumbai</td>\n",
       "      <td>2</td>\n",
       "      <td>Mumbai Indians</td>\n",
       "      <td>Kolkata Knight Riders</td>\n",
       "      <td>top</td>\n",
       "      <td>top</td>\n",
       "      <td>pacer</td>\n",
       "      <td>15.3</td>\n",
       "      <td>...</td>\n",
       "      <td>0</td>\n",
       "      <td>0</td>\n",
       "      <td>0</td>\n",
       "      <td>0</td>\n",
       "      <td>0</td>\n",
       "      <td></td>\n",
       "      <td>1</td>\n",
       "      <td>prasidh krishna to sharma, no run,ê</td>\n",
       "      <td>Unknown</td>\n",
       "      <td>122</td>\n",
       "    </tr>\n",
       "    <tr>\n",
       "      <th>131022</th>\n",
       "      <td>2019</td>\n",
       "      <td>round-robin</td>\n",
       "      <td>Mumbai</td>\n",
       "      <td>2</td>\n",
       "      <td>Mumbai Indians</td>\n",
       "      <td>Kolkata Knight Riders</td>\n",
       "      <td>top</td>\n",
       "      <td>top</td>\n",
       "      <td>pacer</td>\n",
       "      <td>15.4</td>\n",
       "      <td>...</td>\n",
       "      <td>0</td>\n",
       "      <td>0</td>\n",
       "      <td>4</td>\n",
       "      <td>0</td>\n",
       "      <td>4</td>\n",
       "      <td></td>\n",
       "      <td>1</td>\n",
       "      <td>prasidh krishna to sharma, four runs, chipped ...</td>\n",
       "      <td>full</td>\n",
       "      <td>126</td>\n",
       "    </tr>\n",
       "    <tr>\n",
       "      <th>131023</th>\n",
       "      <td>2019</td>\n",
       "      <td>round-robin</td>\n",
       "      <td>Mumbai</td>\n",
       "      <td>2</td>\n",
       "      <td>Mumbai Indians</td>\n",
       "      <td>Kolkata Knight Riders</td>\n",
       "      <td>top</td>\n",
       "      <td>top</td>\n",
       "      <td>pacer</td>\n",
       "      <td>15.5</td>\n",
       "      <td>...</td>\n",
       "      <td>0</td>\n",
       "      <td>0</td>\n",
       "      <td>1</td>\n",
       "      <td>0</td>\n",
       "      <td>1</td>\n",
       "      <td></td>\n",
       "      <td>1</td>\n",
       "      <td>prasidh krishna to sharma, 1 run, very full, j...</td>\n",
       "      <td>full</td>\n",
       "      <td>127</td>\n",
       "    </tr>\n",
       "    <tr>\n",
       "      <th>131024</th>\n",
       "      <td>2019</td>\n",
       "      <td>round-robin</td>\n",
       "      <td>Mumbai</td>\n",
       "      <td>2</td>\n",
       "      <td>Mumbai Indians</td>\n",
       "      <td>Kolkata Knight Riders</td>\n",
       "      <td>top</td>\n",
       "      <td>top</td>\n",
       "      <td>pacer</td>\n",
       "      <td>15.6</td>\n",
       "      <td>...</td>\n",
       "      <td>0</td>\n",
       "      <td>0</td>\n",
       "      <td>1</td>\n",
       "      <td>0</td>\n",
       "      <td>1</td>\n",
       "      <td></td>\n",
       "      <td>1</td>\n",
       "      <td>prasidh krishna to yadav, 1 run, prasidh digs ...</td>\n",
       "      <td>short</td>\n",
       "      <td>128</td>\n",
       "    </tr>\n",
       "    <tr>\n",
       "      <th>131025</th>\n",
       "      <td>2019</td>\n",
       "      <td>round-robin</td>\n",
       "      <td>Mumbai</td>\n",
       "      <td>2</td>\n",
       "      <td>Mumbai Indians</td>\n",
       "      <td>Kolkata Knight Riders</td>\n",
       "      <td>top</td>\n",
       "      <td>top</td>\n",
       "      <td>pacer</td>\n",
       "      <td>16.1</td>\n",
       "      <td>...</td>\n",
       "      <td>0</td>\n",
       "      <td>0</td>\n",
       "      <td>6</td>\n",
       "      <td>0</td>\n",
       "      <td>6</td>\n",
       "      <td></td>\n",
       "      <td>1</td>\n",
       "      <td>russell to yadav, six runs, and the match ends...</td>\n",
       "      <td>short</td>\n",
       "      <td>134</td>\n",
       "    </tr>\n",
       "  </tbody>\n",
       "</table>\n",
       "<p>122815 rows × 22 columns</p>\n",
       "</div>"
      ],
      "text/plain": [
       "        season     match_id      venue  inning           batting_team  \\\n",
       "0         2008  round-robin  Bangalore       1  Kolkata Knight Riders   \n",
       "1         2008  round-robin  Bangalore       1  Kolkata Knight Riders   \n",
       "2         2008  round-robin  Bangalore       1  Kolkata Knight Riders   \n",
       "3         2008  round-robin  Bangalore       1  Kolkata Knight Riders   \n",
       "4         2008  round-robin  Bangalore       1  Kolkata Knight Riders   \n",
       "...        ...          ...        ...     ...                    ...   \n",
       "131021    2019  round-robin     Mumbai       2         Mumbai Indians   \n",
       "131022    2019  round-robin     Mumbai       2         Mumbai Indians   \n",
       "131023    2019  round-robin     Mumbai       2         Mumbai Indians   \n",
       "131024    2019  round-robin     Mumbai       2         Mumbai Indians   \n",
       "131025    2019  round-robin     Mumbai       2         Mumbai Indians   \n",
       "\n",
       "                       bowling_team batsman non_striker bowler  ball  ...  \\\n",
       "0       Royal Challengers Bangalore     top         top  pacer   0.1  ...   \n",
       "1       Royal Challengers Bangalore     top         top  pacer   0.2  ...   \n",
       "2       Royal Challengers Bangalore     top         top  pacer   0.3  ...   \n",
       "3       Royal Challengers Bangalore     top         top  pacer   0.3  ...   \n",
       "4       Royal Challengers Bangalore     top         top  pacer   0.4  ...   \n",
       "...                             ...     ...         ...    ...   ...  ...   \n",
       "131021        Kolkata Knight Riders     top         top  pacer  15.3  ...   \n",
       "131022        Kolkata Knight Riders     top         top  pacer  15.4  ...   \n",
       "131023        Kolkata Knight Riders     top         top  pacer  15.5  ...   \n",
       "131024        Kolkata Knight Riders     top         top  pacer  15.6  ...   \n",
       "131025        Kolkata Knight Riders     top         top  pacer  16.1  ...   \n",
       "\n",
       "        legbye_runs  noball_runs  batsman_runs  extra_runs  total_runs  \\\n",
       "0                 1            0             0           1           1   \n",
       "1                 0            0             0           0           0   \n",
       "2                 0            0             0           1           1   \n",
       "3                 0            0             0           0           0   \n",
       "4                 0            0             0           0           0   \n",
       "...             ...          ...           ...         ...         ...   \n",
       "131021            0            0             0           0           0   \n",
       "131022            0            0             4           0           4   \n",
       "131023            0            0             1           0           1   \n",
       "131024            0            0             1           0           1   \n",
       "131025            0            0             6           0           6   \n",
       "\n",
       "        dismissal_kind  wickets  \\\n",
       "0                             0   \n",
       "1                             0   \n",
       "2                             0   \n",
       "3                             0   \n",
       "4                             0   \n",
       "...                ...      ...   \n",
       "131021                        1   \n",
       "131022                        1   \n",
       "131023                        1   \n",
       "131024                        1   \n",
       "131025                        1   \n",
       "\n",
       "                                               commentary  ball_length  \\\n",
       "0       kumar to ganguly, 1 leg bye, and thats runs im...         full   \n",
       "1       kumar to mccullum, no run, this one nips back ...         good   \n",
       "2       kumar to mccullum, 1 wide, thats wide, as prav...      Unknown   \n",
       "3       kumar to mccullum, no run, too straight, mccul...      Unknown   \n",
       "4       kumar to mccullum, no run, steps down the trac...         good   \n",
       "...                                                   ...          ...   \n",
       "131021                prasidh krishna to sharma, no run,ê      Unknown   \n",
       "131022  prasidh krishna to sharma, four runs, chipped ...         full   \n",
       "131023  prasidh krishna to sharma, 1 run, very full, j...         full   \n",
       "131024  prasidh krishna to yadav, 1 run, prasidh digs ...        short   \n",
       "131025  russell to yadav, six runs, and the match ends...        short   \n",
       "\n",
       "       cumulative_runs  \n",
       "0                    1  \n",
       "1                    1  \n",
       "2                    2  \n",
       "3                    2  \n",
       "4                    2  \n",
       "...                ...  \n",
       "131021             122  \n",
       "131022             126  \n",
       "131023             127  \n",
       "131024             128  \n",
       "131025             134  \n",
       "\n",
       "[122815 rows x 22 columns]"
      ]
     },
     "execution_count": 197,
     "metadata": {},
     "output_type": "execute_result"
    }
   ],
   "source": [
    "df.loc[df.match_id == \"round-robin\"]"
   ]
  },
  {
   "cell_type": "code",
   "execution_count": 198,
   "metadata": {},
   "outputs": [],
   "source": [
    "df.rename(columns={\"match_id\": \"match_type\", \"bowler\": \"bowler_type\"}, inplace=True)"
   ]
  },
  {
   "cell_type": "markdown",
   "metadata": {},
   "source": [
    "## Feature Engineering `runs_left_to_win` from `cumulative_runs` per ball "
   ]
  },
  {
   "cell_type": "code",
   "execution_count": 199,
   "metadata": {},
   "outputs": [
    {
     "name": "stderr",
     "output_type": "stream",
     "text": [
      "/var/folders/r6/q0qh39ts70582wth4g1dhjhm0000gn/T/ipykernel_17020/1385285832.py:5: SettingWithCopyWarning:\n",
      "\n",
      "\n",
      "A value is trying to be set on a copy of a slice from a DataFrame.\n",
      "Try using .loc[row_indexer,col_indexer] = value instead\n",
      "\n",
      "See the caveats in the documentation: https://pandas.pydata.org/pandas-docs/stable/user_guide/indexing.html#returning-a-view-versus-a-copy\n",
      "\n"
     ]
    },
    {
     "data": {
      "text/html": [
       "<div>\n",
       "<style scoped>\n",
       "    .dataframe tbody tr th:only-of-type {\n",
       "        vertical-align: middle;\n",
       "    }\n",
       "\n",
       "    .dataframe tbody tr th {\n",
       "        vertical-align: top;\n",
       "    }\n",
       "\n",
       "    .dataframe thead th {\n",
       "        text-align: right;\n",
       "    }\n",
       "</style>\n",
       "<table border=\"1\" class=\"dataframe\">\n",
       "  <thead>\n",
       "    <tr style=\"text-align: right;\">\n",
       "      <th></th>\n",
       "      <th>season</th>\n",
       "      <th>match_type</th>\n",
       "      <th>venue</th>\n",
       "      <th>inning</th>\n",
       "      <th>batting_team</th>\n",
       "      <th>bowling_team</th>\n",
       "      <th>batsman</th>\n",
       "      <th>non_striker</th>\n",
       "      <th>bowler_type</th>\n",
       "      <th>ball</th>\n",
       "      <th>...</th>\n",
       "      <th>noball_runs</th>\n",
       "      <th>batsman_runs</th>\n",
       "      <th>extra_runs</th>\n",
       "      <th>total_runs</th>\n",
       "      <th>dismissal_kind</th>\n",
       "      <th>wickets</th>\n",
       "      <th>commentary</th>\n",
       "      <th>ball_length</th>\n",
       "      <th>cumulative_runs</th>\n",
       "      <th>runs_left_to_win</th>\n",
       "    </tr>\n",
       "  </thead>\n",
       "  <tbody>\n",
       "    <tr>\n",
       "      <th>0</th>\n",
       "      <td>2008</td>\n",
       "      <td>round-robin</td>\n",
       "      <td>Bangalore</td>\n",
       "      <td>1</td>\n",
       "      <td>Kolkata Knight Riders</td>\n",
       "      <td>Royal Challengers Bangalore</td>\n",
       "      <td>top</td>\n",
       "      <td>top</td>\n",
       "      <td>pacer</td>\n",
       "      <td>0.1</td>\n",
       "      <td>...</td>\n",
       "      <td>0</td>\n",
       "      <td>0</td>\n",
       "      <td>1</td>\n",
       "      <td>1</td>\n",
       "      <td></td>\n",
       "      <td>0</td>\n",
       "      <td>kumar to ganguly, 1 leg bye, and thats runs im...</td>\n",
       "      <td>full</td>\n",
       "      <td>1</td>\n",
       "      <td>0.0</td>\n",
       "    </tr>\n",
       "    <tr>\n",
       "      <th>1</th>\n",
       "      <td>2008</td>\n",
       "      <td>round-robin</td>\n",
       "      <td>Bangalore</td>\n",
       "      <td>1</td>\n",
       "      <td>Kolkata Knight Riders</td>\n",
       "      <td>Royal Challengers Bangalore</td>\n",
       "      <td>top</td>\n",
       "      <td>top</td>\n",
       "      <td>pacer</td>\n",
       "      <td>0.2</td>\n",
       "      <td>...</td>\n",
       "      <td>0</td>\n",
       "      <td>0</td>\n",
       "      <td>0</td>\n",
       "      <td>0</td>\n",
       "      <td></td>\n",
       "      <td>0</td>\n",
       "      <td>kumar to mccullum, no run, this one nips back ...</td>\n",
       "      <td>good</td>\n",
       "      <td>1</td>\n",
       "      <td>0.0</td>\n",
       "    </tr>\n",
       "    <tr>\n",
       "      <th>2</th>\n",
       "      <td>2008</td>\n",
       "      <td>round-robin</td>\n",
       "      <td>Bangalore</td>\n",
       "      <td>1</td>\n",
       "      <td>Kolkata Knight Riders</td>\n",
       "      <td>Royal Challengers Bangalore</td>\n",
       "      <td>top</td>\n",
       "      <td>top</td>\n",
       "      <td>pacer</td>\n",
       "      <td>0.3</td>\n",
       "      <td>...</td>\n",
       "      <td>0</td>\n",
       "      <td>0</td>\n",
       "      <td>1</td>\n",
       "      <td>1</td>\n",
       "      <td></td>\n",
       "      <td>0</td>\n",
       "      <td>kumar to mccullum, 1 wide, thats wide, as prav...</td>\n",
       "      <td>Unknown</td>\n",
       "      <td>2</td>\n",
       "      <td>0.0</td>\n",
       "    </tr>\n",
       "    <tr>\n",
       "      <th>3</th>\n",
       "      <td>2008</td>\n",
       "      <td>round-robin</td>\n",
       "      <td>Bangalore</td>\n",
       "      <td>1</td>\n",
       "      <td>Kolkata Knight Riders</td>\n",
       "      <td>Royal Challengers Bangalore</td>\n",
       "      <td>top</td>\n",
       "      <td>top</td>\n",
       "      <td>pacer</td>\n",
       "      <td>0.3</td>\n",
       "      <td>...</td>\n",
       "      <td>0</td>\n",
       "      <td>0</td>\n",
       "      <td>0</td>\n",
       "      <td>0</td>\n",
       "      <td></td>\n",
       "      <td>0</td>\n",
       "      <td>kumar to mccullum, no run, too straight, mccul...</td>\n",
       "      <td>Unknown</td>\n",
       "      <td>2</td>\n",
       "      <td>0.0</td>\n",
       "    </tr>\n",
       "    <tr>\n",
       "      <th>4</th>\n",
       "      <td>2008</td>\n",
       "      <td>round-robin</td>\n",
       "      <td>Bangalore</td>\n",
       "      <td>1</td>\n",
       "      <td>Kolkata Knight Riders</td>\n",
       "      <td>Royal Challengers Bangalore</td>\n",
       "      <td>top</td>\n",
       "      <td>top</td>\n",
       "      <td>pacer</td>\n",
       "      <td>0.4</td>\n",
       "      <td>...</td>\n",
       "      <td>0</td>\n",
       "      <td>0</td>\n",
       "      <td>0</td>\n",
       "      <td>0</td>\n",
       "      <td></td>\n",
       "      <td>0</td>\n",
       "      <td>kumar to mccullum, no run, steps down the trac...</td>\n",
       "      <td>good</td>\n",
       "      <td>2</td>\n",
       "      <td>0.0</td>\n",
       "    </tr>\n",
       "  </tbody>\n",
       "</table>\n",
       "<p>5 rows × 23 columns</p>\n",
       "</div>"
      ],
      "text/plain": [
       "   season   match_type      venue  inning           batting_team  \\\n",
       "0    2008  round-robin  Bangalore       1  Kolkata Knight Riders   \n",
       "1    2008  round-robin  Bangalore       1  Kolkata Knight Riders   \n",
       "2    2008  round-robin  Bangalore       1  Kolkata Knight Riders   \n",
       "3    2008  round-robin  Bangalore       1  Kolkata Knight Riders   \n",
       "4    2008  round-robin  Bangalore       1  Kolkata Knight Riders   \n",
       "\n",
       "                  bowling_team batsman non_striker bowler_type  ball  ...  \\\n",
       "0  Royal Challengers Bangalore     top         top       pacer   0.1  ...   \n",
       "1  Royal Challengers Bangalore     top         top       pacer   0.2  ...   \n",
       "2  Royal Challengers Bangalore     top         top       pacer   0.3  ...   \n",
       "3  Royal Challengers Bangalore     top         top       pacer   0.3  ...   \n",
       "4  Royal Challengers Bangalore     top         top       pacer   0.4  ...   \n",
       "\n",
       "   noball_runs  batsman_runs  extra_runs  total_runs  dismissal_kind  wickets  \\\n",
       "0            0             0           1           1                        0   \n",
       "1            0             0           0           0                        0   \n",
       "2            0             0           1           1                        0   \n",
       "3            0             0           0           0                        0   \n",
       "4            0             0           0           0                        0   \n",
       "\n",
       "                                          commentary ball_length  \\\n",
       "0  kumar to ganguly, 1 leg bye, and thats runs im...        full   \n",
       "1  kumar to mccullum, no run, this one nips back ...        good   \n",
       "2  kumar to mccullum, 1 wide, thats wide, as prav...     Unknown   \n",
       "3  kumar to mccullum, no run, too straight, mccul...     Unknown   \n",
       "4  kumar to mccullum, no run, steps down the trac...        good   \n",
       "\n",
       "   cumulative_runs runs_left_to_win  \n",
       "0                1              0.0  \n",
       "1                1              0.0  \n",
       "2                2              0.0  \n",
       "3                2              0.0  \n",
       "4                2              0.0  \n",
       "\n",
       "[5 rows x 23 columns]"
      ]
     },
     "execution_count": 199,
     "metadata": {},
     "output_type": "execute_result"
    }
   ],
   "source": [
    "# Find the rows where inning==1 and the inning changes from 1 to 2 (i.e. the last ball of the first innings)\n",
    "last_ball_first_innings = df[(df[\"inning\"] == 1) & (df[\"inning\"].shift(-1) == 2)]\n",
    "\n",
    "# Calculate the target value for each match\n",
    "last_ball_first_innings[\"target\"] = last_ball_first_innings[\"cumulative_runs\"] + 1\n",
    "\n",
    "# Merge the 'target' column back to the original DataFrame based on matching columns\n",
    "df = pd.merge(\n",
    "    df,\n",
    "    last_ball_first_innings[\n",
    "        [\n",
    "            \"season\",\n",
    "            \"match_type\",\n",
    "            \"venue\",\n",
    "            \"inning\",\n",
    "            \"ball\",\n",
    "            \"batting_team\",\n",
    "            \"bowling_team\",\n",
    "            \"target\",\n",
    "        ]\n",
    "    ],\n",
    "    on=[\n",
    "        \"season\",\n",
    "        \"match_type\",\n",
    "        \"venue\",\n",
    "        \"inning\",\n",
    "        \"ball\",\n",
    "        \"batting_team\",\n",
    "        \"bowling_team\",\n",
    "    ],\n",
    "    how=\"left\",\n",
    ")\n",
    "\n",
    "# now we have the target column for each ball but it is only populated for the last ball of the first innings\n",
    "\n",
    "# populate second innings target values for each ball with the target value of the last ball of the first innings\n",
    "\n",
    "# using while loop to populate target values for each ball in the second innings\n",
    "\n",
    "i = 0\n",
    "\n",
    "while i < df.shape[0]:\n",
    "    if df.loc[i, \"inning\"] == 2:\n",
    "        df.loc[i, \"target\"] = df.loc[i - 1, \"target\"]\n",
    "    i += 1\n",
    "\n",
    "# populate all first innings target values for each ball with 0\n",
    "\n",
    "df[\"target\"] = np.where((df[\"inning\"] == 1), 0, df[\"target\"])\n",
    "\n",
    "# convert `target` column to runs_left_to_win\n",
    "\n",
    "df[\"target\"] = np.where(\n",
    "    (df[\"inning\"] == 2), df[\"target\"] - df[\"cumulative_runs\"], df[\"target\"]\n",
    ")\n",
    "\n",
    "df.rename(columns={\"target\": \"runs_left_to_win\"}, inplace=True)\n",
    "\n",
    "df.head()"
   ]
  },
  {
   "cell_type": "code",
   "execution_count": 200,
   "metadata": {},
   "outputs": [
    {
     "data": {
      "text/plain": [
       "(132007, 23)"
      ]
     },
     "execution_count": 200,
     "metadata": {},
     "output_type": "execute_result"
    }
   ],
   "source": [
    "df.shape"
   ]
  },
  {
   "cell_type": "markdown",
   "metadata": {},
   "source": [
    "## Feature Engineering `Event` Response Variable"
   ]
  },
  {
   "cell_type": "code",
   "execution_count": 201,
   "metadata": {},
   "outputs": [],
   "source": [
    "df[\"batsman_runs\"] = df[\"batsman_runs\"].astype(\"int64\")\n",
    "df[\"total_runs\"] = df[\"total_runs\"].astype(\"int64\")\n",
    "df[\"extra_runs\"] = df[\"extra_runs\"].astype(\"int64\")\n",
    "df[\"noball_runs\"] = df[\"noball_runs\"].astype(\"int64\")\n",
    "df[\"legbye_runs\"] = df[\"legbye_runs\"].astype(\"int64\")\n",
    "df[\"bye_runs\"] = df[\"bye_runs\"].astype(\"int64\")\n",
    "df[\"wide_runs\"] = df[\"wide_runs\"].astype(\"int64\")\n",
    "\n",
    "\n",
    "def event_pred(row):\n",
    "    if (\n",
    "        row[\"batsman_runs\"] == 0\n",
    "        and row[\"extra_runs\"] == 0\n",
    "        and row[\"total_runs\"] == 0\n",
    "        and row[\"dismissal_kind\"] != \"bowled\"\n",
    "        and row[\"dismissal_kind\"] != \"caught\"\n",
    "        and row[\"dismissal_kind\"] != \"caught and bowled\"\n",
    "        and row[\"dismissal_kind\"] != \"hit wicket\"\n",
    "        and row[\"dismissal_kind\"] != \"lbw\"\n",
    "        and row[\"dismissal_kind\"] != \"obstructing the field\"\n",
    "        and row[\"dismissal_kind\"] != \"retired hurt\"\n",
    "        and row[\"dismissal_kind\"] != \"run out\"\n",
    "        and row[\"dismissal_kind\"] != \"stumped\"\n",
    "    ):\n",
    "        return \"Dot\"\n",
    "    if (\n",
    "        row[\"batsman_runs\"] > 0\n",
    "        and row[\"extra_runs\"] == 0\n",
    "        and row[\"total_runs\"] > 0\n",
    "        and row[\"dismissal_kind\"] != \"bowled\"\n",
    "        and row[\"dismissal_kind\"] != \"caught\"\n",
    "        and row[\"dismissal_kind\"] != \"caught and bowled\"\n",
    "        and row[\"dismissal_kind\"] != \"hit wicket\"\n",
    "        and row[\"dismissal_kind\"] != \"lbw\"\n",
    "        and row[\"dismissal_kind\"] != \"obstructing the field\"\n",
    "        and row[\"dismissal_kind\"] != \"retired hurt\"\n",
    "        and row[\"dismissal_kind\"] != \"run out\"\n",
    "        and row[\"dismissal_kind\"] != \"stumped\"\n",
    "    ):\n",
    "        return \"Runs\"\n",
    "    if (\n",
    "        row[\"wide_runs\"] > 0\n",
    "        or row[\"bye_runs\"] > 0\n",
    "        or row[\"legbye_runs\"] > 0\n",
    "        or row[\"noball_runs\"] > 0\n",
    "        or row[\"batsman_runs\"] >= 0\n",
    "        and row[\"extra_runs\"] > 0\n",
    "        and row[\"total_runs\"] > 0\n",
    "        and row[\"dismissal_kind\"] != \"bowled\"\n",
    "        and row[\"dismissal_kind\"] != \"caught\"\n",
    "        and row[\"dismissal_kind\"] != \"caught and bowled\"\n",
    "        and row[\"dismissal_kind\"] != \"hit wicket\"\n",
    "        and row[\"dismissal_kind\"] != \"lbw\"\n",
    "        and row[\"dismissal_kind\"] != \"obstructing the field\"\n",
    "        and row[\"dismissal_kind\"] != \"retired hurt\"\n",
    "        and row[\"dismissal_kind\"] != \"run out\"\n",
    "        and row[\"dismissal_kind\"] != \"stumped\"\n",
    "    ):\n",
    "        return \"Extras\"\n",
    "    if (\n",
    "        row[\"dismissal_kind\"] == \"bowled\"\n",
    "        or row[\"dismissal_kind\"] == \"caught\"\n",
    "        or row[\"dismissal_kind\"] == \"caught and bowled\"\n",
    "        or row[\"dismissal_kind\"] == \"hit wicket\"\n",
    "        or row[\"dismissal_kind\"] == \"lbw\"\n",
    "        or row[\"dismissal_kind\"] == \"obstructing the field\"\n",
    "        or row[\"dismissal_kind\"] == \"retired hurt\"\n",
    "        or row[\"dismissal_kind\"] == \"run out\"\n",
    "        or row[\"dismissal_kind\"] == \"stumped\"\n",
    "    ):\n",
    "        return \"WICKET!\""
   ]
  },
  {
   "cell_type": "code",
   "execution_count": 202,
   "metadata": {},
   "outputs": [],
   "source": [
    "df[\"event\"] = df.apply(lambda row: event_pred(row), axis=1)"
   ]
  },
  {
   "cell_type": "code",
   "execution_count": 203,
   "metadata": {},
   "outputs": [
    {
     "data": {
      "text/plain": [
       "39869"
      ]
     },
     "execution_count": 203,
     "metadata": {},
     "output_type": "execute_result"
    }
   ],
   "source": [
    "df.loc[df.event == \"Dot\"].shape[0]"
   ]
  },
  {
   "cell_type": "code",
   "execution_count": 204,
   "metadata": {},
   "outputs": [
    {
     "data": {
      "text/plain": [
       "78599"
      ]
     },
     "execution_count": 204,
     "metadata": {},
     "output_type": "execute_result"
    }
   ],
   "source": [
    "df.loc[df.event == \"Runs\"].shape[0]"
   ]
  },
  {
   "cell_type": "code",
   "execution_count": 205,
   "metadata": {},
   "outputs": [
    {
     "data": {
      "text/plain": [
       "7080"
      ]
     },
     "execution_count": 205,
     "metadata": {},
     "output_type": "execute_result"
    }
   ],
   "source": [
    "df.loc[df.event == \"Extras\"].shape[0]"
   ]
  },
  {
   "cell_type": "code",
   "execution_count": 206,
   "metadata": {},
   "outputs": [
    {
     "data": {
      "text/plain": [
       "6459"
      ]
     },
     "execution_count": 206,
     "metadata": {},
     "output_type": "execute_result"
    }
   ],
   "source": [
    "df.loc[df.event == \"WICKET!\"].shape[0]"
   ]
  },
  {
   "cell_type": "code",
   "execution_count": 207,
   "metadata": {
    "scrolled": true
   },
   "outputs": [
    {
     "data": {
      "text/plain": [
       "season                int64\n",
       "match_type           object\n",
       "venue                object\n",
       "inning                int64\n",
       "batting_team         object\n",
       "bowling_team         object\n",
       "batsman              object\n",
       "non_striker          object\n",
       "bowler_type          object\n",
       "ball                float64\n",
       "wide_runs             int64\n",
       "bye_runs              int64\n",
       "legbye_runs           int64\n",
       "noball_runs           int64\n",
       "batsman_runs          int64\n",
       "extra_runs            int64\n",
       "total_runs            int64\n",
       "dismissal_kind       object\n",
       "wickets               int64\n",
       "commentary           object\n",
       "ball_length          object\n",
       "cumulative_runs       int64\n",
       "runs_left_to_win    float64\n",
       "event                object\n",
       "dtype: object"
      ]
     },
     "execution_count": 207,
     "metadata": {},
     "output_type": "execute_result"
    }
   ],
   "source": [
    "df.dtypes"
   ]
  },
  {
   "cell_type": "markdown",
   "metadata": {},
   "source": [
    "## Dropping Unnecessary Columns "
   ]
  },
  {
   "cell_type": "code",
   "execution_count": 208,
   "metadata": {},
   "outputs": [
    {
     "data": {
      "text/html": [
       "<div>\n",
       "<style scoped>\n",
       "    .dataframe tbody tr th:only-of-type {\n",
       "        vertical-align: middle;\n",
       "    }\n",
       "\n",
       "    .dataframe tbody tr th {\n",
       "        vertical-align: top;\n",
       "    }\n",
       "\n",
       "    .dataframe thead th {\n",
       "        text-align: right;\n",
       "    }\n",
       "</style>\n",
       "<table border=\"1\" class=\"dataframe\">\n",
       "  <thead>\n",
       "    <tr style=\"text-align: right;\">\n",
       "      <th></th>\n",
       "      <th>season</th>\n",
       "      <th>match_type</th>\n",
       "      <th>venue</th>\n",
       "      <th>inning</th>\n",
       "      <th>batting_team</th>\n",
       "      <th>bowling_team</th>\n",
       "      <th>batsman</th>\n",
       "      <th>non_striker</th>\n",
       "      <th>bowler_type</th>\n",
       "      <th>ball</th>\n",
       "      <th>wickets</th>\n",
       "      <th>ball_length</th>\n",
       "      <th>cumulative_runs</th>\n",
       "      <th>runs_left_to_win</th>\n",
       "      <th>event</th>\n",
       "    </tr>\n",
       "  </thead>\n",
       "  <tbody>\n",
       "    <tr>\n",
       "      <th>0</th>\n",
       "      <td>2008</td>\n",
       "      <td>round-robin</td>\n",
       "      <td>Bangalore</td>\n",
       "      <td>1</td>\n",
       "      <td>Kolkata Knight Riders</td>\n",
       "      <td>Royal Challengers Bangalore</td>\n",
       "      <td>top</td>\n",
       "      <td>top</td>\n",
       "      <td>pacer</td>\n",
       "      <td>0.1</td>\n",
       "      <td>0</td>\n",
       "      <td>full</td>\n",
       "      <td>1</td>\n",
       "      <td>0</td>\n",
       "      <td>Extras</td>\n",
       "    </tr>\n",
       "    <tr>\n",
       "      <th>1</th>\n",
       "      <td>2008</td>\n",
       "      <td>round-robin</td>\n",
       "      <td>Bangalore</td>\n",
       "      <td>1</td>\n",
       "      <td>Kolkata Knight Riders</td>\n",
       "      <td>Royal Challengers Bangalore</td>\n",
       "      <td>top</td>\n",
       "      <td>top</td>\n",
       "      <td>pacer</td>\n",
       "      <td>0.2</td>\n",
       "      <td>0</td>\n",
       "      <td>good</td>\n",
       "      <td>1</td>\n",
       "      <td>0</td>\n",
       "      <td>Dot</td>\n",
       "    </tr>\n",
       "    <tr>\n",
       "      <th>2</th>\n",
       "      <td>2008</td>\n",
       "      <td>round-robin</td>\n",
       "      <td>Bangalore</td>\n",
       "      <td>1</td>\n",
       "      <td>Kolkata Knight Riders</td>\n",
       "      <td>Royal Challengers Bangalore</td>\n",
       "      <td>top</td>\n",
       "      <td>top</td>\n",
       "      <td>pacer</td>\n",
       "      <td>0.3</td>\n",
       "      <td>0</td>\n",
       "      <td>Unknown</td>\n",
       "      <td>2</td>\n",
       "      <td>0</td>\n",
       "      <td>Extras</td>\n",
       "    </tr>\n",
       "    <tr>\n",
       "      <th>3</th>\n",
       "      <td>2008</td>\n",
       "      <td>round-robin</td>\n",
       "      <td>Bangalore</td>\n",
       "      <td>1</td>\n",
       "      <td>Kolkata Knight Riders</td>\n",
       "      <td>Royal Challengers Bangalore</td>\n",
       "      <td>top</td>\n",
       "      <td>top</td>\n",
       "      <td>pacer</td>\n",
       "      <td>0.3</td>\n",
       "      <td>0</td>\n",
       "      <td>Unknown</td>\n",
       "      <td>2</td>\n",
       "      <td>0</td>\n",
       "      <td>Dot</td>\n",
       "    </tr>\n",
       "    <tr>\n",
       "      <th>4</th>\n",
       "      <td>2008</td>\n",
       "      <td>round-robin</td>\n",
       "      <td>Bangalore</td>\n",
       "      <td>1</td>\n",
       "      <td>Kolkata Knight Riders</td>\n",
       "      <td>Royal Challengers Bangalore</td>\n",
       "      <td>top</td>\n",
       "      <td>top</td>\n",
       "      <td>pacer</td>\n",
       "      <td>0.4</td>\n",
       "      <td>0</td>\n",
       "      <td>good</td>\n",
       "      <td>2</td>\n",
       "      <td>0</td>\n",
       "      <td>Dot</td>\n",
       "    </tr>\n",
       "  </tbody>\n",
       "</table>\n",
       "</div>"
      ],
      "text/plain": [
       "   season   match_type      venue inning           batting_team  \\\n",
       "0    2008  round-robin  Bangalore      1  Kolkata Knight Riders   \n",
       "1    2008  round-robin  Bangalore      1  Kolkata Knight Riders   \n",
       "2    2008  round-robin  Bangalore      1  Kolkata Knight Riders   \n",
       "3    2008  round-robin  Bangalore      1  Kolkata Knight Riders   \n",
       "4    2008  round-robin  Bangalore      1  Kolkata Knight Riders   \n",
       "\n",
       "                  bowling_team batsman non_striker bowler_type  ball  wickets  \\\n",
       "0  Royal Challengers Bangalore     top         top       pacer   0.1        0   \n",
       "1  Royal Challengers Bangalore     top         top       pacer   0.2        0   \n",
       "2  Royal Challengers Bangalore     top         top       pacer   0.3        0   \n",
       "3  Royal Challengers Bangalore     top         top       pacer   0.3        0   \n",
       "4  Royal Challengers Bangalore     top         top       pacer   0.4        0   \n",
       "\n",
       "  ball_length  cumulative_runs  runs_left_to_win   event  \n",
       "0        full                1                 0  Extras  \n",
       "1        good                1                 0     Dot  \n",
       "2     Unknown                2                 0  Extras  \n",
       "3     Unknown                2                 0     Dot  \n",
       "4        good                2                 0     Dot  "
      ]
     },
     "execution_count": 208,
     "metadata": {},
     "output_type": "execute_result"
    }
   ],
   "source": [
    "df[\"match_type\"] = df[\"match_type\"].astype(\"category\")\n",
    "df[\"venue\"] = df[\"venue\"].astype(\"category\")\n",
    "df[\"inning\"] = df[\"inning\"].astype(\"category\")\n",
    "df[\"batting_team\"] = df[\"batting_team\"].astype(\"category\")\n",
    "df[\"bowling_team\"] = df[\"bowling_team\"].astype(\"category\")\n",
    "df[\"batsman\"] = df[\"batsman\"].astype(\"category\")\n",
    "df[\"non_striker\"] = df[\"non_striker\"].astype(\"category\")\n",
    "df[\"bowler_type\"] = df[\"bowler_type\"].astype(\"category\")\n",
    "df[\"ball_length\"] = df[\"ball_length\"].astype(\"category\")\n",
    "df[\"ball\"] = df[\"ball\"].astype(\"float64\")\n",
    "df[\"wickets\"] = df[\"wickets\"].astype(\"int64\")\n",
    "df[\"cumulative_runs\"] = df[\"cumulative_runs\"].astype(\"int64\")\n",
    "df[\"runs_left_to_win\"] = df[\"runs_left_to_win\"].astype(\"int64\")\n",
    "\n",
    "df[\"event\"] = df[\"event\"].astype(\"object\")\n",
    "\n",
    "df.drop(labels=\"commentary\", axis=1, inplace=True)\n",
    "df.drop(labels=\"wide_runs\", axis=1, inplace=True)\n",
    "df.drop(labels=\"bye_runs\", axis=1, inplace=True)\n",
    "df.drop(labels=\"legbye_runs\", axis=1, inplace=True)\n",
    "df.drop(labels=\"noball_runs\", axis=1, inplace=True)\n",
    "df.drop(labels=\"batsman_runs\", axis=1, inplace=True)\n",
    "df.drop(labels=\"extra_runs\", axis=1, inplace=True)\n",
    "df.drop(labels=\"dismissal_kind\", axis=1, inplace=True)\n",
    "df.drop(labels=\"total_runs\", axis=1, inplace=True)\n",
    "\n",
    "df.to_csv(\"data/clean/deliveries_clean.csv\", index=False)\n",
    "\n",
    "df.head()"
   ]
  },
  {
   "cell_type": "code",
   "execution_count": 209,
   "metadata": {},
   "outputs": [
    {
     "data": {
      "text/plain": [
       "season                 int64\n",
       "match_type          category\n",
       "venue               category\n",
       "inning              category\n",
       "batting_team        category\n",
       "bowling_team        category\n",
       "batsman             category\n",
       "non_striker         category\n",
       "bowler_type         category\n",
       "ball                 float64\n",
       "wickets                int64\n",
       "ball_length         category\n",
       "cumulative_runs        int64\n",
       "runs_left_to_win       int64\n",
       "event                 object\n",
       "dtype: object"
      ]
     },
     "execution_count": 209,
     "metadata": {},
     "output_type": "execute_result"
    }
   ],
   "source": [
    "df.dtypes"
   ]
  },
  {
   "cell_type": "code",
   "execution_count": 210,
   "metadata": {},
   "outputs": [
    {
     "data": {
      "text/html": [
       "<div>\n",
       "<style scoped>\n",
       "    .dataframe tbody tr th:only-of-type {\n",
       "        vertical-align: middle;\n",
       "    }\n",
       "\n",
       "    .dataframe tbody tr th {\n",
       "        vertical-align: top;\n",
       "    }\n",
       "\n",
       "    .dataframe thead th {\n",
       "        text-align: right;\n",
       "    }\n",
       "</style>\n",
       "<table border=\"1\" class=\"dataframe\">\n",
       "  <thead>\n",
       "    <tr style=\"text-align: right;\">\n",
       "      <th></th>\n",
       "      <th>season</th>\n",
       "      <th>ball</th>\n",
       "      <th>wickets</th>\n",
       "      <th>cumulative_runs</th>\n",
       "      <th>runs_left_to_win</th>\n",
       "    </tr>\n",
       "  </thead>\n",
       "  <tbody>\n",
       "    <tr>\n",
       "      <th>count</th>\n",
       "      <td>132007.000000</td>\n",
       "      <td>132007.000000</td>\n",
       "      <td>132007.000000</td>\n",
       "      <td>132007.000000</td>\n",
       "      <td>132007.000000</td>\n",
       "    </tr>\n",
       "    <tr>\n",
       "      <th>mean</th>\n",
       "      <td>2013.725265</td>\n",
       "      <td>9.547537</td>\n",
       "      <td>2.380116</td>\n",
       "      <td>75.334558</td>\n",
       "      <td>45.397244</td>\n",
       "    </tr>\n",
       "    <tr>\n",
       "      <th>std</th>\n",
       "      <td>3.435975</td>\n",
       "      <td>5.675536</td>\n",
       "      <td>2.061154</td>\n",
       "      <td>48.509273</td>\n",
       "      <td>58.396270</td>\n",
       "    </tr>\n",
       "    <tr>\n",
       "      <th>min</th>\n",
       "      <td>2008.000000</td>\n",
       "      <td>0.100000</td>\n",
       "      <td>0.000000</td>\n",
       "      <td>0.000000</td>\n",
       "      <td>-7.000000</td>\n",
       "    </tr>\n",
       "    <tr>\n",
       "      <th>25%</th>\n",
       "      <td>2011.000000</td>\n",
       "      <td>4.500000</td>\n",
       "      <td>1.000000</td>\n",
       "      <td>35.000000</td>\n",
       "      <td>0.000000</td>\n",
       "    </tr>\n",
       "    <tr>\n",
       "      <th>50%</th>\n",
       "      <td>2013.000000</td>\n",
       "      <td>9.400000</td>\n",
       "      <td>2.000000</td>\n",
       "      <td>71.000000</td>\n",
       "      <td>0.000000</td>\n",
       "    </tr>\n",
       "    <tr>\n",
       "      <th>75%</th>\n",
       "      <td>2017.000000</td>\n",
       "      <td>14.400000</td>\n",
       "      <td>4.000000</td>\n",
       "      <td>111.000000</td>\n",
       "      <td>91.000000</td>\n",
       "    </tr>\n",
       "    <tr>\n",
       "      <th>max</th>\n",
       "      <td>2019.000000</td>\n",
       "      <td>19.600000</td>\n",
       "      <td>10.000000</td>\n",
       "      <td>246.000000</td>\n",
       "      <td>247.000000</td>\n",
       "    </tr>\n",
       "  </tbody>\n",
       "</table>\n",
       "</div>"
      ],
      "text/plain": [
       "              season           ball        wickets  cumulative_runs  \\\n",
       "count  132007.000000  132007.000000  132007.000000    132007.000000   \n",
       "mean     2013.725265       9.547537       2.380116        75.334558   \n",
       "std         3.435975       5.675536       2.061154        48.509273   \n",
       "min      2008.000000       0.100000       0.000000         0.000000   \n",
       "25%      2011.000000       4.500000       1.000000        35.000000   \n",
       "50%      2013.000000       9.400000       2.000000        71.000000   \n",
       "75%      2017.000000      14.400000       4.000000       111.000000   \n",
       "max      2019.000000      19.600000      10.000000       246.000000   \n",
       "\n",
       "       runs_left_to_win  \n",
       "count     132007.000000  \n",
       "mean          45.397244  \n",
       "std           58.396270  \n",
       "min           -7.000000  \n",
       "25%            0.000000  \n",
       "50%            0.000000  \n",
       "75%           91.000000  \n",
       "max          247.000000  "
      ]
     },
     "execution_count": 210,
     "metadata": {},
     "output_type": "execute_result"
    }
   ],
   "source": [
    "df.describe()"
   ]
  },
  {
   "cell_type": "code",
   "execution_count": 211,
   "metadata": {},
   "outputs": [
    {
     "data": {
      "text/html": [
       "<div>\n",
       "<style scoped>\n",
       "    .dataframe tbody tr th:only-of-type {\n",
       "        vertical-align: middle;\n",
       "    }\n",
       "\n",
       "    .dataframe tbody tr th {\n",
       "        vertical-align: top;\n",
       "    }\n",
       "\n",
       "    .dataframe thead th {\n",
       "        text-align: right;\n",
       "    }\n",
       "</style>\n",
       "<table border=\"1\" class=\"dataframe\">\n",
       "  <thead>\n",
       "    <tr style=\"text-align: right;\">\n",
       "      <th></th>\n",
       "      <th>season</th>\n",
       "      <th>match_type</th>\n",
       "      <th>venue</th>\n",
       "      <th>inning</th>\n",
       "      <th>batting_team</th>\n",
       "      <th>bowling_team</th>\n",
       "      <th>batsman</th>\n",
       "      <th>non_striker</th>\n",
       "      <th>bowler_type</th>\n",
       "      <th>ball</th>\n",
       "      <th>wickets</th>\n",
       "      <th>ball_length</th>\n",
       "      <th>cumulative_runs</th>\n",
       "      <th>runs_left_to_win</th>\n",
       "      <th>event</th>\n",
       "    </tr>\n",
       "  </thead>\n",
       "  <tbody>\n",
       "    <tr>\n",
       "      <th>21144</th>\n",
       "      <td>2010</td>\n",
       "      <td>round-robin</td>\n",
       "      <td>Chennai</td>\n",
       "      <td>2</td>\n",
       "      <td>Rajasthan Royals</td>\n",
       "      <td>Chennai Super Kings</td>\n",
       "      <td>top</td>\n",
       "      <td>top</td>\n",
       "      <td>pacer</td>\n",
       "      <td>0.1</td>\n",
       "      <td>0</td>\n",
       "      <td>good</td>\n",
       "      <td>0</td>\n",
       "      <td>247</td>\n",
       "      <td>Dot</td>\n",
       "    </tr>\n",
       "  </tbody>\n",
       "</table>\n",
       "</div>"
      ],
      "text/plain": [
       "       season   match_type    venue inning      batting_team  \\\n",
       "21144    2010  round-robin  Chennai      2  Rajasthan Royals   \n",
       "\n",
       "              bowling_team batsman non_striker bowler_type  ball  wickets  \\\n",
       "21144  Chennai Super Kings     top         top       pacer   0.1        0   \n",
       "\n",
       "      ball_length  cumulative_runs  runs_left_to_win event  \n",
       "21144        good                0               247   Dot  "
      ]
     },
     "execution_count": 211,
     "metadata": {},
     "output_type": "execute_result"
    }
   ],
   "source": [
    "# sanity check - get row where runs_left_to_win is max\n",
    "\n",
    "df.loc[df.runs_left_to_win == df.runs_left_to_win.max()]"
   ]
  },
  {
   "cell_type": "code",
   "execution_count": 212,
   "metadata": {},
   "outputs": [
    {
     "data": {
      "text/html": [
       "<div>\n",
       "<style scoped>\n",
       "    .dataframe tbody tr th:only-of-type {\n",
       "        vertical-align: middle;\n",
       "    }\n",
       "\n",
       "    .dataframe tbody tr th {\n",
       "        vertical-align: top;\n",
       "    }\n",
       "\n",
       "    .dataframe thead th {\n",
       "        text-align: right;\n",
       "    }\n",
       "</style>\n",
       "<table border=\"1\" class=\"dataframe\">\n",
       "  <thead>\n",
       "    <tr style=\"text-align: right;\">\n",
       "      <th></th>\n",
       "      <th>season</th>\n",
       "      <th>match_type</th>\n",
       "      <th>venue</th>\n",
       "      <th>inning</th>\n",
       "      <th>batting_team</th>\n",
       "      <th>bowling_team</th>\n",
       "      <th>batsman</th>\n",
       "      <th>non_striker</th>\n",
       "      <th>bowler_type</th>\n",
       "      <th>ball</th>\n",
       "      <th>wickets</th>\n",
       "      <th>ball_length</th>\n",
       "      <th>cumulative_runs</th>\n",
       "      <th>runs_left_to_win</th>\n",
       "      <th>event</th>\n",
       "    </tr>\n",
       "  </thead>\n",
       "  <tbody>\n",
       "    <tr>\n",
       "      <th>114201</th>\n",
       "      <td>2018</td>\n",
       "      <td>round-robin</td>\n",
       "      <td>Delhi</td>\n",
       "      <td>2</td>\n",
       "      <td>Royal Challengers Bangalore</td>\n",
       "      <td>Delhi Capitals</td>\n",
       "      <td>top</td>\n",
       "      <td>middle</td>\n",
       "      <td>pacer</td>\n",
       "      <td>18.6</td>\n",
       "      <td>5</td>\n",
       "      <td>full</td>\n",
       "      <td>190</td>\n",
       "      <td>-7</td>\n",
       "      <td>Runs</td>\n",
       "    </tr>\n",
       "  </tbody>\n",
       "</table>\n",
       "</div>"
      ],
      "text/plain": [
       "        season   match_type  venue inning                 batting_team  \\\n",
       "114201    2018  round-robin  Delhi      2  Royal Challengers Bangalore   \n",
       "\n",
       "          bowling_team batsman non_striker bowler_type  ball  wickets  \\\n",
       "114201  Delhi Capitals     top      middle       pacer  18.6        5   \n",
       "\n",
       "       ball_length  cumulative_runs  runs_left_to_win event  \n",
       "114201        full              190                -7  Runs  "
      ]
     },
     "execution_count": 212,
     "metadata": {},
     "output_type": "execute_result"
    }
   ],
   "source": [
    "# sanity check - get row where runs_left_to_win is min\n",
    "\n",
    "df.loc[df.runs_left_to_win == df.runs_left_to_win.min()]"
   ]
  },
  {
   "cell_type": "markdown",
   "metadata": {},
   "source": [
    "## Train-Test Split"
   ]
  },
  {
   "cell_type": "markdown",
   "metadata": {},
   "source": [
    "Since the dataset resembles a time-series, the test set has all ball by ball data for the last season (2019) and the training set has all ball by ball data for the seasons prior to 2019. Although recent data is more relevant to the current state of the game, we believe that the training set should have more data to train the model on. Therefore, we have chosen to split the data in this manner."
   ]
  },
  {
   "cell_type": "code",
   "execution_count": 213,
   "metadata": {},
   "outputs": [
    {
     "name": "stderr",
     "output_type": "stream",
     "text": [
      "/var/folders/r6/q0qh39ts70582wth4g1dhjhm0000gn/T/ipykernel_17020/1023219970.py:13: SettingWithCopyWarning:\n",
      "\n",
      "\n",
      "A value is trying to be set on a copy of a slice from a DataFrame\n",
      "\n",
      "See the caveats in the documentation: https://pandas.pydata.org/pandas-docs/stable/user_guide/indexing.html#returning-a-view-versus-a-copy\n",
      "\n",
      "/var/folders/r6/q0qh39ts70582wth4g1dhjhm0000gn/T/ipykernel_17020/1023219970.py:14: SettingWithCopyWarning:\n",
      "\n",
      "\n",
      "A value is trying to be set on a copy of a slice from a DataFrame\n",
      "\n",
      "See the caveats in the documentation: https://pandas.pydata.org/pandas-docs/stable/user_guide/indexing.html#returning-a-view-versus-a-copy\n",
      "\n"
     ]
    }
   ],
   "source": [
    "# split the dataset into train and test sets by season\n",
    "\n",
    "train = df.loc[df.season <= 2018]\n",
    "\n",
    "train.to_csv(\"data/clean/train.csv\", index=False)\n",
    "\n",
    "test = df.loc[df.season == 2019]\n",
    "\n",
    "test.to_csv(\"data/clean/test.csv\", index=False)\n",
    "\n",
    "# drop `season` column from train and test sets\n",
    "\n",
    "train.drop(labels=\"season\", axis=1, inplace=True)\n",
    "test.drop(labels=\"season\", axis=1, inplace=True)"
   ]
  },
  {
   "cell_type": "markdown",
   "metadata": {},
   "source": [
    "## Encoding Categorical Features"
   ]
  },
  {
   "cell_type": "code",
   "execution_count": 214,
   "metadata": {},
   "outputs": [],
   "source": [
    "# from sklearn.preprocessing import minmax_scale\n",
    "# df[['ball','wickets']] = minmax_scale(df[['ball','wickets']])\n",
    "\n",
    "encoded_df_train = pd.get_dummies(\n",
    "    data=train,\n",
    "    columns=[\n",
    "        \"match_type\",\n",
    "        \"venue\",\n",
    "        \"inning\",\n",
    "        \"batting_team\",\n",
    "        \"bowling_team\",\n",
    "        \"batsman\",\n",
    "        \"non_striker\",\n",
    "        \"bowler_type\",\n",
    "        \"ball_length\",\n",
    "    ],\n",
    ")\n",
    "\n",
    "encoded_df_test = pd.get_dummies(\n",
    "    data=test,\n",
    "    columns=[\n",
    "        \"match_type\",\n",
    "        \"venue\",\n",
    "        \"inning\",\n",
    "        \"batting_team\",\n",
    "        \"bowling_team\",\n",
    "        \"batsman\",\n",
    "        \"non_striker\",\n",
    "        \"bowler_type\",\n",
    "        \"ball_length\",\n",
    "    ],\n",
    ")"
   ]
  },
  {
   "cell_type": "code",
   "execution_count": 215,
   "metadata": {
    "scrolled": true
   },
   "outputs": [
    {
     "data": {
      "text/plain": [
       "Index(['ball', 'wickets', 'cumulative_runs', 'runs_left_to_win', 'event',\n",
       "       'match_type_playoffs', 'match_type_round-robin', 'venue_Ahmedabad',\n",
       "       'venue_Bangalore', 'venue_Chennai', 'venue_Cuttack', 'venue_Delhi',\n",
       "       'venue_Dharamsala', 'venue_Hyderabad', 'venue_Indore', 'venue_Kolkata',\n",
       "       'venue_Mohali', 'venue_Mumbai', 'venue_Nagpur', 'venue_Pune',\n",
       "       'venue_Raipur', 'venue_Rajasthan', 'venue_Ranchi',\n",
       "       'venue_Visakhapatnam', 'inning_1', 'inning_2',\n",
       "       'batting_team_Chennai Super Kings', 'batting_team_Delhi Capitals',\n",
       "       'batting_team_Kings XI Punjab', 'batting_team_Kolkata Knight Riders',\n",
       "       'batting_team_Mumbai Indians', 'batting_team_Rajasthan Royals',\n",
       "       'batting_team_Royal Challengers Bangalore',\n",
       "       'batting_team_Sunrisers Hyderabad', 'bowling_team_Chennai Super Kings',\n",
       "       'bowling_team_Delhi Capitals', 'bowling_team_Kings XI Punjab',\n",
       "       'bowling_team_Kolkata Knight Riders', 'bowling_team_Mumbai Indians',\n",
       "       'bowling_team_Rajasthan Royals',\n",
       "       'bowling_team_Royal Challengers Bangalore',\n",
       "       'bowling_team_Sunrisers Hyderabad', 'batsman_middle', 'batsman_tail',\n",
       "       'batsman_top', 'non_striker_middle', 'non_striker_tail',\n",
       "       'non_striker_top', 'bowler_type_pacer', 'bowler_type_spinner',\n",
       "       'ball_length_Unknown', 'ball_length_full', 'ball_length_full toss',\n",
       "       'ball_length_good', 'ball_length_short', 'ball_length_yorker'],\n",
       "      dtype='object')"
      ]
     },
     "execution_count": 215,
     "metadata": {},
     "output_type": "execute_result"
    }
   ],
   "source": [
    "encoded_df_train.columns"
   ]
  },
  {
   "cell_type": "code",
   "execution_count": 216,
   "metadata": {},
   "outputs": [
    {
     "name": "stdout",
     "output_type": "stream",
     "text": [
      "(117763, 56)\n",
      "(14244, 56)\n"
     ]
    }
   ],
   "source": [
    "print(encoded_df_train.shape)\n",
    "print(encoded_df_test.shape)\n",
    "\n",
    "# 88-12 train-test split"
   ]
  },
  {
   "cell_type": "markdown",
   "metadata": {},
   "source": [
    "## Rearranging Columns"
   ]
  },
  {
   "cell_type": "code",
   "execution_count": 217,
   "metadata": {},
   "outputs": [],
   "source": [
    "encoded_df_train = encoded_df_train[\n",
    "    [\n",
    "        \"ball\",\n",
    "        \"wickets\",\n",
    "        \"cumulative_runs\",\n",
    "        \"match_type_playoffs\",\n",
    "        \"match_type_round-robin\",\n",
    "        \"venue_Ahmedabad\",\n",
    "        \"venue_Bangalore\",\n",
    "        \"venue_Chennai\",\n",
    "        \"venue_Cuttack\",\n",
    "        \"venue_Delhi\",\n",
    "        \"venue_Dharamsala\",\n",
    "        \"venue_Hyderabad\",\n",
    "        \"venue_Indore\",\n",
    "        \"venue_Kolkata\",\n",
    "        \"venue_Mohali\",\n",
    "        \"venue_Mumbai\",\n",
    "        \"venue_Nagpur\",\n",
    "        \"venue_Pune\",\n",
    "        \"venue_Raipur\",\n",
    "        \"venue_Rajasthan\",\n",
    "        \"venue_Ranchi\",\n",
    "        \"venue_Visakhapatnam\",\n",
    "        \"inning_1\",\n",
    "        \"inning_2\",\n",
    "        \"batting_team_Chennai Super Kings\",\n",
    "        \"batting_team_Delhi Capitals\",\n",
    "        \"batting_team_Kings XI Punjab\",\n",
    "        \"batting_team_Kolkata Knight Riders\",\n",
    "        \"batting_team_Mumbai Indians\",\n",
    "        \"batting_team_Rajasthan Royals\",\n",
    "        \"batting_team_Royal Challengers Bangalore\",\n",
    "        \"batting_team_Sunrisers Hyderabad\",\n",
    "        \"bowling_team_Chennai Super Kings\",\n",
    "        \"bowling_team_Delhi Capitals\",\n",
    "        \"bowling_team_Kings XI Punjab\",\n",
    "        \"bowling_team_Kolkata Knight Riders\",\n",
    "        \"bowling_team_Mumbai Indians\",\n",
    "        \"bowling_team_Rajasthan Royals\",\n",
    "        \"bowling_team_Royal Challengers Bangalore\",\n",
    "        \"bowling_team_Sunrisers Hyderabad\",\n",
    "        \"batsman_top\",\n",
    "        \"batsman_middle\",\n",
    "        \"batsman_tail\",\n",
    "        \"non_striker_middle\",\n",
    "        \"non_striker_tail\",\n",
    "        \"non_striker_top\",\n",
    "        \"bowler_type_pacer\",\n",
    "        \"bowler_type_spinner\",\n",
    "        \"ball_length_Unknown\",\n",
    "        \"ball_length_full\",\n",
    "        \"ball_length_full toss\",\n",
    "        \"ball_length_good\",\n",
    "        \"ball_length_short\",\n",
    "        \"ball_length_yorker\",\n",
    "        \"event\",\n",
    "    ]\n",
    "]\n",
    "\n",
    "encoded_df_test = encoded_df_test[\n",
    "    [\n",
    "        \"ball\",\n",
    "        \"wickets\",\n",
    "        \"cumulative_runs\",\n",
    "        \"match_type_playoffs\",\n",
    "        \"match_type_round-robin\",\n",
    "        \"venue_Ahmedabad\",\n",
    "        \"venue_Bangalore\",\n",
    "        \"venue_Chennai\",\n",
    "        \"venue_Cuttack\",\n",
    "        \"venue_Delhi\",\n",
    "        \"venue_Dharamsala\",\n",
    "        \"venue_Hyderabad\",\n",
    "        \"venue_Indore\",\n",
    "        \"venue_Kolkata\",\n",
    "        \"venue_Mohali\",\n",
    "        \"venue_Mumbai\",\n",
    "        \"venue_Nagpur\",\n",
    "        \"venue_Pune\",\n",
    "        \"venue_Raipur\",\n",
    "        \"venue_Rajasthan\",\n",
    "        \"venue_Ranchi\",\n",
    "        \"venue_Visakhapatnam\",\n",
    "        \"inning_1\",\n",
    "        \"inning_2\",\n",
    "        \"batting_team_Chennai Super Kings\",\n",
    "        \"batting_team_Delhi Capitals\",\n",
    "        \"batting_team_Kings XI Punjab\",\n",
    "        \"batting_team_Kolkata Knight Riders\",\n",
    "        \"batting_team_Mumbai Indians\",\n",
    "        \"batting_team_Rajasthan Royals\",\n",
    "        \"batting_team_Royal Challengers Bangalore\",\n",
    "        \"batting_team_Sunrisers Hyderabad\",\n",
    "        \"bowling_team_Chennai Super Kings\",\n",
    "        \"bowling_team_Delhi Capitals\",\n",
    "        \"bowling_team_Kings XI Punjab\",\n",
    "        \"bowling_team_Kolkata Knight Riders\",\n",
    "        \"bowling_team_Mumbai Indians\",\n",
    "        \"bowling_team_Rajasthan Royals\",\n",
    "        \"bowling_team_Royal Challengers Bangalore\",\n",
    "        \"bowling_team_Sunrisers Hyderabad\",\n",
    "        \"batsman_top\",\n",
    "        \"batsman_middle\",\n",
    "        \"batsman_tail\",\n",
    "        \"non_striker_middle\",\n",
    "        \"non_striker_tail\",\n",
    "        \"non_striker_top\",\n",
    "        \"bowler_type_pacer\",\n",
    "        \"bowler_type_spinner\",\n",
    "        \"ball_length_Unknown\",\n",
    "        \"ball_length_full\",\n",
    "        \"ball_length_full toss\",\n",
    "        \"ball_length_good\",\n",
    "        \"ball_length_short\",\n",
    "        \"ball_length_yorker\",\n",
    "        \"event\",\n",
    "    ]\n",
    "]"
   ]
  },
  {
   "cell_type": "code",
   "execution_count": 218,
   "metadata": {
    "scrolled": true
   },
   "outputs": [
    {
     "data": {
      "text/plain": [
       "array(['Extras', 'Dot', 'Runs', 'WICKET!'], dtype=object)"
      ]
     },
     "execution_count": 218,
     "metadata": {},
     "output_type": "execute_result"
    }
   ],
   "source": [
    "encoded_df_train[\"event\"].unique()"
   ]
  },
  {
   "cell_type": "markdown",
   "metadata": {},
   "source": [
    "## Extracting Features and Response Variable for Training and Testing"
   ]
  },
  {
   "cell_type": "code",
   "execution_count": 219,
   "metadata": {},
   "outputs": [
    {
     "name": "stdout",
     "output_type": "stream",
     "text": [
      "X_train shape: (117763, 54)\n",
      "y_train shape: (117763,)\n",
      "X_test shape: (14244, 54)\n",
      "y_test shape: (14244,)\n"
     ]
    }
   ],
   "source": [
    "X_train = encoded_df_train.iloc[:, :-1].values\n",
    "print(\"X_train shape:\", X_train.shape)\n",
    "\n",
    "y_train = encoded_df_train.iloc[:, -1].values\n",
    "print(\"y_train shape:\", y_train.shape)\n",
    "\n",
    "X_test = encoded_df_test.iloc[:, :-1].values\n",
    "print(\"X_test shape:\", X_test.shape)\n",
    "\n",
    "y_test = encoded_df_test.iloc[:, -1].values\n",
    "print(\"y_test shape:\", y_test.shape)"
   ]
  },
  {
   "cell_type": "markdown",
   "metadata": {},
   "source": [
    "## Encoding `y_train` and `y_test` "
   ]
  },
  {
   "cell_type": "code",
   "execution_count": 220,
   "metadata": {},
   "outputs": [],
   "source": [
    "encoder = LabelEncoder()\n",
    "\n",
    "y_train = encoder.fit_transform(y_train)\n",
    "\n",
    "y_test = encoder.fit_transform(y_test)\n",
    "\n",
    "y_train = y_train.reshape(\n",
    "    len(y_train),\n",
    ")\n",
    "\n",
    "y_test = y_test.reshape(\n",
    "    len(y_test),\n",
    ")"
   ]
  },
  {
   "cell_type": "markdown",
   "metadata": {},
   "source": [
    "# Perform `RepeatedKFold` Classification Routine"
   ]
  },
  {
   "cell_type": "code",
   "execution_count": 221,
   "metadata": {},
   "outputs": [
    {
     "name": "stderr",
     "output_type": "stream",
     "text": [
      "  0%|          | 0/9 [00:00<?, ?it/s]"
     ]
    },
    {
     "name": "stdout",
     "output_type": "stream",
     "text": [
      ">LR Accuracy: 0.609 Weighted F1: 0.532\n"
     ]
    },
    {
     "name": "stderr",
     "output_type": "stream",
     "text": [
      " 11%|█         | 1/9 [01:41<13:35, 101.94s/it]"
     ]
    },
    {
     "name": "stdout",
     "output_type": "stream",
     "text": [
      ">Tree Accuracy: 0.491 Weighted F1: 0.495\n"
     ]
    },
    {
     "name": "stderr",
     "output_type": "stream",
     "text": [
      " 33%|███▎      | 3/9 [01:46<02:26, 24.49s/it] "
     ]
    },
    {
     "name": "stdout",
     "output_type": "stream",
     "text": [
      ">GNB Accuracy: 0.482 Weighted F1: 0.492\n"
     ]
    },
    {
     "name": "stderr",
     "output_type": "stream",
     "text": [
      "/Users/Tegveer/miniforge3/envs/ANLY501/lib/python3.9/site-packages/joblib/externals/loky/process_executor.py:752: UserWarning:\n",
      "\n",
      "A worker stopped while some jobs were given to the executor. This can be caused by a too short worker timeout or by a memory leak.\n",
      "\n"
     ]
    },
    {
     "name": "stdout",
     "output_type": "stream",
     "text": [
      ">RF Accuracy: 0.552 Weighted F1: 0.528\n"
     ]
    },
    {
     "name": "stderr",
     "output_type": "stream",
     "text": [
      " 44%|████▍     | 4/9 [02:39<02:58, 35.79s/it]"
     ]
    },
    {
     "name": "stdout",
     "output_type": "stream",
     "text": [
      ">AdaBoost Accuracy: 0.616 Weighted F1: 0.545\n"
     ]
    },
    {
     "name": "stderr",
     "output_type": "stream",
     "text": [
      " 56%|█████▌    | 5/9 [02:59<01:59, 29.89s/it]"
     ]
    },
    {
     "name": "stdout",
     "output_type": "stream",
     "text": [
      ">Bagging Accuracy: 0.551 Weighted F1: 0.533\n"
     ]
    },
    {
     "name": "stderr",
     "output_type": "stream",
     "text": [
      " 67%|██████▋   | 6/9 [03:20<01:20, 27.00s/it]"
     ]
    },
    {
     "name": "stdout",
     "output_type": "stream",
     "text": [
      ">GBM Accuracy: 0.623 Weighted F1: 0.545\n"
     ]
    },
    {
     "name": "stderr",
     "output_type": "stream",
     "text": [
      " 78%|███████▊  | 7/9 [08:16<03:50, 115.01s/it]"
     ]
    },
    {
     "name": "stdout",
     "output_type": "stream",
     "text": [
      ">XGB Accuracy: 0.622 Weighted F1: 0.553\n"
     ]
    },
    {
     "name": "stderr",
     "output_type": "stream",
     "text": [
      " 89%|████████▉ | 8/9 [08:33<01:23, 83.69s/it] "
     ]
    },
    {
     "name": "stdout",
     "output_type": "stream",
     "text": [
      ">CatBoost Accuracy: 0.623 Weighted F1: 0.556\n"
     ]
    },
    {
     "name": "stderr",
     "output_type": "stream",
     "text": [
      "100%|██████████| 9/9 [11:06<00:00, 74.07s/it] "
     ]
    },
    {
     "name": "stdout",
     "output_type": "stream",
     "text": [
      "CPU times: user 5min 31s, sys: 35.4 s, total: 6min 7s\n",
      "Wall time: 11min 6s\n"
     ]
    },
    {
     "name": "stderr",
     "output_type": "stream",
     "text": [
      "\n"
     ]
    }
   ],
   "source": [
    "%%time\n",
    "\n",
    "from sklearn.exceptions import ConvergenceWarning\n",
    "from sklearn.exceptions import DataConversionWarning\n",
    "from tqdm import tqdm  # Import tqdm\n",
    "\n",
    "# Assuming other necessary imports like LogisticRegression, DecisionTreeClassifier, etc., are already made\n",
    "\n",
    "ConvergenceWarning(\"ignore\")\n",
    "warnings.filterwarnings(action=\"ignore\", category=DataConversionWarning)\n",
    "\n",
    "\n",
    "def base_models():\n",
    "    models = dict()\n",
    "    models[\"LR\"] = LogisticRegression(verbose=0, max_iter=3000)\n",
    "    models[\"Tree\"] = DecisionTreeClassifier()\n",
    "    models[\"GNB\"] = GaussianNB()\n",
    "    models[\"RF\"] = RandomForestClassifier(verbose=0)\n",
    "    models[\"AdaBoost\"] = AdaBoostClassifier()\n",
    "    models[\"Bagging\"] = BaggingClassifier(verbose=0)\n",
    "    models[\"GBM\"] = GradientBoostingClassifier(verbose=0)\n",
    "    models[\"XGB\"] = XGBClassifier(verbosity=0)\n",
    "    models[\"CatBoost\"] = CatBoostClassifier(verbose=0)\n",
    "    return models\n",
    "\n",
    "\n",
    "# Function to evaluate the list of models\n",
    "def eval_models(model):\n",
    "    cv = RepeatedKFold(n_splits=5, n_repeats=2, random_state=1)\n",
    "    accuracy = cross_val_score(\n",
    "        model,\n",
    "        X_train,\n",
    "        y_train,\n",
    "        scoring=\"accuracy\",\n",
    "        cv=cv,\n",
    "        n_jobs=-1,\n",
    "        error_score=\"raise\",\n",
    "    )\n",
    "    weighted_f1 = cross_val_score(\n",
    "        model,\n",
    "        X_train,\n",
    "        y_train,\n",
    "        scoring=\"f1_weighted\",\n",
    "        cv=cv,\n",
    "        n_jobs=-1,\n",
    "        error_score=\"raise\",\n",
    "    )\n",
    "    return accuracy, weighted_f1\n",
    "\n",
    "\n",
    "models = base_models()\n",
    "\n",
    "# evaluate the models and store results\n",
    "results = {}\n",
    "names = list()\n",
    "accuracies = []\n",
    "weighted_f1s = []\n",
    "\n",
    "final_models = {}  # Create a dictionary to store the fitted models\n",
    "\n",
    "for name, model in tqdm(\n",
    "    models.items()\n",
    "):  # Wrap models.items() with tqdm to get a progress bar\n",
    "    accuracy, weighted_f1 = eval_models(model)\n",
    "    accuracies.extend(accuracy)\n",
    "    weighted_f1s.extend(weighted_f1)\n",
    "    names.extend([name] * len(accuracy))\n",
    "    print(\n",
    "        \">%s Accuracy: %.3f Weighted F1: %.3f\"\n",
    "        % (name, accuracy.mean(), weighted_f1.mean())\n",
    "    )\n",
    "\n",
    "    # Fit the model with the training data\n",
    "    fitted_model = model.fit(X_train, y_train)\n",
    "\n",
    "    # Save the fitted model as a pickle file\n",
    "    pkl_filename = f\"products/pickle_files/{name}.pkl\"\n",
    "    with open(pkl_filename, \"wb\") as file:\n",
    "        pickle.dump(fitted_model, file)\n",
    "\n",
    "    # Store the fitted model in the final_models dictionary\n",
    "    final_models[name] = fitted_model"
   ]
  },
  {
   "cell_type": "code",
   "execution_count": 222,
   "metadata": {},
   "outputs": [],
   "source": [
    "# delete catboost_info folder\n",
    "\n",
    "shutil.rmtree(\"catboost_info\")\n",
    "\n",
    "# Save accuracy and weighted_f1 scores for each model in a dataframe\n",
    "\n",
    "results[\"Model\"] = names\n",
    "results[\"Accuracy\"] = accuracies\n",
    "results[\"Weighted_F1\"] = weighted_f1s\n",
    "\n",
    "classifmod = pd.DataFrame(results)\n",
    "\n",
    "# Generate confusion matrices and reports for each final model\n",
    "confusion_matrices = {}\n",
    "classification_reports = {}\n",
    "for name, model in final_models.items():\n",
    "    y_pred = model.predict(X_test)\n",
    "    confusion_matrices[name] = confusion_matrix(y_test, y_pred)\n",
    "    classification_reports[name] = classification_report(\n",
    "        y_test, y_pred, zero_division=0\n",
    "    )"
   ]
  },
  {
   "cell_type": "code",
   "execution_count": null,
   "metadata": {},
   "outputs": [],
   "source": [
    "for name, model in models.items():\n",
    "    pkl_filename = f\"products/pickle_files/{name}.pkl\"\n",
    "    # open pickle file\n",
    "    with open(pkl_filename, \"rb\") as infile:\n",
    "        obj = pickle.load(infile)\n",
    "\n",
    "    # convert pickle object to json object\n",
    "    json_obj = json.loads(json.dumps(obj, default=str))\n",
    "    json_filename = f\"products/json_files/{name}.json\"\n",
    "    # write the json file\n",
    "    with open(json_filename, \"w\", encoding=\"utf-8\") as outfile:\n",
    "        json.dump(json_obj, outfile, ensure_ascii=False, indent=4)\n",
    "\n",
    "# delete all pickle files for smooth git push\n",
    "\n",
    "# for name, model in models.items():\n",
    "#     pkl_filename = f\"products/pickle_files/{name}.pkl\"\n",
    "#     os.remove(pkl_filename)"
   ]
  },
  {
   "cell_type": "markdown",
   "metadata": {},
   "source": [
    "## Training Performance Boxplots"
   ]
  },
  {
   "cell_type": "code",
   "execution_count": 223,
   "metadata": {},
   "outputs": [
    {
     "data": {
      "text/html": [
       "        <script type=\"text/javascript\">\n",
       "        window.PlotlyConfig = {MathJaxConfig: 'local'};\n",
       "        if (window.MathJax && window.MathJax.Hub && window.MathJax.Hub.Config) {window.MathJax.Hub.Config({SVG: {font: \"STIX-Web\"}});}\n",
       "        if (typeof require !== 'undefined') {\n",
       "        require.undef(\"plotly\");\n",
       "        requirejs.config({\n",
       "            paths: {\n",
       "                'plotly': ['https://cdn.plot.ly/plotly-2.20.0.min']\n",
       "            }\n",
       "        });\n",
       "        require(['plotly'], function(Plotly) {\n",
       "            window._Plotly = Plotly;\n",
       "        });\n",
       "        }\n",
       "        </script>\n",
       "        "
      ]
     },
     "metadata": {},
     "output_type": "display_data"
    },
    {
     "data": {
      "application/vnd.plotly.v1+json": {
       "config": {
        "plotlyServerURL": "https://plotly.com"
       },
       "data": [
        {
         "alignmentgroup": "True",
         "boxpoints": "all",
         "hovertemplate": "Machine Learning Model=%{x}<br>Accuracy=%{y}<extra></extra>",
         "legendgroup": "LR",
         "marker": {
          "color": "#636efa"
         },
         "name": "LR",
         "notched": false,
         "offsetgroup": "LR",
         "orientation": "v",
         "showlegend": true,
         "type": "box",
         "x": [
          "LR",
          "LR",
          "LR",
          "LR",
          "LR",
          "LR",
          "LR",
          "LR",
          "LR",
          "LR"
         ],
         "x0": " ",
         "xaxis": "x",
         "y": [
          0.6119814885577208,
          0.611556914193521,
          0.6106653080287012,
          0.6049167798913043,
          0.6081012228260869,
          0.607735744915722,
          0.6106653080287012,
          0.6084150638984418,
          0.6092900815217391,
          0.6103515625
         ],
         "y0": " ",
         "yaxis": "y"
        },
        {
         "alignmentgroup": "True",
         "boxpoints": "all",
         "hovertemplate": "Machine Learning Model=%{x}<br>Accuracy=%{y}<extra></extra>",
         "legendgroup": "Tree",
         "marker": {
          "color": "#EF553B"
         },
         "name": "Tree",
         "notched": false,
         "offsetgroup": "Tree",
         "orientation": "v",
         "showlegend": true,
         "type": "box",
         "x": [
          "Tree",
          "Tree",
          "Tree",
          "Tree",
          "Tree",
          "Tree",
          "Tree",
          "Tree",
          "Tree",
          "Tree"
         ],
         "x0": " ",
         "xaxis": "x",
         "y": [
          0.4916146563070522,
          0.4945442194200314,
          0.49322803889101174,
          0.4890030570652174,
          0.48806895380434784,
          0.48902475268543283,
          0.48550078546257375,
          0.49683692098671084,
          0.486625339673913,
          0.4971976902173913
         ],
         "y0": " ",
         "yaxis": "y"
        },
        {
         "alignmentgroup": "True",
         "boxpoints": "all",
         "hovertemplate": "Machine Learning Model=%{x}<br>Accuracy=%{y}<extra></extra>",
         "legendgroup": "GNB",
         "marker": {
          "color": "#00cc96"
         },
         "name": "GNB",
         "notched": false,
         "offsetgroup": "GNB",
         "orientation": "v",
         "showlegend": true,
         "type": "box",
         "x": [
          "GNB",
          "GNB",
          "GNB",
          "GNB",
          "GNB",
          "GNB",
          "GNB",
          "GNB",
          "GNB",
          "GNB"
         ],
         "x0": " ",
         "xaxis": "x",
         "y": [
          0.484609179297754,
          0.47560820277671634,
          0.48932195474037277,
          0.4794921875,
          0.4782608695652174,
          0.48452426442491403,
          0.48834543370271305,
          0.4765847238143761,
          0.48615828804347827,
          0.4782608695652174
         ],
         "y0": " ",
         "yaxis": "y"
        },
        {
         "alignmentgroup": "True",
         "boxpoints": "all",
         "hovertemplate": "Machine Learning Model=%{x}<br>Accuracy=%{y}<extra></extra>",
         "legendgroup": "RF",
         "marker": {
          "color": "#ab63fa"
         },
         "name": "RF",
         "notched": false,
         "offsetgroup": "RF",
         "orientation": "v",
         "showlegend": true,
         "type": "box",
         "x": [
          "RF",
          "RF",
          "RF",
          "RF",
          "RF",
          "RF",
          "RF",
          "RF",
          "RF",
          "RF"
         ],
         "x0": " ",
         "xaxis": "x",
         "y": [
          0.5514796416592366,
          0.550078546257377,
          0.5525835350061563,
          0.5507387907608695,
          0.5491677989130435,
          0.5534326837345561,
          0.5550885237549357,
          0.5476160149450177,
          0.5524371603260869,
          0.5565981657608695
         ],
         "y0": " ",
         "yaxis": "y"
        },
        {
         "alignmentgroup": "True",
         "boxpoints": "all",
         "hovertemplate": "Machine Learning Model=%{x}<br>Accuracy=%{y}<extra></extra>",
         "legendgroup": "AdaBoost",
         "marker": {
          "color": "#FFA15A"
         },
         "name": "AdaBoost",
         "notched": false,
         "offsetgroup": "AdaBoost",
         "orientation": "v",
         "showlegend": true,
         "type": "box",
         "x": [
          "AdaBoost",
          "AdaBoost",
          "AdaBoost",
          "AdaBoost",
          "AdaBoost",
          "AdaBoost",
          "AdaBoost",
          "AdaBoost",
          "AdaBoost",
          "AdaBoost"
         ],
         "x0": " ",
         "xaxis": "x",
         "y": [
          0.6188595932577591,
          0.6142741901244003,
          0.6126608075404407,
          0.6126443614130435,
          0.6157438858695652,
          0.6173311255466395,
          0.6155903706534199,
          0.6185199337663991,
          0.6165081521739131,
          0.6146824048913043
         ],
         "y0": " ",
         "yaxis": "y"
        },
        {
         "alignmentgroup": "True",
         "boxpoints": "all",
         "hovertemplate": "Machine Learning Model=%{x}<br>Accuracy=%{y}<extra></extra>",
         "legendgroup": "Bagging",
         "marker": {
          "color": "#19d3f3"
         },
         "name": "Bagging",
         "notched": false,
         "offsetgroup": "Bagging",
         "orientation": "v",
         "showlegend": true,
         "type": "box",
         "x": [
          "Bagging",
          "Bagging",
          "Bagging",
          "Bagging",
          "Bagging",
          "Bagging",
          "Bagging",
          "Bagging",
          "Bagging",
          "Bagging"
         ],
         "x0": " ",
         "xaxis": "x",
         "y": [
          0.5513098119135567,
          0.5530930242431962,
          0.5519466734598565,
          0.5481912364130435,
          0.5477241847826086,
          0.5484651636734174,
          0.5509701524221967,
          0.5484227062369974,
          0.5534137228260869,
          0.556046195652174
         ],
         "y0": " ",
         "yaxis": "y"
        },
        {
         "alignmentgroup": "True",
         "boxpoints": "all",
         "hovertemplate": "Machine Learning Model=%{x}<br>Accuracy=%{y}<extra></extra>",
         "legendgroup": "GBM",
         "marker": {
          "color": "#FF6692"
         },
         "name": "GBM",
         "notched": false,
         "offsetgroup": "GBM",
         "orientation": "v",
         "showlegend": true,
         "type": "box",
         "x": [
          "GBM",
          "GBM",
          "GBM",
          "GBM",
          "GBM",
          "GBM",
          "GBM",
          "GBM",
          "GBM",
          "GBM"
         ],
         "x0": " ",
         "xaxis": "x",
         "y": [
          0.6241667728102577,
          0.6256103256485374,
          0.6243790599923577,
          0.6207540760869565,
          0.6208814538043478,
          0.6214919543157984,
          0.6219589861164183,
          0.6225109327898781,
          0.6229619565217391,
          0.625
         ],
         "y0": " ",
         "yaxis": "y"
        },
        {
         "alignmentgroup": "True",
         "boxpoints": "all",
         "hovertemplate": "Machine Learning Model=%{x}<br>Accuracy=%{y}<extra></extra>",
         "legendgroup": "XGB",
         "marker": {
          "color": "#B6E880"
         },
         "name": "XGB",
         "notched": false,
         "offsetgroup": "XGB",
         "orientation": "v",
         "showlegend": true,
         "type": "box",
         "x": [
          "XGB",
          "XGB",
          "XGB",
          "XGB",
          "XGB",
          "XGB",
          "XGB",
          "XGB",
          "XGB",
          "XGB"
         ],
         "x0": " ",
         "xaxis": "x",
         "y": [
          0.623020422026918,
          0.6234025389546979,
          0.6248036343565575,
          0.6185037364130435,
          0.6203294836956522,
          0.6223411030441982,
          0.6220863584256783,
          0.6212372096972785,
          0.6215183423913043,
          0.6233440896739131
         ],
         "y0": " ",
         "yaxis": "y"
        },
        {
         "alignmentgroup": "True",
         "boxpoints": "all",
         "hovertemplate": "Machine Learning Model=%{x}<br>Accuracy=%{y}<extra></extra>",
         "legendgroup": "CatBoost",
         "marker": {
          "color": "#FF97FF"
         },
         "name": "CatBoost",
         "notched": false,
         "offsetgroup": "CatBoost",
         "orientation": "v",
         "showlegend": true,
         "type": "box",
         "x": [
          "CatBoost",
          "CatBoost",
          "CatBoost",
          "CatBoost",
          "CatBoost",
          "CatBoost",
          "CatBoost",
          "CatBoost",
          "CatBoost",
          "CatBoost"
         ],
         "x0": " ",
         "xaxis": "x",
         "y": [
          0.6256103256485374,
          0.6246762620472975,
          0.6238271133188978,
          0.6214334239130435,
          0.6205417798913043,
          0.6249310066658175,
          0.6222986456077783,
          0.6229355071540781,
          0.6224099864130435,
          0.6255095108695652
         ],
         "y0": " ",
         "yaxis": "y"
        }
       ],
       "layout": {
        "boxmode": "overlay",
        "legend": {
         "title": {
          "text": "Machine Learning Model"
         },
         "tracegroupgap": 0
        },
        "template": {
         "data": {
          "bar": [
           {
            "error_x": {
             "color": "#2a3f5f"
            },
            "error_y": {
             "color": "#2a3f5f"
            },
            "marker": {
             "line": {
              "color": "#E5ECF6",
              "width": 0.5
             },
             "pattern": {
              "fillmode": "overlay",
              "size": 10,
              "solidity": 0.2
             }
            },
            "type": "bar"
           }
          ],
          "barpolar": [
           {
            "marker": {
             "line": {
              "color": "#E5ECF6",
              "width": 0.5
             },
             "pattern": {
              "fillmode": "overlay",
              "size": 10,
              "solidity": 0.2
             }
            },
            "type": "barpolar"
           }
          ],
          "carpet": [
           {
            "aaxis": {
             "endlinecolor": "#2a3f5f",
             "gridcolor": "white",
             "linecolor": "white",
             "minorgridcolor": "white",
             "startlinecolor": "#2a3f5f"
            },
            "baxis": {
             "endlinecolor": "#2a3f5f",
             "gridcolor": "white",
             "linecolor": "white",
             "minorgridcolor": "white",
             "startlinecolor": "#2a3f5f"
            },
            "type": "carpet"
           }
          ],
          "choropleth": [
           {
            "colorbar": {
             "outlinewidth": 0,
             "ticks": ""
            },
            "type": "choropleth"
           }
          ],
          "contour": [
           {
            "colorbar": {
             "outlinewidth": 0,
             "ticks": ""
            },
            "colorscale": [
             [
              0,
              "#0d0887"
             ],
             [
              0.1111111111111111,
              "#46039f"
             ],
             [
              0.2222222222222222,
              "#7201a8"
             ],
             [
              0.3333333333333333,
              "#9c179e"
             ],
             [
              0.4444444444444444,
              "#bd3786"
             ],
             [
              0.5555555555555556,
              "#d8576b"
             ],
             [
              0.6666666666666666,
              "#ed7953"
             ],
             [
              0.7777777777777778,
              "#fb9f3a"
             ],
             [
              0.8888888888888888,
              "#fdca26"
             ],
             [
              1,
              "#f0f921"
             ]
            ],
            "type": "contour"
           }
          ],
          "contourcarpet": [
           {
            "colorbar": {
             "outlinewidth": 0,
             "ticks": ""
            },
            "type": "contourcarpet"
           }
          ],
          "heatmap": [
           {
            "colorbar": {
             "outlinewidth": 0,
             "ticks": ""
            },
            "colorscale": [
             [
              0,
              "#0d0887"
             ],
             [
              0.1111111111111111,
              "#46039f"
             ],
             [
              0.2222222222222222,
              "#7201a8"
             ],
             [
              0.3333333333333333,
              "#9c179e"
             ],
             [
              0.4444444444444444,
              "#bd3786"
             ],
             [
              0.5555555555555556,
              "#d8576b"
             ],
             [
              0.6666666666666666,
              "#ed7953"
             ],
             [
              0.7777777777777778,
              "#fb9f3a"
             ],
             [
              0.8888888888888888,
              "#fdca26"
             ],
             [
              1,
              "#f0f921"
             ]
            ],
            "type": "heatmap"
           }
          ],
          "heatmapgl": [
           {
            "colorbar": {
             "outlinewidth": 0,
             "ticks": ""
            },
            "colorscale": [
             [
              0,
              "#0d0887"
             ],
             [
              0.1111111111111111,
              "#46039f"
             ],
             [
              0.2222222222222222,
              "#7201a8"
             ],
             [
              0.3333333333333333,
              "#9c179e"
             ],
             [
              0.4444444444444444,
              "#bd3786"
             ],
             [
              0.5555555555555556,
              "#d8576b"
             ],
             [
              0.6666666666666666,
              "#ed7953"
             ],
             [
              0.7777777777777778,
              "#fb9f3a"
             ],
             [
              0.8888888888888888,
              "#fdca26"
             ],
             [
              1,
              "#f0f921"
             ]
            ],
            "type": "heatmapgl"
           }
          ],
          "histogram": [
           {
            "marker": {
             "pattern": {
              "fillmode": "overlay",
              "size": 10,
              "solidity": 0.2
             }
            },
            "type": "histogram"
           }
          ],
          "histogram2d": [
           {
            "colorbar": {
             "outlinewidth": 0,
             "ticks": ""
            },
            "colorscale": [
             [
              0,
              "#0d0887"
             ],
             [
              0.1111111111111111,
              "#46039f"
             ],
             [
              0.2222222222222222,
              "#7201a8"
             ],
             [
              0.3333333333333333,
              "#9c179e"
             ],
             [
              0.4444444444444444,
              "#bd3786"
             ],
             [
              0.5555555555555556,
              "#d8576b"
             ],
             [
              0.6666666666666666,
              "#ed7953"
             ],
             [
              0.7777777777777778,
              "#fb9f3a"
             ],
             [
              0.8888888888888888,
              "#fdca26"
             ],
             [
              1,
              "#f0f921"
             ]
            ],
            "type": "histogram2d"
           }
          ],
          "histogram2dcontour": [
           {
            "colorbar": {
             "outlinewidth": 0,
             "ticks": ""
            },
            "colorscale": [
             [
              0,
              "#0d0887"
             ],
             [
              0.1111111111111111,
              "#46039f"
             ],
             [
              0.2222222222222222,
              "#7201a8"
             ],
             [
              0.3333333333333333,
              "#9c179e"
             ],
             [
              0.4444444444444444,
              "#bd3786"
             ],
             [
              0.5555555555555556,
              "#d8576b"
             ],
             [
              0.6666666666666666,
              "#ed7953"
             ],
             [
              0.7777777777777778,
              "#fb9f3a"
             ],
             [
              0.8888888888888888,
              "#fdca26"
             ],
             [
              1,
              "#f0f921"
             ]
            ],
            "type": "histogram2dcontour"
           }
          ],
          "mesh3d": [
           {
            "colorbar": {
             "outlinewidth": 0,
             "ticks": ""
            },
            "type": "mesh3d"
           }
          ],
          "parcoords": [
           {
            "line": {
             "colorbar": {
              "outlinewidth": 0,
              "ticks": ""
             }
            },
            "type": "parcoords"
           }
          ],
          "pie": [
           {
            "automargin": true,
            "type": "pie"
           }
          ],
          "scatter": [
           {
            "fillpattern": {
             "fillmode": "overlay",
             "size": 10,
             "solidity": 0.2
            },
            "type": "scatter"
           }
          ],
          "scatter3d": [
           {
            "line": {
             "colorbar": {
              "outlinewidth": 0,
              "ticks": ""
             }
            },
            "marker": {
             "colorbar": {
              "outlinewidth": 0,
              "ticks": ""
             }
            },
            "type": "scatter3d"
           }
          ],
          "scattercarpet": [
           {
            "marker": {
             "colorbar": {
              "outlinewidth": 0,
              "ticks": ""
             }
            },
            "type": "scattercarpet"
           }
          ],
          "scattergeo": [
           {
            "marker": {
             "colorbar": {
              "outlinewidth": 0,
              "ticks": ""
             }
            },
            "type": "scattergeo"
           }
          ],
          "scattergl": [
           {
            "marker": {
             "colorbar": {
              "outlinewidth": 0,
              "ticks": ""
             }
            },
            "type": "scattergl"
           }
          ],
          "scattermapbox": [
           {
            "marker": {
             "colorbar": {
              "outlinewidth": 0,
              "ticks": ""
             }
            },
            "type": "scattermapbox"
           }
          ],
          "scatterpolar": [
           {
            "marker": {
             "colorbar": {
              "outlinewidth": 0,
              "ticks": ""
             }
            },
            "type": "scatterpolar"
           }
          ],
          "scatterpolargl": [
           {
            "marker": {
             "colorbar": {
              "outlinewidth": 0,
              "ticks": ""
             }
            },
            "type": "scatterpolargl"
           }
          ],
          "scatterternary": [
           {
            "marker": {
             "colorbar": {
              "outlinewidth": 0,
              "ticks": ""
             }
            },
            "type": "scatterternary"
           }
          ],
          "surface": [
           {
            "colorbar": {
             "outlinewidth": 0,
             "ticks": ""
            },
            "colorscale": [
             [
              0,
              "#0d0887"
             ],
             [
              0.1111111111111111,
              "#46039f"
             ],
             [
              0.2222222222222222,
              "#7201a8"
             ],
             [
              0.3333333333333333,
              "#9c179e"
             ],
             [
              0.4444444444444444,
              "#bd3786"
             ],
             [
              0.5555555555555556,
              "#d8576b"
             ],
             [
              0.6666666666666666,
              "#ed7953"
             ],
             [
              0.7777777777777778,
              "#fb9f3a"
             ],
             [
              0.8888888888888888,
              "#fdca26"
             ],
             [
              1,
              "#f0f921"
             ]
            ],
            "type": "surface"
           }
          ],
          "table": [
           {
            "cells": {
             "fill": {
              "color": "#EBF0F8"
             },
             "line": {
              "color": "white"
             }
            },
            "header": {
             "fill": {
              "color": "#C8D4E3"
             },
             "line": {
              "color": "white"
             }
            },
            "type": "table"
           }
          ]
         },
         "layout": {
          "annotationdefaults": {
           "arrowcolor": "#2a3f5f",
           "arrowhead": 0,
           "arrowwidth": 1
          },
          "autotypenumbers": "strict",
          "coloraxis": {
           "colorbar": {
            "outlinewidth": 0,
            "ticks": ""
           }
          },
          "colorscale": {
           "diverging": [
            [
             0,
             "#8e0152"
            ],
            [
             0.1,
             "#c51b7d"
            ],
            [
             0.2,
             "#de77ae"
            ],
            [
             0.3,
             "#f1b6da"
            ],
            [
             0.4,
             "#fde0ef"
            ],
            [
             0.5,
             "#f7f7f7"
            ],
            [
             0.6,
             "#e6f5d0"
            ],
            [
             0.7,
             "#b8e186"
            ],
            [
             0.8,
             "#7fbc41"
            ],
            [
             0.9,
             "#4d9221"
            ],
            [
             1,
             "#276419"
            ]
           ],
           "sequential": [
            [
             0,
             "#0d0887"
            ],
            [
             0.1111111111111111,
             "#46039f"
            ],
            [
             0.2222222222222222,
             "#7201a8"
            ],
            [
             0.3333333333333333,
             "#9c179e"
            ],
            [
             0.4444444444444444,
             "#bd3786"
            ],
            [
             0.5555555555555556,
             "#d8576b"
            ],
            [
             0.6666666666666666,
             "#ed7953"
            ],
            [
             0.7777777777777778,
             "#fb9f3a"
            ],
            [
             0.8888888888888888,
             "#fdca26"
            ],
            [
             1,
             "#f0f921"
            ]
           ],
           "sequentialminus": [
            [
             0,
             "#0d0887"
            ],
            [
             0.1111111111111111,
             "#46039f"
            ],
            [
             0.2222222222222222,
             "#7201a8"
            ],
            [
             0.3333333333333333,
             "#9c179e"
            ],
            [
             0.4444444444444444,
             "#bd3786"
            ],
            [
             0.5555555555555556,
             "#d8576b"
            ],
            [
             0.6666666666666666,
             "#ed7953"
            ],
            [
             0.7777777777777778,
             "#fb9f3a"
            ],
            [
             0.8888888888888888,
             "#fdca26"
            ],
            [
             1,
             "#f0f921"
            ]
           ]
          },
          "colorway": [
           "#636efa",
           "#EF553B",
           "#00cc96",
           "#ab63fa",
           "#FFA15A",
           "#19d3f3",
           "#FF6692",
           "#B6E880",
           "#FF97FF",
           "#FECB52"
          ],
          "font": {
           "color": "#2a3f5f"
          },
          "geo": {
           "bgcolor": "white",
           "lakecolor": "white",
           "landcolor": "#E5ECF6",
           "showlakes": true,
           "showland": true,
           "subunitcolor": "white"
          },
          "hoverlabel": {
           "align": "left"
          },
          "hovermode": "closest",
          "mapbox": {
           "style": "light"
          },
          "paper_bgcolor": "white",
          "plot_bgcolor": "#E5ECF6",
          "polar": {
           "angularaxis": {
            "gridcolor": "white",
            "linecolor": "white",
            "ticks": ""
           },
           "bgcolor": "#E5ECF6",
           "radialaxis": {
            "gridcolor": "white",
            "linecolor": "white",
            "ticks": ""
           }
          },
          "scene": {
           "xaxis": {
            "backgroundcolor": "#E5ECF6",
            "gridcolor": "white",
            "gridwidth": 2,
            "linecolor": "white",
            "showbackground": true,
            "ticks": "",
            "zerolinecolor": "white"
           },
           "yaxis": {
            "backgroundcolor": "#E5ECF6",
            "gridcolor": "white",
            "gridwidth": 2,
            "linecolor": "white",
            "showbackground": true,
            "ticks": "",
            "zerolinecolor": "white"
           },
           "zaxis": {
            "backgroundcolor": "#E5ECF6",
            "gridcolor": "white",
            "gridwidth": 2,
            "linecolor": "white",
            "showbackground": true,
            "ticks": "",
            "zerolinecolor": "white"
           }
          },
          "shapedefaults": {
           "line": {
            "color": "#2a3f5f"
           }
          },
          "ternary": {
           "aaxis": {
            "gridcolor": "white",
            "linecolor": "white",
            "ticks": ""
           },
           "baxis": {
            "gridcolor": "white",
            "linecolor": "white",
            "ticks": ""
           },
           "bgcolor": "#E5ECF6",
           "caxis": {
            "gridcolor": "white",
            "linecolor": "white",
            "ticks": ""
           }
          },
          "title": {
           "x": 0.05
          },
          "xaxis": {
           "automargin": true,
           "gridcolor": "white",
           "linecolor": "white",
           "ticks": "",
           "title": {
            "standoff": 15
           },
           "zerolinecolor": "white",
           "zerolinewidth": 2
          },
          "yaxis": {
           "automargin": true,
           "gridcolor": "white",
           "linecolor": "white",
           "ticks": "",
           "title": {
            "standoff": 15
           },
           "zerolinecolor": "white",
           "zerolinewidth": 2
          }
         }
        },
        "title": {
         "text": "Model Accuracy Performance"
        },
        "xaxis": {
         "anchor": "y",
         "categoryarray": [
          "LR",
          "Tree",
          "GNB",
          "RF",
          "AdaBoost",
          "Bagging",
          "GBM",
          "XGB",
          "CatBoost"
         ],
         "categoryorder": "array",
         "domain": [
          0,
          1
         ],
         "title": {
          "text": "Machine Learning Model"
         }
        },
        "yaxis": {
         "anchor": "x",
         "domain": [
          0,
          1
         ],
         "title": {
          "text": "Accuracy"
         }
        }
       }
      },
      "text/html": [
       "<div>                            <div id=\"e9e022f4-3f39-4a9c-ae84-c1ee3056f285\" class=\"plotly-graph-div\" style=\"height:525px; width:100%;\"></div>            <script type=\"text/javascript\">                require([\"plotly\"], function(Plotly) {                    window.PLOTLYENV=window.PLOTLYENV || {};                                    if (document.getElementById(\"e9e022f4-3f39-4a9c-ae84-c1ee3056f285\")) {                    Plotly.newPlot(                        \"e9e022f4-3f39-4a9c-ae84-c1ee3056f285\",                        [{\"alignmentgroup\":\"True\",\"boxpoints\":\"all\",\"hovertemplate\":\"Machine Learning Model=%{x}<br>Accuracy=%{y}<extra></extra>\",\"legendgroup\":\"LR\",\"marker\":{\"color\":\"#636efa\"},\"name\":\"LR\",\"notched\":false,\"offsetgroup\":\"LR\",\"orientation\":\"v\",\"showlegend\":true,\"x\":[\"LR\",\"LR\",\"LR\",\"LR\",\"LR\",\"LR\",\"LR\",\"LR\",\"LR\",\"LR\"],\"x0\":\" \",\"xaxis\":\"x\",\"y\":[0.6119814885577208,0.611556914193521,0.6106653080287012,0.6049167798913043,0.6081012228260869,0.607735744915722,0.6106653080287012,0.6084150638984418,0.6092900815217391,0.6103515625],\"y0\":\" \",\"yaxis\":\"y\",\"type\":\"box\"},{\"alignmentgroup\":\"True\",\"boxpoints\":\"all\",\"hovertemplate\":\"Machine Learning Model=%{x}<br>Accuracy=%{y}<extra></extra>\",\"legendgroup\":\"Tree\",\"marker\":{\"color\":\"#EF553B\"},\"name\":\"Tree\",\"notched\":false,\"offsetgroup\":\"Tree\",\"orientation\":\"v\",\"showlegend\":true,\"x\":[\"Tree\",\"Tree\",\"Tree\",\"Tree\",\"Tree\",\"Tree\",\"Tree\",\"Tree\",\"Tree\",\"Tree\"],\"x0\":\" \",\"xaxis\":\"x\",\"y\":[0.4916146563070522,0.4945442194200314,0.49322803889101174,0.4890030570652174,0.48806895380434784,0.48902475268543283,0.48550078546257375,0.49683692098671084,0.486625339673913,0.4971976902173913],\"y0\":\" \",\"yaxis\":\"y\",\"type\":\"box\"},{\"alignmentgroup\":\"True\",\"boxpoints\":\"all\",\"hovertemplate\":\"Machine Learning Model=%{x}<br>Accuracy=%{y}<extra></extra>\",\"legendgroup\":\"GNB\",\"marker\":{\"color\":\"#00cc96\"},\"name\":\"GNB\",\"notched\":false,\"offsetgroup\":\"GNB\",\"orientation\":\"v\",\"showlegend\":true,\"x\":[\"GNB\",\"GNB\",\"GNB\",\"GNB\",\"GNB\",\"GNB\",\"GNB\",\"GNB\",\"GNB\",\"GNB\"],\"x0\":\" \",\"xaxis\":\"x\",\"y\":[0.484609179297754,0.47560820277671634,0.48932195474037277,0.4794921875,0.4782608695652174,0.48452426442491403,0.48834543370271305,0.4765847238143761,0.48615828804347827,0.4782608695652174],\"y0\":\" \",\"yaxis\":\"y\",\"type\":\"box\"},{\"alignmentgroup\":\"True\",\"boxpoints\":\"all\",\"hovertemplate\":\"Machine Learning Model=%{x}<br>Accuracy=%{y}<extra></extra>\",\"legendgroup\":\"RF\",\"marker\":{\"color\":\"#ab63fa\"},\"name\":\"RF\",\"notched\":false,\"offsetgroup\":\"RF\",\"orientation\":\"v\",\"showlegend\":true,\"x\":[\"RF\",\"RF\",\"RF\",\"RF\",\"RF\",\"RF\",\"RF\",\"RF\",\"RF\",\"RF\"],\"x0\":\" \",\"xaxis\":\"x\",\"y\":[0.5514796416592366,0.550078546257377,0.5525835350061563,0.5507387907608695,0.5491677989130435,0.5534326837345561,0.5550885237549357,0.5476160149450177,0.5524371603260869,0.5565981657608695],\"y0\":\" \",\"yaxis\":\"y\",\"type\":\"box\"},{\"alignmentgroup\":\"True\",\"boxpoints\":\"all\",\"hovertemplate\":\"Machine Learning Model=%{x}<br>Accuracy=%{y}<extra></extra>\",\"legendgroup\":\"AdaBoost\",\"marker\":{\"color\":\"#FFA15A\"},\"name\":\"AdaBoost\",\"notched\":false,\"offsetgroup\":\"AdaBoost\",\"orientation\":\"v\",\"showlegend\":true,\"x\":[\"AdaBoost\",\"AdaBoost\",\"AdaBoost\",\"AdaBoost\",\"AdaBoost\",\"AdaBoost\",\"AdaBoost\",\"AdaBoost\",\"AdaBoost\",\"AdaBoost\"],\"x0\":\" \",\"xaxis\":\"x\",\"y\":[0.6188595932577591,0.6142741901244003,0.6126608075404407,0.6126443614130435,0.6157438858695652,0.6173311255466395,0.6155903706534199,0.6185199337663991,0.6165081521739131,0.6146824048913043],\"y0\":\" \",\"yaxis\":\"y\",\"type\":\"box\"},{\"alignmentgroup\":\"True\",\"boxpoints\":\"all\",\"hovertemplate\":\"Machine Learning Model=%{x}<br>Accuracy=%{y}<extra></extra>\",\"legendgroup\":\"Bagging\",\"marker\":{\"color\":\"#19d3f3\"},\"name\":\"Bagging\",\"notched\":false,\"offsetgroup\":\"Bagging\",\"orientation\":\"v\",\"showlegend\":true,\"x\":[\"Bagging\",\"Bagging\",\"Bagging\",\"Bagging\",\"Bagging\",\"Bagging\",\"Bagging\",\"Bagging\",\"Bagging\",\"Bagging\"],\"x0\":\" \",\"xaxis\":\"x\",\"y\":[0.5513098119135567,0.5530930242431962,0.5519466734598565,0.5481912364130435,0.5477241847826086,0.5484651636734174,0.5509701524221967,0.5484227062369974,0.5534137228260869,0.556046195652174],\"y0\":\" \",\"yaxis\":\"y\",\"type\":\"box\"},{\"alignmentgroup\":\"True\",\"boxpoints\":\"all\",\"hovertemplate\":\"Machine Learning Model=%{x}<br>Accuracy=%{y}<extra></extra>\",\"legendgroup\":\"GBM\",\"marker\":{\"color\":\"#FF6692\"},\"name\":\"GBM\",\"notched\":false,\"offsetgroup\":\"GBM\",\"orientation\":\"v\",\"showlegend\":true,\"x\":[\"GBM\",\"GBM\",\"GBM\",\"GBM\",\"GBM\",\"GBM\",\"GBM\",\"GBM\",\"GBM\",\"GBM\"],\"x0\":\" \",\"xaxis\":\"x\",\"y\":[0.6241667728102577,0.6256103256485374,0.6243790599923577,0.6207540760869565,0.6208814538043478,0.6214919543157984,0.6219589861164183,0.6225109327898781,0.6229619565217391,0.625],\"y0\":\" \",\"yaxis\":\"y\",\"type\":\"box\"},{\"alignmentgroup\":\"True\",\"boxpoints\":\"all\",\"hovertemplate\":\"Machine Learning Model=%{x}<br>Accuracy=%{y}<extra></extra>\",\"legendgroup\":\"XGB\",\"marker\":{\"color\":\"#B6E880\"},\"name\":\"XGB\",\"notched\":false,\"offsetgroup\":\"XGB\",\"orientation\":\"v\",\"showlegend\":true,\"x\":[\"XGB\",\"XGB\",\"XGB\",\"XGB\",\"XGB\",\"XGB\",\"XGB\",\"XGB\",\"XGB\",\"XGB\"],\"x0\":\" \",\"xaxis\":\"x\",\"y\":[0.623020422026918,0.6234025389546979,0.6248036343565575,0.6185037364130435,0.6203294836956522,0.6223411030441982,0.6220863584256783,0.6212372096972785,0.6215183423913043,0.6233440896739131],\"y0\":\" \",\"yaxis\":\"y\",\"type\":\"box\"},{\"alignmentgroup\":\"True\",\"boxpoints\":\"all\",\"hovertemplate\":\"Machine Learning Model=%{x}<br>Accuracy=%{y}<extra></extra>\",\"legendgroup\":\"CatBoost\",\"marker\":{\"color\":\"#FF97FF\"},\"name\":\"CatBoost\",\"notched\":false,\"offsetgroup\":\"CatBoost\",\"orientation\":\"v\",\"showlegend\":true,\"x\":[\"CatBoost\",\"CatBoost\",\"CatBoost\",\"CatBoost\",\"CatBoost\",\"CatBoost\",\"CatBoost\",\"CatBoost\",\"CatBoost\",\"CatBoost\"],\"x0\":\" \",\"xaxis\":\"x\",\"y\":[0.6256103256485374,0.6246762620472975,0.6238271133188978,0.6214334239130435,0.6205417798913043,0.6249310066658175,0.6222986456077783,0.6229355071540781,0.6224099864130435,0.6255095108695652],\"y0\":\" \",\"yaxis\":\"y\",\"type\":\"box\"}],                        {\"template\":{\"data\":{\"histogram2dcontour\":[{\"type\":\"histogram2dcontour\",\"colorbar\":{\"outlinewidth\":0,\"ticks\":\"\"},\"colorscale\":[[0.0,\"#0d0887\"],[0.1111111111111111,\"#46039f\"],[0.2222222222222222,\"#7201a8\"],[0.3333333333333333,\"#9c179e\"],[0.4444444444444444,\"#bd3786\"],[0.5555555555555556,\"#d8576b\"],[0.6666666666666666,\"#ed7953\"],[0.7777777777777778,\"#fb9f3a\"],[0.8888888888888888,\"#fdca26\"],[1.0,\"#f0f921\"]]}],\"choropleth\":[{\"type\":\"choropleth\",\"colorbar\":{\"outlinewidth\":0,\"ticks\":\"\"}}],\"histogram2d\":[{\"type\":\"histogram2d\",\"colorbar\":{\"outlinewidth\":0,\"ticks\":\"\"},\"colorscale\":[[0.0,\"#0d0887\"],[0.1111111111111111,\"#46039f\"],[0.2222222222222222,\"#7201a8\"],[0.3333333333333333,\"#9c179e\"],[0.4444444444444444,\"#bd3786\"],[0.5555555555555556,\"#d8576b\"],[0.6666666666666666,\"#ed7953\"],[0.7777777777777778,\"#fb9f3a\"],[0.8888888888888888,\"#fdca26\"],[1.0,\"#f0f921\"]]}],\"heatmap\":[{\"type\":\"heatmap\",\"colorbar\":{\"outlinewidth\":0,\"ticks\":\"\"},\"colorscale\":[[0.0,\"#0d0887\"],[0.1111111111111111,\"#46039f\"],[0.2222222222222222,\"#7201a8\"],[0.3333333333333333,\"#9c179e\"],[0.4444444444444444,\"#bd3786\"],[0.5555555555555556,\"#d8576b\"],[0.6666666666666666,\"#ed7953\"],[0.7777777777777778,\"#fb9f3a\"],[0.8888888888888888,\"#fdca26\"],[1.0,\"#f0f921\"]]}],\"heatmapgl\":[{\"type\":\"heatmapgl\",\"colorbar\":{\"outlinewidth\":0,\"ticks\":\"\"},\"colorscale\":[[0.0,\"#0d0887\"],[0.1111111111111111,\"#46039f\"],[0.2222222222222222,\"#7201a8\"],[0.3333333333333333,\"#9c179e\"],[0.4444444444444444,\"#bd3786\"],[0.5555555555555556,\"#d8576b\"],[0.6666666666666666,\"#ed7953\"],[0.7777777777777778,\"#fb9f3a\"],[0.8888888888888888,\"#fdca26\"],[1.0,\"#f0f921\"]]}],\"contourcarpet\":[{\"type\":\"contourcarpet\",\"colorbar\":{\"outlinewidth\":0,\"ticks\":\"\"}}],\"contour\":[{\"type\":\"contour\",\"colorbar\":{\"outlinewidth\":0,\"ticks\":\"\"},\"colorscale\":[[0.0,\"#0d0887\"],[0.1111111111111111,\"#46039f\"],[0.2222222222222222,\"#7201a8\"],[0.3333333333333333,\"#9c179e\"],[0.4444444444444444,\"#bd3786\"],[0.5555555555555556,\"#d8576b\"],[0.6666666666666666,\"#ed7953\"],[0.7777777777777778,\"#fb9f3a\"],[0.8888888888888888,\"#fdca26\"],[1.0,\"#f0f921\"]]}],\"surface\":[{\"type\":\"surface\",\"colorbar\":{\"outlinewidth\":0,\"ticks\":\"\"},\"colorscale\":[[0.0,\"#0d0887\"],[0.1111111111111111,\"#46039f\"],[0.2222222222222222,\"#7201a8\"],[0.3333333333333333,\"#9c179e\"],[0.4444444444444444,\"#bd3786\"],[0.5555555555555556,\"#d8576b\"],[0.6666666666666666,\"#ed7953\"],[0.7777777777777778,\"#fb9f3a\"],[0.8888888888888888,\"#fdca26\"],[1.0,\"#f0f921\"]]}],\"mesh3d\":[{\"type\":\"mesh3d\",\"colorbar\":{\"outlinewidth\":0,\"ticks\":\"\"}}],\"scatter\":[{\"fillpattern\":{\"fillmode\":\"overlay\",\"size\":10,\"solidity\":0.2},\"type\":\"scatter\"}],\"parcoords\":[{\"type\":\"parcoords\",\"line\":{\"colorbar\":{\"outlinewidth\":0,\"ticks\":\"\"}}}],\"scatterpolargl\":[{\"type\":\"scatterpolargl\",\"marker\":{\"colorbar\":{\"outlinewidth\":0,\"ticks\":\"\"}}}],\"bar\":[{\"error_x\":{\"color\":\"#2a3f5f\"},\"error_y\":{\"color\":\"#2a3f5f\"},\"marker\":{\"line\":{\"color\":\"#E5ECF6\",\"width\":0.5},\"pattern\":{\"fillmode\":\"overlay\",\"size\":10,\"solidity\":0.2}},\"type\":\"bar\"}],\"scattergeo\":[{\"type\":\"scattergeo\",\"marker\":{\"colorbar\":{\"outlinewidth\":0,\"ticks\":\"\"}}}],\"scatterpolar\":[{\"type\":\"scatterpolar\",\"marker\":{\"colorbar\":{\"outlinewidth\":0,\"ticks\":\"\"}}}],\"histogram\":[{\"marker\":{\"pattern\":{\"fillmode\":\"overlay\",\"size\":10,\"solidity\":0.2}},\"type\":\"histogram\"}],\"scattergl\":[{\"type\":\"scattergl\",\"marker\":{\"colorbar\":{\"outlinewidth\":0,\"ticks\":\"\"}}}],\"scatter3d\":[{\"type\":\"scatter3d\",\"line\":{\"colorbar\":{\"outlinewidth\":0,\"ticks\":\"\"}},\"marker\":{\"colorbar\":{\"outlinewidth\":0,\"ticks\":\"\"}}}],\"scattermapbox\":[{\"type\":\"scattermapbox\",\"marker\":{\"colorbar\":{\"outlinewidth\":0,\"ticks\":\"\"}}}],\"scatterternary\":[{\"type\":\"scatterternary\",\"marker\":{\"colorbar\":{\"outlinewidth\":0,\"ticks\":\"\"}}}],\"scattercarpet\":[{\"type\":\"scattercarpet\",\"marker\":{\"colorbar\":{\"outlinewidth\":0,\"ticks\":\"\"}}}],\"carpet\":[{\"aaxis\":{\"endlinecolor\":\"#2a3f5f\",\"gridcolor\":\"white\",\"linecolor\":\"white\",\"minorgridcolor\":\"white\",\"startlinecolor\":\"#2a3f5f\"},\"baxis\":{\"endlinecolor\":\"#2a3f5f\",\"gridcolor\":\"white\",\"linecolor\":\"white\",\"minorgridcolor\":\"white\",\"startlinecolor\":\"#2a3f5f\"},\"type\":\"carpet\"}],\"table\":[{\"cells\":{\"fill\":{\"color\":\"#EBF0F8\"},\"line\":{\"color\":\"white\"}},\"header\":{\"fill\":{\"color\":\"#C8D4E3\"},\"line\":{\"color\":\"white\"}},\"type\":\"table\"}],\"barpolar\":[{\"marker\":{\"line\":{\"color\":\"#E5ECF6\",\"width\":0.5},\"pattern\":{\"fillmode\":\"overlay\",\"size\":10,\"solidity\":0.2}},\"type\":\"barpolar\"}],\"pie\":[{\"automargin\":true,\"type\":\"pie\"}]},\"layout\":{\"autotypenumbers\":\"strict\",\"colorway\":[\"#636efa\",\"#EF553B\",\"#00cc96\",\"#ab63fa\",\"#FFA15A\",\"#19d3f3\",\"#FF6692\",\"#B6E880\",\"#FF97FF\",\"#FECB52\"],\"font\":{\"color\":\"#2a3f5f\"},\"hovermode\":\"closest\",\"hoverlabel\":{\"align\":\"left\"},\"paper_bgcolor\":\"white\",\"plot_bgcolor\":\"#E5ECF6\",\"polar\":{\"bgcolor\":\"#E5ECF6\",\"angularaxis\":{\"gridcolor\":\"white\",\"linecolor\":\"white\",\"ticks\":\"\"},\"radialaxis\":{\"gridcolor\":\"white\",\"linecolor\":\"white\",\"ticks\":\"\"}},\"ternary\":{\"bgcolor\":\"#E5ECF6\",\"aaxis\":{\"gridcolor\":\"white\",\"linecolor\":\"white\",\"ticks\":\"\"},\"baxis\":{\"gridcolor\":\"white\",\"linecolor\":\"white\",\"ticks\":\"\"},\"caxis\":{\"gridcolor\":\"white\",\"linecolor\":\"white\",\"ticks\":\"\"}},\"coloraxis\":{\"colorbar\":{\"outlinewidth\":0,\"ticks\":\"\"}},\"colorscale\":{\"sequential\":[[0.0,\"#0d0887\"],[0.1111111111111111,\"#46039f\"],[0.2222222222222222,\"#7201a8\"],[0.3333333333333333,\"#9c179e\"],[0.4444444444444444,\"#bd3786\"],[0.5555555555555556,\"#d8576b\"],[0.6666666666666666,\"#ed7953\"],[0.7777777777777778,\"#fb9f3a\"],[0.8888888888888888,\"#fdca26\"],[1.0,\"#f0f921\"]],\"sequentialminus\":[[0.0,\"#0d0887\"],[0.1111111111111111,\"#46039f\"],[0.2222222222222222,\"#7201a8\"],[0.3333333333333333,\"#9c179e\"],[0.4444444444444444,\"#bd3786\"],[0.5555555555555556,\"#d8576b\"],[0.6666666666666666,\"#ed7953\"],[0.7777777777777778,\"#fb9f3a\"],[0.8888888888888888,\"#fdca26\"],[1.0,\"#f0f921\"]],\"diverging\":[[0,\"#8e0152\"],[0.1,\"#c51b7d\"],[0.2,\"#de77ae\"],[0.3,\"#f1b6da\"],[0.4,\"#fde0ef\"],[0.5,\"#f7f7f7\"],[0.6,\"#e6f5d0\"],[0.7,\"#b8e186\"],[0.8,\"#7fbc41\"],[0.9,\"#4d9221\"],[1,\"#276419\"]]},\"xaxis\":{\"gridcolor\":\"white\",\"linecolor\":\"white\",\"ticks\":\"\",\"title\":{\"standoff\":15},\"zerolinecolor\":\"white\",\"automargin\":true,\"zerolinewidth\":2},\"yaxis\":{\"gridcolor\":\"white\",\"linecolor\":\"white\",\"ticks\":\"\",\"title\":{\"standoff\":15},\"zerolinecolor\":\"white\",\"automargin\":true,\"zerolinewidth\":2},\"scene\":{\"xaxis\":{\"backgroundcolor\":\"#E5ECF6\",\"gridcolor\":\"white\",\"linecolor\":\"white\",\"showbackground\":true,\"ticks\":\"\",\"zerolinecolor\":\"white\",\"gridwidth\":2},\"yaxis\":{\"backgroundcolor\":\"#E5ECF6\",\"gridcolor\":\"white\",\"linecolor\":\"white\",\"showbackground\":true,\"ticks\":\"\",\"zerolinecolor\":\"white\",\"gridwidth\":2},\"zaxis\":{\"backgroundcolor\":\"#E5ECF6\",\"gridcolor\":\"white\",\"linecolor\":\"white\",\"showbackground\":true,\"ticks\":\"\",\"zerolinecolor\":\"white\",\"gridwidth\":2}},\"shapedefaults\":{\"line\":{\"color\":\"#2a3f5f\"}},\"annotationdefaults\":{\"arrowcolor\":\"#2a3f5f\",\"arrowhead\":0,\"arrowwidth\":1},\"geo\":{\"bgcolor\":\"white\",\"landcolor\":\"#E5ECF6\",\"subunitcolor\":\"white\",\"showland\":true,\"showlakes\":true,\"lakecolor\":\"white\"},\"title\":{\"x\":0.05},\"mapbox\":{\"style\":\"light\"}}},\"xaxis\":{\"anchor\":\"y\",\"domain\":[0.0,1.0],\"title\":{\"text\":\"Machine Learning Model\"},\"categoryorder\":\"array\",\"categoryarray\":[\"LR\",\"Tree\",\"GNB\",\"RF\",\"AdaBoost\",\"Bagging\",\"GBM\",\"XGB\",\"CatBoost\"]},\"yaxis\":{\"anchor\":\"x\",\"domain\":[0.0,1.0],\"title\":{\"text\":\"Accuracy\"}},\"legend\":{\"title\":{\"text\":\"Machine Learning Model\"},\"tracegroupgap\":0},\"title\":{\"text\":\"Model Accuracy Performance\"},\"boxmode\":\"overlay\"},                        {\"responsive\": true}                    ).then(function(){\n",
       "                            \n",
       "var gd = document.getElementById('e9e022f4-3f39-4a9c-ae84-c1ee3056f285');\n",
       "var x = new MutationObserver(function (mutations, observer) {{\n",
       "        var display = window.getComputedStyle(gd).display;\n",
       "        if (!display || display === 'none') {{\n",
       "            console.log([gd, 'removed!']);\n",
       "            Plotly.purge(gd);\n",
       "            observer.disconnect();\n",
       "        }}\n",
       "}});\n",
       "\n",
       "// Listen for the removal of the full notebook cells\n",
       "var notebookContainer = gd.closest('#notebook-container');\n",
       "if (notebookContainer) {{\n",
       "    x.observe(notebookContainer, {childList: true});\n",
       "}}\n",
       "\n",
       "// Listen for the clearing of the current output cell\n",
       "var outputEl = gd.closest('.output');\n",
       "if (outputEl) {{\n",
       "    x.observe(outputEl, {childList: true});\n",
       "}}\n",
       "\n",
       "                        })                };                });            </script>        </div>"
      ]
     },
     "metadata": {},
     "output_type": "display_data"
    }
   ],
   "source": [
    "fig = px.box(\n",
    "    classifmod,\n",
    "    x=\"Model\",\n",
    "    y=\"Accuracy\",\n",
    "    color=\"Model\",\n",
    "    points=\"all\",\n",
    "    labels={\"Model\": \"Machine Learning Model\", \"Accuracy\": \"Accuracy\"},\n",
    "    title=\"Model Accuracy Performance\",\n",
    ")\n",
    "fig.show()\n",
    "fig.write_html(\"products/plots/model_train_accuracies.html\")"
   ]
  },
  {
   "cell_type": "code",
   "execution_count": 224,
   "metadata": {},
   "outputs": [
    {
     "data": {
      "application/vnd.plotly.v1+json": {
       "config": {
        "plotlyServerURL": "https://plotly.com"
       },
       "data": [
        {
         "alignmentgroup": "True",
         "boxpoints": "all",
         "hovertemplate": "Machine Learning Model=%{x}<br>Weighted f1-Score=%{y}<extra></extra>",
         "legendgroup": "LR",
         "marker": {
          "color": "#636efa"
         },
         "name": "LR",
         "notched": false,
         "offsetgroup": "LR",
         "orientation": "v",
         "showlegend": true,
         "type": "box",
         "x": [
          "LR",
          "LR",
          "LR",
          "LR",
          "LR",
          "LR",
          "LR",
          "LR",
          "LR",
          "LR"
         ],
         "x0": " ",
         "xaxis": "x",
         "y": [
          0.5330310166081167,
          0.5340882197562198,
          0.5338695590410422,
          0.5274160831589275,
          0.5306087902099951,
          0.5291600956866274,
          0.5332928009882842,
          0.5294968285334225,
          0.5328638847935039,
          0.5336852199564559
         ],
         "y0": " ",
         "yaxis": "y"
        },
        {
         "alignmentgroup": "True",
         "boxpoints": "all",
         "hovertemplate": "Machine Learning Model=%{x}<br>Weighted f1-Score=%{y}<extra></extra>",
         "legendgroup": "Tree",
         "marker": {
          "color": "#EF553B"
         },
         "name": "Tree",
         "notched": false,
         "offsetgroup": "Tree",
         "orientation": "v",
         "showlegend": true,
         "type": "box",
         "x": [
          "Tree",
          "Tree",
          "Tree",
          "Tree",
          "Tree",
          "Tree",
          "Tree",
          "Tree",
          "Tree",
          "Tree"
         ],
         "x0": " ",
         "xaxis": "x",
         "y": [
          0.493658300161518,
          0.4967100917494991,
          0.49747685286945986,
          0.49499048944419577,
          0.4906545513949378,
          0.49164876791169476,
          0.49116551054719426,
          0.4981853565600421,
          0.49303806360879276,
          0.4999920492342203
         ],
         "y0": " ",
         "yaxis": "y"
        },
        {
         "alignmentgroup": "True",
         "boxpoints": "all",
         "hovertemplate": "Machine Learning Model=%{x}<br>Weighted f1-Score=%{y}<extra></extra>",
         "legendgroup": "GNB",
         "marker": {
          "color": "#00cc96"
         },
         "name": "GNB",
         "notched": false,
         "offsetgroup": "GNB",
         "orientation": "v",
         "showlegend": true,
         "type": "box",
         "x": [
          "GNB",
          "GNB",
          "GNB",
          "GNB",
          "GNB",
          "GNB",
          "GNB",
          "GNB",
          "GNB",
          "GNB"
         ],
         "x0": " ",
         "xaxis": "x",
         "y": [
          0.49379418779576273,
          0.487913235018719,
          0.49830703430324885,
          0.48940554125684693,
          0.49077424505095935,
          0.4945232592393809,
          0.49833328221614365,
          0.4881203881014537,
          0.49442650087623163,
          0.4889301777080842
         ],
         "y0": " ",
         "yaxis": "y"
        },
        {
         "alignmentgroup": "True",
         "boxpoints": "all",
         "hovertemplate": "Machine Learning Model=%{x}<br>Weighted f1-Score=%{y}<extra></extra>",
         "legendgroup": "RF",
         "marker": {
          "color": "#ab63fa"
         },
         "name": "RF",
         "notched": false,
         "offsetgroup": "RF",
         "orientation": "v",
         "showlegend": true,
         "type": "box",
         "x": [
          "RF",
          "RF",
          "RF",
          "RF",
          "RF",
          "RF",
          "RF",
          "RF",
          "RF",
          "RF"
         ],
         "x0": " ",
         "xaxis": "x",
         "y": [
          0.5278134518776496,
          0.5240219439259232,
          0.5280772187378432,
          0.5235097634157555,
          0.526481888527823,
          0.5287869842836027,
          0.5303750224496052,
          0.5264340593437248,
          0.5280046741238023,
          0.5326669351627846
         ],
         "y0": " ",
         "yaxis": "y"
        },
        {
         "alignmentgroup": "True",
         "boxpoints": "all",
         "hovertemplate": "Machine Learning Model=%{x}<br>Weighted f1-Score=%{y}<extra></extra>",
         "legendgroup": "AdaBoost",
         "marker": {
          "color": "#FFA15A"
         },
         "name": "AdaBoost",
         "notched": false,
         "offsetgroup": "AdaBoost",
         "orientation": "v",
         "showlegend": true,
         "type": "box",
         "x": [
          "AdaBoost",
          "AdaBoost",
          "AdaBoost",
          "AdaBoost",
          "AdaBoost",
          "AdaBoost",
          "AdaBoost",
          "AdaBoost",
          "AdaBoost",
          "AdaBoost"
         ],
         "x0": " ",
         "xaxis": "x",
         "y": [
          0.5481068169657054,
          0.5457190392447224,
          0.5459703397540799,
          0.5413899875714211,
          0.5430214423881895,
          0.5400241617042195,
          0.5421946797712927,
          0.5552080140264257,
          0.540077433147427,
          0.548102398843852
         ],
         "y0": " ",
         "yaxis": "y"
        },
        {
         "alignmentgroup": "True",
         "boxpoints": "all",
         "hovertemplate": "Machine Learning Model=%{x}<br>Weighted f1-Score=%{y}<extra></extra>",
         "legendgroup": "Bagging",
         "marker": {
          "color": "#19d3f3"
         },
         "name": "Bagging",
         "notched": false,
         "offsetgroup": "Bagging",
         "orientation": "v",
         "showlegend": true,
         "type": "box",
         "x": [
          "Bagging",
          "Bagging",
          "Bagging",
          "Bagging",
          "Bagging",
          "Bagging",
          "Bagging",
          "Bagging",
          "Bagging",
          "Bagging"
         ],
         "x0": " ",
         "xaxis": "x",
         "y": [
          0.5340461828217409,
          0.5283280264273261,
          0.5345599688860541,
          0.5292981693515432,
          0.5310945203005827,
          0.5343815210393914,
          0.532379275194792,
          0.5332682748134006,
          0.5337666226467009,
          0.5348626190086311
         ],
         "y0": " ",
         "yaxis": "y"
        },
        {
         "alignmentgroup": "True",
         "boxpoints": "all",
         "hovertemplate": "Machine Learning Model=%{x}<br>Weighted f1-Score=%{y}<extra></extra>",
         "legendgroup": "GBM",
         "marker": {
          "color": "#FF6692"
         },
         "name": "GBM",
         "notched": false,
         "offsetgroup": "GBM",
         "orientation": "v",
         "showlegend": true,
         "type": "box",
         "x": [
          "GBM",
          "GBM",
          "GBM",
          "GBM",
          "GBM",
          "GBM",
          "GBM",
          "GBM",
          "GBM",
          "GBM"
         ],
         "x0": " ",
         "xaxis": "x",
         "y": [
          0.5451857338744811,
          0.5481054122322698,
          0.5474699384034903,
          0.5413191647969496,
          0.542751005100391,
          0.5416005218415182,
          0.5446832634024635,
          0.5438576786602591,
          0.5464732233809481,
          0.5470786274651642
         ],
         "y0": " ",
         "yaxis": "y"
        },
        {
         "alignmentgroup": "True",
         "boxpoints": "all",
         "hovertemplate": "Machine Learning Model=%{x}<br>Weighted f1-Score=%{y}<extra></extra>",
         "legendgroup": "XGB",
         "marker": {
          "color": "#B6E880"
         },
         "name": "XGB",
         "notched": false,
         "offsetgroup": "XGB",
         "orientation": "v",
         "showlegend": true,
         "type": "box",
         "x": [
          "XGB",
          "XGB",
          "XGB",
          "XGB",
          "XGB",
          "XGB",
          "XGB",
          "XGB",
          "XGB",
          "XGB"
         ],
         "x0": " ",
         "xaxis": "x",
         "y": [
          0.5529375620798355,
          0.555619158490195,
          0.556785909186755,
          0.548677136354181,
          0.5508845441493477,
          0.5513959466851337,
          0.5520008378066783,
          0.5516000609909352,
          0.5538252718608446,
          0.5570678683695651
         ],
         "y0": " ",
         "yaxis": "y"
        },
        {
         "alignmentgroup": "True",
         "boxpoints": "all",
         "hovertemplate": "Machine Learning Model=%{x}<br>Weighted f1-Score=%{y}<extra></extra>",
         "legendgroup": "CatBoost",
         "marker": {
          "color": "#FF97FF"
         },
         "name": "CatBoost",
         "notched": false,
         "offsetgroup": "CatBoost",
         "orientation": "v",
         "showlegend": true,
         "type": "box",
         "x": [
          "CatBoost",
          "CatBoost",
          "CatBoost",
          "CatBoost",
          "CatBoost",
          "CatBoost",
          "CatBoost",
          "CatBoost",
          "CatBoost",
          "CatBoost"
         ],
         "x0": " ",
         "xaxis": "x",
         "y": [
          0.5577635354636955,
          0.5577262536621505,
          0.555347590739337,
          0.5529293754142719,
          0.5526923021270655,
          0.5558712496332088,
          0.5538723821292479,
          0.5545615314741104,
          0.556522456969849,
          0.5589616068335584
         ],
         "y0": " ",
         "yaxis": "y"
        }
       ],
       "layout": {
        "boxmode": "overlay",
        "legend": {
         "title": {
          "text": "Machine Learning Model"
         },
         "tracegroupgap": 0
        },
        "template": {
         "data": {
          "bar": [
           {
            "error_x": {
             "color": "#2a3f5f"
            },
            "error_y": {
             "color": "#2a3f5f"
            },
            "marker": {
             "line": {
              "color": "#E5ECF6",
              "width": 0.5
             },
             "pattern": {
              "fillmode": "overlay",
              "size": 10,
              "solidity": 0.2
             }
            },
            "type": "bar"
           }
          ],
          "barpolar": [
           {
            "marker": {
             "line": {
              "color": "#E5ECF6",
              "width": 0.5
             },
             "pattern": {
              "fillmode": "overlay",
              "size": 10,
              "solidity": 0.2
             }
            },
            "type": "barpolar"
           }
          ],
          "carpet": [
           {
            "aaxis": {
             "endlinecolor": "#2a3f5f",
             "gridcolor": "white",
             "linecolor": "white",
             "minorgridcolor": "white",
             "startlinecolor": "#2a3f5f"
            },
            "baxis": {
             "endlinecolor": "#2a3f5f",
             "gridcolor": "white",
             "linecolor": "white",
             "minorgridcolor": "white",
             "startlinecolor": "#2a3f5f"
            },
            "type": "carpet"
           }
          ],
          "choropleth": [
           {
            "colorbar": {
             "outlinewidth": 0,
             "ticks": ""
            },
            "type": "choropleth"
           }
          ],
          "contour": [
           {
            "colorbar": {
             "outlinewidth": 0,
             "ticks": ""
            },
            "colorscale": [
             [
              0,
              "#0d0887"
             ],
             [
              0.1111111111111111,
              "#46039f"
             ],
             [
              0.2222222222222222,
              "#7201a8"
             ],
             [
              0.3333333333333333,
              "#9c179e"
             ],
             [
              0.4444444444444444,
              "#bd3786"
             ],
             [
              0.5555555555555556,
              "#d8576b"
             ],
             [
              0.6666666666666666,
              "#ed7953"
             ],
             [
              0.7777777777777778,
              "#fb9f3a"
             ],
             [
              0.8888888888888888,
              "#fdca26"
             ],
             [
              1,
              "#f0f921"
             ]
            ],
            "type": "contour"
           }
          ],
          "contourcarpet": [
           {
            "colorbar": {
             "outlinewidth": 0,
             "ticks": ""
            },
            "type": "contourcarpet"
           }
          ],
          "heatmap": [
           {
            "colorbar": {
             "outlinewidth": 0,
             "ticks": ""
            },
            "colorscale": [
             [
              0,
              "#0d0887"
             ],
             [
              0.1111111111111111,
              "#46039f"
             ],
             [
              0.2222222222222222,
              "#7201a8"
             ],
             [
              0.3333333333333333,
              "#9c179e"
             ],
             [
              0.4444444444444444,
              "#bd3786"
             ],
             [
              0.5555555555555556,
              "#d8576b"
             ],
             [
              0.6666666666666666,
              "#ed7953"
             ],
             [
              0.7777777777777778,
              "#fb9f3a"
             ],
             [
              0.8888888888888888,
              "#fdca26"
             ],
             [
              1,
              "#f0f921"
             ]
            ],
            "type": "heatmap"
           }
          ],
          "heatmapgl": [
           {
            "colorbar": {
             "outlinewidth": 0,
             "ticks": ""
            },
            "colorscale": [
             [
              0,
              "#0d0887"
             ],
             [
              0.1111111111111111,
              "#46039f"
             ],
             [
              0.2222222222222222,
              "#7201a8"
             ],
             [
              0.3333333333333333,
              "#9c179e"
             ],
             [
              0.4444444444444444,
              "#bd3786"
             ],
             [
              0.5555555555555556,
              "#d8576b"
             ],
             [
              0.6666666666666666,
              "#ed7953"
             ],
             [
              0.7777777777777778,
              "#fb9f3a"
             ],
             [
              0.8888888888888888,
              "#fdca26"
             ],
             [
              1,
              "#f0f921"
             ]
            ],
            "type": "heatmapgl"
           }
          ],
          "histogram": [
           {
            "marker": {
             "pattern": {
              "fillmode": "overlay",
              "size": 10,
              "solidity": 0.2
             }
            },
            "type": "histogram"
           }
          ],
          "histogram2d": [
           {
            "colorbar": {
             "outlinewidth": 0,
             "ticks": ""
            },
            "colorscale": [
             [
              0,
              "#0d0887"
             ],
             [
              0.1111111111111111,
              "#46039f"
             ],
             [
              0.2222222222222222,
              "#7201a8"
             ],
             [
              0.3333333333333333,
              "#9c179e"
             ],
             [
              0.4444444444444444,
              "#bd3786"
             ],
             [
              0.5555555555555556,
              "#d8576b"
             ],
             [
              0.6666666666666666,
              "#ed7953"
             ],
             [
              0.7777777777777778,
              "#fb9f3a"
             ],
             [
              0.8888888888888888,
              "#fdca26"
             ],
             [
              1,
              "#f0f921"
             ]
            ],
            "type": "histogram2d"
           }
          ],
          "histogram2dcontour": [
           {
            "colorbar": {
             "outlinewidth": 0,
             "ticks": ""
            },
            "colorscale": [
             [
              0,
              "#0d0887"
             ],
             [
              0.1111111111111111,
              "#46039f"
             ],
             [
              0.2222222222222222,
              "#7201a8"
             ],
             [
              0.3333333333333333,
              "#9c179e"
             ],
             [
              0.4444444444444444,
              "#bd3786"
             ],
             [
              0.5555555555555556,
              "#d8576b"
             ],
             [
              0.6666666666666666,
              "#ed7953"
             ],
             [
              0.7777777777777778,
              "#fb9f3a"
             ],
             [
              0.8888888888888888,
              "#fdca26"
             ],
             [
              1,
              "#f0f921"
             ]
            ],
            "type": "histogram2dcontour"
           }
          ],
          "mesh3d": [
           {
            "colorbar": {
             "outlinewidth": 0,
             "ticks": ""
            },
            "type": "mesh3d"
           }
          ],
          "parcoords": [
           {
            "line": {
             "colorbar": {
              "outlinewidth": 0,
              "ticks": ""
             }
            },
            "type": "parcoords"
           }
          ],
          "pie": [
           {
            "automargin": true,
            "type": "pie"
           }
          ],
          "scatter": [
           {
            "fillpattern": {
             "fillmode": "overlay",
             "size": 10,
             "solidity": 0.2
            },
            "type": "scatter"
           }
          ],
          "scatter3d": [
           {
            "line": {
             "colorbar": {
              "outlinewidth": 0,
              "ticks": ""
             }
            },
            "marker": {
             "colorbar": {
              "outlinewidth": 0,
              "ticks": ""
             }
            },
            "type": "scatter3d"
           }
          ],
          "scattercarpet": [
           {
            "marker": {
             "colorbar": {
              "outlinewidth": 0,
              "ticks": ""
             }
            },
            "type": "scattercarpet"
           }
          ],
          "scattergeo": [
           {
            "marker": {
             "colorbar": {
              "outlinewidth": 0,
              "ticks": ""
             }
            },
            "type": "scattergeo"
           }
          ],
          "scattergl": [
           {
            "marker": {
             "colorbar": {
              "outlinewidth": 0,
              "ticks": ""
             }
            },
            "type": "scattergl"
           }
          ],
          "scattermapbox": [
           {
            "marker": {
             "colorbar": {
              "outlinewidth": 0,
              "ticks": ""
             }
            },
            "type": "scattermapbox"
           }
          ],
          "scatterpolar": [
           {
            "marker": {
             "colorbar": {
              "outlinewidth": 0,
              "ticks": ""
             }
            },
            "type": "scatterpolar"
           }
          ],
          "scatterpolargl": [
           {
            "marker": {
             "colorbar": {
              "outlinewidth": 0,
              "ticks": ""
             }
            },
            "type": "scatterpolargl"
           }
          ],
          "scatterternary": [
           {
            "marker": {
             "colorbar": {
              "outlinewidth": 0,
              "ticks": ""
             }
            },
            "type": "scatterternary"
           }
          ],
          "surface": [
           {
            "colorbar": {
             "outlinewidth": 0,
             "ticks": ""
            },
            "colorscale": [
             [
              0,
              "#0d0887"
             ],
             [
              0.1111111111111111,
              "#46039f"
             ],
             [
              0.2222222222222222,
              "#7201a8"
             ],
             [
              0.3333333333333333,
              "#9c179e"
             ],
             [
              0.4444444444444444,
              "#bd3786"
             ],
             [
              0.5555555555555556,
              "#d8576b"
             ],
             [
              0.6666666666666666,
              "#ed7953"
             ],
             [
              0.7777777777777778,
              "#fb9f3a"
             ],
             [
              0.8888888888888888,
              "#fdca26"
             ],
             [
              1,
              "#f0f921"
             ]
            ],
            "type": "surface"
           }
          ],
          "table": [
           {
            "cells": {
             "fill": {
              "color": "#EBF0F8"
             },
             "line": {
              "color": "white"
             }
            },
            "header": {
             "fill": {
              "color": "#C8D4E3"
             },
             "line": {
              "color": "white"
             }
            },
            "type": "table"
           }
          ]
         },
         "layout": {
          "annotationdefaults": {
           "arrowcolor": "#2a3f5f",
           "arrowhead": 0,
           "arrowwidth": 1
          },
          "autotypenumbers": "strict",
          "coloraxis": {
           "colorbar": {
            "outlinewidth": 0,
            "ticks": ""
           }
          },
          "colorscale": {
           "diverging": [
            [
             0,
             "#8e0152"
            ],
            [
             0.1,
             "#c51b7d"
            ],
            [
             0.2,
             "#de77ae"
            ],
            [
             0.3,
             "#f1b6da"
            ],
            [
             0.4,
             "#fde0ef"
            ],
            [
             0.5,
             "#f7f7f7"
            ],
            [
             0.6,
             "#e6f5d0"
            ],
            [
             0.7,
             "#b8e186"
            ],
            [
             0.8,
             "#7fbc41"
            ],
            [
             0.9,
             "#4d9221"
            ],
            [
             1,
             "#276419"
            ]
           ],
           "sequential": [
            [
             0,
             "#0d0887"
            ],
            [
             0.1111111111111111,
             "#46039f"
            ],
            [
             0.2222222222222222,
             "#7201a8"
            ],
            [
             0.3333333333333333,
             "#9c179e"
            ],
            [
             0.4444444444444444,
             "#bd3786"
            ],
            [
             0.5555555555555556,
             "#d8576b"
            ],
            [
             0.6666666666666666,
             "#ed7953"
            ],
            [
             0.7777777777777778,
             "#fb9f3a"
            ],
            [
             0.8888888888888888,
             "#fdca26"
            ],
            [
             1,
             "#f0f921"
            ]
           ],
           "sequentialminus": [
            [
             0,
             "#0d0887"
            ],
            [
             0.1111111111111111,
             "#46039f"
            ],
            [
             0.2222222222222222,
             "#7201a8"
            ],
            [
             0.3333333333333333,
             "#9c179e"
            ],
            [
             0.4444444444444444,
             "#bd3786"
            ],
            [
             0.5555555555555556,
             "#d8576b"
            ],
            [
             0.6666666666666666,
             "#ed7953"
            ],
            [
             0.7777777777777778,
             "#fb9f3a"
            ],
            [
             0.8888888888888888,
             "#fdca26"
            ],
            [
             1,
             "#f0f921"
            ]
           ]
          },
          "colorway": [
           "#636efa",
           "#EF553B",
           "#00cc96",
           "#ab63fa",
           "#FFA15A",
           "#19d3f3",
           "#FF6692",
           "#B6E880",
           "#FF97FF",
           "#FECB52"
          ],
          "font": {
           "color": "#2a3f5f"
          },
          "geo": {
           "bgcolor": "white",
           "lakecolor": "white",
           "landcolor": "#E5ECF6",
           "showlakes": true,
           "showland": true,
           "subunitcolor": "white"
          },
          "hoverlabel": {
           "align": "left"
          },
          "hovermode": "closest",
          "mapbox": {
           "style": "light"
          },
          "paper_bgcolor": "white",
          "plot_bgcolor": "#E5ECF6",
          "polar": {
           "angularaxis": {
            "gridcolor": "white",
            "linecolor": "white",
            "ticks": ""
           },
           "bgcolor": "#E5ECF6",
           "radialaxis": {
            "gridcolor": "white",
            "linecolor": "white",
            "ticks": ""
           }
          },
          "scene": {
           "xaxis": {
            "backgroundcolor": "#E5ECF6",
            "gridcolor": "white",
            "gridwidth": 2,
            "linecolor": "white",
            "showbackground": true,
            "ticks": "",
            "zerolinecolor": "white"
           },
           "yaxis": {
            "backgroundcolor": "#E5ECF6",
            "gridcolor": "white",
            "gridwidth": 2,
            "linecolor": "white",
            "showbackground": true,
            "ticks": "",
            "zerolinecolor": "white"
           },
           "zaxis": {
            "backgroundcolor": "#E5ECF6",
            "gridcolor": "white",
            "gridwidth": 2,
            "linecolor": "white",
            "showbackground": true,
            "ticks": "",
            "zerolinecolor": "white"
           }
          },
          "shapedefaults": {
           "line": {
            "color": "#2a3f5f"
           }
          },
          "ternary": {
           "aaxis": {
            "gridcolor": "white",
            "linecolor": "white",
            "ticks": ""
           },
           "baxis": {
            "gridcolor": "white",
            "linecolor": "white",
            "ticks": ""
           },
           "bgcolor": "#E5ECF6",
           "caxis": {
            "gridcolor": "white",
            "linecolor": "white",
            "ticks": ""
           }
          },
          "title": {
           "x": 0.05
          },
          "xaxis": {
           "automargin": true,
           "gridcolor": "white",
           "linecolor": "white",
           "ticks": "",
           "title": {
            "standoff": 15
           },
           "zerolinecolor": "white",
           "zerolinewidth": 2
          },
          "yaxis": {
           "automargin": true,
           "gridcolor": "white",
           "linecolor": "white",
           "ticks": "",
           "title": {
            "standoff": 15
           },
           "zerolinecolor": "white",
           "zerolinewidth": 2
          }
         }
        },
        "title": {
         "text": "Model Weighted f1-Score Performance"
        },
        "xaxis": {
         "anchor": "y",
         "categoryarray": [
          "LR",
          "Tree",
          "GNB",
          "RF",
          "AdaBoost",
          "Bagging",
          "GBM",
          "XGB",
          "CatBoost"
         ],
         "categoryorder": "array",
         "domain": [
          0,
          1
         ],
         "title": {
          "text": "Machine Learning Model"
         }
        },
        "yaxis": {
         "anchor": "x",
         "domain": [
          0,
          1
         ],
         "title": {
          "text": "Weighted f1-Score"
         }
        }
       }
      },
      "text/html": [
       "<div>                            <div id=\"0666bb50-7349-4879-89dd-ba8717382bc3\" class=\"plotly-graph-div\" style=\"height:525px; width:100%;\"></div>            <script type=\"text/javascript\">                require([\"plotly\"], function(Plotly) {                    window.PLOTLYENV=window.PLOTLYENV || {};                                    if (document.getElementById(\"0666bb50-7349-4879-89dd-ba8717382bc3\")) {                    Plotly.newPlot(                        \"0666bb50-7349-4879-89dd-ba8717382bc3\",                        [{\"alignmentgroup\":\"True\",\"boxpoints\":\"all\",\"hovertemplate\":\"Machine Learning Model=%{x}<br>Weighted f1-Score=%{y}<extra></extra>\",\"legendgroup\":\"LR\",\"marker\":{\"color\":\"#636efa\"},\"name\":\"LR\",\"notched\":false,\"offsetgroup\":\"LR\",\"orientation\":\"v\",\"showlegend\":true,\"x\":[\"LR\",\"LR\",\"LR\",\"LR\",\"LR\",\"LR\",\"LR\",\"LR\",\"LR\",\"LR\"],\"x0\":\" \",\"xaxis\":\"x\",\"y\":[0.5330310166081167,0.5340882197562198,0.5338695590410422,0.5274160831589275,0.5306087902099951,0.5291600956866274,0.5332928009882842,0.5294968285334225,0.5328638847935039,0.5336852199564559],\"y0\":\" \",\"yaxis\":\"y\",\"type\":\"box\"},{\"alignmentgroup\":\"True\",\"boxpoints\":\"all\",\"hovertemplate\":\"Machine Learning Model=%{x}<br>Weighted f1-Score=%{y}<extra></extra>\",\"legendgroup\":\"Tree\",\"marker\":{\"color\":\"#EF553B\"},\"name\":\"Tree\",\"notched\":false,\"offsetgroup\":\"Tree\",\"orientation\":\"v\",\"showlegend\":true,\"x\":[\"Tree\",\"Tree\",\"Tree\",\"Tree\",\"Tree\",\"Tree\",\"Tree\",\"Tree\",\"Tree\",\"Tree\"],\"x0\":\" \",\"xaxis\":\"x\",\"y\":[0.493658300161518,0.4967100917494991,0.49747685286945986,0.49499048944419577,0.4906545513949378,0.49164876791169476,0.49116551054719426,0.4981853565600421,0.49303806360879276,0.4999920492342203],\"y0\":\" \",\"yaxis\":\"y\",\"type\":\"box\"},{\"alignmentgroup\":\"True\",\"boxpoints\":\"all\",\"hovertemplate\":\"Machine Learning Model=%{x}<br>Weighted f1-Score=%{y}<extra></extra>\",\"legendgroup\":\"GNB\",\"marker\":{\"color\":\"#00cc96\"},\"name\":\"GNB\",\"notched\":false,\"offsetgroup\":\"GNB\",\"orientation\":\"v\",\"showlegend\":true,\"x\":[\"GNB\",\"GNB\",\"GNB\",\"GNB\",\"GNB\",\"GNB\",\"GNB\",\"GNB\",\"GNB\",\"GNB\"],\"x0\":\" \",\"xaxis\":\"x\",\"y\":[0.49379418779576273,0.487913235018719,0.49830703430324885,0.48940554125684693,0.49077424505095935,0.4945232592393809,0.49833328221614365,0.4881203881014537,0.49442650087623163,0.4889301777080842],\"y0\":\" \",\"yaxis\":\"y\",\"type\":\"box\"},{\"alignmentgroup\":\"True\",\"boxpoints\":\"all\",\"hovertemplate\":\"Machine Learning Model=%{x}<br>Weighted f1-Score=%{y}<extra></extra>\",\"legendgroup\":\"RF\",\"marker\":{\"color\":\"#ab63fa\"},\"name\":\"RF\",\"notched\":false,\"offsetgroup\":\"RF\",\"orientation\":\"v\",\"showlegend\":true,\"x\":[\"RF\",\"RF\",\"RF\",\"RF\",\"RF\",\"RF\",\"RF\",\"RF\",\"RF\",\"RF\"],\"x0\":\" \",\"xaxis\":\"x\",\"y\":[0.5278134518776496,0.5240219439259232,0.5280772187378432,0.5235097634157555,0.526481888527823,0.5287869842836027,0.5303750224496052,0.5264340593437248,0.5280046741238023,0.5326669351627846],\"y0\":\" \",\"yaxis\":\"y\",\"type\":\"box\"},{\"alignmentgroup\":\"True\",\"boxpoints\":\"all\",\"hovertemplate\":\"Machine Learning Model=%{x}<br>Weighted f1-Score=%{y}<extra></extra>\",\"legendgroup\":\"AdaBoost\",\"marker\":{\"color\":\"#FFA15A\"},\"name\":\"AdaBoost\",\"notched\":false,\"offsetgroup\":\"AdaBoost\",\"orientation\":\"v\",\"showlegend\":true,\"x\":[\"AdaBoost\",\"AdaBoost\",\"AdaBoost\",\"AdaBoost\",\"AdaBoost\",\"AdaBoost\",\"AdaBoost\",\"AdaBoost\",\"AdaBoost\",\"AdaBoost\"],\"x0\":\" \",\"xaxis\":\"x\",\"y\":[0.5481068169657054,0.5457190392447224,0.5459703397540799,0.5413899875714211,0.5430214423881895,0.5400241617042195,0.5421946797712927,0.5552080140264257,0.540077433147427,0.548102398843852],\"y0\":\" \",\"yaxis\":\"y\",\"type\":\"box\"},{\"alignmentgroup\":\"True\",\"boxpoints\":\"all\",\"hovertemplate\":\"Machine Learning Model=%{x}<br>Weighted f1-Score=%{y}<extra></extra>\",\"legendgroup\":\"Bagging\",\"marker\":{\"color\":\"#19d3f3\"},\"name\":\"Bagging\",\"notched\":false,\"offsetgroup\":\"Bagging\",\"orientation\":\"v\",\"showlegend\":true,\"x\":[\"Bagging\",\"Bagging\",\"Bagging\",\"Bagging\",\"Bagging\",\"Bagging\",\"Bagging\",\"Bagging\",\"Bagging\",\"Bagging\"],\"x0\":\" \",\"xaxis\":\"x\",\"y\":[0.5340461828217409,0.5283280264273261,0.5345599688860541,0.5292981693515432,0.5310945203005827,0.5343815210393914,0.532379275194792,0.5332682748134006,0.5337666226467009,0.5348626190086311],\"y0\":\" \",\"yaxis\":\"y\",\"type\":\"box\"},{\"alignmentgroup\":\"True\",\"boxpoints\":\"all\",\"hovertemplate\":\"Machine Learning Model=%{x}<br>Weighted f1-Score=%{y}<extra></extra>\",\"legendgroup\":\"GBM\",\"marker\":{\"color\":\"#FF6692\"},\"name\":\"GBM\",\"notched\":false,\"offsetgroup\":\"GBM\",\"orientation\":\"v\",\"showlegend\":true,\"x\":[\"GBM\",\"GBM\",\"GBM\",\"GBM\",\"GBM\",\"GBM\",\"GBM\",\"GBM\",\"GBM\",\"GBM\"],\"x0\":\" \",\"xaxis\":\"x\",\"y\":[0.5451857338744811,0.5481054122322698,0.5474699384034903,0.5413191647969496,0.542751005100391,0.5416005218415182,0.5446832634024635,0.5438576786602591,0.5464732233809481,0.5470786274651642],\"y0\":\" \",\"yaxis\":\"y\",\"type\":\"box\"},{\"alignmentgroup\":\"True\",\"boxpoints\":\"all\",\"hovertemplate\":\"Machine Learning Model=%{x}<br>Weighted f1-Score=%{y}<extra></extra>\",\"legendgroup\":\"XGB\",\"marker\":{\"color\":\"#B6E880\"},\"name\":\"XGB\",\"notched\":false,\"offsetgroup\":\"XGB\",\"orientation\":\"v\",\"showlegend\":true,\"x\":[\"XGB\",\"XGB\",\"XGB\",\"XGB\",\"XGB\",\"XGB\",\"XGB\",\"XGB\",\"XGB\",\"XGB\"],\"x0\":\" \",\"xaxis\":\"x\",\"y\":[0.5529375620798355,0.555619158490195,0.556785909186755,0.548677136354181,0.5508845441493477,0.5513959466851337,0.5520008378066783,0.5516000609909352,0.5538252718608446,0.5570678683695651],\"y0\":\" \",\"yaxis\":\"y\",\"type\":\"box\"},{\"alignmentgroup\":\"True\",\"boxpoints\":\"all\",\"hovertemplate\":\"Machine Learning Model=%{x}<br>Weighted f1-Score=%{y}<extra></extra>\",\"legendgroup\":\"CatBoost\",\"marker\":{\"color\":\"#FF97FF\"},\"name\":\"CatBoost\",\"notched\":false,\"offsetgroup\":\"CatBoost\",\"orientation\":\"v\",\"showlegend\":true,\"x\":[\"CatBoost\",\"CatBoost\",\"CatBoost\",\"CatBoost\",\"CatBoost\",\"CatBoost\",\"CatBoost\",\"CatBoost\",\"CatBoost\",\"CatBoost\"],\"x0\":\" \",\"xaxis\":\"x\",\"y\":[0.5577635354636955,0.5577262536621505,0.555347590739337,0.5529293754142719,0.5526923021270655,0.5558712496332088,0.5538723821292479,0.5545615314741104,0.556522456969849,0.5589616068335584],\"y0\":\" \",\"yaxis\":\"y\",\"type\":\"box\"}],                        {\"template\":{\"data\":{\"histogram2dcontour\":[{\"type\":\"histogram2dcontour\",\"colorbar\":{\"outlinewidth\":0,\"ticks\":\"\"},\"colorscale\":[[0.0,\"#0d0887\"],[0.1111111111111111,\"#46039f\"],[0.2222222222222222,\"#7201a8\"],[0.3333333333333333,\"#9c179e\"],[0.4444444444444444,\"#bd3786\"],[0.5555555555555556,\"#d8576b\"],[0.6666666666666666,\"#ed7953\"],[0.7777777777777778,\"#fb9f3a\"],[0.8888888888888888,\"#fdca26\"],[1.0,\"#f0f921\"]]}],\"choropleth\":[{\"type\":\"choropleth\",\"colorbar\":{\"outlinewidth\":0,\"ticks\":\"\"}}],\"histogram2d\":[{\"type\":\"histogram2d\",\"colorbar\":{\"outlinewidth\":0,\"ticks\":\"\"},\"colorscale\":[[0.0,\"#0d0887\"],[0.1111111111111111,\"#46039f\"],[0.2222222222222222,\"#7201a8\"],[0.3333333333333333,\"#9c179e\"],[0.4444444444444444,\"#bd3786\"],[0.5555555555555556,\"#d8576b\"],[0.6666666666666666,\"#ed7953\"],[0.7777777777777778,\"#fb9f3a\"],[0.8888888888888888,\"#fdca26\"],[1.0,\"#f0f921\"]]}],\"heatmap\":[{\"type\":\"heatmap\",\"colorbar\":{\"outlinewidth\":0,\"ticks\":\"\"},\"colorscale\":[[0.0,\"#0d0887\"],[0.1111111111111111,\"#46039f\"],[0.2222222222222222,\"#7201a8\"],[0.3333333333333333,\"#9c179e\"],[0.4444444444444444,\"#bd3786\"],[0.5555555555555556,\"#d8576b\"],[0.6666666666666666,\"#ed7953\"],[0.7777777777777778,\"#fb9f3a\"],[0.8888888888888888,\"#fdca26\"],[1.0,\"#f0f921\"]]}],\"heatmapgl\":[{\"type\":\"heatmapgl\",\"colorbar\":{\"outlinewidth\":0,\"ticks\":\"\"},\"colorscale\":[[0.0,\"#0d0887\"],[0.1111111111111111,\"#46039f\"],[0.2222222222222222,\"#7201a8\"],[0.3333333333333333,\"#9c179e\"],[0.4444444444444444,\"#bd3786\"],[0.5555555555555556,\"#d8576b\"],[0.6666666666666666,\"#ed7953\"],[0.7777777777777778,\"#fb9f3a\"],[0.8888888888888888,\"#fdca26\"],[1.0,\"#f0f921\"]]}],\"contourcarpet\":[{\"type\":\"contourcarpet\",\"colorbar\":{\"outlinewidth\":0,\"ticks\":\"\"}}],\"contour\":[{\"type\":\"contour\",\"colorbar\":{\"outlinewidth\":0,\"ticks\":\"\"},\"colorscale\":[[0.0,\"#0d0887\"],[0.1111111111111111,\"#46039f\"],[0.2222222222222222,\"#7201a8\"],[0.3333333333333333,\"#9c179e\"],[0.4444444444444444,\"#bd3786\"],[0.5555555555555556,\"#d8576b\"],[0.6666666666666666,\"#ed7953\"],[0.7777777777777778,\"#fb9f3a\"],[0.8888888888888888,\"#fdca26\"],[1.0,\"#f0f921\"]]}],\"surface\":[{\"type\":\"surface\",\"colorbar\":{\"outlinewidth\":0,\"ticks\":\"\"},\"colorscale\":[[0.0,\"#0d0887\"],[0.1111111111111111,\"#46039f\"],[0.2222222222222222,\"#7201a8\"],[0.3333333333333333,\"#9c179e\"],[0.4444444444444444,\"#bd3786\"],[0.5555555555555556,\"#d8576b\"],[0.6666666666666666,\"#ed7953\"],[0.7777777777777778,\"#fb9f3a\"],[0.8888888888888888,\"#fdca26\"],[1.0,\"#f0f921\"]]}],\"mesh3d\":[{\"type\":\"mesh3d\",\"colorbar\":{\"outlinewidth\":0,\"ticks\":\"\"}}],\"scatter\":[{\"fillpattern\":{\"fillmode\":\"overlay\",\"size\":10,\"solidity\":0.2},\"type\":\"scatter\"}],\"parcoords\":[{\"type\":\"parcoords\",\"line\":{\"colorbar\":{\"outlinewidth\":0,\"ticks\":\"\"}}}],\"scatterpolargl\":[{\"type\":\"scatterpolargl\",\"marker\":{\"colorbar\":{\"outlinewidth\":0,\"ticks\":\"\"}}}],\"bar\":[{\"error_x\":{\"color\":\"#2a3f5f\"},\"error_y\":{\"color\":\"#2a3f5f\"},\"marker\":{\"line\":{\"color\":\"#E5ECF6\",\"width\":0.5},\"pattern\":{\"fillmode\":\"overlay\",\"size\":10,\"solidity\":0.2}},\"type\":\"bar\"}],\"scattergeo\":[{\"type\":\"scattergeo\",\"marker\":{\"colorbar\":{\"outlinewidth\":0,\"ticks\":\"\"}}}],\"scatterpolar\":[{\"type\":\"scatterpolar\",\"marker\":{\"colorbar\":{\"outlinewidth\":0,\"ticks\":\"\"}}}],\"histogram\":[{\"marker\":{\"pattern\":{\"fillmode\":\"overlay\",\"size\":10,\"solidity\":0.2}},\"type\":\"histogram\"}],\"scattergl\":[{\"type\":\"scattergl\",\"marker\":{\"colorbar\":{\"outlinewidth\":0,\"ticks\":\"\"}}}],\"scatter3d\":[{\"type\":\"scatter3d\",\"line\":{\"colorbar\":{\"outlinewidth\":0,\"ticks\":\"\"}},\"marker\":{\"colorbar\":{\"outlinewidth\":0,\"ticks\":\"\"}}}],\"scattermapbox\":[{\"type\":\"scattermapbox\",\"marker\":{\"colorbar\":{\"outlinewidth\":0,\"ticks\":\"\"}}}],\"scatterternary\":[{\"type\":\"scatterternary\",\"marker\":{\"colorbar\":{\"outlinewidth\":0,\"ticks\":\"\"}}}],\"scattercarpet\":[{\"type\":\"scattercarpet\",\"marker\":{\"colorbar\":{\"outlinewidth\":0,\"ticks\":\"\"}}}],\"carpet\":[{\"aaxis\":{\"endlinecolor\":\"#2a3f5f\",\"gridcolor\":\"white\",\"linecolor\":\"white\",\"minorgridcolor\":\"white\",\"startlinecolor\":\"#2a3f5f\"},\"baxis\":{\"endlinecolor\":\"#2a3f5f\",\"gridcolor\":\"white\",\"linecolor\":\"white\",\"minorgridcolor\":\"white\",\"startlinecolor\":\"#2a3f5f\"},\"type\":\"carpet\"}],\"table\":[{\"cells\":{\"fill\":{\"color\":\"#EBF0F8\"},\"line\":{\"color\":\"white\"}},\"header\":{\"fill\":{\"color\":\"#C8D4E3\"},\"line\":{\"color\":\"white\"}},\"type\":\"table\"}],\"barpolar\":[{\"marker\":{\"line\":{\"color\":\"#E5ECF6\",\"width\":0.5},\"pattern\":{\"fillmode\":\"overlay\",\"size\":10,\"solidity\":0.2}},\"type\":\"barpolar\"}],\"pie\":[{\"automargin\":true,\"type\":\"pie\"}]},\"layout\":{\"autotypenumbers\":\"strict\",\"colorway\":[\"#636efa\",\"#EF553B\",\"#00cc96\",\"#ab63fa\",\"#FFA15A\",\"#19d3f3\",\"#FF6692\",\"#B6E880\",\"#FF97FF\",\"#FECB52\"],\"font\":{\"color\":\"#2a3f5f\"},\"hovermode\":\"closest\",\"hoverlabel\":{\"align\":\"left\"},\"paper_bgcolor\":\"white\",\"plot_bgcolor\":\"#E5ECF6\",\"polar\":{\"bgcolor\":\"#E5ECF6\",\"angularaxis\":{\"gridcolor\":\"white\",\"linecolor\":\"white\",\"ticks\":\"\"},\"radialaxis\":{\"gridcolor\":\"white\",\"linecolor\":\"white\",\"ticks\":\"\"}},\"ternary\":{\"bgcolor\":\"#E5ECF6\",\"aaxis\":{\"gridcolor\":\"white\",\"linecolor\":\"white\",\"ticks\":\"\"},\"baxis\":{\"gridcolor\":\"white\",\"linecolor\":\"white\",\"ticks\":\"\"},\"caxis\":{\"gridcolor\":\"white\",\"linecolor\":\"white\",\"ticks\":\"\"}},\"coloraxis\":{\"colorbar\":{\"outlinewidth\":0,\"ticks\":\"\"}},\"colorscale\":{\"sequential\":[[0.0,\"#0d0887\"],[0.1111111111111111,\"#46039f\"],[0.2222222222222222,\"#7201a8\"],[0.3333333333333333,\"#9c179e\"],[0.4444444444444444,\"#bd3786\"],[0.5555555555555556,\"#d8576b\"],[0.6666666666666666,\"#ed7953\"],[0.7777777777777778,\"#fb9f3a\"],[0.8888888888888888,\"#fdca26\"],[1.0,\"#f0f921\"]],\"sequentialminus\":[[0.0,\"#0d0887\"],[0.1111111111111111,\"#46039f\"],[0.2222222222222222,\"#7201a8\"],[0.3333333333333333,\"#9c179e\"],[0.4444444444444444,\"#bd3786\"],[0.5555555555555556,\"#d8576b\"],[0.6666666666666666,\"#ed7953\"],[0.7777777777777778,\"#fb9f3a\"],[0.8888888888888888,\"#fdca26\"],[1.0,\"#f0f921\"]],\"diverging\":[[0,\"#8e0152\"],[0.1,\"#c51b7d\"],[0.2,\"#de77ae\"],[0.3,\"#f1b6da\"],[0.4,\"#fde0ef\"],[0.5,\"#f7f7f7\"],[0.6,\"#e6f5d0\"],[0.7,\"#b8e186\"],[0.8,\"#7fbc41\"],[0.9,\"#4d9221\"],[1,\"#276419\"]]},\"xaxis\":{\"gridcolor\":\"white\",\"linecolor\":\"white\",\"ticks\":\"\",\"title\":{\"standoff\":15},\"zerolinecolor\":\"white\",\"automargin\":true,\"zerolinewidth\":2},\"yaxis\":{\"gridcolor\":\"white\",\"linecolor\":\"white\",\"ticks\":\"\",\"title\":{\"standoff\":15},\"zerolinecolor\":\"white\",\"automargin\":true,\"zerolinewidth\":2},\"scene\":{\"xaxis\":{\"backgroundcolor\":\"#E5ECF6\",\"gridcolor\":\"white\",\"linecolor\":\"white\",\"showbackground\":true,\"ticks\":\"\",\"zerolinecolor\":\"white\",\"gridwidth\":2},\"yaxis\":{\"backgroundcolor\":\"#E5ECF6\",\"gridcolor\":\"white\",\"linecolor\":\"white\",\"showbackground\":true,\"ticks\":\"\",\"zerolinecolor\":\"white\",\"gridwidth\":2},\"zaxis\":{\"backgroundcolor\":\"#E5ECF6\",\"gridcolor\":\"white\",\"linecolor\":\"white\",\"showbackground\":true,\"ticks\":\"\",\"zerolinecolor\":\"white\",\"gridwidth\":2}},\"shapedefaults\":{\"line\":{\"color\":\"#2a3f5f\"}},\"annotationdefaults\":{\"arrowcolor\":\"#2a3f5f\",\"arrowhead\":0,\"arrowwidth\":1},\"geo\":{\"bgcolor\":\"white\",\"landcolor\":\"#E5ECF6\",\"subunitcolor\":\"white\",\"showland\":true,\"showlakes\":true,\"lakecolor\":\"white\"},\"title\":{\"x\":0.05},\"mapbox\":{\"style\":\"light\"}}},\"xaxis\":{\"anchor\":\"y\",\"domain\":[0.0,1.0],\"title\":{\"text\":\"Machine Learning Model\"},\"categoryorder\":\"array\",\"categoryarray\":[\"LR\",\"Tree\",\"GNB\",\"RF\",\"AdaBoost\",\"Bagging\",\"GBM\",\"XGB\",\"CatBoost\"]},\"yaxis\":{\"anchor\":\"x\",\"domain\":[0.0,1.0],\"title\":{\"text\":\"Weighted f1-Score\"}},\"legend\":{\"title\":{\"text\":\"Machine Learning Model\"},\"tracegroupgap\":0},\"title\":{\"text\":\"Model Weighted f1-Score Performance\"},\"boxmode\":\"overlay\"},                        {\"responsive\": true}                    ).then(function(){\n",
       "                            \n",
       "var gd = document.getElementById('0666bb50-7349-4879-89dd-ba8717382bc3');\n",
       "var x = new MutationObserver(function (mutations, observer) {{\n",
       "        var display = window.getComputedStyle(gd).display;\n",
       "        if (!display || display === 'none') {{\n",
       "            console.log([gd, 'removed!']);\n",
       "            Plotly.purge(gd);\n",
       "            observer.disconnect();\n",
       "        }}\n",
       "}});\n",
       "\n",
       "// Listen for the removal of the full notebook cells\n",
       "var notebookContainer = gd.closest('#notebook-container');\n",
       "if (notebookContainer) {{\n",
       "    x.observe(notebookContainer, {childList: true});\n",
       "}}\n",
       "\n",
       "// Listen for the clearing of the current output cell\n",
       "var outputEl = gd.closest('.output');\n",
       "if (outputEl) {{\n",
       "    x.observe(outputEl, {childList: true});\n",
       "}}\n",
       "\n",
       "                        })                };                });            </script>        </div>"
      ]
     },
     "metadata": {},
     "output_type": "display_data"
    }
   ],
   "source": [
    "results[\"Model\"] = names\n",
    "results[\"Accuracy\"] = accuracies\n",
    "results[\"Weighted F1\"] = weighted_f1s\n",
    "\n",
    "classifmod = pd.DataFrame(results)\n",
    "\n",
    "fig = px.box(\n",
    "    classifmod,\n",
    "    x=\"Model\",\n",
    "    y=\"Weighted_F1\",\n",
    "    color=\"Model\",\n",
    "    points=\"all\",\n",
    "    labels={\"Model\": \"Machine Learning Model\", \"Weighted_F1\": \"Weighted f1-Score\"},\n",
    "    title=\"Model Weighted f1-Score Performance\",\n",
    ")\n",
    "fig.show()\n",
    "fig.write_html(\"products/plots/model_train_weighted_f1.html\")"
   ]
  },
  {
   "cell_type": "markdown",
   "metadata": {},
   "source": [
    "## Testing Performance Confusion Matrices"
   ]
  },
  {
   "cell_type": "code",
   "execution_count": 225,
   "metadata": {},
   "outputs": [
    {
     "data": {
      "image/png": "[encoded data removed]",
      "text/plain": [
       "<Figure size 500x500 with 1 Axes>"
      ]
     },
     "metadata": {},
     "output_type": "display_data"
    },
    {
     "data": {
      "image/png": "[encoded data removed]",
      "text/plain": [
       "<Figure size 500x500 with 1 Axes>"
      ]
     },
     "metadata": {},
     "output_type": "display_data"
    },
    {
     "data": {
      "image/png": "[encoded data removed]",
      "text/plain": [
       "<Figure size 500x500 with 1 Axes>"
      ]
     },
     "metadata": {},
     "output_type": "display_data"
    },
    {
     "data": {
      "image/png": "[encoded data removed]",
      "text/plain": [
       "<Figure size 500x500 with 1 Axes>"
      ]
     },
     "metadata": {},
     "output_type": "display_data"
    },
    {
     "data": {
      "image/png": "[encoded data removed]",
      "text/plain": [
       "<Figure size 500x500 with 1 Axes>"
      ]
     },
     "metadata": {},
     "output_type": "display_data"
    },
    {
     "data": {
      "image/png": "[encoded data removed]",
      "text/plain": [
       "<Figure size 500x500 with 1 Axes>"
      ]
     },
     "metadata": {},
     "output_type": "display_data"
    },
    {
     "data": {
      "image/png": "[encoded data removed]",
      "text/plain": [
       "<Figure size 500x500 with 1 Axes>"
      ]
     },
     "metadata": {},
     "output_type": "display_data"
    },
    {
     "data": {
      "image/png": "[encoded data removed]",
      "text/plain": [
       "<Figure size 500x500 with 1 Axes>"
      ]
     },
     "metadata": {},
     "output_type": "display_data"
    },
    {
     "data": {
      "image/png": "[encoded data removed]",
      "text/plain": [
       "<Figure size 500x500 with 1 Axes>"
      ]
     },
     "metadata": {},
     "output_type": "display_data"
    }
   ],
   "source": [
    "# Plot confusion matrices\n",
    "for name, matrix in confusion_matrices.items():\n",
    "    plt.figure(figsize=(5, 5))\n",
    "    sns.heatmap(\n",
    "        matrix,\n",
    "        annot=True,\n",
    "        fmt=\"d\",\n",
    "        cmap=\"YlGnBu\",\n",
    "        cbar=False,\n",
    "        xticklabels=[\"Extras\", \"Dot\", \"Runs\", \"Wicket\"],\n",
    "        yticklabels=[\"Extras\", \"Dot\", \"Runs\", \"Wicket\"],\n",
    "    )\n",
    "    plt.xlabel(\"Predicted\")\n",
    "    plt.ylabel(\"Actual\")\n",
    "    plt.title(f\"Confusion Matrix - {name}\")\n",
    "    plt.savefig(f\"products/plots/confusion_matrix_{name}.png\")\n",
    "    plt.show()"
   ]
  },
  {
   "cell_type": "markdown",
   "metadata": {},
   "source": [
    "In our multi-class classification project of predicting ball outcomes in cricket, we evaluated several algorithms, including boosting  (Adaboost, XGBoost, Gradient Boosting, and CatBoost), Gaussian Naive Bayes, Logistic Regression, and Decision Trees. Each of these algorithms exhibit unique strengths and weaknesses, and the choice between them involves striking a balance between different aspects of performance that are discussed below.\n",
    "\n",
    "**Accuracy vs. Precision and Recall**:\n",
    "\n",
    "Accuracy, while an essential metric, might not be the sole measure of a model's effectiveness, especially in this imbalanced dataset, where two classes, Extras and Runs, significantly outnumber the others, Dots and Wickets. As can be seen from the confusion matrices above, majority classes dominate the accuracy metric, leading to a misrespresentative view of holistic model performance. In cricket, especially in the scenario of betting, correctly predicting the minority class, Wickets, is of paramount importance.\n",
    "\n",
    "Precision and recall are crucial metrics in such cases. Precision measures the accuracy of positive predictions, while recall gauges the model's ability to find all the relevant cases in a dataset. From the confusion matrices, we observed that Naive Bayes and Decision Tree (DTree) models exhibited better precision and recall for minority classes. This means that when these models predict a wicket or a boundary ball, they are more likely to be correct. In a business or real-world setting, this could translate to better decision-making and assist organizations that are trying to track illegal betting activity.\n",
    "\n",
    "**Assessing Trade-Offs and Choosing the Right Model**:\n",
    "\n",
    "Machine learning models often involve trade-offs. Boosting algorithms, while achieving high overall accuracy and weighted F1 scores, might sometimes sacrifice precision and recall for minority classes in favor of generalizing patterns across the majority class. On the other hand, Naive Bayes and Decision Tree models, being less complex, can capture intricate details in minority classes but might not generalize as well on the majority class.\n",
    "\n",
    "Therefore, choosing the right model depends on the specific objectives of our prediction task and, eventually, the user who will be utilizing our deployed application. If the focus is on correctly identifying wickets and boundary balls, we might prioritize models like Naive Bayes or Decision Trees. However, if a more balanced performance across all classes is desired, as showcased by Weighted F1-Score, the boosting algorithms could be a better choice.\n",
    "\n",
    "**Next Steps**:\n",
    "\n",
    "Next, we shall implement a simple `LGBMClassifier` to see if we can improve the performance of our models. We shall also try tuning the parameters of selected boosting models using `RandomizedSearchCV` to obtain better generalization performance on the minority classes. Fianlly, we will build a stacked classifier with Naive Bayes and Decision Tree as the base estimators and CatBoost as the meta-estimator. We shall then compare the performance of these models with the ones we have already built."
   ]
  },
  {
   "cell_type": "markdown",
   "metadata": {},
   "source": [
    "## LightGBM Experiment "
   ]
  },
  {
   "cell_type": "code",
   "execution_count": 176,
   "metadata": {},
   "outputs": [
    {
     "name": "stdout",
     "output_type": "stream",
     "text": [
      "[LightGBM] [Info] Auto-choosing row-wise multi-threading, the overhead of testing was 0.001597 seconds.\n",
      "You can set `force_row_wise=true` to remove the overhead.\n",
      "And if memory is not enough, you can set `force_col_wise=true`.\n",
      "[LightGBM] [Info] Total Bins 489\n",
      "[LightGBM] [Info] Number of data points in the train set: 117757, number of used features: 54\n",
      "[LightGBM] [Info] Start training from score -1.196053\n",
      "[LightGBM] [Info] Start training from score -2.908271\n",
      "[LightGBM] [Info] Start training from score -0.521043\n",
      "[LightGBM] [Info] Start training from score -3.013009\n",
      "Accuracy Score:  0.6345127773097444\n",
      "Weighted F1 Score:  0.5581512338764404\n",
      "Classification Report: \n",
      "               precision    recall  f1-score   support\n",
      "\n",
      "           0       0.58      0.21      0.31      4260\n",
      "           1       0.00      0.00      0.00       654\n",
      "           2       0.64      0.94      0.76      8661\n",
      "           3       0.73      0.04      0.08       669\n",
      "\n",
      "    accuracy                           0.63     14244\n",
      "   macro avg       0.49      0.30      0.29     14244\n",
      "weighted avg       0.60      0.63      0.56     14244\n",
      "\n",
      "Confusion Matrix: \n",
      " [[ 886    0 3369    5]\n",
      " [  44    0  610    0]\n",
      " [ 531    0 8125    5]\n",
      " [  64    0  578   27]]\n"
     ]
    },
    {
     "name": "stderr",
     "output_type": "stream",
     "text": [
      "c:\\Program Files\\Python310\\lib\\site-packages\\sklearn\\metrics\\_classification.py:1469: UndefinedMetricWarning:\n",
      "\n",
      "Precision and F-score are ill-defined and being set to 0.0 in labels with no predicted samples. Use `zero_division` parameter to control this behavior.\n",
      "\n",
      "c:\\Program Files\\Python310\\lib\\site-packages\\sklearn\\metrics\\_classification.py:1469: UndefinedMetricWarning:\n",
      "\n",
      "Precision and F-score are ill-defined and being set to 0.0 in labels with no predicted samples. Use `zero_division` parameter to control this behavior.\n",
      "\n",
      "c:\\Program Files\\Python310\\lib\\site-packages\\sklearn\\metrics\\_classification.py:1469: UndefinedMetricWarning:\n",
      "\n",
      "Precision and F-score are ill-defined and being set to 0.0 in labels with no predicted samples. Use `zero_division` parameter to control this behavior.\n",
      "\n"
     ]
    }
   ],
   "source": [
    "from sklearn.metrics import accuracy_score, f1_score\n",
    "from lightgbm import LGBMClassifier\n",
    "\n",
    "LGBM = LGBMClassifier()\n",
    "\n",
    "LGBM.fit(X_train, y_train)\n",
    "\n",
    "y_pred = LGBM.predict(X_test)\n",
    "\n",
    "print(\"Accuracy Score: \", accuracy_score(y_test, y_pred))\n",
    "\n",
    "print(\"Weighted F1 Score: \", f1_score(y_test, y_pred, average=\"weighted\"))\n",
    "\n",
    "print(\"Classification Report: \\n\", classification_report(y_test, y_pred))\n",
    "\n",
    "print(\"Confusion Matrix: \\n\", confusion_matrix(y_test, y_pred))"
   ]
  },
  {
   "cell_type": "markdown",
   "metadata": {},
   "source": [
    "# Hyperparameter Tuning With `RandomizedSearchCV`\n",
    "\n",
    "## XGBoost"
   ]
  },
  {
   "cell_type": "code",
   "execution_count": 118,
   "metadata": {},
   "outputs": [
    {
     "name": "stderr",
     "output_type": "stream",
     "text": [
      "/Users/Tegveer/miniforge3/envs/ANLY501/lib/python3.9/site-packages/joblib/externals/loky/process_executor.py:752: UserWarning:\n",
      "\n",
      "A worker stopped while some jobs were given to the executor. This can be caused by a too short worker timeout or by a memory leak.\n",
      "\n"
     ]
    },
    {
     "name": "stdout",
     "output_type": "stream",
     "text": [
      "The best parameters after tuning are:  {'learning_rate': 1, 'gamma': 2, 'booster': 'dart'}\n",
      "The best model after tuning looks like:  XGBClassifier(base_score=None, booster='dart', callbacks=None,\n",
      "              colsample_bylevel=None, colsample_bynode=None,\n",
      "              colsample_bytree=None, device=None, early_stopping_rounds=None,\n",
      "              enable_categorical=False, eval_metric=None, feature_types=None,\n",
      "              gamma=2, grow_policy=None, importance_type=None,\n",
      "              interaction_constraints=None, learning_rate=1, max_bin=None,\n",
      "              max_cat_threshold=None, max_cat_to_onehot=None,\n",
      "              max_delta_step=None, max_depth=None, max_leaves=None,\n",
      "              min_child_weight=None, missing=nan, monotone_constraints=None,\n",
      "              multi_strategy=None, n_estimators=None, n_jobs=None,\n",
      "              num_parallel_tree=None, objective='multi:softprob', ...)\n",
      "Grid-Search Tuned XGBoost Test Set Accuracy: 55.88 %\n"
     ]
    }
   ],
   "source": [
    "# defining parameter range\n",
    "param_search = {\n",
    "    #'max_depth': [2, 5, 10, 20],\n",
    "    #'max_leaves': [0, 1, 3, 5],\n",
    "    \"learning_rate\": [1, 0.1, 0.01],\n",
    "    #'n_estimators': [50, 100],\n",
    "    \"booster\": [\"gbtree\", \"gblinear\", \"dart\"],\n",
    "    \"gamma\": [0, 0.5, 2, 5],\n",
    "    #'min_child_weight': [0, 1, 3, 5],\n",
    "}\n",
    "\n",
    "search = RandomizedSearchCV(\n",
    "    XGBClassifier(verbosity=0),\n",
    "    param_search,\n",
    "    refit=True,\n",
    "    verbose=0,\n",
    "    n_iter=25,\n",
    "    scoring=\"f1_weighted\",\n",
    "    cv=5,\n",
    "    n_jobs=-1,\n",
    ")\n",
    "\n",
    "search.fit(X_train, y_train)\n",
    "\n",
    "# print best parameter after tuning\n",
    "print(\"The best parameters after tuning are: \", search.best_params_)\n",
    "\n",
    "# print how our model looks after hyper-parameter tuning\n",
    "print(\"The best model after tuning looks like: \", search.best_estimator_)\n",
    "\n",
    "# Save to file in the current working directory\n",
    "pkl_filename = \"products/pickle_files/XGB_Rand_Tuned.pkl\"\n",
    "with open(pkl_filename, \"wb\") as file:\n",
    "    pickle.dump(search, file)\n",
    "\n",
    "# Load from file\n",
    "with open(pkl_filename, \"rb\") as file:\n",
    "    pickle_model = pickle.load(file)\n",
    "    score = pickle_model.score(X_test, y_test)\n",
    "    print(\"Grid-Search Tuned XGBoost Test Set Accuracy: {0:.2f} %\".format(100 * score))\n",
    "    search_predictions = pickle_model.predict(X_test)"
   ]
  },
  {
   "cell_type": "code",
   "execution_count": 121,
   "metadata": {},
   "outputs": [
    {
     "data": {
      "image/png": "[encoded data removed]",
      "text/plain": [
       "<Figure size 640x480 with 2 Axes>"
      ]
     },
     "metadata": {},
     "output_type": "display_data"
    }
   ],
   "source": [
    "conf_matrix = confusion_matrix(y_test, search_predictions)\n",
    "disp = ConfusionMatrixDisplay(\n",
    "    confusion_matrix=conf_matrix,\n",
    "    display_labels=[\"Extras\", \"Dot\", \"Runs\", \"Wicket\"],\n",
    ")\n",
    "\n",
    "# save the plot\n",
    "\n",
    "disp.plot(cmap=\"YlGnBu\", values_format=\"d\", ax=None)\n",
    "plt.title(\n",
    "    \"Test Set Confusion Matrix for Random-Search Tuned XGBoost\",\n",
    "    fontsize=15,\n",
    "    color=\"#336699\",\n",
    "    loc=\"center\",\n",
    ")\n",
    "plt.savefig(\"products/plots/confusion_matrix_XGB_Rand_Tuned.png\")"
   ]
  },
  {
   "cell_type": "markdown",
   "metadata": {},
   "source": [
    "## AdaBoost"
   ]
  },
  {
   "cell_type": "code",
   "execution_count": 128,
   "metadata": {},
   "outputs": [
    {
     "name": "stderr",
     "output_type": "stream",
     "text": [
      "/Users/Tegveer/miniforge3/envs/ANLY501/lib/python3.9/site-packages/sklearn/model_selection/_search.py:307: UserWarning:\n",
      "\n",
      "The total space of parameters 1 is smaller than n_iter=25. Running 1 iterations. For exhaustive searches, use GridSearchCV.\n",
      "\n"
     ]
    },
    {
     "name": "stdout",
     "output_type": "stream",
     "text": [
      "The best parameters after tuning are:  {'n_estimators': 500, 'learning_rate': 1}\n",
      "The best model after tuning looks like:  AdaBoostClassifier(learning_rate=1, n_estimators=500)\n",
      "Grid-Search Tuned XGBoost Test Set Accuracy: 55.67 %\n"
     ]
    }
   ],
   "source": [
    "# defining parameter range\n",
    "param_search = {\n",
    "    \"learning_rate\": [1, 0.1, 0.01],\n",
    "    \"n_estimators\": [50, 100, 200],\n",
    "    \"estimator\": [DecisionTreeClassifier(), Sup],\n",
    "}\n",
    "\n",
    "search = RandomizedSearchCV(\n",
    "    AdaBoostClassifier(),\n",
    "    param_search,\n",
    "    refit=True,\n",
    "    verbose=0,\n",
    "    n_iter=25,\n",
    "    scoring=\"f1_weighted\",\n",
    "    cv=5,\n",
    "    n_jobs=-1,\n",
    ")\n",
    "\n",
    "search.fit(X_train, y_train)\n",
    "\n",
    "# print best parameter after tuning\n",
    "print(\"The best parameters after tuning are: \", search.best_params_)\n",
    "\n",
    "# print how our model looks after hyper-parameter tuning\n",
    "print(\"The best model after tuning looks like: \", search.best_estimator_)\n",
    "\n",
    "# Save to file in the current working directory\n",
    "pkl_filename = \"products/pickle_files/Ada_Rand_Tuned.pkl\"\n",
    "with open(pkl_filename, \"wb\") as file:\n",
    "    pickle.dump(search, file)\n",
    "\n",
    "# Load from file\n",
    "with open(pkl_filename, \"rb\") as file:\n",
    "    pickle_model = pickle.load(file)\n",
    "    score = pickle_model.score(X_test, y_test)\n",
    "    print(\"Grid-Search Tuned XGBoost Test Set Accuracy: {0:.2f} %\".format(100 * score))\n",
    "    search_predictions = pickle_model.predict(X_test)"
   ]
  },
  {
   "cell_type": "code",
   "execution_count": 140,
   "metadata": {},
   "outputs": [
    {
     "data": {
      "image/png": "[encoded data removed]",
      "text/plain": [
       "<Figure size 640x480 with 2 Axes>"
      ]
     },
     "metadata": {},
     "output_type": "display_data"
    }
   ],
   "source": [
    "conf_matrix = confusion_matrix(y_test, search_predictions)\n",
    "disp = ConfusionMatrixDisplay(\n",
    "    confusion_matrix=conf_matrix,\n",
    "    display_labels=[\"Extras\", \"Dot\", \"Runs\", \"Wicket\"],\n",
    ")\n",
    "\n",
    "# save the plot\n",
    "\n",
    "disp.plot(cmap=\"YlGnBu\", values_format=\"d\", ax=None)\n",
    "plt.title(\n",
    "    \"Test Set Confusion Matrix for Random-Search Tuned AdaBoost\",\n",
    "    fontsize=15,\n",
    "    color=\"#336699\",\n",
    "    loc=\"center\",\n",
    ")\n",
    "plt.savefig(\"products/plots/confusion_matrix_Ada_Rand_Tuned.png\")"
   ]
  },
  {
   "cell_type": "code",
   "execution_count": null,
   "metadata": {},
   "outputs": [],
   "source": [
    "# remove all pickle files for smooth git push\n",
    "\n",
    "for name, model in models.items():\n",
    "    pkl_filename = f\"products/pickle_files/{name}.pkl\"\n",
    "    os.remove(pkl_filename)"
   ]
  },
  {
   "cell_type": "markdown",
   "metadata": {},
   "source": [
    "Hyperparameter tuning, unfortunately, resulted in worse performing models. The default parameters of the boosting algorithms seem to be the best fit for our data. Let's now build a `StackingClassifier` with Naive Bayes and Decision Tree as the base estimators and CatBoost as the meta-estimator."
   ]
  },
  {
   "cell_type": "markdown",
   "metadata": {},
   "source": [
    "# Creating The Stacked Classifier"
   ]
  },
  {
   "cell_type": "code",
   "execution_count": 153,
   "metadata": {},
   "outputs": [],
   "source": [
    "def get_stacking():\n",
    "    # define the base models\n",
    "    level0 = list()\n",
    "    level0.append((\"GNB\", GaussianNB()))\n",
    "    level0.append((\"Tree\", DecisionTreeClassifier()))\n",
    "    # define meta learner model\n",
    "\n",
    "    level1 = CatBoostClassifier(verbose=0)\n",
    "\n",
    "    # define the stacking ensemble\n",
    "    model = StackingClassifier(estimators=level0, final_estimator=level1, cv=10)\n",
    "\n",
    "    return model\n",
    "\n",
    "\n",
    "def base_models():\n",
    "    models = dict()\n",
    "    models[\"GNB\"] = GaussianNB()\n",
    "    models[\"Tree\"] = DecisionTreeClassifier()\n",
    "    models[\"XGB\"] = XGBClassifier(verbosity=0)\n",
    "    models[\"Stacked Model\"] = get_stacking()\n",
    "    return models\n",
    "\n",
    "\n",
    "# Function to evaluate the list of models\n",
    "def eval_models(model):\n",
    "    cv = RepeatedKFold(n_splits=5, n_repeats=2, random_state=1)\n",
    "    accuracy = cross_val_score(\n",
    "        model,\n",
    "        X_train,\n",
    "        y_train,\n",
    "        scoring=\"accuracy\",\n",
    "        cv=cv,\n",
    "        n_jobs=-1,\n",
    "        error_score=\"raise\",\n",
    "    )\n",
    "    weighted_f1 = cross_val_score(\n",
    "        model,\n",
    "        X_train,\n",
    "        y_train,\n",
    "        scoring=\"f1_weighted\",\n",
    "        cv=cv,\n",
    "        n_jobs=-1,\n",
    "        error_score=\"raise\",\n",
    "    )\n",
    "    return accuracy, weighted_f1"
   ]
  },
  {
   "cell_type": "code",
   "execution_count": 154,
   "metadata": {},
   "outputs": [
    {
     "name": "stdout",
     "output_type": "stream",
     "text": [
      ">GNB Accuracy: 0.483 Weighted F1: 0.493\n",
      ">Tree Accuracy: 0.491 Weighted F1: 0.494\n",
      ">XGB Accuracy: 0.622 Weighted F1: 0.553\n"
     ]
    },
    {
     "name": "stderr",
     "output_type": "stream",
     "text": [
      "/Users/Tegveer/miniforge3/envs/ANLY501/lib/python3.9/site-packages/sklearn/preprocessing/_label.py:153: DataConversionWarning: A column-vector y was passed when a 1d array was expected. Please change the shape of y to (n_samples, ), for example using ravel().\n",
      "  y = column_or_1d(y, warn=True)\n",
      "/Users/Tegveer/miniforge3/envs/ANLY501/lib/python3.9/site-packages/sklearn/preprocessing/_label.py:153: DataConversionWarning: A column-vector y was passed when a 1d array was expected. Please change the shape of y to (n_samples, ), for example using ravel().\n",
      "  y = column_or_1d(y, warn=True)\n",
      "/Users/Tegveer/miniforge3/envs/ANLY501/lib/python3.9/site-packages/sklearn/preprocessing/_label.py:153: DataConversionWarning: A column-vector y was passed when a 1d array was expected. Please change the shape of y to (n_samples, ), for example using ravel().\n",
      "  y = column_or_1d(y, warn=True)\n",
      "/Users/Tegveer/miniforge3/envs/ANLY501/lib/python3.9/site-packages/sklearn/preprocessing/_label.py:153: DataConversionWarning: A column-vector y was passed when a 1d array was expected. Please change the shape of y to (n_samples, ), for example using ravel().\n",
      "  y = column_or_1d(y, warn=True)\n",
      "/Users/Tegveer/miniforge3/envs/ANLY501/lib/python3.9/site-packages/sklearn/preprocessing/_label.py:153: DataConversionWarning: A column-vector y was passed when a 1d array was expected. Please change the shape of y to (n_samples, ), for example using ravel().\n",
      "  y = column_or_1d(y, warn=True)\n",
      "/Users/Tegveer/miniforge3/envs/ANLY501/lib/python3.9/site-packages/sklearn/preprocessing/_label.py:153: DataConversionWarning: A column-vector y was passed when a 1d array was expected. Please change the shape of y to (n_samples, ), for example using ravel().\n",
      "  y = column_or_1d(y, warn=True)\n",
      "/Users/Tegveer/miniforge3/envs/ANLY501/lib/python3.9/site-packages/sklearn/preprocessing/_label.py:153: DataConversionWarning: A column-vector y was passed when a 1d array was expected. Please change the shape of y to (n_samples, ), for example using ravel().\n",
      "  y = column_or_1d(y, warn=True)\n",
      "/Users/Tegveer/miniforge3/envs/ANLY501/lib/python3.9/site-packages/sklearn/preprocessing/_label.py:153: DataConversionWarning: A column-vector y was passed when a 1d array was expected. Please change the shape of y to (n_samples, ), for example using ravel().\n",
      "  y = column_or_1d(y, warn=True)\n",
      "/Users/Tegveer/miniforge3/envs/ANLY501/lib/python3.9/site-packages/sklearn/preprocessing/_label.py:153: DataConversionWarning: A column-vector y was passed when a 1d array was expected. Please change the shape of y to (n_samples, ), for example using ravel().\n",
      "  y = column_or_1d(y, warn=True)\n",
      "/Users/Tegveer/miniforge3/envs/ANLY501/lib/python3.9/site-packages/sklearn/preprocessing/_label.py:153: DataConversionWarning: A column-vector y was passed when a 1d array was expected. Please change the shape of y to (n_samples, ), for example using ravel().\n",
      "  y = column_or_1d(y, warn=True)\n",
      "/Users/Tegveer/miniforge3/envs/ANLY501/lib/python3.9/site-packages/sklearn/preprocessing/_label.py:153: DataConversionWarning: A column-vector y was passed when a 1d array was expected. Please change the shape of y to (n_samples, ), for example using ravel().\n",
      "  y = column_or_1d(y, warn=True)\n",
      "/Users/Tegveer/miniforge3/envs/ANLY501/lib/python3.9/site-packages/sklearn/preprocessing/_label.py:153: DataConversionWarning: A column-vector y was passed when a 1d array was expected. Please change the shape of y to (n_samples, ), for example using ravel().\n",
      "  y = column_or_1d(y, warn=True)\n",
      "/Users/Tegveer/miniforge3/envs/ANLY501/lib/python3.9/site-packages/sklearn/preprocessing/_label.py:153: DataConversionWarning: A column-vector y was passed when a 1d array was expected. Please change the shape of y to (n_samples, ), for example using ravel().\n",
      "  y = column_or_1d(y, warn=True)\n",
      "/Users/Tegveer/miniforge3/envs/ANLY501/lib/python3.9/site-packages/sklearn/preprocessing/_label.py:153: DataConversionWarning: A column-vector y was passed when a 1d array was expected. Please change the shape of y to (n_samples, ), for example using ravel().\n",
      "  y = column_or_1d(y, warn=True)\n",
      "/Users/Tegveer/miniforge3/envs/ANLY501/lib/python3.9/site-packages/sklearn/preprocessing/_label.py:153: DataConversionWarning: A column-vector y was passed when a 1d array was expected. Please change the shape of y to (n_samples, ), for example using ravel().\n",
      "  y = column_or_1d(y, warn=True)\n",
      "/Users/Tegveer/miniforge3/envs/ANLY501/lib/python3.9/site-packages/sklearn/preprocessing/_label.py:153: DataConversionWarning: A column-vector y was passed when a 1d array was expected. Please change the shape of y to (n_samples, ), for example using ravel().\n",
      "  y = column_or_1d(y, warn=True)\n",
      "/Users/Tegveer/miniforge3/envs/ANLY501/lib/python3.9/site-packages/sklearn/preprocessing/_label.py:153: DataConversionWarning: A column-vector y was passed when a 1d array was expected. Please change the shape of y to (n_samples, ), for example using ravel().\n",
      "  y = column_or_1d(y, warn=True)\n",
      "/Users/Tegveer/miniforge3/envs/ANLY501/lib/python3.9/site-packages/sklearn/preprocessing/_label.py:153: DataConversionWarning: A column-vector y was passed when a 1d array was expected. Please change the shape of y to (n_samples, ), for example using ravel().\n",
      "  y = column_or_1d(y, warn=True)\n",
      "/Users/Tegveer/miniforge3/envs/ANLY501/lib/python3.9/site-packages/sklearn/preprocessing/_label.py:153: DataConversionWarning: A column-vector y was passed when a 1d array was expected. Please change the shape of y to (n_samples, ), for example using ravel().\n",
      "  y = column_or_1d(y, warn=True)\n"
     ]
    },
    {
     "name": "stdout",
     "output_type": "stream",
     "text": [
      ">Stacked Model Accuracy: 0.597 Weighted F1: 0.507\n",
      "CPU times: user 630 ms, sys: 460 ms, total: 1.09 s\n",
      "Wall time: 3min 11s\n"
     ]
    },
    {
     "name": "stderr",
     "output_type": "stream",
     "text": [
      "/Users/Tegveer/miniforge3/envs/ANLY501/lib/python3.9/site-packages/sklearn/preprocessing/_label.py:153: DataConversionWarning: A column-vector y was passed when a 1d array was expected. Please change the shape of y to (n_samples, ), for example using ravel().\n",
      "  y = column_or_1d(y, warn=True)\n"
     ]
    }
   ],
   "source": [
    "%%time\n",
    "\n",
    "models = base_models()\n",
    "# evaluate the models and store results\n",
    "results = {}\n",
    "names = list()\n",
    "accuracies = []\n",
    "weighted_f1s = []\n",
    "\n",
    "for name, model in models.items():\n",
    "    accuracy, weighted_f1 = eval_models(model)\n",
    "    accuracies.extend(accuracy)\n",
    "    weighted_f1s.extend(weighted_f1)\n",
    "    names.extend([name] * len(accuracy))\n",
    "    print(\n",
    "        \">%s Accuracy: %.3f Weighted F1: %.3f\"\n",
    "        % (name, accuracy.mean(), weighted_f1.mean())\n",
    "    )"
   ]
  },
  {
   "cell_type": "markdown",
   "metadata": {},
   "source": [
    "## Store Results "
   ]
  },
  {
   "cell_type": "code",
   "execution_count": 158,
   "metadata": {},
   "outputs": [],
   "source": [
    "results[\"Model\"] = names\n",
    "results[\"Accuracy\"] = accuracies\n",
    "results[\"Weighted_F1\"] = weighted_f1s\n",
    "\n",
    "classifmod1 = pd.DataFrame(results)"
   ]
  },
  {
   "cell_type": "markdown",
   "metadata": {},
   "source": [
    "## Visualize Train Set Accuracies"
   ]
  },
  {
   "cell_type": "code",
   "execution_count": 159,
   "metadata": {},
   "outputs": [
    {
     "data": {
      "application/vnd.plotly.v1+json": {
       "config": {
        "plotlyServerURL": "https://plotly.com"
       },
       "data": [
        {
         "alignmentgroup": "True",
         "boxpoints": "all",
         "hovertemplate": "Machine Learning Model=%{x}<br>Accuracy=%{y}<extra></extra>",
         "legendgroup": "GNB",
         "marker": {
          "color": "#636efa"
         },
         "name": "GNB",
         "notched": false,
         "offsetgroup": "GNB",
         "orientation": "v",
         "showlegend": true,
         "type": "box",
         "x": [
          "GNB",
          "GNB",
          "GNB",
          "GNB",
          "GNB",
          "GNB",
          "GNB",
          "GNB",
          "GNB",
          "GNB"
         ],
         "x0": " ",
         "xaxis": "x",
         "y": [
          0.48063858695652173,
          0.4782608695652174,
          0.4919111715001486,
          0.47747441722219863,
          0.4830368137234088,
          0.48191236413043476,
          0.48276154891304346,
          0.49114687274425717,
          0.4781537938941022,
          0.4809562226657042
         ],
         "y0": " ",
         "yaxis": "y"
        },
        {
         "alignmentgroup": "True",
         "boxpoints": "all",
         "hovertemplate": "Machine Learning Model=%{x}<br>Accuracy=%{y}<extra></extra>",
         "legendgroup": "Tree",
         "marker": {
          "color": "#EF553B"
         },
         "name": "Tree",
         "notched": false,
         "offsetgroup": "Tree",
         "orientation": "v",
         "showlegend": true,
         "type": "box",
         "x": [
          "Tree",
          "Tree",
          "Tree",
          "Tree",
          "Tree",
          "Tree",
          "Tree",
          "Tree",
          "Tree",
          "Tree"
         ],
         "x0": " ",
         "xaxis": "x",
         "y": [
          0.48904551630434784,
          0.48904551630434784,
          0.49662434716147935,
          0.4910619506602692,
          0.4928877754660099,
          0.48934273097826086,
          0.48713485054347827,
          0.49157148316419685,
          0.4909770285762813,
          0.49182624941616065
         ],
         "y0": " ",
         "yaxis": "y"
        },
        {
         "alignmentgroup": "True",
         "boxpoints": "all",
         "hovertemplate": "Machine Learning Model=%{x}<br>Accuracy=%{y}<extra></extra>",
         "legendgroup": "XGB",
         "marker": {
          "color": "#00cc96"
         },
         "name": "XGB",
         "notched": false,
         "offsetgroup": "XGB",
         "orientation": "v",
         "showlegend": true,
         "type": "box",
         "x": [
          "XGB",
          "XGB",
          "XGB",
          "XGB",
          "XGB",
          "XGB",
          "XGB",
          "XGB",
          "XGB",
          "XGB"
         ],
         "x0": " ",
         "xaxis": "x",
         "y": [
          0.6230893342391305,
          0.6224099864130435,
          0.6204407456158975,
          0.6231582523035115,
          0.6203133624899155,
          0.6266559103260869,
          0.625,
          0.6166192518364401,
          0.622478875631608,
          0.6170863232983738
         ],
         "y0": " ",
         "yaxis": "y"
        },
        {
         "alignmentgroup": "True",
         "boxpoints": "all",
         "hovertemplate": "Machine Learning Model=%{x}<br>Accuracy=%{y}<extra></extra>",
         "legendgroup": "Stacked Model",
         "marker": {
          "color": "#ab63fa"
         },
         "name": "Stacked Model",
         "notched": false,
         "offsetgroup": "Stacked Model",
         "orientation": "v",
         "showlegend": true,
         "type": "box",
         "x": [
          "Stacked Model",
          "Stacked Model",
          "Stacked Model",
          "Stacked Model",
          "Stacked Model",
          "Stacked Model",
          "Stacked Model",
          "Stacked Model",
          "Stacked Model",
          "Stacked Model"
         ],
         "x0": " ",
         "xaxis": "x",
         "y": [
          0.5955757472826086,
          0.600968070652174,
          0.5953887308394548,
          0.5985308479470086,
          0.5981911596110568,
          0.5978260869565217,
          0.5979534646739131,
          0.5949641204195151,
          0.5989129973249544,
          0.5927986072778226
         ],
         "y0": " ",
         "yaxis": "y"
        }
       ],
       "layout": {
        "boxmode": "overlay",
        "legend": {
         "title": {
          "text": "Machine Learning Model"
         },
         "tracegroupgap": 0
        },
        "template": {
         "data": {
          "bar": [
           {
            "error_x": {
             "color": "#2a3f5f"
            },
            "error_y": {
             "color": "#2a3f5f"
            },
            "marker": {
             "line": {
              "color": "#E5ECF6",
              "width": 0.5
             },
             "pattern": {
              "fillmode": "overlay",
              "size": 10,
              "solidity": 0.2
             }
            },
            "type": "bar"
           }
          ],
          "barpolar": [
           {
            "marker": {
             "line": {
              "color": "#E5ECF6",
              "width": 0.5
             },
             "pattern": {
              "fillmode": "overlay",
              "size": 10,
              "solidity": 0.2
             }
            },
            "type": "barpolar"
           }
          ],
          "carpet": [
           {
            "aaxis": {
             "endlinecolor": "#2a3f5f",
             "gridcolor": "white",
             "linecolor": "white",
             "minorgridcolor": "white",
             "startlinecolor": "#2a3f5f"
            },
            "baxis": {
             "endlinecolor": "#2a3f5f",
             "gridcolor": "white",
             "linecolor": "white",
             "minorgridcolor": "white",
             "startlinecolor": "#2a3f5f"
            },
            "type": "carpet"
           }
          ],
          "choropleth": [
           {
            "colorbar": {
             "outlinewidth": 0,
             "ticks": ""
            },
            "type": "choropleth"
           }
          ],
          "contour": [
           {
            "colorbar": {
             "outlinewidth": 0,
             "ticks": ""
            },
            "colorscale": [
             [
              0,
              "#0d0887"
             ],
             [
              0.1111111111111111,
              "#46039f"
             ],
             [
              0.2222222222222222,
              "#7201a8"
             ],
             [
              0.3333333333333333,
              "#9c179e"
             ],
             [
              0.4444444444444444,
              "#bd3786"
             ],
             [
              0.5555555555555556,
              "#d8576b"
             ],
             [
              0.6666666666666666,
              "#ed7953"
             ],
             [
              0.7777777777777778,
              "#fb9f3a"
             ],
             [
              0.8888888888888888,
              "#fdca26"
             ],
             [
              1,
              "#f0f921"
             ]
            ],
            "type": "contour"
           }
          ],
          "contourcarpet": [
           {
            "colorbar": {
             "outlinewidth": 0,
             "ticks": ""
            },
            "type": "contourcarpet"
           }
          ],
          "heatmap": [
           {
            "colorbar": {
             "outlinewidth": 0,
             "ticks": ""
            },
            "colorscale": [
             [
              0,
              "#0d0887"
             ],
             [
              0.1111111111111111,
              "#46039f"
             ],
             [
              0.2222222222222222,
              "#7201a8"
             ],
             [
              0.3333333333333333,
              "#9c179e"
             ],
             [
              0.4444444444444444,
              "#bd3786"
             ],
             [
              0.5555555555555556,
              "#d8576b"
             ],
             [
              0.6666666666666666,
              "#ed7953"
             ],
             [
              0.7777777777777778,
              "#fb9f3a"
             ],
             [
              0.8888888888888888,
              "#fdca26"
             ],
             [
              1,
              "#f0f921"
             ]
            ],
            "type": "heatmap"
           }
          ],
          "heatmapgl": [
           {
            "colorbar": {
             "outlinewidth": 0,
             "ticks": ""
            },
            "colorscale": [
             [
              0,
              "#0d0887"
             ],
             [
              0.1111111111111111,
              "#46039f"
             ],
             [
              0.2222222222222222,
              "#7201a8"
             ],
             [
              0.3333333333333333,
              "#9c179e"
             ],
             [
              0.4444444444444444,
              "#bd3786"
             ],
             [
              0.5555555555555556,
              "#d8576b"
             ],
             [
              0.6666666666666666,
              "#ed7953"
             ],
             [
              0.7777777777777778,
              "#fb9f3a"
             ],
             [
              0.8888888888888888,
              "#fdca26"
             ],
             [
              1,
              "#f0f921"
             ]
            ],
            "type": "heatmapgl"
           }
          ],
          "histogram": [
           {
            "marker": {
             "pattern": {
              "fillmode": "overlay",
              "size": 10,
              "solidity": 0.2
             }
            },
            "type": "histogram"
           }
          ],
          "histogram2d": [
           {
            "colorbar": {
             "outlinewidth": 0,
             "ticks": ""
            },
            "colorscale": [
             [
              0,
              "#0d0887"
             ],
             [
              0.1111111111111111,
              "#46039f"
             ],
             [
              0.2222222222222222,
              "#7201a8"
             ],
             [
              0.3333333333333333,
              "#9c179e"
             ],
             [
              0.4444444444444444,
              "#bd3786"
             ],
             [
              0.5555555555555556,
              "#d8576b"
             ],
             [
              0.6666666666666666,
              "#ed7953"
             ],
             [
              0.7777777777777778,
              "#fb9f3a"
             ],
             [
              0.8888888888888888,
              "#fdca26"
             ],
             [
              1,
              "#f0f921"
             ]
            ],
            "type": "histogram2d"
           }
          ],
          "histogram2dcontour": [
           {
            "colorbar": {
             "outlinewidth": 0,
             "ticks": ""
            },
            "colorscale": [
             [
              0,
              "#0d0887"
             ],
             [
              0.1111111111111111,
              "#46039f"
             ],
             [
              0.2222222222222222,
              "#7201a8"
             ],
             [
              0.3333333333333333,
              "#9c179e"
             ],
             [
              0.4444444444444444,
              "#bd3786"
             ],
             [
              0.5555555555555556,
              "#d8576b"
             ],
             [
              0.6666666666666666,
              "#ed7953"
             ],
             [
              0.7777777777777778,
              "#fb9f3a"
             ],
             [
              0.8888888888888888,
              "#fdca26"
             ],
             [
              1,
              "#f0f921"
             ]
            ],
            "type": "histogram2dcontour"
           }
          ],
          "mesh3d": [
           {
            "colorbar": {
             "outlinewidth": 0,
             "ticks": ""
            },
            "type": "mesh3d"
           }
          ],
          "parcoords": [
           {
            "line": {
             "colorbar": {
              "outlinewidth": 0,
              "ticks": ""
             }
            },
            "type": "parcoords"
           }
          ],
          "pie": [
           {
            "automargin": true,
            "type": "pie"
           }
          ],
          "scatter": [
           {
            "fillpattern": {
             "fillmode": "overlay",
             "size": 10,
             "solidity": 0.2
            },
            "type": "scatter"
           }
          ],
          "scatter3d": [
           {
            "line": {
             "colorbar": {
              "outlinewidth": 0,
              "ticks": ""
             }
            },
            "marker": {
             "colorbar": {
              "outlinewidth": 0,
              "ticks": ""
             }
            },
            "type": "scatter3d"
           }
          ],
          "scattercarpet": [
           {
            "marker": {
             "colorbar": {
              "outlinewidth": 0,
              "ticks": ""
             }
            },
            "type": "scattercarpet"
           }
          ],
          "scattergeo": [
           {
            "marker": {
             "colorbar": {
              "outlinewidth": 0,
              "ticks": ""
             }
            },
            "type": "scattergeo"
           }
          ],
          "scattergl": [
           {
            "marker": {
             "colorbar": {
              "outlinewidth": 0,
              "ticks": ""
             }
            },
            "type": "scattergl"
           }
          ],
          "scattermapbox": [
           {
            "marker": {
             "colorbar": {
              "outlinewidth": 0,
              "ticks": ""
             }
            },
            "type": "scattermapbox"
           }
          ],
          "scatterpolar": [
           {
            "marker": {
             "colorbar": {
              "outlinewidth": 0,
              "ticks": ""
             }
            },
            "type": "scatterpolar"
           }
          ],
          "scatterpolargl": [
           {
            "marker": {
             "colorbar": {
              "outlinewidth": 0,
              "ticks": ""
             }
            },
            "type": "scatterpolargl"
           }
          ],
          "scatterternary": [
           {
            "marker": {
             "colorbar": {
              "outlinewidth": 0,
              "ticks": ""
             }
            },
            "type": "scatterternary"
           }
          ],
          "surface": [
           {
            "colorbar": {
             "outlinewidth": 0,
             "ticks": ""
            },
            "colorscale": [
             [
              0,
              "#0d0887"
             ],
             [
              0.1111111111111111,
              "#46039f"
             ],
             [
              0.2222222222222222,
              "#7201a8"
             ],
             [
              0.3333333333333333,
              "#9c179e"
             ],
             [
              0.4444444444444444,
              "#bd3786"
             ],
             [
              0.5555555555555556,
              "#d8576b"
             ],
             [
              0.6666666666666666,
              "#ed7953"
             ],
             [
              0.7777777777777778,
              "#fb9f3a"
             ],
             [
              0.8888888888888888,
              "#fdca26"
             ],
             [
              1,
              "#f0f921"
             ]
            ],
            "type": "surface"
           }
          ],
          "table": [
           {
            "cells": {
             "fill": {
              "color": "#EBF0F8"
             },
             "line": {
              "color": "white"
             }
            },
            "header": {
             "fill": {
              "color": "#C8D4E3"
             },
             "line": {
              "color": "white"
             }
            },
            "type": "table"
           }
          ]
         },
         "layout": {
          "annotationdefaults": {
           "arrowcolor": "#2a3f5f",
           "arrowhead": 0,
           "arrowwidth": 1
          },
          "autotypenumbers": "strict",
          "coloraxis": {
           "colorbar": {
            "outlinewidth": 0,
            "ticks": ""
           }
          },
          "colorscale": {
           "diverging": [
            [
             0,
             "#8e0152"
            ],
            [
             0.1,
             "#c51b7d"
            ],
            [
             0.2,
             "#de77ae"
            ],
            [
             0.3,
             "#f1b6da"
            ],
            [
             0.4,
             "#fde0ef"
            ],
            [
             0.5,
             "#f7f7f7"
            ],
            [
             0.6,
             "#e6f5d0"
            ],
            [
             0.7,
             "#b8e186"
            ],
            [
             0.8,
             "#7fbc41"
            ],
            [
             0.9,
             "#4d9221"
            ],
            [
             1,
             "#276419"
            ]
           ],
           "sequential": [
            [
             0,
             "#0d0887"
            ],
            [
             0.1111111111111111,
             "#46039f"
            ],
            [
             0.2222222222222222,
             "#7201a8"
            ],
            [
             0.3333333333333333,
             "#9c179e"
            ],
            [
             0.4444444444444444,
             "#bd3786"
            ],
            [
             0.5555555555555556,
             "#d8576b"
            ],
            [
             0.6666666666666666,
             "#ed7953"
            ],
            [
             0.7777777777777778,
             "#fb9f3a"
            ],
            [
             0.8888888888888888,
             "#fdca26"
            ],
            [
             1,
             "#f0f921"
            ]
           ],
           "sequentialminus": [
            [
             0,
             "#0d0887"
            ],
            [
             0.1111111111111111,
             "#46039f"
            ],
            [
             0.2222222222222222,
             "#7201a8"
            ],
            [
             0.3333333333333333,
             "#9c179e"
            ],
            [
             0.4444444444444444,
             "#bd3786"
            ],
            [
             0.5555555555555556,
             "#d8576b"
            ],
            [
             0.6666666666666666,
             "#ed7953"
            ],
            [
             0.7777777777777778,
             "#fb9f3a"
            ],
            [
             0.8888888888888888,
             "#fdca26"
            ],
            [
             1,
             "#f0f921"
            ]
           ]
          },
          "colorway": [
           "#636efa",
           "#EF553B",
           "#00cc96",
           "#ab63fa",
           "#FFA15A",
           "#19d3f3",
           "#FF6692",
           "#B6E880",
           "#FF97FF",
           "#FECB52"
          ],
          "font": {
           "color": "#2a3f5f"
          },
          "geo": {
           "bgcolor": "white",
           "lakecolor": "white",
           "landcolor": "#E5ECF6",
           "showlakes": true,
           "showland": true,
           "subunitcolor": "white"
          },
          "hoverlabel": {
           "align": "left"
          },
          "hovermode": "closest",
          "mapbox": {
           "style": "light"
          },
          "paper_bgcolor": "white",
          "plot_bgcolor": "#E5ECF6",
          "polar": {
           "angularaxis": {
            "gridcolor": "white",
            "linecolor": "white",
            "ticks": ""
           },
           "bgcolor": "#E5ECF6",
           "radialaxis": {
            "gridcolor": "white",
            "linecolor": "white",
            "ticks": ""
           }
          },
          "scene": {
           "xaxis": {
            "backgroundcolor": "#E5ECF6",
            "gridcolor": "white",
            "gridwidth": 2,
            "linecolor": "white",
            "showbackground": true,
            "ticks": "",
            "zerolinecolor": "white"
           },
           "yaxis": {
            "backgroundcolor": "#E5ECF6",
            "gridcolor": "white",
            "gridwidth": 2,
            "linecolor": "white",
            "showbackground": true,
            "ticks": "",
            "zerolinecolor": "white"
           },
           "zaxis": {
            "backgroundcolor": "#E5ECF6",
            "gridcolor": "white",
            "gridwidth": 2,
            "linecolor": "white",
            "showbackground": true,
            "ticks": "",
            "zerolinecolor": "white"
           }
          },
          "shapedefaults": {
           "line": {
            "color": "#2a3f5f"
           }
          },
          "ternary": {
           "aaxis": {
            "gridcolor": "white",
            "linecolor": "white",
            "ticks": ""
           },
           "baxis": {
            "gridcolor": "white",
            "linecolor": "white",
            "ticks": ""
           },
           "bgcolor": "#E5ECF6",
           "caxis": {
            "gridcolor": "white",
            "linecolor": "white",
            "ticks": ""
           }
          },
          "title": {
           "x": 0.05
          },
          "xaxis": {
           "automargin": true,
           "gridcolor": "white",
           "linecolor": "white",
           "ticks": "",
           "title": {
            "standoff": 15
           },
           "zerolinecolor": "white",
           "zerolinewidth": 2
          },
          "yaxis": {
           "automargin": true,
           "gridcolor": "white",
           "linecolor": "white",
           "ticks": "",
           "title": {
            "standoff": 15
           },
           "zerolinecolor": "white",
           "zerolinewidth": 2
          }
         }
        },
        "title": {
         "text": "Model Accuracy Performance"
        },
        "xaxis": {
         "anchor": "y",
         "categoryarray": [
          "GNB",
          "Tree",
          "XGB",
          "Stacked Model"
         ],
         "categoryorder": "array",
         "domain": [
          0,
          1
         ],
         "title": {
          "text": "Machine Learning Model"
         }
        },
        "yaxis": {
         "anchor": "x",
         "domain": [
          0,
          1
         ],
         "title": {
          "text": "Accuracy"
         }
        }
       }
      },
      "text/html": [
       "<div>                            <div id=\"cce56d44-8739-45d2-91d5-a1e59cc8b7e2\" class=\"plotly-graph-div\" style=\"height:525px; width:100%;\"></div>            <script type=\"text/javascript\">                require([\"plotly\"], function(Plotly) {                    window.PLOTLYENV=window.PLOTLYENV || {};                                    if (document.getElementById(\"cce56d44-8739-45d2-91d5-a1e59cc8b7e2\")) {                    Plotly.newPlot(                        \"cce56d44-8739-45d2-91d5-a1e59cc8b7e2\",                        [{\"alignmentgroup\":\"True\",\"boxpoints\":\"all\",\"hovertemplate\":\"Machine Learning Model=%{x}<br>Accuracy=%{y}<extra></extra>\",\"legendgroup\":\"GNB\",\"marker\":{\"color\":\"#636efa\"},\"name\":\"GNB\",\"notched\":false,\"offsetgroup\":\"GNB\",\"orientation\":\"v\",\"showlegend\":true,\"x\":[\"GNB\",\"GNB\",\"GNB\",\"GNB\",\"GNB\",\"GNB\",\"GNB\",\"GNB\",\"GNB\",\"GNB\"],\"x0\":\" \",\"xaxis\":\"x\",\"y\":[0.48063858695652173,0.4782608695652174,0.4919111715001486,0.47747441722219863,0.4830368137234088,0.48191236413043476,0.48276154891304346,0.49114687274425717,0.4781537938941022,0.4809562226657042],\"y0\":\" \",\"yaxis\":\"y\",\"type\":\"box\"},{\"alignmentgroup\":\"True\",\"boxpoints\":\"all\",\"hovertemplate\":\"Machine Learning Model=%{x}<br>Accuracy=%{y}<extra></extra>\",\"legendgroup\":\"Tree\",\"marker\":{\"color\":\"#EF553B\"},\"name\":\"Tree\",\"notched\":false,\"offsetgroup\":\"Tree\",\"orientation\":\"v\",\"showlegend\":true,\"x\":[\"Tree\",\"Tree\",\"Tree\",\"Tree\",\"Tree\",\"Tree\",\"Tree\",\"Tree\",\"Tree\",\"Tree\"],\"x0\":\" \",\"xaxis\":\"x\",\"y\":[0.48904551630434784,0.48904551630434784,0.49662434716147935,0.4910619506602692,0.4928877754660099,0.48934273097826086,0.48713485054347827,0.49157148316419685,0.4909770285762813,0.49182624941616065],\"y0\":\" \",\"yaxis\":\"y\",\"type\":\"box\"},{\"alignmentgroup\":\"True\",\"boxpoints\":\"all\",\"hovertemplate\":\"Machine Learning Model=%{x}<br>Accuracy=%{y}<extra></extra>\",\"legendgroup\":\"XGB\",\"marker\":{\"color\":\"#00cc96\"},\"name\":\"XGB\",\"notched\":false,\"offsetgroup\":\"XGB\",\"orientation\":\"v\",\"showlegend\":true,\"x\":[\"XGB\",\"XGB\",\"XGB\",\"XGB\",\"XGB\",\"XGB\",\"XGB\",\"XGB\",\"XGB\",\"XGB\"],\"x0\":\" \",\"xaxis\":\"x\",\"y\":[0.6230893342391305,0.6224099864130435,0.6204407456158975,0.6231582523035115,0.6203133624899155,0.6266559103260869,0.625,0.6166192518364401,0.622478875631608,0.6170863232983738],\"y0\":\" \",\"yaxis\":\"y\",\"type\":\"box\"},{\"alignmentgroup\":\"True\",\"boxpoints\":\"all\",\"hovertemplate\":\"Machine Learning Model=%{x}<br>Accuracy=%{y}<extra></extra>\",\"legendgroup\":\"Stacked Model\",\"marker\":{\"color\":\"#ab63fa\"},\"name\":\"Stacked Model\",\"notched\":false,\"offsetgroup\":\"Stacked Model\",\"orientation\":\"v\",\"showlegend\":true,\"x\":[\"Stacked Model\",\"Stacked Model\",\"Stacked Model\",\"Stacked Model\",\"Stacked Model\",\"Stacked Model\",\"Stacked Model\",\"Stacked Model\",\"Stacked Model\",\"Stacked Model\"],\"x0\":\" \",\"xaxis\":\"x\",\"y\":[0.5955757472826086,0.600968070652174,0.5953887308394548,0.5985308479470086,0.5981911596110568,0.5978260869565217,0.5979534646739131,0.5949641204195151,0.5989129973249544,0.5927986072778226],\"y0\":\" \",\"yaxis\":\"y\",\"type\":\"box\"}],                        {\"template\":{\"data\":{\"histogram2dcontour\":[{\"type\":\"histogram2dcontour\",\"colorbar\":{\"outlinewidth\":0,\"ticks\":\"\"},\"colorscale\":[[0.0,\"#0d0887\"],[0.1111111111111111,\"#46039f\"],[0.2222222222222222,\"#7201a8\"],[0.3333333333333333,\"#9c179e\"],[0.4444444444444444,\"#bd3786\"],[0.5555555555555556,\"#d8576b\"],[0.6666666666666666,\"#ed7953\"],[0.7777777777777778,\"#fb9f3a\"],[0.8888888888888888,\"#fdca26\"],[1.0,\"#f0f921\"]]}],\"choropleth\":[{\"type\":\"choropleth\",\"colorbar\":{\"outlinewidth\":0,\"ticks\":\"\"}}],\"histogram2d\":[{\"type\":\"histogram2d\",\"colorbar\":{\"outlinewidth\":0,\"ticks\":\"\"},\"colorscale\":[[0.0,\"#0d0887\"],[0.1111111111111111,\"#46039f\"],[0.2222222222222222,\"#7201a8\"],[0.3333333333333333,\"#9c179e\"],[0.4444444444444444,\"#bd3786\"],[0.5555555555555556,\"#d8576b\"],[0.6666666666666666,\"#ed7953\"],[0.7777777777777778,\"#fb9f3a\"],[0.8888888888888888,\"#fdca26\"],[1.0,\"#f0f921\"]]}],\"heatmap\":[{\"type\":\"heatmap\",\"colorbar\":{\"outlinewidth\":0,\"ticks\":\"\"},\"colorscale\":[[0.0,\"#0d0887\"],[0.1111111111111111,\"#46039f\"],[0.2222222222222222,\"#7201a8\"],[0.3333333333333333,\"#9c179e\"],[0.4444444444444444,\"#bd3786\"],[0.5555555555555556,\"#d8576b\"],[0.6666666666666666,\"#ed7953\"],[0.7777777777777778,\"#fb9f3a\"],[0.8888888888888888,\"#fdca26\"],[1.0,\"#f0f921\"]]}],\"heatmapgl\":[{\"type\":\"heatmapgl\",\"colorbar\":{\"outlinewidth\":0,\"ticks\":\"\"},\"colorscale\":[[0.0,\"#0d0887\"],[0.1111111111111111,\"#46039f\"],[0.2222222222222222,\"#7201a8\"],[0.3333333333333333,\"#9c179e\"],[0.4444444444444444,\"#bd3786\"],[0.5555555555555556,\"#d8576b\"],[0.6666666666666666,\"#ed7953\"],[0.7777777777777778,\"#fb9f3a\"],[0.8888888888888888,\"#fdca26\"],[1.0,\"#f0f921\"]]}],\"contourcarpet\":[{\"type\":\"contourcarpet\",\"colorbar\":{\"outlinewidth\":0,\"ticks\":\"\"}}],\"contour\":[{\"type\":\"contour\",\"colorbar\":{\"outlinewidth\":0,\"ticks\":\"\"},\"colorscale\":[[0.0,\"#0d0887\"],[0.1111111111111111,\"#46039f\"],[0.2222222222222222,\"#7201a8\"],[0.3333333333333333,\"#9c179e\"],[0.4444444444444444,\"#bd3786\"],[0.5555555555555556,\"#d8576b\"],[0.6666666666666666,\"#ed7953\"],[0.7777777777777778,\"#fb9f3a\"],[0.8888888888888888,\"#fdca26\"],[1.0,\"#f0f921\"]]}],\"surface\":[{\"type\":\"surface\",\"colorbar\":{\"outlinewidth\":0,\"ticks\":\"\"},\"colorscale\":[[0.0,\"#0d0887\"],[0.1111111111111111,\"#46039f\"],[0.2222222222222222,\"#7201a8\"],[0.3333333333333333,\"#9c179e\"],[0.4444444444444444,\"#bd3786\"],[0.5555555555555556,\"#d8576b\"],[0.6666666666666666,\"#ed7953\"],[0.7777777777777778,\"#fb9f3a\"],[0.8888888888888888,\"#fdca26\"],[1.0,\"#f0f921\"]]}],\"mesh3d\":[{\"type\":\"mesh3d\",\"colorbar\":{\"outlinewidth\":0,\"ticks\":\"\"}}],\"scatter\":[{\"fillpattern\":{\"fillmode\":\"overlay\",\"size\":10,\"solidity\":0.2},\"type\":\"scatter\"}],\"parcoords\":[{\"type\":\"parcoords\",\"line\":{\"colorbar\":{\"outlinewidth\":0,\"ticks\":\"\"}}}],\"scatterpolargl\":[{\"type\":\"scatterpolargl\",\"marker\":{\"colorbar\":{\"outlinewidth\":0,\"ticks\":\"\"}}}],\"bar\":[{\"error_x\":{\"color\":\"#2a3f5f\"},\"error_y\":{\"color\":\"#2a3f5f\"},\"marker\":{\"line\":{\"color\":\"#E5ECF6\",\"width\":0.5},\"pattern\":{\"fillmode\":\"overlay\",\"size\":10,\"solidity\":0.2}},\"type\":\"bar\"}],\"scattergeo\":[{\"type\":\"scattergeo\",\"marker\":{\"colorbar\":{\"outlinewidth\":0,\"ticks\":\"\"}}}],\"scatterpolar\":[{\"type\":\"scatterpolar\",\"marker\":{\"colorbar\":{\"outlinewidth\":0,\"ticks\":\"\"}}}],\"histogram\":[{\"marker\":{\"pattern\":{\"fillmode\":\"overlay\",\"size\":10,\"solidity\":0.2}},\"type\":\"histogram\"}],\"scattergl\":[{\"type\":\"scattergl\",\"marker\":{\"colorbar\":{\"outlinewidth\":0,\"ticks\":\"\"}}}],\"scatter3d\":[{\"type\":\"scatter3d\",\"line\":{\"colorbar\":{\"outlinewidth\":0,\"ticks\":\"\"}},\"marker\":{\"colorbar\":{\"outlinewidth\":0,\"ticks\":\"\"}}}],\"scattermapbox\":[{\"type\":\"scattermapbox\",\"marker\":{\"colorbar\":{\"outlinewidth\":0,\"ticks\":\"\"}}}],\"scatterternary\":[{\"type\":\"scatterternary\",\"marker\":{\"colorbar\":{\"outlinewidth\":0,\"ticks\":\"\"}}}],\"scattercarpet\":[{\"type\":\"scattercarpet\",\"marker\":{\"colorbar\":{\"outlinewidth\":0,\"ticks\":\"\"}}}],\"carpet\":[{\"aaxis\":{\"endlinecolor\":\"#2a3f5f\",\"gridcolor\":\"white\",\"linecolor\":\"white\",\"minorgridcolor\":\"white\",\"startlinecolor\":\"#2a3f5f\"},\"baxis\":{\"endlinecolor\":\"#2a3f5f\",\"gridcolor\":\"white\",\"linecolor\":\"white\",\"minorgridcolor\":\"white\",\"startlinecolor\":\"#2a3f5f\"},\"type\":\"carpet\"}],\"table\":[{\"cells\":{\"fill\":{\"color\":\"#EBF0F8\"},\"line\":{\"color\":\"white\"}},\"header\":{\"fill\":{\"color\":\"#C8D4E3\"},\"line\":{\"color\":\"white\"}},\"type\":\"table\"}],\"barpolar\":[{\"marker\":{\"line\":{\"color\":\"#E5ECF6\",\"width\":0.5},\"pattern\":{\"fillmode\":\"overlay\",\"size\":10,\"solidity\":0.2}},\"type\":\"barpolar\"}],\"pie\":[{\"automargin\":true,\"type\":\"pie\"}]},\"layout\":{\"autotypenumbers\":\"strict\",\"colorway\":[\"#636efa\",\"#EF553B\",\"#00cc96\",\"#ab63fa\",\"#FFA15A\",\"#19d3f3\",\"#FF6692\",\"#B6E880\",\"#FF97FF\",\"#FECB52\"],\"font\":{\"color\":\"#2a3f5f\"},\"hovermode\":\"closest\",\"hoverlabel\":{\"align\":\"left\"},\"paper_bgcolor\":\"white\",\"plot_bgcolor\":\"#E5ECF6\",\"polar\":{\"bgcolor\":\"#E5ECF6\",\"angularaxis\":{\"gridcolor\":\"white\",\"linecolor\":\"white\",\"ticks\":\"\"},\"radialaxis\":{\"gridcolor\":\"white\",\"linecolor\":\"white\",\"ticks\":\"\"}},\"ternary\":{\"bgcolor\":\"#E5ECF6\",\"aaxis\":{\"gridcolor\":\"white\",\"linecolor\":\"white\",\"ticks\":\"\"},\"baxis\":{\"gridcolor\":\"white\",\"linecolor\":\"white\",\"ticks\":\"\"},\"caxis\":{\"gridcolor\":\"white\",\"linecolor\":\"white\",\"ticks\":\"\"}},\"coloraxis\":{\"colorbar\":{\"outlinewidth\":0,\"ticks\":\"\"}},\"colorscale\":{\"sequential\":[[0.0,\"#0d0887\"],[0.1111111111111111,\"#46039f\"],[0.2222222222222222,\"#7201a8\"],[0.3333333333333333,\"#9c179e\"],[0.4444444444444444,\"#bd3786\"],[0.5555555555555556,\"#d8576b\"],[0.6666666666666666,\"#ed7953\"],[0.7777777777777778,\"#fb9f3a\"],[0.8888888888888888,\"#fdca26\"],[1.0,\"#f0f921\"]],\"sequentialminus\":[[0.0,\"#0d0887\"],[0.1111111111111111,\"#46039f\"],[0.2222222222222222,\"#7201a8\"],[0.3333333333333333,\"#9c179e\"],[0.4444444444444444,\"#bd3786\"],[0.5555555555555556,\"#d8576b\"],[0.6666666666666666,\"#ed7953\"],[0.7777777777777778,\"#fb9f3a\"],[0.8888888888888888,\"#fdca26\"],[1.0,\"#f0f921\"]],\"diverging\":[[0,\"#8e0152\"],[0.1,\"#c51b7d\"],[0.2,\"#de77ae\"],[0.3,\"#f1b6da\"],[0.4,\"#fde0ef\"],[0.5,\"#f7f7f7\"],[0.6,\"#e6f5d0\"],[0.7,\"#b8e186\"],[0.8,\"#7fbc41\"],[0.9,\"#4d9221\"],[1,\"#276419\"]]},\"xaxis\":{\"gridcolor\":\"white\",\"linecolor\":\"white\",\"ticks\":\"\",\"title\":{\"standoff\":15},\"zerolinecolor\":\"white\",\"automargin\":true,\"zerolinewidth\":2},\"yaxis\":{\"gridcolor\":\"white\",\"linecolor\":\"white\",\"ticks\":\"\",\"title\":{\"standoff\":15},\"zerolinecolor\":\"white\",\"automargin\":true,\"zerolinewidth\":2},\"scene\":{\"xaxis\":{\"backgroundcolor\":\"#E5ECF6\",\"gridcolor\":\"white\",\"linecolor\":\"white\",\"showbackground\":true,\"ticks\":\"\",\"zerolinecolor\":\"white\",\"gridwidth\":2},\"yaxis\":{\"backgroundcolor\":\"#E5ECF6\",\"gridcolor\":\"white\",\"linecolor\":\"white\",\"showbackground\":true,\"ticks\":\"\",\"zerolinecolor\":\"white\",\"gridwidth\":2},\"zaxis\":{\"backgroundcolor\":\"#E5ECF6\",\"gridcolor\":\"white\",\"linecolor\":\"white\",\"showbackground\":true,\"ticks\":\"\",\"zerolinecolor\":\"white\",\"gridwidth\":2}},\"shapedefaults\":{\"line\":{\"color\":\"#2a3f5f\"}},\"annotationdefaults\":{\"arrowcolor\":\"#2a3f5f\",\"arrowhead\":0,\"arrowwidth\":1},\"geo\":{\"bgcolor\":\"white\",\"landcolor\":\"#E5ECF6\",\"subunitcolor\":\"white\",\"showland\":true,\"showlakes\":true,\"lakecolor\":\"white\"},\"title\":{\"x\":0.05},\"mapbox\":{\"style\":\"light\"}}},\"xaxis\":{\"anchor\":\"y\",\"domain\":[0.0,1.0],\"title\":{\"text\":\"Machine Learning Model\"},\"categoryorder\":\"array\",\"categoryarray\":[\"GNB\",\"Tree\",\"XGB\",\"Stacked Model\"]},\"yaxis\":{\"anchor\":\"x\",\"domain\":[0.0,1.0],\"title\":{\"text\":\"Accuracy\"}},\"legend\":{\"title\":{\"text\":\"Machine Learning Model\"},\"tracegroupgap\":0},\"title\":{\"text\":\"Model Accuracy Performance\"},\"boxmode\":\"overlay\"},                        {\"responsive\": true}                    ).then(function(){\n",
       "                            \n",
       "var gd = document.getElementById('cce56d44-8739-45d2-91d5-a1e59cc8b7e2');\n",
       "var x = new MutationObserver(function (mutations, observer) {{\n",
       "        var display = window.getComputedStyle(gd).display;\n",
       "        if (!display || display === 'none') {{\n",
       "            console.log([gd, 'removed!']);\n",
       "            Plotly.purge(gd);\n",
       "            observer.disconnect();\n",
       "        }}\n",
       "}});\n",
       "\n",
       "// Listen for the removal of the full notebook cells\n",
       "var notebookContainer = gd.closest('#notebook-container');\n",
       "if (notebookContainer) {{\n",
       "    x.observe(notebookContainer, {childList: true});\n",
       "}}\n",
       "\n",
       "// Listen for the clearing of the current output cell\n",
       "var outputEl = gd.closest('.output');\n",
       "if (outputEl) {{\n",
       "    x.observe(outputEl, {childList: true});\n",
       "}}\n",
       "\n",
       "                        })                };                });            </script>        </div>"
      ]
     },
     "metadata": {},
     "output_type": "display_data"
    }
   ],
   "source": [
    "fig = px.box(\n",
    "    classifmod1,\n",
    "    x=\"Model\",\n",
    "    y=\"Accuracy\",\n",
    "    color=\"Model\",\n",
    "    points=\"all\",\n",
    "    labels={\"Model\": \"Machine Learning Model\", \"Accuracy\": \"Accuracy\"},\n",
    "    title=\"Model Accuracy Performance\",\n",
    ")\n",
    "fig.show()\n",
    "fig.write_html(\"products/plots/stacked_train_accuracies.html\")"
   ]
  },
  {
   "cell_type": "markdown",
   "metadata": {},
   "source": [
    "## Visualize Train Set Weighted f1-Scores"
   ]
  },
  {
   "cell_type": "code",
   "execution_count": 160,
   "metadata": {},
   "outputs": [
    {
     "data": {
      "application/vnd.plotly.v1+json": {
       "config": {
        "plotlyServerURL": "https://plotly.com"
       },
       "data": [
        {
         "alignmentgroup": "True",
         "boxpoints": "all",
         "hovertemplate": "Machine Learning Model=%{x}<br>Weighted f1-Score=%{y}<extra></extra>",
         "legendgroup": "GNB",
         "marker": {
          "color": "#636efa"
         },
         "name": "GNB",
         "notched": false,
         "offsetgroup": "GNB",
         "orientation": "v",
         "showlegend": true,
         "type": "box",
         "x": [
          "GNB",
          "GNB",
          "GNB",
          "GNB",
          "GNB",
          "GNB",
          "GNB",
          "GNB",
          "GNB",
          "GNB"
         ],
         "x0": " ",
         "xaxis": "x",
         "y": [
          0.49021277923226114,
          0.48816174819698194,
          0.5016366850721734,
          0.4890656186573671,
          0.4937436255807292,
          0.4931294872578772,
          0.4949186105771983,
          0.4991549262764149,
          0.4883404620898014,
          0.4896592647365606
         ],
         "y0": " ",
         "yaxis": "y"
        },
        {
         "alignmentgroup": "True",
         "boxpoints": "all",
         "hovertemplate": "Machine Learning Model=%{x}<br>Weighted f1-Score=%{y}<extra></extra>",
         "legendgroup": "Tree",
         "marker": {
          "color": "#EF553B"
         },
         "name": "Tree",
         "notched": false,
         "offsetgroup": "Tree",
         "orientation": "v",
         "showlegend": true,
         "type": "box",
         "x": [
          "Tree",
          "Tree",
          "Tree",
          "Tree",
          "Tree",
          "Tree",
          "Tree",
          "Tree",
          "Tree",
          "Tree"
         ],
         "x0": " ",
         "xaxis": "x",
         "y": [
          0.49395591647842946,
          0.4913186019958329,
          0.49635265212463026,
          0.4936003617148166,
          0.49728753381826846,
          0.4915021325543078,
          0.4963355793833316,
          0.4923241383014452,
          0.4949583200031113,
          0.49293209331283633
         ],
         "y0": " ",
         "yaxis": "y"
        },
        {
         "alignmentgroup": "True",
         "boxpoints": "all",
         "hovertemplate": "Machine Learning Model=%{x}<br>Weighted f1-Score=%{y}<extra></extra>",
         "legendgroup": "XGB",
         "marker": {
          "color": "#00cc96"
         },
         "name": "XGB",
         "notched": false,
         "offsetgroup": "XGB",
         "orientation": "v",
         "showlegend": true,
         "type": "box",
         "x": [
          "XGB",
          "XGB",
          "XGB",
          "XGB",
          "XGB",
          "XGB",
          "XGB",
          "XGB",
          "XGB",
          "XGB"
         ],
         "x0": " ",
         "xaxis": "x",
         "y": [
          0.5559134871731306,
          0.5536083694618409,
          0.5512097489754343,
          0.5551107100753496,
          0.5516901629328173,
          0.5590246002838755,
          0.5580970876343704,
          0.5472750973416809,
          0.555179334886721,
          0.5469519120204224
         ],
         "y0": " ",
         "yaxis": "y"
        },
        {
         "alignmentgroup": "True",
         "boxpoints": "all",
         "hovertemplate": "Machine Learning Model=%{x}<br>Weighted f1-Score=%{y}<extra></extra>",
         "legendgroup": "Stacked Model",
         "marker": {
          "color": "#ab63fa"
         },
         "name": "Stacked Model",
         "notched": false,
         "offsetgroup": "Stacked Model",
         "orientation": "v",
         "showlegend": true,
         "type": "box",
         "x": [
          "Stacked Model",
          "Stacked Model",
          "Stacked Model",
          "Stacked Model",
          "Stacked Model",
          "Stacked Model",
          "Stacked Model",
          "Stacked Model",
          "Stacked Model",
          "Stacked Model"
         ],
         "x0": " ",
         "xaxis": "x",
         "y": [
          0.5078471990699265,
          0.5049234732497797,
          0.5069081786582854,
          0.5082227301871328,
          0.5082061631095763,
          0.5047138232159096,
          0.5086445787017143,
          0.5075823903883498,
          0.5086454103430422,
          0.5041613087296903
         ],
         "y0": " ",
         "yaxis": "y"
        }
       ],
       "layout": {
        "boxmode": "overlay",
        "legend": {
         "title": {
          "text": "Machine Learning Model"
         },
         "tracegroupgap": 0
        },
        "template": {
         "data": {
          "bar": [
           {
            "error_x": {
             "color": "#2a3f5f"
            },
            "error_y": {
             "color": "#2a3f5f"
            },
            "marker": {
             "line": {
              "color": "#E5ECF6",
              "width": 0.5
             },
             "pattern": {
              "fillmode": "overlay",
              "size": 10,
              "solidity": 0.2
             }
            },
            "type": "bar"
           }
          ],
          "barpolar": [
           {
            "marker": {
             "line": {
              "color": "#E5ECF6",
              "width": 0.5
             },
             "pattern": {
              "fillmode": "overlay",
              "size": 10,
              "solidity": 0.2
             }
            },
            "type": "barpolar"
           }
          ],
          "carpet": [
           {
            "aaxis": {
             "endlinecolor": "#2a3f5f",
             "gridcolor": "white",
             "linecolor": "white",
             "minorgridcolor": "white",
             "startlinecolor": "#2a3f5f"
            },
            "baxis": {
             "endlinecolor": "#2a3f5f",
             "gridcolor": "white",
             "linecolor": "white",
             "minorgridcolor": "white",
             "startlinecolor": "#2a3f5f"
            },
            "type": "carpet"
           }
          ],
          "choropleth": [
           {
            "colorbar": {
             "outlinewidth": 0,
             "ticks": ""
            },
            "type": "choropleth"
           }
          ],
          "contour": [
           {
            "colorbar": {
             "outlinewidth": 0,
             "ticks": ""
            },
            "colorscale": [
             [
              0,
              "#0d0887"
             ],
             [
              0.1111111111111111,
              "#46039f"
             ],
             [
              0.2222222222222222,
              "#7201a8"
             ],
             [
              0.3333333333333333,
              "#9c179e"
             ],
             [
              0.4444444444444444,
              "#bd3786"
             ],
             [
              0.5555555555555556,
              "#d8576b"
             ],
             [
              0.6666666666666666,
              "#ed7953"
             ],
             [
              0.7777777777777778,
              "#fb9f3a"
             ],
             [
              0.8888888888888888,
              "#fdca26"
             ],
             [
              1,
              "#f0f921"
             ]
            ],
            "type": "contour"
           }
          ],
          "contourcarpet": [
           {
            "colorbar": {
             "outlinewidth": 0,
             "ticks": ""
            },
            "type": "contourcarpet"
           }
          ],
          "heatmap": [
           {
            "colorbar": {
             "outlinewidth": 0,
             "ticks": ""
            },
            "colorscale": [
             [
              0,
              "#0d0887"
             ],
             [
              0.1111111111111111,
              "#46039f"
             ],
             [
              0.2222222222222222,
              "#7201a8"
             ],
             [
              0.3333333333333333,
              "#9c179e"
             ],
             [
              0.4444444444444444,
              "#bd3786"
             ],
             [
              0.5555555555555556,
              "#d8576b"
             ],
             [
              0.6666666666666666,
              "#ed7953"
             ],
             [
              0.7777777777777778,
              "#fb9f3a"
             ],
             [
              0.8888888888888888,
              "#fdca26"
             ],
             [
              1,
              "#f0f921"
             ]
            ],
            "type": "heatmap"
           }
          ],
          "heatmapgl": [
           {
            "colorbar": {
             "outlinewidth": 0,
             "ticks": ""
            },
            "colorscale": [
             [
              0,
              "#0d0887"
             ],
             [
              0.1111111111111111,
              "#46039f"
             ],
             [
              0.2222222222222222,
              "#7201a8"
             ],
             [
              0.3333333333333333,
              "#9c179e"
             ],
             [
              0.4444444444444444,
              "#bd3786"
             ],
             [
              0.5555555555555556,
              "#d8576b"
             ],
             [
              0.6666666666666666,
              "#ed7953"
             ],
             [
              0.7777777777777778,
              "#fb9f3a"
             ],
             [
              0.8888888888888888,
              "#fdca26"
             ],
             [
              1,
              "#f0f921"
             ]
            ],
            "type": "heatmapgl"
           }
          ],
          "histogram": [
           {
            "marker": {
             "pattern": {
              "fillmode": "overlay",
              "size": 10,
              "solidity": 0.2
             }
            },
            "type": "histogram"
           }
          ],
          "histogram2d": [
           {
            "colorbar": {
             "outlinewidth": 0,
             "ticks": ""
            },
            "colorscale": [
             [
              0,
              "#0d0887"
             ],
             [
              0.1111111111111111,
              "#46039f"
             ],
             [
              0.2222222222222222,
              "#7201a8"
             ],
             [
              0.3333333333333333,
              "#9c179e"
             ],
             [
              0.4444444444444444,
              "#bd3786"
             ],
             [
              0.5555555555555556,
              "#d8576b"
             ],
             [
              0.6666666666666666,
              "#ed7953"
             ],
             [
              0.7777777777777778,
              "#fb9f3a"
             ],
             [
              0.8888888888888888,
              "#fdca26"
             ],
             [
              1,
              "#f0f921"
             ]
            ],
            "type": "histogram2d"
           }
          ],
          "histogram2dcontour": [
           {
            "colorbar": {
             "outlinewidth": 0,
             "ticks": ""
            },
            "colorscale": [
             [
              0,
              "#0d0887"
             ],
             [
              0.1111111111111111,
              "#46039f"
             ],
             [
              0.2222222222222222,
              "#7201a8"
             ],
             [
              0.3333333333333333,
              "#9c179e"
             ],
             [
              0.4444444444444444,
              "#bd3786"
             ],
             [
              0.5555555555555556,
              "#d8576b"
             ],
             [
              0.6666666666666666,
              "#ed7953"
             ],
             [
              0.7777777777777778,
              "#fb9f3a"
             ],
             [
              0.8888888888888888,
              "#fdca26"
             ],
             [
              1,
              "#f0f921"
             ]
            ],
            "type": "histogram2dcontour"
           }
          ],
          "mesh3d": [
           {
            "colorbar": {
             "outlinewidth": 0,
             "ticks": ""
            },
            "type": "mesh3d"
           }
          ],
          "parcoords": [
           {
            "line": {
             "colorbar": {
              "outlinewidth": 0,
              "ticks": ""
             }
            },
            "type": "parcoords"
           }
          ],
          "pie": [
           {
            "automargin": true,
            "type": "pie"
           }
          ],
          "scatter": [
           {
            "fillpattern": {
             "fillmode": "overlay",
             "size": 10,
             "solidity": 0.2
            },
            "type": "scatter"
           }
          ],
          "scatter3d": [
           {
            "line": {
             "colorbar": {
              "outlinewidth": 0,
              "ticks": ""
             }
            },
            "marker": {
             "colorbar": {
              "outlinewidth": 0,
              "ticks": ""
             }
            },
            "type": "scatter3d"
           }
          ],
          "scattercarpet": [
           {
            "marker": {
             "colorbar": {
              "outlinewidth": 0,
              "ticks": ""
             }
            },
            "type": "scattercarpet"
           }
          ],
          "scattergeo": [
           {
            "marker": {
             "colorbar": {
              "outlinewidth": 0,
              "ticks": ""
             }
            },
            "type": "scattergeo"
           }
          ],
          "scattergl": [
           {
            "marker": {
             "colorbar": {
              "outlinewidth": 0,
              "ticks": ""
             }
            },
            "type": "scattergl"
           }
          ],
          "scattermapbox": [
           {
            "marker": {
             "colorbar": {
              "outlinewidth": 0,
              "ticks": ""
             }
            },
            "type": "scattermapbox"
           }
          ],
          "scatterpolar": [
           {
            "marker": {
             "colorbar": {
              "outlinewidth": 0,
              "ticks": ""
             }
            },
            "type": "scatterpolar"
           }
          ],
          "scatterpolargl": [
           {
            "marker": {
             "colorbar": {
              "outlinewidth": 0,
              "ticks": ""
             }
            },
            "type": "scatterpolargl"
           }
          ],
          "scatterternary": [
           {
            "marker": {
             "colorbar": {
              "outlinewidth": 0,
              "ticks": ""
             }
            },
            "type": "scatterternary"
           }
          ],
          "surface": [
           {
            "colorbar": {
             "outlinewidth": 0,
             "ticks": ""
            },
            "colorscale": [
             [
              0,
              "#0d0887"
             ],
             [
              0.1111111111111111,
              "#46039f"
             ],
             [
              0.2222222222222222,
              "#7201a8"
             ],
             [
              0.3333333333333333,
              "#9c179e"
             ],
             [
              0.4444444444444444,
              "#bd3786"
             ],
             [
              0.5555555555555556,
              "#d8576b"
             ],
             [
              0.6666666666666666,
              "#ed7953"
             ],
             [
              0.7777777777777778,
              "#fb9f3a"
             ],
             [
              0.8888888888888888,
              "#fdca26"
             ],
             [
              1,
              "#f0f921"
             ]
            ],
            "type": "surface"
           }
          ],
          "table": [
           {
            "cells": {
             "fill": {
              "color": "#EBF0F8"
             },
             "line": {
              "color": "white"
             }
            },
            "header": {
             "fill": {
              "color": "#C8D4E3"
             },
             "line": {
              "color": "white"
             }
            },
            "type": "table"
           }
          ]
         },
         "layout": {
          "annotationdefaults": {
           "arrowcolor": "#2a3f5f",
           "arrowhead": 0,
           "arrowwidth": 1
          },
          "autotypenumbers": "strict",
          "coloraxis": {
           "colorbar": {
            "outlinewidth": 0,
            "ticks": ""
           }
          },
          "colorscale": {
           "diverging": [
            [
             0,
             "#8e0152"
            ],
            [
             0.1,
             "#c51b7d"
            ],
            [
             0.2,
             "#de77ae"
            ],
            [
             0.3,
             "#f1b6da"
            ],
            [
             0.4,
             "#fde0ef"
            ],
            [
             0.5,
             "#f7f7f7"
            ],
            [
             0.6,
             "#e6f5d0"
            ],
            [
             0.7,
             "#b8e186"
            ],
            [
             0.8,
             "#7fbc41"
            ],
            [
             0.9,
             "#4d9221"
            ],
            [
             1,
             "#276419"
            ]
           ],
           "sequential": [
            [
             0,
             "#0d0887"
            ],
            [
             0.1111111111111111,
             "#46039f"
            ],
            [
             0.2222222222222222,
             "#7201a8"
            ],
            [
             0.3333333333333333,
             "#9c179e"
            ],
            [
             0.4444444444444444,
             "#bd3786"
            ],
            [
             0.5555555555555556,
             "#d8576b"
            ],
            [
             0.6666666666666666,
             "#ed7953"
            ],
            [
             0.7777777777777778,
             "#fb9f3a"
            ],
            [
             0.8888888888888888,
             "#fdca26"
            ],
            [
             1,
             "#f0f921"
            ]
           ],
           "sequentialminus": [
            [
             0,
             "#0d0887"
            ],
            [
             0.1111111111111111,
             "#46039f"
            ],
            [
             0.2222222222222222,
             "#7201a8"
            ],
            [
             0.3333333333333333,
             "#9c179e"
            ],
            [
             0.4444444444444444,
             "#bd3786"
            ],
            [
             0.5555555555555556,
             "#d8576b"
            ],
            [
             0.6666666666666666,
             "#ed7953"
            ],
            [
             0.7777777777777778,
             "#fb9f3a"
            ],
            [
             0.8888888888888888,
             "#fdca26"
            ],
            [
             1,
             "#f0f921"
            ]
           ]
          },
          "colorway": [
           "#636efa",
           "#EF553B",
           "#00cc96",
           "#ab63fa",
           "#FFA15A",
           "#19d3f3",
           "#FF6692",
           "#B6E880",
           "#FF97FF",
           "#FECB52"
          ],
          "font": {
           "color": "#2a3f5f"
          },
          "geo": {
           "bgcolor": "white",
           "lakecolor": "white",
           "landcolor": "#E5ECF6",
           "showlakes": true,
           "showland": true,
           "subunitcolor": "white"
          },
          "hoverlabel": {
           "align": "left"
          },
          "hovermode": "closest",
          "mapbox": {
           "style": "light"
          },
          "paper_bgcolor": "white",
          "plot_bgcolor": "#E5ECF6",
          "polar": {
           "angularaxis": {
            "gridcolor": "white",
            "linecolor": "white",
            "ticks": ""
           },
           "bgcolor": "#E5ECF6",
           "radialaxis": {
            "gridcolor": "white",
            "linecolor": "white",
            "ticks": ""
           }
          },
          "scene": {
           "xaxis": {
            "backgroundcolor": "#E5ECF6",
            "gridcolor": "white",
            "gridwidth": 2,
            "linecolor": "white",
            "showbackground": true,
            "ticks": "",
            "zerolinecolor": "white"
           },
           "yaxis": {
            "backgroundcolor": "#E5ECF6",
            "gridcolor": "white",
            "gridwidth": 2,
            "linecolor": "white",
            "showbackground": true,
            "ticks": "",
            "zerolinecolor": "white"
           },
           "zaxis": {
            "backgroundcolor": "#E5ECF6",
            "gridcolor": "white",
            "gridwidth": 2,
            "linecolor": "white",
            "showbackground": true,
            "ticks": "",
            "zerolinecolor": "white"
           }
          },
          "shapedefaults": {
           "line": {
            "color": "#2a3f5f"
           }
          },
          "ternary": {
           "aaxis": {
            "gridcolor": "white",
            "linecolor": "white",
            "ticks": ""
           },
           "baxis": {
            "gridcolor": "white",
            "linecolor": "white",
            "ticks": ""
           },
           "bgcolor": "#E5ECF6",
           "caxis": {
            "gridcolor": "white",
            "linecolor": "white",
            "ticks": ""
           }
          },
          "title": {
           "x": 0.05
          },
          "xaxis": {
           "automargin": true,
           "gridcolor": "white",
           "linecolor": "white",
           "ticks": "",
           "title": {
            "standoff": 15
           },
           "zerolinecolor": "white",
           "zerolinewidth": 2
          },
          "yaxis": {
           "automargin": true,
           "gridcolor": "white",
           "linecolor": "white",
           "ticks": "",
           "title": {
            "standoff": 15
           },
           "zerolinecolor": "white",
           "zerolinewidth": 2
          }
         }
        },
        "title": {
         "text": "Model Weighted f1-Score Performance"
        },
        "xaxis": {
         "anchor": "y",
         "categoryarray": [
          "GNB",
          "Tree",
          "XGB",
          "Stacked Model"
         ],
         "categoryorder": "array",
         "domain": [
          0,
          1
         ],
         "title": {
          "text": "Machine Learning Model"
         }
        },
        "yaxis": {
         "anchor": "x",
         "domain": [
          0,
          1
         ],
         "title": {
          "text": "Weighted f1-Score"
         }
        }
       }
      },
      "text/html": [
       "<div>                            <div id=\"4cdf09a7-77a3-4c4b-81e1-4e420b918932\" class=\"plotly-graph-div\" style=\"height:525px; width:100%;\"></div>            <script type=\"text/javascript\">                require([\"plotly\"], function(Plotly) {                    window.PLOTLYENV=window.PLOTLYENV || {};                                    if (document.getElementById(\"4cdf09a7-77a3-4c4b-81e1-4e420b918932\")) {                    Plotly.newPlot(                        \"4cdf09a7-77a3-4c4b-81e1-4e420b918932\",                        [{\"alignmentgroup\":\"True\",\"boxpoints\":\"all\",\"hovertemplate\":\"Machine Learning Model=%{x}<br>Weighted f1-Score=%{y}<extra></extra>\",\"legendgroup\":\"GNB\",\"marker\":{\"color\":\"#636efa\"},\"name\":\"GNB\",\"notched\":false,\"offsetgroup\":\"GNB\",\"orientation\":\"v\",\"showlegend\":true,\"x\":[\"GNB\",\"GNB\",\"GNB\",\"GNB\",\"GNB\",\"GNB\",\"GNB\",\"GNB\",\"GNB\",\"GNB\"],\"x0\":\" \",\"xaxis\":\"x\",\"y\":[0.49021277923226114,0.48816174819698194,0.5016366850721734,0.4890656186573671,0.4937436255807292,0.4931294872578772,0.4949186105771983,0.4991549262764149,0.4883404620898014,0.4896592647365606],\"y0\":\" \",\"yaxis\":\"y\",\"type\":\"box\"},{\"alignmentgroup\":\"True\",\"boxpoints\":\"all\",\"hovertemplate\":\"Machine Learning Model=%{x}<br>Weighted f1-Score=%{y}<extra></extra>\",\"legendgroup\":\"Tree\",\"marker\":{\"color\":\"#EF553B\"},\"name\":\"Tree\",\"notched\":false,\"offsetgroup\":\"Tree\",\"orientation\":\"v\",\"showlegend\":true,\"x\":[\"Tree\",\"Tree\",\"Tree\",\"Tree\",\"Tree\",\"Tree\",\"Tree\",\"Tree\",\"Tree\",\"Tree\"],\"x0\":\" \",\"xaxis\":\"x\",\"y\":[0.49395591647842946,0.4913186019958329,0.49635265212463026,0.4936003617148166,0.49728753381826846,0.4915021325543078,0.4963355793833316,0.4923241383014452,0.4949583200031113,0.49293209331283633],\"y0\":\" \",\"yaxis\":\"y\",\"type\":\"box\"},{\"alignmentgroup\":\"True\",\"boxpoints\":\"all\",\"hovertemplate\":\"Machine Learning Model=%{x}<br>Weighted f1-Score=%{y}<extra></extra>\",\"legendgroup\":\"XGB\",\"marker\":{\"color\":\"#00cc96\"},\"name\":\"XGB\",\"notched\":false,\"offsetgroup\":\"XGB\",\"orientation\":\"v\",\"showlegend\":true,\"x\":[\"XGB\",\"XGB\",\"XGB\",\"XGB\",\"XGB\",\"XGB\",\"XGB\",\"XGB\",\"XGB\",\"XGB\"],\"x0\":\" \",\"xaxis\":\"x\",\"y\":[0.5559134871731306,0.5536083694618409,0.5512097489754343,0.5551107100753496,0.5516901629328173,0.5590246002838755,0.5580970876343704,0.5472750973416809,0.555179334886721,0.5469519120204224],\"y0\":\" \",\"yaxis\":\"y\",\"type\":\"box\"},{\"alignmentgroup\":\"True\",\"boxpoints\":\"all\",\"hovertemplate\":\"Machine Learning Model=%{x}<br>Weighted f1-Score=%{y}<extra></extra>\",\"legendgroup\":\"Stacked Model\",\"marker\":{\"color\":\"#ab63fa\"},\"name\":\"Stacked Model\",\"notched\":false,\"offsetgroup\":\"Stacked Model\",\"orientation\":\"v\",\"showlegend\":true,\"x\":[\"Stacked Model\",\"Stacked Model\",\"Stacked Model\",\"Stacked Model\",\"Stacked Model\",\"Stacked Model\",\"Stacked Model\",\"Stacked Model\",\"Stacked Model\",\"Stacked Model\"],\"x0\":\" \",\"xaxis\":\"x\",\"y\":[0.5078471990699265,0.5049234732497797,0.5069081786582854,0.5082227301871328,0.5082061631095763,0.5047138232159096,0.5086445787017143,0.5075823903883498,0.5086454103430422,0.5041613087296903],\"y0\":\" \",\"yaxis\":\"y\",\"type\":\"box\"}],                        {\"template\":{\"data\":{\"histogram2dcontour\":[{\"type\":\"histogram2dcontour\",\"colorbar\":{\"outlinewidth\":0,\"ticks\":\"\"},\"colorscale\":[[0.0,\"#0d0887\"],[0.1111111111111111,\"#46039f\"],[0.2222222222222222,\"#7201a8\"],[0.3333333333333333,\"#9c179e\"],[0.4444444444444444,\"#bd3786\"],[0.5555555555555556,\"#d8576b\"],[0.6666666666666666,\"#ed7953\"],[0.7777777777777778,\"#fb9f3a\"],[0.8888888888888888,\"#fdca26\"],[1.0,\"#f0f921\"]]}],\"choropleth\":[{\"type\":\"choropleth\",\"colorbar\":{\"outlinewidth\":0,\"ticks\":\"\"}}],\"histogram2d\":[{\"type\":\"histogram2d\",\"colorbar\":{\"outlinewidth\":0,\"ticks\":\"\"},\"colorscale\":[[0.0,\"#0d0887\"],[0.1111111111111111,\"#46039f\"],[0.2222222222222222,\"#7201a8\"],[0.3333333333333333,\"#9c179e\"],[0.4444444444444444,\"#bd3786\"],[0.5555555555555556,\"#d8576b\"],[0.6666666666666666,\"#ed7953\"],[0.7777777777777778,\"#fb9f3a\"],[0.8888888888888888,\"#fdca26\"],[1.0,\"#f0f921\"]]}],\"heatmap\":[{\"type\":\"heatmap\",\"colorbar\":{\"outlinewidth\":0,\"ticks\":\"\"},\"colorscale\":[[0.0,\"#0d0887\"],[0.1111111111111111,\"#46039f\"],[0.2222222222222222,\"#7201a8\"],[0.3333333333333333,\"#9c179e\"],[0.4444444444444444,\"#bd3786\"],[0.5555555555555556,\"#d8576b\"],[0.6666666666666666,\"#ed7953\"],[0.7777777777777778,\"#fb9f3a\"],[0.8888888888888888,\"#fdca26\"],[1.0,\"#f0f921\"]]}],\"heatmapgl\":[{\"type\":\"heatmapgl\",\"colorbar\":{\"outlinewidth\":0,\"ticks\":\"\"},\"colorscale\":[[0.0,\"#0d0887\"],[0.1111111111111111,\"#46039f\"],[0.2222222222222222,\"#7201a8\"],[0.3333333333333333,\"#9c179e\"],[0.4444444444444444,\"#bd3786\"],[0.5555555555555556,\"#d8576b\"],[0.6666666666666666,\"#ed7953\"],[0.7777777777777778,\"#fb9f3a\"],[0.8888888888888888,\"#fdca26\"],[1.0,\"#f0f921\"]]}],\"contourcarpet\":[{\"type\":\"contourcarpet\",\"colorbar\":{\"outlinewidth\":0,\"ticks\":\"\"}}],\"contour\":[{\"type\":\"contour\",\"colorbar\":{\"outlinewidth\":0,\"ticks\":\"\"},\"colorscale\":[[0.0,\"#0d0887\"],[0.1111111111111111,\"#46039f\"],[0.2222222222222222,\"#7201a8\"],[0.3333333333333333,\"#9c179e\"],[0.4444444444444444,\"#bd3786\"],[0.5555555555555556,\"#d8576b\"],[0.6666666666666666,\"#ed7953\"],[0.7777777777777778,\"#fb9f3a\"],[0.8888888888888888,\"#fdca26\"],[1.0,\"#f0f921\"]]}],\"surface\":[{\"type\":\"surface\",\"colorbar\":{\"outlinewidth\":0,\"ticks\":\"\"},\"colorscale\":[[0.0,\"#0d0887\"],[0.1111111111111111,\"#46039f\"],[0.2222222222222222,\"#7201a8\"],[0.3333333333333333,\"#9c179e\"],[0.4444444444444444,\"#bd3786\"],[0.5555555555555556,\"#d8576b\"],[0.6666666666666666,\"#ed7953\"],[0.7777777777777778,\"#fb9f3a\"],[0.8888888888888888,\"#fdca26\"],[1.0,\"#f0f921\"]]}],\"mesh3d\":[{\"type\":\"mesh3d\",\"colorbar\":{\"outlinewidth\":0,\"ticks\":\"\"}}],\"scatter\":[{\"fillpattern\":{\"fillmode\":\"overlay\",\"size\":10,\"solidity\":0.2},\"type\":\"scatter\"}],\"parcoords\":[{\"type\":\"parcoords\",\"line\":{\"colorbar\":{\"outlinewidth\":0,\"ticks\":\"\"}}}],\"scatterpolargl\":[{\"type\":\"scatterpolargl\",\"marker\":{\"colorbar\":{\"outlinewidth\":0,\"ticks\":\"\"}}}],\"bar\":[{\"error_x\":{\"color\":\"#2a3f5f\"},\"error_y\":{\"color\":\"#2a3f5f\"},\"marker\":{\"line\":{\"color\":\"#E5ECF6\",\"width\":0.5},\"pattern\":{\"fillmode\":\"overlay\",\"size\":10,\"solidity\":0.2}},\"type\":\"bar\"}],\"scattergeo\":[{\"type\":\"scattergeo\",\"marker\":{\"colorbar\":{\"outlinewidth\":0,\"ticks\":\"\"}}}],\"scatterpolar\":[{\"type\":\"scatterpolar\",\"marker\":{\"colorbar\":{\"outlinewidth\":0,\"ticks\":\"\"}}}],\"histogram\":[{\"marker\":{\"pattern\":{\"fillmode\":\"overlay\",\"size\":10,\"solidity\":0.2}},\"type\":\"histogram\"}],\"scattergl\":[{\"type\":\"scattergl\",\"marker\":{\"colorbar\":{\"outlinewidth\":0,\"ticks\":\"\"}}}],\"scatter3d\":[{\"type\":\"scatter3d\",\"line\":{\"colorbar\":{\"outlinewidth\":0,\"ticks\":\"\"}},\"marker\":{\"colorbar\":{\"outlinewidth\":0,\"ticks\":\"\"}}}],\"scattermapbox\":[{\"type\":\"scattermapbox\",\"marker\":{\"colorbar\":{\"outlinewidth\":0,\"ticks\":\"\"}}}],\"scatterternary\":[{\"type\":\"scatterternary\",\"marker\":{\"colorbar\":{\"outlinewidth\":0,\"ticks\":\"\"}}}],\"scattercarpet\":[{\"type\":\"scattercarpet\",\"marker\":{\"colorbar\":{\"outlinewidth\":0,\"ticks\":\"\"}}}],\"carpet\":[{\"aaxis\":{\"endlinecolor\":\"#2a3f5f\",\"gridcolor\":\"white\",\"linecolor\":\"white\",\"minorgridcolor\":\"white\",\"startlinecolor\":\"#2a3f5f\"},\"baxis\":{\"endlinecolor\":\"#2a3f5f\",\"gridcolor\":\"white\",\"linecolor\":\"white\",\"minorgridcolor\":\"white\",\"startlinecolor\":\"#2a3f5f\"},\"type\":\"carpet\"}],\"table\":[{\"cells\":{\"fill\":{\"color\":\"#EBF0F8\"},\"line\":{\"color\":\"white\"}},\"header\":{\"fill\":{\"color\":\"#C8D4E3\"},\"line\":{\"color\":\"white\"}},\"type\":\"table\"}],\"barpolar\":[{\"marker\":{\"line\":{\"color\":\"#E5ECF6\",\"width\":0.5},\"pattern\":{\"fillmode\":\"overlay\",\"size\":10,\"solidity\":0.2}},\"type\":\"barpolar\"}],\"pie\":[{\"automargin\":true,\"type\":\"pie\"}]},\"layout\":{\"autotypenumbers\":\"strict\",\"colorway\":[\"#636efa\",\"#EF553B\",\"#00cc96\",\"#ab63fa\",\"#FFA15A\",\"#19d3f3\",\"#FF6692\",\"#B6E880\",\"#FF97FF\",\"#FECB52\"],\"font\":{\"color\":\"#2a3f5f\"},\"hovermode\":\"closest\",\"hoverlabel\":{\"align\":\"left\"},\"paper_bgcolor\":\"white\",\"plot_bgcolor\":\"#E5ECF6\",\"polar\":{\"bgcolor\":\"#E5ECF6\",\"angularaxis\":{\"gridcolor\":\"white\",\"linecolor\":\"white\",\"ticks\":\"\"},\"radialaxis\":{\"gridcolor\":\"white\",\"linecolor\":\"white\",\"ticks\":\"\"}},\"ternary\":{\"bgcolor\":\"#E5ECF6\",\"aaxis\":{\"gridcolor\":\"white\",\"linecolor\":\"white\",\"ticks\":\"\"},\"baxis\":{\"gridcolor\":\"white\",\"linecolor\":\"white\",\"ticks\":\"\"},\"caxis\":{\"gridcolor\":\"white\",\"linecolor\":\"white\",\"ticks\":\"\"}},\"coloraxis\":{\"colorbar\":{\"outlinewidth\":0,\"ticks\":\"\"}},\"colorscale\":{\"sequential\":[[0.0,\"#0d0887\"],[0.1111111111111111,\"#46039f\"],[0.2222222222222222,\"#7201a8\"],[0.3333333333333333,\"#9c179e\"],[0.4444444444444444,\"#bd3786\"],[0.5555555555555556,\"#d8576b\"],[0.6666666666666666,\"#ed7953\"],[0.7777777777777778,\"#fb9f3a\"],[0.8888888888888888,\"#fdca26\"],[1.0,\"#f0f921\"]],\"sequentialminus\":[[0.0,\"#0d0887\"],[0.1111111111111111,\"#46039f\"],[0.2222222222222222,\"#7201a8\"],[0.3333333333333333,\"#9c179e\"],[0.4444444444444444,\"#bd3786\"],[0.5555555555555556,\"#d8576b\"],[0.6666666666666666,\"#ed7953\"],[0.7777777777777778,\"#fb9f3a\"],[0.8888888888888888,\"#fdca26\"],[1.0,\"#f0f921\"]],\"diverging\":[[0,\"#8e0152\"],[0.1,\"#c51b7d\"],[0.2,\"#de77ae\"],[0.3,\"#f1b6da\"],[0.4,\"#fde0ef\"],[0.5,\"#f7f7f7\"],[0.6,\"#e6f5d0\"],[0.7,\"#b8e186\"],[0.8,\"#7fbc41\"],[0.9,\"#4d9221\"],[1,\"#276419\"]]},\"xaxis\":{\"gridcolor\":\"white\",\"linecolor\":\"white\",\"ticks\":\"\",\"title\":{\"standoff\":15},\"zerolinecolor\":\"white\",\"automargin\":true,\"zerolinewidth\":2},\"yaxis\":{\"gridcolor\":\"white\",\"linecolor\":\"white\",\"ticks\":\"\",\"title\":{\"standoff\":15},\"zerolinecolor\":\"white\",\"automargin\":true,\"zerolinewidth\":2},\"scene\":{\"xaxis\":{\"backgroundcolor\":\"#E5ECF6\",\"gridcolor\":\"white\",\"linecolor\":\"white\",\"showbackground\":true,\"ticks\":\"\",\"zerolinecolor\":\"white\",\"gridwidth\":2},\"yaxis\":{\"backgroundcolor\":\"#E5ECF6\",\"gridcolor\":\"white\",\"linecolor\":\"white\",\"showbackground\":true,\"ticks\":\"\",\"zerolinecolor\":\"white\",\"gridwidth\":2},\"zaxis\":{\"backgroundcolor\":\"#E5ECF6\",\"gridcolor\":\"white\",\"linecolor\":\"white\",\"showbackground\":true,\"ticks\":\"\",\"zerolinecolor\":\"white\",\"gridwidth\":2}},\"shapedefaults\":{\"line\":{\"color\":\"#2a3f5f\"}},\"annotationdefaults\":{\"arrowcolor\":\"#2a3f5f\",\"arrowhead\":0,\"arrowwidth\":1},\"geo\":{\"bgcolor\":\"white\",\"landcolor\":\"#E5ECF6\",\"subunitcolor\":\"white\",\"showland\":true,\"showlakes\":true,\"lakecolor\":\"white\"},\"title\":{\"x\":0.05},\"mapbox\":{\"style\":\"light\"}}},\"xaxis\":{\"anchor\":\"y\",\"domain\":[0.0,1.0],\"title\":{\"text\":\"Machine Learning Model\"},\"categoryorder\":\"array\",\"categoryarray\":[\"GNB\",\"Tree\",\"XGB\",\"Stacked Model\"]},\"yaxis\":{\"anchor\":\"x\",\"domain\":[0.0,1.0],\"title\":{\"text\":\"Weighted f1-Score\"}},\"legend\":{\"title\":{\"text\":\"Machine Learning Model\"},\"tracegroupgap\":0},\"title\":{\"text\":\"Model Weighted f1-Score Performance\"},\"boxmode\":\"overlay\"},                        {\"responsive\": true}                    ).then(function(){\n",
       "                            \n",
       "var gd = document.getElementById('4cdf09a7-77a3-4c4b-81e1-4e420b918932');\n",
       "var x = new MutationObserver(function (mutations, observer) {{\n",
       "        var display = window.getComputedStyle(gd).display;\n",
       "        if (!display || display === 'none') {{\n",
       "            console.log([gd, 'removed!']);\n",
       "            Plotly.purge(gd);\n",
       "            observer.disconnect();\n",
       "        }}\n",
       "}});\n",
       "\n",
       "// Listen for the removal of the full notebook cells\n",
       "var notebookContainer = gd.closest('#notebook-container');\n",
       "if (notebookContainer) {{\n",
       "    x.observe(notebookContainer, {childList: true});\n",
       "}}\n",
       "\n",
       "// Listen for the clearing of the current output cell\n",
       "var outputEl = gd.closest('.output');\n",
       "if (outputEl) {{\n",
       "    x.observe(outputEl, {childList: true});\n",
       "}}\n",
       "\n",
       "                        })                };                });            </script>        </div>"
      ]
     },
     "metadata": {},
     "output_type": "display_data"
    }
   ],
   "source": [
    "fig = px.box(\n",
    "    classifmod1,\n",
    "    x=\"Model\",\n",
    "    y=\"Weighted_F1\",\n",
    "    color=\"Model\",\n",
    "    points=\"all\",\n",
    "    labels={\"Model\": \"Machine Learning Model\", \"Weighted_F1\": \"Weighted f1-Score\"},\n",
    "    title=\"Model Weighted f1-Score Performance\",\n",
    ")\n",
    "fig.show()\n",
    "fig.write_html(\"products/plots/stacked_train_weighted_f1.html\")"
   ]
  },
  {
   "cell_type": "markdown",
   "metadata": {},
   "source": [
    "## Pickle Stacked Classifier"
   ]
  },
  {
   "cell_type": "code",
   "execution_count": 147,
   "metadata": {},
   "outputs": [
    {
     "name": "stdout",
     "output_type": "stream",
     "text": [
      "Test score: 61.12 %\n"
     ]
    }
   ],
   "source": [
    "import pickle\n",
    "\n",
    "level0 = list()\n",
    "level0.append((\"GNB\", GaussianNB()))\n",
    "level0.append((\"Tree\", DecisionTreeClassifier()))\n",
    "level1 = XGBClassifier(verbosity=0)\n",
    "model = StackingClassifier(estimators=level0, final_estimator=level1, cv=5)\n",
    "model.fit(X_train, y_train)\n",
    "\n",
    "# Save to file in the current working directory\n",
    "pkl_filename = \"products/pickle_files/stacked.pkl\"\n",
    "with open(pkl_filename, \"wb\") as file:\n",
    "    pickle.dump(model, file)\n",
    "\n",
    "# Load from file\n",
    "with open(pkl_filename, \"rb\") as file:\n",
    "    pickle_model = pickle.load(file)\n",
    "    score = pickle_model.score(X_test, y_test)\n",
    "    print(\"Test score: {0:.2f} %\".format(100 * score))\n",
    "    Y_predict = pickle_model.predict(X_test)"
   ]
  },
  {
   "cell_type": "markdown",
   "metadata": {},
   "source": [
    "## Test Set Confusion Matrix for Stacked Classifier"
   ]
  },
  {
   "cell_type": "code",
   "execution_count": 149,
   "metadata": {},
   "outputs": [
    {
     "data": {
      "image/png": "[encoded data removed]",
      "text/plain": [
       "<Figure size 640x480 with 2 Axes>"
      ]
     },
     "metadata": {},
     "output_type": "display_data"
    }
   ],
   "source": [
    "from sklearn.metrics import ConfusionMatrixDisplay\n",
    "from seaborn import set_palette\n",
    "\n",
    "conf_matrix = confusion_matrix(y_test, Y_predict)\n",
    "disp = ConfusionMatrixDisplay(\n",
    "    confusion_matrix=conf_matrix,\n",
    "    display_labels=[\"Extras\", \"Dot\", \"Runs\", \"Wicket\"],\n",
    ")\n",
    "\n",
    "# save the plot\n",
    "\n",
    "disp.plot(cmap=\"YlGnBu\", values_format=\"d\", ax=None)\n",
    "plt.title(\n",
    "    \"Test Set Confusion Matrix for Stacked Classifier\",\n",
    "    fontsize=15,\n",
    "    color=\"#336699\",\n",
    "    loc=\"center\",\n",
    ")\n",
    "plt.savefig(\"products/plots/confusion_matrix_stacked.png\")"
   ]
  },
  {
   "cell_type": "markdown",
   "metadata": {},
   "source": [
    "# XGBoost, Naive Bayes, Tree Pickle Files for Deployment"
   ]
  },
  {
   "cell_type": "markdown",
   "metadata": {},
   "source": [
    "## Preprocess Training Data Only "
   ]
  },
  {
   "cell_type": "code",
   "execution_count": null,
   "metadata": {},
   "outputs": [],
   "source": [
    "# split the dataset into train and test sets by season\n",
    "train = df\n",
    "\n",
    "# drop `season` column from train and test sets\n",
    "train.drop(labels=\"season\", axis=1, inplace=True)\n",
    "\n",
    "encoded_df_train = pd.get_dummies(\n",
    "    data=train,\n",
    "    columns=[\n",
    "        \"match_type\",\n",
    "        \"venue\",\n",
    "        \"inning\",\n",
    "        \"batting_team\",\n",
    "        \"bowling_team\",\n",
    "        \"batsman\",\n",
    "        \"non_striker\",\n",
    "        \"bowler_type\",\n",
    "        \"ball_length\",\n",
    "    ],\n",
    ")\n",
    "\n",
    "encoded_df_train = encoded_df_train[\n",
    "    [\n",
    "        \"ball\",\n",
    "        \"wickets\",\n",
    "        \"cumulative_runs\",\n",
    "        \"match_type_playoffs\",\n",
    "        \"match_type_round-robin\",\n",
    "        \"venue_Ahmedabad\",\n",
    "        \"venue_Bangalore\",\n",
    "        \"venue_Chennai\",\n",
    "        \"venue_Cuttack\",\n",
    "        \"venue_Delhi\",\n",
    "        \"venue_Dharamsala\",\n",
    "        \"venue_Hyderabad\",\n",
    "        \"venue_Indore\",\n",
    "        \"venue_Kolkata\",\n",
    "        \"venue_Mohali\",\n",
    "        \"venue_Mumbai\",\n",
    "        \"venue_Nagpur\",\n",
    "        \"venue_Pune\",\n",
    "        \"venue_Raipur\",\n",
    "        \"venue_Rajasthan\",\n",
    "        \"venue_Ranchi\",\n",
    "        \"venue_Visakhapatnam\",\n",
    "        \"inning_1\",\n",
    "        \"inning_2\",\n",
    "        \"batting_team_Chennai Super Kings\",\n",
    "        \"batting_team_Delhi Capitals\",\n",
    "        \"batting_team_Kings XI Punjab\",\n",
    "        \"batting_team_Kolkata Knight Riders\",\n",
    "        \"batting_team_Mumbai Indians\",\n",
    "        \"batting_team_Rajasthan Royals\",\n",
    "        \"batting_team_Royal Challengers Bangalore\",\n",
    "        \"batting_team_Sunrisers Hyderabad\",\n",
    "        \"bowling_team_Chennai Super Kings\",\n",
    "        \"bowling_team_Delhi Capitals\",\n",
    "        \"bowling_team_Kings XI Punjab\",\n",
    "        \"bowling_team_Kolkata Knight Riders\",\n",
    "        \"bowling_team_Mumbai Indians\",\n",
    "        \"bowling_team_Rajasthan Royals\",\n",
    "        \"bowling_team_Royal Challengers Bangalore\",\n",
    "        \"bowling_team_Sunrisers Hyderabad\",\n",
    "        \"batsman_top\",\n",
    "        \"batsman_middle\",\n",
    "        \"batsman_tail\",\n",
    "        \"non_striker_middle\",\n",
    "        \"non_striker_tail\",\n",
    "        \"non_striker_top\",\n",
    "        \"bowler_type_pacer\",\n",
    "        \"bowler_type_spinner\",\n",
    "        \"ball_length_Unknown\",\n",
    "        \"ball_length_full\",\n",
    "        \"ball_length_full toss\",\n",
    "        \"ball_length_good\",\n",
    "        \"ball_length_short\",\n",
    "        \"ball_length_yorker\",\n",
    "        \"event\",\n",
    "    ]\n",
    "]\n",
    "\n",
    "X_train = encoded_df_train.iloc[:, :-1].values\n",
    "\n",
    "y_train = encoded_df_train.iloc[:, -1].values\n",
    "\n",
    "encoder = LabelEncoder()\n",
    "\n",
    "y_train = encoder.fit_transform(y_train)\n",
    "\n",
    "y_train = y_train.reshape(\n",
    "    len(y_train),\n",
    ")"
   ]
  },
  {
   "cell_type": "markdown",
   "metadata": {},
   "source": [
    "## Perform `RepeatedKFold` Classification Routine"
   ]
  },
  {
   "cell_type": "code",
   "execution_count": null,
   "metadata": {},
   "outputs": [],
   "source": [
    "%%time\n",
    "\n",
    "from sklearn.exceptions import ConvergenceWarning\n",
    "from sklearn.exceptions import DataConversionWarning\n",
    "from tqdm import tqdm  # Import tqdm\n",
    "# Assuming other necessary imports like LogisticRegression, DecisionTreeClassifier, etc., are already made\n",
    "\n",
    "ConvergenceWarning('ignore')\n",
    "warnings.filterwarnings(action='ignore', category=DataConversionWarning)\n",
    "\n",
    "def base_models():\n",
    "    models = dict()\n",
    "    models[\"Tree\"] = DecisionTreeClassifier()\n",
    "    models[\"GNB\"] = GaussianNB()\n",
    "    models[\"XGB\"] = XGBClassifier(verbosity=0)\n",
    "    return models\n",
    "\n",
    "# Function to evaluate the list of models\n",
    "def eval_models(model):\n",
    "    cv = RepeatedKFold(n_splits=5, n_repeats=2, random_state=1)\n",
    "    accuracy = cross_val_score(model, X_train, y_train, scoring='accuracy', cv=cv, n_jobs=-1, error_score='raise')\n",
    "    weighted_f1 = cross_val_score(model, X_train, y_train, scoring='f1_weighted', cv=cv, n_jobs=-1, error_score='raise')\n",
    "    return accuracy, weighted_f1\n",
    "\n",
    "models = base_models()\n",
    "\n",
    "# evaluate the models and store results\n",
    "results = {}\n",
    "names = list()\n",
    "accuracies = []\n",
    "weighted_f1s = []\n",
    "\n",
    "final_models = {}  # Create a dictionary to store the fitted models\n",
    "\n",
    "for name, model in tqdm(models.items()):  # Wrap models.items() with tqdm to get a progress bar\n",
    "    accuracy, weighted_f1 = eval_models(model)\n",
    "    accuracies.extend(accuracy)\n",
    "    weighted_f1s.extend(weighted_f1)\n",
    "    names.extend([name] * len(accuracy))\n",
    "    print('>%s Accuracy: %.3f Weighted F1: %.3f' % (name, accuracy.mean(), weighted_f1.mean()))\n",
    "\n",
    "    # Fit the model with the training data\n",
    "    fitted_model = model.fit(X_train, y_train)\n",
    "\n",
    "    # Save the fitted model as a pickle file\n",
    "    pkl_filename = f\"products/pickle_files/{name}_deploy.pkl\"\n",
    "    with open(pkl_filename, 'wb') as file:\n",
    "        pickle.dump(fitted_model, file)\n",
    "\n",
    "# Store the fitted model in the final_models dictionary\n",
    "    final_models[name] = fitted_model"
   ]
  }
 ],
 "metadata": {
  "kernelspec": {
   "display_name": "Python 3",
   "language": "python",
   "name": "python3"
  },
  "language_info": {
   "codemirror_mode": {
    "name": "ipython",
    "version": 3
   },
   "file_extension": ".py",
   "mimetype": "text/x-python",
   "name": "python",
   "nbconvert_exporter": "python",
   "pygments_lexer": "ipython3",
   "version": "3.10.11"
  }
 },
 "nbformat": 4,
 "nbformat_minor": 4
}
